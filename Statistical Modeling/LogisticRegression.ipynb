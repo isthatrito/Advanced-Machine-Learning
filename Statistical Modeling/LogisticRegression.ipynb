{
 "cells": [
  {
   "cell_type": "markdown",
   "metadata": {},
   "source": [
    "# Logistic Regression for Machine Learning\n",
    "*Curtis Miller*\n",
    "\n",
    "**Logistic regression** (also referred to as **logit models**) is a form of regression that, given an observation's features, produces probabilities predicting whether an observation belongs to a certain class. While common in machine learning, they are popular statistical models in general, appearing in fields such as economics, medicine, etc.\n",
    "\n",
    "After fitting a logit model, we make predictions using the probability produced by the model that an observation belongs to a certain class. We may decide to for an observationt to predict the class to which it is most likely to belong; in other words, if the probability an observation to a class is greater than 0.5, we predict it belongs to that class. (In principle we could choose a different threshold than 0.5.)\n",
    "\n",
    "Logit models are considered linear models, but by changing the features the model uses we may express non-linear relationships.\n",
    "\n",
    "Logit models are implemented in **scikit-learn** in the `LogisticRegression` class.\n",
    "\n",
    "Again we will work with the *Titanic* dataset. We will make the transformations needed when fittiing a SVM."
   ]
  },
  {
   "cell_type": "code",
   "execution_count": null,
   "metadata": {
    "collapsed": true
   },
   "outputs": [],
   "source": [
    "import pandas as pd\n",
    "from pandas import DataFrame\n",
    "from sklearn.model_selection import train_test_split, cross_validate\n",
    "from sklearn.metrics import classification_report"
   ]
  },
  {
   "cell_type": "code",
   "execution_count": null,
   "metadata": {},
   "outputs": [],
   "source": [
    "titanic = pd.read_csv(\"titanic.csv\")\n",
    "titanic.replace({'Sex': {'male': 0, 'female': 1}}, inplace=True)\n",
    "titanic.drop(\"Name\", axis=1, inplace=True)\n",
    "titanic = titanic.join(pd.get_dummies(titanic.Pclass, prefix='Pclass')).drop(\"Pclass\", axis=1)\n",
    "titanic_train, titanic_test = train_test_split(titanic)\n",
    "titanic_train.head()"
   ]
  },
  {
   "cell_type": "markdown",
   "metadata": {},
   "source": [
    "## Fitting a Logit Model\n",
    "\n",
    "Fitting logit models is similar to what we've seen before."
   ]
  },
  {
   "cell_type": "code",
   "execution_count": null,
   "metadata": {
    "collapsed": true
   },
   "outputs": [],
   "source": [
    "from sklearn.linear_model import LogisticRegression"
   ]
  },
  {
   "cell_type": "code",
   "execution_count": null,
   "metadata": {},
   "outputs": [],
   "source": [
    "logit = LogisticRegression()\n",
    "logit.fit(X=titanic_train.drop(\"Survived\", axis=1),\n",
    "          y=titanic_train.Survived)\n",
    "logit.predict([[0, 26, 0, 0, 30, 0, 1, 0]])     # Example prediction"
   ]
  },
  {
   "cell_type": "code",
   "execution_count": null,
   "metadata": {},
   "outputs": [],
   "source": [
    "logit.predict_proba([[0, 26, 0, 0, 30, 0, 1, 0]])    # What is the probability of belonging to certain classes?"
   ]
  },
  {
   "cell_type": "code",
   "execution_count": null,
   "metadata": {},
   "outputs": [],
   "source": [
    "print(classification_report(titanic_train.Survived, logit.predict(titanic_train.drop(\"Survived\", axis=1))))"
   ]
  },
  {
   "cell_type": "markdown",
   "metadata": {},
   "source": [
    "Let's see the logit model's performance on test data."
   ]
  },
  {
   "cell_type": "code",
   "execution_count": null,
   "metadata": {},
   "outputs": [],
   "source": [
    "print(classification_report(titanic_test.Survived, logit.predict(titanic_test.drop(\"Survived\", axis=1))))"
   ]
  }
 ],
 "metadata": {
  "kernelspec": {
   "display_name": "Python 3",
   "language": "python",
   "name": "python3"
  },
  "language_info": {
   "codemirror_mode": {
    "name": "ipython",
    "version": 3
   },
   "file_extension": ".py",
   "mimetype": "text/x-python",
   "name": "python",
   "nbconvert_exporter": "python",
   "pygments_lexer": "ipython3",
   "version": "3.6.5"
  }
 },
 "nbformat": 4,
 "nbformat_minor": 2
}
