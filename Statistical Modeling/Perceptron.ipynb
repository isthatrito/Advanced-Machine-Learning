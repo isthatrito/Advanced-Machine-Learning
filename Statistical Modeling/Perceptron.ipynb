{
 "cells": [
  {
   "cell_type": "markdown",
   "metadata": {},
   "source": [
    "# The Perceptron\n",
    "*Curtis Miller*\n",
    "\n",
    "The **perceptron** is an online (in the sense that learning theoretically never ends) learning algorithm. It is a linear classifier like SVMs, but:\n",
    "\n",
    "* The perceptron does not seek to maximize the margin separating different classes (a characteristic of SVMs)\n",
    "* SVMs support only batch learning (train once, then deploy), while perceptrons support online learning (feedback can be used to update the algorithm)\n",
    "\n",
    "Perceptrons serve as a building block for neural networks and so should be understood first.\n",
    "\n",
    "In **scikit-learn**, the `Perceptron` object supports training perceptrons, including allowing for online learning. We will apply perceptrons (which are binary classifiers) to predicting the species of iris flowers. (Perceptrons support multiclass learning via the one-vs-all approach.)\n",
    "\n",
    "## Creating and Training a Perceptron\n",
    "\n",
    "Here we will actually create *two* test sets. One test set is interpreted as *the* test set, while the other holdout will be used to demonstrate online learning."
   ]
  },
  {
   "cell_type": "code",
   "execution_count": null,
   "metadata": {
    "collapsed": true
   },
   "outputs": [],
   "source": [
    "from sklearn.linear_model import Perceptron\n",
    "from sklearn.model_selection import train_test_split\n",
    "from sklearn.metrics import accuracy_score\n",
    "from sklearn.datasets import load_iris"
   ]
  },
  {
   "cell_type": "code",
   "execution_count": null,
   "metadata": {},
   "outputs": [],
   "source": [
    "iris_obj = load_iris()\n",
    "data_train, data_test, species_train, species_test = train_test_split(iris_obj.data, iris_obj.target)\n",
    "data_in, data_out, species_in, species_out = train_test_split(data_train, species_train, test_size=.1)\n",
    "data_in[:5,]"
   ]
  },
  {
   "cell_type": "code",
   "execution_count": null,
   "metadata": {},
   "outputs": [],
   "source": [
    "species_in[:5]"
   ]
  },
  {
   "cell_type": "code",
   "execution_count": null,
   "metadata": {},
   "outputs": [],
   "source": [
    "perc = Perceptron()\n",
    "perc = perc.fit(data_in, species_in)    # Train first using one set of data\n",
    "\n",
    "species_pred_in = perc.predict(data_in)\n",
    "accuracy_score(species_pred_in, species_in)"
   ]
  },
  {
   "cell_type": "markdown",
   "metadata": {},
   "source": [
    "## Online Learning\n",
    "\n",
    "Let's now see what online learning may look like. We will use the remaining data in the training data to update the perceptron we trained."
   ]
  },
  {
   "cell_type": "code",
   "execution_count": null,
   "metadata": {},
   "outputs": [],
   "source": [
    "species_pred_out = perc.predict(data_out)    # Seeing performance on some out-of-sample data\n",
    "accuracy_score(species_pred_out, species_out)"
   ]
  },
  {
   "cell_type": "code",
   "execution_count": null,
   "metadata": {
    "collapsed": true
   },
   "outputs": [],
   "source": [
    "perc = perc.partial_fit(data_out, species_out)"
   ]
  },
  {
   "cell_type": "code",
   "execution_count": null,
   "metadata": {},
   "outputs": [],
   "source": [
    "species_pred_out = perc.predict(data_out)    # Seeing performance on some out-of-sample data\n",
    "accuracy_score(species_pred_out, species_out)"
   ]
  },
  {
   "cell_type": "code",
   "execution_count": null,
   "metadata": {},
   "outputs": [],
   "source": [
    "species_pred_train = perc.predict(data_train)    # The performance on the entire training sample\n",
    "accuracy_score(species_pred_train, species_train)"
   ]
  },
  {
   "cell_type": "markdown",
   "metadata": {},
   "source": [
    "Now we finally see out-of-sample results."
   ]
  },
  {
   "cell_type": "code",
   "execution_count": null,
   "metadata": {},
   "outputs": [],
   "source": [
    "species_pred_test = perc.predict(data_test)\n",
    "accuracy_score(species_pred_test, species_test)"
   ]
  },
  {
   "cell_type": "markdown",
   "metadata": {},
   "source": [
    "We can see two advantages to online learning. One is that we can use feedback to improve our algorithm in real time. The other is that online learning scales well to very large datasets, since not all data needs to be in memory to train the algorithm."
   ]
  }
 ],
 "metadata": {
  "kernelspec": {
   "display_name": "Python 3",
   "language": "python",
   "name": "python3"
  },
  "language_info": {
   "codemirror_mode": {
    "name": "ipython",
    "version": 3
   },
   "file_extension": ".py",
   "mimetype": "text/x-python",
   "name": "python",
   "nbconvert_exporter": "python",
   "pygments_lexer": "ipython3",
   "version": "3.6.2"
  }
 },
 "nbformat": 4,
 "nbformat_minor": 2
}
