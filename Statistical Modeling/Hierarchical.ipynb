{
 "cells": [
  {
   "cell_type": "markdown",
   "metadata": {},
   "source": [
    "# Hierarchical Clustering\n",
    "*Curtis Miller*\n",
    "\n",
    "Here I demonstrate clustering using hierarchical clustering (also known as agglomerative clustering).\n",
    "\n",
    "Hierarchical clustering starts by assigning each datapoint to a unique cluster. The algorithm then merges clusters to form bigger clusters, using some rule to decide which clusters are \"close\" to one another and thus should be merged. The algorithm repeats until there is one supercluster containing all data, but within the cluster are smaller clusters with greater granularity.\n",
    "\n",
    "Choosing the number of clusters to use amounts to how far to traverse down the hierarchical tree grouping data points together.\n",
    "\n",
    "## Aside: Similarity Scores\n",
    "\n",
    "Hierarchical clustering works by grouping \"similar\" data points together. This requires computing what are known as similarity scores. When two data points are very similar this score is high, while if two are very dissimilar this score is low.\n",
    "\n",
    "We will be computing similarity scores for the article titles in `HNHeadlines.txt` (consisting of titles of posts to [Hacker News](https://news.ycombinator.com/)). I load in that dataset as a Series below."
   ]
  },
  {
   "cell_type": "code",
   "execution_count": 1,
   "metadata": {},
   "outputs": [],
   "source": [
    "import pandas as pd"
   ]
  },
  {
   "cell_type": "code",
   "execution_count": 2,
   "metadata": {},
   "outputs": [
    {
     "data": {
      "text/plain": [
       "0\n",
       "0      Uber Co-Founder Travis Kalanick Said to Plan S...\n",
       "1                         Update on Meltdown and Spectre\n",
       "2      Intel Issues Updates to Protect Systems from S...\n",
       "3       Where Pot Entrepreneurs Go When the Banks Say No\n",
       "4                      Announcing the OpenWrt/LEDE merge\n",
       "5                 Transpile Java Bytecode to WebAssembly\n",
       "6                                     iMac Pro's T2 chip\n",
       "7      Productivity in 2017: analyzing 225 million ho...\n",
       "8      About speculative execution vulnerabilities in...\n",
       "9      “My ten hour white noise video now has five co...\n",
       "10                Site Isolation – The Chromium Projects\n",
       "11     Xerox Alto zero-day: cracking disk password pr...\n",
       "12                     The Best Things and Stuff of 2017\n",
       "13     More details about mitigations for the CPU Spe...\n",
       "14                     In pursuit of Otama's tone (2017)\n",
       "15            Show HN: PAST, a secure alternative to JWT\n",
       "16     Ink/stitch: an Inkscape extension for machine ...\n",
       "17     Texttop – An interactive X Linux desktop rende...\n",
       "18                     Battle of the Clipper Chip (1994)\n",
       "19                          Introducing Preemptible GPUs\n",
       "20     Theo de Raadt, 2007: “some [Intel] bugs will b...\n",
       "21              Wi-Fi startup Eero lays off 30 employees\n",
       "22     Atrium is hiring for 10+ positions (Cofounded ...\n",
       "23     FCC Chairman Ajit Pai canceled his appearance ...\n",
       "24     Algorithm efficiency comes from problem inform...\n",
       "25     How and why we teach non-engineers to use GitH...\n",
       "26                                   The Dex File Format\n",
       "27                        Science and Linguistics (1940)\n",
       "28                     Fighting Fires with Fire Grenades\n",
       "29     XPS 13 developer edition 7th generation available\n",
       "                             ...                        \n",
       "270                   Founders Fund Makes Bet on Bitcoin\n",
       "271          Cibyl: C to Java bytecode translator (2011)\n",
       "272                                         Hiring Sucks\n",
       "273    “[French president] sets out plan including em...\n",
       "274       Life off-grid in San Luis Valley’s high desert\n",
       "275    Kernel memory leaking Intel processor design f...\n",
       "276              Byzantine Agreement, Made Trivial [pdf]\n",
       "277                 X86-64 Speculative Execution Harness\n",
       "278    Nobel economist Angus Deaton: we're asking wro...\n",
       "279    Show HN: Athena – A community-curated reposito...\n",
       "280                                    iMac Pro Teardown\n",
       "281                                          Peak Pharma\n",
       "282    Things Developers Believe About Video Files (P...\n",
       "283    Things No One Ever Told You About Being Succes...\n",
       "284    To Sate China’s Appetite, African Donkeys Are ...\n",
       "285      Eelo: A Google-less Android alternative emerges\n",
       "286                                The Majestic Monolith\n",
       "287     A feature that arXiv should have built years ago\n",
       "288    Inside Silicon Valley’s Secretive, Orgiastic D...\n",
       "289    The Man Who Built Silicon Valley: A Tribute to...\n",
       "290                        C++ Status at the end of 2017\n",
       "291       Scammers gaming India’s overcrowded job market\n",
       "292    Ask HN: What does the richest person you know do?\n",
       "293    Mount St. Helens Is Rumbling Again with 40 Ear...\n",
       "294    Open source software for creating private and ...\n",
       "295        How to Find Arbitrage Opportunities in Python\n",
       "296     Stunning Photo of Earth and Moon from OSIRIS-REx\n",
       "297    Apple's $250B in repatriated cash: Netflix, Di...\n",
       "298                                Bingo #kpti #intelbug\n",
       "299      Adrenalin driver breaks Command & Conquer games\n",
       "Name: 1, Length: 300, dtype: object"
      ]
     },
     "execution_count": 2,
     "metadata": {},
     "output_type": "execute_result"
    }
   ],
   "source": [
    "headlines = pd.read_csv(\"HNHeadlines.txt\", header=None, index_col=0).iloc[:, 0]\n",
    "headlines"
   ]
  },
  {
   "cell_type": "markdown",
   "metadata": {},
   "source": [
    "In natural language processing, a $n$-gram is $n$ characters that appear in sequence in a string. For example, all 3-grams of the word \"library\" are `lib`, `ibr`, `bra`, `rar`, and `ary`. These are often used to generate a feature space from a string based on its contents.\n",
    "\n",
    "I use [NLTK](http://www.nltk.org/) (Natural Language Tool Kit, a Python library for natural language processing) to form 3-grams for every headline in this dataset. (I require all words be lower-case but do not remove non-alphanumeric characters.)"
   ]
  },
  {
   "cell_type": "code",
   "execution_count": 3,
   "metadata": {},
   "outputs": [],
   "source": [
    "from nltk import ngrams"
   ]
  },
  {
   "cell_type": "code",
   "execution_count": 4,
   "metadata": {
    "scrolled": true
   },
   "outputs": [
    {
     "data": {
      "text/plain": [
       "[{' 29',\n",
       "  ' co',\n",
       "  ' ka',\n",
       "  ' of',\n",
       "  ' pl',\n",
       "  ' sa',\n",
       "  ' st',\n",
       "  ' to',\n",
       "  ' tr',\n",
       "  '% o',\n",
       "  '-fo',\n",
       "  '29%',\n",
       "  '9% ',\n",
       "  'aid',\n",
       "  'ake',\n",
       "  'ala',\n",
       "  'ale',\n",
       "  'an ',\n",
       "  'ani',\n",
       "  'avi',\n",
       "  'ber',\n",
       "  'ck ',\n",
       "  'co-',\n",
       "  'd t',\n",
       "  'der',\n",
       "  'e o',\n",
       "  'er ',\n",
       "  'f 2',\n",
       "  'f s',\n",
       "  'fou',\n",
       "  'ick',\n",
       "  'id ',\n",
       "  'is ',\n",
       "  'k s',\n",
       "  'kal',\n",
       "  'lan',\n",
       "  'le ',\n",
       "  'n s',\n",
       "  'nde',\n",
       "  'nic',\n",
       "  'o p',\n",
       "  'o-f',\n",
       "  'of ',\n",
       "  'oun',\n",
       "  'pla',\n",
       "  'r c',\n",
       "  'r t',\n",
       "  'rav',\n",
       "  's k',\n",
       "  'sai',\n",
       "  'sal',\n",
       "  'sta',\n",
       "  'tak',\n",
       "  'to ',\n",
       "  'tra',\n",
       "  'ube',\n",
       "  'und',\n",
       "  'vis'},\n",
       " {' an',\n",
       "  ' me',\n",
       "  ' on',\n",
       "  ' sp',\n",
       "  'and',\n",
       "  'ate',\n",
       "  'ctr',\n",
       "  'd s',\n",
       "  'dat',\n",
       "  'dow',\n",
       "  'e o',\n",
       "  'ect',\n",
       "  'elt',\n",
       "  'ltd',\n",
       "  'mel',\n",
       "  'n a',\n",
       "  'n m',\n",
       "  'nd ',\n",
       "  'on ',\n",
       "  'own',\n",
       "  'pda',\n",
       "  'pec',\n",
       "  'spe',\n",
       "  'tdo',\n",
       "  'te ',\n",
       "  'tre',\n",
       "  'upd',\n",
       "  'wn '},\n",
       " {' ex',\n",
       "  ' fr',\n",
       "  ' is',\n",
       "  ' pr',\n",
       "  ' se',\n",
       "  ' sy',\n",
       "  ' to',\n",
       "  ' up',\n",
       "  'ate',\n",
       "  'ct ',\n",
       "  'cur',\n",
       "  'dat',\n",
       "  'ect',\n",
       "  'ecu',\n",
       "  'el ',\n",
       "  'ems',\n",
       "  'es ',\n",
       "  'exp',\n",
       "  'fro',\n",
       "  'int',\n",
       "  'iss',\n",
       "  'its',\n",
       "  'ity',\n",
       "  'l i',\n",
       "  'loi',\n",
       "  'm s',\n",
       "  'ms ',\n",
       "  'nte',\n",
       "  'o p',\n",
       "  'oit',\n",
       "  'om ',\n",
       "  'ote',\n",
       "  'pda',\n",
       "  'plo',\n",
       "  'pro',\n",
       "  'rit',\n",
       "  'rom',\n",
       "  'rot',\n",
       "  's f',\n",
       "  's t',\n",
       "  's u',\n",
       "  'sec',\n",
       "  'ssu',\n",
       "  'ste',\n",
       "  'sue',\n",
       "  'sys',\n",
       "  't s',\n",
       "  'tec',\n",
       "  'tel',\n",
       "  'tem',\n",
       "  'tes',\n",
       "  'to ',\n",
       "  'ty ',\n",
       "  'ues',\n",
       "  'upd',\n",
       "  'uri',\n",
       "  'xpl',\n",
       "  'y e',\n",
       "  'yst'}]"
      ]
     },
     "execution_count": 4,
     "metadata": {},
     "output_type": "execute_result"
    }
   ],
   "source": [
    "headline_sets = [set(''.join(u) for u in ngrams(h.lower(), 3)) for h in headlines]\n",
    "headline_sets[:3]"
   ]
  },
  {
   "cell_type": "markdown",
   "metadata": {},
   "source": [
    "Now that we have every 3-gram for every headline, let's compute the [Jaccard similarity](https://en.wikipedia.org/wiki/Jaccard_index) for each headline in the dataset. The Jaccard similarity between two sets is the number of elements the two sets have in common divided by the total number of elements in the two sets when merged together (removing duplicates). The Jaccard similarity is a number between 0 and 1, is 1 when both sets are identical, and 0 when the two sets have nothing in common. This is a common measure of similarity.\n",
    "\n",
    "Jaccard similarity is symmetric (the Jaccard similarity between sets $A$ and $B$ is the same as the Jaccard similarity between sets $B$ and $A$; order doesn't matter). We compute what's known as an affinity matrix. Each headline in our dataset will have its own row and column in the matrix, and the entry in the intersection of row $i$ and column $j$ in the matrix will be the Jaccard similarity between headline $i$ and headline $j$. Since the Jaccard similarity is symmetric, this will be the same number as the number stored in the intersection of row $j$ and column $i$ (so the affinity matrix is symmetric).\n",
    "\n",
    "Affinity matrices are necessary for hierarchical clustering. We compute the affinity matrix based on Jaccard similarity for our dataset below."
   ]
  },
  {
   "cell_type": "code",
   "execution_count": 5,
   "metadata": {},
   "outputs": [],
   "source": [
    "import numpy as np"
   ]
  },
  {
   "cell_type": "code",
   "execution_count": 6,
   "metadata": {},
   "outputs": [
    {
     "data": {
      "text/plain": [
       "array([[1.        , 0.01176471, 0.02631579, 0.00980392, 0.02298851],\n",
       "       [0.01176471, 1.        , 0.06097561, 0.01388889, 0.03508772],\n",
       "       [0.02631579, 0.06097561, 1.        , 0.        , 0.        ],\n",
       "       [0.00980392, 0.01388889, 0.        , 1.        , 0.04109589],\n",
       "       [0.02298851, 0.03508772, 0.        , 0.04109589, 1.        ]])"
      ]
     },
     "execution_count": 6,
     "metadata": {},
     "output_type": "execute_result"
    }
   ],
   "source": [
    "sims = np.zeros((len(headlines), len(headlines)))    # Will contain the affinity matrix\n",
    "for i in range(len(headlines)):\n",
    "    for j in range(i, len(headlines)):\n",
    "        h1, h2 = headline_sets[i], headline_sets[j]\n",
    "        js = len(h1.intersection(h2))/len(h1.union(h2))    # Compute the Jaccard similarity for the two documents\n",
    "        sims[i,j] = sims[j,i] = js    # Store the Jaccard similarity in the appropriate entries of the matrix\n",
    "\n",
    "sims[:5, :5]"
   ]
  },
  {
   "cell_type": "markdown",
   "metadata": {},
   "source": [
    "Hierarchical clustering actually works with a distance matrix rather than a similarity matrix. (Distance matrices are similar to similarity matrices but their entries record distance rather than similarity.) It's easy to turn a matrix of Jaccard similarities into a matrix of Jaccard distances; one minus the Jaccard similarity is the Jaccard distance.\n",
    "\n",
    "## Clustering the Iris Dataset\n",
    "\n",
    "I will demonstrate using hierarchical clustering for the iris dataset. I first load in that dataset."
   ]
  },
  {
   "cell_type": "code",
   "execution_count": 7,
   "metadata": {},
   "outputs": [],
   "source": [
    "from sklearn.datasets import load_iris\n",
    "import matplotlib.pyplot as plt\n",
    "%matplotlib inline"
   ]
  },
  {
   "cell_type": "code",
   "execution_count": 8,
   "metadata": {},
   "outputs": [
    {
     "data": {
      "text/plain": [
       "array([[5.1, 3.5, 1.4, 0.2],\n",
       "       [4.9, 3. , 1.4, 0.2],\n",
       "       [4.7, 3.2, 1.3, 0.2],\n",
       "       [4.6, 3.1, 1.5, 0.2],\n",
       "       [5. , 3.6, 1.4, 0.2]])"
      ]
     },
     "execution_count": 8,
     "metadata": {},
     "output_type": "execute_result"
    }
   ],
   "source": [
    "iris_obj = load_iris()\n",
    "iris_data = iris_obj.data\n",
    "species = iris_obj.target\n",
    "iris_data[:5,:]"
   ]
  },
  {
   "cell_type": "code",
   "execution_count": 9,
   "metadata": {},
   "outputs": [
    {
     "data": {
      "image/png": "[encoded data removed]",
      "text/plain": [
       "<Figure size 432x288 with 1 Axes>"
      ]
     },
     "metadata": {},
     "output_type": "display_data"
    }
   ],
   "source": [
    "plt.scatter(iris_data[:, 0], iris_data[:, 1], c=species, cmap=plt.cm.brg)\n",
    "plt.xlabel(\"Sepal Length\")\n",
    "plt.ylabel(\"Sepal Width\")\n",
    "plt.show()"
   ]
  },
  {
   "cell_type": "markdown",
   "metadata": {},
   "source": [
    "Next I import the `AgglomerativeClustering` object to perform hierarchical clustering, and then apply the method."
   ]
  },
  {
   "cell_type": "code",
   "execution_count": 10,
   "metadata": {},
   "outputs": [],
   "source": [
    "from sklearn.cluster import AgglomerativeClustering"
   ]
  },
  {
   "cell_type": "code",
   "execution_count": 11,
   "metadata": {},
   "outputs": [
    {
     "data": {
      "image/png": "[encoded data removed]",
      "text/plain": [
       "<Figure size 432x288 with 1 Axes>"
      ]
     },
     "metadata": {},
     "output_type": "display_data"
    }
   ],
   "source": [
    "irisclust1 = AgglomerativeClustering(n_clusters=3,            # Three clusters\n",
    "                                     affinity=\"euclidean\",    # \"Closeness\" is defined using Euclidean distance\n",
    "                                     linkage=\"average\")       # A cluster's location is based on the average of its member points\n",
    "irisclust1 = irisclust1.fit(iris_data)\n",
    "\n",
    "# Visualizing the clustering\n",
    "plt.scatter(iris_data[:, 0], iris_data[:, 1], c=irisclust1.labels_, cmap=plt.cm.brg)\n",
    "plt.xlabel(\"Sepal Length\")\n",
    "plt.ylabel(\"Sepal Width\")\n",
    "plt.show()"
   ]
  },
  {
   "cell_type": "markdown",
   "metadata": {},
   "source": [
    "Choosing different affinity and linkage schemes yields different results."
   ]
  },
  {
   "cell_type": "code",
   "execution_count": 12,
   "metadata": {},
   "outputs": [
    {
     "data": {
      "image/png": "[encoded data removed]",
      "text/plain": [
       "<Figure size 432x288 with 1 Axes>"
      ]
     },
     "metadata": {},
     "output_type": "display_data"
    }
   ],
   "source": [
    "irisclust2 = AgglomerativeClustering(n_clusters=3,            # Three clusters with cluster centers chosen as random dataset\n",
    "                                                              # points\n",
    "                                     affinity=\"manhattan\",    # \"Closeness\" is defined using Manhattan distance\n",
    "                                     linkage=\"complete\")      # A cluster's location is based on the maximum distance among\n",
    "                                                              # member points\n",
    "irisclust1 = irisclust2.fit(iris_data)\n",
    "\n",
    "# Visualizing the clustering\n",
    "plt.scatter(iris_data[:, 0], iris_data[:, 1], c=irisclust2.labels_, cmap=plt.cm.brg)\n",
    "plt.xlabel(\"Sepal Length\")\n",
    "plt.ylabel(\"Sepal Width\")\n",
    "plt.show()"
   ]
  },
  {
   "cell_type": "markdown",
   "metadata": {},
   "source": [
    "Hierarchical clustering produces nice results but does not allow for \"prediction\". That is, it doesn't take new , never-before-seen datapoints and assign them to a cluster.\n",
    "\n",
    "## Clustering Headlines\n",
    "\n",
    "I now demonstrate clustering for the headlines dataset. Before, `AgglomerativeClustering` was generating an affinity matrix automatically using the specified distance metric. Now we provide it a precomputed affinity matrix to use. We will cluster the dataset into ten clusters."
   ]
  },
  {
   "cell_type": "code",
   "execution_count": 13,
   "metadata": {},
   "outputs": [
    {
     "data": {
      "text/plain": [
       "array([1, 0, 1, 1, 1, 1, 0, 1, 1, 1, 1, 1, 1, 1, 3, 1, 1, 1, 1, 1, 1, 4,\n",
       "       1, 1, 1, 1, 1, 1, 1, 1, 1, 2, 1, 1, 1, 1, 1, 0, 5, 3, 1, 1, 1, 1,\n",
       "       1, 1, 1, 1, 1, 2, 1, 3, 1, 1, 1, 1, 1, 1, 1, 1, 1, 1, 1, 1, 1, 1,\n",
       "       1, 1, 1, 1, 1, 9, 0, 1, 1, 1, 1, 1, 1, 1, 1, 1, 1, 1, 1, 1, 1, 1,\n",
       "       1, 1, 0, 1, 1, 1, 8, 1, 1, 1, 1, 8, 1, 1, 1, 1, 1, 1, 1, 1, 1, 0,\n",
       "       1, 1, 1, 1, 1, 1, 1, 1, 1, 0, 1, 1, 1, 1, 9, 1, 1, 1, 1, 1, 1, 1,\n",
       "       1, 1, 3, 1, 0, 1, 1, 0, 1, 1, 1, 1, 1, 1, 1, 1, 1, 4, 1, 2, 1, 1,\n",
       "       1, 1, 1, 1, 6, 1, 4, 1, 1, 1, 1, 1, 1, 1, 2, 1, 1, 1, 1, 1, 1, 1,\n",
       "       1, 1, 1, 1, 1, 1, 1, 3, 1, 1, 3, 4, 1, 1, 1, 1, 1, 1, 1, 1, 1, 1,\n",
       "       1, 1, 1, 3, 1, 1, 1, 1, 1, 1, 1, 1, 0, 1, 1, 1, 1, 1, 1, 1, 1, 1,\n",
       "       1, 1, 1, 1, 1, 1, 1, 1, 1, 1, 1, 4, 1, 1, 1, 1, 1, 1, 1, 1, 1, 3,\n",
       "       1, 1, 3, 1, 1, 1, 1, 1, 1, 1, 1, 1, 1, 1, 1, 1, 2, 1, 1, 1, 1, 1,\n",
       "       1, 1, 0, 1, 1, 1, 1, 1, 1, 1, 1, 1, 3, 1, 1, 1, 0, 7, 1, 1, 1, 1,\n",
       "       1, 1, 1, 1, 1, 1, 1, 1, 1, 4, 1, 1, 1, 1], dtype=int64)"
      ]
     },
     "execution_count": 13,
     "metadata": {},
     "output_type": "execute_result"
    }
   ],
   "source": [
    "headlineclust = AgglomerativeClustering(n_clusters=10, affinity=\"precomputed\", linkage=\"average\")\n",
    "hclusters = headlineclust.fit_predict(1 - sims)    # Here we provide the affinity matrix; fit_predict() both fits and returns the\n",
    "                                               # the assigned clusters\n",
    "hclusters"
   ]
  },
  {
   "cell_type": "markdown",
   "metadata": {},
   "source": [
    "From here we may want to look at metrics such as the silhouette plot to assess the quality of the clustering."
   ]
  },
  {
   "cell_type": "code",
   "execution_count": 16,
   "metadata": {},
   "outputs": [],
   "source": [
    "import matplotlib.cm as cm\n",
    "import matplotlib.pyplot as plt\n",
    "from sklearn.metrics import silhouette_score, silhouette_samples\n",
    "%matplotlib inline\n",
    "\n",
    "def silhouette_plot(data, labels, metric=\"euclidean\", xticks = True):\n",
    "    \"\"\"Creates a silhouette plot given a dataset and the labels corresponding to cluster assignment, and reports the\n",
    "       average silhouette score\"\"\"\n",
    "    silhouette_avg = silhouette_score(data, labels,\n",
    "                                      metric=metric)    # The average silhouette score over the entire sample\n",
    "    sample_silhouette_values = silhouette_samples(data, labels,\n",
    "                                                  metric=metric)    # The silhouette score of each individual data point\n",
    "    \n",
    "    # This loop creates the silhouettes in the silhouette plot\n",
    "    y_lower = 10    # For space between silhouettes\n",
    "    for k in np.unique(labels):\n",
    "        cluster_values = sample_silhouette_values[labels == k]\n",
    "        cluster_values.sort()\n",
    "        nk = len(cluster_values)\n",
    "        y_upper = y_lower + nk\n",
    "        color = cm.Spectral(float(k) / len(np.unique(labels)))\n",
    "        plt.fill_betweenx(np.arange(y_lower, y_upper),\n",
    "                          0, cluster_values,\n",
    "                          facecolor=color, edgecolor=color)\n",
    "        plt.text(-0.05, y_lower + 0.5 * nk, str(k))\n",
    "        y_lower = y_upper + 10\n",
    "    \n",
    "    plt.axvline(x=silhouette_avg, color=\"red\", linestyle=\"--\")\n",
    "    if xticks:\n",
    "        plt.xticks([-0.1, 0, 0.1, 0.2, 0.3, 0.4, 0.5, 0.6, 0.7, 0.8, 0.9, 1.0])\n",
    "    plt.yticks([])\n",
    "    plt.xlabel(\"Silhouette Score\")\n",
    "    plt.ylabel(\"Cluster\")\n",
    "    plt.show()\n",
    "    \n",
    "    print(\"The average silhouette score is\", silhouette_avg)"
   ]
  },
  {
   "cell_type": "code",
   "execution_count": 17,
   "metadata": {
    "scrolled": true
   },
   "outputs": [
    {
     "data": {
      "image/png": "[encoded data removed]",
      "text/plain": [
       "<Figure size 432x288 with 1 Axes>"
      ]
     },
     "metadata": {},
     "output_type": "display_data"
    },
    {
     "name": "stdout",
     "output_type": "stream",
     "text": [
      "The average silhouette score is 0.00017510043783428863\n"
     ]
    }
   ],
   "source": [
    "silhouette_plot(1 - sims, hclusters, metric=\"precomputed\", xticks=False)    # The silhouette plot requires a distance\n",
    "                                                                            # matrix"
   ]
  },
  {
   "cell_type": "code",
   "execution_count": 21,
   "metadata": {},
   "outputs": [
    {
     "data": {
      "text/plain": [
       "0\n",
       "71                                             Frontmacs\n",
       "124    Don't Be Evil: Utopias, Frontiers, and Brogram...\n",
       "Name: 1, dtype: object"
      ]
     },
     "execution_count": 21,
     "metadata": {},
     "output_type": "execute_result"
    }
   ],
   "source": [
    "headlines[hclusters == 9]"
   ]
  },
  {
   "cell_type": "markdown",
   "metadata": {},
   "source": [
    "This plot suggests that the clusters being produced are not particularly great. There is a megacluster that likely contains too many non-similar headlines and it should be broken up. (Negative numbers in silhouette plots, in general, are disturbing.) The good news, though, is that the clusters outside the megacluster are not necessarily bad clusters."
   ]
  }
 ],
 "metadata": {
  "kernelspec": {
   "display_name": "Python 3",
   "language": "python",
   "name": "python3"
  },
  "language_info": {
   "codemirror_mode": {
    "name": "ipython",
    "version": 3
   },
   "file_extension": ".py",
   "mimetype": "text/x-python",
   "name": "python",
   "nbconvert_exporter": "python",
   "pygments_lexer": "ipython3",
   "version": "3.6.5"
  }
 },
 "nbformat": 4,
 "nbformat_minor": 2
}
