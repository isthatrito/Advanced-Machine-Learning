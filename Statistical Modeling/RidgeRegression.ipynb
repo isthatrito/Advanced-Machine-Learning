{
 "cells": [
  {
   "cell_type": "markdown",
   "metadata": {},
   "source": [
    "# Employing Ridge Regression\n",
    "*Curtis Miller*\n",
    "\n",
    "As mentioned before, OLS has a propensity to find spurious fits. **Ridge regression** helps prevent this by introducing regularization parameters, such as $\\alpha$. Larger $\\alpha$ implies more regularization and less overfitting.\n",
    "\n",
    "Ridge regression is implemented via the `Ridge` object provided in **scikit-learn**.\n",
    "\n",
    "We will work with the Boston housing price dataset. In an earlier video we saw that removing some features may lead to better models. We will remove those features here as well."
   ]
  },
  {
   "cell_type": "code",
   "execution_count": 1,
   "metadata": {},
   "outputs": [],
   "source": [
    "from sklearn.datasets import load_boston\n",
    "from sklearn.model_selection import train_test_split\n",
    "import numpy as np"
   ]
  },
  {
   "cell_type": "code",
   "execution_count": 2,
   "metadata": {},
   "outputs": [
    {
     "data": {
      "text/plain": [
       "array([[1.27346e+00, 0.00000e+00, 1.00000e+00, 6.05000e-01, 6.25000e+00,\n",
       "        1.79840e+00, 5.00000e+00, 4.03000e+02, 1.47000e+01, 3.38920e+02,\n",
       "        5.50000e+00],\n",
       "       [3.23700e-02, 0.00000e+00, 0.00000e+00, 4.58000e-01, 6.99800e+00,\n",
       "        6.06220e+00, 3.00000e+00, 2.22000e+02, 1.87000e+01, 3.94630e+02,\n",
       "        2.94000e+00],\n",
       "       [8.24400e-02, 3.00000e+01, 0.00000e+00, 4.28000e-01, 6.48100e+00,\n",
       "        6.18990e+00, 6.00000e+00, 3.00000e+02, 1.66000e+01, 3.79410e+02,\n",
       "        6.36000e+00],\n",
       "       [7.15100e-02, 0.00000e+00, 0.00000e+00, 4.49000e-01, 6.12100e+00,\n",
       "        3.74760e+00, 3.00000e+00, 2.47000e+02, 1.85000e+01, 3.95150e+02,\n",
       "        8.44000e+00],\n",
       "       [1.10690e-01, 0.00000e+00, 1.00000e+00, 5.50000e-01, 5.95100e+00,\n",
       "        2.88930e+00, 5.00000e+00, 2.76000e+02, 1.64000e+01, 3.96900e+02,\n",
       "        1.79200e+01]])"
      ]
     },
     "execution_count": 2,
     "metadata": {},
     "output_type": "execute_result"
    }
   ],
   "source": [
    "boston_obj = load_boston()\n",
    "data_train, data_test, price_train, price_test = train_test_split(boston_obj.data, boston_obj.target)\n",
    "data_train = np.delete(data_train, [2, 6], axis=1)\n",
    "data_test = np.delete(data_test, [2, 6], axis=1)\n",
    "\n",
    "data_train[:5, :]"
   ]
  },
  {
   "cell_type": "markdown",
   "metadata": {},
   "source": [
    "## Fitting With Ridge Regression\n",
    "\n",
    "Ridge regression is implemented in the `Ridge` object supplied by **scikit-learn**."
   ]
  },
  {
   "cell_type": "code",
   "execution_count": 3,
   "metadata": {},
   "outputs": [],
   "source": [
    "from sklearn.linear_model import Ridge\n",
    "from sklearn.metrics import mean_squared_error\n",
    "from sklearn.model_selection import cross_val_score"
   ]
  },
  {
   "cell_type": "code",
   "execution_count": 4,
   "metadata": {},
   "outputs": [
    {
     "data": {
      "text/plain": [
       "array([40.3079661])"
      ]
     },
     "execution_count": 4,
     "metadata": {},
     "output_type": "execute_result"
    }
   ],
   "source": [
    "ridge1 = Ridge(alpha=1)    # alpha is a hyperparameter controlling regularization\n",
    "ridge1.fit(data_train, price_train)\n",
    "ridge1.predict([[    # An example prediction\n",
    "    1,      # Per capita crime rate\n",
    "    25,     # Proportion of land zoned for large homes\n",
    "    1,      # Tract bounds the Charles River\n",
    "    0.3,    # NOX concentration\n",
    "    10,     # Average number of rooms per dwelling\n",
    "    10,     # Weighted distance to employment centers\n",
    "    3,      # Index for highway accessibility\n",
    "    400,    # Tax rate\n",
    "    15,     # Pupil/teacher ratio\n",
    "    200,    # Index for number of blacks\n",
    "    5       # % lower status of population\n",
    "]])"
   ]
  },
  {
   "cell_type": "code",
   "execution_count": 5,
   "metadata": {},
   "outputs": [
    {
     "data": {
      "text/plain": [
       "21.351348759006743"
      ]
     },
     "execution_count": 5,
     "metadata": {},
     "output_type": "execute_result"
    }
   ],
   "source": [
    "predprice = ridge1.predict(data_train)\n",
    "mean_squared_error(price_train, predprice)"
   ]
  },
  {
   "cell_type": "markdown",
   "metadata": {},
   "source": [
    "We can use cross-validation to pick a good value for $\\alpha$. I will use `cross_val_score()` for this work."
   ]
  },
  {
   "cell_type": "code",
   "execution_count": 6,
   "metadata": {},
   "outputs": [],
   "source": [
    "import pandas as pd\n",
    "from pandas import DataFrame"
   ]
  },
  {
   "cell_type": "code",
   "execution_count": 7,
   "metadata": {},
   "outputs": [
    {
     "data": {
      "text/html": [
       "<div>\n",
       "<style scoped>\n",
       "    .dataframe tbody tr th:only-of-type {\n",
       "        vertical-align: middle;\n",
       "    }\n",
       "\n",
       "    .dataframe tbody tr th {\n",
       "        vertical-align: top;\n",
       "    }\n",
       "\n",
       "    .dataframe thead th {\n",
       "        text-align: right;\n",
       "    }\n",
       "</style>\n",
       "<table border=\"1\" class=\"dataframe\">\n",
       "  <thead>\n",
       "    <tr style=\"text-align: right;\">\n",
       "      <th></th>\n",
       "      <th>0.125</th>\n",
       "      <th>0.25</th>\n",
       "      <th>0.5</th>\n",
       "      <th>1.0</th>\n",
       "      <th>2.0</th>\n",
       "      <th>4.0</th>\n",
       "      <th>8.0</th>\n",
       "      <th>16.0</th>\n",
       "      <th>32.0</th>\n",
       "      <th>64.0</th>\n",
       "      <th>128.0</th>\n",
       "    </tr>\n",
       "  </thead>\n",
       "  <tbody>\n",
       "    <tr>\n",
       "      <th>0</th>\n",
       "      <td>-21.136397</td>\n",
       "      <td>-21.174217</td>\n",
       "      <td>-21.239738</td>\n",
       "      <td>-21.335265</td>\n",
       "      <td>-21.439335</td>\n",
       "      <td>-21.512837</td>\n",
       "      <td>-21.543107</td>\n",
       "      <td>-21.581599</td>\n",
       "      <td>-21.734692</td>\n",
       "      <td>-22.127897</td>\n",
       "      <td>-22.870870</td>\n",
       "    </tr>\n",
       "    <tr>\n",
       "      <th>1</th>\n",
       "      <td>-35.295151</td>\n",
       "      <td>-35.369547</td>\n",
       "      <td>-35.482326</td>\n",
       "      <td>-35.613420</td>\n",
       "      <td>-35.691366</td>\n",
       "      <td>-35.608797</td>\n",
       "      <td>-35.290118</td>\n",
       "      <td>-34.770318</td>\n",
       "      <td>-34.242058</td>\n",
       "      <td>-33.991896</td>\n",
       "      <td>-34.178383</td>\n",
       "    </tr>\n",
       "    <tr>\n",
       "      <th>2</th>\n",
       "      <td>-47.688921</td>\n",
       "      <td>-47.722503</td>\n",
       "      <td>-47.790422</td>\n",
       "      <td>-47.916107</td>\n",
       "      <td>-48.120480</td>\n",
       "      <td>-48.419823</td>\n",
       "      <td>-48.838968</td>\n",
       "      <td>-49.409453</td>\n",
       "      <td>-50.166443</td>\n",
       "      <td>-51.200846</td>\n",
       "      <td>-52.684054</td>\n",
       "    </tr>\n",
       "    <tr>\n",
       "      <th>3</th>\n",
       "      <td>-14.234170</td>\n",
       "      <td>-14.217945</td>\n",
       "      <td>-14.196529</td>\n",
       "      <td>-14.173981</td>\n",
       "      <td>-14.152665</td>\n",
       "      <td>-14.130729</td>\n",
       "      <td>-14.124144</td>\n",
       "      <td>-14.205387</td>\n",
       "      <td>-14.511105</td>\n",
       "      <td>-15.171413</td>\n",
       "      <td>-16.178626</td>\n",
       "    </tr>\n",
       "    <tr>\n",
       "      <th>4</th>\n",
       "      <td>-36.501400</td>\n",
       "      <td>-36.581716</td>\n",
       "      <td>-36.702679</td>\n",
       "      <td>-36.844673</td>\n",
       "      <td>-36.940679</td>\n",
       "      <td>-36.893613</td>\n",
       "      <td>-36.636722</td>\n",
       "      <td>-36.197699</td>\n",
       "      <td>-35.740667</td>\n",
       "      <td>-35.559596</td>\n",
       "      <td>-35.988827</td>\n",
       "    </tr>\n",
       "    <tr>\n",
       "      <th>5</th>\n",
       "      <td>-21.158588</td>\n",
       "      <td>-21.178485</td>\n",
       "      <td>-21.219770</td>\n",
       "      <td>-21.292714</td>\n",
       "      <td>-21.395285</td>\n",
       "      <td>-21.523307</td>\n",
       "      <td>-21.728595</td>\n",
       "      <td>-22.172775</td>\n",
       "      <td>-23.078143</td>\n",
       "      <td>-24.541200</td>\n",
       "      <td>-26.347936</td>\n",
       "    </tr>\n",
       "    <tr>\n",
       "      <th>6</th>\n",
       "      <td>-20.030027</td>\n",
       "      <td>-19.956883</td>\n",
       "      <td>-19.857809</td>\n",
       "      <td>-19.750478</td>\n",
       "      <td>-19.651889</td>\n",
       "      <td>-19.548398</td>\n",
       "      <td>-19.404620</td>\n",
       "      <td>-19.218301</td>\n",
       "      <td>-19.107265</td>\n",
       "      <td>-19.356012</td>\n",
       "      <td>-20.194475</td>\n",
       "    </tr>\n",
       "    <tr>\n",
       "      <th>7</th>\n",
       "      <td>-10.969761</td>\n",
       "      <td>-11.003824</td>\n",
       "      <td>-11.079949</td>\n",
       "      <td>-11.223218</td>\n",
       "      <td>-11.436194</td>\n",
       "      <td>-11.694832</td>\n",
       "      <td>-11.988998</td>\n",
       "      <td>-12.348718</td>\n",
       "      <td>-12.836282</td>\n",
       "      <td>-13.522750</td>\n",
       "      <td>-14.393156</td>\n",
       "    </tr>\n",
       "    <tr>\n",
       "      <th>8</th>\n",
       "      <td>-12.562399</td>\n",
       "      <td>-12.441207</td>\n",
       "      <td>-12.280951</td>\n",
       "      <td>-12.123326</td>\n",
       "      <td>-12.029545</td>\n",
       "      <td>-12.037861</td>\n",
       "      <td>-12.165042</td>\n",
       "      <td>-12.444006</td>\n",
       "      <td>-12.934736</td>\n",
       "      <td>-13.673027</td>\n",
       "      <td>-14.549999</td>\n",
       "    </tr>\n",
       "    <tr>\n",
       "      <th>9</th>\n",
       "      <td>-13.282412</td>\n",
       "      <td>-13.188090</td>\n",
       "      <td>-13.066362</td>\n",
       "      <td>-12.946314</td>\n",
       "      <td>-12.854185</td>\n",
       "      <td>-12.780166</td>\n",
       "      <td>-12.707226</td>\n",
       "      <td>-12.678688</td>\n",
       "      <td>-12.840152</td>\n",
       "      <td>-13.426312</td>\n",
       "      <td>-14.650781</td>\n",
       "    </tr>\n",
       "  </tbody>\n",
       "</table>\n",
       "</div>"
      ],
      "text/plain": [
       "     0.125      0.250      0.500      1.000      2.000      4.000    \\\n",
       "0 -21.136397 -21.174217 -21.239738 -21.335265 -21.439335 -21.512837   \n",
       "1 -35.295151 -35.369547 -35.482326 -35.613420 -35.691366 -35.608797   \n",
       "2 -47.688921 -47.722503 -47.790422 -47.916107 -48.120480 -48.419823   \n",
       "3 -14.234170 -14.217945 -14.196529 -14.173981 -14.152665 -14.130729   \n",
       "4 -36.501400 -36.581716 -36.702679 -36.844673 -36.940679 -36.893613   \n",
       "5 -21.158588 -21.178485 -21.219770 -21.292714 -21.395285 -21.523307   \n",
       "6 -20.030027 -19.956883 -19.857809 -19.750478 -19.651889 -19.548398   \n",
       "7 -10.969761 -11.003824 -11.079949 -11.223218 -11.436194 -11.694832   \n",
       "8 -12.562399 -12.441207 -12.280951 -12.123326 -12.029545 -12.037861   \n",
       "9 -13.282412 -13.188090 -13.066362 -12.946314 -12.854185 -12.780166   \n",
       "\n",
       "     8.000      16.000     32.000     64.000     128.000  \n",
       "0 -21.543107 -21.581599 -21.734692 -22.127897 -22.870870  \n",
       "1 -35.290118 -34.770318 -34.242058 -33.991896 -34.178383  \n",
       "2 -48.838968 -49.409453 -50.166443 -51.200846 -52.684054  \n",
       "3 -14.124144 -14.205387 -14.511105 -15.171413 -16.178626  \n",
       "4 -36.636722 -36.197699 -35.740667 -35.559596 -35.988827  \n",
       "5 -21.728595 -22.172775 -23.078143 -24.541200 -26.347936  \n",
       "6 -19.404620 -19.218301 -19.107265 -19.356012 -20.194475  \n",
       "7 -11.988998 -12.348718 -12.836282 -13.522750 -14.393156  \n",
       "8 -12.165042 -12.444006 -12.934736 -13.673027 -14.549999  \n",
       "9 -12.707226 -12.678688 -12.840152 -13.426312 -14.650781  "
      ]
     },
     "execution_count": 7,
     "metadata": {},
     "output_type": "execute_result"
    }
   ],
   "source": [
    "alpha = [.125, .25, .5, 1, 2, 4, 8, 16, 32, 64, 128]    # Candidate alphas\n",
    "res = dict()\n",
    "\n",
    "for a in alpha:\n",
    "    ridge2 = Ridge(alpha=a)\n",
    "    res[a] = cross_val_score(ridge2, data_train, price_train, scoring='neg_mean_squared_error', cv = 10)\n",
    "\n",
    "res_df = DataFrame(res)\n",
    "\n",
    "res_df"
   ]
  },
  {
   "cell_type": "code",
   "execution_count": 8,
   "metadata": {},
   "outputs": [
    {
     "data": {
      "text/plain": [
       "0.125     -23.285923\n",
       "0.250     -23.283442\n",
       "0.500     -23.291653\n",
       "1.000     -23.321950\n",
       "2.000     -23.371162\n",
       "4.000     -23.415037\n",
       "8.000     -23.442754\n",
       "16.000    -23.502694\n",
       "32.000    -23.719154\n",
       "64.000    -24.257095\n",
       "128.000   -25.203711\n",
       "dtype: float64"
      ]
     },
     "execution_count": 8,
     "metadata": {},
     "output_type": "execute_result"
    }
   ],
   "source": [
    "res_df.mean()"
   ]
  },
  {
   "cell_type": "markdown",
   "metadata": {},
   "source": [
    "It appears that a small $\\alpha$ leads to smaller MSE. Thus I will choose $\\alpha = 0.125$. Let's now see how ridge regression with this chosen $\\alpha$ performs on the test set."
   ]
  },
  {
   "cell_type": "code",
   "execution_count": 9,
   "metadata": {},
   "outputs": [
    {
     "data": {
      "text/plain": [
       "25.896595152731784"
      ]
     },
     "execution_count": 9,
     "metadata": {},
     "output_type": "execute_result"
    }
   ],
   "source": [
    "ridge3 = Ridge(alpha=0.125)\n",
    "ridge3.fit(data_train, price_train)\n",
    "\n",
    "testpredprice = ridge3.predict(data_test)\n",
    "mean_squared_error(price_test, testpredprice)"
   ]
  },
  {
   "cell_type": "markdown",
   "metadata": {},
   "source": [
    "This is higher than the corresponding MSE obtained via OLS; ridge regression does not appear to be a superior choice."
   ]
  }
 ],
 "metadata": {
  "kernelspec": {
   "display_name": "Python 3",
   "language": "python",
   "name": "python3"
  },
  "language_info": {
   "codemirror_mode": {
    "name": "ipython",
    "version": 3
   },
   "file_extension": ".py",
   "mimetype": "text/x-python",
   "name": "python",
   "nbconvert_exporter": "python",
   "pygments_lexer": "ipython3",
   "version": "3.6.5"
  }
 },
 "nbformat": 4,
 "nbformat_minor": 2
}
