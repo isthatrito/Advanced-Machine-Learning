{
 "cells": [
  {
   "cell_type": "markdown",
   "metadata": {},
   "source": [
    "# Evaluating a Linear Model\n",
    "*Curtis Miller*\n",
    "\n",
    "MSE is a useful metric for seeing the performance of a model, but other metrics can help us decide which model to use.\n",
    "\n",
    "Here we will use **statsmodels** for fitting linear models since the package easily computes the metrics I want to see.\n",
    "\n",
    "Let's load in the Boston housing dataset."
   ]
  },
  {
   "cell_type": "code",
   "execution_count": 1,
   "metadata": {},
   "outputs": [],
   "source": [
    "from sklearn.datasets import load_boston\n",
    "from sklearn.model_selection import train_test_split"
   ]
  },
  {
   "cell_type": "code",
   "execution_count": 2,
   "metadata": {},
   "outputs": [],
   "source": [
    "boston_obj = load_boston()\n",
    "data_train, data_test, price_train, price_test = train_test_split(boston_obj.data, boston_obj.target)"
   ]
  },
  {
   "cell_type": "markdown",
   "metadata": {},
   "source": [
    "## Fitting a Linear Model with OLS in **statsmodels**\n",
    "\n",
    "The `OLS` object in **statsmodels** handles fitting models with OLS. Below I show how to fit the same model for Boston home prices I fitted using **scikit-learn**."
   ]
  },
  {
   "cell_type": "code",
   "execution_count": 3,
   "metadata": {},
   "outputs": [],
   "source": [
    "import statsmodels.api as sm\n",
    "import numpy as np"
   ]
  },
  {
   "cell_type": "code",
   "execution_count": 4,
   "metadata": {},
   "outputs": [
    {
     "data": {
      "text/plain": [
       "array([[1.00000e+00, 7.67202e+00, 0.00000e+00, 1.81000e+01, 0.00000e+00,\n",
       "        6.93000e-01, 5.74700e+00, 9.89000e+01, 1.63340e+00, 2.40000e+01,\n",
       "        6.66000e+02, 2.02000e+01, 3.93100e+02, 1.99200e+01],\n",
       "       [1.00000e+00, 6.91100e-02, 4.50000e+01, 3.44000e+00, 0.00000e+00,\n",
       "        4.37000e-01, 6.73900e+00, 3.08000e+01, 6.47980e+00, 5.00000e+00,\n",
       "        3.98000e+02, 1.52000e+01, 3.89710e+02, 4.69000e+00],\n",
       "       [1.00000e+00, 3.68940e-01, 2.20000e+01, 5.86000e+00, 0.00000e+00,\n",
       "        4.31000e-01, 8.25900e+00, 8.40000e+00, 8.90670e+00, 7.00000e+00,\n",
       "        3.30000e+02, 1.91000e+01, 3.96900e+02, 3.54000e+00],\n",
       "       [1.00000e+00, 7.61620e-01, 2.00000e+01, 3.97000e+00, 0.00000e+00,\n",
       "        6.47000e-01, 5.56000e+00, 6.28000e+01, 1.98650e+00, 5.00000e+00,\n",
       "        2.64000e+02, 1.30000e+01, 3.92400e+02, 1.04500e+01],\n",
       "       [1.00000e+00, 1.51902e+00, 0.00000e+00, 1.95800e+01, 1.00000e+00,\n",
       "        6.05000e-01, 8.37500e+00, 9.39000e+01, 2.16200e+00, 5.00000e+00,\n",
       "        4.03000e+02, 1.47000e+01, 3.88450e+02, 3.32000e+00]])"
      ]
     },
     "execution_count": 4,
     "metadata": {},
     "output_type": "execute_result"
    }
   ],
   "source": [
    "data_train, data_test = sm.add_constant(data_train), sm.add_constant(data_test)    # Necessary to add the intercept\n",
    "data_train[:5, :]"
   ]
  },
  {
   "cell_type": "code",
   "execution_count": 5,
   "metadata": {},
   "outputs": [
    {
     "data": {
      "text/plain": [
       "array([1., 1., 1., 1., 1.])"
      ]
     },
     "execution_count": 5,
     "metadata": {},
     "output_type": "execute_result"
    }
   ],
   "source": [
    "data_train[:5, 0]"
   ]
  },
  {
   "cell_type": "code",
   "execution_count": 6,
   "metadata": {},
   "outputs": [
    {
     "data": {
      "text/plain": [
       "array([ 3.72034520e+01, -1.08373524e-01,  5.32398554e-02,  7.13335371e-02,\n",
       "        3.19363160e+00, -2.13738034e+01,  3.76094998e+00,  3.56314642e-03,\n",
       "       -1.42530066e+00,  2.84001139e-01, -1.12664749e-02, -9.15548827e-01,\n",
       "        7.55580272e-03, -5.13539339e-01])"
      ]
     },
     "execution_count": 6,
     "metadata": {},
     "output_type": "execute_result"
    }
   ],
   "source": [
    "ols1 = sm.OLS(price_train, data_train)    # Target, features\n",
    "model1 = ols1.fit()\n",
    "model1.params    # The parameters of the regression"
   ]
  },
  {
   "cell_type": "code",
   "execution_count": 7,
   "metadata": {},
   "outputs": [
    {
     "data": {
      "text/plain": [
       "array([39.50813578])"
      ]
     },
     "execution_count": 7,
     "metadata": {},
     "output_type": "execute_result"
    }
   ],
   "source": [
    "model1.predict([[    # An example prediction\n",
    "    1,      # Intercept term; always 1\n",
    "    10,     # Per capita crime rate\n",
    "    25,     # Proportion of land zoned for large homes\n",
    "    5,      # Proportion of land zoned for non-retail business\n",
    "    1,      # Tract bounds the Charles River\n",
    "    0.3,    # NOX concentration\n",
    "    10,     # Average number of rooms per dwelling\n",
    "    2,      # Proportion of owner-occupied units built prior to 1940\n",
    "    10,     # Weighted distance to employment centers\n",
    "    3,      # Index for highway accessibility\n",
    "    400,    # Tax rate\n",
    "    15,     # Pupil/teacher ratio\n",
    "    200,    # Index for number of blacks\n",
    "    5       # % lower status of population\n",
    "]])"
   ]
  },
  {
   "cell_type": "markdown",
   "metadata": {},
   "source": [
    "We can get a summary of the model easily in **statsmodels**."
   ]
  },
  {
   "cell_type": "code",
   "execution_count": 8,
   "metadata": {},
   "outputs": [
    {
     "name": "stdout",
     "output_type": "stream",
     "text": [
      "                            OLS Regression Results                            \n",
      "==============================================================================\n",
      "Dep. Variable:                      y   R-squared:                       0.725\n",
      "Model:                            OLS   Adj. R-squared:                  0.715\n",
      "Method:                 Least Squares   F-statistic:                     74.03\n",
      "Date:                Mon, 06 May 2019   Prob (F-statistic):           8.44e-94\n",
      "Time:                        09:12:09   Log-Likelihood:                -1132.3\n",
      "No. Observations:                 379   AIC:                             2293.\n",
      "Df Residuals:                     365   BIC:                             2348.\n",
      "Df Model:                          13                                         \n",
      "Covariance Type:            nonrobust                                         \n",
      "==============================================================================\n",
      "                 coef    std err          t      P>|t|      [0.025      0.975]\n",
      "------------------------------------------------------------------------------\n",
      "const         37.2035      6.003      6.197      0.000      25.399      49.008\n",
      "x1            -0.1084      0.036     -2.998      0.003      -0.179      -0.037\n",
      "x2             0.0532      0.016      3.279      0.001       0.021       0.085\n",
      "x3             0.0713      0.072      0.995      0.320      -0.070       0.212\n",
      "x4             3.1936      0.993      3.217      0.001       1.241       5.146\n",
      "x5           -21.3738      4.716     -4.532      0.000     -30.647     -12.100\n",
      "x6             3.7609      0.493      7.633      0.000       2.792       4.730\n",
      "x7             0.0036      0.016      0.225      0.822      -0.028       0.035\n",
      "x8            -1.4253      0.238     -5.983      0.000      -1.894      -0.957\n",
      "x9             0.2840      0.078      3.630      0.000       0.130       0.438\n",
      "x10           -0.0113      0.004     -2.528      0.012      -0.020      -0.003\n",
      "x11           -0.9155      0.153     -5.972      0.000      -1.217      -0.614\n",
      "x12            0.0076      0.003      2.444      0.015       0.001       0.014\n",
      "x13           -0.5135      0.061     -8.478      0.000      -0.633      -0.394\n",
      "==============================================================================\n",
      "Omnibus:                      117.065   Durbin-Watson:                   2.182\n",
      "Prob(Omnibus):                  0.000   Jarque-Bera (JB):              395.801\n",
      "Skew:                           1.371   Prob(JB):                     1.13e-86\n",
      "Kurtosis:                       7.189   Cond. No.                     1.52e+04\n",
      "==============================================================================\n",
      "\n",
      "Warnings:\n",
      "[1] Standard Errors assume that the covariance matrix of the errors is correctly specified.\n",
      "[2] The condition number is large, 1.52e+04. This might indicate that there are\n",
      "strong multicollinearity or other numerical problems.\n"
     ]
    }
   ],
   "source": [
    "print(model1.summary())"
   ]
  },
  {
   "cell_type": "markdown",
   "metadata": {},
   "source": [
    "Let's parse these results:\n",
    "\n",
    "* `R-squared` (mathematically, $R^2$) describes how much variation in the target variable the model is able to \"explain.\" (Think: predict.) Practitioners prefer `Adj. R-squared` ($\\bar{R}^2$) since this takes into account how many variables are used. (it is impossible for $R^2$ to go down when adding variables even if those variables only contribute noise; $\\bar{R}^2$ doesn't have this property.) Here $\\bar{R}^2$ is somewhat high, suggesting that the model does a reasonable job at predicting home prices.\n",
    "* `F-statistic` is the test statistic for a statistical test to determine if any coefficients in the model are not zero. `Prob (F-statistic)` is the corresponding $p$-value. Here the model clearly has a non-zero coefficient, though the statistic does not say which.\n",
    "* `AIC` is the **Akaike information criterion (AIC)**, and `BIC` the **Bayesian information criterion (BIC)**. These are measures of the quality of statistical models and provide a means to decide between models. Models that lead to smaller AIC and BIC are seen as better.\n",
    "* The table contains the coefficients of the statistical model and the results of $t$-tests to determine if the coefficients are zero or not, in addition to confidence intervals for the coefficient values. We might consider removing features with coefficients not statistically different from zero from our model (but we should also refer to the AIC and BIC statistics when making decisions between models).\n",
    "\n",
    "## Using AIC to Pick Models\n",
    "\n",
    "Let's see how we can use the AIC to decide between different models. (The BIC can be used similarly.) Notice that in our table the third and seventh features don't have coefficients statistically different from zero (these correspond to proportion of non-retail business acres per town and proportion of owner-occupied units built prior to 1940). Does a model without these features do better according to the AIC?"
   ]
  },
  {
   "cell_type": "code",
   "execution_count": 9,
   "metadata": {},
   "outputs": [
    {
     "name": "stdout",
     "output_type": "stream",
     "text": [
      "                            OLS Regression Results                            \n",
      "==============================================================================\n",
      "Dep. Variable:                      y   R-squared:                       0.724\n",
      "Model:                            OLS   Adj. R-squared:                  0.716\n",
      "Method:                 Least Squares   F-statistic:                     87.63\n",
      "Date:                Mon, 06 May 2019   Prob (F-statistic):           1.59e-95\n",
      "Time:                        09:12:09   Log-Likelihood:                -1132.8\n",
      "No. Observations:                 379   AIC:                             2290.\n",
      "Df Residuals:                     367   BIC:                             2337.\n",
      "Df Model:                          11                                         \n",
      "Covariance Type:            nonrobust                                         \n",
      "==============================================================================\n",
      "                 coef    std err          t      P>|t|      [0.025      0.975]\n",
      "------------------------------------------------------------------------------\n",
      "const         36.6868      5.958      6.157      0.000      24.970      48.403\n",
      "x1            -0.1101      0.036     -3.056      0.002      -0.181      -0.039\n",
      "x2             0.0508      0.016      3.198      0.002       0.020       0.082\n",
      "x3             3.3004      0.986      3.348      0.001       1.362       5.239\n",
      "x4           -19.9543      4.401     -4.534      0.000     -28.609     -11.300\n",
      "x5             3.7602      0.477      7.888      0.000       2.823       4.698\n",
      "x6            -1.4893      0.223     -6.686      0.000      -1.927      -1.051\n",
      "x7             0.2612      0.075      3.491      0.001       0.114       0.408\n",
      "x8            -0.0093      0.004     -2.322      0.021      -0.017      -0.001\n",
      "x9            -0.8979      0.152     -5.903      0.000      -1.197      -0.599\n",
      "x10            0.0076      0.003      2.466      0.014       0.002       0.014\n",
      "x11           -0.5025      0.056     -8.990      0.000      -0.612      -0.393\n",
      "==============================================================================\n",
      "Omnibus:                      117.994   Durbin-Watson:                   2.182\n",
      "Prob(Omnibus):                  0.000   Jarque-Bera (JB):              402.926\n",
      "Skew:                           1.378   Prob(JB):                     3.20e-88\n",
      "Kurtosis:                       7.233   Cond. No.                     1.47e+04\n",
      "==============================================================================\n",
      "\n",
      "Warnings:\n",
      "[1] Standard Errors assume that the covariance matrix of the errors is correctly specified.\n",
      "[2] The condition number is large, 1.47e+04. This might indicate that there are\n",
      "strong multicollinearity or other numerical problems.\n"
     ]
    }
   ],
   "source": [
    "ols2 = sm.OLS(price_train, np.delete(data_train, [3, 7], axis=1))\n",
    "model2 = ols2.fit()\n",
    "print(model2.summary())"
   ]
  },
  {
   "cell_type": "markdown",
   "metadata": {},
   "source": [
    "This model has a smaller AIC.\n",
    "\n",
    "The different AIC values can be interpreted this way: If model 1 has $\\text{AIC}_1$ and model 2 $\\text{AIC}_2$ and $\\text{AIC}_2 < \\text{AIC}_1$, then model 1 is $\\exp((\\text{AIC}_2 - \\text{AIC}_1)/2)$ times more likely to minimize information loss than model 2."
   ]
  },
  {
   "cell_type": "code",
   "execution_count": 10,
   "metadata": {},
   "outputs": [
    {
     "data": {
      "text/plain": [
       "0.23044709840835434"
      ]
     },
     "execution_count": 10,
     "metadata": {},
     "output_type": "execute_result"
    }
   ],
   "source": [
    "np.exp((model2.aic - model1.aic)/2)"
   ]
  },
  {
   "cell_type": "markdown",
   "metadata": {},
   "source": [
    "The inverse of that quantity can be interpreted as how much more likely model 2 is to minimize the information loss than model 1."
   ]
  },
  {
   "cell_type": "code",
   "execution_count": 11,
   "metadata": {},
   "outputs": [
    {
     "data": {
      "text/plain": [
       "4.3393907187670075"
      ]
     },
     "execution_count": 11,
     "metadata": {},
     "output_type": "execute_result"
    }
   ],
   "source": [
    "np.exp((model1.aic - model2.aic)/2)"
   ]
  },
  {
   "cell_type": "markdown",
   "metadata": {},
   "source": [
    "So we can see that model 2 should be preferred to model 1.\n",
    "\n",
    "Let's see how model 2 would have done on the test set, evaluating its performance with the MSE."
   ]
  },
  {
   "cell_type": "code",
   "execution_count": 16,
   "metadata": {},
   "outputs": [],
   "source": [
    "from sklearn.metrics import mean_squared_error"
   ]
  },
  {
   "cell_type": "code",
   "execution_count": 17,
   "metadata": {},
   "outputs": [
    {
     "data": {
      "text/plain": [
       "23.10725806084707"
      ]
     },
     "execution_count": 17,
     "metadata": {},
     "output_type": "execute_result"
    }
   ],
   "source": [
    "price_train_pred = model2.predict(np.delete(data_train, [3, 7], axis=1))\n",
    "mean_squared_error(price_train, price_train_pred)     # Performance on the training set"
   ]
  },
  {
   "cell_type": "code",
   "execution_count": 18,
   "metadata": {},
   "outputs": [
    {
     "data": {
      "text/plain": [
       "18.820105467553404"
      ]
     },
     "execution_count": 18,
     "metadata": {},
     "output_type": "execute_result"
    }
   ],
   "source": [
    "price_test_pred = model2.predict(np.delete(data_test, [3, 7], axis=1))\n",
    "mean_squared_error(price_test, price_test_pred)     # Performance on the training set"
   ]
  },
  {
   "cell_type": "markdown",
   "metadata": {},
   "source": [
    "In comparison to model 1..."
   ]
  },
  {
   "cell_type": "code",
   "execution_count": 15,
   "metadata": {},
   "outputs": [
    {
     "data": {
      "text/plain": [
       "19.147546993735563"
      ]
     },
     "execution_count": 15,
     "metadata": {},
     "output_type": "execute_result"
    }
   ],
   "source": [
    "price_test_pred_mod1 = model1.predict(data_test)\n",
    "mean_squared_error(price_test, price_test_pred_mod1)"
   ]
  },
  {
   "cell_type": "markdown",
   "metadata": {},
   "source": [
    "Model 2 did better."
   ]
  }
 ],
 "metadata": {
  "kernelspec": {
   "display_name": "Python 3",
   "language": "python",
   "name": "python3"
  },
  "language_info": {
   "codemirror_mode": {
    "name": "ipython",
    "version": 3
   },
   "file_extension": ".py",
   "mimetype": "text/x-python",
   "name": "python",
   "nbconvert_exporter": "python",
   "pygments_lexer": "ipython3",
   "version": "3.6.5"
  }
 },
 "nbformat": 4,
 "nbformat_minor": 2
}
