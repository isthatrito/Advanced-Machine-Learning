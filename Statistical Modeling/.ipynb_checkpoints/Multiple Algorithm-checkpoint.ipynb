{
 "cells": [
  {
   "cell_type": "code",
   "execution_count": 15,
   "metadata": {},
   "outputs": [],
   "source": [
    "import pandas as pd\n",
    "from pandas import DataFrame\n",
    "from sklearn.model_selection import train_test_split, cross_validate\n",
    "from sklearn.metrics import classification_report\n",
    "from random import seed    # Set random seed for reproducible results"
   ]
  },
  {
   "cell_type": "code",
   "execution_count": 16,
   "metadata": {},
   "outputs": [],
   "source": [
    "seed(110717)    # Set the seed\n",
    "titanic = pd.read_csv(\"titanic.csv\")\n",
    "titanic_train, titanic_test = train_test_split(titanic)"
   ]
  },
  {
   "cell_type": "code",
   "execution_count": 19,
   "metadata": {},
   "outputs": [
    {
     "name": "stderr",
     "output_type": "stream",
     "text": [
      "C:\\ProgramData\\Anaconda3\\lib\\site-packages\\sklearn\\ensemble\\weight_boosting.py:29: DeprecationWarning: numpy.core.umath_tests is an internal NumPy module and should not be imported. It will be removed in a future NumPy release.\n",
      "  from numpy.core.umath_tests import inner1d\n"
     ]
    }
   ],
   "source": [
    "from sklearn.ensemble import RandomForestClassifier"
   ]
  },
  {
   "cell_type": "code",
   "execution_count": 20,
   "metadata": {},
   "outputs": [
    {
     "data": {
      "text/plain": [
       "array([0], dtype=int64)"
      ]
     },
     "execution_count": 20,
     "metadata": {},
     "output_type": "execute_result"
    }
   ],
   "source": [
    "forest1 = RandomForestClassifier(n_estimators=10,    # Number of trees to grow\n",
    "                                 max_depth=5)        # Maximum depth of a tree\n",
    "forest1.fit(X=titanic_train.replace({'Sex': {'male': 0, 'female': 1}}    # Replace strings with numbers\n",
    "                                   ).drop([\"Survived\", \"Name\"], axis=1),\n",
    "            y=titanic_train.Survived)\n",
    "\n",
    "# Example prediction\n",
    "forest1.predict([[2, 0, 26, 0, 0, 30]])"
   ]
  },
  {
   "cell_type": "code",
   "execution_count": 21,
   "metadata": {},
   "outputs": [
    {
     "name": "stdout",
     "output_type": "stream",
     "text": [
      "             precision    recall  f1-score   support\n",
      "\n",
      "          0       0.84      0.94      0.89       418\n",
      "          1       0.88      0.70      0.78       247\n",
      "\n",
      "avg / total       0.86      0.85      0.85       665\n",
      "\n"
     ]
    }
   ],
   "source": [
    "pred1 = forest1.predict(titanic_train.replace({'Sex': {'male': 0, 'female': 1}}\n",
    "                                             ).drop([\"Survived\", \"Name\"], axis=1))\n",
    "print(classification_report(titanic_train.Survived, pred1))"
   ]
  },
  {
   "cell_type": "code",
   "execution_count": 22,
   "metadata": {},
   "outputs": [
    {
     "data": {
      "text/html": [
       "<div>\n",
       "<style scoped>\n",
       "    .dataframe tbody tr th:only-of-type {\n",
       "        vertical-align: middle;\n",
       "    }\n",
       "\n",
       "    .dataframe tbody tr th {\n",
       "        vertical-align: top;\n",
       "    }\n",
       "\n",
       "    .dataframe thead th {\n",
       "        text-align: right;\n",
       "    }\n",
       "</style>\n",
       "<table border=\"1\" class=\"dataframe\">\n",
       "  <thead>\n",
       "    <tr style=\"text-align: right;\">\n",
       "      <th></th>\n",
       "      <th></th>\n",
       "      <th>0</th>\n",
       "      <th>1</th>\n",
       "      <th>2</th>\n",
       "      <th>3</th>\n",
       "      <th>4</th>\n",
       "      <th>5</th>\n",
       "      <th>6</th>\n",
       "      <th>7</th>\n",
       "      <th>8</th>\n",
       "      <th>9</th>\n",
       "    </tr>\n",
       "  </thead>\n",
       "  <tbody>\n",
       "    <tr>\n",
       "      <th>10</th>\n",
       "      <th>test_score</th>\n",
       "      <td>0.820896</td>\n",
       "      <td>0.746269</td>\n",
       "      <td>0.820896</td>\n",
       "      <td>0.791045</td>\n",
       "      <td>0.776119</td>\n",
       "      <td>0.791045</td>\n",
       "      <td>0.895522</td>\n",
       "      <td>0.863636</td>\n",
       "      <td>0.784615</td>\n",
       "      <td>0.861538</td>\n",
       "    </tr>\n",
       "    <tr>\n",
       "      <th>20</th>\n",
       "      <th>test_score</th>\n",
       "      <td>0.791045</td>\n",
       "      <td>0.776119</td>\n",
       "      <td>0.835821</td>\n",
       "      <td>0.820896</td>\n",
       "      <td>0.791045</td>\n",
       "      <td>0.820896</td>\n",
       "      <td>0.850746</td>\n",
       "      <td>0.848485</td>\n",
       "      <td>0.769231</td>\n",
       "      <td>0.861538</td>\n",
       "    </tr>\n",
       "    <tr>\n",
       "      <th>30</th>\n",
       "      <th>test_score</th>\n",
       "      <td>0.805970</td>\n",
       "      <td>0.761194</td>\n",
       "      <td>0.820896</td>\n",
       "      <td>0.805970</td>\n",
       "      <td>0.820896</td>\n",
       "      <td>0.850746</td>\n",
       "      <td>0.820896</td>\n",
       "      <td>0.803030</td>\n",
       "      <td>0.769231</td>\n",
       "      <td>0.846154</td>\n",
       "    </tr>\n",
       "    <tr>\n",
       "      <th>40</th>\n",
       "      <th>test_score</th>\n",
       "      <td>0.791045</td>\n",
       "      <td>0.731343</td>\n",
       "      <td>0.805970</td>\n",
       "      <td>0.835821</td>\n",
       "      <td>0.805970</td>\n",
       "      <td>0.820896</td>\n",
       "      <td>0.865672</td>\n",
       "      <td>0.803030</td>\n",
       "      <td>0.769231</td>\n",
       "      <td>0.830769</td>\n",
       "    </tr>\n",
       "    <tr>\n",
       "      <th>60</th>\n",
       "      <th>test_score</th>\n",
       "      <td>0.820896</td>\n",
       "      <td>0.761194</td>\n",
       "      <td>0.820896</td>\n",
       "      <td>0.805970</td>\n",
       "      <td>0.776119</td>\n",
       "      <td>0.850746</td>\n",
       "      <td>0.865672</td>\n",
       "      <td>0.848485</td>\n",
       "      <td>0.769231</td>\n",
       "      <td>0.830769</td>\n",
       "    </tr>\n",
       "    <tr>\n",
       "      <th>80</th>\n",
       "      <th>test_score</th>\n",
       "      <td>0.791045</td>\n",
       "      <td>0.746269</td>\n",
       "      <td>0.835821</td>\n",
       "      <td>0.805970</td>\n",
       "      <td>0.820896</td>\n",
       "      <td>0.835821</td>\n",
       "      <td>0.865672</td>\n",
       "      <td>0.818182</td>\n",
       "      <td>0.800000</td>\n",
       "      <td>0.830769</td>\n",
       "    </tr>\n",
       "    <tr>\n",
       "      <th>100</th>\n",
       "      <th>test_score</th>\n",
       "      <td>0.820896</td>\n",
       "      <td>0.731343</td>\n",
       "      <td>0.820896</td>\n",
       "      <td>0.805970</td>\n",
       "      <td>0.776119</td>\n",
       "      <td>0.820896</td>\n",
       "      <td>0.880597</td>\n",
       "      <td>0.833333</td>\n",
       "      <td>0.784615</td>\n",
       "      <td>0.846154</td>\n",
       "    </tr>\n",
       "  </tbody>\n",
       "</table>\n",
       "</div>"
      ],
      "text/plain": [
       "                       0         1         2         3         4         5  \\\n",
       "10  test_score  0.820896  0.746269  0.820896  0.791045  0.776119  0.791045   \n",
       "20  test_score  0.791045  0.776119  0.835821  0.820896  0.791045  0.820896   \n",
       "30  test_score  0.805970  0.761194  0.820896  0.805970  0.820896  0.850746   \n",
       "40  test_score  0.791045  0.731343  0.805970  0.835821  0.805970  0.820896   \n",
       "60  test_score  0.820896  0.761194  0.820896  0.805970  0.776119  0.850746   \n",
       "80  test_score  0.791045  0.746269  0.835821  0.805970  0.820896  0.835821   \n",
       "100 test_score  0.820896  0.731343  0.820896  0.805970  0.776119  0.820896   \n",
       "\n",
       "                       6         7         8         9  \n",
       "10  test_score  0.895522  0.863636  0.784615  0.861538  \n",
       "20  test_score  0.850746  0.848485  0.769231  0.861538  \n",
       "30  test_score  0.820896  0.803030  0.769231  0.846154  \n",
       "40  test_score  0.865672  0.803030  0.769231  0.830769  \n",
       "60  test_score  0.865672  0.848485  0.769231  0.830769  \n",
       "80  test_score  0.865672  0.818182  0.800000  0.830769  \n",
       "100 test_score  0.880597  0.833333  0.784615  0.846154  "
      ]
     },
     "execution_count": 22,
     "metadata": {},
     "output_type": "execute_result"
    }
   ],
   "source": [
    "n_candidate = [10, 20, 30, 40, 60, 80, 100]    # Candidate forest sizes\n",
    "res1 = dict()\n",
    "\n",
    "for n in n_candidate:\n",
    "    pred3 = RandomForestClassifier(n_estimators=n, max_depth=5)\n",
    "    res1[n] = cross_validate(pred3,\n",
    "                            X=titanic_train.replace({'Sex': {'male': 0, 'female': 1}}    # Replace strings with numbers\n",
    "                                         ).drop([\"Survived\", \"Name\"], axis=1),\n",
    "                            y=titanic_train.Survived,\n",
    "                            cv=10,\n",
    "                            return_train_score=False,\n",
    "                            scoring='accuracy')\n",
    "\n",
    "res1df = DataFrame({(i, j): res1[i][j]\n",
    "                             for i in res1.keys()\n",
    "                             for j in res1[i].keys()}).T\n",
    "\n",
    "res1df.loc[(slice(None), 'test_score'), :]"
   ]
  },
  {
   "cell_type": "code",
   "execution_count": 23,
   "metadata": {},
   "outputs": [
    {
     "data": {
      "text/plain": [
       "10   test_score    0.815158\n",
       "20   test_score    0.816582\n",
       "30   test_score    0.810498\n",
       "40   test_score    0.805975\n",
       "60   test_score    0.814998\n",
       "80   test_score    0.815044\n",
       "100  test_score    0.812082\n",
       "dtype: float64"
      ]
     },
     "execution_count": 23,
     "metadata": {},
     "output_type": "execute_result"
    }
   ],
   "source": [
    "res1df.loc[(slice(None), 'test_score'), :].mean(axis=1)"
   ]
  },
  {
   "cell_type": "code",
   "execution_count": 26,
   "metadata": {},
   "outputs": [
    {
     "data": {
      "text/plain": [
       "10   test_score    0.815158\n",
       "20   test_score    0.816582\n",
       "30   test_score    0.810498\n",
       "40   test_score    0.805975\n",
       "60   test_score    0.814998\n",
       "80   test_score    0.815044\n",
       "100  test_score    0.812082\n",
       "dtype: float64"
      ]
     },
     "execution_count": 26,
     "metadata": {},
     "output_type": "execute_result"
    }
   ],
   "source": [
    "res1df.loc[(slice(None), 'test_score'), :].mean(axis=1)"
   ]
  },
  {
   "cell_type": "code",
   "execution_count": 27,
   "metadata": {},
   "outputs": [],
   "source": [
    "m_candidate = [1, 2, 3, 4, 5, 6, 7, 8, 9, 10]    # Candidate depths"
   ]
  },
  {
   "cell_type": "code",
   "execution_count": 28,
   "metadata": {},
   "outputs": [
    {
     "data": {
      "text/html": [
       "<div>\n",
       "<style scoped>\n",
       "    .dataframe tbody tr th:only-of-type {\n",
       "        vertical-align: middle;\n",
       "    }\n",
       "\n",
       "    .dataframe tbody tr th {\n",
       "        vertical-align: top;\n",
       "    }\n",
       "\n",
       "    .dataframe thead th {\n",
       "        text-align: right;\n",
       "    }\n",
       "</style>\n",
       "<table border=\"1\" class=\"dataframe\">\n",
       "  <thead>\n",
       "    <tr style=\"text-align: right;\">\n",
       "      <th></th>\n",
       "      <th></th>\n",
       "      <th>0</th>\n",
       "      <th>1</th>\n",
       "      <th>2</th>\n",
       "      <th>3</th>\n",
       "      <th>4</th>\n",
       "      <th>5</th>\n",
       "      <th>6</th>\n",
       "      <th>7</th>\n",
       "      <th>8</th>\n",
       "      <th>9</th>\n",
       "    </tr>\n",
       "  </thead>\n",
       "  <tbody>\n",
       "    <tr>\n",
       "      <th>1</th>\n",
       "      <th>test_score</th>\n",
       "      <td>0.746269</td>\n",
       "      <td>0.716418</td>\n",
       "      <td>0.746269</td>\n",
       "      <td>0.686567</td>\n",
       "      <td>0.746269</td>\n",
       "      <td>0.761194</td>\n",
       "      <td>0.731343</td>\n",
       "      <td>0.833333</td>\n",
       "      <td>0.723077</td>\n",
       "      <td>0.846154</td>\n",
       "    </tr>\n",
       "    <tr>\n",
       "      <th>2</th>\n",
       "      <th>test_score</th>\n",
       "      <td>0.731343</td>\n",
       "      <td>0.731343</td>\n",
       "      <td>0.761194</td>\n",
       "      <td>0.701493</td>\n",
       "      <td>0.805970</td>\n",
       "      <td>0.791045</td>\n",
       "      <td>0.865672</td>\n",
       "      <td>0.833333</td>\n",
       "      <td>0.723077</td>\n",
       "      <td>0.830769</td>\n",
       "    </tr>\n",
       "    <tr>\n",
       "      <th>3</th>\n",
       "      <th>test_score</th>\n",
       "      <td>0.791045</td>\n",
       "      <td>0.761194</td>\n",
       "      <td>0.761194</td>\n",
       "      <td>0.716418</td>\n",
       "      <td>0.761194</td>\n",
       "      <td>0.820896</td>\n",
       "      <td>0.865672</td>\n",
       "      <td>0.803030</td>\n",
       "      <td>0.753846</td>\n",
       "      <td>0.830769</td>\n",
       "    </tr>\n",
       "    <tr>\n",
       "      <th>4</th>\n",
       "      <th>test_score</th>\n",
       "      <td>0.805970</td>\n",
       "      <td>0.761194</td>\n",
       "      <td>0.791045</td>\n",
       "      <td>0.805970</td>\n",
       "      <td>0.820896</td>\n",
       "      <td>0.820896</td>\n",
       "      <td>0.850746</td>\n",
       "      <td>0.833333</td>\n",
       "      <td>0.707692</td>\n",
       "      <td>0.861538</td>\n",
       "    </tr>\n",
       "    <tr>\n",
       "      <th>5</th>\n",
       "      <th>test_score</th>\n",
       "      <td>0.776119</td>\n",
       "      <td>0.791045</td>\n",
       "      <td>0.820896</td>\n",
       "      <td>0.805970</td>\n",
       "      <td>0.776119</td>\n",
       "      <td>0.850746</td>\n",
       "      <td>0.850746</td>\n",
       "      <td>0.833333</td>\n",
       "      <td>0.800000</td>\n",
       "      <td>0.830769</td>\n",
       "    </tr>\n",
       "    <tr>\n",
       "      <th>6</th>\n",
       "      <th>test_score</th>\n",
       "      <td>0.820896</td>\n",
       "      <td>0.746269</td>\n",
       "      <td>0.865672</td>\n",
       "      <td>0.805970</td>\n",
       "      <td>0.805970</td>\n",
       "      <td>0.820896</td>\n",
       "      <td>0.880597</td>\n",
       "      <td>0.848485</td>\n",
       "      <td>0.753846</td>\n",
       "      <td>0.846154</td>\n",
       "    </tr>\n",
       "    <tr>\n",
       "      <th>7</th>\n",
       "      <th>test_score</th>\n",
       "      <td>0.835821</td>\n",
       "      <td>0.746269</td>\n",
       "      <td>0.835821</td>\n",
       "      <td>0.820896</td>\n",
       "      <td>0.791045</td>\n",
       "      <td>0.791045</td>\n",
       "      <td>0.835821</td>\n",
       "      <td>0.848485</td>\n",
       "      <td>0.784615</td>\n",
       "      <td>0.846154</td>\n",
       "    </tr>\n",
       "    <tr>\n",
       "      <th>8</th>\n",
       "      <th>test_score</th>\n",
       "      <td>0.805970</td>\n",
       "      <td>0.761194</td>\n",
       "      <td>0.880597</td>\n",
       "      <td>0.835821</td>\n",
       "      <td>0.761194</td>\n",
       "      <td>0.805970</td>\n",
       "      <td>0.850746</td>\n",
       "      <td>0.848485</td>\n",
       "      <td>0.738462</td>\n",
       "      <td>0.815385</td>\n",
       "    </tr>\n",
       "    <tr>\n",
       "      <th>9</th>\n",
       "      <th>test_score</th>\n",
       "      <td>0.850746</td>\n",
       "      <td>0.761194</td>\n",
       "      <td>0.865672</td>\n",
       "      <td>0.865672</td>\n",
       "      <td>0.805970</td>\n",
       "      <td>0.835821</td>\n",
       "      <td>0.835821</td>\n",
       "      <td>0.833333</td>\n",
       "      <td>0.753846</td>\n",
       "      <td>0.800000</td>\n",
       "    </tr>\n",
       "    <tr>\n",
       "      <th>10</th>\n",
       "      <th>test_score</th>\n",
       "      <td>0.820896</td>\n",
       "      <td>0.791045</td>\n",
       "      <td>0.865672</td>\n",
       "      <td>0.865672</td>\n",
       "      <td>0.820896</td>\n",
       "      <td>0.805970</td>\n",
       "      <td>0.880597</td>\n",
       "      <td>0.803030</td>\n",
       "      <td>0.738462</td>\n",
       "      <td>0.784615</td>\n",
       "    </tr>\n",
       "  </tbody>\n",
       "</table>\n",
       "</div>"
      ],
      "text/plain": [
       "                      0         1         2         3         4         5  \\\n",
       "1  test_score  0.746269  0.716418  0.746269  0.686567  0.746269  0.761194   \n",
       "2  test_score  0.731343  0.731343  0.761194  0.701493  0.805970  0.791045   \n",
       "3  test_score  0.791045  0.761194  0.761194  0.716418  0.761194  0.820896   \n",
       "4  test_score  0.805970  0.761194  0.791045  0.805970  0.820896  0.820896   \n",
       "5  test_score  0.776119  0.791045  0.820896  0.805970  0.776119  0.850746   \n",
       "6  test_score  0.820896  0.746269  0.865672  0.805970  0.805970  0.820896   \n",
       "7  test_score  0.835821  0.746269  0.835821  0.820896  0.791045  0.791045   \n",
       "8  test_score  0.805970  0.761194  0.880597  0.835821  0.761194  0.805970   \n",
       "9  test_score  0.850746  0.761194  0.865672  0.865672  0.805970  0.835821   \n",
       "10 test_score  0.820896  0.791045  0.865672  0.865672  0.820896  0.805970   \n",
       "\n",
       "                      6         7         8         9  \n",
       "1  test_score  0.731343  0.833333  0.723077  0.846154  \n",
       "2  test_score  0.865672  0.833333  0.723077  0.830769  \n",
       "3  test_score  0.865672  0.803030  0.753846  0.830769  \n",
       "4  test_score  0.850746  0.833333  0.707692  0.861538  \n",
       "5  test_score  0.850746  0.833333  0.800000  0.830769  \n",
       "6  test_score  0.880597  0.848485  0.753846  0.846154  \n",
       "7  test_score  0.835821  0.848485  0.784615  0.846154  \n",
       "8  test_score  0.850746  0.848485  0.738462  0.815385  \n",
       "9  test_score  0.835821  0.833333  0.753846  0.800000  \n",
       "10 test_score  0.880597  0.803030  0.738462  0.784615  "
      ]
     },
     "execution_count": 28,
     "metadata": {},
     "output_type": "execute_result"
    }
   ],
   "source": [
    "res2 = dict()\n",
    "\n",
    "for m in m_candidate:\n",
    "    pred3 = RandomForestClassifier(max_depth=m, n_estimators=40)\n",
    "    res2[m] = cross_validate(pred3,\n",
    "                             X=titanic_train.replace({'Sex': {'male': 0, 'female': 1}}    # Replace strings with numbers\n",
    "                                          ).drop([\"Survived\", \"Name\"], axis=1),\n",
    "                             y=titanic_train.Survived,\n",
    "                             cv=10,\n",
    "                             return_train_score=False,\n",
    "                             scoring='accuracy')\n",
    "\n",
    "res2df = DataFrame({(i, j): res2[i][j]\n",
    "                             for i in res2.keys()\n",
    "                             for j in res2[i].keys()}).T\n",
    "\n",
    "res2df.loc[(slice(None), 'test_score'), :]"
   ]
  },
  {
   "cell_type": "code",
   "execution_count": 29,
   "metadata": {},
   "outputs": [
    {
     "data": {
      "text/plain": [
       "1   test_score    0.753689\n",
       "2   test_score    0.777524\n",
       "3   test_score    0.786526\n",
       "4   test_score    0.805928\n",
       "5   test_score    0.813574\n",
       "6   test_score    0.819475\n",
       "7   test_score    0.813597\n",
       "8   test_score    0.810382\n",
       "9   test_score    0.820808\n",
       "10  test_score    0.817685\n",
       "dtype: float64"
      ]
     },
     "execution_count": 29,
     "metadata": {},
     "output_type": "execute_result"
    }
   ],
   "source": [
    "res2df.loc[(slice(None), 'test_score'), :].mean(axis=1)"
   ]
  },
  {
   "cell_type": "code",
   "execution_count": 30,
   "metadata": {},
   "outputs": [],
   "source": [
    "forest2 = RandomForestClassifier(max_depth=9, n_estimators=40)\n",
    "forest2.fit(X=titanic_train.replace({'Sex': {'male': 0, 'female': 1}}    # Replace strings with numbers\n",
    "                                   ).drop([\"Survived\", \"Name\"], axis=1),\n",
    "            y=titanic_train.Survived)\n",
    "\n",
    "survived_test_predict = forest2.predict(X=titanic_test.replace(\n",
    "    {'Sex': {'male': 0, 'female': 1}}\n",
    ").drop([\"Survived\", \"Name\"], axis=1))"
   ]
  },
  {
   "cell_type": "code",
   "execution_count": 31,
   "metadata": {},
   "outputs": [
    {
     "name": "stdout",
     "output_type": "stream",
     "text": [
      "             precision    recall  f1-score   support\n",
      "\n",
      "          0       0.82      0.94      0.88       127\n",
      "          1       0.90      0.73      0.80        95\n",
      "\n",
      "avg / total       0.85      0.85      0.84       222\n",
      "\n"
     ]
    }
   ],
   "source": [
    "print(classification_report(titanic_test.Survived, survived_test_predict))"
   ]
  },
  {
   "cell_type": "code",
   "execution_count": 32,
   "metadata": {},
   "outputs": [],
   "source": [
    "import pandas as pd\n",
    "from pandas import DataFrame\n",
    "from sklearn.model_selection import train_test_split, cross_validate\n",
    "from sklearn.metrics import classification_report"
   ]
  },
  {
   "cell_type": "code",
   "execution_count": 33,
   "metadata": {},
   "outputs": [
    {
     "data": {
      "text/html": [
       "<div>\n",
       "<style scoped>\n",
       "    .dataframe tbody tr th:only-of-type {\n",
       "        vertical-align: middle;\n",
       "    }\n",
       "\n",
       "    .dataframe tbody tr th {\n",
       "        vertical-align: top;\n",
       "    }\n",
       "\n",
       "    .dataframe thead th {\n",
       "        text-align: right;\n",
       "    }\n",
       "</style>\n",
       "<table border=\"1\" class=\"dataframe\">\n",
       "  <thead>\n",
       "    <tr style=\"text-align: right;\">\n",
       "      <th></th>\n",
       "      <th>Survived</th>\n",
       "      <th>Pclass</th>\n",
       "      <th>Name</th>\n",
       "      <th>Sex</th>\n",
       "      <th>Age</th>\n",
       "      <th>Siblings/Spouses Aboard</th>\n",
       "      <th>Parents/Children Aboard</th>\n",
       "      <th>Fare</th>\n",
       "    </tr>\n",
       "  </thead>\n",
       "  <tbody>\n",
       "    <tr>\n",
       "      <th>0</th>\n",
       "      <td>0</td>\n",
       "      <td>3</td>\n",
       "      <td>Mr. Owen Harris Braund</td>\n",
       "      <td>male</td>\n",
       "      <td>22.0</td>\n",
       "      <td>1</td>\n",
       "      <td>0</td>\n",
       "      <td>7.2500</td>\n",
       "    </tr>\n",
       "    <tr>\n",
       "      <th>1</th>\n",
       "      <td>1</td>\n",
       "      <td>1</td>\n",
       "      <td>Mrs. John Bradley (Florence Briggs Thayer) Cum...</td>\n",
       "      <td>female</td>\n",
       "      <td>38.0</td>\n",
       "      <td>1</td>\n",
       "      <td>0</td>\n",
       "      <td>71.2833</td>\n",
       "    </tr>\n",
       "    <tr>\n",
       "      <th>2</th>\n",
       "      <td>1</td>\n",
       "      <td>3</td>\n",
       "      <td>Miss. Laina Heikkinen</td>\n",
       "      <td>female</td>\n",
       "      <td>26.0</td>\n",
       "      <td>0</td>\n",
       "      <td>0</td>\n",
       "      <td>7.9250</td>\n",
       "    </tr>\n",
       "    <tr>\n",
       "      <th>3</th>\n",
       "      <td>1</td>\n",
       "      <td>1</td>\n",
       "      <td>Mrs. Jacques Heath (Lily May Peel) Futrelle</td>\n",
       "      <td>female</td>\n",
       "      <td>35.0</td>\n",
       "      <td>1</td>\n",
       "      <td>0</td>\n",
       "      <td>53.1000</td>\n",
       "    </tr>\n",
       "    <tr>\n",
       "      <th>4</th>\n",
       "      <td>0</td>\n",
       "      <td>3</td>\n",
       "      <td>Mr. William Henry Allen</td>\n",
       "      <td>male</td>\n",
       "      <td>35.0</td>\n",
       "      <td>0</td>\n",
       "      <td>0</td>\n",
       "      <td>8.0500</td>\n",
       "    </tr>\n",
       "  </tbody>\n",
       "</table>\n",
       "</div>"
      ],
      "text/plain": [
       "   Survived  Pclass                                               Name  \\\n",
       "0         0       3                             Mr. Owen Harris Braund   \n",
       "1         1       1  Mrs. John Bradley (Florence Briggs Thayer) Cum...   \n",
       "2         1       3                              Miss. Laina Heikkinen   \n",
       "3         1       1        Mrs. Jacques Heath (Lily May Peel) Futrelle   \n",
       "4         0       3                            Mr. William Henry Allen   \n",
       "\n",
       "      Sex   Age  Siblings/Spouses Aboard  Parents/Children Aboard     Fare  \n",
       "0    male  22.0                        1                        0   7.2500  \n",
       "1  female  38.0                        1                        0  71.2833  \n",
       "2  female  26.0                        0                        0   7.9250  \n",
       "3  female  35.0                        1                        0  53.1000  \n",
       "4    male  35.0                        0                        0   8.0500  "
      ]
     },
     "execution_count": 33,
     "metadata": {},
     "output_type": "execute_result"
    }
   ],
   "source": [
    "titanic = pd.read_csv(\"titanic.csv\")\n",
    "titanic.head()"
   ]
  },
  {
   "cell_type": "code",
   "execution_count": 35,
   "metadata": {},
   "outputs": [
    {
     "data": {
      "text/plain": [
       "0    (2.0, 81.0]\n",
       "1    (2.0, 81.0]\n",
       "2    (2.0, 81.0]\n",
       "3    (2.0, 81.0]\n",
       "4    (2.0, 81.0]\n",
       "Name: Age, dtype: category\n",
       "Categories (2, interval[float64]): [(-1.0, 2.0] < (2.0, 81.0]]"
      ]
     },
     "execution_count": 35,
     "metadata": {},
     "output_type": "execute_result"
    }
   ],
   "source": [
    "pd.cut(titanic.Age, bins=[-1, 2, titanic.Age.max() + 1]).head()"
   ]
  },
  {
   "cell_type": "code",
   "execution_count": 36,
   "metadata": {},
   "outputs": [
    {
     "data": {
      "text/plain": [
       "0        (0.0, 23.35]\n",
       "1    (23.35, 513.329]\n",
       "2        (0.0, 23.35]\n",
       "3    (23.35, 513.329]\n",
       "4        (0.0, 23.35]\n",
       "Name: Fare, dtype: category\n",
       "Categories (2, interval[float64]): [(0.0, 23.35] < (23.35, 513.329]]"
      ]
     },
     "execution_count": 36,
     "metadata": {},
     "output_type": "execute_result"
    }
   ],
   "source": [
    "pd.cut(titanic.Fare, bins=[0, 23.35, titanic.Fare.max() + 1]).head()"
   ]
  },
  {
   "cell_type": "code",
   "execution_count": 38,
   "metadata": {},
   "outputs": [
    {
     "data": {
      "text/html": [
       "<div>\n",
       "<style scoped>\n",
       "    .dataframe tbody tr th:only-of-type {\n",
       "        vertical-align: middle;\n",
       "    }\n",
       "\n",
       "    .dataframe tbody tr th {\n",
       "        vertical-align: top;\n",
       "    }\n",
       "\n",
       "    .dataframe thead th {\n",
       "        text-align: right;\n",
       "    }\n",
       "</style>\n",
       "<table border=\"1\" class=\"dataframe\">\n",
       "  <thead>\n",
       "    <tr style=\"text-align: right;\">\n",
       "      <th></th>\n",
       "      <th>Survived</th>\n",
       "      <th>Pclass</th>\n",
       "      <th>Sex</th>\n",
       "      <th>Siblings/Spouses Aboard</th>\n",
       "      <th>Parents/Children Aboard</th>\n",
       "      <th>Age_cat</th>\n",
       "      <th>Fare_cat</th>\n",
       "    </tr>\n",
       "  </thead>\n",
       "  <tbody>\n",
       "    <tr>\n",
       "      <th>0</th>\n",
       "      <td>0</td>\n",
       "      <td>3</td>\n",
       "      <td>0</td>\n",
       "      <td>1</td>\n",
       "      <td>0</td>\n",
       "      <td>False</td>\n",
       "      <td>True</td>\n",
       "    </tr>\n",
       "    <tr>\n",
       "      <th>1</th>\n",
       "      <td>1</td>\n",
       "      <td>1</td>\n",
       "      <td>1</td>\n",
       "      <td>1</td>\n",
       "      <td>0</td>\n",
       "      <td>False</td>\n",
       "      <td>False</td>\n",
       "    </tr>\n",
       "    <tr>\n",
       "      <th>2</th>\n",
       "      <td>1</td>\n",
       "      <td>3</td>\n",
       "      <td>1</td>\n",
       "      <td>0</td>\n",
       "      <td>0</td>\n",
       "      <td>False</td>\n",
       "      <td>True</td>\n",
       "    </tr>\n",
       "    <tr>\n",
       "      <th>3</th>\n",
       "      <td>1</td>\n",
       "      <td>1</td>\n",
       "      <td>1</td>\n",
       "      <td>1</td>\n",
       "      <td>0</td>\n",
       "      <td>False</td>\n",
       "      <td>False</td>\n",
       "    </tr>\n",
       "    <tr>\n",
       "      <th>4</th>\n",
       "      <td>0</td>\n",
       "      <td>3</td>\n",
       "      <td>0</td>\n",
       "      <td>0</td>\n",
       "      <td>0</td>\n",
       "      <td>False</td>\n",
       "      <td>True</td>\n",
       "    </tr>\n",
       "  </tbody>\n",
       "</table>\n",
       "</div>"
      ],
      "text/plain": [
       "   Survived  Pclass  Sex  Siblings/Spouses Aboard  Parents/Children Aboard  \\\n",
       "0         0       3    0                        1                        0   \n",
       "1         1       1    1                        1                        0   \n",
       "2         1       3    1                        0                        0   \n",
       "3         1       1    1                        1                        0   \n",
       "4         0       3    0                        0                        0   \n",
       "\n",
       "   Age_cat  Fare_cat  \n",
       "0    False      True  \n",
       "1    False     False  \n",
       "2    False      True  \n",
       "3    False     False  \n",
       "4    False      True  "
      ]
     },
     "execution_count": 38,
     "metadata": {},
     "output_type": "execute_result"
    }
   ],
   "source": [
    "titanic = titanic.assign(Age_cat=(titanic.Age <= 2), Fare_cat=(titanic.Fare <= 23.35))\n",
    "titanic.replace({'Sex': {'male': 0, 'female': 1}}, inplace=True)\n",
    "titanic.drop(['Age', 'Fare', 'Name'], axis=1, inplace=True)\n",
    "titanic.head()"
   ]
  },
  {
   "cell_type": "code",
   "execution_count": 39,
   "metadata": {},
   "outputs": [
    {
     "data": {
      "text/html": [
       "<div>\n",
       "<style scoped>\n",
       "    .dataframe tbody tr th:only-of-type {\n",
       "        vertical-align: middle;\n",
       "    }\n",
       "\n",
       "    .dataframe tbody tr th {\n",
       "        vertical-align: top;\n",
       "    }\n",
       "\n",
       "    .dataframe thead th {\n",
       "        text-align: right;\n",
       "    }\n",
       "</style>\n",
       "<table border=\"1\" class=\"dataframe\">\n",
       "  <thead>\n",
       "    <tr style=\"text-align: right;\">\n",
       "      <th></th>\n",
       "      <th>Survived</th>\n",
       "      <th>Pclass</th>\n",
       "      <th>Sex</th>\n",
       "      <th>Siblings/Spouses Aboard</th>\n",
       "      <th>Parents/Children Aboard</th>\n",
       "      <th>Age_cat</th>\n",
       "      <th>Fare_cat</th>\n",
       "    </tr>\n",
       "  </thead>\n",
       "  <tbody>\n",
       "    <tr>\n",
       "      <th>609</th>\n",
       "      <td>1</td>\n",
       "      <td>3</td>\n",
       "      <td>1</td>\n",
       "      <td>1</td>\n",
       "      <td>0</td>\n",
       "      <td>False</td>\n",
       "      <td>True</td>\n",
       "    </tr>\n",
       "    <tr>\n",
       "      <th>371</th>\n",
       "      <td>0</td>\n",
       "      <td>1</td>\n",
       "      <td>0</td>\n",
       "      <td>0</td>\n",
       "      <td>0</td>\n",
       "      <td>False</td>\n",
       "      <td>False</td>\n",
       "    </tr>\n",
       "    <tr>\n",
       "      <th>846</th>\n",
       "      <td>0</td>\n",
       "      <td>3</td>\n",
       "      <td>0</td>\n",
       "      <td>4</td>\n",
       "      <td>2</td>\n",
       "      <td>False</td>\n",
       "      <td>False</td>\n",
       "    </tr>\n",
       "    <tr>\n",
       "      <th>355</th>\n",
       "      <td>0</td>\n",
       "      <td>2</td>\n",
       "      <td>1</td>\n",
       "      <td>0</td>\n",
       "      <td>0</td>\n",
       "      <td>False</td>\n",
       "      <td>True</td>\n",
       "    </tr>\n",
       "    <tr>\n",
       "      <th>533</th>\n",
       "      <td>0</td>\n",
       "      <td>1</td>\n",
       "      <td>0</td>\n",
       "      <td>0</td>\n",
       "      <td>0</td>\n",
       "      <td>False</td>\n",
       "      <td>False</td>\n",
       "    </tr>\n",
       "  </tbody>\n",
       "</table>\n",
       "</div>"
      ],
      "text/plain": [
       "     Survived  Pclass  Sex  Siblings/Spouses Aboard  Parents/Children Aboard  \\\n",
       "609         1       3    1                        1                        0   \n",
       "371         0       1    0                        0                        0   \n",
       "846         0       3    0                        4                        2   \n",
       "355         0       2    1                        0                        0   \n",
       "533         0       1    0                        0                        0   \n",
       "\n",
       "     Age_cat  Fare_cat  \n",
       "609    False      True  \n",
       "371    False     False  \n",
       "846    False     False  \n",
       "355    False      True  \n",
       "533    False     False  "
      ]
     },
     "execution_count": 39,
     "metadata": {},
     "output_type": "execute_result"
    }
   ],
   "source": [
    "titanic_train, titanic_test = train_test_split(titanic)\n",
    "titanic_train.head()"
   ]
  },
  {
   "cell_type": "code",
   "execution_count": 40,
   "metadata": {},
   "outputs": [],
   "source": [
    "from sklearn.naive_bayes import BernoulliNB"
   ]
  },
  {
   "cell_type": "code",
   "execution_count": 41,
   "metadata": {},
   "outputs": [
    {
     "name": "stdout",
     "output_type": "stream",
     "text": [
      "             precision    recall  f1-score   support\n",
      "\n",
      "          0       0.82      0.78      0.80       411\n",
      "          1       0.67      0.72      0.69       254\n",
      "\n",
      "avg / total       0.76      0.76      0.76       665\n",
      "\n"
     ]
    },
    {
     "name": "stderr",
     "output_type": "stream",
     "text": [
      "C:\\ProgramData\\Anaconda3\\lib\\site-packages\\sklearn\\naive_bayes.py:472: UserWarning: alpha too small will result in numeric errors, setting alpha = 1.0e-10\n",
      "  'setting alpha = %.1e' % _ALPHA_MIN)\n"
     ]
    }
   ],
   "source": [
    "bnb = BernoulliNB(alpha=0,    # Additive smoothing parameter; setting to 0 for no smoothing\n",
    "                  fit_prior=False,     # Don't learn a prior distribution for the label\n",
    "                  class_prior=None)    # Don't have prior distributions for features\n",
    "bnb = bnb.fit(titanic_train.drop(\"Survived\", axis=1), titanic_train.Survived)\n",
    "print(classification_report(titanic_train.Survived, bnb.predict(titanic_train.drop(\"Survived\", axis=1))))"
   ]
  },
  {
   "cell_type": "code",
   "execution_count": 42,
   "metadata": {},
   "outputs": [
    {
     "name": "stdout",
     "output_type": "stream",
     "text": [
      "             precision    recall  f1-score   support\n",
      "\n",
      "          0       0.81      0.78      0.80       134\n",
      "          1       0.69      0.73      0.71        88\n",
      "\n",
      "avg / total       0.76      0.76      0.76       222\n",
      "\n"
     ]
    }
   ],
   "source": [
    "survived_test_predict = bnb.predict(titanic_test.drop(\"Survived\", axis=1))\n",
    "print(classification_report(titanic_test.Survived, survived_test_predict))"
   ]
  },
  {
   "cell_type": "code",
   "execution_count": 43,
   "metadata": {},
   "outputs": [],
   "source": [
    "import pandas as pd\n",
    "from pandas import DataFrame\n",
    "from sklearn.model_selection import train_test_split, cross_validate\n",
    "from sklearn.metrics import classification_report\n",
    "from random import seed"
   ]
  },
  {
   "cell_type": "code",
   "execution_count": 44,
   "metadata": {},
   "outputs": [
    {
     "data": {
      "text/html": [
       "<div>\n",
       "<style scoped>\n",
       "    .dataframe tbody tr th:only-of-type {\n",
       "        vertical-align: middle;\n",
       "    }\n",
       "\n",
       "    .dataframe tbody tr th {\n",
       "        vertical-align: top;\n",
       "    }\n",
       "\n",
       "    .dataframe thead th {\n",
       "        text-align: right;\n",
       "    }\n",
       "</style>\n",
       "<table border=\"1\" class=\"dataframe\">\n",
       "  <thead>\n",
       "    <tr style=\"text-align: right;\">\n",
       "      <th></th>\n",
       "      <th>Survived</th>\n",
       "      <th>Pclass</th>\n",
       "      <th>Sex</th>\n",
       "      <th>Age</th>\n",
       "      <th>Siblings/Spouses Aboard</th>\n",
       "      <th>Parents/Children Aboard</th>\n",
       "      <th>Fare</th>\n",
       "    </tr>\n",
       "  </thead>\n",
       "  <tbody>\n",
       "    <tr>\n",
       "      <th>0</th>\n",
       "      <td>0</td>\n",
       "      <td>3</td>\n",
       "      <td>0</td>\n",
       "      <td>22.0</td>\n",
       "      <td>1</td>\n",
       "      <td>0</td>\n",
       "      <td>7.2500</td>\n",
       "    </tr>\n",
       "    <tr>\n",
       "      <th>1</th>\n",
       "      <td>1</td>\n",
       "      <td>1</td>\n",
       "      <td>1</td>\n",
       "      <td>38.0</td>\n",
       "      <td>1</td>\n",
       "      <td>0</td>\n",
       "      <td>71.2833</td>\n",
       "    </tr>\n",
       "    <tr>\n",
       "      <th>2</th>\n",
       "      <td>1</td>\n",
       "      <td>3</td>\n",
       "      <td>1</td>\n",
       "      <td>26.0</td>\n",
       "      <td>0</td>\n",
       "      <td>0</td>\n",
       "      <td>7.9250</td>\n",
       "    </tr>\n",
       "    <tr>\n",
       "      <th>3</th>\n",
       "      <td>1</td>\n",
       "      <td>1</td>\n",
       "      <td>1</td>\n",
       "      <td>35.0</td>\n",
       "      <td>1</td>\n",
       "      <td>0</td>\n",
       "      <td>53.1000</td>\n",
       "    </tr>\n",
       "    <tr>\n",
       "      <th>4</th>\n",
       "      <td>0</td>\n",
       "      <td>3</td>\n",
       "      <td>0</td>\n",
       "      <td>35.0</td>\n",
       "      <td>0</td>\n",
       "      <td>0</td>\n",
       "      <td>8.0500</td>\n",
       "    </tr>\n",
       "  </tbody>\n",
       "</table>\n",
       "</div>"
      ],
      "text/plain": [
       "   Survived  Pclass  Sex   Age  Siblings/Spouses Aboard  \\\n",
       "0         0       3    0  22.0                        1   \n",
       "1         1       1    1  38.0                        1   \n",
       "2         1       3    1  26.0                        0   \n",
       "3         1       1    1  35.0                        1   \n",
       "4         0       3    0  35.0                        0   \n",
       "\n",
       "   Parents/Children Aboard     Fare  \n",
       "0                        0   7.2500  \n",
       "1                        0  71.2833  \n",
       "2                        0   7.9250  \n",
       "3                        0  53.1000  \n",
       "4                        0   8.0500  "
      ]
     },
     "execution_count": 44,
     "metadata": {},
     "output_type": "execute_result"
    }
   ],
   "source": [
    "seed(110717)\n",
    "\n",
    "titanic = pd.read_csv(\"titanic.csv\")\n",
    "titanic.replace({'Sex': {'male': 0, 'female': 1}}, inplace=True)\n",
    "titanic.drop(\"Name\", axis=1, inplace=True)\n",
    "titanic.head()"
   ]
  },
  {
   "cell_type": "code",
   "execution_count": 45,
   "metadata": {},
   "outputs": [
    {
     "data": {
      "text/html": [
       "<div>\n",
       "<style scoped>\n",
       "    .dataframe tbody tr th:only-of-type {\n",
       "        vertical-align: middle;\n",
       "    }\n",
       "\n",
       "    .dataframe tbody tr th {\n",
       "        vertical-align: top;\n",
       "    }\n",
       "\n",
       "    .dataframe thead th {\n",
       "        text-align: right;\n",
       "    }\n",
       "</style>\n",
       "<table border=\"1\" class=\"dataframe\">\n",
       "  <thead>\n",
       "    <tr style=\"text-align: right;\">\n",
       "      <th></th>\n",
       "      <th>1</th>\n",
       "      <th>2</th>\n",
       "      <th>3</th>\n",
       "    </tr>\n",
       "  </thead>\n",
       "  <tbody>\n",
       "    <tr>\n",
       "      <th>0</th>\n",
       "      <td>0</td>\n",
       "      <td>0</td>\n",
       "      <td>1</td>\n",
       "    </tr>\n",
       "    <tr>\n",
       "      <th>1</th>\n",
       "      <td>1</td>\n",
       "      <td>0</td>\n",
       "      <td>0</td>\n",
       "    </tr>\n",
       "    <tr>\n",
       "      <th>2</th>\n",
       "      <td>0</td>\n",
       "      <td>0</td>\n",
       "      <td>1</td>\n",
       "    </tr>\n",
       "    <tr>\n",
       "      <th>3</th>\n",
       "      <td>1</td>\n",
       "      <td>0</td>\n",
       "      <td>0</td>\n",
       "    </tr>\n",
       "    <tr>\n",
       "      <th>4</th>\n",
       "      <td>0</td>\n",
       "      <td>0</td>\n",
       "      <td>1</td>\n",
       "    </tr>\n",
       "  </tbody>\n",
       "</table>\n",
       "</div>"
      ],
      "text/plain": [
       "   1  2  3\n",
       "0  0  0  1\n",
       "1  1  0  0\n",
       "2  0  0  1\n",
       "3  1  0  0\n",
       "4  0  0  1"
      ]
     },
     "execution_count": 45,
     "metadata": {},
     "output_type": "execute_result"
    }
   ],
   "source": [
    "pd.get_dummies(titanic.Pclass).head()"
   ]
  },
  {
   "cell_type": "code",
   "execution_count": 46,
   "metadata": {},
   "outputs": [
    {
     "data": {
      "text/html": [
       "<div>\n",
       "<style scoped>\n",
       "    .dataframe tbody tr th:only-of-type {\n",
       "        vertical-align: middle;\n",
       "    }\n",
       "\n",
       "    .dataframe tbody tr th {\n",
       "        vertical-align: top;\n",
       "    }\n",
       "\n",
       "    .dataframe thead th {\n",
       "        text-align: right;\n",
       "    }\n",
       "</style>\n",
       "<table border=\"1\" class=\"dataframe\">\n",
       "  <thead>\n",
       "    <tr style=\"text-align: right;\">\n",
       "      <th></th>\n",
       "      <th>Survived</th>\n",
       "      <th>Sex</th>\n",
       "      <th>Age</th>\n",
       "      <th>Siblings/Spouses Aboard</th>\n",
       "      <th>Parents/Children Aboard</th>\n",
       "      <th>Fare</th>\n",
       "      <th>Pclass_1</th>\n",
       "      <th>Pclass_2</th>\n",
       "      <th>Pclass_3</th>\n",
       "    </tr>\n",
       "  </thead>\n",
       "  <tbody>\n",
       "    <tr>\n",
       "      <th>0</th>\n",
       "      <td>0</td>\n",
       "      <td>0</td>\n",
       "      <td>22.0</td>\n",
       "      <td>1</td>\n",
       "      <td>0</td>\n",
       "      <td>7.2500</td>\n",
       "      <td>0</td>\n",
       "      <td>0</td>\n",
       "      <td>1</td>\n",
       "    </tr>\n",
       "    <tr>\n",
       "      <th>1</th>\n",
       "      <td>1</td>\n",
       "      <td>1</td>\n",
       "      <td>38.0</td>\n",
       "      <td>1</td>\n",
       "      <td>0</td>\n",
       "      <td>71.2833</td>\n",
       "      <td>1</td>\n",
       "      <td>0</td>\n",
       "      <td>0</td>\n",
       "    </tr>\n",
       "    <tr>\n",
       "      <th>2</th>\n",
       "      <td>1</td>\n",
       "      <td>1</td>\n",
       "      <td>26.0</td>\n",
       "      <td>0</td>\n",
       "      <td>0</td>\n",
       "      <td>7.9250</td>\n",
       "      <td>0</td>\n",
       "      <td>0</td>\n",
       "      <td>1</td>\n",
       "    </tr>\n",
       "    <tr>\n",
       "      <th>3</th>\n",
       "      <td>1</td>\n",
       "      <td>1</td>\n",
       "      <td>35.0</td>\n",
       "      <td>1</td>\n",
       "      <td>0</td>\n",
       "      <td>53.1000</td>\n",
       "      <td>1</td>\n",
       "      <td>0</td>\n",
       "      <td>0</td>\n",
       "    </tr>\n",
       "    <tr>\n",
       "      <th>4</th>\n",
       "      <td>0</td>\n",
       "      <td>0</td>\n",
       "      <td>35.0</td>\n",
       "      <td>0</td>\n",
       "      <td>0</td>\n",
       "      <td>8.0500</td>\n",
       "      <td>0</td>\n",
       "      <td>0</td>\n",
       "      <td>1</td>\n",
       "    </tr>\n",
       "  </tbody>\n",
       "</table>\n",
       "</div>"
      ],
      "text/plain": [
       "   Survived  Sex   Age  Siblings/Spouses Aboard  Parents/Children Aboard  \\\n",
       "0         0    0  22.0                        1                        0   \n",
       "1         1    1  38.0                        1                        0   \n",
       "2         1    1  26.0                        0                        0   \n",
       "3         1    1  35.0                        1                        0   \n",
       "4         0    0  35.0                        0                        0   \n",
       "\n",
       "      Fare  Pclass_1  Pclass_2  Pclass_3  \n",
       "0   7.2500         0         0         1  \n",
       "1  71.2833         1         0         0  \n",
       "2   7.9250         0         0         1  \n",
       "3  53.1000         1         0         0  \n",
       "4   8.0500         0         0         1  "
      ]
     },
     "execution_count": 46,
     "metadata": {},
     "output_type": "execute_result"
    }
   ],
   "source": [
    "titanic = titanic.join(pd.get_dummies(titanic.Pclass, prefix='Pclass')).drop(\"Pclass\", axis=1)\n",
    "titanic.head()"
   ]
  },
  {
   "cell_type": "code",
   "execution_count": 47,
   "metadata": {},
   "outputs": [
    {
     "data": {
      "text/html": [
       "<div>\n",
       "<style scoped>\n",
       "    .dataframe tbody tr th:only-of-type {\n",
       "        vertical-align: middle;\n",
       "    }\n",
       "\n",
       "    .dataframe tbody tr th {\n",
       "        vertical-align: top;\n",
       "    }\n",
       "\n",
       "    .dataframe thead th {\n",
       "        text-align: right;\n",
       "    }\n",
       "</style>\n",
       "<table border=\"1\" class=\"dataframe\">\n",
       "  <thead>\n",
       "    <tr style=\"text-align: right;\">\n",
       "      <th></th>\n",
       "      <th>Survived</th>\n",
       "      <th>Sex</th>\n",
       "      <th>Age</th>\n",
       "      <th>Siblings/Spouses Aboard</th>\n",
       "      <th>Parents/Children Aboard</th>\n",
       "      <th>Fare</th>\n",
       "      <th>Pclass_1</th>\n",
       "      <th>Pclass_2</th>\n",
       "      <th>Pclass_3</th>\n",
       "    </tr>\n",
       "  </thead>\n",
       "  <tbody>\n",
       "    <tr>\n",
       "      <th>372</th>\n",
       "      <td>0</td>\n",
       "      <td>1</td>\n",
       "      <td>3.0</td>\n",
       "      <td>3</td>\n",
       "      <td>1</td>\n",
       "      <td>21.0750</td>\n",
       "      <td>0</td>\n",
       "      <td>0</td>\n",
       "      <td>1</td>\n",
       "    </tr>\n",
       "    <tr>\n",
       "      <th>790</th>\n",
       "      <td>0</td>\n",
       "      <td>0</td>\n",
       "      <td>25.0</td>\n",
       "      <td>0</td>\n",
       "      <td>0</td>\n",
       "      <td>7.8958</td>\n",
       "      <td>0</td>\n",
       "      <td>0</td>\n",
       "      <td>1</td>\n",
       "    </tr>\n",
       "    <tr>\n",
       "      <th>234</th>\n",
       "      <td>0</td>\n",
       "      <td>1</td>\n",
       "      <td>21.0</td>\n",
       "      <td>0</td>\n",
       "      <td>0</td>\n",
       "      <td>7.5500</td>\n",
       "      <td>0</td>\n",
       "      <td>0</td>\n",
       "      <td>1</td>\n",
       "    </tr>\n",
       "    <tr>\n",
       "      <th>572</th>\n",
       "      <td>0</td>\n",
       "      <td>0</td>\n",
       "      <td>19.0</td>\n",
       "      <td>0</td>\n",
       "      <td>0</td>\n",
       "      <td>14.5000</td>\n",
       "      <td>0</td>\n",
       "      <td>0</td>\n",
       "      <td>1</td>\n",
       "    </tr>\n",
       "    <tr>\n",
       "      <th>270</th>\n",
       "      <td>1</td>\n",
       "      <td>1</td>\n",
       "      <td>41.0</td>\n",
       "      <td>0</td>\n",
       "      <td>1</td>\n",
       "      <td>19.5000</td>\n",
       "      <td>0</td>\n",
       "      <td>1</td>\n",
       "      <td>0</td>\n",
       "    </tr>\n",
       "  </tbody>\n",
       "</table>\n",
       "</div>"
      ],
      "text/plain": [
       "     Survived  Sex   Age  Siblings/Spouses Aboard  Parents/Children Aboard  \\\n",
       "372         0    1   3.0                        3                        1   \n",
       "790         0    0  25.0                        0                        0   \n",
       "234         0    1  21.0                        0                        0   \n",
       "572         0    0  19.0                        0                        0   \n",
       "270         1    1  41.0                        0                        1   \n",
       "\n",
       "        Fare  Pclass_1  Pclass_2  Pclass_3  \n",
       "372  21.0750         0         0         1  \n",
       "790   7.8958         0         0         1  \n",
       "234   7.5500         0         0         1  \n",
       "572  14.5000         0         0         1  \n",
       "270  19.5000         0         1         0  "
      ]
     },
     "execution_count": 47,
     "metadata": {},
     "output_type": "execute_result"
    }
   ],
   "source": [
    "titanic_train, titanic_test = train_test_split(titanic)\n",
    "titanic_train.head()"
   ]
  },
  {
   "cell_type": "code",
   "execution_count": 48,
   "metadata": {},
   "outputs": [],
   "source": [
    "from sklearn.svm import SVC"
   ]
  },
  {
   "cell_type": "code",
   "execution_count": 49,
   "metadata": {},
   "outputs": [
    {
     "data": {
      "text/plain": [
       "array([0], dtype=int64)"
      ]
     },
     "execution_count": 49,
     "metadata": {},
     "output_type": "execute_result"
    }
   ],
   "source": [
    "svm1 = SVC(C=1.0,              # Penalty parameter C\n",
    "           kernel='linear')    # Using a linear kernel\n",
    "svm1.fit(X=titanic_train.drop(\"Survived\", axis=1), y=titanic_train.Survived)\n",
    "\n",
    "svm1.predict([[0, 26, 0, 0, 30, 0, 1, 0]])    # Predicting whether a 26 year old male without family aboard in second\n",
    "                                              # class who paid $30 fare would survive"
   ]
  },
  {
   "cell_type": "code",
   "execution_count": 50,
   "metadata": {},
   "outputs": [
    {
     "name": "stdout",
     "output_type": "stream",
     "text": [
      "             precision    recall  f1-score   support\n",
      "\n",
      "          0       0.83      0.85      0.84       419\n",
      "          1       0.73      0.70      0.71       246\n",
      "\n",
      "avg / total       0.79      0.79      0.79       665\n",
      "\n"
     ]
    }
   ],
   "source": [
    "print(classification_report(titanic_train.Survived, svm1.predict(titanic_train.drop(\"Survived\", axis=1))))"
   ]
  },
  {
   "cell_type": "code",
   "execution_count": 51,
   "metadata": {},
   "outputs": [
    {
     "name": "stdout",
     "output_type": "stream",
     "text": [
      "             precision    recall  f1-score   support\n",
      "\n",
      "          0       0.76      0.85      0.80       126\n",
      "          1       0.77      0.65      0.70        96\n",
      "\n",
      "avg / total       0.76      0.76      0.76       222\n",
      "\n"
     ]
    }
   ],
   "source": [
    "survived_test_predict = svm1.predict(titanic_test.drop(\"Survived\", axis=1))\n",
    "print(classification_report(titanic_test.Survived, survived_test_predict))"
   ]
  },
  {
   "cell_type": "code",
   "execution_count": 52,
   "metadata": {},
   "outputs": [],
   "source": [
    "import pandas as pd\n",
    "from pandas import DataFrame\n",
    "from sklearn.model_selection import train_test_split, cross_validate\n",
    "from sklearn.metrics import classification_report"
   ]
  },
  {
   "cell_type": "code",
   "execution_count": 53,
   "metadata": {},
   "outputs": [
    {
     "data": {
      "text/html": [
       "<div>\n",
       "<style scoped>\n",
       "    .dataframe tbody tr th:only-of-type {\n",
       "        vertical-align: middle;\n",
       "    }\n",
       "\n",
       "    .dataframe tbody tr th {\n",
       "        vertical-align: top;\n",
       "    }\n",
       "\n",
       "    .dataframe thead th {\n",
       "        text-align: right;\n",
       "    }\n",
       "</style>\n",
       "<table border=\"1\" class=\"dataframe\">\n",
       "  <thead>\n",
       "    <tr style=\"text-align: right;\">\n",
       "      <th></th>\n",
       "      <th>Survived</th>\n",
       "      <th>Sex</th>\n",
       "      <th>Age</th>\n",
       "      <th>Siblings/Spouses Aboard</th>\n",
       "      <th>Parents/Children Aboard</th>\n",
       "      <th>Fare</th>\n",
       "      <th>Pclass_1</th>\n",
       "      <th>Pclass_2</th>\n",
       "      <th>Pclass_3</th>\n",
       "    </tr>\n",
       "  </thead>\n",
       "  <tbody>\n",
       "    <tr>\n",
       "      <th>649</th>\n",
       "      <td>0</td>\n",
       "      <td>0</td>\n",
       "      <td>21.0</td>\n",
       "      <td>0</td>\n",
       "      <td>0</td>\n",
       "      <td>8.4333</td>\n",
       "      <td>0</td>\n",
       "      <td>0</td>\n",
       "      <td>1</td>\n",
       "    </tr>\n",
       "    <tr>\n",
       "      <th>150</th>\n",
       "      <td>1</td>\n",
       "      <td>1</td>\n",
       "      <td>22.0</td>\n",
       "      <td>1</td>\n",
       "      <td>0</td>\n",
       "      <td>66.6000</td>\n",
       "      <td>1</td>\n",
       "      <td>0</td>\n",
       "      <td>0</td>\n",
       "    </tr>\n",
       "    <tr>\n",
       "      <th>458</th>\n",
       "      <td>0</td>\n",
       "      <td>0</td>\n",
       "      <td>34.0</td>\n",
       "      <td>0</td>\n",
       "      <td>0</td>\n",
       "      <td>8.0500</td>\n",
       "      <td>0</td>\n",
       "      <td>0</td>\n",
       "      <td>1</td>\n",
       "    </tr>\n",
       "    <tr>\n",
       "      <th>645</th>\n",
       "      <td>0</td>\n",
       "      <td>0</td>\n",
       "      <td>21.0</td>\n",
       "      <td>0</td>\n",
       "      <td>0</td>\n",
       "      <td>7.5500</td>\n",
       "      <td>0</td>\n",
       "      <td>0</td>\n",
       "      <td>1</td>\n",
       "    </tr>\n",
       "    <tr>\n",
       "      <th>475</th>\n",
       "      <td>0</td>\n",
       "      <td>0</td>\n",
       "      <td>22.0</td>\n",
       "      <td>0</td>\n",
       "      <td>0</td>\n",
       "      <td>7.5208</td>\n",
       "      <td>0</td>\n",
       "      <td>0</td>\n",
       "      <td>1</td>\n",
       "    </tr>\n",
       "  </tbody>\n",
       "</table>\n",
       "</div>"
      ],
      "text/plain": [
       "     Survived  Sex   Age  Siblings/Spouses Aboard  Parents/Children Aboard  \\\n",
       "649         0    0  21.0                        0                        0   \n",
       "150         1    1  22.0                        1                        0   \n",
       "458         0    0  34.0                        0                        0   \n",
       "645         0    0  21.0                        0                        0   \n",
       "475         0    0  22.0                        0                        0   \n",
       "\n",
       "        Fare  Pclass_1  Pclass_2  Pclass_3  \n",
       "649   8.4333         0         0         1  \n",
       "150  66.6000         1         0         0  \n",
       "458   8.0500         0         0         1  \n",
       "645   7.5500         0         0         1  \n",
       "475   7.5208         0         0         1  "
      ]
     },
     "execution_count": 53,
     "metadata": {},
     "output_type": "execute_result"
    }
   ],
   "source": [
    "titanic = pd.read_csv(\"titanic.csv\")\n",
    "titanic.replace({'Sex': {'male': 0, 'female': 1}}, inplace=True)\n",
    "titanic.drop(\"Name\", axis=1, inplace=True)\n",
    "titanic = titanic.join(pd.get_dummies(titanic.Pclass, prefix='Pclass')).drop(\"Pclass\", axis=1)\n",
    "titanic_train, titanic_test = train_test_split(titanic)\n",
    "titanic_train.head()"
   ]
  },
  {
   "cell_type": "code",
   "execution_count": 54,
   "metadata": {},
   "outputs": [],
   "source": [
    "from sklearn.linear_model import LogisticRegression"
   ]
  },
  {
   "cell_type": "code",
   "execution_count": 55,
   "metadata": {},
   "outputs": [
    {
     "data": {
      "text/plain": [
       "array([0], dtype=int64)"
      ]
     },
     "execution_count": 55,
     "metadata": {},
     "output_type": "execute_result"
    }
   ],
   "source": [
    "logit = LogisticRegression()\n",
    "logit.fit(X=titanic_train.drop(\"Survived\", axis=1),\n",
    "          y=titanic_train.Survived)\n",
    "logit.predict([[0, 26, 0, 0, 30, 0, 1, 0]])     # Example prediction"
   ]
  },
  {
   "cell_type": "code",
   "execution_count": 56,
   "metadata": {},
   "outputs": [
    {
     "data": {
      "text/plain": [
       "array([[0.6901021, 0.3098979]])"
      ]
     },
     "execution_count": 56,
     "metadata": {},
     "output_type": "execute_result"
    }
   ],
   "source": [
    "logit.predict_proba([[0, 26, 0, 0, 30, 0, 1, 0]])    # What is the probability of belonging to certain classes?"
   ]
  },
  {
   "cell_type": "code",
   "execution_count": 58,
   "metadata": {},
   "outputs": [
    {
     "name": "stdout",
     "output_type": "stream",
     "text": [
      "             precision    recall  f1-score   support\n",
      "\n",
      "          0       0.82      0.88      0.85       409\n",
      "          1       0.78      0.68      0.73       256\n",
      "\n",
      "avg / total       0.80      0.80      0.80       665\n",
      "\n"
     ]
    }
   ],
   "source": [
    "print(classification_report(titanic_train.Survived, logit.predict(titanic_train.drop(\"Survived\", axis=1))))"
   ]
  },
  {
   "cell_type": "code",
   "execution_count": 59,
   "metadata": {},
   "outputs": [
    {
     "name": "stdout",
     "output_type": "stream",
     "text": [
      "             precision    recall  f1-score   support\n",
      "\n",
      "          0       0.80      0.87      0.83       136\n",
      "          1       0.76      0.66      0.71        86\n",
      "\n",
      "avg / total       0.79      0.79      0.79       222\n",
      "\n"
     ]
    }
   ],
   "source": [
    "print(classification_report(titanic_test.Survived, logit.predict(titanic_test.drop(\"Survived\", axis=1))))"
   ]
  },
  {
   "cell_type": "code",
   "execution_count": 60,
   "metadata": {},
   "outputs": [],
   "source": [
    "from sklearn.datasets import load_iris\n",
    "from sklearn.model_selection import train_test_split, cross_validate\n",
    "from sklearn.metrics import classification_report"
   ]
  },
  {
   "cell_type": "code",
   "execution_count": 61,
   "metadata": {},
   "outputs": [
    {
     "data": {
      "text/plain": [
       "array([[6.5, 2.8, 4.6, 1.5],\n",
       "       [5.1, 3.5, 1.4, 0.3],\n",
       "       [6.4, 2.8, 5.6, 2.1],\n",
       "       [5. , 2.3, 3.3, 1. ],\n",
       "       [5. , 3.5, 1.6, 0.6]])"
      ]
     },
     "execution_count": 61,
     "metadata": {},
     "output_type": "execute_result"
    }
   ],
   "source": [
    "iris_obj = load_iris()\n",
    "flower, species = iris_obj.data, iris_obj.target\n",
    "flower_train, flower_test, species_train, species_test = train_test_split(flower, species, test_size = 0.1)\n",
    "flower_train[:5, :]"
   ]
  },
  {
   "cell_type": "code",
   "execution_count": 62,
   "metadata": {},
   "outputs": [
    {
     "data": {
      "text/plain": [
       "array([1, 0, 2, 1, 0])"
      ]
     },
     "execution_count": 62,
     "metadata": {},
     "output_type": "execute_result"
    }
   ],
   "source": [
    "species_train[:5]"
   ]
  },
  {
   "cell_type": "code",
   "execution_count": 63,
   "metadata": {},
   "outputs": [],
   "source": [
    "from sklearn.tree import DecisionTreeClassifier\n",
    "from sklearn.externals.six import StringIO  \n",
    "from IPython.display import Image  \n",
    "from sklearn.tree import export_graphviz\n",
    "import pydotplus"
   ]
  },
  {
   "cell_type": "code",
   "execution_count": 64,
   "metadata": {},
   "outputs": [
    {
     "name": "stdout",
     "output_type": "stream",
     "text": [
      "             precision    recall  f1-score   support\n",
      "\n",
      "          0       1.00      1.00      1.00         4\n",
      "          1       1.00      0.83      0.91         6\n",
      "          2       0.83      1.00      0.91         5\n",
      "\n",
      "avg / total       0.94      0.93      0.93        15\n",
      "\n"
     ]
    }
   ],
   "source": [
    "tree = DecisionTreeClassifier(max_depth=3)\n",
    "tree = tree.fit(flower_train, species_train)\n",
    "print(classification_report(species_test, tree.predict(flower_test)))"
   ]
  },
  {
   "cell_type": "code",
   "execution_count": 65,
   "metadata": {},
   "outputs": [
    {
     "data": {
      "image/png": "[encoded data removed]",
      "text/plain": [
       "<IPython.core.display.Image object>"
      ]
     },
     "execution_count": 65,
     "metadata": {},
     "output_type": "execute_result"
    }
   ],
   "source": [
    "dot_data = StringIO()\n",
    "\n",
    "export_graphviz(tree,    # Function for exporting a visualization of the tree\n",
    "                out_file=dot_data,\n",
    "                # Data controlling the display of the graph\n",
    "                filled=True, rounded=True,\n",
    "                special_characters=True,\n",
    "                feature_names=[\"Sepal Length\", \"Sepal Width\",\n",
    "                               \"Petal Length\", \"Petal Width\"],    # Use the name of the features\n",
    "                proportion=True)    # Show proportions for labels\n",
    "\n",
    "# Display graph in Jupyter notebook\n",
    "graph = pydotplus.graph_from_dot_data(dot_data.getvalue())  \n",
    "Image(graph.create_png())"
   ]
  },
  {
   "cell_type": "code",
   "execution_count": 66,
   "metadata": {},
   "outputs": [],
   "source": [
    "from sklearn.ensemble import RandomForestClassifier"
   ]
  },
  {
   "cell_type": "code",
   "execution_count": 67,
   "metadata": {},
   "outputs": [
    {
     "name": "stdout",
     "output_type": "stream",
     "text": [
      "             precision    recall  f1-score   support\n",
      "\n",
      "          0       1.00      1.00      1.00         4\n",
      "          1       0.83      0.83      0.83         6\n",
      "          2       0.80      0.80      0.80         5\n",
      "\n",
      "avg / total       0.87      0.87      0.87        15\n",
      "\n"
     ]
    }
   ],
   "source": [
    "forest = RandomForestClassifier(n_estimators=20, max_depth=2)\n",
    "forest.fit(flower_train, species_train)\n",
    "print(classification_report(species_test, forest.predict(flower_test)))"
   ]
  },
  {
   "cell_type": "code",
   "execution_count": 68,
   "metadata": {},
   "outputs": [],
   "source": [
    "from sklearn.naive_bayes import GaussianNB"
   ]
  },
  {
   "cell_type": "code",
   "execution_count": 69,
   "metadata": {},
   "outputs": [
    {
     "name": "stdout",
     "output_type": "stream",
     "text": [
      "             precision    recall  f1-score   support\n",
      "\n",
      "          0       1.00      1.00      1.00         4\n",
      "          1       1.00      0.83      0.91         6\n",
      "          2       0.83      1.00      0.91         5\n",
      "\n",
      "avg / total       0.94      0.93      0.93        15\n",
      "\n"
     ]
    }
   ],
   "source": [
    "nb = GaussianNB()\n",
    "nb = nb.fit(flower_train, species_train)\n",
    "print(classification_report(species_test, nb.predict(flower_test)))"
   ]
  },
  {
   "cell_type": "code",
   "execution_count": 70,
   "metadata": {},
   "outputs": [],
   "source": [
    "from sklearn.svm import SVC"
   ]
  },
  {
   "cell_type": "code",
   "execution_count": 71,
   "metadata": {},
   "outputs": [
    {
     "name": "stdout",
     "output_type": "stream",
     "text": [
      "             precision    recall  f1-score   support\n",
      "\n",
      "          0       1.00      1.00      1.00         4\n",
      "          1       1.00      1.00      1.00         6\n",
      "          2       1.00      1.00      1.00         5\n",
      "\n",
      "avg / total       1.00      1.00      1.00        15\n",
      "\n"
     ]
    }
   ],
   "source": [
    "svm = SVC()\n",
    "svm.fit(flower_train, species_train)\n",
    "print(classification_report(species_test, svm.predict(flower_test)))"
   ]
  },
  {
   "cell_type": "code",
   "execution_count": 73,
   "metadata": {},
   "outputs": [],
   "source": [
    "from sklearn.linear_model import LogisticRegression"
   ]
  },
  {
   "cell_type": "code",
   "execution_count": 74,
   "metadata": {},
   "outputs": [
    {
     "name": "stdout",
     "output_type": "stream",
     "text": [
      "             precision    recall  f1-score   support\n",
      "\n",
      "          0       1.00      1.00      1.00         4\n",
      "          1       1.00      0.83      0.91         6\n",
      "          2       0.83      1.00      0.91         5\n",
      "\n",
      "avg / total       0.94      0.93      0.93        15\n",
      "\n"
     ]
    }
   ],
   "source": [
    "logit = LogisticRegression()\n",
    "logit.fit(flower_train, species_train)\n",
    "print(classification_report(species_test, logit.predict(flower_test)))"
   ]
  },
  {
   "cell_type": "code",
   "execution_count": null,
   "metadata": {},
   "outputs": [],
   "source": []
  }
 ],
 "metadata": {
  "kernelspec": {
   "display_name": "Python 3 (ipykernel)",
   "language": "python",
   "name": "python3"
  },
  "language_info": {
   "codemirror_mode": {
    "name": "ipython",
    "version": 3
   },
   "file_extension": ".py",
   "mimetype": "text/x-python",
   "name": "python",
   "nbconvert_exporter": "python",
   "pygments_lexer": "ipython3",
   "version": "3.11.4"
  }
 },
 "nbformat": 4,
 "nbformat_minor": 2
}
