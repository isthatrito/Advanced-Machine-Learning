{
 "cells": [
  {
   "cell_type": "markdown",
   "metadata": {},
   "source": [
    "# Employing LASSO Regression\n",
    "*Curtis Miller*\n",
    "\n",
    "**LASSO regression** (where LASSO stands for least absolute shrinkage and selection operator) is another regularized version of regression, resembling ridge regression. However, the penalty term $\\alpha$ is applied differently in LASSO. (Ridge regression uses $L_2$ regularization while LASSO uses $L_1$ regularization.)\n",
    "\n",
    "We will continue to work with the Boston house price dataset."
   ]
  },
  {
   "cell_type": "code",
   "execution_count": 1,
   "metadata": {},
   "outputs": [],
   "source": [
    "from sklearn.datasets import load_boston\n",
    "from sklearn.model_selection import train_test_split\n",
    "import numpy as np"
   ]
  },
  {
   "cell_type": "code",
   "execution_count": 2,
   "metadata": {},
   "outputs": [],
   "source": [
    "boston_obj = load_boston()\n",
    "data_train, data_test, price_train, price_test = train_test_split(boston_obj.data, boston_obj.target)\n",
    "data_train = np.delete(data_train, [2, 6], axis=1)\n",
    "data_test = np.delete(data_test, [2, 6], axis=1)"
   ]
  },
  {
   "cell_type": "markdown",
   "metadata": {},
   "source": [
    "## Fitting with LASSO regression\n",
    "\n",
    "LASSO regression is implemented via the `Lasso` object provided by **scikit-learn**."
   ]
  },
  {
   "cell_type": "code",
   "execution_count": 3,
   "metadata": {},
   "outputs": [],
   "source": [
    "from sklearn.linear_model import Lasso\n",
    "from sklearn.metrics import mean_squared_error\n",
    "from sklearn.model_selection import cross_val_score"
   ]
  },
  {
   "cell_type": "code",
   "execution_count": 4,
   "metadata": {},
   "outputs": [
    {
     "data": {
      "text/plain": [
       "array([29.08615387])"
      ]
     },
     "execution_count": 4,
     "metadata": {},
     "output_type": "execute_result"
    }
   ],
   "source": [
    "lasso1 = Lasso(alpha=1)    # alpha is a hyperparameter controlling regularization\n",
    "lasso1.fit(data_train, price_train)\n",
    "lasso1.predict([[    # An example prediction\n",
    "    1,      # Per capita crime rate\n",
    "    25,     # Proportion of land zoned for large homes\n",
    "    1,      # Tract bounds the Charles River\n",
    "    0.3,    # NOX concentration\n",
    "    10,     # Average number of rooms per dwelling\n",
    "    10,     # Weighted distance to employment centers\n",
    "    3,      # Index for highway accessibility\n",
    "    400,    # Tax rate\n",
    "    15,     # Pupil/teacher ratio\n",
    "    200,    # Index for number of blacks\n",
    "    5       # % lower status of population\n",
    "]])"
   ]
  },
  {
   "cell_type": "code",
   "execution_count": 5,
   "metadata": {},
   "outputs": [
    {
     "data": {
      "text/plain": [
       "26.186116476897762"
      ]
     },
     "execution_count": 5,
     "metadata": {},
     "output_type": "execute_result"
    }
   ],
   "source": [
    "predprice = lasso1.predict(data_train)\n",
    "mean_squared_error(price_train, predprice)"
   ]
  },
  {
   "cell_type": "markdown",
   "metadata": {},
   "source": [
    "Cross-validation via LASSO looks very similar to cross-validation with ridge regression."
   ]
  },
  {
   "cell_type": "code",
   "execution_count": 6,
   "metadata": {},
   "outputs": [],
   "source": [
    "import pandas as pd\n",
    "from pandas import DataFrame"
   ]
  },
  {
   "cell_type": "code",
   "execution_count": 7,
   "metadata": {},
   "outputs": [
    {
     "data": {
      "text/html": [
       "<div>\n",
       "<style scoped>\n",
       "    .dataframe tbody tr th:only-of-type {\n",
       "        vertical-align: middle;\n",
       "    }\n",
       "\n",
       "    .dataframe tbody tr th {\n",
       "        vertical-align: top;\n",
       "    }\n",
       "\n",
       "    .dataframe thead th {\n",
       "        text-align: right;\n",
       "    }\n",
       "</style>\n",
       "<table border=\"1\" class=\"dataframe\">\n",
       "  <thead>\n",
       "    <tr style=\"text-align: right;\">\n",
       "      <th></th>\n",
       "      <th>0.125</th>\n",
       "      <th>0.25</th>\n",
       "      <th>0.5</th>\n",
       "      <th>1.0</th>\n",
       "      <th>2.0</th>\n",
       "      <th>4.0</th>\n",
       "      <th>8.0</th>\n",
       "      <th>16.0</th>\n",
       "      <th>32.0</th>\n",
       "      <th>64.0</th>\n",
       "      <th>128.0</th>\n",
       "    </tr>\n",
       "  </thead>\n",
       "  <tbody>\n",
       "    <tr>\n",
       "      <th>0</th>\n",
       "      <td>-15.410308</td>\n",
       "      <td>-15.576114</td>\n",
       "      <td>-16.239303</td>\n",
       "      <td>-18.890937</td>\n",
       "      <td>-24.434237</td>\n",
       "      <td>-27.678038</td>\n",
       "      <td>-28.240305</td>\n",
       "      <td>-31.633401</td>\n",
       "      <td>-46.917994</td>\n",
       "      <td>-50.034332</td>\n",
       "      <td>-51.303476</td>\n",
       "    </tr>\n",
       "    <tr>\n",
       "      <th>1</th>\n",
       "      <td>-17.546908</td>\n",
       "      <td>-18.013341</td>\n",
       "      <td>-19.369314</td>\n",
       "      <td>-23.773658</td>\n",
       "      <td>-31.926944</td>\n",
       "      <td>-40.712020</td>\n",
       "      <td>-42.224214</td>\n",
       "      <td>-48.384351</td>\n",
       "      <td>-66.782254</td>\n",
       "      <td>-70.657480</td>\n",
       "      <td>-73.174571</td>\n",
       "    </tr>\n",
       "    <tr>\n",
       "      <th>2</th>\n",
       "      <td>-35.770240</td>\n",
       "      <td>-35.329683</td>\n",
       "      <td>-35.042684</td>\n",
       "      <td>-36.845868</td>\n",
       "      <td>-44.128087</td>\n",
       "      <td>-53.322653</td>\n",
       "      <td>-55.709802</td>\n",
       "      <td>-63.464168</td>\n",
       "      <td>-82.109049</td>\n",
       "      <td>-83.930715</td>\n",
       "      <td>-84.749809</td>\n",
       "    </tr>\n",
       "    <tr>\n",
       "      <th>3</th>\n",
       "      <td>-16.988829</td>\n",
       "      <td>-16.574853</td>\n",
       "      <td>-16.078654</td>\n",
       "      <td>-16.413008</td>\n",
       "      <td>-16.552518</td>\n",
       "      <td>-16.147738</td>\n",
       "      <td>-18.409100</td>\n",
       "      <td>-25.043977</td>\n",
       "      <td>-41.677179</td>\n",
       "      <td>-44.311565</td>\n",
       "      <td>-46.153342</td>\n",
       "    </tr>\n",
       "    <tr>\n",
       "      <th>4</th>\n",
       "      <td>-12.855487</td>\n",
       "      <td>-12.711071</td>\n",
       "      <td>-12.693937</td>\n",
       "      <td>-13.746736</td>\n",
       "      <td>-17.672406</td>\n",
       "      <td>-22.934872</td>\n",
       "      <td>-24.453265</td>\n",
       "      <td>-28.336625</td>\n",
       "      <td>-40.412506</td>\n",
       "      <td>-43.055529</td>\n",
       "      <td>-45.002219</td>\n",
       "    </tr>\n",
       "    <tr>\n",
       "      <th>5</th>\n",
       "      <td>-16.945048</td>\n",
       "      <td>-17.132288</td>\n",
       "      <td>-17.661655</td>\n",
       "      <td>-19.339483</td>\n",
       "      <td>-21.774543</td>\n",
       "      <td>-24.691131</td>\n",
       "      <td>-25.728358</td>\n",
       "      <td>-29.988728</td>\n",
       "      <td>-45.548242</td>\n",
       "      <td>-48.157426</td>\n",
       "      <td>-50.052946</td>\n",
       "    </tr>\n",
       "    <tr>\n",
       "      <th>6</th>\n",
       "      <td>-21.524633</td>\n",
       "      <td>-22.329022</td>\n",
       "      <td>-24.128090</td>\n",
       "      <td>-28.487369</td>\n",
       "      <td>-34.135331</td>\n",
       "      <td>-37.184960</td>\n",
       "      <td>-39.366339</td>\n",
       "      <td>-44.690851</td>\n",
       "      <td>-58.573889</td>\n",
       "      <td>-59.235519</td>\n",
       "      <td>-58.463009</td>\n",
       "    </tr>\n",
       "    <tr>\n",
       "      <th>7</th>\n",
       "      <td>-39.426794</td>\n",
       "      <td>-40.295094</td>\n",
       "      <td>-42.418176</td>\n",
       "      <td>-48.210253</td>\n",
       "      <td>-56.998427</td>\n",
       "      <td>-65.941036</td>\n",
       "      <td>-65.682958</td>\n",
       "      <td>-69.865867</td>\n",
       "      <td>-88.069363</td>\n",
       "      <td>-90.480773</td>\n",
       "      <td>-91.151060</td>\n",
       "    </tr>\n",
       "    <tr>\n",
       "      <th>8</th>\n",
       "      <td>-56.903062</td>\n",
       "      <td>-55.973955</td>\n",
       "      <td>-54.262835</td>\n",
       "      <td>-51.428866</td>\n",
       "      <td>-49.251228</td>\n",
       "      <td>-52.096057</td>\n",
       "      <td>-54.887623</td>\n",
       "      <td>-62.859961</td>\n",
       "      <td>-80.202024</td>\n",
       "      <td>-81.718826</td>\n",
       "      <td>-82.134217</td>\n",
       "    </tr>\n",
       "    <tr>\n",
       "      <th>9</th>\n",
       "      <td>-17.994109</td>\n",
       "      <td>-18.620720</td>\n",
       "      <td>-20.161896</td>\n",
       "      <td>-24.396093</td>\n",
       "      <td>-32.912563</td>\n",
       "      <td>-42.747876</td>\n",
       "      <td>-43.852608</td>\n",
       "      <td>-48.636116</td>\n",
       "      <td>-63.616723</td>\n",
       "      <td>-66.633446</td>\n",
       "      <td>-68.649208</td>\n",
       "    </tr>\n",
       "  </tbody>\n",
       "</table>\n",
       "</div>"
      ],
      "text/plain": [
       "     0.125      0.250      0.500      1.000      2.000      4.000    \\\n",
       "0 -15.410308 -15.576114 -16.239303 -18.890937 -24.434237 -27.678038   \n",
       "1 -17.546908 -18.013341 -19.369314 -23.773658 -31.926944 -40.712020   \n",
       "2 -35.770240 -35.329683 -35.042684 -36.845868 -44.128087 -53.322653   \n",
       "3 -16.988829 -16.574853 -16.078654 -16.413008 -16.552518 -16.147738   \n",
       "4 -12.855487 -12.711071 -12.693937 -13.746736 -17.672406 -22.934872   \n",
       "5 -16.945048 -17.132288 -17.661655 -19.339483 -21.774543 -24.691131   \n",
       "6 -21.524633 -22.329022 -24.128090 -28.487369 -34.135331 -37.184960   \n",
       "7 -39.426794 -40.295094 -42.418176 -48.210253 -56.998427 -65.941036   \n",
       "8 -56.903062 -55.973955 -54.262835 -51.428866 -49.251228 -52.096057   \n",
       "9 -17.994109 -18.620720 -20.161896 -24.396093 -32.912563 -42.747876   \n",
       "\n",
       "     8.000      16.000     32.000     64.000     128.000  \n",
       "0 -28.240305 -31.633401 -46.917994 -50.034332 -51.303476  \n",
       "1 -42.224214 -48.384351 -66.782254 -70.657480 -73.174571  \n",
       "2 -55.709802 -63.464168 -82.109049 -83.930715 -84.749809  \n",
       "3 -18.409100 -25.043977 -41.677179 -44.311565 -46.153342  \n",
       "4 -24.453265 -28.336625 -40.412506 -43.055529 -45.002219  \n",
       "5 -25.728358 -29.988728 -45.548242 -48.157426 -50.052946  \n",
       "6 -39.366339 -44.690851 -58.573889 -59.235519 -58.463009  \n",
       "7 -65.682958 -69.865867 -88.069363 -90.480773 -91.151060  \n",
       "8 -54.887623 -62.859961 -80.202024 -81.718826 -82.134217  \n",
       "9 -43.852608 -48.636116 -63.616723 -66.633446 -68.649208  "
      ]
     },
     "execution_count": 7,
     "metadata": {},
     "output_type": "execute_result"
    }
   ],
   "source": [
    "alpha = [.125, .25, .5, 1, 2, 4, 8, 16, 32, 64, 128]    # Candidate alphas\n",
    "res = dict()\n",
    "\n",
    "for a in alpha:\n",
    "    lasso2 = Lasso(alpha=a)\n",
    "    res[a] = cross_val_score(lasso2, data_train, price_train, scoring='neg_mean_squared_error', cv = 10)\n",
    "\n",
    "res_df = DataFrame(res)\n",
    "\n",
    "res_df"
   ]
  },
  {
   "cell_type": "code",
   "execution_count": 8,
   "metadata": {},
   "outputs": [
    {
     "data": {
      "text/plain": [
       "0.125     -25.136542\n",
       "0.250     -25.255614\n",
       "0.500     -25.805654\n",
       "1.000     -28.153227\n",
       "2.000     -32.978628\n",
       "4.000     -38.345638\n",
       "8.000     -39.855457\n",
       "16.000    -45.290404\n",
       "32.000    -61.390922\n",
       "64.000    -63.821561\n",
       "128.000   -65.083386\n",
       "dtype: float64"
      ]
     },
     "execution_count": 8,
     "metadata": {},
     "output_type": "execute_result"
    }
   ],
   "source": [
    "res_df.mean()"
   ]
  },
  {
   "cell_type": "markdown",
   "metadata": {},
   "source": [
    "Again, a smaller $\\alpha$ leads to better fits."
   ]
  },
  {
   "cell_type": "code",
   "execution_count": 9,
   "metadata": {},
   "outputs": [
    {
     "data": {
      "text/plain": [
       "24.552504055553456"
      ]
     },
     "execution_count": 9,
     "metadata": {},
     "output_type": "execute_result"
    }
   ],
   "source": [
    "lasso3 = Lasso(alpha=0.125)\n",
    "lasso3.fit(data_train, price_train)\n",
    "\n",
    "testpredprice = lasso3.predict(data_test)\n",
    "mean_squared_error(price_test, testpredprice)"
   ]
  },
  {
   "cell_type": "markdown",
   "metadata": {},
   "source": [
    "Overall it seems that LASSO regression doesn't do better than ridge regression or OLS. In fact, it seems like regularization doesn't produce better models for this dataset."
   ]
  }
 ],
 "metadata": {
  "kernelspec": {
   "display_name": "Python 3",
   "language": "python",
   "name": "python3"
  },
  "language_info": {
   "codemirror_mode": {
    "name": "ipython",
    "version": 3
   },
   "file_extension": ".py",
   "mimetype": "text/x-python",
   "name": "python",
   "nbconvert_exporter": "python",
   "pygments_lexer": "ipython3",
   "version": "3.6.5"
  }
 },
 "nbformat": 4,
 "nbformat_minor": 2
}
