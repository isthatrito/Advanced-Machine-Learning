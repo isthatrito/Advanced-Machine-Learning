{
 "cells": [
  {
   "cell_type": "code",
   "execution_count": 0,
   "metadata": {
    "colab": {},
    "colab_type": "code",
    "id": "D0sMDBqOCvdJ"
   },
   "outputs": [],
   "source": [
    "!pip install -q tensorflow==2.0.0 tensorboard==2.0.0\n",
    "\n",
    "import tensorflow as tf\n",
    "print(\"TensorFlow version:\", tf.__version__)"
   ]
  },
  {
   "cell_type": "markdown",
   "metadata": {
    "colab_type": "text",
    "id": "rYvUnRiPCaOc"
   },
   "source": [
    "## The MNIST database\n",
    "\n",
    "Now, let's explore a bit about the dataset that we will use for this exercise."
   ]
  },
  {
   "cell_type": "code",
   "execution_count": 0,
   "metadata": {
    "colab": {},
    "colab_type": "code",
    "id": "cLcBUFz20Ukw"
   },
   "outputs": [],
   "source": [
    "from IPython.display import HTML\n",
    "url = 'https://en.wikipedia.org/wiki/MNIST_database'\n",
    "iframe = '<iframe src=' + url + ' width=\"100%\" height=350></iframe>'\n",
    "HTML(iframe)"
   ]
  },
  {
   "cell_type": "markdown",
   "metadata": {
    "colab_type": "text",
    "id": "0EacGCZS1bOB"
   },
   "source": [
    "## Data preprocessing\n",
    "\n",
    "We just need to import the dataset and split it into training and testing subsets."
   ]
  },
  {
   "cell_type": "code",
   "execution_count": 0,
   "metadata": {
    "colab": {},
    "colab_type": "code",
    "id": "9S1WH_XG1lOo"
   },
   "outputs": [],
   "source": [
    "# Import packages\n",
    "import numpy\n",
    "from tensorflow import keras\n",
    "import matplotlib.pyplot as plt\n",
    "plt.style.use('ggplot')\n",
    "\n",
    "# We will fix a random seed for reproducibility\n",
    "seed = 11\n",
    "numpy.random.seed(seed)"
   ]
  },
  {
   "cell_type": "markdown",
   "metadata": {
    "colab_type": "text",
    "id": "XOuW0vLyRmzV"
   },
   "source": [
    "Once we load the dataset, we can sneak peek one of its elements to see how they look like."
   ]
  },
  {
   "cell_type": "code",
   "execution_count": 0,
   "metadata": {
    "colab": {},
    "colab_type": "code",
    "id": "_qoy-nzt1vSl"
   },
   "outputs": [],
   "source": [
    "# We load the MNIST dataset\n",
    "mnist = keras.datasets.mnist\n",
    "(train_imgs, train_lbls), (test_imgs, test_lbls) = mnist.load_data()\n",
    "\n",
    "# Display first element from (train_imgs, train_lbls)\n",
    "plt.title(\"First element from training dataset:\")\n",
    "plt.imshow(train_imgs[0], cmap=\"gray\")\n",
    "plt.grid(False)\n",
    "print(f\"First label from training dataset: {train_lbls[0]}\")"
   ]
  },
  {
   "cell_type": "markdown",
   "metadata": {
    "colab_type": "text",
    "id": "IfoAXdHa15cE"
   },
   "source": [
    "## Preprocess dataset\n",
    "\n",
    "We just need to reshape the input tensor to feed the neural network."
   ]
  },
  {
   "cell_type": "code",
   "execution_count": 0,
   "metadata": {
    "colab": {},
    "colab_type": "code",
    "id": "lF1DdZYS1xQZ"
   },
   "outputs": [],
   "source": [
    "# We preprocess the input data to feed the neural network\n",
    "trn, trw, trh = train_imgs.shape\n",
    "tsn, tsw, tsh = test_imgs.shape\n",
    "train_imgs = train_imgs.reshape((trn, trw, trh, 1)).astype('float32')\n",
    "test_imgs = test_imgs.reshape((tsn, tsw, tsh, 1)).astype('float32')"
   ]
  },
  {
   "cell_type": "markdown",
   "metadata": {
    "colab_type": "text",
    "id": "khGpNOF33EWE"
   },
   "source": [
    "### Let's create the model with the TF Keras module!"
   ]
  },
  {
   "cell_type": "code",
   "execution_count": 0,
   "metadata": {
    "colab": {},
    "colab_type": "code",
    "id": "kMlFkkLO3ICH"
   },
   "outputs": [],
   "source": [
    "# We create a Keras sequential model\n",
    "model = keras.Sequential([\n",
    "    keras.layers.Conv2D(64, (3, 3), activation='relu',\n",
    "                        input_shape=(28, 28, 1)),\n",
    "    keras.layers.MaxPooling2D(2, 2),\n",
    "    keras.layers.Conv2D(64, (3, 3), activation='relu'),\n",
    "    keras.layers.MaxPooling2D(2, 2),\n",
    "    keras.layers.Flatten(input_shape=(28, 28)),\n",
    "    keras.layers.Dense(128, activation='relu'),\n",
    "    keras.layers.Dense(10, activation='softmax')\n",
    "])"
   ]
  },
  {
   "cell_type": "markdown",
   "metadata": {
    "colab_type": "text",
    "id": "wu_QPQ3B3bUv"
   },
   "source": [
    "We can check out a summary of our model."
   ]
  },
  {
   "cell_type": "code",
   "execution_count": 0,
   "metadata": {
    "colab": {},
    "colab_type": "code",
    "id": "V7kTOaeC3WHn"
   },
   "outputs": [],
   "source": [
    "model.summary()"
   ]
  },
  {
   "cell_type": "markdown",
   "metadata": {
    "colab_type": "text",
    "id": "wZyiHwZ63uPu"
   },
   "source": [
    "### Training the model\n",
    "\n",
    "First we need to compile the model and set the number of training epochs."
   ]
  },
  {
   "cell_type": "code",
   "execution_count": 0,
   "metadata": {
    "colab": {},
    "colab_type": "code",
    "id": "1j23-WDp3paQ"
   },
   "outputs": [],
   "source": [
    "# We compile our model\n",
    "model.compile(optimizer=keras.optimizers.Adam(),\n",
    "              loss='sparse_categorical_crossentropy',\n",
    "              metrics=['accuracy'])"
   ]
  },
  {
   "cell_type": "code",
   "execution_count": 0,
   "metadata": {
    "colab": {},
    "colab_type": "code",
    "id": "JdZVj0ZDSe0w"
   },
   "outputs": [],
   "source": [
    "# We train the model\n",
    "epochs = 3\n",
    "model.fit(train_imgs, train_lbls, epochs=epochs)"
   ]
  },
  {
   "cell_type": "markdown",
   "metadata": {
    "colab_type": "text",
    "id": "Zf04lGv35vJO"
   },
   "source": [
    "### Evaluating the results"
   ]
  },
  {
   "cell_type": "code",
   "execution_count": 0,
   "metadata": {
    "colab": {},
    "colab_type": "code",
    "id": "kIAhEC4J5Rt-"
   },
   "outputs": [],
   "source": [
    "# We test the model with testing data\n",
    "test_loss, test_acc = model.evaluate(test_imgs, test_lbls, verbose=False)\n",
    "print(\"Test loss:\", test_loss)\n",
    "print(\"Test accuracy:\", test_acc)"
   ]
  },
  {
   "cell_type": "markdown",
   "metadata": {
    "colab_type": "text",
    "id": "ZDbKkUDF8QES"
   },
   "source": [
    "## Predict with trained model\n",
    "\n",
    "Now that we have a model, how do we use it?\n",
    "\n",
    "It is as simple as follows:"
   ]
  },
  {
   "cell_type": "code",
   "execution_count": 0,
   "metadata": {
    "colab": {},
    "colab_type": "code",
    "id": "K7kWHeIv8NLX"
   },
   "outputs": [],
   "source": [
    "# Remembering that the first image from the training set is a 5:\n",
    "print(f\"The label of testing image: {test_lbls[0]}\")\n",
    "plt.title(\"Testing image:\")\n",
    "plt.imshow(numpy.squeeze(test_imgs[[0]]), cmap=\"gray\")\n",
    "plt.grid(False)\n",
    "print()\n",
    "\n",
    "# Let's now print a prediction:\n",
    "prediction_vector = model.predict(test_imgs[[0]])\n",
    "predicted_digit = numpy.argmax(prediction_vector)\n",
    "print(f\"The 0-9 prediction is: {predicted_digit}\")\n",
    "print()"
   ]
  }
 ],
 "metadata": {
  "accelerator": "GPU",
  "colab": {
   "collapsed_sections": [],
   "name": "Implementing a standard convolutional model with TensorFlow 2.0",
   "provenance": [],
   "toc_visible": true
  },
  "kernelspec": {
   "display_name": "Python 3 (ipykernel)",
   "language": "python",
   "name": "python3"
  },
  "language_info": {
   "codemirror_mode": {
    "name": "ipython",
    "version": 3
   },
   "file_extension": ".py",
   "mimetype": "text/x-python",
   "name": "python",
   "nbconvert_exporter": "python",
   "pygments_lexer": "ipython3",
   "version": "3.11.4"
  }
 },
 "nbformat": 4,
 "nbformat_minor": 1
}
