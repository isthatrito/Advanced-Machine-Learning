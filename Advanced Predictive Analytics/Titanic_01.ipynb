{
 "cells": [
  {
   "cell_type": "code",
   "execution_count": 8,
   "metadata": {
    "collapsed": false,
    "scrolled": true
   },
   "outputs": [
    {
     "name": "stderr",
     "output_type": "stream",
     "text": [
      "[09/Feb/2016:01:09:26] ENGINE Bus STARTING\n",
      "INFO:cherrypy.error:[09/Feb/2016:01:09:26] ENGINE Bus STARTING\n",
      "[09/Feb/2016:01:09:26] ENGINE Started monitor thread '_TimeoutMonitor'.\n",
      "INFO:cherrypy.error:[09/Feb/2016:01:09:26] ENGINE Started monitor thread '_TimeoutMonitor'.\n",
      "[09/Feb/2016:01:09:26] ENGINE Started monitor thread 'Autoreloader'.\n",
      "INFO:cherrypy.error:[09/Feb/2016:01:09:26] ENGINE Started monitor thread 'Autoreloader'.\n",
      "[09/Feb/2016:01:09:26] ENGINE Serving on http://0.0.0.0:5432\n",
      "INFO:cherrypy.error:[09/Feb/2016:01:09:26] ENGINE Serving on http://0.0.0.0:5432\n",
      "[09/Feb/2016:01:09:26] ENGINE Bus STARTED\n",
      "INFO:cherrypy.error:[09/Feb/2016:01:09:26] ENGINE Bus STARTED\n",
      "[09/Feb/2016:01:13:38] ENGINE Keyboard Interrupt: shutting down bus\n",
      "INFO:cherrypy.error:[09/Feb/2016:01:13:38] ENGINE Keyboard Interrupt: shutting down bus\n",
      "[09/Feb/2016:01:13:38] ENGINE Bus STOPPING\n",
      "INFO:cherrypy.error:[09/Feb/2016:01:13:38] ENGINE Bus STOPPING\n",
      "[09/Feb/2016:01:13:38] ENGINE HTTP Server cherrypy._cpwsgi_server.CPWSGIServer(('0.0.0.0', 5432)) shut down\n",
      "INFO:cherrypy.error:[09/Feb/2016:01:13:38] ENGINE HTTP Server cherrypy._cpwsgi_server.CPWSGIServer(('0.0.0.0', 5432)) shut down\n",
      "[09/Feb/2016:01:13:38] ENGINE Stopped thread 'Autoreloader'.\n",
      "INFO:cherrypy.error:[09/Feb/2016:01:13:38] ENGINE Stopped thread 'Autoreloader'.\n",
      "[09/Feb/2016:01:13:38] ENGINE Stopped thread '_TimeoutMonitor'.\n",
      "INFO:cherrypy.error:[09/Feb/2016:01:13:38] ENGINE Stopped thread '_TimeoutMonitor'.\n",
      "[09/Feb/2016:01:13:38] ENGINE Bus STOPPED\n",
      "INFO:cherrypy.error:[09/Feb/2016:01:13:38] ENGINE Bus STOPPED\n",
      "[09/Feb/2016:01:13:38] ENGINE Bus EXITING\n",
      "INFO:cherrypy.error:[09/Feb/2016:01:13:38] ENGINE Bus EXITING\n",
      "[09/Feb/2016:01:13:38] ENGINE Bus EXITED\n",
      "INFO:cherrypy.error:[09/Feb/2016:01:13:38] ENGINE Bus EXITED\n",
      "[09/Feb/2016:01:13:38] ENGINE Waiting for child threads to terminate...\n",
      "INFO:cherrypy.error:[09/Feb/2016:01:13:38] ENGINE Waiting for child threads to terminate...\n",
      "[09/Feb/2016:01:13:38] ENGINE Waiting for thread HTTPServer Thread-7.\n",
      "INFO:cherrypy.error:[09/Feb/2016:01:13:38] ENGINE Waiting for thread HTTPServer Thread-7.\n"
     ]
    }
   ],
   "source": [
    "import cherrypy\n",
    "from pyspark import SparkConf, SparkContext\n",
    "from modelservice import prediction_service\n",
    "\n",
    "def start_spark_context():\n",
    "    conf = SparkConf().setAppName(\"prediction-service\")\n",
    "    sc = SparkContext(conf=conf, pyFiles=['modelfactory.py', 'modelservice.py'])\n",
    "\n",
    "    return sc\n",
    "\n",
    "def run_server(app):\n",
    "\n",
    "    cherrypy.config.update({\n",
    "        'engine.autoreload.on': True,\n",
    "        'log.screen': True,\n",
    "        'server.socket_port': 5432,\n",
    "        'server.socket_host': '0.0.0.0'\n",
    "    })\n",
    "\n",
    "    cherrypy.engine.start()\n",
    "    cherrypy.engine.block()\n",
    "    \n",
    "if __name__ == \"__main__\":\n",
    "\n",
    "    sc = start_spark_context()\n",
    "    parameters = json.loads(open('parameters.json').readline())\n",
    "    service = prediction_service('LogisticRegression',parameters,sc)\n",
    "\n",
    "    run_server(service)"
   ]
  },
  {
   "cell_type": "code",
   "execution_count": null,
   "metadata": {
    "collapsed": true
   },
   "outputs": [],
   "source": []
  }
 ],
 "metadata": {
  "kernelspec": {
   "display_name": "Python 3",
   "language": "python",
   "name": "python3"
  },
  "language_info": {
   "codemirror_mode": {
    "name": "ipython",
    "version": 3
   },
   "file_extension": ".py",
   "mimetype": "text/x-python",
   "name": "python",
   "nbconvert_exporter": "python",
   "pygments_lexer": "ipython3",
   "version": "3.5.1"
  }
 },
 "nbformat": 4,
 "nbformat_minor": 0
}
