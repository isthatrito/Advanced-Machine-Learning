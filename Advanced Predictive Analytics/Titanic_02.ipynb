{
 "cells": [
  {
   "cell_type": "code",
   "execution_count": 47,
   "metadata": {
    "collapsed": false
   },
   "outputs": [],
   "source": [
    "import requests\n",
    "import json"
   ]
  },
  {
   "cell_type": "code",
   "execution_count": 39,
   "metadata": {
    "collapsed": true
   },
   "outputs": [],
   "source": [
    "parameters = json.dumps({\"schema\": {\"delimiter\": \",\", \"features\": [{\"values\": {\"1st\": 0, \"2nd\": 1, \"3rd\": 2, \"Crew\": 3}, \"name\": \"Class\", \"pos\": 1}, {\"values\": {\"Female\": 1, \"Male\": 0}, \"name\": \"Sex\", \"pos\": 2}, {\"values\": {\"Child\": 0, \"Adult\": 1}, \"name\": \"Age\", \"pos\": 3}], \"label\": {\"values\": {\"No\": 0.0, \"Yes\": 1.0}, \"pos\": 4}}, \"numFeatures\": 3, \"iterations\": 10, \"numClasses\": 2, \"header\": true})"
   ]
  },
  {
   "cell_type": "code",
   "execution_count": 66,
   "metadata": {
    "collapsed": false
   },
   "outputs": [],
   "source": [
    "r = requests.get(\"http://0.0.0.0:5000/train/Titanic.csv/{0}\".format(parameters))"
   ]
  }
 ],
 "metadata": {
  "kernelspec": {
   "display_name": "Python 3",
   "language": "python",
   "name": "python3"
  },
  "language_info": {
   "codemirror_mode": {
    "name": "ipython",
    "version": 3
   },
   "file_extension": ".py",
   "mimetype": "text/x-python",
   "name": "python",
   "nbconvert_exporter": "python",
   "pygments_lexer": "ipython3",
   "version": "3.5.1"
  }
 },
 "nbformat": 4,
 "nbformat_minor": 0
}
