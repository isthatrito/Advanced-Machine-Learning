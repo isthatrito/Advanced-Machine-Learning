{
 "cells": [
  {
   "cell_type": "code",
   "execution_count": null,
   "metadata": {
    "ExecuteTime": {
     "end_time": "2018-04-04T15:33:17.988733Z",
     "start_time": "2018-04-04T15:33:15.981902Z"
    },
    "slideshow": {
     "slide_type": "skip"
    }
   },
   "outputs": [],
   "source": [
    "import matplotlib.pyplot as plt\n",
    "from matplotlib import cm\n",
    "import pandas as pd\n",
    "import numpy as np\n",
    "from numpy import atleast_2d\n",
    "from sklearn.decomposition import PCA\n",
    "from sklearn.mixture import GaussianMixture\n",
    "from sklearn.metrics import adjusted_mutual_info_score\n",
    "from sklearn.preprocessing import StandardScaler\n",
    "from sklearn.datasets import load_iris\n",
    "from mpl_toolkits.mplot3d import Axes3D"
   ]
  },
  {
   "cell_type": "code",
   "execution_count": null,
   "metadata": {
    "ExecuteTime": {
     "end_time": "2018-04-04T15:33:18.022548Z",
     "start_time": "2018-04-04T15:33:17.992749Z"
    }
   },
   "outputs": [],
   "source": [
    "%matplotlib notebook\n",
    "cmap = cm.get_cmap('viridis')\n",
    "pd.options.display.float_format = '{:,.2f}'.format"
   ]
  },
  {
   "cell_type": "code",
   "execution_count": null,
   "metadata": {
    "ExecuteTime": {
     "end_time": "2018-04-04T15:33:18.098475Z",
     "start_time": "2018-04-04T15:33:18.025755Z"
    },
    "slideshow": {
     "slide_type": "skip"
    }
   },
   "outputs": [],
   "source": [
    "from jupyterthemes import jtplot\n",
    "jtplot.style(theme='onedork', context='talk', fscale=1.4, spines=False, gridlines='--', ticks=True, grid=False, figsize=(8, 6))"
   ]
  },
  {
   "cell_type": "markdown",
   "metadata": {
    "slideshow": {
     "slide_type": "slide"
    }
   },
   "source": [
    "### Load Iris Data"
   ]
  },
  {
   "cell_type": "code",
   "execution_count": null,
   "metadata": {
    "ExecuteTime": {
     "end_time": "2018-04-04T15:33:18.121417Z",
     "start_time": "2018-04-04T15:33:18.102767Z"
    },
    "slideshow": {
     "slide_type": "fragment"
    }
   },
   "outputs": [],
   "source": [
    "iris = load_iris()\n",
    "iris.keys()"
   ]
  },
  {
   "cell_type": "markdown",
   "metadata": {
    "slideshow": {
     "slide_type": "slide"
    }
   },
   "source": [
    "### Create DataFrame"
   ]
  },
  {
   "cell_type": "code",
   "execution_count": null,
   "metadata": {
    "ExecuteTime": {
     "end_time": "2018-04-04T15:33:18.140406Z",
     "start_time": "2018-04-04T15:33:18.125821Z"
    },
    "slideshow": {
     "slide_type": "fragment"
    }
   },
   "outputs": [],
   "source": [
    "features = iris.feature_names\n",
    "data = pd.DataFrame(data=np.column_stack([iris.data, iris.target]), \n",
    "                    columns=features + ['label'])\n",
    "data.label = data.label.astype(int)\n",
    "data.info()"
   ]
  },
  {
   "cell_type": "markdown",
   "metadata": {
    "slideshow": {
     "slide_type": "skip"
    }
   },
   "source": [
    "### Standardize Data"
   ]
  },
  {
   "cell_type": "code",
   "execution_count": null,
   "metadata": {
    "ExecuteTime": {
     "end_time": "2018-04-04T15:33:18.156688Z",
     "start_time": "2018-04-04T15:33:18.148074Z"
    },
    "slideshow": {
     "slide_type": "skip"
    }
   },
   "outputs": [],
   "source": [
    "scaler = StandardScaler()\n",
    "features_standardized = scaler.fit_transform(data[features])\n",
    "n = len(data)"
   ]
  },
  {
   "cell_type": "markdown",
   "metadata": {
    "slideshow": {
     "slide_type": "skip"
    }
   },
   "source": [
    "### Reduce Dimensionality to visualize clusters"
   ]
  },
  {
   "cell_type": "code",
   "execution_count": null,
   "metadata": {
    "ExecuteTime": {
     "end_time": "2018-04-04T15:33:18.167886Z",
     "start_time": "2018-04-04T15:33:18.161115Z"
    },
    "slideshow": {
     "slide_type": "skip"
    }
   },
   "outputs": [],
   "source": [
    "pca = PCA(n_components=2)\n",
    "features_2D = pca.fit_transform(features_standardized)"
   ]
  },
  {
   "cell_type": "code",
   "execution_count": null,
   "metadata": {
    "ExecuteTime": {
     "end_time": "2018-04-04T15:33:18.237369Z",
     "start_time": "2018-04-04T15:33:18.172229Z"
    },
    "hide_input": false,
    "slideshow": {
     "slide_type": "slide"
    }
   },
   "outputs": [],
   "source": [
    "ev1, ev2 = pca.explained_variance_ratio_\n",
    "ax = plt.figure().gca(title='2D Projection', \n",
    "                      xlabel='Explained Variance: {:.2%}'.format(ev1), \n",
    "                      ylabel='Explained Variance: {:.2%}'.format(ev2))\n",
    "ax.scatter(*features_2D.T, c=data.label, s=10)"
   ]
  },
  {
   "cell_type": "markdown",
   "metadata": {
    "slideshow": {
     "slide_type": "slide"
    }
   },
   "source": [
    "### Perform GMM clustering"
   ]
  },
  {
   "cell_type": "code",
   "execution_count": null,
   "metadata": {
    "ExecuteTime": {
     "end_time": "2018-04-04T15:33:18.363046Z",
     "start_time": "2018-04-04T15:33:18.241508Z"
    },
    "slideshow": {
     "slide_type": "fragment"
    }
   },
   "outputs": [],
   "source": [
    "n_components = 3\n",
    "gmm = GaussianMixture(n_components=n_components)\n",
    "gmm.fit(features_standardized)\n",
    "data['clusters'] = gmm.predict(features_standardized)\n",
    "fig, axes = plt.subplots(ncols=2)\n",
    "labels, clusters = data.label, data.clusters\n",
    "mi = adjusted_mutual_info_score(labels, clusters)\n",
    "axes[0].scatter(*features_2D.T, c=data.label, s=10)\n",
    "axes[0].set_title('Original Data')\n",
    "axes[1].scatter(*features_2D.T, c=data.clusters, s=10)\n",
    "axes[1].set_title('Clusters | MI={:.2f}'.format(mi))"
   ]
  },
  {
   "cell_type": "markdown",
   "metadata": {
    "slideshow": {
     "slide_type": "slide"
    }
   },
   "source": [
    "### Visualized Gaussian Distributions"
   ]
  },
  {
   "cell_type": "code",
   "execution_count": null,
   "metadata": {
    "ExecuteTime": {
     "end_time": "2018-04-04T15:33:18.569042Z",
     "start_time": "2018-04-04T15:33:18.367813Z"
    },
    "slideshow": {
     "slide_type": "fragment"
    }
   },
   "outputs": [],
   "source": [
    "xmin, ymin = features_2D.min(axis=0)\n",
    "xmax, ymax = features_2D.max(axis=0)\n",
    "\n",
    "x = np.linspace(xmin, xmax, 500)\n",
    "y = np.linspace(ymin, ymax, 500)\n",
    "X, Y = np.meshgrid(x, y)\n",
    "\n",
    "simulated_2D = np.column_stack([np.ravel(X), np.ravel(Y)])\n",
    "simulated_4D = pca.inverse_transform(simulated_2D)\n",
    "Z = atleast_2d(np.clip(np.exp(gmm.score_samples(simulated_4D)), a_min=0, a_max=1)).reshape(X.shape)"
   ]
  },
  {
   "cell_type": "code",
   "execution_count": null,
   "metadata": {
    "ExecuteTime": {
     "end_time": "2018-04-04T15:33:18.763855Z",
     "start_time": "2018-04-04T15:33:18.572688Z"
    },
    "slideshow": {
     "slide_type": "slide"
    }
   },
   "outputs": [],
   "source": [
    "fig, ax = plt.subplots()\n",
    "ax.set_aspect('equal')\n",
    "CS = ax.contour(X, Y, Z, cmap='Greens', alpha=.5)\n",
    "CB = plt.colorbar(CS, shrink=0.8)\n",
    "ax.scatter(*features_2D.T, c=data.label, s=15)\n",
    "fig.tight_layout()"
   ]
  },
  {
   "cell_type": "code",
   "execution_count": null,
   "metadata": {
    "ExecuteTime": {
     "end_time": "2018-04-04T15:33:19.133183Z",
     "start_time": "2018-04-04T15:33:18.766818Z"
    },
    "slideshow": {
     "slide_type": "slide"
    }
   },
   "outputs": [],
   "source": [
    "fig = plt.figure()\n",
    "ax = fig.gca(projection='3d')\n",
    "ax.set_aspect('equal')\n",
    "CS = ax.contourf3D(X, Y, Z, cmap='RdBu_r', alpha=.5)\n",
    "CB = plt.colorbar(CS, shrink=0.8)\n",
    "ax.scatter(*features_2D.T, c=data.label, s=15)\n",
    "fig.tight_layout()"
   ]
  },
  {
   "cell_type": "markdown",
   "metadata": {
    "slideshow": {
     "slide_type": "slide"
    }
   },
   "source": [
    "### Bayesian Information Criterion "
   ]
  },
  {
   "cell_type": "code",
   "execution_count": null,
   "metadata": {
    "ExecuteTime": {
     "end_time": "2018-04-04T15:33:19.300309Z",
     "start_time": "2018-04-04T15:33:19.135983Z"
    },
    "slideshow": {
     "slide_type": "fragment"
    }
   },
   "outputs": [],
   "source": [
    "bic = {}\n",
    "for n_components in range(2, 8):\n",
    "    gmm = GaussianMixture(n_components=n_components)\n",
    "    gmm.fit(features_standardized)\n",
    "    bic[n_components] = gmm.bic(features_standardized)\n",
    "pd.Series(bic)"
   ]
  }
 ],
 "metadata": {
  "celltoolbar": "Slideshow",
  "hide_input": false,
  "kernelspec": {
   "display_name": "Python 3",
   "language": "python",
   "name": "python3"
  },
  "language_info": {
   "codemirror_mode": {
    "name": "ipython",
    "version": 3
   },
   "file_extension": ".py",
   "mimetype": "text/x-python",
   "name": "python",
   "nbconvert_exporter": "python",
   "pygments_lexer": "ipython3",
   "version": "3.6.4"
  }
 },
 "nbformat": 4,
 "nbformat_minor": 2
}
