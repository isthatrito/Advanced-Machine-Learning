{
 "cells": [
  {
   "cell_type": "markdown",
   "metadata": {},
   "source": [
    "### Imports"
   ]
  },
  {
   "cell_type": "markdown",
   "metadata": {},
   "source": [
    "Run `pip install -r requirements.txt` in this directory to install the necessary packages for this course, ideally using a [virtual environment](https://docs.python.org/3/tutorial/venv.html)."
   ]
  },
  {
   "cell_type": "code",
   "execution_count": null,
   "metadata": {
    "ExecuteTime": {
     "end_time": "2018-04-04T15:15:54.046243Z",
     "start_time": "2018-04-04T15:15:53.210854Z"
    },
    "slideshow": {
     "slide_type": "skip"
    }
   },
   "outputs": [],
   "source": [
    "from os.path import join, basename, splitext\n",
    "from glob import glob\n",
    "from warnings import filterwarnings\n",
    "import matplotlib.pyplot as plt\n",
    "import pandas as pd\n",
    "from numpy.random import rand, seed\n",
    "from sklearn.preprocessing import StandardScaler\n",
    "from sklearn.neighbors import kneighbors_graph\n",
    "from sklearn.datasets import make_blobs, make_circles, make_moons\n",
    "from matplotlib.colors import ListedColormap\n",
    "from sklearn.cluster import KMeans, SpectralClustering, DBSCAN, AgglomerativeClustering\n",
    "from sklearn.mixture import GaussianMixture\n",
    "from sklearn.metrics import adjusted_mutual_info_score\n",
    "import seaborn as sns"
   ]
  },
  {
   "cell_type": "code",
   "execution_count": null,
   "metadata": {
    "ExecuteTime": {
     "end_time": "2018-04-04T15:15:55.063012Z",
     "start_time": "2018-04-04T15:15:55.044297Z"
    }
   },
   "outputs": [],
   "source": [
    "%matplotlib notebook\n",
    "seed(42)\n",
    "flatui = [\"#9b59b6\", \"#3498db\", \"#95a5a6\", \"#e74c3c\", \"#34495e\", \"#2ecc71\"]\n",
    "filterwarnings('ignore')\n",
    "cmap = ListedColormap(sns.color_palette(flatui))\n",
    "pd.options.display.float_format = '{:,.2f}'.format"
   ]
  },
  {
   "cell_type": "markdown",
   "metadata": {},
   "source": [
    "### Jupyter Themes settings"
   ]
  },
  {
   "cell_type": "markdown",
   "metadata": {},
   "source": [
    "The [jupyter-themes](https://github.com/dunovank/jupyter-themes) settings used in the videos will not work in using `jupyter lab` instead of `jupyter notebook`. Just comment out to disable.\n",
    "\n",
    "The appearance of the slides used in the video are [based on running](https://github.com/dunovank/jupyter-themes#description-of-command-line-options):\n",
    "\n",
    "```jt -t onedork -fs 12 -altp -tfs 12 -nfs 115 -ofs 12 -dfs 12 -cellw 88% -T``` \n",
    "\n",
    "prior to starting the notebook (you may have to tweak font sizes etc for your environment), and the presentation uses [RISE](https://github.com/damianavila/RISE)."
   ]
  },
  {
   "cell_type": "code",
   "execution_count": null,
   "metadata": {
    "ExecuteTime": {
     "end_time": "2018-04-04T15:15:59.151220Z",
     "start_time": "2018-04-04T15:15:59.069379Z"
    },
    "slideshow": {
     "slide_type": "skip"
    }
   },
   "outputs": [],
   "source": [
    "from jupyterthemes import jtplot\n",
    "jtplot.style(theme='onedork', context='talk', fscale=1.2, spines=False, gridlines='--', ticks=True, grid=False, figsize=(14, 8))"
   ]
  },
  {
   "cell_type": "markdown",
   "metadata": {
    "slideshow": {
     "slide_type": "slide"
    }
   },
   "source": [
    "### Compare various Cluster Algorithms"
   ]
  },
  {
   "cell_type": "code",
   "execution_count": null,
   "metadata": {
    "ExecuteTime": {
     "end_time": "2018-04-04T15:16:10.472057Z",
     "start_time": "2018-04-04T15:16:03.486670Z"
    },
    "hide_input": false,
    "scrolled": false,
    "slideshow": {
     "slide_type": "fragment"
    }
   },
   "outputs": [],
   "source": [
    "n_samples = 1500\n",
    "random_state = 170\n",
    "\n",
    "blobs = make_blobs(n_samples=n_samples, random_state=random_state)\n",
    "noisy_circles = make_circles(n_samples=n_samples, factor=.5, noise=.05)\n",
    "noisy_moons = make_moons(n_samples=n_samples, noise=.05)\n",
    "\n",
    "uniform = rand(n_samples, 2), None\n",
    "\n",
    "X, y = make_blobs(n_samples=n_samples, random_state=random_state)\n",
    "elongated = X.dot([[0.6, -0.6], [-0.4, 0.8]]), y\n",
    "\n",
    "varied = make_blobs(n_samples=n_samples,\n",
    "                    cluster_std=[1.0, 2.5, 0.5],\n",
    "                    random_state=random_state)\n",
    "\n",
    "default_params = {'quantile': .3,\n",
    "                  'eps': .2,\n",
    "                  'damping': .9,\n",
    "                  'preference': -200,\n",
    "                  'n_neighbors': 10,\n",
    "                  'n_clusters': 3}\n",
    "\n",
    "datasets = [('Standard Normal', blobs, {}),\n",
    "            ('Various Normal', varied, {'eps': .18, 'n_neighbors': 2}),\n",
    "            ('Anisotropic Normal', elongated, {'eps': .15, 'n_neighbors': 2}),\n",
    "            ('Uniform', uniform, {}),\n",
    "            ('Circles', noisy_circles, {'damping': .77, 'preference': -240,\n",
    "                                        'quantile': .2, 'n_clusters': 2}),\n",
    "            ('Moons', noisy_moons, {'damping': .75,\n",
    "                                    'preference': -220, 'n_clusters': 2})\n",
    "            ]\n",
    "\n",
    "\n",
    "fig, axes = plt.subplots(figsize=(12, 12), ncols=5,\n",
    "                         nrows=len(datasets), sharey=True, sharex=True)\n",
    "plt.setp(axes, xticks=[], yticks=[], xlim=(-2.5, 2.5), ylim=(-2.5, 2.5))\n",
    "\n",
    "for d, (dataset_label, dataset, algo_params) in enumerate(datasets):\n",
    "    params = default_params.copy()\n",
    "    params.update(algo_params)\n",
    "\n",
    "    X, y = dataset\n",
    "    X = StandardScaler().fit_transform(X)\n",
    "\n",
    "    # connectivity matrix for structured Ward\n",
    "    connectivity = kneighbors_graph(\n",
    "        X, n_neighbors=params['n_neighbors'], include_self=False)\n",
    "    connectivity = 0.5 * (connectivity + connectivity.T)\n",
    "\n",
    "    kmeans = KMeans(n_clusters=params['n_clusters'])\n",
    "    spectral = SpectralClustering(\n",
    "        n_clusters=params['n_clusters'], eigen_solver='arpack',\n",
    "        affinity=\"nearest_neighbors\")\n",
    "    dbscan = DBSCAN(eps=params['eps'])\n",
    "    average_linkage = AgglomerativeClustering(\n",
    "        linkage=\"average\", affinity=\"cityblock\",\n",
    "        n_clusters=params['n_clusters'], connectivity=connectivity)\n",
    "    gmm = GaussianMixture(\n",
    "        n_components=params['n_clusters'], covariance_type='full')\n",
    "\n",
    "    clustering_algorithms = (\n",
    "        ('KMeans', kmeans),\n",
    "        ('SpectralClustering', spectral),\n",
    "        ('AgglomerativeClustering', average_linkage),\n",
    "        ('DBSCAN', dbscan),\n",
    "        ('GaussianMixture', gmm)\n",
    "    )\n",
    "    for a, (name, algorithm) in enumerate(clustering_algorithms):\n",
    "\n",
    "        if name == 'GaussianMixture':\n",
    "            algorithm.fit(X)\n",
    "            y_pred = algorithm.predict(X)\n",
    "        else:\n",
    "            y_pred = algorithm.fit_predict(X)\n",
    "\n",
    "        axes[d, a].scatter(X[:, 0], X[:, 1], s=5, c=y_pred, cmap=cmap)\n",
    "        if d == 0:\n",
    "            axes[d, a].set_title(name, size=12)\n",
    "        if a == 0:\n",
    "            axes[d, a].set_ylabel(dataset_label, size=12)\n",
    "        \n",
    "        if y is None:\n",
    "            y = [.5] * n_samples\n",
    "        mi = adjusted_mutual_info_score(labels_pred=y_pred, labels_true=y)\n",
    "        axes[d, a].text(0.01, 0.92, 'MI: {:.2f}'.format(mi), transform=axes[d, a].transAxes, fontsize=10)\n",
    "\n",
    "fig.tight_layout()"
   ]
  }
 ],
 "metadata": {
  "celltoolbar": "Slideshow",
  "hide_input": false,
  "kernelspec": {
   "display_name": "Python 3",
   "language": "python",
   "name": "python3"
  },
  "language_info": {
   "codemirror_mode": {
    "name": "ipython",
    "version": 3
   },
   "file_extension": ".py",
   "mimetype": "text/x-python",
   "name": "python",
   "nbconvert_exporter": "python",
   "pygments_lexer": "ipython3",
   "version": "3.6.4"
  }
 },
 "nbformat": 4,
 "nbformat_minor": 1
}
