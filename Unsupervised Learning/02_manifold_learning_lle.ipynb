{
 "cells": [
  {
   "cell_type": "code",
   "execution_count": null,
   "metadata": {
    "ExecuteTime": {
     "end_time": "2018-02-02T21:36:44.497263Z",
     "start_time": "2018-02-02T21:36:44.486226Z"
    },
    "slideshow": {
     "slide_type": "skip"
    }
   },
   "outputs": [],
   "source": [
    "from pathlib import Path\n",
    "from os.path import join\n",
    "import pandas as pd\n",
    "import numpy as np\n",
    "from numpy.random import choice, randint, uniform, randn\n",
    "import seaborn as sns\n",
    "import matplotlib.pyplot as plt\n",
    "from matplotlib import cm\n",
    "import ipyvolume as ipv\n",
    "import ipyvolume.pylab as p3\n",
    "from ipywidgets import HBox\n",
    "from sklearn.datasets import fetch_mldata, make_swiss_roll, make_s_curve\n",
    "from sklearn.manifold import locally_linear_embedding\n",
    "from sklearn.decomposition import PCA\n",
    "from plotly.offline import init_notebook_mode, iplot\n",
    "from plotly.graph_objs import *\n",
    "import colorlover as cl"
   ]
  },
  {
   "cell_type": "code",
   "execution_count": null,
   "metadata": {
    "ExecuteTime": {
     "end_time": "2018-02-02T20:30:45.156452Z",
     "start_time": "2018-02-02T20:30:45.144065Z"
    },
    "slideshow": {
     "slide_type": "skip"
    }
   },
   "outputs": [],
   "source": [
    "%matplotlib inline\n",
    "plt.style.use('ggplot')\n",
    "pd.options.display.float_format = '{:,.2f}'.format\n",
    "from jupyterthemes import jtplot\n",
    "jtplot.style(theme='onedork', context='talk', fscale=1.4, spines=False, \n",
    "             gridlines='--', ticks=True, grid=False, figsize=(14, 8))\n",
    "init_notebook_mode(connected=True)"
   ]
  },
  {
   "cell_type": "markdown",
   "metadata": {
    "slideshow": {
     "slide_type": "slide"
    }
   },
   "source": [
    "### Manifold Examples"
   ]
  },
  {
   "cell_type": "markdown",
   "metadata": {
    "slideshow": {
     "slide_type": "fragment"
    }
   },
   "source": [
    "#### Linear Manifold: Ellipse in 3D "
   ]
  },
  {
   "cell_type": "code",
   "execution_count": null,
   "metadata": {
    "slideshow": {
     "slide_type": "fragment"
    }
   },
   "outputs": [],
   "source": [
    "n_points, noise = 1000, 0.1\n",
    "angles = uniform(low=-np.pi, high=np.pi, size=n_points)\n",
    "x = 2 * np.cos(angles) + noise * randn(n_points)\n",
    "y = np.sin(angles) + noise * randn(n_points)\n",
    "\n",
    "theta = np.pi/4 # 45 degree rotation\n",
    "rotation_matrix = np.array([[np.cos(theta), -np.sin(theta)], \n",
    "                            [np.sin(theta), np.cos(theta)]])\n",
    "\n",
    "rotated = np.column_stack((x, y)).dot(rotation_matrix)\n",
    "x, y = rotated[:, 0], rotated[:, 1]\n",
    "\n",
    "z = .2 * x  + .2 * y + noise * randn(n_points)\n",
    "ellipse3d = np.vstack((x, y, z)).T"
   ]
  },
  {
   "cell_type": "markdown",
   "metadata": {
    "slideshow": {
     "slide_type": "slide"
    }
   },
   "source": [
    "#### PCA: Linear Dimensionality Reduction"
   ]
  },
  {
   "cell_type": "code",
   "execution_count": null,
   "metadata": {
    "slideshow": {
     "slide_type": "fragment"
    }
   },
   "outputs": [],
   "source": [
    "def get_2d_projection(data, pc):\n",
    "    min_, max_ = data[:, :2].min(0), data[:, :2].max(0)\n",
    "    X, Y = np.meshgrid(np.linspace(min_[0], max_[0], 50),\n",
    "                       np.linspace(min_[1], max_[1], 50))\n",
    "\n",
    "    nv = np.cross(pc.components_[0], pc.components_[1])\n",
    "    d = -pc.mean_.dot(nv)\n",
    "    Z = (-nv[0] * X - nv[1] * Y - d) * 1 / nv[2]\n",
    "    factor = max(data[:, -1].min() / Z.min(), data[:, -1].max()/Z.max())\n",
    "    return X, Y, Z * factor"
   ]
  },
  {
   "cell_type": "code",
   "execution_count": null,
   "metadata": {
    "slideshow": {
     "slide_type": "fragment"
    }
   },
   "outputs": [],
   "source": [
    "pca = PCA(n_components=2)\n",
    "ellipse2d = pca.fit_transform(ellipse3d)"
   ]
  },
  {
   "cell_type": "code",
   "execution_count": null,
   "metadata": {
    "slideshow": {
     "slide_type": "slide"
    }
   },
   "outputs": [],
   "source": [
    "znorm = z - z.min()\n",
    "znorm /= znorm.ptp()\n",
    "color = cm.viridis(znorm)\n",
    "\n",
    "xs, ys, zs = get_2d_projection(ellipse3d, pca)\n",
    "p3.figure(width=600, height=600)\n",
    "p3.plot_wireframe(xs, ys, zs, color=\"black\")\n",
    "p3.scatter(x, y, z, marker='sphere', color=color[:,0:3], size=1)\n",
    "p3.view(azimuth=45, elevation=75)\n",
    "p3.show()"
   ]
  },
  {
   "cell_type": "markdown",
   "metadata": {
    "slideshow": {
     "slide_type": "slide"
    }
   },
   "source": [
    "### Swiss Roll Example"
   ]
  },
  {
   "cell_type": "code",
   "execution_count": null,
   "metadata": {
    "slideshow": {
     "slide_type": "fragment"
    }
   },
   "outputs": [],
   "source": [
    "n_samples = 10000\n",
    "palette = sns.color_palette('viridis', n_colors=n_samples)\n",
    "zeros = np.zeros(n_samples) + .5"
   ]
  },
  {
   "cell_type": "code",
   "execution_count": null,
   "metadata": {
    "slideshow": {
     "slide_type": "fragment"
    }
   },
   "outputs": [],
   "source": [
    "swiss_3d, swiss_val = make_swiss_roll(\n",
    "    n_samples=n_samples, noise=.1, random_state=42)\n",
    "\n",
    "swiss_3d = swiss_3d[swiss_val.argsort()[::-1]]\n",
    "x, y, z = swiss_3d.T "
   ]
  },
  {
   "cell_type": "code",
   "execution_count": null,
   "metadata": {
    "slideshow": {
     "slide_type": "fragment"
    }
   },
   "outputs": [],
   "source": [
    "p3.figure()\n",
    "p3.scatter(np.sort(swiss_val), y, zeros, marker='sphere', color=palette, size=1)\n",
    "p3.xlim(swiss_val.min(), swiss_val.max())\n",
    "fig = p3.gcc()"
   ]
  },
  {
   "cell_type": "code",
   "execution_count": null,
   "metadata": {
    "scrolled": false,
    "slideshow": {
     "slide_type": "slide"
    }
   },
   "outputs": [],
   "source": [
    "HBox([\n",
    "    ipv.quickscatter(x, y, z, size=1, color=palette, marker='sphere'),\n",
    "    fig\n",
    "])"
   ]
  },
  {
   "cell_type": "markdown",
   "metadata": {
    "slideshow": {
     "slide_type": "slide"
    }
   },
   "source": [
    "#### Linear cuts along the axes"
   ]
  },
  {
   "cell_type": "code",
   "execution_count": null,
   "metadata": {
    "slideshow": {
     "slide_type": "fragment"
    }
   },
   "outputs": [],
   "source": [
    "p3.figure(width=600, height=600)\n",
    "p3.scatter(zeros, y, z, marker='sphere', color=palette, size=1)\n",
    "p3.view(azimuth=15, elevation=45)\n",
    "fig1 = p3.gcc()"
   ]
  },
  {
   "cell_type": "code",
   "execution_count": null,
   "metadata": {
    "slideshow": {
     "slide_type": "fragment"
    }
   },
   "outputs": [],
   "source": [
    "p3.figure(width=600, height=600)\n",
    "p3.scatter(x, zeros, z, marker='sphere', color=palette, size=1)\n",
    "p3.view(azimuth=15, elevation=45)\n",
    "fig2 = p3.gcc()"
   ]
  },
  {
   "cell_type": "code",
   "execution_count": null,
   "metadata": {
    "slideshow": {
     "slide_type": "fragment"
    }
   },
   "outputs": [],
   "source": [
    "p3.figure(width=600, height=600)\n",
    "p3.scatter(x, y, zeros, marker='sphere', color=palette, size=1)\n",
    "p3.view(azimuth=15, elevation=45)\n",
    "fig3 = p3.gcc()"
   ]
  },
  {
   "cell_type": "code",
   "execution_count": null,
   "metadata": {
    "scrolled": true,
    "slideshow": {
     "slide_type": "slide"
    }
   },
   "outputs": [],
   "source": [
    "HBox([\n",
    "    fig1, fig2, fig3]\n",
    ")"
   ]
  },
  {
   "cell_type": "markdown",
   "metadata": {
    "slideshow": {
     "slide_type": "slide"
    }
   },
   "source": [
    "#### Principal Component Analysis"
   ]
  },
  {
   "cell_type": "code",
   "execution_count": null,
   "metadata": {
    "slideshow": {
     "slide_type": "fragment"
    }
   },
   "outputs": [],
   "source": [
    "pca = PCA(n_components=2)\n",
    "swiss_2d = pca.fit_transform(swiss_3d)"
   ]
  },
  {
   "cell_type": "code",
   "execution_count": null,
   "metadata": {
    "slideshow": {
     "slide_type": "fragment"
    }
   },
   "outputs": [],
   "source": [
    "p3.figure(width=600, height=600)\n",
    "xs, ys, zs = get_2d_projection(swiss_3d, pca)\n",
    "p3.plot_wireframe(xs, ys, zs, color='black')\n",
    "p3.scatter(*swiss_3d.T, marker='sphere', color=palette, size=1)\n",
    "p3.view(azimuth=15, elevation=45)\n",
    "fig1 = p3.gcc()"
   ]
  },
  {
   "cell_type": "code",
   "execution_count": null,
   "metadata": {
    "slideshow": {
     "slide_type": "fragment"
    }
   },
   "outputs": [],
   "source": [
    "p3.figure(width=600, height=600)\n",
    "\n",
    "min_2d, max_2d = swiss_2d[:, :2].min(0), swiss_2d[:, :2].max(0)\n",
    "x2d, y2d = np.meshgrid(np.linspace(min_2d[0], max_2d[0], 100),\n",
    "                     np.linspace(min_2d[1], max_2d[1], 100))\n",
    "p3.plot_wireframe(x2d, y2d, np.zeros(shape=(100, 100)) + .5, color='black'),\n",
    "\n",
    "p3.scatter(*np.c_[swiss_2d, np.zeros(n_samples) + .5].T,\n",
    "           marker='sphere', color=palette, size=1)\n",
    "p3.view(azimuth=45, elevation=45)\n",
    "fig2 = p3.gcc()"
   ]
  },
  {
   "cell_type": "code",
   "execution_count": null,
   "metadata": {
    "slideshow": {
     "slide_type": "slide"
    }
   },
   "outputs": [],
   "source": [
    "HBox([\n",
    "fig1, fig2]\n",
    ")"
   ]
  },
  {
   "cell_type": "markdown",
   "metadata": {
    "slideshow": {
     "slide_type": "slide"
    }
   },
   "source": [
    "### But will manifold learning simplify the task at hand?"
   ]
  },
  {
   "cell_type": "code",
   "execution_count": null,
   "metadata": {
    "slideshow": {
     "slide_type": "fragment"
    }
   },
   "outputs": [],
   "source": [
    "cpos, cneg = cm.viridis(0)[:3], cm.viridis(.999)[:3]\n",
    "positive_class = swiss_3d[:, 0] > 4\n",
    "X_pos = swiss_3d[positive_class]\n",
    "X_neg = swiss_3d[~positive_class]"
   ]
  },
  {
   "cell_type": "code",
   "execution_count": null,
   "metadata": {
    "slideshow": {
     "slide_type": "fragment"
    }
   },
   "outputs": [],
   "source": [
    "p3.figure(width=600, height=600)\n",
    "p3.scatter(*X_pos.T, marker='sphere', color=cpos, size=1)\n",
    "p3.scatter(*X_neg.T, marker='sphere', color=cneg, size=1)\n",
    "p3.view(azimuth=15, elevation=45)\n",
    "fig1 = p3.gcc()"
   ]
  },
  {
   "cell_type": "code",
   "execution_count": null,
   "metadata": {
    "slideshow": {
     "slide_type": "fragment"
    }
   },
   "outputs": [],
   "source": [
    "p3.figure(width=600, height=600)\n",
    "p3.scatter(np.sort(swiss_val)[positive_class], X_pos[:, 1], zeros,marker='sphere', color=cpos, size=1)\n",
    "p3.scatter(np.sort(swiss_val)[~positive_class], X_neg[:, 1], zeros,marker='sphere', color=cneg, size=1)\n",
    "p3.view(azimuth=15, elevation=45)\n",
    "fig2 = p3.gcc()"
   ]
  },
  {
   "cell_type": "code",
   "execution_count": null,
   "metadata": {
    "slideshow": {
     "slide_type": "slide"
    }
   },
   "outputs": [],
   "source": [
    "HBox([fig1, fig2])"
   ]
  },
  {
   "cell_type": "code",
   "execution_count": null,
   "metadata": {
    "slideshow": {
     "slide_type": "slide"
    }
   },
   "outputs": [],
   "source": [
    "positive_class = 2 * (np.sort(swiss_val) - 4) > swiss_3d[:, 1]\n",
    "X_pos = swiss_3d[positive_class]\n",
    "X_neg = swiss_3d[~positive_class]"
   ]
  },
  {
   "cell_type": "code",
   "execution_count": null,
   "metadata": {
    "slideshow": {
     "slide_type": "skip"
    }
   },
   "outputs": [],
   "source": [
    "p3.figure(width=600, height=600)\n",
    "p3.scatter(*X_pos.T, marker='sphere', color=cpos, size=1)\n",
    "p3.scatter(*X_neg.T, marker='sphere', color=cneg, size=1)\n",
    "p3.view(azimuth=15, elevation=45)\n",
    "fig1 = p3.gcc()"
   ]
  },
  {
   "cell_type": "code",
   "execution_count": null,
   "metadata": {
    "slideshow": {
     "slide_type": "skip"
    }
   },
   "outputs": [],
   "source": [
    "p3.figure(width=600, height=600)\n",
    "p3.scatter(np.sort(swiss_val)[positive_class], X_pos[:, 1], zeros,marker='sphere', color=cpos, size=1)\n",
    "p3.scatter(np.sort(swiss_val)[~positive_class], X_neg[:, 1], zeros,marker='sphere', color=cneg, size=1)\n",
    "p3.view(azimuth=15, elevation=45)\n",
    "fig2 = p3.gcc()"
   ]
  },
  {
   "cell_type": "code",
   "execution_count": null,
   "metadata": {
    "scrolled": true,
    "slideshow": {
     "slide_type": "fragment"
    }
   },
   "outputs": [],
   "source": [
    "HBox([fig1, fig2])"
   ]
  },
  {
   "cell_type": "markdown",
   "metadata": {
    "slideshow": {
     "slide_type": "slide"
    }
   },
   "source": [
    "#### Local-Linear Embedding"
   ]
  },
  {
   "cell_type": "code",
   "execution_count": null,
   "metadata": {
    "hide_input": false,
    "scrolled": false,
    "slideshow": {
     "slide_type": "fragment"
    }
   },
   "outputs": [],
   "source": [
    "fig, axes = plt.subplots(nrows=2, ncols=4, figsize=(14, 8))\n",
    "for row, method in enumerate(['standard', 'modified']):\n",
    "    for col, n_neighbors in enumerate([5, 10, 20, 30]):\n",
    "        embedded, err = locally_linear_embedding(swiss_3d, n_neighbors=n_neighbors, n_components=2,\n",
    "                                                 method=method, random_state=42)\n",
    "        axes[row, col].scatter(*embedded.T, c=palette, s=5)\n",
    "        axes[row, col].set_title('LLE: {} | {} neighbors'.format(method, n_neighbors))\n",
    "fig.tight_layout()"
   ]
  },
  {
   "cell_type": "code",
   "execution_count": null,
   "metadata": {
    "hide_input": true,
    "slideshow": {
     "slide_type": "slide"
    }
   },
   "outputs": [],
   "source": [
    "fig, axes = plt.subplots(nrows=2, ncols=4, figsize=(14, 8))\n",
    "with pd.HDFStore('/'.join(['data', 'manifolds.h5'])) as store:\n",
    "    for row, method in enumerate(['standard', 'modified']):\n",
    "        for col, n_neighbors in enumerate([5, 10, 20, 30]):\n",
    "            x, y = store.get('/'.join(['swiss', 'lle', method, str(n_neighbors)])).T.values\n",
    "            axes[row, col].scatter(x, y, c=palette, s=5)\n",
    "            axes[row, col].set_title('LLE: {} | {} neighbors'.format(method, n_neighbors))\n",
    "fig.tight_layout()"
   ]
  },
  {
   "cell_type": "code",
   "execution_count": null,
   "metadata": {
    "hide_input": true,
    "slideshow": {
     "slide_type": "slide"
    }
   },
   "outputs": [],
   "source": [
    "fig, axes = plt.subplots(nrows=2, ncols=4, figsize=(14, 8))\n",
    "with pd.HDFStore('/'.join(['data', 'manifolds.h5'])) as store:\n",
    "    for row, method in enumerate(['standard', 'modified']):\n",
    "        for col, n_neighbors in enumerate([5, 10, 20, 30]):\n",
    "            x, y = store.get('/'.join(['swiss', 'lle', method, str(n_neighbors)])).T.values * 100\n",
    "            axes[row, col].scatter(x, y, c=palette, s=5)\n",
    "            axes[row, col].set_title('LLE: {} | {} neighbors'.format(method, n_neighbors))\n",
    "fig.tight_layout()"
   ]
  },
  {
   "cell_type": "markdown",
   "metadata": {
    "hide_input": true,
    "slideshow": {
     "slide_type": "slide"
    }
   },
   "source": [
    "### S-Curve Example"
   ]
  },
  {
   "cell_type": "code",
   "execution_count": null,
   "metadata": {
    "slideshow": {
     "slide_type": "fragment"
    }
   },
   "outputs": [],
   "source": [
    "scurve_3d, scurve_val = make_s_curve(\n",
    "    n_samples=n_samples, noise=.05, random_state=42)\n",
    "scurve_3d = scurve_3d[scurve_val.argsort()[::-1]]\n",
    "scurve_3d[:, 1] *= 10"
   ]
  },
  {
   "cell_type": "code",
   "execution_count": null,
   "metadata": {
    "slideshow": {
     "slide_type": "fragment"
    }
   },
   "outputs": [],
   "source": [
    "pca = PCA(n_components=2)\n",
    "scurve_2d = pca.fit_transform(scurve_3d)"
   ]
  },
  {
   "cell_type": "code",
   "execution_count": null,
   "metadata": {
    "slideshow": {
     "slide_type": "slide"
    }
   },
   "outputs": [],
   "source": [
    "p3.figure(width=600, height=600)\n",
    "xs, ys, zs = get_2d_projection(scurve_3d, pca)\n",
    "p3.plot_wireframe(xs, ys, zs, color='black')\n",
    "p3.scatter(*scurve_3d.T, marker='sphere', color=palette, size=1)\n",
    "p3.view(azimuth=15, elevation=45)\n",
    "fig1 = p3.gcc()"
   ]
  },
  {
   "cell_type": "code",
   "execution_count": null,
   "metadata": {
    "slideshow": {
     "slide_type": "fragment"
    }
   },
   "outputs": [],
   "source": [
    "p3.figure(width=600, height=600)\n",
    "\n",
    "min_2d, max_2d = scurve_2d[:, :2].min(0), scurve_2d[:, :2].max(0)\n",
    "x2d, y2d = np.meshgrid(np.linspace(min_2d[0], max_2d[0], 100),\n",
    "                     np.linspace(min_2d[1], max_2d[1], 100))\n",
    "p3.plot_wireframe(x2d, y2d, np.zeros(shape=(100, 100)) + .5, color='black'),\n",
    "\n",
    "p3.scatter(*np.c_[scurve_2d, np.zeros(n_samples) + .5].T,\n",
    "           marker='sphere', color=palette, size=1)\n",
    "p3.view(azimuth=45, elevation=45)\n",
    "fig2 = p3.gcc()"
   ]
  },
  {
   "cell_type": "code",
   "execution_count": null,
   "metadata": {
    "scrolled": true,
    "slideshow": {
     "slide_type": "slide"
    }
   },
   "outputs": [],
   "source": [
    "HBox([\n",
    "fig1, fig2]\n",
    ")"
   ]
  },
  {
   "cell_type": "markdown",
   "metadata": {
    "slideshow": {
     "slide_type": "slide"
    }
   },
   "source": [
    "#### Local-Linear Embedding"
   ]
  },
  {
   "cell_type": "code",
   "execution_count": null,
   "metadata": {
    "slideshow": {
     "slide_type": "fragment"
    }
   },
   "outputs": [],
   "source": [
    "fig, axes = plt.subplots(nrows=2, ncols=4, figsize=(14, 8))\n",
    "for row, method in enumerate(['standard', 'modified']):\n",
    "    for col, n_neighbors in enumerate([5, 10, 20, 30]):\n",
    "        embedded, err = locally_linear_embedding(scurve_3d,\n",
    "                                                 n_neighbors=n_neighbors,\n",
    "                                                 n_components=2,\n",
    "                                                 method=method,\n",
    "                                                 random_state=42)\n",
    "        axes[row, col].scatter(*embedded.T, c=palette, s=5)\n",
    "        axes[row, col].set_title('LLE: {} | {} neighbors'.format(method, n_neighbors))\n",
    "fig.tight_layout()"
   ]
  },
  {
   "cell_type": "code",
   "execution_count": null,
   "metadata": {
    "hide_input": true,
    "slideshow": {
     "slide_type": "slide"
    }
   },
   "outputs": [],
   "source": [
    "fig, axes = plt.subplots(nrows=2, ncols=4, figsize=(14, 8))\n",
    "with pd.HDFStore('/'.join(['data', 'manifolds.h5'])) as store:\n",
    "    for row, method in enumerate(['standard', 'modified']):\n",
    "        for col, n_neighbors in enumerate([5, 10, 20, 30]):\n",
    "            x, y = store.get('/'.join(['scurve', 'lle', method, str(n_neighbors)])).T.values * 100\n",
    "            axes[row, col].scatter(x, y, c=palette, s=5)\n",
    "            axes[row, col].set_title('LLE: {} | {} neighbors'.format(method, n_neighbors))\n",
    "fig.tight_layout()"
   ]
  },
  {
   "cell_type": "code",
   "execution_count": null,
   "metadata": {
    "hide_input": true,
    "slideshow": {
     "slide_type": "slide"
    }
   },
   "outputs": [],
   "source": [
    "fig, axes = plt.subplots(nrows=2, ncols=4, figsize=(14, 8))\n",
    "with pd.HDFStore('manifold_comparison.h5') as store:\n",
    "    for row, method in enumerate(['standard', 'modified']):\n",
    "        for col, n_neighbors in enumerate([5, 10, 20, 30]):\n",
    "            embedded, err = locally_linear_embedding(scurve_3d,\n",
    "                                                     n_neighbors=n_neighbors,\n",
    "                                                     n_components=2,\n",
    "                                                     method=method,\n",
    "                                                     random_state=42)\n",
    "            axes[row, col].scatter(*embedded.T, c=palette, s=5)\n",
    "            axes[row, col].set_title(\n",
    "                'LLE: {} | {} neighbors'.format(method, n_neighbors))\n",
    "fig.tight_layout()"
   ]
  },
  {
   "cell_type": "markdown",
   "metadata": {
    "slideshow": {
     "slide_type": "slide"
    }
   },
   "source": [
    "### Handwritten Digits"
   ]
  },
  {
   "cell_type": "code",
   "execution_count": null,
   "metadata": {
    "slideshow": {
     "slide_type": "fragment"
    }
   },
   "outputs": [],
   "source": [
    "mnist = fetch_mldata('MNIST original', data_home='.')\n",
    "mnist.data.shape"
   ]
  },
  {
   "cell_type": "code",
   "execution_count": null,
   "metadata": {
    "slideshow": {
     "slide_type": "fragment"
    }
   },
   "outputs": [],
   "source": [
    "classes = sorted(np.unique(mnist.target).astype(int))\n",
    "classes"
   ]
  },
  {
   "cell_type": "code",
   "execution_count": null,
   "metadata": {
    "slideshow": {
     "slide_type": "fragment"
    }
   },
   "outputs": [],
   "source": [
    "ipv_cmap = sns.color_palette(\"Paired\", n_colors=10)\n",
    "sns.palplot(ipv_cmap)"
   ]
  },
  {
   "cell_type": "markdown",
   "metadata": {
    "slideshow": {
     "slide_type": "slide"
    }
   },
   "source": [
    "#### Plot sample images"
   ]
  },
  {
   "cell_type": "code",
   "execution_count": null,
   "metadata": {
    "slideshow": {
     "slide_type": "fragment"
    }
   },
   "outputs": [],
   "source": [
    "image_size = int(np.sqrt(mnist.data.shape[1])) # 28 x 28 pixels\n",
    "n_samples = 15"
   ]
  },
  {
   "cell_type": "code",
   "execution_count": null,
   "metadata": {
    "slideshow": {
     "slide_type": "fragment"
    }
   },
   "outputs": [],
   "source": [
    "fig, ax = plt.subplots()\n",
    "mnist_sample = np.empty(\n",
    "    shape=(image_size * len(classes), image_size * n_samples))\n",
    "for row, label in enumerate(classes):\n",
    "    label_data = np.squeeze(np.argwhere(mnist.target == label))\n",
    "    samples = choice(label_data, size=n_samples, replace=False)\n",
    "    i = row * image_size\n",
    "    for col, sample in enumerate(samples):\n",
    "        j = col * image_size\n",
    "        mnist_sample[i:i+image_size, j:j +\n",
    "                     image_size] = mnist.data[sample].reshape(image_size, -1)\n",
    "\n",
    "ax.imshow(mnist_sample, cmap='Blues')\n",
    "plt.title('Handwritten Digits')\n",
    "plt.axis('off')\n",
    "plt.tight_layout()"
   ]
  },
  {
   "cell_type": "markdown",
   "metadata": {
    "slideshow": {
     "slide_type": "slide"
    }
   },
   "source": [
    "### Linear Dimensionality Reduction"
   ]
  },
  {
   "cell_type": "code",
   "execution_count": null,
   "metadata": {
    "slideshow": {
     "slide_type": "fragment"
    }
   },
   "outputs": [],
   "source": [
    "pca = PCA(n_components=2)\n",
    "mnist_pca_2d = pca.fit_transform(mnist.data)\n",
    "ev = pca.explained_variance_ratio_"
   ]
  },
  {
   "cell_type": "code",
   "execution_count": null,
   "metadata": {
    "slideshow": {
     "slide_type": "slide"
    }
   },
   "outputs": [],
   "source": [
    "plotly_cmap = cl.to_rgb( cl.scales['10']['qual']['Paired'])\n",
    "def plotly_scatter(data, label, title, color, x='x', y='y'):\n",
    "    fig = dict(\n",
    "        data=[\n",
    "            dict(\n",
    "                type='scattergl',\n",
    "                x=data[:, 0],\n",
    "                y=data[:, 1],\n",
    "                legendgroup=\"group\",\n",
    "                text=label.astype(int),\n",
    "                mode='markers',\n",
    "                marker=Marker(\n",
    "                    size=5,\n",
    "                    color=color,\n",
    "                    autocolorscale=False,\n",
    "                    showscale=False,\n",
    "                    opacity=.9,\n",
    "                    colorbar=ColorBar(\n",
    "                        title='Class'\n",
    "                    ),\n",
    "                    line=dict(width=1))),\n",
    "        ],\n",
    "        layout=dict(title=title,\n",
    "                    width=1200,\n",
    "                    font=dict(color='white'),\n",
    "                    xaxis=dict(\n",
    "                        title=x, \n",
    "                        hoverformat='.1f', \n",
    "                        showgrid=False),\n",
    "                    yaxis=dict(title=y, \n",
    "                               hoverformat='.1f', \n",
    "                               showgrid=False),\n",
    "                    paper_bgcolor='rgba(0,0,0,0)',\n",
    "                    plot_bgcolor='rgba(0,0,0,0)'\n",
    "                    ))\n",
    "\n",
    "    iplot(fig, show_link=False)"
   ]
  },
  {
   "cell_type": "code",
   "execution_count": null,
   "metadata": {
    "scrolled": false,
    "slideshow": {
     "slide_type": "slide"
    }
   },
   "outputs": [],
   "source": [
    "plotly_color = [plotly_cmap[int(i)] for i in mnist.target]\n",
    "plotly_scatter(data=mnist_pca_2d, \n",
    "               title='MNIST PCA Projection',\n",
    "               label=mnist.target,\n",
    "               color=plotly_color,\n",
    "               x='1st Principal Component: {:.2%}'.format(ev[0]), \n",
    "               y='Second Principal Component: {:.2%}'.format(ev[1]))"
   ]
  },
  {
   "cell_type": "code",
   "execution_count": null,
   "metadata": {
    "slideshow": {
     "slide_type": "slide"
    }
   },
   "outputs": [],
   "source": [
    "pca = PCA(n_components=3)\n",
    "mnist_3d = pca.fit_transform(mnist.data)\n",
    "pd.Series(pca.explained_variance_ratio_)"
   ]
  },
  {
   "cell_type": "code",
   "execution_count": null,
   "metadata": {
    "slideshow": {
     "slide_type": "slide"
    }
   },
   "outputs": [],
   "source": [
    "ipv_color = [ipv_cmap[int(t)] for t in mnist.target]\n",
    "ipv.quickscatter(*mnist_3d.T, size=.5, color=ipv_color, marker='sphere')"
   ]
  },
  {
   "cell_type": "markdown",
   "metadata": {
    "slideshow": {
     "slide_type": "slide"
    }
   },
   "source": [
    "#### Local Linear Embedding: Standard"
   ]
  },
  {
   "cell_type": "markdown",
   "metadata": {},
   "source": [
    "The following `locally_linear_embedding` on `mnist.data` takes fairly long to run, hence we are providing pre-computed results so you can explore the visualizations regardless of your hardware setup."
   ]
  },
  {
   "cell_type": "code",
   "execution_count": null,
   "metadata": {},
   "outputs": [],
   "source": [
    "# the pre-computed manifold results for the various datasets and numerous parameter settings are here:\n",
    "with pd.HDFStore(join('data', 'manifolds.h5')) as store:\n",
    "    print(store.info())"
   ]
  },
  {
   "cell_type": "code",
   "execution_count": null,
   "metadata": {
    "slideshow": {
     "slide_type": "fragment"
    }
   },
   "outputs": [],
   "source": [
    "# commented out to avoid long run time\n",
    "# lle, err = locally_linear_embedding(X=mnist.data, n_components=2, n_neighbors=20, method='standard')"
   ]
  },
  {
   "cell_type": "code",
   "execution_count": null,
   "metadata": {
    "slideshow": {
     "slide_type": "skip"
    }
   },
   "outputs": [],
   "source": [
    "def get_result(source, method, params):\n",
    "    key = '/'.join([source, method, '/'.join([str(p) for p in params])])\n",
    "    with pd.HDFStore('/'.join(['data', 'manifolds.h5'])) as store:\n",
    "        data = store[key].values\n",
    "        labels = store['/'.join([source, 'labels'])]\n",
    "    return data, labels"
   ]
  },
  {
   "cell_type": "code",
   "execution_count": null,
   "metadata": {
    "hide_input": false,
    "slideshow": {
     "slide_type": "slide"
    }
   },
   "outputs": [],
   "source": [
    "fig, axes = plt.subplots(nrows=2, ncols=4)\n",
    "with pd.HDFStore(join('data', 'manifolds.h5')) as store:\n",
    "    labels = store.get('/'.join(['mnist', 'labels']))\n",
    "    color = [sns.color_palette('Paired', 10)[int(i)] for i in labels]\n",
    "    for row, method in enumerate(['standard', 'modified']):\n",
    "        for col, n_neighbors in enumerate([20, 50, 100, 200]):\n",
    "            try:\n",
    "                x, y = store.get('/'.join(['mnist', 'lle', method, '2', str(n_neighbors)])).T.values\n",
    "            except:\n",
    "                x, y = store.get('/'.join(['mnist', 'lle', '2', str(n_neighbors)])).T.values\n",
    "            axes[row, col].scatter(x, y, c=color, s=5)\n",
    "            axes[row, col].set_title('LLE: {} | {} neighbors'.format(method, n_neighbors))\n",
    "fig.tight_layout()  "
   ]
  },
  {
   "cell_type": "code",
   "execution_count": null,
   "metadata": {
    "hide_input": true,
    "slideshow": {
     "slide_type": "fragment"
    }
   },
   "outputs": [],
   "source": [
    "params = ['standard', 2, 100]\n",
    "embedding, labels = get_result('mnist', 'lle', params)\n",
    "color = [plotly_cmap[int(i)] for i in labels]\n",
    "plotly_scatter(embedding, labels, color=color, title='Local Linear Embedding (Standard) | 100 Neighbors')"
   ]
  },
  {
   "cell_type": "markdown",
   "metadata": {
    "slideshow": {
     "slide_type": "slide"
    }
   },
   "source": [
    "### Load Fashion MNIST Data"
   ]
  },
  {
   "cell_type": "code",
   "execution_count": null,
   "metadata": {
    "slideshow": {
     "slide_type": "fragment"
    }
   },
   "outputs": [],
   "source": [
    "fashion_mnist = pd.read_csv(Path('data') / 'fashion-mnist_train.csv.gz')\n",
    "fashion_label = fashion_mnist.label\n",
    "fashion_data = fashion_mnist.drop('label', axis=1).values\n",
    "classes = sorted(np.unique(fashion_label).astype(int))"
   ]
  },
  {
   "cell_type": "code",
   "execution_count": null,
   "metadata": {
    "slideshow": {
     "slide_type": "skip"
    }
   },
   "outputs": [],
   "source": [
    "image_size = int(np.sqrt(fashion_data.shape[1])) # 28 x 28 pixels\n",
    "n_samples = 15"
   ]
  },
  {
   "cell_type": "code",
   "execution_count": null,
   "metadata": {
    "hide_input": true,
    "slideshow": {
     "slide_type": "slide"
    }
   },
   "outputs": [],
   "source": [
    "fig, ax = plt.subplots()\n",
    "fashion_sample = np.empty(shape=(image_size * len(classes),\n",
    "                               image_size * n_samples))\n",
    "for row, label in enumerate(classes):\n",
    "    label_data = np.squeeze(np.argwhere(fashion_label == label))\n",
    "    samples = choice(label_data, size=n_samples, replace=False)\n",
    "    i = row * image_size\n",
    "    for col, sample in enumerate(samples):\n",
    "        j = col * image_size\n",
    "        fashion_sample[i:i+image_size,\n",
    "                     j:j + image_size] = fashion_data[sample].reshape(image_size, -1)\n",
    "\n",
    "ax.imshow(fashion_sample, cmap='Blues')\n",
    "plt.title('Fashion Images')\n",
    "plt.axis('off')\n",
    "plt.tight_layout();"
   ]
  },
  {
   "cell_type": "code",
   "execution_count": null,
   "metadata": {
    "slideshow": {
     "slide_type": "slide"
    }
   },
   "outputs": [],
   "source": [
    "pca = PCA(n_components=2)\n",
    "fashion_pca_2d = pca.fit_transform(fashion_data)\n",
    "ev = pca.explained_variance_ratio_\n",
    "pd.Series(ev)"
   ]
  },
  {
   "cell_type": "code",
   "execution_count": null,
   "metadata": {
    "hide_input": true,
    "slideshow": {
     "slide_type": "fragment"
    }
   },
   "outputs": [],
   "source": [
    "plotly_color = [plotly_cmap[int(i)] for i in fashion_label]\n",
    "plotly_scatter(data=fashion_pca_2d, \n",
    "               title='Fashion MNIST PCA Projection',\n",
    "               label=fashion_label,\n",
    "               color=plotly_color,\n",
    "               x='1st Principal Component: {:.2%}'.format(ev[0]), \n",
    "               y='Second Principal Component: {:.2%}'.format(ev[1]))"
   ]
  },
  {
   "cell_type": "code",
   "execution_count": null,
   "metadata": {
    "slideshow": {
     "slide_type": "slide"
    }
   },
   "outputs": [],
   "source": [
    "pca = PCA(n_components=3)\n",
    "fashion_3d = pca.fit_transform(fashion_data)\n",
    "pd.Series(pca.explained_variance_ratio_)"
   ]
  },
  {
   "cell_type": "code",
   "execution_count": null,
   "metadata": {
    "slideshow": {
     "slide_type": "fragment"
    }
   },
   "outputs": [],
   "source": [
    "ipv_color = [ipv_cmap[int(t)] for t in fashion_label]\n",
    "ipv.quickscatter(*fashion_3d.T, size=.5, color=ipv_color, marker='sphere')"
   ]
  },
  {
   "cell_type": "markdown",
   "metadata": {
    "slideshow": {
     "slide_type": "slide"
    }
   },
   "source": [
    "### Local Linear Embedding"
   ]
  },
  {
   "cell_type": "code",
   "execution_count": null,
   "metadata": {
    "hide_input": false,
    "slideshow": {
     "slide_type": "fragment"
    }
   },
   "outputs": [],
   "source": [
    "fig, axes = plt.subplots(nrows=2, ncols=5)\n",
    "with pd.HDFStore('/'.join(['data', 'manifolds.h5'])) as store:\n",
    "    labels = store.get('/'.join(['fashion', 'labels']))\n",
    "    color = [sns.color_palette('Paired', 10)[int(i)] for i in labels]\n",
    "    for row, method in enumerate(['standard', 'modified']):\n",
    "        for col, n_neighbors in enumerate([20, 45, 100, 200, 500]):\n",
    "            try:\n",
    "                x, y = store.get('/'.join(['fashion', 'lle', method, '2', str(n_neighbors)])).T.values\n",
    "            except:\n",
    "                x, y = store.get('/'.join(['fashion', 'lle', '2', str(n_neighbors)])).T.values\n",
    "            axes[row, col].scatter(x, y, c=color, s=5)\n",
    "            axes[row, col].set_title('LLE: {} | {} neighbors'.format(method, n_neighbors))\n",
    "fig.tight_layout()            "
   ]
  },
  {
   "cell_type": "code",
   "execution_count": null,
   "metadata": {
    "hide_input": true,
    "slideshow": {
     "slide_type": "slide"
    }
   },
   "outputs": [],
   "source": [
    "params = ['standard', 2, 200]\n",
    "embedding, labels = get_result('fashion', 'lle', params)\n",
    "color = [plotly_cmap[int(i)] for i in labels]\n",
    "plotly_scatter(embedding, labels, color=color, title='Local Linear Embedding (Standard) | 200 Neighbors' )"
   ]
  }
 ],
 "metadata": {
  "celltoolbar": "Slideshow",
  "hide_input": false,
  "kernelspec": {
   "display_name": "Python 3",
   "language": "python",
   "name": "python3"
  },
  "language_info": {
   "codemirror_mode": {
    "name": "ipython",
    "version": 3
   },
   "file_extension": ".py",
   "mimetype": "text/x-python",
   "name": "python",
   "nbconvert_exporter": "python",
   "pygments_lexer": "ipython3",
   "version": "3.6.4"
  }
 },
 "nbformat": 4,
 "nbformat_minor": 1
}
