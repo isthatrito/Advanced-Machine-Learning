{
 "cells": [
  {
   "cell_type": "code",
   "execution_count": null,
   "metadata": {
    "ExecuteTime": {
     "end_time": "2018-04-04T15:28:08.127840Z",
     "start_time": "2018-04-04T15:28:08.055231Z"
    },
    "slideshow": {
     "slide_type": "skip"
    }
   },
   "outputs": [],
   "source": [
    "from time import sleep\n",
    "import matplotlib.pyplot as plt\n",
    "import seaborn as sns\n",
    "from matplotlib import cm\n",
    "import matplotlib.ticker as ticker\n",
    "import pandas as pd\n",
    "import numpy as np\n",
    "from numpy import atleast_2d\n",
    "from random import shuffle\n",
    "from sklearn.decomposition import PCA\n",
    "from sklearn.cluster import DBSCAN\n",
    "from hdbscan import HDBSCAN\n",
    "from sklearn.metrics import adjusted_mutual_info_score\n",
    "from sklearn.preprocessing import StandardScaler\n",
    "from sklearn.datasets import load_iris\n",
    "from sklearn.neighbors import KDTree"
   ]
  },
  {
   "cell_type": "code",
   "execution_count": null,
   "metadata": {
    "ExecuteTime": {
     "end_time": "2018-04-04T15:28:09.890932Z",
     "start_time": "2018-04-04T15:28:09.874571Z"
    },
    "slideshow": {
     "slide_type": "skip"
    }
   },
   "outputs": [],
   "source": [
    "%matplotlib notebook\n",
    "cmap = cm.get_cmap('viridis')\n",
    "pd.options.display.float_format = '{:,.2f}'.format"
   ]
  },
  {
   "cell_type": "code",
   "execution_count": null,
   "metadata": {
    "ExecuteTime": {
     "end_time": "2018-04-04T15:28:11.143645Z",
     "start_time": "2018-04-04T15:28:11.021309Z"
    }
   },
   "outputs": [],
   "source": [
    "from jupyterthemes import jtplot\n",
    "jtplot.style(theme='onedork', context='talk', fscale=1.4, spines=False, gridlines='--', ticks=True, grid=False, figsize=(8, 6))"
   ]
  },
  {
   "cell_type": "markdown",
   "metadata": {
    "slideshow": {
     "slide_type": "slide"
    }
   },
   "source": [
    "### Load Iris Data"
   ]
  },
  {
   "cell_type": "code",
   "execution_count": null,
   "metadata": {
    "ExecuteTime": {
     "end_time": "2018-04-04T15:28:14.165747Z",
     "start_time": "2018-04-04T15:28:14.151770Z"
    },
    "slideshow": {
     "slide_type": "fragment"
    }
   },
   "outputs": [],
   "source": [
    "iris = load_iris()\n",
    "iris.keys()"
   ]
  },
  {
   "cell_type": "markdown",
   "metadata": {
    "slideshow": {
     "slide_type": "slide"
    }
   },
   "source": [
    "### Create DataFrame"
   ]
  },
  {
   "cell_type": "code",
   "execution_count": null,
   "metadata": {
    "ExecuteTime": {
     "end_time": "2018-04-04T15:28:14.190107Z",
     "start_time": "2018-04-04T15:28:14.169639Z"
    },
    "slideshow": {
     "slide_type": "fragment"
    }
   },
   "outputs": [],
   "source": [
    "features = iris.feature_names\n",
    "data = pd.DataFrame(data=np.column_stack([iris.data, iris.target]), \n",
    "                    columns=features + ['label'])\n",
    "data.label = data.label.astype(int)\n",
    "data.info()"
   ]
  },
  {
   "cell_type": "markdown",
   "metadata": {
    "slideshow": {
     "slide_type": "slide"
    }
   },
   "source": [
    "### Standardize Data"
   ]
  },
  {
   "cell_type": "code",
   "execution_count": null,
   "metadata": {
    "ExecuteTime": {
     "end_time": "2018-04-04T15:28:14.202367Z",
     "start_time": "2018-04-04T15:28:14.193874Z"
    },
    "slideshow": {
     "slide_type": "fragment"
    }
   },
   "outputs": [],
   "source": [
    "scaler = StandardScaler()\n",
    "features_standardized = scaler.fit_transform(data[features])\n",
    "n = len(data)"
   ]
  },
  {
   "cell_type": "markdown",
   "metadata": {
    "slideshow": {
     "slide_type": "slide"
    }
   },
   "source": [
    "### Reduce Dimensionality to visualize clusters"
   ]
  },
  {
   "cell_type": "code",
   "execution_count": null,
   "metadata": {
    "ExecuteTime": {
     "end_time": "2018-04-04T15:28:14.213335Z",
     "start_time": "2018-04-04T15:28:14.205731Z"
    },
    "slideshow": {
     "slide_type": "fragment"
    }
   },
   "outputs": [],
   "source": [
    "pca = PCA(n_components=2)\n",
    "features_2D = pca.fit_transform(features_standardized)"
   ]
  },
  {
   "cell_type": "code",
   "execution_count": null,
   "metadata": {
    "ExecuteTime": {
     "end_time": "2018-04-04T15:28:14.846759Z",
     "start_time": "2018-04-04T15:28:14.217305Z"
    },
    "hide_input": false,
    "slideshow": {
     "slide_type": "slide"
    }
   },
   "outputs": [],
   "source": [
    "ev1, ev2 = pca.explained_variance_ratio_\n",
    "ax = plt.figure().gca(title='2D Projection', \n",
    "                      xlabel='Explained Variance: {:.2%}'.format(ev1), \n",
    "                      ylabel='Explained Variance: {:.2%}'.format(ev2))\n",
    "ax.scatter(*features_2D.T, c=data.label, s=10)\n",
    "plt.tight_layout();"
   ]
  },
  {
   "cell_type": "markdown",
   "metadata": {
    "slideshow": {
     "slide_type": "slide"
    }
   },
   "source": [
    "### Perform DBSCAN clustering"
   ]
  },
  {
   "cell_type": "code",
   "execution_count": null,
   "metadata": {
    "ExecuteTime": {
     "end_time": "2018-04-04T15:28:15.064612Z",
     "start_time": "2018-04-04T15:28:14.849612Z"
    },
    "slideshow": {
     "slide_type": "fragment"
    }
   },
   "outputs": [],
   "source": [
    "clusterer = DBSCAN()\n",
    "data['clusters'] = clusterer.fit_predict(features_standardized)\n",
    "fig, axes = plt.subplots(ncols=2)\n",
    "labels, clusters = data.label, data.clusters\n",
    "mi = adjusted_mutual_info_score(labels, clusters)\n",
    "axes[0].scatter(*features_2D.T, c=data.label, s=10)\n",
    "axes[0].set_title('Original Data')\n",
    "axes[1].scatter(*features_2D.T, c=data.clusters, s=10)\n",
    "axes[1].set_title('Clusters | MI={:.2f}'.format(mi))\n",
    "plt.tight_layout()"
   ]
  },
  {
   "cell_type": "markdown",
   "metadata": {
    "slideshow": {
     "slide_type": "slide"
    }
   },
   "source": [
    "### Compare parameter settings"
   ]
  },
  {
   "cell_type": "code",
   "execution_count": null,
   "metadata": {
    "ExecuteTime": {
     "end_time": "2018-04-04T15:28:15.468212Z",
     "start_time": "2018-04-04T15:28:15.072959Z"
    },
    "slideshow": {
     "slide_type": "fragment"
    }
   },
   "outputs": [],
   "source": [
    "eps_range = np.arange(.2, .91, .05)\n",
    "min_samples_range = list(range(3, 10))\n",
    "labels = data.label\n",
    "mi = {}\n",
    "for eps in eps_range:\n",
    "    for min_samples in min_samples_range:\n",
    "        clusterer = DBSCAN(eps=eps, min_samples=min_samples)\n",
    "        clusters = clusterer.fit_predict(features_standardized)  \n",
    "        mi[(eps, min_samples)] = adjusted_mutual_info_score(clusters, labels)"
   ]
  },
  {
   "cell_type": "code",
   "execution_count": null,
   "metadata": {
    "ExecuteTime": {
     "end_time": "2018-04-04T15:28:15.761808Z",
     "start_time": "2018-04-04T15:28:15.471219Z"
    },
    "slideshow": {
     "slide_type": "slide"
    }
   },
   "outputs": [],
   "source": [
    "results = pd.Series(mi)\n",
    "results.index = pd.MultiIndex.from_tuples(results.index)\n",
    "fig, axes = plt.subplots()\n",
    "ax = sns.heatmap(results.unstack(), annot=True, fmt='.2f')\n",
    "ax.yaxis.set_major_formatter(ticker.FormatStrFormatter('%0.2f'))\n",
    "plt.tight_layout()"
   ]
  },
  {
   "cell_type": "markdown",
   "metadata": {
    "slideshow": {
     "slide_type": "slide"
    }
   },
   "source": [
    "### Run again"
   ]
  },
  {
   "cell_type": "code",
   "execution_count": null,
   "metadata": {
    "ExecuteTime": {
     "end_time": "2018-04-04T15:28:15.889776Z",
     "start_time": "2018-04-04T15:28:15.764380Z"
    },
    "slideshow": {
     "slide_type": "fragment"
    }
   },
   "outputs": [],
   "source": [
    "clusterer = DBSCAN(eps=.8, min_samples=5)\n",
    "data['clusters'] = clusterer.fit_predict(features_standardized)\n",
    "fig, axes = plt.subplots(ncols=2)\n",
    "labels, clusters = data.label, data.clusters\n",
    "mi = adjusted_mutual_info_score(labels, clusters)\n",
    "axes[0].scatter(*features_2D.T, c=data.label, s=10)\n",
    "axes[0].set_title('Original Data')\n",
    "axes[1].scatter(*features_2D.T, c=data.clusters, s=10)\n",
    "axes[1].set_title('Clusters | MI={:.2f}'.format(mi))\n",
    "plt.tight_layout()\n"
   ]
  },
  {
   "cell_type": "markdown",
   "metadata": {
    "slideshow": {
     "slide_type": "slide"
    }
   },
   "source": [
    "### DBSCAN in python"
   ]
  },
  {
   "cell_type": "markdown",
   "metadata": {
    "slideshow": {
     "slide_type": "fragment"
    }
   },
   "source": [
    "#### Recursive dbscan "
   ]
  },
  {
   "cell_type": "code",
   "execution_count": null,
   "metadata": {
    "ExecuteTime": {
     "end_time": "2018-04-04T15:28:15.902632Z",
     "start_time": "2018-04-04T15:28:15.893282Z"
    },
    "slideshow": {
     "slide_type": "fragment"
    }
   },
   "outputs": [],
   "source": [
    "def run_dbscan(point, members):\n",
    "    members.add(point)\n",
    "    neighbors = kdtree.query_radius(atleast_2d(data_[point]), eps)[0]\n",
    "    if len(neighbors) < min_samples:\n",
    "        return members | set(neighbors)\n",
    "    else:\n",
    "        for neighbor in set(neighbors) - set(members):\n",
    "            members.update(run_dbscan(neighbor, members))\n",
    "    return members"
   ]
  },
  {
   "cell_type": "markdown",
   "metadata": {
    "slideshow": {
     "slide_type": "slide"
    }
   },
   "source": [
    "#### Dynamic Plotting "
   ]
  },
  {
   "cell_type": "code",
   "execution_count": null,
   "metadata": {
    "ExecuteTime": {
     "end_time": "2018-04-04T15:28:15.925470Z",
     "start_time": "2018-04-04T15:28:15.906833Z"
    },
    "slideshow": {
     "slide_type": "fragment"
    }
   },
   "outputs": [],
   "source": [
    "def plot_dbscan(data, assignments, axes, delay=.5):\n",
    "    for ax in axes:\n",
    "        ax.clear()\n",
    "    xmin, ymin = data[['x', 'y']].min()\n",
    "    xmax, ymax = data[['x', 'y']].max()\n",
    "    data.plot.scatter(x='x', y='y', c=data.label, cmap=cmap, s=10, \n",
    "                      title='Original Data', ax=axes[0], colorbar=False)\n",
    "    plot_data.clusters = plot_data.index.map(assignments.get)\n",
    "    db_data= data.fillna(0)[data.clusters.notnull()]\n",
    "    db_data.plot.scatter(x='x', y='y', cmap=cmap, colorbar=False, \n",
    "                         xlim=(xmin, xmax), ylim=(ymin, ymax),\n",
    "                         c=db_data.clusters, s=10, title='DBSCAN', ax=axes[1])    \n",
    "    fig.canvas.draw()\n",
    "    sleep(delay)"
   ]
  },
  {
   "cell_type": "markdown",
   "metadata": {
    "slideshow": {
     "slide_type": "slide"
    }
   },
   "source": [
    "#### DBSCAN Execution "
   ]
  },
  {
   "cell_type": "code",
   "execution_count": null,
   "metadata": {
    "ExecuteTime": {
     "end_time": "2018-04-04T15:28:31.185970Z",
     "start_time": "2018-04-04T15:28:15.928123Z"
    },
    "slideshow": {
     "slide_type": "fragment"
    }
   },
   "outputs": [],
   "source": [
    "eps, min_samples = .6, 5\n",
    "data_ = features_standardized.copy()\n",
    "kdtree = KDTree(data_)\n",
    "\n",
    "to_do = list(range(len(data_)))\n",
    "plot_data = pd.DataFrame(data=np.c_[features_2D, labels],\n",
    "                        columns=['x', 'y', 'label']).assign(clusters=np.nan)\n",
    "shuffle(to_do)\n",
    "n_clusters = 1\n",
    "fig, axes = plt.subplots(ncols=2)\n",
    "assignments = {}\n",
    "while to_do:\n",
    "    item = to_do.pop()\n",
    "    neighbors = kdtree.query_radius(atleast_2d(data_[item, :]), eps)[0]\n",
    "    if len(neighbors) < min_samples:\n",
    "        assignments[item] = 0\n",
    "        plot_dbscan(plot_data, assignments, axes)\n",
    "    else:\n",
    "        new_cluster = run_dbscan(item, set())\n",
    "        to_do = [t for t in to_do if t not in new_cluster]\n",
    "        for member in new_cluster:\n",
    "            assignments.update({member: n_clusters})\n",
    "        n_clusters += 1"
   ]
  },
  {
   "cell_type": "markdown",
   "metadata": {
    "slideshow": {
     "slide_type": "slide"
    }
   },
   "source": [
    "### HDBSCAN"
   ]
  },
  {
   "cell_type": "code",
   "execution_count": null,
   "metadata": {
    "ExecuteTime": {
     "end_time": "2018-04-04T15:28:31.323276Z",
     "start_time": "2018-04-04T15:28:31.191000Z"
    },
    "slideshow": {
     "slide_type": "fragment"
    }
   },
   "outputs": [],
   "source": [
    "clusterer = HDBSCAN()\n",
    "data['clusters'] = clusterer.fit_predict(features_standardized)\n",
    "fig, axes = plt.subplots(ncols=2)\n",
    "labels, clusters = data.label, data.clusters\n",
    "mi = adjusted_mutual_info_score(labels, clusters)\n",
    "axes[0].scatter(*features_2D.T, c=data.label, s=10)\n",
    "axes[0].set_title('Original Data')\n",
    "axes[1].scatter(*features_2D.T, c=data.clusters, s=10)\n",
    "axes[1].set_title('Clusters | MI={:.2f}'.format(mi))"
   ]
  },
  {
   "cell_type": "markdown",
   "metadata": {
    "slideshow": {
     "slide_type": "slide"
    }
   },
   "source": [
    "### Alternative Dataset "
   ]
  },
  {
   "cell_type": "code",
   "execution_count": null,
   "metadata": {
    "ExecuteTime": {
     "end_time": "2018-04-04T15:30:03.726879Z",
     "start_time": "2018-04-04T15:30:03.663659Z"
    },
    "slideshow": {
     "slide_type": "fragment"
    }
   },
   "outputs": [],
   "source": [
    "alternative_data = np.load('clusterable_data.npy')\n",
    "fig, ax = plt.subplots()\n",
    "ax.set_aspect('equal')\n",
    "ax.scatter(*alternative_data.T, s=10);"
   ]
  },
  {
   "cell_type": "markdown",
   "metadata": {
    "slideshow": {
     "slide_type": "slide"
    }
   },
   "source": [
    "### Compare DBSCAN & HDBSCAN "
   ]
  },
  {
   "cell_type": "code",
   "execution_count": null,
   "metadata": {
    "ExecuteTime": {
     "end_time": "2018-04-04T15:30:15.753020Z",
     "start_time": "2018-04-04T15:30:15.554627Z"
    },
    "slideshow": {
     "slide_type": "fragment"
    }
   },
   "outputs": [],
   "source": [
    "dbscan = DBSCAN(eps=.02, min_samples=10)\n",
    "hdbscan = HDBSCAN(min_cluster_size=15, gen_min_span_tree=True)\n",
    "db_clusters = dbscan.fit_predict(alternative_data)\n",
    "hdb_clusters = hdbscan.fit_predict(alternative_data)\n",
    "fig, axes = plt.subplots(ncols=2)\n",
    "axes[0].scatter(*alternative_data.T, c=db_clusters, s=10, cmap=cmap)\n",
    "axes[0].set_title('DBSCAN')\n",
    "axes[1].scatter(*alternative_data.T, c=hdb_clusters, s=10, cmap=cmap)\n",
    "axes[1].set_title('HDBSCAN');"
   ]
  },
  {
   "cell_type": "markdown",
   "metadata": {
    "slideshow": {
     "slide_type": "slide"
    }
   },
   "source": [
    "### HDBSCAN: Density-based Dendrogram "
   ]
  },
  {
   "cell_type": "code",
   "execution_count": null,
   "metadata": {
    "ExecuteTime": {
     "end_time": "2018-04-04T15:30:21.001137Z",
     "start_time": "2018-04-04T15:30:20.167866Z"
    },
    "slideshow": {
     "slide_type": "fragment"
    }
   },
   "outputs": [],
   "source": [
    "fig, ax = plt.subplots()\n",
    "hdbscan.condensed_tree_.plot(select_clusters=True,\n",
    "                        selection_palette=sns.color_palette('deep', 8));"
   ]
  },
  {
   "cell_type": "markdown",
   "metadata": {
    "slideshow": {
     "slide_type": "slide"
    }
   },
   "source": [
    "### Minimum Spanning Tree"
   ]
  },
  {
   "cell_type": "code",
   "execution_count": null,
   "metadata": {
    "ExecuteTime": {
     "end_time": "2018-04-04T15:30:26.290880Z",
     "start_time": "2018-04-04T15:30:26.108178Z"
    },
    "slideshow": {
     "slide_type": "fragment"
    }
   },
   "outputs": [],
   "source": [
    "fig, ax = plt.subplots()\n",
    "hdbscan.minimum_spanning_tree_.plot(edge_cmap='viridis',\n",
    "                                      edge_alpha=0.6,\n",
    "                                      node_size=50,\n",
    "                                      edge_linewidth=1);"
   ]
  }
 ],
 "metadata": {
  "celltoolbar": "Slideshow",
  "hide_input": false,
  "kernelspec": {
   "display_name": "Python 3",
   "language": "python",
   "name": "python3"
  },
  "language_info": {
   "codemirror_mode": {
    "name": "ipython",
    "version": 3
   },
   "file_extension": ".py",
   "mimetype": "text/x-python",
   "name": "python",
   "nbconvert_exporter": "python",
   "pygments_lexer": "ipython3",
   "version": "3.6.4"
  }
 },
 "nbformat": 4,
 "nbformat_minor": 2
}
