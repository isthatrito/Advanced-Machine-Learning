{
 "cells": [
  {
   "cell_type": "code",
   "execution_count": null,
   "metadata": {
    "ExecuteTime": {
     "end_time": "2018-04-04T15:35:46.494620Z",
     "start_time": "2018-04-04T15:35:46.484555Z"
    }
   },
   "outputs": [],
   "source": [
    "import matplotlib.pyplot as plt\n",
    "import pandas as pd\n",
    "import numpy as np\n",
    "from scipy.cluster.hierarchy import dendrogram, linkage, cophenet\n",
    "from sklearn.decomposition import PCA\n",
    "from sklearn.preprocessing import StandardScaler\n",
    "from sklearn.neighbors import LocalOutlierFactor\n",
    "from sklearn.cluster import KMeans\n",
    "from matplotlib.animation import FuncAnimation\n",
    "from scipy.spatial.distance import pdist\n",
    "from collections import OrderedDict\n",
    "from pandas.plotting import andrews_curves, parallel_coordinates\n",
    "from IPython.display import HTML"
   ]
  },
  {
   "cell_type": "code",
   "execution_count": null,
   "metadata": {
    "ExecuteTime": {
     "end_time": "2018-04-04T15:35:46.515231Z",
     "start_time": "2018-04-04T15:35:46.497792Z"
    }
   },
   "outputs": [],
   "source": [
    "%matplotlib notebook\n",
    "pd.options.display.float_format = '{:,.2f}'.format"
   ]
  },
  {
   "cell_type": "code",
   "execution_count": null,
   "metadata": {
    "ExecuteTime": {
     "end_time": "2018-04-04T15:35:46.530424Z",
     "start_time": "2018-04-04T15:35:46.519304Z"
    }
   },
   "outputs": [],
   "source": [
    "from jupyterthemes import jtplot\n",
    "jtplot.style(theme='onedork', context='talk', fscale=1.4, spines=False, gridlines='--', ticks=True, grid=False, figsize=(14, 8))"
   ]
  },
  {
   "cell_type": "markdown",
   "metadata": {},
   "source": [
    "### Load Data"
   ]
  },
  {
   "cell_type": "code",
   "execution_count": null,
   "metadata": {
    "ExecuteTime": {
     "end_time": "2018-04-04T15:35:46.552203Z",
     "start_time": "2018-04-04T15:35:46.535040Z"
    }
   },
   "outputs": [],
   "source": [
    "data = pd.read_csv('wholesale_customers.csv')\n",
    "data.info()"
   ]
  },
  {
   "cell_type": "code",
   "execution_count": null,
   "metadata": {
    "ExecuteTime": {
     "end_time": "2018-04-04T15:35:46.562139Z",
     "start_time": "2018-04-04T15:35:46.555604Z"
    }
   },
   "outputs": [],
   "source": [
    "sales = data.drop(['Channel', 'Region'], axis=1)\n",
    "sales_logged = np.log(sales)"
   ]
  },
  {
   "cell_type": "code",
   "execution_count": null,
   "metadata": {
    "ExecuteTime": {
     "end_time": "2018-04-04T15:35:46.587888Z",
     "start_time": "2018-04-04T15:35:46.566302Z"
    }
   },
   "outputs": [],
   "source": [
    "outliers = LocalOutlierFactor()\n",
    "sales_logged['inliers'] = outliers.fit_predict(sales_logged)\n",
    "sales_logged_clean = sales_logged[sales_logged.inliers > 0].drop('inliers', axis=1)\n",
    "sales_logged_clean.info()"
   ]
  },
  {
   "cell_type": "code",
   "execution_count": null,
   "metadata": {
    "ExecuteTime": {
     "end_time": "2018-04-04T15:35:46.597185Z",
     "start_time": "2018-04-04T15:35:46.591056Z"
    }
   },
   "outputs": [],
   "source": [
    "scaler = StandardScaler()\n",
    "sales_logged_standardized = pd.DataFrame(scaler.fit_transform(sales_logged_clean), columns=sales.columns)"
   ]
  },
  {
   "cell_type": "code",
   "execution_count": null,
   "metadata": {
    "ExecuteTime": {
     "end_time": "2018-04-04T15:35:46.661423Z",
     "start_time": "2018-04-04T15:35:46.601075Z"
    }
   },
   "outputs": [],
   "source": [
    "kmeans = KMeans(n_clusters=3)\n",
    "kmeans.fit(sales_logged_standardized)\n",
    "sales_logged_standardized['cluster'] = kmeans.labels_"
   ]
  },
  {
   "cell_type": "code",
   "execution_count": null,
   "metadata": {
    "ExecuteTime": {
     "end_time": "2018-04-04T15:35:48.747469Z",
     "start_time": "2018-04-04T15:35:46.669229Z"
    }
   },
   "outputs": [],
   "source": [
    "fig, axes = plt.subplots(2, 1)\n",
    "parallel_coordinates(sales_logged_standardized, 'cluster', ax=axes[0]);\n",
    "andrews_curves(sales_logged_standardized, 'cluster', ax=axes[1]);"
   ]
  },
  {
   "cell_type": "code",
   "execution_count": null,
   "metadata": {
    "ExecuteTime": {
     "end_time": "2018-04-04T15:35:49.002487Z",
     "start_time": "2018-04-04T15:35:48.750683Z"
    }
   },
   "outputs": [],
   "source": [
    "cluster_data = sales_logged_standardized.drop('cluster', axis=1)\n",
    "n = len(cluster_data)\n",
    "Z = linkage(cluster_data, 'ward', optimal_ordering=True)\n",
    "linkage_matrix = pd.DataFrame(data=Z, \n",
    "                              columns=['cluster_1', 'cluster_2', 'distance', 'n_objects'],\n",
    "                              index=range(1, n))\n",
    "for col in ['cluster_1', 'cluster_2', 'n_objects']:\n",
    "    linkage_matrix[col] = linkage_matrix[col].astype(int)\n",
    "linkage_matrix.info()"
   ]
  },
  {
   "cell_type": "code",
   "execution_count": null,
   "metadata": {
    "ExecuteTime": {
     "end_time": "2018-04-04T15:35:49.022933Z",
     "start_time": "2018-04-04T15:35:49.005782Z"
    }
   },
   "outputs": [],
   "source": [
    "c, coph_dists = cophenet(Z, pdist(sales_logged_standardized))\n",
    "c"
   ]
  },
  {
   "cell_type": "code",
   "execution_count": null,
   "metadata": {
    "ExecuteTime": {
     "end_time": "2018-04-04T15:35:49.191784Z",
     "start_time": "2018-04-04T15:35:49.030604Z"
    }
   },
   "outputs": [],
   "source": [
    "fig, axes = plt.subplots(2, 1, sharex=True)\n",
    "linkage_matrix.distance.plot(ax=axes[0], title='Distance')\n",
    "linkage_matrix.n_objects.plot(ax=axes[1], title='Number of Objects');"
   ]
  },
  {
   "cell_type": "markdown",
   "metadata": {},
   "source": [
    "### Get Cluster Numbers"
   ]
  },
  {
   "cell_type": "code",
   "execution_count": null,
   "metadata": {
    "ExecuteTime": {
     "end_time": "2018-04-04T15:35:49.500359Z",
     "start_time": "2018-04-04T15:35:49.197591Z"
    }
   },
   "outputs": [],
   "source": [
    "n = len(Z)\n",
    "clusters = OrderedDict()\n",
    "\n",
    "for i, row in linkage_matrix.iterrows():\n",
    "    cluster = []\n",
    "    for c in row[['cluster_1', 'cluster_2']]:\n",
    "        if c <= n:\n",
    "            cluster.append(int(c))\n",
    "        else:\n",
    "            cluster += clusters[c]\n",
    "    clusters[n+i] = cluster"
   ]
  },
  {
   "cell_type": "code",
   "execution_count": null,
   "metadata": {
    "ExecuteTime": {
     "end_time": "2018-04-04T15:35:49.515128Z",
     "start_time": "2018-04-04T15:35:49.504385Z"
    }
   },
   "outputs": [],
   "source": [
    "scaler = StandardScaler()\n",
    "pca = PCA().fit(sales_logged_standardized.drop('cluster', axis=1))\n",
    "projected_df = cluster_data.dot(pca.components_[:2].T)"
   ]
  },
  {
   "cell_type": "code",
   "execution_count": null,
   "metadata": {
    "ExecuteTime": {
     "end_time": "2018-04-04T15:35:49.526437Z",
     "start_time": "2018-04-04T15:35:49.518950Z"
    }
   },
   "outputs": [],
   "source": [
    "def get_points():\n",
    "    points = projected_df.assign(n=1)\n",
    "    return dict(enumerate(points.values.tolist()))"
   ]
  },
  {
   "cell_type": "code",
   "execution_count": null,
   "metadata": {
    "ExecuteTime": {
     "end_time": "2018-04-04T15:35:49.585936Z",
     "start_time": "2018-04-04T15:35:49.530329Z"
    }
   },
   "outputs": [],
   "source": [
    "n_clusters = Z.shape[0]\n",
    "points = get_points()\n",
    "cluster_states = {0: get_points()}\n",
    "\n",
    "for i, cluster in enumerate(Z[:, :2], 1):\n",
    "    cluster_state = dict(cluster_states[i-1])\n",
    "    try:\n",
    "        merged_points = np.array([cluster_state.pop(c) for c in cluster])\n",
    "    except:\n",
    "        print(i, cluster, merged_points)\n",
    "        break    \n",
    "    cluster_size = merged_points[:, 2]\n",
    "\n",
    "    new_point = np.average(merged_points[:, :2], axis=0, weights=cluster_size).tolist()\n",
    "\n",
    "    new_point.append(cluster_size.sum())\n",
    "    cluster_state[n_clusters+i] = new_point\n",
    "    cluster_states[i] = cluster_state"
   ]
  },
  {
   "cell_type": "code",
   "execution_count": null,
   "metadata": {
    "ExecuteTime": {
     "end_time": "2018-04-04T15:35:49.653063Z",
     "start_time": "2018-04-04T15:35:49.592447Z"
    }
   },
   "outputs": [],
   "source": [
    "projection = projected_df.values\n",
    "fig, ax = plt.subplots()\n",
    "ax.scatter(*projection.T);"
   ]
  },
  {
   "cell_type": "code",
   "execution_count": null,
   "metadata": {
    "ExecuteTime": {
     "end_time": "2018-04-04T15:35:49.713046Z",
     "start_time": "2018-04-04T15:35:49.658011Z"
    }
   },
   "outputs": [],
   "source": [
    "%%capture\n",
    "fig, ax = plt.subplots()\n",
    "\n",
    "xmin, ymin = np.min(projection, axis=0) * 1.1\n",
    "xmax, ymax = np.max(projection, axis=0) * 1.1\n",
    "ax.set(xlim=(xmin, xmax), ylim=(ymin, ymax))"
   ]
  },
  {
   "cell_type": "code",
   "execution_count": null,
   "metadata": {
    "ExecuteTime": {
     "end_time": "2018-04-04T15:36:17.898079Z",
     "start_time": "2018-04-04T15:35:49.717379Z"
    }
   },
   "outputs": [],
   "source": [
    "scat = ax.scatter([], [])\n",
    "\n",
    "def animate(i):\n",
    "    data = pd.DataFrame(cluster_states[i]).values.T\n",
    "    scat.set_offsets(data[:, :2])\n",
    "    scat.set_sizes((data[:, 2] * 2) ** 2)\n",
    "    return scat,\n",
    "    \n",
    "anim = FuncAnimation(\n",
    "    fig, animate,frames=cluster_states.keys(), interval=250, blit=False)\n",
    "HTML(anim.to_html5_video())"
   ]
  },
  {
   "cell_type": "code",
   "execution_count": null,
   "metadata": {
    "ExecuteTime": {
     "end_time": "2018-04-04T15:36:18.696818Z",
     "start_time": "2018-04-04T15:36:17.902335Z"
    }
   },
   "outputs": [],
   "source": [
    "plt.figure(figsize=(10, 16))\n",
    "plt.title('Hierarchical Clustering Dendrogram')\n",
    "plt.xlabel('sample index')\n",
    "plt.ylabel('distance')\n",
    "dendrogram(\n",
    "    Z,\n",
    "    orientation='left',\n",
    "    leaf_rotation=90.,  # rotates the x axis labels\n",
    "    leaf_font_size=8.,  # font size for the x axis labels\n",
    ");"
   ]
  }
 ],
 "metadata": {
  "hide_input": false,
  "kernelspec": {
   "display_name": "Python 3",
   "language": "python",
   "name": "python3"
  },
  "language_info": {
   "codemirror_mode": {
    "name": "ipython",
    "version": 3
   },
   "file_extension": ".py",
   "mimetype": "text/x-python",
   "name": "python",
   "nbconvert_exporter": "python",
   "pygments_lexer": "ipython3",
   "version": "3.6.4"
  }
 },
 "nbformat": 4,
 "nbformat_minor": 2
}
