{
 "cells": [
  {
   "cell_type": "code",
   "execution_count": null,
   "metadata": {
    "ExecuteTime": {
     "end_time": "2018-04-04T22:05:12.788719Z",
     "start_time": "2018-04-04T22:05:06.482516Z"
    },
    "slideshow": {
     "slide_type": "skip"
    }
   },
   "outputs": [],
   "source": [
    "from pathlib import Path\n",
    "from os.path import join\n",
    "import pandas as pd\n",
    "import numpy as np\n",
    "from numpy.random import choice, randint, uniform, randn\n",
    "import seaborn as sns\n",
    "import matplotlib.pyplot as plt\n",
    "import ipyvolume as ipv\n",
    "from sklearn.datasets import fetch_mldata, make_swiss_roll, make_blobs\n",
    "from sklearn.manifold import TSNE\n",
    "import umap\n",
    "from plotly.offline import init_notebook_mode, iplot\n",
    "from plotly.graph_objs import *\n",
    "import colorlover as cl"
   ]
  },
  {
   "cell_type": "code",
   "execution_count": null,
   "metadata": {
    "ExecuteTime": {
     "end_time": "2018-04-04T22:05:14.589538Z",
     "start_time": "2018-04-04T22:05:14.572764Z"
    }
   },
   "outputs": [],
   "source": [
    "%matplotlib inline\n",
    "plt.style.use('ggplot')\n",
    "pd.options.display.float_format = '{:,.2f}'.format\n",
    "plt.rcParams['figure.facecolor'] = 'black'"
   ]
  },
  {
   "cell_type": "code",
   "execution_count": null,
   "metadata": {
    "ExecuteTime": {
     "end_time": "2018-04-04T22:05:15.808472Z",
     "start_time": "2018-04-04T22:05:15.781727Z"
    },
    "slideshow": {
     "slide_type": "skip"
    }
   },
   "outputs": [],
   "source": [
    "from jupyterthemes import jtplot\n",
    "jtplot.style(theme='onedork', context='talk', fscale=1.4, spines=False, \n",
    "             gridlines='--', ticks=True, grid=False, figsize=(14, 8))\n",
    "init_notebook_mode(connected=True)"
   ]
  },
  {
   "cell_type": "markdown",
   "metadata": {},
   "source": [
    "Some of the examples take a while to run; you can modify the parameters to get results faster."
   ]
  },
  {
   "cell_type": "markdown",
   "metadata": {
    "slideshow": {
     "slide_type": "slide"
    }
   },
   "source": [
    "### T-Stochastic Neighbor Embedding (TSNE): Parameter Settings"
   ]
  },
  {
   "cell_type": "markdown",
   "metadata": {
    "slideshow": {
     "slide_type": "fragment"
    }
   },
   "source": [
    "#### Perplexity: emphasis on local vs global structure"
   ]
  },
  {
   "cell_type": "code",
   "execution_count": null,
   "metadata": {
    "ExecuteTime": {
     "end_time": "2018-04-04T21:28:36.900568Z",
     "start_time": "2018-04-04T21:28:36.891959Z"
    },
    "slideshow": {
     "slide_type": "fragment"
    }
   },
   "outputs": [],
   "source": [
    "data, label = make_blobs(n_samples=200, n_features=2, centers=2, random_state=42)"
   ]
  },
  {
   "cell_type": "code",
   "execution_count": null,
   "metadata": {
    "ExecuteTime": {
     "end_time": "2018-04-04T21:30:33.239003Z",
     "start_time": "2018-04-04T21:28:36.905402Z"
    },
    "slideshow": {
     "slide_type": "fragment"
    }
   },
   "outputs": [],
   "source": [
    "fig, axes = plt.subplots(nrows=2, ncols=3)\n",
    "axes = axes.flatten()\n",
    "axes[0].scatter(data[:, 0], data[:, 1], s=10, c=label)\n",
    "axes[0].set_title('Original Data')\n",
    "axes[0].axis('off')\n",
    "for i, p in enumerate([2,10, 20, 30, 50], 1):\n",
    "    embedding = TSNE(perplexity=p, n_iter=5000).fit_transform(data)\n",
    "    axes[i].scatter(embedding[:, 0], embedding[:, 1], s=10, c=label)\n",
    "    axes[i].set_title('Perplexity: {:.0f}'.format(p))\n",
    "    axes[i].axis('off')\n",
    "fig.tight_layout();"
   ]
  },
  {
   "cell_type": "markdown",
   "metadata": {
    "slideshow": {
     "slide_type": "slide"
    }
   },
   "source": [
    "#### Convergence with `n_iter`"
   ]
  },
  {
   "cell_type": "code",
   "execution_count": null,
   "metadata": {
    "ExecuteTime": {
     "end_time": "2018-04-04T21:31:24.140205Z",
     "start_time": "2018-04-04T21:30:33.257474Z"
    },
    "slideshow": {
     "slide_type": "fragment"
    }
   },
   "outputs": [],
   "source": [
    "data, label = make_blobs(n_samples=200, n_features=2, centers=2, random_state=42)\n",
    "fig, axes = plt.subplots(nrows=2, ncols=3)\n",
    "axes = axes.flatten()\n",
    "axes[0].scatter(data[:, 0], data[:, 1], s=10, c=label)\n",
    "axes[0].set_title('Original Data')\n",
    "axes[0].axis('off')\n",
    "for i, n in enumerate([250, 500, 1000, 2500, 5000], 1):\n",
    "    embedding = TSNE(perplexity=30, n_iter=n).fit_transform(data)\n",
    "    axes[i].scatter(embedding[:, 0], embedding[:, 1], s=10, c=label)\n",
    "    axes[i].set_title('Iterations: {:,.0f}'.format(n))\n",
    "    axes[i].axis('off')\n",
    "fig.tight_layout();"
   ]
  },
  {
   "cell_type": "markdown",
   "metadata": {
    "slideshow": {
     "slide_type": "slide"
    }
   },
   "source": [
    "### Different Cluster Sizes"
   ]
  },
  {
   "cell_type": "code",
   "execution_count": null,
   "metadata": {
    "ExecuteTime": {
     "end_time": "2018-04-04T21:32:44.626689Z",
     "start_time": "2018-04-04T21:31:24.151748Z"
    },
    "slideshow": {
     "slide_type": "fragment"
    }
   },
   "outputs": [],
   "source": [
    "data, label = make_blobs(n_samples=200, n_features=2, cluster_std=[10, 1], centers=2, random_state=42)\n",
    "fig, axes = plt.subplots(nrows=2, ncols=3)\n",
    "axes = axes.flatten()\n",
    "axes[0].scatter(data[:, 0], data[:, 1], s=10, c=label)\n",
    "axes[0].set_title('Original Data')\n",
    "axes[0].axis('off')\n",
    "for i, p in enumerate([2,10, 20, 30, 50], 1):\n",
    "    embedding = TSNE(perplexity=p, n_iter=5000).fit_transform(data)\n",
    "    axes[i].scatter(embedding[:, 0], embedding[:, 1], s=10, c=label)\n",
    "    axes[i].set_title('Perplexity: {:.0f}'.format(p))\n",
    "    axes[i].axis('off')\n",
    "fig.tight_layout();"
   ]
  },
  {
   "cell_type": "markdown",
   "metadata": {
    "slideshow": {
     "slide_type": "slide"
    }
   },
   "source": [
    "### Different Cluster Distances"
   ]
  },
  {
   "cell_type": "code",
   "execution_count": null,
   "metadata": {
    "ExecuteTime": {
     "end_time": "2018-04-04T21:33:36.520586Z",
     "start_time": "2018-04-04T21:32:44.646791Z"
    },
    "slideshow": {
     "slide_type": "fragment"
    }
   },
   "outputs": [],
   "source": [
    "data, label = make_blobs(n_samples=150, n_features=2, centers=[[-10, 0], [-8, 0], [10, 0]], random_state=2)\n",
    "fig, axes = plt.subplots(nrows=2, ncols=3)\n",
    "axes = axes.flatten()\n",
    "axes[0].scatter(data[:, 0], data[:, 1], s=10, c=label)\n",
    "axes[0].set_title('Original Data')\n",
    "axes[0].axis('off')\n",
    "for i, p in enumerate([2,10, 30, 50, 100], 1):\n",
    "    embedding = TSNE(perplexity=p, n_iter=5000).fit_transform(data)\n",
    "    axes[i].scatter(embedding[:, 0], embedding[:, 1], s=10, c=label)\n",
    "    axes[i].set_title('Perplexity: {:.0f}'.format(p))\n",
    "    axes[i].axis('off')\n",
    "fig.tight_layout();"
   ]
  },
  {
   "cell_type": "markdown",
   "metadata": {
    "slideshow": {
     "slide_type": "slide"
    }
   },
   "source": [
    "#### More points require higher perplexity"
   ]
  },
  {
   "cell_type": "code",
   "execution_count": null,
   "metadata": {
    "ExecuteTime": {
     "end_time": "2018-04-04T21:45:30.454156Z",
     "start_time": "2018-04-04T21:33:36.579898Z"
    },
    "slideshow": {
     "slide_type": "fragment"
    }
   },
   "outputs": [],
   "source": [
    "data, label = make_blobs(n_samples=600, n_features=2, centers=[[-10, 0], [-8, 0], [10, 0]], random_state=2)\n",
    "fig, axes = plt.subplots(nrows=2, ncols=3)\n",
    "axes = axes.flatten()\n",
    "axes[0].scatter(data[:, 0], data[:, 1], s=10, c=label)\n",
    "axes[0].set_title('Original Data')\n",
    "axes[0].axis('off')\n",
    "for i, p in enumerate([2,10, 30, 50, 100], 1): \n",
    "    embedding = TSNE(perplexity=p, n_iter=5000).fit_transform(data)\n",
    "    axes[i].scatter(embedding[:, 0], embedding[:, 1], s=10, c=label)\n",
    "    axes[i].set_title('Perplexity: {:.0f}'.format(p))\n",
    "    axes[i].axis('off')\n",
    "fig.tight_layout();"
   ]
  },
  {
   "cell_type": "markdown",
   "metadata": {
    "slideshow": {
     "slide_type": "slide"
    }
   },
   "source": [
    "### Uniform Manifold Approximation and Projection (UMAP): Parameter Settings"
   ]
  },
  {
   "cell_type": "markdown",
   "metadata": {
    "slideshow": {
     "slide_type": "fragment"
    }
   },
   "source": [
    "#### # Neighbors"
   ]
  },
  {
   "cell_type": "code",
   "execution_count": null,
   "metadata": {
    "ExecuteTime": {
     "end_time": "2018-04-04T22:05:58.446146Z",
     "start_time": "2018-04-04T22:05:32.585806Z"
    },
    "slideshow": {
     "slide_type": "fragment"
    }
   },
   "outputs": [],
   "source": [
    "data, label = make_blobs(n_samples=600, n_features=2, centers=2, random_state=42)\n",
    "fig, axes = plt.subplots(nrows=2, ncols=3)\n",
    "axes = axes.flatten()\n",
    "axes[0].scatter(data[:, 0], data[:, 1], s=10, c=label)\n",
    "axes[0].set_title('Original Data')\n",
    "axes[0].axis('off')\n",
    "for i, n in enumerate([2,10, 20, 30, 50], 1):\n",
    "    embedding = umap.UMAP(n_neighbors=n, min_dist=0.1).fit_transform(data)    \n",
    "    axes[i].scatter(embedding[:, 0], embedding[:, 1], s=10, c=label)\n",
    "    axes[i].set_title('Neighbors: {:.0f}'.format(n))\n",
    "    axes[i].axis('off')\n",
    "fig.tight_layout();"
   ]
  },
  {
   "cell_type": "markdown",
   "metadata": {
    "slideshow": {
     "slide_type": "slide"
    }
   },
   "source": [
    " #### Minimum Distance"
   ]
  },
  {
   "cell_type": "code",
   "execution_count": null,
   "metadata": {
    "ExecuteTime": {
     "end_time": "2018-04-04T22:06:04.362352Z",
     "start_time": "2018-04-04T22:05:58.451895Z"
    },
    "slideshow": {
     "slide_type": "fragment"
    }
   },
   "outputs": [],
   "source": [
    "data, label = make_blobs(n_samples=200, n_features=2, centers=2, random_state=42)\n",
    "fig, axes = plt.subplots(nrows=2, ncols=3)\n",
    "axes = axes.flatten()\n",
    "axes[0].scatter(data[:, 0], data[:, 1], s=10, c=label)\n",
    "axes[0].set_title('Original Data')\n",
    "axes[0].axis('off')\n",
    "for i, d in enumerate([.001, .01, .1, .2, .5], 1):\n",
    "    embedding = umap.UMAP(n_neighbors=30, min_dist=d).fit_transform(data)\n",
    "    axes[i].scatter(embedding[:, 0], embedding[:, 1], s=10, c=label)\n",
    "    axes[i].set_title('Min. Distance: {:.3f}'.format(d))\n",
    "    axes[i].axis('off')\n",
    "fig.tight_layout();"
   ]
  },
  {
   "cell_type": "markdown",
   "metadata": {
    "slideshow": {
     "slide_type": "slide"
    }
   },
   "source": [
    "### Non-Linear Manifolds: Swiss Roll"
   ]
  },
  {
   "cell_type": "code",
   "execution_count": null,
   "metadata": {
    "ExecuteTime": {
     "end_time": "2018-04-04T22:06:04.507504Z",
     "start_time": "2018-04-04T22:06:04.367338Z"
    },
    "slideshow": {
     "slide_type": "fragment"
    }
   },
   "outputs": [],
   "source": [
    "n_samples = 10000\n",
    "palette = sns.color_palette('viridis', n_colors=n_samples)"
   ]
  },
  {
   "cell_type": "code",
   "execution_count": null,
   "metadata": {
    "ExecuteTime": {
     "end_time": "2018-04-04T22:06:04.533062Z",
     "start_time": "2018-04-04T22:06:04.512643Z"
    },
    "slideshow": {
     "slide_type": "fragment"
    }
   },
   "outputs": [],
   "source": [
    "zeros = np.zeros(n_samples) + .5\n",
    "swiss_3d, swiss_val = make_swiss_roll(\n",
    "    n_samples=n_samples, noise=.1, random_state=42)\n",
    "\n",
    "swiss_3d = swiss_3d[swiss_val.argsort()[::-1]]\n",
    "x, y, z = swiss_3d.T "
   ]
  },
  {
   "cell_type": "markdown",
   "metadata": {
    "slideshow": {
     "slide_type": "slide"
    }
   },
   "source": [
    "### TSNE"
   ]
  },
  {
   "cell_type": "markdown",
   "metadata": {},
   "source": [
    "Using pre-computed T-SNE and UMAP results due to the long running times, esp. for T-SNE."
   ]
  },
  {
   "cell_type": "code",
   "execution_count": null,
   "metadata": {
    "ExecuteTime": {
     "end_time": "2018-04-04T22:07:26.261394Z",
     "start_time": "2018-04-04T22:07:22.899292Z"
    },
    "slideshow": {
     "slide_type": "skip"
    }
   },
   "outputs": [],
   "source": [
    "# pre-computed manifold results for the various datasets and algorithms, as well as parameter settings:\n",
    "with pd.HDFStore(join('data', 'manifolds.h5')) as store:\n",
    "    print(store.info())"
   ]
  },
  {
   "cell_type": "code",
   "execution_count": null,
   "metadata": {
    "ExecuteTime": {
     "end_time": "2018-04-04T22:06:54.606771Z",
     "start_time": "2018-04-04T22:06:04.542305Z"
    },
    "scrolled": false,
    "slideshow": {
     "slide_type": "fragment"
    }
   },
   "outputs": [],
   "source": [
    "fig, axes = plt.subplots(nrows=7, ncols=5, figsize=(20, 28))\n",
    "method = 'tsne'\n",
    "with pd.HDFStore(join('data', 'manifolds.h5')) as store:\n",
    "    labels = store['/'.join(['swiss', 'label'])]\n",
    "    for row, perplexity in enumerate([2, 5, 10, 20 , 30, 50, 100]):\n",
    "        for col, n_iter in enumerate([250, 500, 1000, 3000, 5000]):\n",
    "            x, y = store.get('/'.join(['swiss',  method, str(perplexity), str(n_iter)])).T.values\n",
    "            axes[row, col].scatter(x, y, c=palette, s=5)\n",
    "            axes[row, col].set_title('Perplexity: {} | Iterations: {}'.format(perplexity, n_iter))\n",
    "            axes[row, col].axis('off')\n",
    "fig.tight_layout()\n",
    "fig.suptitle('T-Stochastic Neighbor Embedding (TSNE)')\n",
    "fig.subplots_adjust(top=.94)"
   ]
  },
  {
   "cell_type": "markdown",
   "metadata": {
    "slideshow": {
     "slide_type": "slide"
    }
   },
   "source": [
    "### UMAP"
   ]
  },
  {
   "cell_type": "code",
   "execution_count": null,
   "metadata": {
    "ExecuteTime": {
     "end_time": "2018-04-04T22:07:21.202843Z",
     "start_time": "2018-04-04T22:06:54.612826Z"
    },
    "slideshow": {
     "slide_type": "fragment"
    }
   },
   "outputs": [],
   "source": [
    "fig, axes = plt.subplots(nrows=5, ncols=4, figsize=(16, 20))\n",
    "method = 'umap'\n",
    "with pd.HDFStore(join('data', 'manifolds.h5')) as store:\n",
    "    labels = store['swiss/label']\n",
    "    for row, n_neighbors in enumerate([2, 5, 10, 25, 50]):\n",
    "        for col, min_distance in enumerate([1, 10, 20, 50]):\n",
    "            x, y = store.get('swiss/' + method + '/' + str(n_neighbors) + '/' + str(min_distance)).T.values\n",
    "            axes[row, col].scatter(x, y, c=palette, s=5)\n",
    "            axes[row, col].set_title('Neighbors: {} | Min. Distance {:.2f}'.format(n_neighbors, min_distance/100))\n",
    "            axes[row, col].axis('off')\n",
    "fig.tight_layout()\n",
    "fig.suptitle('Uniform Manifold Approximation and Projection (UMAP)')\n",
    "fig.subplots_adjust(top=.94)"
   ]
  },
  {
   "cell_type": "markdown",
   "metadata": {
    "slideshow": {
     "slide_type": "slide"
    }
   },
   "source": [
    "### Handwritten Digits"
   ]
  },
  {
   "cell_type": "code",
   "execution_count": null,
   "metadata": {
    "ExecuteTime": {
     "end_time": "2018-04-04T22:07:21.569783Z",
     "start_time": "2018-04-04T22:07:21.207612Z"
    },
    "slideshow": {
     "slide_type": "fragment"
    }
   },
   "outputs": [],
   "source": [
    "mnist = fetch_mldata('MNIST original', data_home='.')\n",
    "classes = sorted(np.unique(mnist.target).astype(int))\n",
    "mnist.data.shape"
   ]
  },
  {
   "cell_type": "code",
   "execution_count": null,
   "metadata": {
    "ExecuteTime": {
     "end_time": "2018-04-04T22:07:21.912728Z",
     "start_time": "2018-04-04T22:07:21.580079Z"
    },
    "slideshow": {
     "slide_type": "fragment"
    }
   },
   "outputs": [],
   "source": [
    "ipv_cmap = sns.color_palette(\"Paired\", n_colors=10)\n",
    "print(classes)\n",
    "sns.palplot(ipv_cmap)"
   ]
  },
  {
   "cell_type": "markdown",
   "metadata": {
    "slideshow": {
     "slide_type": "slide"
    }
   },
   "source": [
    "#### Plot sample images"
   ]
  },
  {
   "cell_type": "code",
   "execution_count": null,
   "metadata": {
    "ExecuteTime": {
     "end_time": "2018-04-04T22:07:21.927145Z",
     "start_time": "2018-04-04T22:07:21.920372Z"
    },
    "slideshow": {
     "slide_type": "fragment"
    }
   },
   "outputs": [],
   "source": [
    "image_size = int(np.sqrt(mnist.data.shape[1])) # 28 x 28 pixels\n",
    "n_samples = 15"
   ]
  },
  {
   "cell_type": "code",
   "execution_count": null,
   "metadata": {
    "ExecuteTime": {
     "end_time": "2018-04-04T22:07:22.791847Z",
     "start_time": "2018-04-04T22:07:21.931859Z"
    },
    "slideshow": {
     "slide_type": "fragment"
    }
   },
   "outputs": [],
   "source": [
    "fig, ax = plt.subplots()\n",
    "mnist_sample = np.empty(\n",
    "    shape=(image_size * len(classes), image_size * n_samples))\n",
    "for row, label in enumerate(classes):\n",
    "    label_data = np.squeeze(np.argwhere(mnist.target == label))\n",
    "    samples = choice(label_data, size=n_samples, replace=False)\n",
    "    i = row * image_size\n",
    "    for col, sample in enumerate(samples):\n",
    "        j = col * image_size\n",
    "        mnist_sample[i:i+image_size, j:j +\n",
    "                     image_size] = mnist.data[sample].reshape(image_size, -1)\n",
    "\n",
    "ax.imshow(mnist_sample, cmap='Blues')\n",
    "plt.title('Handwritten Digits')\n",
    "plt.axis('off')\n",
    "plt.tight_layout()"
   ]
  },
  {
   "cell_type": "code",
   "execution_count": null,
   "metadata": {
    "ExecuteTime": {
     "end_time": "2018-04-04T22:07:22.893370Z",
     "start_time": "2018-04-04T22:07:22.799460Z"
    },
    "slideshow": {
     "slide_type": "skip"
    }
   },
   "outputs": [],
   "source": [
    "plotly_cmap = cl.to_rgb( cl.scales['10']['qual']['Paired'])\n",
    "def plotly_scatter(data, label, title, color, x='x', y='y'):\n",
    "    fig = dict(\n",
    "        data=[\n",
    "            dict(\n",
    "                type='scattergl',\n",
    "                x=data[:, 0],\n",
    "                y=data[:, 1],\n",
    "                legendgroup=\"group\",\n",
    "                text=label.astype(int),\n",
    "                mode='markers',\n",
    "                marker=Marker(\n",
    "                    size=5,\n",
    "                    color=color,\n",
    "                    autocolorscale=False,\n",
    "                    showscale=False,\n",
    "                    opacity=.9,\n",
    "                    colorbar=ColorBar(\n",
    "                        title='Class'\n",
    "                    ),\n",
    "                    line=dict(width=1))),\n",
    "        ],\n",
    "        layout=dict(title=title,\n",
    "                    width=1200,\n",
    "                    font=dict(color='white'),\n",
    "                    xaxis=dict(\n",
    "                        title=x, \n",
    "                        hoverformat='.1f', \n",
    "                        showgrid=False),\n",
    "                    yaxis=dict(title=y, \n",
    "                               hoverformat='.1f', \n",
    "                               showgrid=False),\n",
    "                    paper_bgcolor='rgba(0,0,0,0)',\n",
    "                    plot_bgcolor='rgba(0,0,0,0)'\n",
    "                    ))\n",
    "\n",
    "    iplot(fig, show_link=False)"
   ]
  },
  {
   "cell_type": "code",
   "execution_count": null,
   "metadata": {
    "ExecuteTime": {
     "end_time": "2018-04-04T22:07:46.499118Z",
     "start_time": "2018-04-04T22:07:26.265563Z"
    },
    "scrolled": false,
    "slideshow": {
     "slide_type": "slide"
    }
   },
   "outputs": [],
   "source": [
    "fig, axes = plt.subplots(nrows=2, ncols=4, figsize=(25, 12))\n",
    "methods = ['tsne', 'umap']\n",
    "params = {}\n",
    "params['tsne'] = [5, 10, 20, 35]\n",
    "params['umap'] = [5, 15, 25, 35]\n",
    "param_labels = {'tsne': 'Perplexity', 'umap': 'Neighbors'}\n",
    "with pd.HDFStore(join('data', 'manifolds.h5')) as store:\n",
    "    labels = store['mnist/labels']\n",
    "    color = [sns.color_palette('Paired', 10)[int(i)] for i in labels]\n",
    "    for row, method in enumerate(methods):\n",
    "        for col, param in enumerate(params[method]):\n",
    "            x, y = store.get('mnist/' + method + '/2/' + str(param)).T.values\n",
    "            axes[row, col].scatter(x, y, c=color, s=5)\n",
    "            axes[row, col].set_title('{} | {}: {}'.format(method.upper(), param_labels[method], param))\n",
    "            axes[row, col].axis('off')\n",
    "fig.tight_layout();"
   ]
  },
  {
   "cell_type": "code",
   "execution_count": null,
   "metadata": {
    "ExecuteTime": {
     "end_time": "2018-04-04T22:07:46.513589Z",
     "start_time": "2018-04-04T22:07:46.504387Z"
    },
    "slideshow": {
     "slide_type": "skip"
    }
   },
   "outputs": [],
   "source": [
    "def get_result(source, method, params):\n",
    "    key = '/'.join([source, method, '/'.join([str(p) for p in params])])\n",
    "    with pd.HDFStore(join('data', 'manifolds.h5')) as store:\n",
    "        data = store[key].values\n",
    "        labels = store['/'.join([source, 'labels'])]\n",
    "    return data, labels"
   ]
  },
  {
   "cell_type": "markdown",
   "metadata": {
    "slideshow": {
     "slide_type": "slide"
    }
   },
   "source": [
    "### Load Fashion MNIST Data"
   ]
  },
  {
   "cell_type": "code",
   "execution_count": null,
   "metadata": {
    "ExecuteTime": {
     "end_time": "2018-04-04T22:08:05.250781Z",
     "start_time": "2018-04-04T22:07:46.519902Z"
    },
    "slideshow": {
     "slide_type": "fragment"
    }
   },
   "outputs": [],
   "source": [
    "fashion_mnist = pd.read_csv(Path('data') / 'fashion-mnist_train.csv.gz')\n",
    "fashion_label = fashion_mnist.label\n",
    "fashion_data = fashion_mnist.drop('label', axis=1).values\n",
    "classes = sorted(np.unique(fashion_label).astype(int))"
   ]
  },
  {
   "cell_type": "code",
   "execution_count": null,
   "metadata": {
    "ExecuteTime": {
     "end_time": "2018-04-04T22:08:05.293616Z",
     "start_time": "2018-04-04T22:08:05.255910Z"
    },
    "slideshow": {
     "slide_type": "fragment"
    }
   },
   "outputs": [],
   "source": [
    "image_size = int(np.sqrt(fashion_data.shape[1])) # 28 x 28 pixels\n",
    "n_samples = 15"
   ]
  },
  {
   "cell_type": "code",
   "execution_count": null,
   "metadata": {
    "ExecuteTime": {
     "end_time": "2018-04-04T22:08:06.193070Z",
     "start_time": "2018-04-04T22:08:05.298077Z"
    },
    "slideshow": {
     "slide_type": "slide"
    }
   },
   "outputs": [],
   "source": [
    "fig, ax = plt.subplots()\n",
    "fashion_sample = np.empty(shape=(image_size * len(classes),\n",
    "                               image_size * n_samples))\n",
    "for row, label in enumerate(classes):\n",
    "    label_data = np.squeeze(np.argwhere(fashion_label == label))\n",
    "    samples = choice(label_data, size=n_samples, replace=False)\n",
    "    i = row * image_size\n",
    "    for col, sample in enumerate(samples):  \n",
    "        j = col * image_size\n",
    "        fashion_sample[i:i+image_size,\n",
    "                     j:j + image_size] = fashion_data[sample].reshape(image_size, -1)\n",
    "\n",
    "ax.imshow(fashion_sample, cmap='Blues')\n",
    "plt.title('Fashion Images')\n",
    "plt.axis('off')\n",
    "plt.tight_layout();"
   ]
  },
  {
   "cell_type": "code",
   "execution_count": null,
   "metadata": {
    "ExecuteTime": {
     "end_time": "2018-04-04T22:08:26.859137Z",
     "start_time": "2018-04-04T22:08:06.203458Z"
    },
    "slideshow": {
     "slide_type": "slide"
    }
   },
   "outputs": [],
   "source": [
    "fig, axes = plt.subplots(nrows=2, ncols=4, figsize=(25, 12))\n",
    "source = 'fashion'\n",
    "methods = ['tsne', 'umap']\n",
    "params = {}\n",
    "params['tsne'] = [10, 20, 30, 50]\n",
    "params['umap'] = [5, 15, 25, 35]\n",
    "param_labels = {'tsne': 'Perplexity', 'umap': 'Neighbors'}\n",
    "with pd.HDFStore(join('data', 'manifolds.h5')) as store:\n",
    "    labels = store[source + '/labels']\n",
    "    color = [sns.color_palette('Paired', 10)[int(i)] for i in labels]\n",
    "    for row, method in enumerate(methods):\n",
    "        for col, param in enumerate(params[method]):\n",
    "            x, y = store.get(source + '/' + method + '/2/' + str(param)).T.values\n",
    "            axes[row, col].scatter(x, y, c=color, s=5)\n",
    "            axes[row, col].set_title('{} | {}: {}'.format(method.upper(), param_labels[method], param))\n",
    "            axes[row, col].axis('off')\n",
    "fig.tight_layout();"
   ]
  },
  {
   "cell_type": "code",
   "execution_count": null,
   "metadata": {
    "ExecuteTime": {
     "end_time": "2018-04-04T22:08:28.111203Z",
     "start_time": "2018-04-04T22:08:26.865141Z"
    },
    "slideshow": {
     "slide_type": "slide"
    }
   },
   "outputs": [],
   "source": [
    "data, labels = get_result('fashion', 'tsne', [2, 25])\n",
    "plotly_color = [plotly_cmap[int(i)] for i in labels]\n",
    "plotly_scatter(data=data, \n",
    "               title='MNIST TSNE Projection',\n",
    "               label=labels,\n",
    "               color=plotly_color)"
   ]
  },
  {
   "cell_type": "code",
   "execution_count": null,
   "metadata": {
    "ExecuteTime": {
     "end_time": "2018-04-04T22:08:29.750041Z",
     "start_time": "2018-04-04T22:08:28.116286Z"
    },
    "slideshow": {
     "slide_type": "slide"
    }
   },
   "outputs": [],
   "source": [
    "data, labels = get_result('fashion', 'umap', [2, 15])\n",
    "plotly_color = [plotly_cmap[int(i)] for i in labels]\n",
    "plotly_scatter(data=data, \n",
    "               title='MNIST UMAP Projection',\n",
    "               label=labels,\n",
    "               color=plotly_color)"
   ]
  },
  {
   "cell_type": "code",
   "execution_count": null,
   "metadata": {
    "ExecuteTime": {
     "end_time": "2018-04-04T22:08:30.215951Z",
     "start_time": "2018-04-04T22:08:29.757713Z"
    },
    "slideshow": {
     "slide_type": "slide"
    }
   },
   "outputs": [],
   "source": [
    "data, labels = get_result('fashion', 'tsne', [3, 25])\n",
    "ipv_color = [ipv_cmap[int(t)] for t in labels]\n",
    "ipv.quickscatter(*data.T, size=.5, color=ipv_color, marker='sphere')"
   ]
  }
 ],
 "metadata": {
  "celltoolbar": "Slideshow",
  "hide_input": false,
  "kernelspec": {
   "display_name": "Python 3",
   "language": "python",
   "name": "python3"
  },
  "language_info": {
   "codemirror_mode": {
    "name": "ipython",
    "version": 3
   },
   "file_extension": ".py",
   "mimetype": "text/x-python",
   "name": "python",
   "nbconvert_exporter": "python",
   "pygments_lexer": "ipython3",
   "version": "3.6.4"
  }
 },
 "nbformat": 4,
 "nbformat_minor": 1
}
