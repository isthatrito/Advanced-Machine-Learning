{
 "cells": [
  {
   "cell_type": "code",
   "execution_count": null,
   "metadata": {
    "ExecuteTime": {
     "end_time": "2018-04-04T21:27:40.155972Z",
     "start_time": "2018-04-04T21:27:37.705519Z"
    },
    "slideshow": {
     "slide_type": "skip"
    }
   },
   "outputs": [],
   "source": [
    "from pathlib import Path\n",
    "import pandas as pd\n",
    "import numpy as np\n",
    "from numpy.random import choice, randint, uniform, randn\n",
    "import seaborn as sns\n",
    "import matplotlib.pyplot as plt\n",
    "import ipyvolume as ipv\n",
    "from ipywidgets import HBox\n",
    "from sklearn.datasets import fetch_mldata, make_swiss_roll, make_s_curve"
   ]
  },
  {
   "cell_type": "code",
   "execution_count": null,
   "metadata": {
    "ExecuteTime": {
     "end_time": "2018-04-04T21:27:40.171949Z",
     "start_time": "2018-04-04T21:27:40.160275Z"
    }
   },
   "outputs": [],
   "source": [
    "%matplotlib inline\n",
    "pd.options.display.float_format = '{:,.2f}'.format"
   ]
  },
  {
   "cell_type": "code",
   "execution_count": null,
   "metadata": {
    "ExecuteTime": {
     "end_time": "2018-04-04T21:27:40.197144Z",
     "start_time": "2018-04-04T21:27:40.176181Z"
    },
    "slideshow": {
     "slide_type": "skip"
    }
   },
   "outputs": [],
   "source": [
    "from jupyterthemes import jtplot\n",
    "jtplot.style(theme='onedork', context='talk', fscale=1.4, spines=False, \n",
    "             gridlines='--', ticks=True, grid=False, figsize=(14, 8))\n"
   ]
  },
  {
   "cell_type": "markdown",
   "metadata": {
    "slideshow": {
     "slide_type": "slide"
    }
   },
   "source": [
    "### Manifold Examples"
   ]
  },
  {
   "cell_type": "code",
   "execution_count": null,
   "metadata": {
    "ExecuteTime": {
     "end_time": "2018-04-04T21:27:40.267641Z",
     "start_time": "2018-04-04T21:27:40.200033Z"
    },
    "slideshow": {
     "slide_type": "fragment"
    }
   },
   "outputs": [],
   "source": [
    "n_points, noise = 1000, 0.1\n",
    "angles = uniform(low=-np.pi, high=np.pi, size=n_points)\n",
    "x = 2 * np.cos(angles) + noise * randn(n_points)\n",
    "y = np.sin(angles) + noise * randn(n_points)\n",
    "\n",
    "theta = np.pi/4 # 45 degree rotation\n",
    "rotation_matrix = np.array([[np.cos(theta), -np.sin(theta)], \n",
    "                            [np.sin(theta), np.cos(theta)]])\n",
    "\n",
    "rotated = np.column_stack((x, y)).dot(rotation_matrix)\n",
    "x, y = rotated[:, 0], rotated[:, 1]\n",
    "\n",
    "z = .2 * x  + .2 * y + noise * randn(n_points)\n",
    "data = np.vstack((x, y, z)).T"
   ]
  },
  {
   "cell_type": "markdown",
   "metadata": {
    "slideshow": {
     "slide_type": "slide"
    }
   },
   "source": [
    "#### Plot 3D Elipse"
   ]
  },
  {
   "cell_type": "code",
   "execution_count": null,
   "metadata": {
    "ExecuteTime": {
     "end_time": "2018-04-04T21:27:40.405243Z",
     "start_time": "2018-04-04T21:27:40.270541Z"
    },
    "scrolled": false,
    "slideshow": {
     "slide_type": "fragment"
    }
   },
   "outputs": [],
   "source": [
    "ipv.quickscatter(*data.T, size=1, marker='sphere', color='blue')"
   ]
  },
  {
   "cell_type": "markdown",
   "metadata": {
    "slideshow": {
     "slide_type": "slide"
    }
   },
   "source": [
    "### Non-linear Manifold"
   ]
  },
  {
   "cell_type": "code",
   "execution_count": null,
   "metadata": {
    "ExecuteTime": {
     "end_time": "2018-04-04T21:27:40.477891Z",
     "start_time": "2018-04-04T21:27:40.409024Z"
    },
    "slideshow": {
     "slide_type": "fragment"
    }
   },
   "outputs": [],
   "source": [
    "n_samples = 10000\n",
    "palette = sns.color_palette('viridis', n_colors=n_samples)"
   ]
  },
  {
   "cell_type": "code",
   "execution_count": null,
   "metadata": {
    "ExecuteTime": {
     "end_time": "2018-04-04T21:27:40.491206Z",
     "start_time": "2018-04-04T21:27:40.481252Z"
    },
    "slideshow": {
     "slide_type": "fragment"
    }
   },
   "outputs": [],
   "source": [
    "swiss_X, swiss_val = make_swiss_roll(\n",
    "    n_samples=n_samples, noise=.1, random_state=42)\n",
    "swiss_X = swiss_X[swiss_val.argsort()[::-1]]"
   ]
  },
  {
   "cell_type": "code",
   "execution_count": null,
   "metadata": {
    "ExecuteTime": {
     "end_time": "2018-04-04T21:27:40.505452Z",
     "start_time": "2018-04-04T21:27:40.495376Z"
    },
    "slideshow": {
     "slide_type": "fragment"
    }
   },
   "outputs": [],
   "source": [
    "scurve_X, scurve_val = make_s_curve(\n",
    "    n_samples=n_samples, noise=.1, random_state=42)\n",
    "scurve_X = scurve_X[scurve_val.argsort()[::-1]]"
   ]
  },
  {
   "cell_type": "markdown",
   "metadata": {
    "slideshow": {
     "slide_type": "slide"
    }
   },
   "source": [
    "#### Plot toy examples"
   ]
  },
  {
   "cell_type": "code",
   "execution_count": null,
   "metadata": {
    "ExecuteTime": {
     "end_time": "2018-04-04T21:27:40.652655Z",
     "start_time": "2018-04-04T21:27:40.508869Z"
    },
    "slideshow": {
     "slide_type": "fragment"
    }
   },
   "outputs": [],
   "source": [
    "HBox([\n",
    "    ipv.quickscatter(*swiss_X.T, size=1, marker='sphere', color=palette),\n",
    "    ipv.quickscatter(*scurve_X.T, size=1, marker='sphere', color=palette)\n",
    "])"
   ]
  },
  {
   "cell_type": "markdown",
   "metadata": {
    "slideshow": {
     "slide_type": "slide"
    }
   },
   "source": [
    "### Handwritten Digits"
   ]
  },
  {
   "cell_type": "code",
   "execution_count": null,
   "metadata": {
    "ExecuteTime": {
     "end_time": "2018-04-04T21:27:40.802283Z",
     "start_time": "2018-04-04T21:27:40.656440Z"
    },
    "slideshow": {
     "slide_type": "fragment"
    }
   },
   "outputs": [],
   "source": [
    "mnist = fetch_mldata('MNIST original', data_home='.')\n",
    "mnist"
   ]
  },
  {
   "cell_type": "code",
   "execution_count": null,
   "metadata": {
    "ExecuteTime": {
     "end_time": "2018-04-04T21:27:40.814675Z",
     "start_time": "2018-04-04T21:27:40.806165Z"
    },
    "slideshow": {
     "slide_type": "fragment"
    }
   },
   "outputs": [],
   "source": [
    "mnist.data.shape"
   ]
  },
  {
   "cell_type": "code",
   "execution_count": null,
   "metadata": {
    "ExecuteTime": {
     "end_time": "2018-04-04T21:27:40.830215Z",
     "start_time": "2018-04-04T21:27:40.818869Z"
    },
    "slideshow": {
     "slide_type": "fragment"
    }
   },
   "outputs": [],
   "source": [
    "classes = sorted(np.unique(mnist.target).astype(int))\n",
    "classes"
   ]
  },
  {
   "cell_type": "markdown",
   "metadata": {
    "slideshow": {
     "slide_type": "slide"
    }
   },
   "source": [
    "#### Plot sample images"
   ]
  },
  {
   "cell_type": "code",
   "execution_count": null,
   "metadata": {
    "ExecuteTime": {
     "end_time": "2018-04-04T21:27:40.839616Z",
     "start_time": "2018-04-04T21:27:40.834220Z"
    },
    "slideshow": {
     "slide_type": "fragment"
    }
   },
   "outputs": [],
   "source": [
    "image_size = int(np.sqrt(mnist.data.shape[1])) # 28 x 28 pixels\n",
    "n_samples = 15"
   ]
  },
  {
   "cell_type": "code",
   "execution_count": null,
   "metadata": {
    "ExecuteTime": {
     "end_time": "2018-04-04T21:27:41.303203Z",
     "start_time": "2018-04-04T21:27:40.844235Z"
    },
    "slideshow": {
     "slide_type": "fragment"
    }
   },
   "outputs": [],
   "source": [
    "fig, ax = plt.subplots()\n",
    "mnist_sample = np.empty(\n",
    "    shape=(image_size * len(classes), image_size * n_samples))\n",
    "for row, label in enumerate(classes):\n",
    "    label_data = np.squeeze(np.argwhere(mnist.target == label))\n",
    "    samples = choice(label_data, size=n_samples, replace=False)\n",
    "    i = row * image_size\n",
    "    for col, sample in enumerate(samples):\n",
    "        j = col * image_size\n",
    "        mnist_sample[i:i+image_size, j:j +\n",
    "                     image_size] = mnist.data[sample].reshape(image_size, -1)\n",
    "\n",
    "ax.imshow(mnist_sample, cmap='Blues')\n",
    "plt.title('Handwritten Digits')\n",
    "plt.axis('off');"
   ]
  },
  {
   "cell_type": "markdown",
   "metadata": {
    "slideshow": {
     "slide_type": "slide"
    }
   },
   "source": [
    "#### Visualize data structure per class"
   ]
  },
  {
   "cell_type": "code",
   "execution_count": null,
   "metadata": {
    "ExecuteTime": {
     "end_time": "2018-04-04T21:27:50.570274Z",
     "start_time": "2018-04-04T21:27:41.306958Z"
    },
    "slideshow": {
     "slide_type": "fragment"
    }
   },
   "outputs": [],
   "source": [
    "fig, axes = plt.subplots(nrows=len(classes), figsize=(15, 20))\n",
    "n = 100\n",
    "samples = []\n",
    "for i, label in enumerate(classes):\n",
    "    label_data = np.squeeze(np.argwhere(mnist.target == label))\n",
    "    sample = choice(label_data, size=n, replace=False)\n",
    "    sns.heatmap(mnist.data[sample], cmap='Blues', ax=axes[i], cbar=False)\n",
    "    axes[i].set_title('Class: {:.0f}'.format(label))\n",
    "    axes[i].axis('off')\n",
    "fig.tight_layout(h_pad=.1)"
   ]
  },
  {
   "cell_type": "markdown",
   "metadata": {
    "slideshow": {
     "slide_type": "slide"
    }
   },
   "source": [
    "### Compare with random data"
   ]
  },
  {
   "cell_type": "code",
   "execution_count": null,
   "metadata": {
    "ExecuteTime": {
     "end_time": "2018-04-04T21:27:51.487794Z",
     "start_time": "2018-04-04T21:27:50.573578Z"
    },
    "slideshow": {
     "slide_type": "fragment"
    }
   },
   "outputs": [],
   "source": [
    "fig, ax = plt.subplots()\n",
    "sns.heatmap(np.random.randint(low=0, high=255, size=(100, 784)), cmap='Blues', ax=ax)\n",
    "plt.axis('off');"
   ]
  },
  {
   "cell_type": "markdown",
   "metadata": {
    "slideshow": {
     "slide_type": "slide"
    }
   },
   "source": [
    "### Load Fashion MNIST Data"
   ]
  },
  {
   "cell_type": "code",
   "execution_count": null,
   "metadata": {
    "ExecuteTime": {
     "end_time": "2018-04-04T21:28:01.970484Z",
     "start_time": "2018-04-04T21:27:51.490510Z"
    },
    "slideshow": {
     "slide_type": "fragment"
    }
   },
   "outputs": [],
   "source": [
    "fashion_mnist = pd.read_csv(Path('data') / 'fashion-mnist_train.csv.gz')\n",
    "fashion_label = fashion_mnist.label\n",
    "fashion_data = fashion_mnist.drop('label', axis=1).values\n",
    "classes = sorted(np.unique(fashion_label).astype(int))"
   ]
  },
  {
   "cell_type": "code",
   "execution_count": null,
   "metadata": {
    "ExecuteTime": {
     "end_time": "2018-04-04T21:28:01.982946Z",
     "start_time": "2018-04-04T21:28:01.974910Z"
    },
    "slideshow": {
     "slide_type": "fragment"
    }
   },
   "outputs": [],
   "source": [
    "image_size = int(np.sqrt(fashion_data.shape[1])) # 28 x 28 pixels\n",
    "n_samples = 15"
   ]
  },
  {
   "cell_type": "code",
   "execution_count": null,
   "metadata": {
    "ExecuteTime": {
     "end_time": "2018-04-04T21:28:02.509546Z",
     "start_time": "2018-04-04T21:28:01.988217Z"
    },
    "slideshow": {
     "slide_type": "slide"
    }
   },
   "outputs": [],
   "source": [
    "fig, ax = plt.subplots()\n",
    "fashion_sample = np.empty(shape=(image_size * len(classes),\n",
    "                               image_size * n_samples))\n",
    "for row, label in enumerate(classes):\n",
    "    label_data = np.squeeze(np.argwhere(fashion_label == label))\n",
    "    samples = choice(label_data, size=n_samples, replace=False)\n",
    "    i = row * image_size\n",
    "    for col, sample in enumerate(samples):\n",
    "        j = col * image_size\n",
    "        fashion_sample[i:i+image_size,\n",
    "                     j:j + image_size] = fashion_data[sample].reshape(image_size, -1)\n",
    "\n",
    "ax.imshow(fashion_sample, cmap='Blues')\n",
    "plt.title('Fashion Images')\n",
    "plt.axis('off')\n",
    "plt.tight_layout();"
   ]
  },
  {
   "cell_type": "code",
   "execution_count": null,
   "metadata": {
    "ExecuteTime": {
     "end_time": "2018-04-04T21:28:15.653292Z",
     "start_time": "2018-04-04T21:28:02.512740Z"
    },
    "slideshow": {
     "slide_type": "slide"
    }
   },
   "outputs": [],
   "source": [
    "fig, axes = plt.subplots(nrows=len(classes), figsize=(15, 20))\n",
    "n = 100\n",
    "samples = []\n",
    "for i, label in enumerate(classes):\n",
    "    label_data = np.squeeze(np.argwhere(fashion_label == label))\n",
    "    sample = choice(label_data, size=n, replace=False)\n",
    "    sns.heatmap(fashion_data[sample], cmap='Blues', ax=axes[i], cbar=False)\n",
    "    axes[i].set_title('Class: {:.0f}'.format(label))\n",
    "    axes[i].axis('off')\n",
    "fig.tight_layout(h_pad=.1);"
   ]
  }
 ],
 "metadata": {
  "celltoolbar": "Slideshow",
  "hide_input": false,
  "kernelspec": {
   "display_name": "Python 3",
   "language": "python",
   "name": "python3"
  },
  "language_info": {
   "codemirror_mode": {
    "name": "ipython",
    "version": 3
   },
   "file_extension": ".py",
   "mimetype": "text/x-python",
   "name": "python",
   "nbconvert_exporter": "python",
   "pygments_lexer": "ipython3",
   "version": "3.6.4"
  },
  "toc": {
   "nav_menu": {},
   "number_sections": true,
   "sideBar": true,
   "skip_h1_title": false,
   "toc_cell": false,
   "toc_position": {},
   "toc_section_display": "block",
   "toc_window_display": false
  }
 },
 "nbformat": 4,
 "nbformat_minor": 1
}
