{
 "cells": [
  {
   "cell_type": "code",
   "execution_count": null,
   "metadata": {
    "ExecuteTime": {
     "end_time": "2018-04-04T15:30:54.237099Z",
     "start_time": "2018-04-04T15:30:52.114779Z"
    },
    "slideshow": {
     "slide_type": "skip"
    }
   },
   "outputs": [],
   "source": [
    "import matplotlib.pyplot as plt\n",
    "import pandas as pd\n",
    "import numpy as np\n",
    "from scipy.cluster.hierarchy import dendrogram, linkage, cophenet\n",
    "from sklearn.decomposition import PCA\n",
    "from sklearn.cluster import AgglomerativeClustering\n",
    "from sklearn.metrics import adjusted_mutual_info_score\n",
    "from sklearn.preprocessing import StandardScaler\n",
    "from sklearn.datasets import load_iris\n",
    "from matplotlib.animation import FuncAnimation\n",
    "from scipy.spatial.distance import pdist\n",
    "from IPython.display import HTML"
   ]
  },
  {
   "cell_type": "code",
   "execution_count": null,
   "metadata": {
    "ExecuteTime": {
     "end_time": "2018-04-04T15:30:54.262258Z",
     "start_time": "2018-04-04T15:30:54.240942Z"
    }
   },
   "outputs": [],
   "source": [
    "# if you have difficulties with ffmpeg to run the simulation, see https://stackoverflow.com/questions/13316397/matplotlib-animation-no-moviewriters-available\n",
    "# plt.rcParams['animation.ffmpeg_path'] = your_windows_path\n",
    "plt.rcParams['animation.ffmpeg_args'] = '-report'\n",
    "plt.rcParams['animation.bitrate'] = 2000\n",
    "\n",
    "%matplotlib notebook\n",
    "pd.options.display.float_format = '{:,.2f}'.format"
   ]
  },
  {
   "cell_type": "code",
   "execution_count": null,
   "metadata": {
    "ExecuteTime": {
     "end_time": "2018-04-04T15:30:54.363377Z",
     "start_time": "2018-04-04T15:30:54.266524Z"
    },
    "slideshow": {
     "slide_type": "skip"
    }
   },
   "outputs": [],
   "source": [
    "from jupyterthemes import jtplot\n",
    "jtplot.style(theme='onedork', context='talk', fscale=1.4, spines=False, gridlines='--', ticks=True, grid=False, figsize=(8, 6))"
   ]
  },
  {
   "cell_type": "markdown",
   "metadata": {
    "slideshow": {
     "slide_type": "slide"
    }
   },
   "source": [
    "### Load Iris Data"
   ]
  },
  {
   "cell_type": "code",
   "execution_count": null,
   "metadata": {
    "ExecuteTime": {
     "end_time": "2018-04-04T15:30:54.381661Z",
     "start_time": "2018-04-04T15:30:54.368243Z"
    },
    "slideshow": {
     "slide_type": "fragment"
    }
   },
   "outputs": [],
   "source": [
    "iris = load_iris()\n",
    "iris.keys()"
   ]
  },
  {
   "cell_type": "code",
   "execution_count": null,
   "metadata": {
    "ExecuteTime": {
     "end_time": "2018-04-04T15:30:54.391387Z",
     "start_time": "2018-04-04T15:30:54.385493Z"
    },
    "slideshow": {
     "slide_type": "slide"
    }
   },
   "outputs": [],
   "source": [
    "print(iris.DESCR)"
   ]
  },
  {
   "cell_type": "markdown",
   "metadata": {
    "slideshow": {
     "slide_type": "slide"
    }
   },
   "source": [
    "### Create DataFrame"
   ]
  },
  {
   "cell_type": "code",
   "execution_count": null,
   "metadata": {
    "ExecuteTime": {
     "end_time": "2018-04-04T15:30:54.414105Z",
     "start_time": "2018-04-04T15:30:54.395567Z"
    },
    "slideshow": {
     "slide_type": "fragment"
    }
   },
   "outputs": [],
   "source": [
    "features = iris.feature_names\n",
    "data = pd.DataFrame(data=np.column_stack([iris.data, iris.target]), \n",
    "                    columns=features + ['label'])\n",
    "data.label = data.label.astype(int)\n",
    "data.info()"
   ]
  },
  {
   "cell_type": "markdown",
   "metadata": {
    "slideshow": {
     "slide_type": "slide"
    }
   },
   "source": [
    "### Standardize Data"
   ]
  },
  {
   "cell_type": "code",
   "execution_count": null,
   "metadata": {
    "ExecuteTime": {
     "end_time": "2018-04-04T15:30:54.426134Z",
     "start_time": "2018-04-04T15:30:54.418278Z"
    },
    "slideshow": {
     "slide_type": "fragment"
    }
   },
   "outputs": [],
   "source": [
    "scaler = StandardScaler()\n",
    "features_standardized = scaler.fit_transform(data[features])\n",
    "n = len(data)"
   ]
  },
  {
   "cell_type": "markdown",
   "metadata": {
    "slideshow": {
     "slide_type": "slide"
    }
   },
   "source": [
    "### Reduce Dimensionality to visualize clusters"
   ]
  },
  {
   "cell_type": "code",
   "execution_count": null,
   "metadata": {
    "ExecuteTime": {
     "end_time": "2018-04-04T15:30:54.436990Z",
     "start_time": "2018-04-04T15:30:54.429873Z"
    },
    "slideshow": {
     "slide_type": "fragment"
    }
   },
   "outputs": [],
   "source": [
    "pca = PCA(n_components=2)\n",
    "features_2D = pca.fit_transform(features_standardized)"
   ]
  },
  {
   "cell_type": "code",
   "execution_count": null,
   "metadata": {
    "ExecuteTime": {
     "end_time": "2018-04-04T15:30:54.501453Z",
     "start_time": "2018-04-04T15:30:54.440264Z"
    },
    "hide_input": false,
    "slideshow": {
     "slide_type": "slide"
    }
   },
   "outputs": [],
   "source": [
    "ev1, ev2 = pca.explained_variance_ratio_\n",
    "ax = plt.figure().gca(title='2D Projection', \n",
    "                      xlabel='Explained Variance: {:.2%}'.format(ev1), \n",
    "                      ylabel='Explained Variance: {:.2%}'.format(ev2))\n",
    "ax.scatter(*features_2D.T, c=data.label, s=10)"
   ]
  },
  {
   "cell_type": "markdown",
   "metadata": {
    "slideshow": {
     "slide_type": "slide"
    }
   },
   "source": [
    "### Perform agglomerative clustering"
   ]
  },
  {
   "cell_type": "code",
   "execution_count": null,
   "metadata": {
    "ExecuteTime": {
     "end_time": "2018-04-04T15:30:54.522559Z",
     "start_time": "2018-04-04T15:30:54.505372Z"
    },
    "slideshow": {
     "slide_type": "fragment"
    }
   },
   "outputs": [],
   "source": [
    "Z = linkage(features_standardized, 'ward')\n",
    "Z[:5]"
   ]
  },
  {
   "cell_type": "code",
   "execution_count": null,
   "metadata": {
    "ExecuteTime": {
     "end_time": "2018-04-04T15:30:54.547518Z",
     "start_time": "2018-04-04T15:30:54.526846Z"
    },
    "slideshow": {
     "slide_type": "slide"
    }
   },
   "outputs": [],
   "source": [
    "linkage_matrix = pd.DataFrame(data=Z, \n",
    "                              columns=['cluster_1', 'cluster_2', \n",
    "                                       'distance', 'n_objects'],\n",
    "                              index=range(1, n))\n",
    "for col in ['cluster_1', 'cluster_2', 'n_objects']:\n",
    "    linkage_matrix[col] = linkage_matrix[col].astype(int)\n",
    "linkage_matrix.info()"
   ]
  },
  {
   "cell_type": "code",
   "execution_count": null,
   "metadata": {
    "ExecuteTime": {
     "end_time": "2018-04-04T15:30:54.580566Z",
     "start_time": "2018-04-04T15:30:54.551536Z"
    },
    "slideshow": {
     "slide_type": "slide"
    }
   },
   "outputs": [],
   "source": [
    "linkage_matrix.head()"
   ]
  },
  {
   "cell_type": "code",
   "execution_count": null,
   "metadata": {
    "ExecuteTime": {
     "end_time": "2018-04-04T15:30:54.710115Z",
     "start_time": "2018-04-04T15:30:54.583991Z"
    },
    "slideshow": {
     "slide_type": "slide"
    }
   },
   "outputs": [],
   "source": [
    "linkage_matrix[['distance', 'n_objects']].plot(secondary_y=['distance'], \n",
    "                        title='Agglomerative Clustering Progression');"
   ]
  },
  {
   "cell_type": "markdown",
   "metadata": {
    "slideshow": {
     "slide_type": "slide"
    }
   },
   "source": [
    "### Compare linkage types"
   ]
  },
  {
   "cell_type": "code",
   "execution_count": null,
   "metadata": {
    "ExecuteTime": {
     "end_time": "2018-04-04T15:30:54.720638Z",
     "start_time": "2018-04-04T15:30:54.712877Z"
    },
    "slideshow": {
     "slide_type": "fragment"
    }
   },
   "outputs": [],
   "source": [
    "methods = ['single', 'complete', 'average', 'ward']\n",
    "pairwise_distance = pdist(features_standardized)"
   ]
  },
  {
   "cell_type": "code",
   "execution_count": null,
   "metadata": {
    "ExecuteTime": {
     "end_time": "2018-04-04T15:30:55.653671Z",
     "start_time": "2018-04-04T15:30:54.724839Z"
    },
    "slideshow": {
     "slide_type": "fragment"
    }
   },
   "outputs": [],
   "source": [
    "fig, axes = plt.subplots(figsize=(10, 15), nrows=4, sharex=True)\n",
    "axes = axes.flatten()\n",
    "for i, method in enumerate(methods):\n",
    "    Z = linkage(features_standardized, method)\n",
    "    c, coph_dists = cophenet(Z, pairwise_distance)\n",
    "    dendrogram(Z, labels=data.label.values,\n",
    "        orientation='top', leaf_rotation=0., \n",
    "        leaf_font_size=8., ax = axes[i])\n",
    "    axes[i].set_title('Method: {} | Correlation: {:.2f}'.format(\n",
    "                                                method.capitalize(), c))\n"
   ]
  },
  {
   "cell_type": "markdown",
   "metadata": {
    "slideshow": {
     "slide_type": "slide"
    }
   },
   "source": [
    "### Get Cluster Members"
   ]
  },
  {
   "cell_type": "code",
   "execution_count": null,
   "metadata": {
    "ExecuteTime": {
     "end_time": "2018-04-04T15:30:55.669548Z",
     "start_time": "2018-04-04T15:30:55.657736Z"
    },
    "slideshow": {
     "slide_type": "fragment"
    }
   },
   "outputs": [],
   "source": [
    "n = len(Z)\n",
    "from collections import OrderedDict\n",
    "clusters = OrderedDict()\n",
    "\n",
    "for i, row in enumerate(Z, 1):\n",
    "    cluster = []\n",
    "    for c in row[:2]:\n",
    "        if c <= n:\n",
    "            cluster.append(int(c))\n",
    "        else:\n",
    "            cluster += clusters[int(c)]\n",
    "    clusters[n+i] = cluster"
   ]
  },
  {
   "cell_type": "code",
   "execution_count": null,
   "metadata": {
    "ExecuteTime": {
     "end_time": "2018-04-04T15:30:55.688192Z",
     "start_time": "2018-04-04T15:30:55.675653Z"
    },
    "slideshow": {
     "slide_type": "fragment"
    }
   },
   "outputs": [],
   "source": [
    "clusters[230]"
   ]
  },
  {
   "cell_type": "markdown",
   "metadata": {
    "slideshow": {
     "slide_type": "slide"
    }
   },
   "source": [
    "### Animate Agglomerative Clustering"
   ]
  },
  {
   "cell_type": "code",
   "execution_count": null,
   "metadata": {
    "ExecuteTime": {
     "end_time": "2018-04-04T15:30:55.705619Z",
     "start_time": "2018-04-04T15:30:55.693495Z"
    },
    "slideshow": {
     "slide_type": "fragment"
    }
   },
   "outputs": [],
   "source": [
    "def get_2D_coordinates():\n",
    "    points = pd.DataFrame(features_2D).assign(n=1)\n",
    "    return dict(enumerate(points.values.tolist()))"
   ]
  },
  {
   "cell_type": "code",
   "execution_count": null,
   "metadata": {
    "ExecuteTime": {
     "end_time": "2018-04-04T15:30:55.754495Z",
     "start_time": "2018-04-04T15:30:55.711184Z"
    },
    "slideshow": {
     "slide_type": "fragment"
    }
   },
   "outputs": [],
   "source": [
    "n_clusters = Z.shape[0]\n",
    "points = get_2D_coordinates()\n",
    "cluster_states = {0: get_2D_coordinates()}\n",
    "\n",
    "for i, cluster in enumerate(Z[:, :2], 1):\n",
    "    cluster_state = dict(cluster_states[i-1])\n",
    "    merged_points = np.array([cluster_state.pop(c) for c in cluster])\n",
    "    cluster_size = merged_points[:, 2]\n",
    "    new_point = np.average(merged_points[:, :2], \n",
    "                           axis=0, weights=cluster_size).tolist()\n",
    "    new_point.append(cluster_size.sum())\n",
    "    cluster_state[n_clusters+i] = new_point\n",
    "    cluster_states[i] = cluster_state"
   ]
  },
  {
   "cell_type": "code",
   "execution_count": null,
   "metadata": {
    "ExecuteTime": {
     "end_time": "2018-04-04T15:30:55.778890Z",
     "start_time": "2018-04-04T15:30:55.758529Z"
    },
    "slideshow": {
     "slide_type": "slide"
    }
   },
   "outputs": [],
   "source": [
    "cluster_states[100]"
   ]
  },
  {
   "cell_type": "markdown",
   "metadata": {
    "slideshow": {
     "slide_type": "slide"
    }
   },
   "source": [
    "### Set up Animation"
   ]
  },
  {
   "cell_type": "code",
   "execution_count": null,
   "metadata": {
    "ExecuteTime": {
     "end_time": "2018-04-04T15:30:55.829764Z",
     "start_time": "2018-04-04T15:30:55.782468Z"
    },
    "slideshow": {
     "slide_type": "fragment"
    }
   },
   "outputs": [],
   "source": [
    "%%capture\n",
    "fig, ax = plt.subplots()\n",
    "xmin, ymin = np.min(features_2D, axis=0) * 1.1\n",
    "xmax, ymax = np.max(features_2D, axis=0) * 1.1\n",
    "ax.set(xlim=(xmin, xmax), ylim=(ymin, ymax))"
   ]
  },
  {
   "cell_type": "code",
   "execution_count": null,
   "metadata": {
    "ExecuteTime": {
     "end_time": "2018-04-04T15:31:01.899143Z",
     "start_time": "2018-04-04T15:30:55.832746Z"
    },
    "slideshow": {
     "slide_type": "slide"
    }
   },
   "outputs": [],
   "source": [
    "scat = ax.scatter([], [])\n",
    "def animate(i):\n",
    "    df = pd.DataFrame(cluster_states[i]).values.T\n",
    "    scat.set_offsets(df[:, :2])\n",
    "    scat.set_sizes((df[:, 2] * 2) ** 2)\n",
    "    return scat,\n",
    "    \n",
    "anim = FuncAnimation(\n",
    "    fig, animate, frames=cluster_states.keys(), interval=250, blit=False)\n",
    "HTML(anim.to_html5_video())"
   ]
  },
  {
   "cell_type": "markdown",
   "metadata": {
    "slideshow": {
     "slide_type": "slide"
    }
   },
   "source": [
    "### Scikit-Learn implementation"
   ]
  },
  {
   "cell_type": "code",
   "execution_count": null,
   "metadata": {
    "ExecuteTime": {
     "end_time": "2018-04-04T15:31:02.125068Z",
     "start_time": "2018-04-04T15:31:01.917590Z"
    },
    "slideshow": {
     "slide_type": "fragment"
    }
   },
   "outputs": [],
   "source": [
    "clusterer = AgglomerativeClustering(n_clusters=3)\n",
    "data['clusters'] = clusterer.fit_predict(features_standardized)\n",
    "fig, axes = plt.subplots(ncols=2)\n",
    "labels, clusters = data.label, data.clusters\n",
    "mi = adjusted_mutual_info_score(labels, clusters)\n",
    "axes[0].scatter(*features_2D.T, c=data.label, s=10)\n",
    "axes[0].set_title('Original Data')\n",
    "axes[1].scatter(*features_2D.T, c=data.clusters, s=10)\n",
    "axes[1].set_title('Clusters | MI={:.2f}'.format(mi))\n",
    "plt.tight_layout()"
   ]
  },
  {
   "cell_type": "markdown",
   "metadata": {
    "slideshow": {
     "slide_type": "slide"
    }
   },
   "source": [
    "### Comparing Mutual Information for different Linkage Options"
   ]
  },
  {
   "cell_type": "code",
   "execution_count": null,
   "metadata": {
    "ExecuteTime": {
     "end_time": "2018-04-04T15:31:02.315929Z",
     "start_time": "2018-04-04T15:31:02.131731Z"
    },
    "slideshow": {
     "slide_type": "fragment"
    }
   },
   "outputs": [],
   "source": [
    "mutual_info = {}\n",
    "for linkage_method in ['ward', 'complete', 'average']: \n",
    "    clusterer = AgglomerativeClustering(n_clusters=3, linkage=linkage_method)\n",
    "    clusters = clusterer.fit_predict(features_standardized)  \n",
    "    mutual_info[linkage_method] = adjusted_mutual_info_score(clusters, labels)\n",
    "fig, ax = plt.subplots()\n",
    "pd.Series(mutual_info).sort_values().plot.barh()\n",
    "plt.tight_layout()"
   ]
  }
 ],
 "metadata": {
  "celltoolbar": "Slideshow",
  "hide_input": false,
  "kernelspec": {
   "display_name": "Python 3",
   "language": "python",
   "name": "python3"
  },
  "language_info": {
   "codemirror_mode": {
    "name": "ipython",
    "version": 3
   },
   "file_extension": ".py",
   "mimetype": "text/x-python",
   "name": "python",
   "nbconvert_exporter": "python",
   "pygments_lexer": "ipython3",
   "version": "3.6.4"
  }
 },
 "nbformat": 4,
 "nbformat_minor": 2
}
