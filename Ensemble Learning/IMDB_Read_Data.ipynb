{
 "cells": [
  {
   "cell_type": "markdown",
   "metadata": {},
   "source": [
    "## Importing required libraries"
   ]
  },
  {
   "cell_type": "code",
   "execution_count": 45,
   "metadata": {},
   "outputs": [],
   "source": [
    "import os\n",
    "import glob\n",
    "import pandas as pd"
   ]
  },
  {
   "cell_type": "markdown",
   "metadata": {},
   "source": [
    "#### Here, glob method from the module glob returns a list of all file paths that match the regex pattern *.txt \n",
    "#### This stores all file paths from the folder pos into a list.\n",
    "#### And then a loop is used to open each text file from the path and the text in that file is appended to the list text.\n",
    "#### Finally a dataframe of positive reviews is created"
   ]
  },
  {
   "cell_type": "code",
   "execution_count": 46,
   "metadata": {},
   "outputs": [
    {
     "data": {
      "text/plain": [
       "'/Users/Dippies/CODE PACKT - EML/Chapter 11/CS - IMDB Classification'"
      ]
     },
     "execution_count": 46,
     "metadata": {},
     "output_type": "execute_result"
    }
   ],
   "source": [
    "os.chdir(\"/.../Chapter 11/CS - IMDB Classification\")\n",
    "os.getcwd()\n"
   ]
  },
  {
   "cell_type": "code",
   "execution_count": 48,
   "metadata": {},
   "outputs": [
    {
     "data": {
      "text/html": [
       "<div>\n",
       "<style scoped>\n",
       "    .dataframe tbody tr th:only-of-type {\n",
       "        vertical-align: middle;\n",
       "    }\n",
       "\n",
       "    .dataframe tbody tr th {\n",
       "        vertical-align: top;\n",
       "    }\n",
       "\n",
       "    .dataframe thead th {\n",
       "        text-align: right;\n",
       "    }\n",
       "</style>\n",
       "<table border=\"1\" class=\"dataframe\">\n",
       "  <thead>\n",
       "    <tr style=\"text-align: right;\">\n",
       "      <th></th>\n",
       "      <th>label</th>\n",
       "      <th>text</th>\n",
       "    </tr>\n",
       "  </thead>\n",
       "  <tbody>\n",
       "    <tr>\n",
       "      <th>0</th>\n",
       "      <td>positive</td>\n",
       "      <td>assume nothing . \\nthe phrase is perhaps one o...</td>\n",
       "    </tr>\n",
       "    <tr>\n",
       "      <th>1</th>\n",
       "      <td>positive</td>\n",
       "      <td>plot : derek zoolander is a male model . \\nhe ...</td>\n",
       "    </tr>\n",
       "    <tr>\n",
       "      <th>2</th>\n",
       "      <td>positive</td>\n",
       "      <td>i actually am a fan of the original 1961 or so...</td>\n",
       "    </tr>\n",
       "    <tr>\n",
       "      <th>3</th>\n",
       "      <td>positive</td>\n",
       "      <td>a movie that's been as highly built up as the ...</td>\n",
       "    </tr>\n",
       "    <tr>\n",
       "      <th>4</th>\n",
       "      <td>positive</td>\n",
       "      <td>\" good will hunting \" is two movies in one : ...</td>\n",
       "    </tr>\n",
       "  </tbody>\n",
       "</table>\n",
       "</div>"
      ],
      "text/plain": [
       "      label                                               text\n",
       "0  positive  assume nothing . \\nthe phrase is perhaps one o...\n",
       "1  positive  plot : derek zoolander is a male model . \\nhe ...\n",
       "2  positive  i actually am a fan of the original 1961 or so...\n",
       "3  positive  a movie that's been as highly built up as the ...\n",
       "4  positive   \" good will hunting \" is two movies in one : ..."
      ]
     },
     "execution_count": 48,
     "metadata": {},
     "output_type": "execute_result"
    }
   ],
   "source": [
    "path=\"/.../Chapter 11/CS - IMDB Classification/txt_sentoken/pos/*.txt\"\n",
    "\n",
    "files = glob.glob(path)\n",
    "text_pos = []\n",
    "\n",
    "for p in files:\n",
    "    file_read = open(p, \"r\")\n",
    "    to_append_pos = file_read.read()\n",
    "    text_pos.append(to_append_pos)\n",
    "    file_read.close()\n",
    "\n",
    "df_pos = pd.DataFrame({'text':text_pos,'label':'positive'})\n",
    "df_pos.head()"
   ]
  },
  {
   "cell_type": "markdown",
   "metadata": {},
   "source": [
    "#### Similarly reading negative reviews, a data frame is created"
   ]
  },
  {
   "cell_type": "code",
   "execution_count": 49,
   "metadata": {},
   "outputs": [
    {
     "data": {
      "text/html": [
       "<div>\n",
       "<style scoped>\n",
       "    .dataframe tbody tr th:only-of-type {\n",
       "        vertical-align: middle;\n",
       "    }\n",
       "\n",
       "    .dataframe tbody tr th {\n",
       "        vertical-align: top;\n",
       "    }\n",
       "\n",
       "    .dataframe thead th {\n",
       "        text-align: right;\n",
       "    }\n",
       "</style>\n",
       "<table border=\"1\" class=\"dataframe\">\n",
       "  <thead>\n",
       "    <tr style=\"text-align: right;\">\n",
       "      <th></th>\n",
       "      <th>label</th>\n",
       "      <th>text</th>\n",
       "    </tr>\n",
       "  </thead>\n",
       "  <tbody>\n",
       "    <tr>\n",
       "      <th>0</th>\n",
       "      <td>negative</td>\n",
       "      <td>bad . bad . \\nbad . \\nthat one word seems to p...</td>\n",
       "    </tr>\n",
       "    <tr>\n",
       "      <th>1</th>\n",
       "      <td>negative</td>\n",
       "      <td>isn't it the ultimate sign of a movie's cinema...</td>\n",
       "    </tr>\n",
       "    <tr>\n",
       "      <th>2</th>\n",
       "      <td>negative</td>\n",
       "      <td>\" gordy \" is not a movie , it is a 90-minute-...</td>\n",
       "    </tr>\n",
       "    <tr>\n",
       "      <th>3</th>\n",
       "      <td>negative</td>\n",
       "      <td>disconnect the phone line . \\ndon't accept the...</td>\n",
       "    </tr>\n",
       "    <tr>\n",
       "      <th>4</th>\n",
       "      <td>negative</td>\n",
       "      <td>when robert forster found himself famous again...</td>\n",
       "    </tr>\n",
       "  </tbody>\n",
       "</table>\n",
       "</div>"
      ],
      "text/plain": [
       "      label                                               text\n",
       "0  negative  bad . bad . \\nbad . \\nthat one word seems to p...\n",
       "1  negative  isn't it the ultimate sign of a movie's cinema...\n",
       "2  negative   \" gordy \" is not a movie , it is a 90-minute-...\n",
       "3  negative  disconnect the phone line . \\ndon't accept the...\n",
       "4  negative  when robert forster found himself famous again..."
      ]
     },
     "execution_count": 49,
     "metadata": {},
     "output_type": "execute_result"
    }
   ],
   "source": [
    "path=\"/.../Chapter 11/CS - IMDB Classification/txt_sentoken/neg/*.txt\"\n",
    "\n",
    "files = glob.glob(path)\n",
    "text_neg = []\n",
    "\n",
    "for n in files:\n",
    "    file_read = open(n, \"r\")\n",
    "    to_append_neg = file_read.read()\n",
    "    text_neg.append(to_append_neg)\n",
    "    file_read.close()\n",
    "\n",
    "\n",
    "df_neg = pd.DataFrame({'text':text_neg,'label':'negative'})\n",
    "df_neg.head()"
   ]
  },
  {
   "cell_type": "markdown",
   "metadata": {},
   "source": [
    "#### Concatenating df_pos and df_neg"
   ]
  },
  {
   "cell_type": "code",
   "execution_count": 50,
   "metadata": {},
   "outputs": [],
   "source": [
    "df_moviereviews=pd.concat([df_pos, df_neg])"
   ]
  },
  {
   "cell_type": "code",
   "execution_count": 51,
   "metadata": {},
   "outputs": [
    {
     "name": "stdout",
     "output_type": "stream",
     "text": [
      "      label                                               text\n",
      "0  positive  assume nothing . \\nthe phrase is perhaps one o...\n",
      "1  positive  plot : derek zoolander is a male model . \\nhe ...\n",
      "2  positive  i actually am a fan of the original 1961 or so...\n",
      "3  positive  a movie that's been as highly built up as the ...\n",
      "4  positive   \" good will hunting \" is two movies in one : ...\n",
      "        label                                               text\n",
      "995  negative  synopsis : when a meteorite crashlands in the ...\n",
      "996  negative  it's now the anniversary of the slayings of ju...\n",
      "997  negative  coinciding with the emerging popularity of mov...\n",
      "998  negative  and now the high-flying hong kong style of fil...\n",
      "999  negative  battlefield long , boring and just plain stupi...\n"
     ]
    }
   ],
   "source": [
    "print(df_moviereviews.head())\n",
    "print(df_moviereviews.tail())"
   ]
  },
  {
   "cell_type": "markdown",
   "metadata": {},
   "source": [
    "#### Since we concatenated df_pos and df_neg as it is, the first half of them are labelled positive and the bottom half is negative.So in order to create randomness, we first shuffle the rows of the new dataframe and then renumber the row index"
   ]
  },
  {
   "cell_type": "code",
   "execution_count": 52,
   "metadata": {},
   "outputs": [
    {
     "data": {
      "text/html": [
       "<div>\n",
       "<style scoped>\n",
       "    .dataframe tbody tr th:only-of-type {\n",
       "        vertical-align: middle;\n",
       "    }\n",
       "\n",
       "    .dataframe tbody tr th {\n",
       "        vertical-align: top;\n",
       "    }\n",
       "\n",
       "    .dataframe thead th {\n",
       "        text-align: right;\n",
       "    }\n",
       "</style>\n",
       "<table border=\"1\" class=\"dataframe\">\n",
       "  <thead>\n",
       "    <tr style=\"text-align: right;\">\n",
       "      <th></th>\n",
       "      <th>label</th>\n",
       "      <th>text</th>\n",
       "    </tr>\n",
       "  </thead>\n",
       "  <tbody>\n",
       "    <tr>\n",
       "      <th>879</th>\n",
       "      <td>negative</td>\n",
       "      <td>capsule : the running gag pair of characters f...</td>\n",
       "    </tr>\n",
       "    <tr>\n",
       "      <th>310</th>\n",
       "      <td>positive</td>\n",
       "      <td>i rented this movie with very high hopes . \\nt...</td>\n",
       "    </tr>\n",
       "    <tr>\n",
       "      <th>228</th>\n",
       "      <td>negative</td>\n",
       "      <td>the scene at the end of 1989's `dead poets soc...</td>\n",
       "    </tr>\n",
       "    <tr>\n",
       "      <th>891</th>\n",
       "      <td>negative</td>\n",
       "      <td>the makers of spawn have created something alm...</td>\n",
       "    </tr>\n",
       "    <tr>\n",
       "      <th>753</th>\n",
       "      <td>positive</td>\n",
       "      <td>robert benton has assembled a stellar , mature...</td>\n",
       "    </tr>\n",
       "    <tr>\n",
       "      <th>689</th>\n",
       "      <td>negative</td>\n",
       "      <td>tom dicillo directs this superficial comedy ab...</td>\n",
       "    </tr>\n",
       "    <tr>\n",
       "      <th>106</th>\n",
       "      <td>negative</td>\n",
       "      <td>another formula 'feel good' quirky comedy from...</td>\n",
       "    </tr>\n",
       "    <tr>\n",
       "      <th>130</th>\n",
       "      <td>negative</td>\n",
       "      <td>five years after his directorial debut based o...</td>\n",
       "    </tr>\n",
       "    <tr>\n",
       "      <th>382</th>\n",
       "      <td>positive</td>\n",
       "      <td>another 'independent film' , this comedy , whi...</td>\n",
       "    </tr>\n",
       "    <tr>\n",
       "      <th>222</th>\n",
       "      <td>positive</td>\n",
       "      <td>after the average mouse hunt , the silly small...</td>\n",
       "    </tr>\n",
       "  </tbody>\n",
       "</table>\n",
       "</div>"
      ],
      "text/plain": [
       "        label                                               text\n",
       "879  negative  capsule : the running gag pair of characters f...\n",
       "310  positive  i rented this movie with very high hopes . \\nt...\n",
       "228  negative  the scene at the end of 1989's `dead poets soc...\n",
       "891  negative  the makers of spawn have created something alm...\n",
       "753  positive  robert benton has assembled a stellar , mature...\n",
       "689  negative  tom dicillo directs this superficial comedy ab...\n",
       "106  negative  another formula 'feel good' quirky comedy from...\n",
       "130  negative  five years after his directorial debut based o...\n",
       "382  positive  another 'independent film' , this comedy , whi...\n",
       "222  positive  after the average mouse hunt , the silly small..."
      ]
     },
     "execution_count": 52,
     "metadata": {},
     "output_type": "execute_result"
    }
   ],
   "source": [
    "from sklearn.utils import shuffle\n",
    "\n",
    "df_moviereviews=shuffle(df_moviereviews)\n",
    "df_moviereviews.head(10)"
   ]
  },
  {
   "cell_type": "code",
   "execution_count": 53,
   "metadata": {},
   "outputs": [
    {
     "data": {
      "text/html": [
       "<div>\n",
       "<style scoped>\n",
       "    .dataframe tbody tr th:only-of-type {\n",
       "        vertical-align: middle;\n",
       "    }\n",
       "\n",
       "    .dataframe tbody tr th {\n",
       "        vertical-align: top;\n",
       "    }\n",
       "\n",
       "    .dataframe thead th {\n",
       "        text-align: right;\n",
       "    }\n",
       "</style>\n",
       "<table border=\"1\" class=\"dataframe\">\n",
       "  <thead>\n",
       "    <tr style=\"text-align: right;\">\n",
       "      <th></th>\n",
       "      <th>label</th>\n",
       "      <th>text</th>\n",
       "    </tr>\n",
       "  </thead>\n",
       "  <tbody>\n",
       "    <tr>\n",
       "      <th>0</th>\n",
       "      <td>negative</td>\n",
       "      <td>capsule : the running gag pair of characters f...</td>\n",
       "    </tr>\n",
       "    <tr>\n",
       "      <th>1</th>\n",
       "      <td>positive</td>\n",
       "      <td>i rented this movie with very high hopes . \\nt...</td>\n",
       "    </tr>\n",
       "    <tr>\n",
       "      <th>2</th>\n",
       "      <td>negative</td>\n",
       "      <td>the scene at the end of 1989's `dead poets soc...</td>\n",
       "    </tr>\n",
       "    <tr>\n",
       "      <th>3</th>\n",
       "      <td>negative</td>\n",
       "      <td>the makers of spawn have created something alm...</td>\n",
       "    </tr>\n",
       "    <tr>\n",
       "      <th>4</th>\n",
       "      <td>positive</td>\n",
       "      <td>robert benton has assembled a stellar , mature...</td>\n",
       "    </tr>\n",
       "    <tr>\n",
       "      <th>5</th>\n",
       "      <td>negative</td>\n",
       "      <td>tom dicillo directs this superficial comedy ab...</td>\n",
       "    </tr>\n",
       "    <tr>\n",
       "      <th>6</th>\n",
       "      <td>negative</td>\n",
       "      <td>another formula 'feel good' quirky comedy from...</td>\n",
       "    </tr>\n",
       "    <tr>\n",
       "      <th>7</th>\n",
       "      <td>negative</td>\n",
       "      <td>five years after his directorial debut based o...</td>\n",
       "    </tr>\n",
       "    <tr>\n",
       "      <th>8</th>\n",
       "      <td>positive</td>\n",
       "      <td>another 'independent film' , this comedy , whi...</td>\n",
       "    </tr>\n",
       "    <tr>\n",
       "      <th>9</th>\n",
       "      <td>positive</td>\n",
       "      <td>after the average mouse hunt , the silly small...</td>\n",
       "    </tr>\n",
       "  </tbody>\n",
       "</table>\n",
       "</div>"
      ],
      "text/plain": [
       "      label                                               text\n",
       "0  negative  capsule : the running gag pair of characters f...\n",
       "1  positive  i rented this movie with very high hopes . \\nt...\n",
       "2  negative  the scene at the end of 1989's `dead poets soc...\n",
       "3  negative  the makers of spawn have created something alm...\n",
       "4  positive  robert benton has assembled a stellar , mature...\n",
       "5  negative  tom dicillo directs this superficial comedy ab...\n",
       "6  negative  another formula 'feel good' quirky comedy from...\n",
       "7  negative  five years after his directorial debut based o...\n",
       "8  positive  another 'independent film' , this comedy , whi...\n",
       "9  positive  after the average mouse hunt , the silly small..."
      ]
     },
     "execution_count": 53,
     "metadata": {},
     "output_type": "execute_result"
    }
   ],
   "source": [
    "df_moviereviews.index = range(df_moviereviews.shape[0])\n",
    "df_moviereviews.head(10)"
   ]
  },
  {
   "cell_type": "markdown",
   "metadata": {},
   "source": [
    "#### Writing this data frame to a csv file for future uses"
   ]
  },
  {
   "cell_type": "code",
   "execution_count": 58,
   "metadata": {},
   "outputs": [
    {
     "data": {
      "text/plain": [
       "(2000, 2)"
      ]
     },
     "execution_count": 58,
     "metadata": {},
     "output_type": "execute_result"
    }
   ],
   "source": [
    "df_moviereviews.shape"
   ]
  },
  {
   "cell_type": "code",
   "execution_count": 59,
   "metadata": {},
   "outputs": [],
   "source": [
    "df_moviereviews.to_csv(\"/.../Chapter 11/CS - IMDB Classification/txt_sentoken/Data_IMDB.csv\")"
   ]
  },
  {
   "cell_type": "code",
   "execution_count": null,
   "metadata": {},
   "outputs": [],
   "source": []
  }
 ],
 "metadata": {
  "kernelspec": {
   "display_name": "Python 3",
   "language": "python",
   "name": "python3"
  },
  "language_info": {
   "codemirror_mode": {
    "name": "ipython",
    "version": 3
   },
   "file_extension": ".py",
   "mimetype": "text/x-python",
   "name": "python",
   "nbconvert_exporter": "python",
   "pygments_lexer": "ipython3",
   "version": "3.6.5"
  }
 },
 "nbformat": 4,
 "nbformat_minor": 2
}
