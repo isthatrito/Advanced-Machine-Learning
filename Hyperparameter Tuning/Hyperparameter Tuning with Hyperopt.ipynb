{
 "cells": [
  {
   "cell_type": "code",
   "execution_count": null,
   "id": "8e29c4d2-2269-4370-a0d6-bbc8ed72d33a",
   "metadata": {},
   "outputs": [],
   "source": [
    "# !pip install pandas==1.3.4\n",
    "# !pip install numpy==1.21.2\n",
    "# !pip install matplotlib==3.5.0\n",
    "# !pip install scikit-learn==1.0.1\n",
    "# !pip install hyperopt==0.2.7\n",
    "# !pip install lightgbm==3.3.2"
   ]
  },
  {
   "cell_type": "markdown",
   "id": "855943d7-7b49-46b7-9c1e-bf6c21a78837",
   "metadata": {
    "tags": []
   },
   "source": [
    "# Random Search"
   ]
  },
  {
   "cell_type": "code",
   "execution_count": 1,
   "id": "656eb176-d76a-4763-a1fa-72874303f182",
   "metadata": {},
   "outputs": [],
   "source": [
    "import pandas as pd\n",
    "import numpy as np\n",
    "from sklearn.compose import ColumnTransformer\n",
    "from sklearn.preprocessing import StandardScaler, OneHotEncoder\n",
    "from sklearn.pipeline import Pipeline\n",
    "from sklearn.model_selection import train_test_split,cross_val_score\n",
    "from sklearn.metrics import f1_score\n",
    "from sklearn.base import clone\n",
    "from sklearn.ensemble import RandomForestClassifier\n",
    "\n",
    "from hyperopt import fmin, rand, hp, STATUS_OK, Trials, plotting\n",
    "import matplotlib.pyplot as plt"
   ]
  },
  {
   "cell_type": "code",
   "execution_count": 2,
   "id": "2c43fa62-8421-4c9b-a150-5ebd8c647852",
   "metadata": {
    "tags": []
   },
   "outputs": [
    {
     "name": "stdout",
     "output_type": "stream",
     "text": [
      "<class 'pandas.core.frame.DataFrame'>\n",
      "RangeIndex: 45211 entries, 0 to 45210\n",
      "Data columns (total 17 columns):\n",
      " #   Column     Non-Null Count  Dtype \n",
      "---  ------     --------------  ----- \n",
      " 0   age        45211 non-null  int64 \n",
      " 1   job        45211 non-null  object\n",
      " 2   marital    45211 non-null  object\n",
      " 3   education  45211 non-null  object\n",
      " 4   default    45211 non-null  object\n",
      " 5   balance    45211 non-null  int64 \n",
      " 6   housing    45211 non-null  object\n",
      " 7   loan       45211 non-null  object\n",
      " 8   contact    45211 non-null  object\n",
      " 9   day        45211 non-null  int64 \n",
      " 10  month      45211 non-null  object\n",
      " 11  duration   45211 non-null  int64 \n",
      " 12  campaign   45211 non-null  int64 \n",
      " 13  pdays      45211 non-null  int64 \n",
      " 14  previous   45211 non-null  int64 \n",
      " 15  poutcome   45211 non-null  object\n",
      " 16  y          45211 non-null  object\n",
      "dtypes: int64(7), object(10)\n",
      "memory usage: 5.9+ MB\n"
     ]
    }
   ],
   "source": [
    "df = pd.read_csv(\"train.csv\",sep=\";\")\n",
    "df.info()"
   ]
  },
  {
   "cell_type": "markdown",
   "id": "8f699816-8dc0-4949-b327-c82cdf96a182",
   "metadata": {},
   "source": [
    "Convert the target variable to integer"
   ]
  },
  {
   "cell_type": "code",
   "execution_count": 3,
   "id": "0afdeeef-f4b3-4bc5-80fd-2d11add858fa",
   "metadata": {},
   "outputs": [],
   "source": [
    "df['y'] = df['y'].map({'yes':1,'no':0})"
   ]
  },
  {
   "cell_type": "markdown",
   "id": "ff1041f9-25ce-44cc-b7eb-c64576b4b9f4",
   "metadata": {},
   "source": [
    "Split full data into train and test data"
   ]
  },
  {
   "cell_type": "code",
   "execution_count": 4,
   "id": "b21818ae-759d-40ee-915d-3c724ab0393b",
   "metadata": {},
   "outputs": [],
   "source": [
    "df_train, df_test = train_test_split(df, test_size=0.1, random_state=0) "
   ]
  },
  {
   "cell_type": "markdown",
   "id": "a676dff4-a0ff-4a81-8143-238312cce6f0",
   "metadata": {},
   "source": [
    "Get list of numerical features"
   ]
  },
  {
   "cell_type": "code",
   "execution_count": 5,
   "id": "63feddc8-246e-42d2-9109-2e46218e449a",
   "metadata": {},
   "outputs": [],
   "source": [
    "numerical_feats = list(df_train.drop(columns='y').select_dtypes(include=np.number).columns)"
   ]
  },
  {
   "cell_type": "markdown",
   "id": "c38bfa08-a2b8-4236-81cf-0d2c8afefad0",
   "metadata": {},
   "source": [
    "Get list of categorical features"
   ]
  },
  {
   "cell_type": "code",
   "execution_count": 6,
   "id": "7826635f-6339-477b-a818-635879e1a71b",
   "metadata": {},
   "outputs": [],
   "source": [
    "categorical_feats = list(df_train.drop(columns='y').select_dtypes(exclude=np.number).columns)"
   ]
  },
  {
   "cell_type": "markdown",
   "id": "e65bc894-3084-4ef2-9f8d-20cebbf9f092",
   "metadata": {},
   "source": [
    "Initiate the preprocessors"
   ]
  },
  {
   "cell_type": "code",
   "execution_count": 7,
   "id": "32e942a0-4fa7-44a8-9cef-b371b8bf501e",
   "metadata": {},
   "outputs": [],
   "source": [
    "# Initiate the Normalization Pre-processing for Numerical Features\n",
    "numeric_preprocessor = StandardScaler()\n",
    "\n",
    "# Initiate the One-Hot-Encoding Pre-processing for Categorical Features\n",
    "categorical_preprocessor = OneHotEncoder(handle_unknown=\"ignore\")"
   ]
  },
  {
   "cell_type": "markdown",
   "id": "1339caa1-102d-42f7-ad6f-6b78bea1a426",
   "metadata": {},
   "source": [
    "Create the ColumnTransformer Class to delegate each preprocessor to the corresponding features"
   ]
  },
  {
   "cell_type": "code",
   "execution_count": 8,
   "id": "d15dc6ea-2ae9-475c-b5ea-56b143ba4926",
   "metadata": {},
   "outputs": [],
   "source": [
    "preprocessor = ColumnTransformer(\n",
    "    transformers=[\n",
    "        (\"num\", numeric_preprocessor, numerical_feats),\n",
    "        (\"cat\", categorical_preprocessor, categorical_feats),\n",
    "    ]\n",
    ")"
   ]
  },
  {
   "cell_type": "markdown",
   "id": "19f356c8-6315-4a5e-8314-70c36b77358b",
   "metadata": {},
   "source": [
    "Create a Pipeline of preprocessor and model"
   ]
  },
  {
   "cell_type": "code",
   "execution_count": 9,
   "id": "5e405123-4e8f-4802-8d84-22339f16e0dc",
   "metadata": {},
   "outputs": [],
   "source": [
    "pipe = Pipeline(\n",
    "    steps=[(\"preprocessor\", preprocessor), \n",
    "           (\"model\", RandomForestClassifier(random_state=0))]\n",
    ")"
   ]
  },
  {
   "cell_type": "markdown",
   "id": "d52dc7ae-fc36-465f-8846-b466e5239de4",
   "metadata": {},
   "source": [
    "Get all features from the train data"
   ]
  },
  {
   "cell_type": "code",
   "execution_count": 10,
   "id": "88ccada9-0a2c-4435-866d-dee0352e87c9",
   "metadata": {},
   "outputs": [
    {
     "name": "stdout",
     "output_type": "stream",
     "text": [
      "<class 'pandas.core.frame.DataFrame'>\n",
      "Int64Index: 40689 entries, 17974 to 2732\n",
      "Data columns (total 16 columns):\n",
      " #   Column     Non-Null Count  Dtype \n",
      "---  ------     --------------  ----- \n",
      " 0   age        40689 non-null  int64 \n",
      " 1   job        40689 non-null  object\n",
      " 2   marital    40689 non-null  object\n",
      " 3   education  40689 non-null  object\n",
      " 4   default    40689 non-null  object\n",
      " 5   balance    40689 non-null  int64 \n",
      " 6   housing    40689 non-null  object\n",
      " 7   loan       40689 non-null  object\n",
      " 8   contact    40689 non-null  object\n",
      " 9   day        40689 non-null  int64 \n",
      " 10  month      40689 non-null  object\n",
      " 11  duration   40689 non-null  int64 \n",
      " 12  campaign   40689 non-null  int64 \n",
      " 13  pdays      40689 non-null  int64 \n",
      " 14  previous   40689 non-null  int64 \n",
      " 15  poutcome   40689 non-null  object\n",
      "dtypes: int64(7), object(9)\n",
      "memory usage: 5.3+ MB\n"
     ]
    }
   ],
   "source": [
    "X_train_full = df_train.drop(columns=['y'])\n",
    "y_train = df_train['y']\n",
    "\n",
    "X_train_full.info()"
   ]
  },
  {
   "cell_type": "markdown",
   "id": "62c1c345-2940-49ef-85af-5beba2a7fb65",
   "metadata": {},
   "source": [
    "Get all features from the test data"
   ]
  },
  {
   "cell_type": "code",
   "execution_count": 11,
   "id": "2a94c363-05d6-4ed8-9cb7-c2817e1c6ccc",
   "metadata": {},
   "outputs": [
    {
     "name": "stdout",
     "output_type": "stream",
     "text": [
      "<class 'pandas.core.frame.DataFrame'>\n",
      "Int64Index: 4522 entries, 14001 to 25978\n",
      "Data columns (total 16 columns):\n",
      " #   Column     Non-Null Count  Dtype \n",
      "---  ------     --------------  ----- \n",
      " 0   age        4522 non-null   int64 \n",
      " 1   job        4522 non-null   object\n",
      " 2   marital    4522 non-null   object\n",
      " 3   education  4522 non-null   object\n",
      " 4   default    4522 non-null   object\n",
      " 5   balance    4522 non-null   int64 \n",
      " 6   housing    4522 non-null   object\n",
      " 7   loan       4522 non-null   object\n",
      " 8   contact    4522 non-null   object\n",
      " 9   day        4522 non-null   int64 \n",
      " 10  month      4522 non-null   object\n",
      " 11  duration   4522 non-null   int64 \n",
      " 12  campaign   4522 non-null   int64 \n",
      " 13  pdays      4522 non-null   int64 \n",
      " 14  previous   4522 non-null   int64 \n",
      " 15  poutcome   4522 non-null   object\n",
      "dtypes: int64(7), object(9)\n",
      "memory usage: 600.6+ KB\n"
     ]
    }
   ],
   "source": [
    "X_test_full = df_test.drop(columns=['y'])\n",
    "y_test = df_test['y']\n",
    "\n",
    "X_test_full.info()"
   ]
  },
  {
   "cell_type": "markdown",
   "id": "16687dff-b965-4504-a611-8a45256ed873",
   "metadata": {},
   "source": [
    "Define the objective function"
   ]
  },
  {
   "cell_type": "code",
   "execution_count": 12,
   "id": "ae519a48-20f2-488b-9fc7-c6bea175b3b6",
   "metadata": {},
   "outputs": [],
   "source": [
    "def objective(space):\n",
    "    estimator_clone = clone(pipe).set_params(**space)\n",
    "    return {'loss': -1 * np.mean(cross_val_score(estimator_clone,\n",
    "                                            X_train_full, y_train, \n",
    "                                            cv=5, scoring='f1',\n",
    "                                            n_jobs=-1\n",
    "                                            )\n",
    "                            ), \n",
    "            'status': STATUS_OK}"
   ]
  },
  {
   "cell_type": "markdown",
   "id": "da185b89-d95d-40da-a0d1-0d10f73e60c7",
   "metadata": {},
   "source": [
    "Define hyperparameter space"
   ]
  },
  {
   "cell_type": "code",
   "execution_count": 13,
   "id": "e134c332-1e06-4321-8039-7466f751b3cc",
   "metadata": {},
   "outputs": [],
   "source": [
    "hyperparameter_space = { \n",
    "\"model__n_estimators\": 5 + hp.randint(\"n_estimators\", 195), \n",
    "\"model__criterion\": hp.choice(\"criterion\", [\"gini\", \"entropy\"]),\n",
    "\"model__class_weight\": hp.choice(\"class_weight\", [\"balanced\",\"balanced_subsample\"]),\n",
    "\"model__min_samples_split\": hp.loguniform(\"min_samples_split\", np.log(0.0001), np.log(0.5))\n",
    "} "
   ]
  },
  {
   "cell_type": "markdown",
   "id": "19fad431-5490-444a-a56d-7f1310de978b",
   "metadata": {},
   "source": [
    "Define the Trials object"
   ]
  },
  {
   "cell_type": "code",
   "execution_count": 14,
   "id": "d5d1551a-12d0-4854-ba08-66d8933bf61e",
   "metadata": {},
   "outputs": [],
   "source": [
    "trials = Trials()"
   ]
  },
  {
   "cell_type": "markdown",
   "id": "a7b272de-415e-4941-92eb-d472439ef92c",
   "metadata": {},
   "source": [
    "Perform Random Search "
   ]
  },
  {
   "cell_type": "code",
   "execution_count": 15,
   "id": "e67a64fd-8887-4269-a86d-5d2bcf798372",
   "metadata": {},
   "outputs": [
    {
     "name": "stdout",
     "output_type": "stream",
     "text": [
      "100%|██████████| 100/100 [04:49<00:00,  2.89s/trial, best loss: -0.6205883932443192]\n",
      "{'class_weight': 0, 'criterion': 1, 'min_samples_split': 0.00047017001935242104, 'n_estimators': 186}\n"
     ]
    }
   ],
   "source": [
    "best = fmin(objective,\n",
    "            space=hyperparameter_space,\n",
    "            algo=rand.suggest,\n",
    "            max_evals=100,\n",
    "            rstate=np.random.default_rng(0),\n",
    "            trials=trials,\n",
    "           )\n",
    "\n",
    "print(best)"
   ]
  },
  {
   "cell_type": "markdown",
   "id": "29736335-473f-494e-b331-0aa7b30466b1",
   "metadata": {},
   "source": [
    "Fit the pipeline on full data using the best set of hyperparameters"
   ]
  },
  {
   "cell_type": "code",
   "execution_count": 16,
   "id": "f6bbf6fc-5979-446b-bdb0-0b7a38234dae",
   "metadata": {},
   "outputs": [],
   "source": [
    "pipe = pipe.set_params(**{'model__class_weight': \"balanced\",\n",
    "                         'model__criterion': \"entropy\",\n",
    "                         'model__min_samples_split': 0.00047017001935242104,\n",
    "                         'model__n_estimators': 186})"
   ]
  },
  {
   "cell_type": "code",
   "execution_count": 17,
   "id": "32ee962c-28b7-48b0-a61a-6340e115bc50",
   "metadata": {},
   "outputs": [
    {
     "data": {
      "text/plain": [
       "Pipeline(steps=[('preprocessor',\n",
       "                 ColumnTransformer(transformers=[('num', StandardScaler(),\n",
       "                                                  ['age', 'balance', 'day',\n",
       "                                                   'duration', 'campaign',\n",
       "                                                   'pdays', 'previous']),\n",
       "                                                 ('cat',\n",
       "                                                  OneHotEncoder(handle_unknown='ignore'),\n",
       "                                                  ['job', 'marital',\n",
       "                                                   'education', 'default',\n",
       "                                                   'housing', 'loan', 'contact',\n",
       "                                                   'month', 'poutcome'])])),\n",
       "                ('model',\n",
       "                 RandomForestClassifier(class_weight='balanced',\n",
       "                                        criterion='entropy',\n",
       "                                        min_samples_split=0.00047017001935242104,\n",
       "                                        n_estimators=186, random_state=0))])"
      ]
     },
     "execution_count": 17,
     "metadata": {},
     "output_type": "execute_result"
    }
   ],
   "source": [
    "pipe.fit(X_train_full,y_train)"
   ]
  },
  {
   "cell_type": "markdown",
   "id": "c95d7bd9-cf27-4d8b-8e79-b716d7950397",
   "metadata": {},
   "source": [
    "Get the f1-Score on Test Data after fitting the model on the full train data using the best set of hyperparameters\n",
    "clf.best_params_,clf.best_score_"
   ]
  },
  {
   "cell_type": "code",
   "execution_count": 18,
   "id": "f95c7f61-4719-4b5f-bc19-a4e747b3b929",
   "metadata": {},
   "outputs": [
    {
     "name": "stdout",
     "output_type": "stream",
     "text": [
      "0.6237393328161365\n"
     ]
    }
   ],
   "source": [
    "# Evaluate on the test data \n",
    "y_pred = pipe.predict(X_test_full)\n",
    "print(f1_score(y_test, y_pred))"
   ]
  },
  {
   "cell_type": "markdown",
   "id": "3dbaf071-a675-4622-a78a-d9fd2c747bb6",
   "metadata": {},
   "source": [
    "Plot tuning process results"
   ]
  },
  {
   "cell_type": "code",
   "execution_count": 19,
   "id": "d8fd68d4-179f-49a9-b268-839a004f3492",
   "metadata": {},
   "outputs": [
    {
     "name": "stdout",
     "output_type": "stream",
     "text": [
      "avg best error: -0.6205883932443192\n"
     ]
    },
    {
     "data": {
      "image/png": "[encoded data removed]",
      "text/plain": [
       "<Figure size 432x288 with 1 Axes>"
      ]
     },
     "metadata": {
      "needs_background": "light"
     },
     "output_type": "display_data"
    }
   ],
   "source": [
    "plotting.main_plot_history(trials)"
   ]
  },
  {
   "cell_type": "code",
   "execution_count": 20,
   "id": "6d6497fd-752b-469f-9d47-000e4df527d3",
   "metadata": {},
   "outputs": [
    {
     "name": "stdout",
     "output_type": "stream",
     "text": [
      "Showing Histogram of 100 jobs\n"
     ]
    },
    {
     "data": {
      "image/png": "[encoded data removed]",
      "text/plain": [
       "<Figure size 432x288 with 1 Axes>"
      ]
     },
     "metadata": {
      "needs_background": "light"
     },
     "output_type": "display_data"
    }
   ],
   "source": [
    "plotting.main_plot_histogram(trials)"
   ]
  },
  {
   "cell_type": "code",
   "execution_count": 21,
   "id": "0e275476-6d8a-420d-93e9-bdb35f5ad7e8",
   "metadata": {},
   "outputs": [
    {
     "name": "stdout",
     "output_type": "stream",
     "text": [
      "finite loss range -0.6205883932443192 -0.35482020734353126 -1.6205883932443192\n"
     ]
    },
    {
     "data": {
      "image/png": "[encoded data removed]",
      "text/plain": [
       "<Figure size 720x432 with 4 Axes>"
      ]
     },
     "metadata": {
      "needs_background": "light"
     },
     "output_type": "display_data"
    }
   ],
   "source": [
    "plt.figure(figsize=(10,6))\n",
    "plotting.main_plot_vars(trials)\n",
    "plt.show()"
   ]
  },
  {
   "cell_type": "markdown",
   "id": "f197559b-8610-4e0d-8700-95081e6a9d6f",
   "metadata": {
    "tags": []
   },
   "source": [
    "# TPE"
   ]
  },
  {
   "cell_type": "code",
   "execution_count": 22,
   "id": "2dfb2dfb-e39b-423c-9448-dc09950d01d9",
   "metadata": {},
   "outputs": [],
   "source": [
    "import pandas as pd\n",
    "import numpy as np\n",
    "from sklearn.compose import ColumnTransformer\n",
    "from sklearn.preprocessing import StandardScaler, OneHotEncoder\n",
    "from sklearn.pipeline import Pipeline\n",
    "from sklearn.model_selection import train_test_split,cross_val_score\n",
    "from sklearn.metrics import f1_score\n",
    "from sklearn.base import clone\n",
    "from sklearn.ensemble import RandomForestClassifier\n",
    "\n",
    "from hyperopt import fmin, tpe, hp, STATUS_OK, Trials, plotting\n",
    "import matplotlib.pyplot as plt"
   ]
  },
  {
   "cell_type": "code",
   "execution_count": 23,
   "id": "5133079d-0583-49c1-bee0-c65c4b1db9f3",
   "metadata": {
    "tags": []
   },
   "outputs": [
    {
     "name": "stdout",
     "output_type": "stream",
     "text": [
      "<class 'pandas.core.frame.DataFrame'>\n",
      "RangeIndex: 45211 entries, 0 to 45210\n",
      "Data columns (total 17 columns):\n",
      " #   Column     Non-Null Count  Dtype \n",
      "---  ------     --------------  ----- \n",
      " 0   age        45211 non-null  int64 \n",
      " 1   job        45211 non-null  object\n",
      " 2   marital    45211 non-null  object\n",
      " 3   education  45211 non-null  object\n",
      " 4   default    45211 non-null  object\n",
      " 5   balance    45211 non-null  int64 \n",
      " 6   housing    45211 non-null  object\n",
      " 7   loan       45211 non-null  object\n",
      " 8   contact    45211 non-null  object\n",
      " 9   day        45211 non-null  int64 \n",
      " 10  month      45211 non-null  object\n",
      " 11  duration   45211 non-null  int64 \n",
      " 12  campaign   45211 non-null  int64 \n",
      " 13  pdays      45211 non-null  int64 \n",
      " 14  previous   45211 non-null  int64 \n",
      " 15  poutcome   45211 non-null  object\n",
      " 16  y          45211 non-null  object\n",
      "dtypes: int64(7), object(10)\n",
      "memory usage: 5.9+ MB\n"
     ]
    }
   ],
   "source": [
    "df = pd.read_csv(\"train.csv\",sep=\";\")\n",
    "df.info()"
   ]
  },
  {
   "cell_type": "markdown",
   "id": "3aecaee0-3be2-413c-b7d1-24d91a4a5e17",
   "metadata": {},
   "source": [
    "Convert the target variable to integer"
   ]
  },
  {
   "cell_type": "code",
   "execution_count": 24,
   "id": "58873cd9-2093-44c1-bdfd-7870c013641f",
   "metadata": {},
   "outputs": [],
   "source": [
    "df['y'] = df['y'].map({'yes':1,'no':0})"
   ]
  },
  {
   "cell_type": "markdown",
   "id": "ed926913-9d77-4f08-8860-2fb71c21a0f3",
   "metadata": {},
   "source": [
    "Split full data into train and test data"
   ]
  },
  {
   "cell_type": "code",
   "execution_count": 25,
   "id": "fb218f25-5f87-4236-877f-fbf399d54793",
   "metadata": {},
   "outputs": [],
   "source": [
    "df_train, df_test = train_test_split(df, test_size=0.1, random_state=0) "
   ]
  },
  {
   "cell_type": "markdown",
   "id": "26fa41ff-8fd1-403e-859d-90631e05fc62",
   "metadata": {},
   "source": [
    "Get list of numerical features"
   ]
  },
  {
   "cell_type": "code",
   "execution_count": 26,
   "id": "0948e8d5-bb99-40cb-848d-8c06959e8341",
   "metadata": {},
   "outputs": [],
   "source": [
    "numerical_feats = list(df_train.drop(columns='y').select_dtypes(include=np.number).columns)"
   ]
  },
  {
   "cell_type": "markdown",
   "id": "ec0cb087-9720-4127-98be-ec1a3f80ae78",
   "metadata": {},
   "source": [
    "Get list of categorical features"
   ]
  },
  {
   "cell_type": "code",
   "execution_count": 27,
   "id": "95160cbd-25a0-49e0-998e-f2b86294f803",
   "metadata": {},
   "outputs": [],
   "source": [
    "categorical_feats = list(df_train.drop(columns='y').select_dtypes(exclude=np.number).columns)"
   ]
  },
  {
   "cell_type": "markdown",
   "id": "4f8442f6-4c3e-448b-84de-2f942ed311ba",
   "metadata": {},
   "source": [
    "Initiate the preprocessors"
   ]
  },
  {
   "cell_type": "code",
   "execution_count": 28,
   "id": "68570766-ac97-4854-9ac0-62944801d597",
   "metadata": {},
   "outputs": [],
   "source": [
    "# Initiate the Normalization Pre-processing for Numerical Features\n",
    "numeric_preprocessor = StandardScaler()\n",
    "\n",
    "# Initiate the One-Hot-Encoding Pre-processing for Categorical Features\n",
    "categorical_preprocessor = OneHotEncoder(handle_unknown=\"ignore\")"
   ]
  },
  {
   "cell_type": "markdown",
   "id": "8b6e9c3a-265c-4a81-aba0-140269264474",
   "metadata": {},
   "source": [
    "Create the ColumnTransformer Class to delegate each preprocessor to the corresponding features"
   ]
  },
  {
   "cell_type": "code",
   "execution_count": 29,
   "id": "c6356259-a1a8-435f-8cea-172214840454",
   "metadata": {},
   "outputs": [],
   "source": [
    "preprocessor = ColumnTransformer(\n",
    "    transformers=[\n",
    "        (\"num\", numeric_preprocessor, numerical_feats),\n",
    "        (\"cat\", categorical_preprocessor, categorical_feats),\n",
    "    ]\n",
    ")"
   ]
  },
  {
   "cell_type": "markdown",
   "id": "35a7b729-d10e-4113-8f51-35bd4c0f3b72",
   "metadata": {},
   "source": [
    "Create a Pipeline of preprocessor and model"
   ]
  },
  {
   "cell_type": "code",
   "execution_count": 30,
   "id": "38467b92-ac7f-4fae-80be-ec4698ced030",
   "metadata": {},
   "outputs": [],
   "source": [
    "pipe = Pipeline(\n",
    "    steps=[(\"preprocessor\", preprocessor), \n",
    "           (\"model\", RandomForestClassifier(random_state=0))]\n",
    ")"
   ]
  },
  {
   "cell_type": "markdown",
   "id": "32ff2ab1-0335-4769-9f69-3199e61b5d9e",
   "metadata": {},
   "source": [
    "Get all features from the train data"
   ]
  },
  {
   "cell_type": "code",
   "execution_count": 31,
   "id": "01f21227-3a98-437e-a703-20ce89173c14",
   "metadata": {},
   "outputs": [
    {
     "name": "stdout",
     "output_type": "stream",
     "text": [
      "<class 'pandas.core.frame.DataFrame'>\n",
      "Int64Index: 40689 entries, 17974 to 2732\n",
      "Data columns (total 16 columns):\n",
      " #   Column     Non-Null Count  Dtype \n",
      "---  ------     --------------  ----- \n",
      " 0   age        40689 non-null  int64 \n",
      " 1   job        40689 non-null  object\n",
      " 2   marital    40689 non-null  object\n",
      " 3   education  40689 non-null  object\n",
      " 4   default    40689 non-null  object\n",
      " 5   balance    40689 non-null  int64 \n",
      " 6   housing    40689 non-null  object\n",
      " 7   loan       40689 non-null  object\n",
      " 8   contact    40689 non-null  object\n",
      " 9   day        40689 non-null  int64 \n",
      " 10  month      40689 non-null  object\n",
      " 11  duration   40689 non-null  int64 \n",
      " 12  campaign   40689 non-null  int64 \n",
      " 13  pdays      40689 non-null  int64 \n",
      " 14  previous   40689 non-null  int64 \n",
      " 15  poutcome   40689 non-null  object\n",
      "dtypes: int64(7), object(9)\n",
      "memory usage: 5.3+ MB\n"
     ]
    }
   ],
   "source": [
    "X_train_full = df_train.drop(columns=['y'])\n",
    "y_train = df_train['y']\n",
    "\n",
    "X_train_full.info()"
   ]
  },
  {
   "cell_type": "markdown",
   "id": "471366e8-fe73-4bf9-999b-d953c3f1f25f",
   "metadata": {},
   "source": [
    "Get all features from the test data"
   ]
  },
  {
   "cell_type": "code",
   "execution_count": 32,
   "id": "ad06b1e8-ab53-4c07-8495-33e9fee0e57b",
   "metadata": {},
   "outputs": [
    {
     "name": "stdout",
     "output_type": "stream",
     "text": [
      "<class 'pandas.core.frame.DataFrame'>\n",
      "Int64Index: 4522 entries, 14001 to 25978\n",
      "Data columns (total 16 columns):\n",
      " #   Column     Non-Null Count  Dtype \n",
      "---  ------     --------------  ----- \n",
      " 0   age        4522 non-null   int64 \n",
      " 1   job        4522 non-null   object\n",
      " 2   marital    4522 non-null   object\n",
      " 3   education  4522 non-null   object\n",
      " 4   default    4522 non-null   object\n",
      " 5   balance    4522 non-null   int64 \n",
      " 6   housing    4522 non-null   object\n",
      " 7   loan       4522 non-null   object\n",
      " 8   contact    4522 non-null   object\n",
      " 9   day        4522 non-null   int64 \n",
      " 10  month      4522 non-null   object\n",
      " 11  duration   4522 non-null   int64 \n",
      " 12  campaign   4522 non-null   int64 \n",
      " 13  pdays      4522 non-null   int64 \n",
      " 14  previous   4522 non-null   int64 \n",
      " 15  poutcome   4522 non-null   object\n",
      "dtypes: int64(7), object(9)\n",
      "memory usage: 600.6+ KB\n"
     ]
    }
   ],
   "source": [
    "X_test_full = df_test.drop(columns=['y'])\n",
    "y_test = df_test['y']\n",
    "\n",
    "X_test_full.info()"
   ]
  },
  {
   "cell_type": "markdown",
   "id": "2561764b-85a4-4baa-b094-30b5d021816d",
   "metadata": {},
   "source": [
    "Define the objective function"
   ]
  },
  {
   "cell_type": "code",
   "execution_count": 33,
   "id": "dbd2c0d3-45e4-45e2-94b8-fb7c2b3097a1",
   "metadata": {},
   "outputs": [],
   "source": [
    "def objective(space):\n",
    "    estimator_clone = clone(pipe).set_params(**space)\n",
    "    return {'loss': -1 * np.mean(cross_val_score(estimator_clone,\n",
    "                                            X_train_full, y_train, \n",
    "                                            cv=5, scoring='f1',\n",
    "                                            n_jobs=-1\n",
    "                                            )\n",
    "                            ), \n",
    "            'status': STATUS_OK}"
   ]
  },
  {
   "cell_type": "markdown",
   "id": "57b204a6-1800-4790-ad06-95614b3a0356",
   "metadata": {},
   "source": [
    "Define hyperparameter space"
   ]
  },
  {
   "cell_type": "code",
   "execution_count": 34,
   "id": "535f4110-0e04-4c7d-8e94-c8089b453ab7",
   "metadata": {},
   "outputs": [],
   "source": [
    "hyperparameter_space = { \n",
    "\"model__n_estimators\": 5 + hp.randint(\"n_estimators\", 195), \n",
    "\"model__criterion\": hp.choice(\"criterion\", [\"gini\", \"entropy\"]),\n",
    "\"model__class_weight\": hp.choice(\"class_weight\", [\"balanced\",\"balanced_subsample\"]),\n",
    "\"model__min_samples_split\": hp.loguniform(\"min_samples_split\", np.log(0.0001), np.log(0.5))\n",
    "} "
   ]
  },
  {
   "cell_type": "markdown",
   "id": "641a1ec5-35e1-44c1-8466-6c1a7fe89780",
   "metadata": {},
   "source": [
    "Define the Trials object"
   ]
  },
  {
   "cell_type": "code",
   "execution_count": 35,
   "id": "658a4ed6-2809-4961-93a2-80b50146128d",
   "metadata": {},
   "outputs": [],
   "source": [
    "trials = Trials()"
   ]
  },
  {
   "cell_type": "markdown",
   "id": "0eaee0fa-2357-41ab-8346-9baebbe88115",
   "metadata": {},
   "source": [
    "Perform TPE"
   ]
  },
  {
   "cell_type": "code",
   "execution_count": 36,
   "id": "ce2be3ca-8b10-483d-bfb6-34243daabf3b",
   "metadata": {},
   "outputs": [
    {
     "name": "stdout",
     "output_type": "stream",
     "text": [
      "100%|██████████| 100/100 [05:43<00:00,  3.44s/trial, best loss: -0.6206872757696116]\n",
      "{'class_weight': 1, 'criterion': 1, 'min_samples_split': 0.0005245304932726025, 'n_estimators': 138}\n"
     ]
    }
   ],
   "source": [
    "best = fmin(objective,\n",
    "            space=hyperparameter_space,\n",
    "            algo=tpe.suggest,\n",
    "            max_evals=100,\n",
    "            rstate=np.random.default_rng(0),\n",
    "            trials=trials,\n",
    "           )\n",
    "\n",
    "print(best)"
   ]
  },
  {
   "cell_type": "markdown",
   "id": "12a5b23e-6b9b-41e6-8866-c32895bd47a2",
   "metadata": {},
   "source": [
    "Fit the pipeline on full data using the best set of hyperparameters"
   ]
  },
  {
   "cell_type": "code",
   "execution_count": 37,
   "id": "59f94c14-3133-478b-836e-d6d73614ec8b",
   "metadata": {},
   "outputs": [],
   "source": [
    "pipe = pipe.set_params(**{'model__class_weight': \"balanced_subsample\",\n",
    "                         'model__criterion': \"entropy\",\n",
    "                         'model__min_samples_split': 0.0005245304932726025,\n",
    "                         'model__n_estimators': 138})"
   ]
  },
  {
   "cell_type": "code",
   "execution_count": 38,
   "id": "0e364376-ea39-4639-8fc9-62ce227468d5",
   "metadata": {},
   "outputs": [
    {
     "data": {
      "text/plain": [
       "Pipeline(steps=[('preprocessor',\n",
       "                 ColumnTransformer(transformers=[('num', StandardScaler(),\n",
       "                                                  ['age', 'balance', 'day',\n",
       "                                                   'duration', 'campaign',\n",
       "                                                   'pdays', 'previous']),\n",
       "                                                 ('cat',\n",
       "                                                  OneHotEncoder(handle_unknown='ignore'),\n",
       "                                                  ['job', 'marital',\n",
       "                                                   'education', 'default',\n",
       "                                                   'housing', 'loan', 'contact',\n",
       "                                                   'month', 'poutcome'])])),\n",
       "                ('model',\n",
       "                 RandomForestClassifier(class_weight='balanced_subsample',\n",
       "                                        criterion='entropy',\n",
       "                                        min_samples_split=0.0005245304932726025,\n",
       "                                        n_estimators=138, random_state=0))])"
      ]
     },
     "execution_count": 38,
     "metadata": {},
     "output_type": "execute_result"
    }
   ],
   "source": [
    "pipe.fit(X_train_full,y_train)"
   ]
  },
  {
   "cell_type": "markdown",
   "id": "8f06f39b-3327-4e18-8171-24f4377522b0",
   "metadata": {},
   "source": [
    "Get the f1-Score on Test Data after fitting the model on the full train data using the best set of hyperparameters\n",
    "clf.best_params_,clf.best_score_"
   ]
  },
  {
   "cell_type": "code",
   "execution_count": 39,
   "id": "50932418-c194-4044-9f75-7a219ea964f2",
   "metadata": {},
   "outputs": [
    {
     "name": "stdout",
     "output_type": "stream",
     "text": [
      "0.6212700841622035\n"
     ]
    }
   ],
   "source": [
    "# Evaluate on the test data \n",
    "y_pred = pipe.predict(X_test_full)\n",
    "print(f1_score(y_test, y_pred))"
   ]
  },
  {
   "cell_type": "markdown",
   "id": "60fa2ffa-ee3e-4c5e-a87b-6d7370acae4f",
   "metadata": {},
   "source": [
    "Plot tuning process results"
   ]
  },
  {
   "cell_type": "code",
   "execution_count": 40,
   "id": "84ce06ef-5da7-4fbc-ab98-bbf1a14b373d",
   "metadata": {},
   "outputs": [
    {
     "name": "stdout",
     "output_type": "stream",
     "text": [
      "avg best error: -0.6206872757696116\n"
     ]
    },
    {
     "data": {
      "image/png": "[encoded data removed]",
      "text/plain": [
       "<Figure size 432x288 with 1 Axes>"
      ]
     },
     "metadata": {
      "needs_background": "light"
     },
     "output_type": "display_data"
    }
   ],
   "source": [
    "plotting.main_plot_history(trials)"
   ]
  },
  {
   "cell_type": "code",
   "execution_count": 41,
   "id": "60305030-eb33-498b-99fc-4a329bf491e3",
   "metadata": {},
   "outputs": [
    {
     "name": "stdout",
     "output_type": "stream",
     "text": [
      "Showing Histogram of 100 jobs\n"
     ]
    },
    {
     "data": {
      "image/png": "[encoded data removed]",
      "text/plain": [
       "<Figure size 432x288 with 1 Axes>"
      ]
     },
     "metadata": {
      "needs_background": "light"
     },
     "output_type": "display_data"
    }
   ],
   "source": [
    "plotting.main_plot_histogram(trials)"
   ]
  },
  {
   "cell_type": "code",
   "execution_count": 42,
   "id": "aad71e33-3ffc-454f-a359-eb54cb8eb456",
   "metadata": {},
   "outputs": [
    {
     "name": "stdout",
     "output_type": "stream",
     "text": [
      "finite loss range -0.6206872757696116 -0.35482020734353126 -1.6206872757696116\n"
     ]
    },
    {
     "data": {
      "image/png": "[encoded data removed]",
      "text/plain": [
       "<Figure size 720x432 with 4 Axes>"
      ]
     },
     "metadata": {
      "needs_background": "light"
     },
     "output_type": "display_data"
    }
   ],
   "source": [
    "plt.figure(figsize=(10,6))\n",
    "plotting.main_plot_vars(trials)\n",
    "plt.show()"
   ]
  },
  {
   "cell_type": "markdown",
   "id": "d2db50ee-fd9d-4cb6-9539-9f6939b8cd90",
   "metadata": {
    "tags": []
   },
   "source": [
    "# Adaptive TPE"
   ]
  },
  {
   "cell_type": "code",
   "execution_count": 43,
   "id": "aa6b5847-adfa-4c45-b8a9-00560440b912",
   "metadata": {},
   "outputs": [],
   "source": [
    "import pandas as pd\n",
    "import numpy as np\n",
    "from sklearn.compose import ColumnTransformer\n",
    "from sklearn.preprocessing import StandardScaler, OneHotEncoder\n",
    "from sklearn.pipeline import Pipeline\n",
    "from sklearn.model_selection import train_test_split,cross_val_score\n",
    "from sklearn.metrics import f1_score\n",
    "from sklearn.base import clone\n",
    "from sklearn.ensemble import RandomForestClassifier\n",
    "\n",
    "from hyperopt import fmin, atpe, hp, STATUS_OK, Trials, plotting\n",
    "import matplotlib.pyplot as plt"
   ]
  },
  {
   "cell_type": "code",
   "execution_count": 44,
   "id": "d76aba33-d77b-4858-94b2-e7a575b56ed9",
   "metadata": {
    "tags": []
   },
   "outputs": [
    {
     "name": "stdout",
     "output_type": "stream",
     "text": [
      "<class 'pandas.core.frame.DataFrame'>\n",
      "RangeIndex: 45211 entries, 0 to 45210\n",
      "Data columns (total 17 columns):\n",
      " #   Column     Non-Null Count  Dtype \n",
      "---  ------     --------------  ----- \n",
      " 0   age        45211 non-null  int64 \n",
      " 1   job        45211 non-null  object\n",
      " 2   marital    45211 non-null  object\n",
      " 3   education  45211 non-null  object\n",
      " 4   default    45211 non-null  object\n",
      " 5   balance    45211 non-null  int64 \n",
      " 6   housing    45211 non-null  object\n",
      " 7   loan       45211 non-null  object\n",
      " 8   contact    45211 non-null  object\n",
      " 9   day        45211 non-null  int64 \n",
      " 10  month      45211 non-null  object\n",
      " 11  duration   45211 non-null  int64 \n",
      " 12  campaign   45211 non-null  int64 \n",
      " 13  pdays      45211 non-null  int64 \n",
      " 14  previous   45211 non-null  int64 \n",
      " 15  poutcome   45211 non-null  object\n",
      " 16  y          45211 non-null  object\n",
      "dtypes: int64(7), object(10)\n",
      "memory usage: 5.9+ MB\n"
     ]
    }
   ],
   "source": [
    "df = pd.read_csv(\"train.csv\",sep=\";\")\n",
    "df.info()"
   ]
  },
  {
   "cell_type": "markdown",
   "id": "5aa89267-a9c7-4d65-a017-298293709b66",
   "metadata": {},
   "source": [
    "Convert the target variable to integer"
   ]
  },
  {
   "cell_type": "code",
   "execution_count": 45,
   "id": "3bc693c8-d490-4e2c-bc50-94d5a2b99241",
   "metadata": {},
   "outputs": [],
   "source": [
    "df['y'] = df['y'].map({'yes':1,'no':0})"
   ]
  },
  {
   "cell_type": "markdown",
   "id": "363cf36a-0226-43a9-a483-944d4ac3515c",
   "metadata": {},
   "source": [
    "Split full data into train and test data"
   ]
  },
  {
   "cell_type": "code",
   "execution_count": 46,
   "id": "758992ff-9131-4b01-b553-3093e4b4465b",
   "metadata": {},
   "outputs": [],
   "source": [
    "df_train, df_test = train_test_split(df, test_size=0.1, random_state=0) "
   ]
  },
  {
   "cell_type": "markdown",
   "id": "472bf307-7ff4-47b7-9374-45abdbbc9452",
   "metadata": {},
   "source": [
    "Get list of numerical features"
   ]
  },
  {
   "cell_type": "code",
   "execution_count": 47,
   "id": "ca531e6b-6f96-40de-938e-14330db31b24",
   "metadata": {},
   "outputs": [],
   "source": [
    "numerical_feats = list(df_train.drop(columns='y').select_dtypes(include=np.number).columns)"
   ]
  },
  {
   "cell_type": "markdown",
   "id": "6197332d-84d1-4efc-82eb-39b66758edba",
   "metadata": {},
   "source": [
    "Get list of categorical features"
   ]
  },
  {
   "cell_type": "code",
   "execution_count": 48,
   "id": "46604e21-e3e7-4330-a423-0a9b023d341e",
   "metadata": {},
   "outputs": [],
   "source": [
    "categorical_feats = list(df_train.drop(columns='y').select_dtypes(exclude=np.number).columns)"
   ]
  },
  {
   "cell_type": "markdown",
   "id": "c750728d-7fe1-4131-a0f6-7ef6f77ee8dc",
   "metadata": {},
   "source": [
    "Initiate the preprocessors"
   ]
  },
  {
   "cell_type": "code",
   "execution_count": 49,
   "id": "90881b37-5584-48d1-9d3a-c236fa5d7000",
   "metadata": {},
   "outputs": [],
   "source": [
    "# Initiate the Normalization Pre-processing for Numerical Features\n",
    "numeric_preprocessor = StandardScaler()\n",
    "\n",
    "# Initiate the One-Hot-Encoding Pre-processing for Categorical Features\n",
    "categorical_preprocessor = OneHotEncoder(handle_unknown=\"ignore\")"
   ]
  },
  {
   "cell_type": "markdown",
   "id": "afb58015-64fe-46c1-bddc-15d466499452",
   "metadata": {},
   "source": [
    "Create the ColumnTransformer Class to delegate each preprocessor to the corresponding features"
   ]
  },
  {
   "cell_type": "code",
   "execution_count": 50,
   "id": "e7d4a447-ae8f-4fbc-ba58-d78abfeb0d3e",
   "metadata": {},
   "outputs": [],
   "source": [
    "preprocessor = ColumnTransformer(\n",
    "    transformers=[\n",
    "        (\"num\", numeric_preprocessor, numerical_feats),\n",
    "        (\"cat\", categorical_preprocessor, categorical_feats),\n",
    "    ]\n",
    ")"
   ]
  },
  {
   "cell_type": "markdown",
   "id": "5db6a91e-724b-4a71-872a-cee466f5b9d4",
   "metadata": {},
   "source": [
    "Create a Pipeline of preprocessor and model"
   ]
  },
  {
   "cell_type": "code",
   "execution_count": 51,
   "id": "ccb263b5-1790-49ce-ac1c-78944a6584d8",
   "metadata": {},
   "outputs": [],
   "source": [
    "pipe = Pipeline(\n",
    "    steps=[(\"preprocessor\", preprocessor), \n",
    "           (\"model\", RandomForestClassifier(random_state=0))]\n",
    ")"
   ]
  },
  {
   "cell_type": "markdown",
   "id": "232bbfcf-7a7a-4c21-b839-8c95086f9a10",
   "metadata": {},
   "source": [
    "Get all features from the train data"
   ]
  },
  {
   "cell_type": "code",
   "execution_count": 52,
   "id": "2d1c2d99-38ec-4593-9cc8-360bef5596d9",
   "metadata": {},
   "outputs": [
    {
     "name": "stdout",
     "output_type": "stream",
     "text": [
      "<class 'pandas.core.frame.DataFrame'>\n",
      "Int64Index: 40689 entries, 17974 to 2732\n",
      "Data columns (total 16 columns):\n",
      " #   Column     Non-Null Count  Dtype \n",
      "---  ------     --------------  ----- \n",
      " 0   age        40689 non-null  int64 \n",
      " 1   job        40689 non-null  object\n",
      " 2   marital    40689 non-null  object\n",
      " 3   education  40689 non-null  object\n",
      " 4   default    40689 non-null  object\n",
      " 5   balance    40689 non-null  int64 \n",
      " 6   housing    40689 non-null  object\n",
      " 7   loan       40689 non-null  object\n",
      " 8   contact    40689 non-null  object\n",
      " 9   day        40689 non-null  int64 \n",
      " 10  month      40689 non-null  object\n",
      " 11  duration   40689 non-null  int64 \n",
      " 12  campaign   40689 non-null  int64 \n",
      " 13  pdays      40689 non-null  int64 \n",
      " 14  previous   40689 non-null  int64 \n",
      " 15  poutcome   40689 non-null  object\n",
      "dtypes: int64(7), object(9)\n",
      "memory usage: 5.3+ MB\n"
     ]
    }
   ],
   "source": [
    "X_train_full = df_train.drop(columns=['y'])\n",
    "y_train = df_train['y']\n",
    "\n",
    "X_train_full.info()"
   ]
  },
  {
   "cell_type": "markdown",
   "id": "cb9174af-c97b-42df-a20c-91a3e1db9462",
   "metadata": {},
   "source": [
    "Get all features from the test data"
   ]
  },
  {
   "cell_type": "code",
   "execution_count": 53,
   "id": "00dc51bb-edef-4091-8ba0-41090558a04e",
   "metadata": {},
   "outputs": [
    {
     "name": "stdout",
     "output_type": "stream",
     "text": [
      "<class 'pandas.core.frame.DataFrame'>\n",
      "Int64Index: 4522 entries, 14001 to 25978\n",
      "Data columns (total 16 columns):\n",
      " #   Column     Non-Null Count  Dtype \n",
      "---  ------     --------------  ----- \n",
      " 0   age        4522 non-null   int64 \n",
      " 1   job        4522 non-null   object\n",
      " 2   marital    4522 non-null   object\n",
      " 3   education  4522 non-null   object\n",
      " 4   default    4522 non-null   object\n",
      " 5   balance    4522 non-null   int64 \n",
      " 6   housing    4522 non-null   object\n",
      " 7   loan       4522 non-null   object\n",
      " 8   contact    4522 non-null   object\n",
      " 9   day        4522 non-null   int64 \n",
      " 10  month      4522 non-null   object\n",
      " 11  duration   4522 non-null   int64 \n",
      " 12  campaign   4522 non-null   int64 \n",
      " 13  pdays      4522 non-null   int64 \n",
      " 14  previous   4522 non-null   int64 \n",
      " 15  poutcome   4522 non-null   object\n",
      "dtypes: int64(7), object(9)\n",
      "memory usage: 600.6+ KB\n"
     ]
    }
   ],
   "source": [
    "X_test_full = df_test.drop(columns=['y'])\n",
    "y_test = df_test['y']\n",
    "\n",
    "X_test_full.info()"
   ]
  },
  {
   "cell_type": "markdown",
   "id": "81790af8-2f97-4d91-a630-b15731ed3d14",
   "metadata": {},
   "source": [
    "Define the objective function"
   ]
  },
  {
   "cell_type": "code",
   "execution_count": 54,
   "id": "da8b21c7-5a48-45ff-8d90-d0cb578efa44",
   "metadata": {},
   "outputs": [],
   "source": [
    "def objective(space):\n",
    "    estimator_clone = clone(pipe).set_params(**space)\n",
    "    return {'loss': -1 * np.mean(cross_val_score(estimator_clone,\n",
    "                                            X_train_full, y_train, \n",
    "                                            cv=5, scoring='f1',\n",
    "                                            n_jobs=-1\n",
    "                                            )\n",
    "                            ), \n",
    "            'status': STATUS_OK}"
   ]
  },
  {
   "cell_type": "markdown",
   "id": "11dfa340-3ec2-49f6-84e7-b1bd91d5ec43",
   "metadata": {},
   "source": [
    "Define hyperparameter space"
   ]
  },
  {
   "cell_type": "code",
   "execution_count": 55,
   "id": "82960aa6-0bce-4641-8786-f4a01ffc1163",
   "metadata": {},
   "outputs": [],
   "source": [
    "hyperparameter_space = { \n",
    "\"model__n_estimators\": 5 + hp.randint(\"n_estimators\", 195), \n",
    "\"model__criterion\": hp.choice(\"criterion\", [\"gini\", \"entropy\"]),\n",
    "\"model__class_weight\": hp.choice(\"class_weight\", [\"balanced\",\"balanced_subsample\"]),\n",
    "\"model__min_samples_split\": hp.loguniform(\"min_samples_split\", np.log(0.0001), np.log(0.5))\n",
    "} "
   ]
  },
  {
   "cell_type": "markdown",
   "id": "1f5714f2-d4ac-415a-a27f-12c1ab9a3838",
   "metadata": {},
   "source": [
    "Define the Trials object"
   ]
  },
  {
   "cell_type": "code",
   "execution_count": 56,
   "id": "08189309-6194-4824-9289-dc1885c35171",
   "metadata": {},
   "outputs": [],
   "source": [
    "trials = Trials()"
   ]
  },
  {
   "cell_type": "markdown",
   "id": "a3ac9a5e-7baf-4ca9-8c6a-d5a8926e3a08",
   "metadata": {},
   "source": [
    "Perform ATPE"
   ]
  },
  {
   "cell_type": "code",
   "execution_count": 57,
   "id": "89209a0b-fc50-4c22-a00e-efc63267760d",
   "metadata": {},
   "outputs": [
    {
     "name": "stdout",
     "output_type": "stream",
     "text": [
      "100%|██████████| 100/100 [07:28<00:00,  4.48s/trial, best loss: -0.6211678386586956]\n",
      "{'class_weight': 1, 'criterion': 1, 'min_samples_split': 0.0005096354197481012, 'n_estimators': 157}\n"
     ]
    }
   ],
   "source": [
    "best = fmin(objective,\n",
    "            space=hyperparameter_space,\n",
    "            algo=atpe.suggest,\n",
    "            max_evals=100,\n",
    "            rstate=np.random.default_rng(0),\n",
    "            trials=trials,\n",
    "           )\n",
    "\n",
    "print(best)"
   ]
  },
  {
   "cell_type": "markdown",
   "id": "a4a854b4-5494-4d2b-9013-eaed2db1a4f6",
   "metadata": {},
   "source": [
    "Fit the pipeline on full data using the best set of hyperparameters"
   ]
  },
  {
   "cell_type": "code",
   "execution_count": 58,
   "id": "14ddd23d-6608-4ad1-8674-b117a0f3bea1",
   "metadata": {},
   "outputs": [],
   "source": [
    "pipe = pipe.set_params(**{'model__class_weight': \"balanced_subsample\",\n",
    "                         'model__criterion': \"entropy\",\n",
    "                         'model__min_samples_split': 0.0005096354197481012,\n",
    "                         'model__n_estimators': 157})"
   ]
  },
  {
   "cell_type": "code",
   "execution_count": 59,
   "id": "23f4e4ac-37aa-4c56-b5ab-043d93d8c2f3",
   "metadata": {},
   "outputs": [
    {
     "data": {
      "text/plain": [
       "Pipeline(steps=[('preprocessor',\n",
       "                 ColumnTransformer(transformers=[('num', StandardScaler(),\n",
       "                                                  ['age', 'balance', 'day',\n",
       "                                                   'duration', 'campaign',\n",
       "                                                   'pdays', 'previous']),\n",
       "                                                 ('cat',\n",
       "                                                  OneHotEncoder(handle_unknown='ignore'),\n",
       "                                                  ['job', 'marital',\n",
       "                                                   'education', 'default',\n",
       "                                                   'housing', 'loan', 'contact',\n",
       "                                                   'month', 'poutcome'])])),\n",
       "                ('model',\n",
       "                 RandomForestClassifier(class_weight='balanced_subsample',\n",
       "                                        criterion='entropy',\n",
       "                                        min_samples_split=0.0005096354197481012,\n",
       "                                        n_estimators=157, random_state=0))])"
      ]
     },
     "execution_count": 59,
     "metadata": {},
     "output_type": "execute_result"
    }
   ],
   "source": [
    "pipe.fit(X_train_full,y_train)"
   ]
  },
  {
   "cell_type": "markdown",
   "id": "35884039-48b3-42cb-baf4-0c70ccfa3606",
   "metadata": {},
   "source": [
    "Get the f1-Score on Test Data after fitting the model on the full train data using the best set of hyperparameters\n",
    "clf.best_params_,clf.best_score_"
   ]
  },
  {
   "cell_type": "code",
   "execution_count": 60,
   "id": "1132e24c-ba3e-4f2e-a9ab-54c83f5a245f",
   "metadata": {},
   "outputs": [
    {
     "name": "stdout",
     "output_type": "stream",
     "text": [
      "0.6221198156682027\n"
     ]
    }
   ],
   "source": [
    "# Evaluate on the test data \n",
    "y_pred = pipe.predict(X_test_full)\n",
    "print(f1_score(y_test, y_pred))"
   ]
  },
  {
   "cell_type": "markdown",
   "id": "2443f1e2-209b-4dde-956e-fbe3a6e5c6fb",
   "metadata": {
    "tags": []
   },
   "source": [
    "# Simulated Annealing"
   ]
  },
  {
   "cell_type": "code",
   "execution_count": 61,
   "id": "445be86d-886b-45ad-af4e-2dc72ad5f1d2",
   "metadata": {},
   "outputs": [],
   "source": [
    "import pandas as pd\n",
    "import numpy as np\n",
    "from sklearn.compose import ColumnTransformer\n",
    "from sklearn.preprocessing import StandardScaler, OneHotEncoder\n",
    "from sklearn.pipeline import Pipeline\n",
    "from sklearn.model_selection import train_test_split,cross_val_score\n",
    "from sklearn.metrics import f1_score\n",
    "from sklearn.base import clone\n",
    "from sklearn.ensemble import RandomForestClassifier\n",
    "\n",
    "from hyperopt import fmin, anneal, hp, STATUS_OK, Trials, plotting\n",
    "import matplotlib.pyplot as plt"
   ]
  },
  {
   "cell_type": "code",
   "execution_count": 62,
   "id": "b1e1161c-1013-4da6-9c43-350742b9c5d7",
   "metadata": {
    "tags": []
   },
   "outputs": [
    {
     "name": "stdout",
     "output_type": "stream",
     "text": [
      "<class 'pandas.core.frame.DataFrame'>\n",
      "RangeIndex: 45211 entries, 0 to 45210\n",
      "Data columns (total 17 columns):\n",
      " #   Column     Non-Null Count  Dtype \n",
      "---  ------     --------------  ----- \n",
      " 0   age        45211 non-null  int64 \n",
      " 1   job        45211 non-null  object\n",
      " 2   marital    45211 non-null  object\n",
      " 3   education  45211 non-null  object\n",
      " 4   default    45211 non-null  object\n",
      " 5   balance    45211 non-null  int64 \n",
      " 6   housing    45211 non-null  object\n",
      " 7   loan       45211 non-null  object\n",
      " 8   contact    45211 non-null  object\n",
      " 9   day        45211 non-null  int64 \n",
      " 10  month      45211 non-null  object\n",
      " 11  duration   45211 non-null  int64 \n",
      " 12  campaign   45211 non-null  int64 \n",
      " 13  pdays      45211 non-null  int64 \n",
      " 14  previous   45211 non-null  int64 \n",
      " 15  poutcome   45211 non-null  object\n",
      " 16  y          45211 non-null  object\n",
      "dtypes: int64(7), object(10)\n",
      "memory usage: 5.9+ MB\n"
     ]
    }
   ],
   "source": [
    "df = pd.read_csv(\"train.csv\",sep=\";\")\n",
    "df.info()"
   ]
  },
  {
   "cell_type": "markdown",
   "id": "e6b9d16c-cbe2-4703-ba83-a1562e47a8be",
   "metadata": {},
   "source": [
    "Convert the target variable to integer"
   ]
  },
  {
   "cell_type": "code",
   "execution_count": 63,
   "id": "9a74f685-01c5-4982-8441-583eee68b9b7",
   "metadata": {},
   "outputs": [],
   "source": [
    "df['y'] = df['y'].map({'yes':1,'no':0})"
   ]
  },
  {
   "cell_type": "markdown",
   "id": "7c608167-2180-4841-97a5-1c593db30000",
   "metadata": {},
   "source": [
    "Split full data into train and test data"
   ]
  },
  {
   "cell_type": "code",
   "execution_count": 64,
   "id": "a6e444b2-3487-4e16-b54f-6dec78f2b65e",
   "metadata": {},
   "outputs": [],
   "source": [
    "df_train, df_test = train_test_split(df, test_size=0.1, random_state=0) "
   ]
  },
  {
   "cell_type": "markdown",
   "id": "ab7adae3-0423-42c4-9577-884d51c1c45d",
   "metadata": {},
   "source": [
    "Get list of numerical features"
   ]
  },
  {
   "cell_type": "code",
   "execution_count": 65,
   "id": "22763cd7-8254-4e8b-8976-6e099c675cb3",
   "metadata": {},
   "outputs": [],
   "source": [
    "numerical_feats = list(df_train.drop(columns='y').select_dtypes(include=np.number).columns)"
   ]
  },
  {
   "cell_type": "markdown",
   "id": "2d5df027-05ef-40e6-8602-c7ccaa46f55f",
   "metadata": {},
   "source": [
    "Get list of categorical features"
   ]
  },
  {
   "cell_type": "code",
   "execution_count": 66,
   "id": "56dbe0b2-b6a5-4a46-8a81-f647fbbebe05",
   "metadata": {},
   "outputs": [],
   "source": [
    "categorical_feats = list(df_train.drop(columns='y').select_dtypes(exclude=np.number).columns)"
   ]
  },
  {
   "cell_type": "markdown",
   "id": "15715cb8-aa99-4d85-b060-d142ee2cf8d0",
   "metadata": {},
   "source": [
    "Initiate the preprocessors"
   ]
  },
  {
   "cell_type": "code",
   "execution_count": 67,
   "id": "bcf9485d-9ffc-4772-a32a-29728bb09776",
   "metadata": {},
   "outputs": [],
   "source": [
    "# Initiate the Normalization Pre-processing for Numerical Features\n",
    "numeric_preprocessor = StandardScaler()\n",
    "\n",
    "# Initiate the One-Hot-Encoding Pre-processing for Categorical Features\n",
    "categorical_preprocessor = OneHotEncoder(handle_unknown=\"ignore\")"
   ]
  },
  {
   "cell_type": "markdown",
   "id": "f2f33549-902e-41e6-becb-622b385c6130",
   "metadata": {},
   "source": [
    "Create the ColumnTransformer Class to delegate each preprocessor to the corresponding features"
   ]
  },
  {
   "cell_type": "code",
   "execution_count": 68,
   "id": "afcc8265-a81f-45a0-b9aa-e0e272f4da6c",
   "metadata": {},
   "outputs": [],
   "source": [
    "preprocessor = ColumnTransformer(\n",
    "    transformers=[\n",
    "        (\"num\", numeric_preprocessor, numerical_feats),\n",
    "        (\"cat\", categorical_preprocessor, categorical_feats),\n",
    "    ]\n",
    ")"
   ]
  },
  {
   "cell_type": "markdown",
   "id": "5a02cc63-be23-4ef1-bac8-30b5b7c75aab",
   "metadata": {},
   "source": [
    "Create a Pipeline of preprocessor and model"
   ]
  },
  {
   "cell_type": "code",
   "execution_count": 69,
   "id": "b9ec06c8-be4b-47c8-867b-7daffaccdd30",
   "metadata": {},
   "outputs": [],
   "source": [
    "pipe = Pipeline(\n",
    "    steps=[(\"preprocessor\", preprocessor), \n",
    "           (\"model\", RandomForestClassifier(random_state=0))]\n",
    ")"
   ]
  },
  {
   "cell_type": "markdown",
   "id": "daf5cae0-fd2b-4b74-b234-64000b3cede6",
   "metadata": {},
   "source": [
    "Get all features from the train data"
   ]
  },
  {
   "cell_type": "code",
   "execution_count": 70,
   "id": "8de892fc-f9c8-46bf-8f8d-2cb77a9b2976",
   "metadata": {},
   "outputs": [
    {
     "name": "stdout",
     "output_type": "stream",
     "text": [
      "<class 'pandas.core.frame.DataFrame'>\n",
      "Int64Index: 40689 entries, 17974 to 2732\n",
      "Data columns (total 16 columns):\n",
      " #   Column     Non-Null Count  Dtype \n",
      "---  ------     --------------  ----- \n",
      " 0   age        40689 non-null  int64 \n",
      " 1   job        40689 non-null  object\n",
      " 2   marital    40689 non-null  object\n",
      " 3   education  40689 non-null  object\n",
      " 4   default    40689 non-null  object\n",
      " 5   balance    40689 non-null  int64 \n",
      " 6   housing    40689 non-null  object\n",
      " 7   loan       40689 non-null  object\n",
      " 8   contact    40689 non-null  object\n",
      " 9   day        40689 non-null  int64 \n",
      " 10  month      40689 non-null  object\n",
      " 11  duration   40689 non-null  int64 \n",
      " 12  campaign   40689 non-null  int64 \n",
      " 13  pdays      40689 non-null  int64 \n",
      " 14  previous   40689 non-null  int64 \n",
      " 15  poutcome   40689 non-null  object\n",
      "dtypes: int64(7), object(9)\n",
      "memory usage: 5.3+ MB\n"
     ]
    }
   ],
   "source": [
    "X_train_full = df_train.drop(columns=['y'])\n",
    "y_train = df_train['y']\n",
    "\n",
    "X_train_full.info()"
   ]
  },
  {
   "cell_type": "markdown",
   "id": "a8f4d66c-2f41-43ca-b4a4-ac276640fab4",
   "metadata": {},
   "source": [
    "Get all features from the test data"
   ]
  },
  {
   "cell_type": "code",
   "execution_count": 71,
   "id": "1e9710a6-5854-47fb-be76-3471b1b9a1dd",
   "metadata": {},
   "outputs": [
    {
     "name": "stdout",
     "output_type": "stream",
     "text": [
      "<class 'pandas.core.frame.DataFrame'>\n",
      "Int64Index: 4522 entries, 14001 to 25978\n",
      "Data columns (total 16 columns):\n",
      " #   Column     Non-Null Count  Dtype \n",
      "---  ------     --------------  ----- \n",
      " 0   age        4522 non-null   int64 \n",
      " 1   job        4522 non-null   object\n",
      " 2   marital    4522 non-null   object\n",
      " 3   education  4522 non-null   object\n",
      " 4   default    4522 non-null   object\n",
      " 5   balance    4522 non-null   int64 \n",
      " 6   housing    4522 non-null   object\n",
      " 7   loan       4522 non-null   object\n",
      " 8   contact    4522 non-null   object\n",
      " 9   day        4522 non-null   int64 \n",
      " 10  month      4522 non-null   object\n",
      " 11  duration   4522 non-null   int64 \n",
      " 12  campaign   4522 non-null   int64 \n",
      " 13  pdays      4522 non-null   int64 \n",
      " 14  previous   4522 non-null   int64 \n",
      " 15  poutcome   4522 non-null   object\n",
      "dtypes: int64(7), object(9)\n",
      "memory usage: 600.6+ KB\n"
     ]
    }
   ],
   "source": [
    "X_test_full = df_test.drop(columns=['y'])\n",
    "y_test = df_test['y']\n",
    "\n",
    "X_test_full.info()"
   ]
  },
  {
   "cell_type": "markdown",
   "id": "81cb97cd-a45b-49f3-9345-27ea19b67595",
   "metadata": {},
   "source": [
    "Define the objective function"
   ]
  },
  {
   "cell_type": "code",
   "execution_count": 72,
   "id": "48e0a9e4-cbbc-4f2e-91f7-94312256c134",
   "metadata": {},
   "outputs": [],
   "source": [
    "def objective(space):\n",
    "    estimator_clone = clone(pipe).set_params(**space)\n",
    "    return {'loss': -1 * np.mean(cross_val_score(estimator_clone,\n",
    "                                            X_train_full, y_train, \n",
    "                                            cv=5, scoring='f1',\n",
    "                                            n_jobs=-1\n",
    "                                            )\n",
    "                            ), \n",
    "            'status': STATUS_OK}"
   ]
  },
  {
   "cell_type": "markdown",
   "id": "8293d658-bf81-4889-b314-a3d230c43c9b",
   "metadata": {},
   "source": [
    "Define hyperparameter space"
   ]
  },
  {
   "cell_type": "code",
   "execution_count": 73,
   "id": "2fc90038-8712-4bb7-a296-1aba55119eb5",
   "metadata": {},
   "outputs": [],
   "source": [
    "hyperparameter_space = { \n",
    "\"model__n_estimators\": 5 + hp.randint(\"n_estimators\", 195), \n",
    "\"model__criterion\": hp.choice(\"criterion\", [\"gini\", \"entropy\"]),\n",
    "\"model__class_weight\": hp.choice(\"class_weight\", [\"balanced\",\"balanced_subsample\"]),\n",
    "\"model__min_samples_split\": hp.loguniform(\"min_samples_split\", np.log(0.0001), np.log(0.5))\n",
    "} "
   ]
  },
  {
   "cell_type": "markdown",
   "id": "1fa8b0c6-ba58-4a12-ba71-3b03d40fd049",
   "metadata": {},
   "source": [
    "Define the Trials object"
   ]
  },
  {
   "cell_type": "code",
   "execution_count": 74,
   "id": "5f050991-abbc-4159-853a-2d410cf99b49",
   "metadata": {},
   "outputs": [],
   "source": [
    "trials = Trials()"
   ]
  },
  {
   "cell_type": "markdown",
   "id": "249a3288-ed87-4306-bc73-5d93e2626892",
   "metadata": {},
   "source": [
    "Perform Simulated Annealing"
   ]
  },
  {
   "cell_type": "code",
   "execution_count": 75,
   "id": "409a3e3e-8aa4-44cd-a9ca-3b27b8cc46cb",
   "metadata": {},
   "outputs": [
    {
     "name": "stdout",
     "output_type": "stream",
     "text": [
      "100%|██████████| 100/100 [08:48<00:00,  5.28s/trial, best loss: -0.6203314261900643]\n",
      "{'class_weight': 1, 'criterion': 1, 'min_samples_split': 0.00046660708302994583, 'n_estimators': 189}\n"
     ]
    }
   ],
   "source": [
    "best = fmin(objective,\n",
    "            space=hyperparameter_space,\n",
    "            algo=anneal.suggest,\n",
    "            max_evals=100,\n",
    "            rstate=np.random.default_rng(0),\n",
    "            trials=trials,\n",
    "           )\n",
    "\n",
    "print(best)"
   ]
  },
  {
   "cell_type": "markdown",
   "id": "a2c1f5b4-e1c1-4b7b-9f6b-9b41d3a08ec0",
   "metadata": {},
   "source": [
    "Fit the pipeline on full data using the best set of hyperparameters"
   ]
  },
  {
   "cell_type": "code",
   "execution_count": 76,
   "id": "3c2533fc-beb7-4203-a811-779cdd87c9ab",
   "metadata": {},
   "outputs": [],
   "source": [
    "pipe = pipe.set_params(**{'model__class_weight': \"balanced_subsample\",\n",
    "                         'model__criterion': \"entropy\",\n",
    "                         'model__min_samples_split': 0.00046660708302994583,\n",
    "                         'model__n_estimators': 189})"
   ]
  },
  {
   "cell_type": "code",
   "execution_count": 77,
   "id": "af34ffac-577b-4639-8b8c-1f5ac1cef6e6",
   "metadata": {},
   "outputs": [
    {
     "data": {
      "text/plain": [
       "Pipeline(steps=[('preprocessor',\n",
       "                 ColumnTransformer(transformers=[('num', StandardScaler(),\n",
       "                                                  ['age', 'balance', 'day',\n",
       "                                                   'duration', 'campaign',\n",
       "                                                   'pdays', 'previous']),\n",
       "                                                 ('cat',\n",
       "                                                  OneHotEncoder(handle_unknown='ignore'),\n",
       "                                                  ['job', 'marital',\n",
       "                                                   'education', 'default',\n",
       "                                                   'housing', 'loan', 'contact',\n",
       "                                                   'month', 'poutcome'])])),\n",
       "                ('model',\n",
       "                 RandomForestClassifier(class_weight='balanced_subsample',\n",
       "                                        criterion='entropy',\n",
       "                                        min_samples_split=0.00046660708302994583,\n",
       "                                        n_estimators=189, random_state=0))])"
      ]
     },
     "execution_count": 77,
     "metadata": {},
     "output_type": "execute_result"
    }
   ],
   "source": [
    "pipe.fit(X_train_full,y_train)"
   ]
  },
  {
   "cell_type": "markdown",
   "id": "a5897e89-271a-4765-9dad-ba00bc97ace9",
   "metadata": {},
   "source": [
    "Get the f1-Score on Test Data after fitting the model on the full train data using the best set of hyperparameters\n",
    "clf.best_params_,clf.best_score_"
   ]
  },
  {
   "cell_type": "code",
   "execution_count": 78,
   "id": "1c743bc7-a854-4186-964c-79867268e387",
   "metadata": {},
   "outputs": [
    {
     "name": "stdout",
     "output_type": "stream",
     "text": [
      "0.6249021143304619\n"
     ]
    }
   ],
   "source": [
    "# Evaluate on the test data \n",
    "y_pred = pipe.predict(X_test_full)\n",
    "print(f1_score(y_test, y_pred))"
   ]
  },
  {
   "cell_type": "markdown",
   "id": "8db5a2a7-18bc-4cce-8004-78663bd026e8",
   "metadata": {},
   "source": [
    "Plot tuning process results"
   ]
  },
  {
   "cell_type": "code",
   "execution_count": 79,
   "id": "0f4ec79d-213b-4b92-af08-a839a154b654",
   "metadata": {},
   "outputs": [
    {
     "name": "stdout",
     "output_type": "stream",
     "text": [
      "avg best error: -0.6203314261900643\n"
     ]
    },
    {
     "data": {
      "image/png": "[encoded data removed]",
      "text/plain": [
       "<Figure size 432x288 with 1 Axes>"
      ]
     },
     "metadata": {
      "needs_background": "light"
     },
     "output_type": "display_data"
    }
   ],
   "source": [
    "plotting.main_plot_history(trials)"
   ]
  },
  {
   "cell_type": "code",
   "execution_count": 80,
   "id": "04b810c0-f220-49f6-8bbd-92c5f6c910f7",
   "metadata": {},
   "outputs": [
    {
     "name": "stdout",
     "output_type": "stream",
     "text": [
      "Showing Histogram of 100 jobs\n"
     ]
    },
    {
     "data": {
      "image/png": "[encoded data removed]",
      "text/plain": [
       "<Figure size 432x288 with 1 Axes>"
      ]
     },
     "metadata": {
      "needs_background": "light"
     },
     "output_type": "display_data"
    }
   ],
   "source": [
    "plotting.main_plot_histogram(trials)"
   ]
  },
  {
   "cell_type": "code",
   "execution_count": 81,
   "id": "fd4c5038-f04f-40cb-a266-7770a39ceef0",
   "metadata": {},
   "outputs": [
    {
     "name": "stdout",
     "output_type": "stream",
     "text": [
      "finite loss range -0.6203314261900643 -0.49673714125241597 -1.6203314261900643\n"
     ]
    },
    {
     "data": {
      "image/png": "[encoded data removed]",
      "text/plain": [
       "<Figure size 720x432 with 4 Axes>"
      ]
     },
     "metadata": {
      "needs_background": "light"
     },
     "output_type": "display_data"
    }
   ],
   "source": [
    "plt.figure(figsize=(10,6))\n",
    "plotting.main_plot_vars(trials)\n",
    "plt.show()"
   ]
  },
  {
   "cell_type": "code",
   "execution_count": 82,
   "id": "95daa43b-809e-49cf-a68f-ab2592531898",
   "metadata": {},
   "outputs": [
    {
     "data": {
      "image/png": "[encoded data removed]",
      "text/plain": [
       "<Figure size 864x864 with 5 Axes>"
      ]
     },
     "metadata": {
      "needs_background": "light"
     },
     "output_type": "display_data"
    }
   ],
   "source": [
    "plotting_data = np.array([[x['result']['loss'],\n",
    "                          x['misc']['vals']['class_weight'][0],\n",
    "                          x['misc']['vals']['criterion'][0],\n",
    "                          x['misc']['vals']['min_samples_split'][0],\n",
    "                          x['misc']['vals']['n_estimators'][0],\n",
    "                         ] for x in trials.trials])\n",
    "\n",
    "plotting_data = pd.DataFrame(plotting_data,\n",
    "                             columns=['score', 'class_weight', 'criterion', 'min_samples_split','n_estimators'])\n",
    "plotting_data.plot(subplots=True,figsize=(12, 12))\n",
    "plt.xlabel(\"Iterations\")\n",
    "plt.show()"
   ]
  },
  {
   "cell_type": "code",
   "execution_count": 83,
   "id": "303976f2-4506-4f3f-ba04-bee2e96468f9",
   "metadata": {},
   "outputs": [
    {
     "data": {
      "text/html": [
       "<div>\n",
       "<style scoped>\n",
       "    .dataframe tbody tr th:only-of-type {\n",
       "        vertical-align: middle;\n",
       "    }\n",
       "\n",
       "    .dataframe tbody tr th {\n",
       "        vertical-align: top;\n",
       "    }\n",
       "\n",
       "    .dataframe thead th {\n",
       "        text-align: right;\n",
       "    }\n",
       "</style>\n",
       "<table border=\"1\" class=\"dataframe\">\n",
       "  <thead>\n",
       "    <tr style=\"text-align: right;\">\n",
       "      <th></th>\n",
       "      <th>score</th>\n",
       "      <th>class_weight</th>\n",
       "      <th>criterion</th>\n",
       "      <th>min_samples_split</th>\n",
       "      <th>n_estimators</th>\n",
       "    </tr>\n",
       "  </thead>\n",
       "  <tbody>\n",
       "    <tr>\n",
       "      <th>0</th>\n",
       "      <td>-0.618198</td>\n",
       "      <td>0.0</td>\n",
       "      <td>1.0</td>\n",
       "      <td>0.000502</td>\n",
       "      <td>69.0</td>\n",
       "    </tr>\n",
       "    <tr>\n",
       "      <th>1</th>\n",
       "      <td>-0.607471</td>\n",
       "      <td>1.0</td>\n",
       "      <td>0.0</td>\n",
       "      <td>0.000961</td>\n",
       "      <td>82.0</td>\n",
       "    </tr>\n",
       "    <tr>\n",
       "      <th>2</th>\n",
       "      <td>-0.496737</td>\n",
       "      <td>0.0</td>\n",
       "      <td>1.0</td>\n",
       "      <td>0.075230</td>\n",
       "      <td>128.0</td>\n",
       "    </tr>\n",
       "    <tr>\n",
       "      <th>3</th>\n",
       "      <td>-0.573251</td>\n",
       "      <td>1.0</td>\n",
       "      <td>0.0</td>\n",
       "      <td>0.000200</td>\n",
       "      <td>68.0</td>\n",
       "    </tr>\n",
       "    <tr>\n",
       "      <th>4</th>\n",
       "      <td>-0.540691</td>\n",
       "      <td>1.0</td>\n",
       "      <td>1.0</td>\n",
       "      <td>0.010357</td>\n",
       "      <td>15.0</td>\n",
       "    </tr>\n",
       "    <tr>\n",
       "      <th>...</th>\n",
       "      <td>...</td>\n",
       "      <td>...</td>\n",
       "      <td>...</td>\n",
       "      <td>...</td>\n",
       "      <td>...</td>\n",
       "    </tr>\n",
       "    <tr>\n",
       "      <th>95</th>\n",
       "      <td>-0.620331</td>\n",
       "      <td>1.0</td>\n",
       "      <td>1.0</td>\n",
       "      <td>0.000474</td>\n",
       "      <td>189.0</td>\n",
       "    </tr>\n",
       "    <tr>\n",
       "      <th>96</th>\n",
       "      <td>-0.619711</td>\n",
       "      <td>1.0</td>\n",
       "      <td>1.0</td>\n",
       "      <td>0.000567</td>\n",
       "      <td>189.0</td>\n",
       "    </tr>\n",
       "    <tr>\n",
       "      <th>97</th>\n",
       "      <td>-0.620331</td>\n",
       "      <td>1.0</td>\n",
       "      <td>1.0</td>\n",
       "      <td>0.000491</td>\n",
       "      <td>189.0</td>\n",
       "    </tr>\n",
       "    <tr>\n",
       "      <th>98</th>\n",
       "      <td>-0.618255</td>\n",
       "      <td>1.0</td>\n",
       "      <td>1.0</td>\n",
       "      <td>0.000532</td>\n",
       "      <td>189.0</td>\n",
       "    </tr>\n",
       "    <tr>\n",
       "      <th>99</th>\n",
       "      <td>-0.620331</td>\n",
       "      <td>1.0</td>\n",
       "      <td>1.0</td>\n",
       "      <td>0.000465</td>\n",
       "      <td>189.0</td>\n",
       "    </tr>\n",
       "  </tbody>\n",
       "</table>\n",
       "<p>100 rows × 5 columns</p>\n",
       "</div>"
      ],
      "text/plain": [
       "       score  class_weight  criterion  min_samples_split  n_estimators\n",
       "0  -0.618198           0.0        1.0           0.000502          69.0\n",
       "1  -0.607471           1.0        0.0           0.000961          82.0\n",
       "2  -0.496737           0.0        1.0           0.075230         128.0\n",
       "3  -0.573251           1.0        0.0           0.000200          68.0\n",
       "4  -0.540691           1.0        1.0           0.010357          15.0\n",
       "..       ...           ...        ...                ...           ...\n",
       "95 -0.620331           1.0        1.0           0.000474         189.0\n",
       "96 -0.619711           1.0        1.0           0.000567         189.0\n",
       "97 -0.620331           1.0        1.0           0.000491         189.0\n",
       "98 -0.618255           1.0        1.0           0.000532         189.0\n",
       "99 -0.620331           1.0        1.0           0.000465         189.0\n",
       "\n",
       "[100 rows x 5 columns]"
      ]
     },
     "execution_count": 83,
     "metadata": {},
     "output_type": "execute_result"
    }
   ],
   "source": [
    "plotting_data"
   ]
  },
  {
   "cell_type": "code",
   "execution_count": null,
   "id": "4e1d0111-62da-4591-831d-5bc825fd3ee2",
   "metadata": {},
   "outputs": [],
   "source": []
  }
 ],
 "metadata": {
  "kernelspec": {
   "display_name": "Python 3",
   "language": "python",
   "name": "python3"
  },
  "language_info": {
   "codemirror_mode": {
    "name": "ipython",
    "version": 3
   },
   "file_extension": ".py",
   "mimetype": "text/x-python",
   "name": "python",
   "nbconvert_exporter": "python",
   "pygments_lexer": "ipython3",
   "version": "3.7.10"
  }
 },
 "nbformat": 4,
 "nbformat_minor": 5
}
