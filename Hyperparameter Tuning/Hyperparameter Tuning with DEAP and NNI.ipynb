{
 "cells": [
  {
   "cell_type": "code",
   "execution_count": null,
   "id": "412d72c3-b51a-43aa-8259-45061e408ec0",
   "metadata": {},
   "outputs": [],
   "source": [
    "# !pip install pandas==1.3.4\n",
    "# !pip install numpy==1.21.2\n",
    "# !pip install matplotlib==3.5.0\n",
    "# !pip install scikit-learn==1.0.1\n",
    "# !pip install tensorflow==2.4.1\n",
    "# !pip install deap==1.3\n",
    "# !pip install hyperopt==0.1.2\n",
    "# !pip install torch==1.10.0+cpu -f https://download.pytorch.org/whl/torch_stable.html"
   ]
  },
  {
   "cell_type": "markdown",
   "id": "4f9b71cf-d91a-4798-8789-5756ad37d46b",
   "metadata": {},
   "source": [
    "# DEAP"
   ]
  },
  {
   "cell_type": "markdown",
   "id": "fadd7d26-738c-446d-bb4e-db3108a886e4",
   "metadata": {},
   "source": [
    "## Init"
   ]
  },
  {
   "cell_type": "code",
   "execution_count": 1,
   "id": "45b0ec9d-29c9-4580-a03d-47acbd7c3b50",
   "metadata": {},
   "outputs": [],
   "source": [
    "import pandas as pd\n",
    "import numpy as np\n",
    "from sklearn.compose import ColumnTransformer\n",
    "from sklearn.preprocessing import StandardScaler, OneHotEncoder\n",
    "from sklearn.pipeline import Pipeline\n",
    "from sklearn.model_selection import train_test_split, cross_val_score\n",
    "from sklearn.metrics import f1_score\n",
    "from sklearn.base import clone\n",
    "from sklearn.ensemble import RandomForestClassifier"
   ]
  },
  {
   "cell_type": "code",
   "execution_count": 2,
   "id": "1424446b-8c1f-4cef-b92c-ee0b42474109",
   "metadata": {},
   "outputs": [],
   "source": [
    "import matplotlib.pyplot as plt\n",
    "import seaborn as sns\n",
    "sns.set()"
   ]
  },
  {
   "cell_type": "code",
   "execution_count": 3,
   "id": "206cc4e4-bc81-4912-995a-6127ce376c22",
   "metadata": {},
   "outputs": [],
   "source": [
    "import random\n",
    "import time\n",
    "import operator\n",
    "import math\n",
    "\n",
    "from deap import base\n",
    "from deap import creator\n",
    "from deap import tools\n",
    "\n",
    "from scipy.stats import randint,truncnorm,uniform\n",
    "\n",
    "import multiprocessing"
   ]
  },
  {
   "cell_type": "markdown",
   "id": "0a2cd375-59c7-4e57-8373-01cc655d73e2",
   "metadata": {},
   "source": [
    "## Genetic Algorithm"
   ]
  },
  {
   "cell_type": "code",
   "execution_count": 4,
   "id": "943cb796-4d28-4d9c-89c0-cb86713f4e57",
   "metadata": {},
   "outputs": [
    {
     "name": "stdout",
     "output_type": "stream",
     "text": [
      "<class 'pandas.core.frame.DataFrame'>\n",
      "RangeIndex: 45211 entries, 0 to 45210\n",
      "Data columns (total 17 columns):\n",
      " #   Column     Non-Null Count  Dtype \n",
      "---  ------     --------------  ----- \n",
      " 0   age        45211 non-null  int64 \n",
      " 1   job        45211 non-null  object\n",
      " 2   marital    45211 non-null  object\n",
      " 3   education  45211 non-null  object\n",
      " 4   default    45211 non-null  object\n",
      " 5   balance    45211 non-null  int64 \n",
      " 6   housing    45211 non-null  object\n",
      " 7   loan       45211 non-null  object\n",
      " 8   contact    45211 non-null  object\n",
      " 9   day        45211 non-null  int64 \n",
      " 10  month      45211 non-null  object\n",
      " 11  duration   45211 non-null  int64 \n",
      " 12  campaign   45211 non-null  int64 \n",
      " 13  pdays      45211 non-null  int64 \n",
      " 14  previous   45211 non-null  int64 \n",
      " 15  poutcome   45211 non-null  object\n",
      " 16  y          45211 non-null  object\n",
      "dtypes: int64(7), object(10)\n",
      "memory usage: 5.9+ MB\n"
     ]
    }
   ],
   "source": [
    "df = pd.read_csv(\"train.csv\",sep=\";\")\n",
    "df.info()"
   ]
  },
  {
   "cell_type": "markdown",
   "id": "3727c712-fc70-4afd-b9e7-94f150d6de1d",
   "metadata": {},
   "source": [
    "Convert the target variable to integer"
   ]
  },
  {
   "cell_type": "code",
   "execution_count": 5,
   "id": "d51d20be-33b3-461c-bdae-7f26b7666745",
   "metadata": {},
   "outputs": [],
   "source": [
    "df['y'] = df['y'].map({'yes':1,'no':0})"
   ]
  },
  {
   "cell_type": "markdown",
   "id": "c91d2ae4-1556-4079-84e5-60703f747b92",
   "metadata": {},
   "source": [
    "Split full data into train and test data"
   ]
  },
  {
   "cell_type": "code",
   "execution_count": 6,
   "id": "685dafde-2ac3-49cb-b39b-34a88281445d",
   "metadata": {},
   "outputs": [],
   "source": [
    "df_train, df_test = train_test_split(df, test_size=0.1, random_state=0) "
   ]
  },
  {
   "cell_type": "markdown",
   "id": "23dc588d-0eab-445f-b2cd-f9ec7931a31e",
   "metadata": {},
   "source": [
    "Get list of numerical features"
   ]
  },
  {
   "cell_type": "code",
   "execution_count": 7,
   "id": "732d2361-7141-4acd-bfde-048e315e84af",
   "metadata": {},
   "outputs": [],
   "source": [
    "numerical_feats = list(df_train.drop(columns='y').select_dtypes(include=np.number).columns)"
   ]
  },
  {
   "cell_type": "markdown",
   "id": "db583338-2a60-47af-9b95-f278cc277f00",
   "metadata": {},
   "source": [
    "Get list of categorical features"
   ]
  },
  {
   "cell_type": "code",
   "execution_count": 8,
   "id": "898f2911-3575-4f70-b18f-1bd230854abf",
   "metadata": {},
   "outputs": [],
   "source": [
    "categorical_feats = list(df_train.drop(columns='y').select_dtypes(exclude=np.number).columns)"
   ]
  },
  {
   "cell_type": "markdown",
   "id": "2c723697-aa54-4497-afbd-7b086d24aa76",
   "metadata": {},
   "source": [
    "Initiate the preprocessors"
   ]
  },
  {
   "cell_type": "code",
   "execution_count": 9,
   "id": "aa7d306e-4910-4344-8ec5-0ba8bc9614bf",
   "metadata": {},
   "outputs": [],
   "source": [
    "# Initiate the Normalization Pre-processing for Numerical Features\n",
    "numeric_preprocessor = StandardScaler()\n",
    "\n",
    "# Initiate the One-Hot-Encoding Pre-processing for Categorical Features\n",
    "categorical_preprocessor = OneHotEncoder(handle_unknown=\"ignore\")"
   ]
  },
  {
   "cell_type": "markdown",
   "id": "fed0e828-6a0b-40ce-b86f-4bebc3d3cd93",
   "metadata": {},
   "source": [
    "Create the ColumnTransformer Class to delegate each preprocessor to the corresponding features"
   ]
  },
  {
   "cell_type": "code",
   "execution_count": 10,
   "id": "cca8ce63-040c-437f-a2f0-8b54e6af8a60",
   "metadata": {},
   "outputs": [],
   "source": [
    "preprocessor = ColumnTransformer(\n",
    "    transformers=[\n",
    "        (\"num\", numeric_preprocessor, numerical_feats),\n",
    "        (\"cat\", categorical_preprocessor, categorical_feats),\n",
    "    ]\n",
    ")"
   ]
  },
  {
   "cell_type": "markdown",
   "id": "efcda0ce-27a8-48cc-81df-576f28711a9b",
   "metadata": {},
   "source": [
    "Create a Pipeline of preprocessor and model"
   ]
  },
  {
   "cell_type": "code",
   "execution_count": 11,
   "id": "618f6438-ffc8-4252-9b2e-aa1824ecc5f0",
   "metadata": {},
   "outputs": [],
   "source": [
    "pipe = Pipeline(\n",
    "    steps=[(\"preprocessor\", preprocessor), \n",
    "           (\"model\", RandomForestClassifier(random_state=0))]\n",
    ")"
   ]
  },
  {
   "cell_type": "markdown",
   "id": "7ca8ee10-928c-45f0-a9e1-6f194130d5cd",
   "metadata": {},
   "source": [
    "Get all features from the train data"
   ]
  },
  {
   "cell_type": "code",
   "execution_count": 12,
   "id": "09db2e84-0763-491d-80ba-9abf18e67933",
   "metadata": {},
   "outputs": [
    {
     "name": "stdout",
     "output_type": "stream",
     "text": [
      "<class 'pandas.core.frame.DataFrame'>\n",
      "Int64Index: 40689 entries, 17974 to 2732\n",
      "Data columns (total 16 columns):\n",
      " #   Column     Non-Null Count  Dtype \n",
      "---  ------     --------------  ----- \n",
      " 0   age        40689 non-null  int64 \n",
      " 1   job        40689 non-null  object\n",
      " 2   marital    40689 non-null  object\n",
      " 3   education  40689 non-null  object\n",
      " 4   default    40689 non-null  object\n",
      " 5   balance    40689 non-null  int64 \n",
      " 6   housing    40689 non-null  object\n",
      " 7   loan       40689 non-null  object\n",
      " 8   contact    40689 non-null  object\n",
      " 9   day        40689 non-null  int64 \n",
      " 10  month      40689 non-null  object\n",
      " 11  duration   40689 non-null  int64 \n",
      " 12  campaign   40689 non-null  int64 \n",
      " 13  pdays      40689 non-null  int64 \n",
      " 14  previous   40689 non-null  int64 \n",
      " 15  poutcome   40689 non-null  object\n",
      "dtypes: int64(7), object(9)\n",
      "memory usage: 5.3+ MB\n"
     ]
    }
   ],
   "source": [
    "X_train_full = df_train.drop(columns=['y'])\n",
    "y_train = df_train['y']\n",
    "\n",
    "X_train_full.info()"
   ]
  },
  {
   "cell_type": "markdown",
   "id": "e8fcca9d-fa60-44af-813e-c5e6e19f5c53",
   "metadata": {},
   "source": [
    "Get all features from the test data"
   ]
  },
  {
   "cell_type": "code",
   "execution_count": 13,
   "id": "f037201e-725b-4269-8089-d7a099dcee84",
   "metadata": {},
   "outputs": [
    {
     "name": "stdout",
     "output_type": "stream",
     "text": [
      "<class 'pandas.core.frame.DataFrame'>\n",
      "Int64Index: 4522 entries, 14001 to 25978\n",
      "Data columns (total 16 columns):\n",
      " #   Column     Non-Null Count  Dtype \n",
      "---  ------     --------------  ----- \n",
      " 0   age        4522 non-null   int64 \n",
      " 1   job        4522 non-null   object\n",
      " 2   marital    4522 non-null   object\n",
      " 3   education  4522 non-null   object\n",
      " 4   default    4522 non-null   object\n",
      " 5   balance    4522 non-null   int64 \n",
      " 6   housing    4522 non-null   object\n",
      " 7   loan       4522 non-null   object\n",
      " 8   contact    4522 non-null   object\n",
      " 9   day        4522 non-null   int64 \n",
      " 10  month      4522 non-null   object\n",
      " 11  duration   4522 non-null   int64 \n",
      " 12  campaign   4522 non-null   int64 \n",
      " 13  pdays      4522 non-null   int64 \n",
      " 14  previous   4522 non-null   int64 \n",
      " 15  poutcome   4522 non-null   object\n",
      "dtypes: int64(7), object(9)\n",
      "memory usage: 600.6+ KB\n"
     ]
    }
   ],
   "source": [
    "X_test_full = df_test.drop(columns=['y'])\n",
    "y_test = df_test['y']\n",
    "\n",
    "X_test_full.info()"
   ]
  },
  {
   "cell_type": "markdown",
   "id": "ae83c66b-a381-4831-af0e-016e24fe3173",
   "metadata": {},
   "source": [
    "Calculate F1-Score on Test Data without Hyperparameter Tuning"
   ]
  },
  {
   "cell_type": "code",
   "execution_count": 14,
   "id": "598f08e3-73cd-4149-b1da-996c67a5b027",
   "metadata": {
    "tags": []
   },
   "outputs": [
    {
     "name": "stdout",
     "output_type": "stream",
     "text": [
      "0.5164319248826291\n"
     ]
    }
   ],
   "source": [
    "# Fit the pipeline on train data \n",
    "pipe.fit(X_train_full,y_train)\n",
    "\n",
    "# Evaluate on the test data \n",
    "y_pred = pipe.predict(X_test_full)\n",
    "print(f1_score(y_test, y_pred))"
   ]
  },
  {
   "cell_type": "code",
   "execution_count": 15,
   "id": "881291f6-ec68-4038-ae1e-c2320bd8d843",
   "metadata": {},
   "outputs": [],
   "source": [
    "# GA Parameters\n",
    "NPOP = 50\n",
    "NGEN = 15\n",
    "CXPB = 0.5\n",
    "MUTPB = 0.2"
   ]
  },
  {
   "cell_type": "code",
   "execution_count": 16,
   "id": "d8378379-3f3c-4c2d-beda-8737f09bed58",
   "metadata": {},
   "outputs": [],
   "source": [
    "# fix the seed for reproducibility\n",
    "# feel free to change it or comment out the line\n",
    "random.seed(1)\n",
    "\n",
    "# our fitness score is supposed to be maximised and there is only 1 objective\n",
    "creator.create(\"FitnessMax\", base.Fitness, weights=(1.0,))\n",
    "\n",
    "# our individual is a list of genes, with the fitness score the higher the better\n",
    "creator.create(\"Individual\", list, fitness=creator.FitnessMax)"
   ]
  },
  {
   "cell_type": "code",
   "execution_count": 17,
   "id": "dc4db764-ab06-47c5-bf07-4164e818f0aa",
   "metadata": {},
   "outputs": [],
   "source": [
    "# Intialize toolbox\n",
    "toolbox = base.Toolbox()"
   ]
  },
  {
   "cell_type": "code",
   "execution_count": 18,
   "id": "b95f0c50-0bdd-4294-8397-a2a16d760db9",
   "metadata": {},
   "outputs": [],
   "source": [
    "# Hyperparameters Definition\n",
    "PARAM_NAMES = [\"model__n_estimators\",\"model__criterion\",\n",
    "               \"model__class_weight\",\"model__min_samples_split\"]\n",
    "\n",
    "# definition of an individual & a population\n",
    "toolbox.register(\"model__n_estimators\", randint.rvs, 5, 200)\n",
    "toolbox.register(\"model__criterion\", random.choice, [\"gini\", \"entropy\"])\n",
    "toolbox.register(\"model__class_weight\", random.choice, [\"balanced\",\"balanced_subsample\"])\n",
    "toolbox.register(\"model__min_samples_split\", truncnorm.rvs, 0, 0.5, 0.005, 0.01)\n",
    "\n",
    "# Define genes of individuals\n",
    "toolbox.register(\n",
    "    \"individual\",\n",
    "    tools.initCycle,\n",
    "    creator.Individual,\n",
    "    (\n",
    "        toolbox.model__n_estimators,\n",
    "        toolbox.model__criterion,\n",
    "        toolbox.model__class_weight,\n",
    "        toolbox.model__min_samples_split,\n",
    "    ),\n",
    ")\n",
    "toolbox.register(\"population\", tools.initRepeat, list, toolbox.individual)"
   ]
  },
  {
   "cell_type": "code",
   "execution_count": 19,
   "id": "cc26c4bf-7483-40ec-a346-7cefc4203f16",
   "metadata": {},
   "outputs": [],
   "source": [
    "def mutPolynomialBoundedMix(individual, eta, low, up, is_int, indpb, discrete_params):\n",
    "    \n",
    "    for i in range(len(individual)):\n",
    "        if discrete_params[i]:\n",
    "            if random.random() < indpb:\n",
    "                individual[i] = random.choice(discrete_params[i])\n",
    "        else:\n",
    "            individual[i] = tools.mutPolynomialBounded([individual[i]], \n",
    "                                                        eta[i], low[i], up[i], indpb)[0][0]\n",
    "        \n",
    "        if is_int[i]:\n",
    "            individual[i] = int(individual[i])\n",
    "\n",
    "    return individual,"
   ]
  },
  {
   "cell_type": "code",
   "execution_count": 20,
   "id": "e6069251-f7d0-4afe-98bc-aa81b8844385",
   "metadata": {},
   "outputs": [],
   "source": [
    "# selection strategy\n",
    "toolbox.register(\"select\", tools.selTournament, tournsize=3)\n",
    "# crossover strategy\n",
    "toolbox.register(\"mate\", tools.cxUniform, indpb=CXPB)\n",
    "# mutation strategy\n",
    "toolbox.register(\"mutate\", mutPolynomialBoundedMix, \n",
    "                 eta = [0.1,None,None,0.1], \n",
    "                 low = [5,None,None,0], \n",
    "                 up = [200,None,None,1],\n",
    "                 is_int = [True,False,False,False],\n",
    "                 indpb=MUTPB,\n",
    "                 discrete_params=[[],[\"gini\", \"entropy\"],[\"balanced\",\"balanced_subsample\"],[]]\n",
    "                )"
   ]
  },
  {
   "cell_type": "code",
   "execution_count": 21,
   "id": "8d45f666-0e20-4de1-b801-f5749554873d",
   "metadata": {},
   "outputs": [],
   "source": [
    "def evaluate(individual):\n",
    "    # convert list of parameter values into dictionary of kwargs\n",
    "    strategy_params = {k: v for k, v in zip(PARAM_NAMES, individual)}\n",
    "    \n",
    "    if strategy_params['model__min_samples_split'] > 1 or strategy_params['model__min_samples_split'] <= 0:\n",
    "        return [-np.inf]\n",
    "    \n",
    "    tuned_pipe = clone(pipe).set_params(**strategy_params)\n",
    "\n",
    "    return [np.mean(cross_val_score(tuned_pipe,X_train_full, y_train, \n",
    "                                  cv=5, scoring='f1',\n",
    "                                  # n_jobs=-1,\n",
    "                                  )\n",
    "                     )]\n",
    "\n",
    "# fitness function\n",
    "toolbox.register(\"evaluate\", evaluate)"
   ]
  },
  {
   "cell_type": "code",
   "execution_count": 22,
   "id": "e7edc919-1b02-4de0-ad21-3dee0560f41c",
   "metadata": {},
   "outputs": [],
   "source": [
    "# use parallel processing\n",
    "pool = multiprocessing.Pool(16)\n",
    "toolbox.register(\"map\", pool.map)"
   ]
  },
  {
   "cell_type": "code",
   "execution_count": 23,
   "id": "686a4b4d-6a3c-4db8-8bfe-d844a47c2fbc",
   "metadata": {},
   "outputs": [
    {
     "name": "stdout",
     "output_type": "stream",
     "text": [
      "HALL OF FAME:\n",
      "    0: [50, 'gini', 'balanced', 0.00016713543794360727], Fitness: 0.5630748100616518\n",
      "    1: [69, 'entropy', 'balanced', 0.005165018060614889], Fitness: 0.5626539895920162\n",
      "    2: [159, 'entropy', 'balanced_subsample', 0.005287641575458836], Fitness: 0.5612444342034152\n",
      "HALL OF FAME:\n",
      "    0: [37, 'entropy', 'balanced', 0.005165018060614889], Fitness: 0.5634679627435212\n",
      "    1: [50, 'gini', 'balanced', 0.00016713543794360727], Fitness: 0.5630748100616518\n",
      "    2: [69, 'entropy', 'balanced', 0.005165018060614889], Fitness: 0.5626539895920162\n",
      "HALL OF FAME:\n",
      "    0: [101, 'gini', 'balanced', 0.0046173403145286784], Fitness: 0.5649412614403753\n",
      "    1: [50, 'entropy', 'balanced', 0.005165018060614889], Fitness: 0.5637688628957274\n",
      "    2: [37, 'entropy', 'balanced', 0.005165018060614889], Fitness: 0.5634679627435212\n",
      "HALL OF FAME:\n",
      "    0: [50, 'entropy', 'balanced', 0.00016713543794360727], Fitness: 0.5721237141951832\n",
      "    1: [37, 'entropy', 'balanced', 0.00016713543794360727], Fitness: 0.5710936539683003\n",
      "    2: [101, 'gini', 'balanced', 0.0046173403145286784], Fitness: 0.5649412614403753\n",
      "HALL OF FAME:\n",
      "    0: [101, 'entropy', 'balanced', 0.0015998829144288351], Fitness: 0.5966184583230332\n",
      "    1: [99, 'entropy', 'balanced', 0.00016713543794360727], Fitness: 0.5785252485522742\n",
      "    2: [50, 'entropy', 'balanced_subsample', 0.00016713543794360727], Fitness: 0.57424704610278\n",
      "HALL OF FAME:\n",
      "    0: [101, 'entropy', 'balanced', 0.0015998829144288351], Fitness: 0.5966184583230332\n",
      "    1: [99, 'entropy', 'balanced', 0.00016713543794360727], Fitness: 0.5785252485522742\n",
      "    2: [69, 'entropy', 'balanced', 0.00016713543794360727], Fitness: 0.5753821177634117\n",
      "HALL OF FAME:\n",
      "    0: [101, 'entropy', 'balanced', 0.0015998829144288351], Fitness: 0.5966184583230332\n",
      "    1: [50, 'entropy', 'balanced', 0.0015998829144288351], Fitness: 0.5950630603442877\n",
      "    2: [37, 'entropy', 'balanced', 0.0015998829144288351], Fitness: 0.5943626408413508\n",
      "HALL OF FAME:\n",
      "    0: [101, 'entropy', 'balanced_subsample', 0.0014776033037935676], Fitness: 0.5985559227258944\n",
      "    1: [101, 'entropy', 'balanced', 0.0015998829144288351], Fitness: 0.5966184583230332\n",
      "    2: [99, 'entropy', 'balanced', 0.0015998829144288351], Fitness: 0.5966005220059987\n",
      "HALL OF FAME:\n",
      "    0: [50, 'entropy', 'balanced', 0.0013983313450064705], Fitness: 0.5995534363211359\n",
      "    1: [101, 'entropy', 'balanced_subsample', 0.0014776033037935676], Fitness: 0.5985559227258944\n",
      "    2: [101, 'entropy', 'balanced', 0.0015998829144288351], Fitness: 0.5966184583230332\n",
      "HALL OF FAME:\n",
      "    0: [101, 'gini', 'balanced_subsample', 0.0008696020449364961], Fitness: 0.6110674535524843\n",
      "    1: [50, 'entropy', 'balanced', 0.0013983313450064705], Fitness: 0.5995534363211359\n",
      "    2: [101, 'entropy', 'balanced', 0.0013983313450064705], Fitness: 0.5992812286100175\n",
      "HALL OF FAME:\n",
      "    0: [101, 'entropy', 'balanced_subsample', 0.0008696020449364961], Fitness: 0.6138497510093138\n",
      "    1: [101, 'gini', 'balanced_subsample', 0.0008696020449364961], Fitness: 0.6110674535524843\n",
      "    2: [101, 'entropy', 'balanced_subsample', 0.0013788529382182946], Fitness: 0.5996536086574458\n",
      "HALL OF FAME:\n",
      "    0: [101, 'entropy', 'balanced', 0.0007106340458649385], Fitness: 0.6153846490255044\n",
      "    1: [101, 'entropy', 'balanced_subsample', 0.0008696020449364961], Fitness: 0.6138497510093138\n",
      "    2: [101, 'entropy', 'balanced', 0.0008696020449364961], Fitness: 0.6128680560910169\n",
      "HALL OF FAME:\n",
      "    0: [101, 'entropy', 'balanced', 0.0007106340458649385], Fitness: 0.6153846490255044\n",
      "    1: [101, 'entropy', 'balanced_subsample', 0.0008696020449364961], Fitness: 0.6138497510093138\n",
      "    2: [101, 'entropy', 'balanced_subsample', 0.0007106340458649385], Fitness: 0.6135000477596455\n",
      "HALL OF FAME:\n",
      "    0: [101, 'entropy', 'balanced', 0.0007106340458649385], Fitness: 0.6153846490255044\n",
      "    1: [101, 'entropy', 'balanced_subsample', 0.0008696020449364961], Fitness: 0.6138497510093138\n",
      "    2: [101, 'entropy', 'balanced_subsample', 0.0007106340458649385], Fitness: 0.6135000477596455\n",
      "HALL OF FAME:\n",
      "    0: [101, 'entropy', 'balanced', 0.0007106340458649385], Fitness: 0.6153846490255044\n",
      "    1: [101, 'entropy', 'balanced_subsample', 0.0008696020449364961], Fitness: 0.6138497510093138\n",
      "    2: [101, 'entropy', 'balanced_subsample', 0.0007106340458649385], Fitness: 0.6135000477596455\n"
     ]
    }
   ],
   "source": [
    "mean = np.ndarray(NGEN)\n",
    "best = np.ndarray(NGEN)\n",
    "hall_of_fame = tools.HallOfFame(maxsize=3)\n",
    "\n",
    "t = time.perf_counter()\n",
    "pop = toolbox.population(n=NPOP)\n",
    "for g in range(NGEN):\n",
    "    # Select the next generation individuals\n",
    "    offspring = toolbox.select(pop, len(pop))\n",
    "    # Clone the selected individuals\n",
    "    offspring = list(map(toolbox.clone, offspring))\n",
    "\n",
    "    # Apply crossover on the offspring\n",
    "    for child1, child2 in zip(offspring[::2], offspring[1::2]):\n",
    "        if random.random() < CXPB:\n",
    "            toolbox.mate(child1, child2)\n",
    "            del child1.fitness.values\n",
    "            del child2.fitness.values\n",
    "\n",
    "    # Apply mutation on the offspring\n",
    "    for mutant in offspring:\n",
    "        if random.random() < MUTPB:\n",
    "            toolbox.mutate(mutant)\n",
    "            del mutant.fitness.values\n",
    "\n",
    "    # Evaluate the individuals with an invalid fitness\n",
    "    invalid_ind = [ind for ind in offspring if not ind.fitness.valid]\n",
    "    fitnesses = toolbox.map(toolbox.evaluate, invalid_ind)\n",
    "    for ind, fit in zip(invalid_ind, fitnesses):\n",
    "        ind.fitness.values = fit\n",
    "\n",
    "    # The population is entirely replaced by the offspring\n",
    "    pop[:] = offspring\n",
    "    hall_of_fame.update(pop)\n",
    "    print(\n",
    "        \"HALL OF FAME:\\n\"\n",
    "        + \"\\n\".join(\n",
    "            [\n",
    "                f\"    {_}: {ind}, Fitness: {ind.fitness.values[0]}\"\n",
    "                for _, ind in enumerate(hall_of_fame)\n",
    "            ]\n",
    "        )\n",
    "    )\n",
    "\n",
    "    fitnesses = [\n",
    "        ind.fitness.values[0] for ind in pop if not np.isinf(ind.fitness.values[0])\n",
    "    ]\n",
    "    mean[g] = np.mean(fitnesses)\n",
    "    best[g] = np.max(fitnesses)"
   ]
  },
  {
   "cell_type": "code",
   "execution_count": 24,
   "id": "261913f4-4bd2-4d1c-a0fd-ce21c634754b",
   "metadata": {},
   "outputs": [
    {
     "data": {
      "text/plain": [
       "{'model__n_estimators': 101,\n",
       " 'model__criterion': 'entropy',\n",
       " 'model__class_weight': 'balanced',\n",
       " 'model__min_samples_split': 0.0007106340458649385}"
      ]
     },
     "execution_count": 24,
     "metadata": {},
     "output_type": "execute_result"
    }
   ],
   "source": [
    "params = {}\n",
    "for idx_hof, param_name in enumerate(PARAM_NAMES):\n",
    "    params[param_name] = hall_of_fame[0][idx_hof]\n",
    "    \n",
    "params"
   ]
  },
  {
   "cell_type": "code",
   "execution_count": 25,
   "id": "baef7ea3-f644-4883-9630-9c53de855b4c",
   "metadata": {},
   "outputs": [
    {
     "data": {
      "image/png": "[encoded data removed]",
      "text/plain": [
       "<Figure size 576x432 with 1 Axes>"
      ]
     },
     "metadata": {},
     "output_type": "display_data"
    }
   ],
   "source": [
    "fig, ax = plt.subplots(sharex=True, figsize=(8, 6))\n",
    "\n",
    "sns.lineplot(x=range(NGEN), y=mean, ax=ax, label=\"Average Fitness Score\")\n",
    "sns.lineplot(x=range(NGEN), y=best, ax=ax, label=\"Best Fitness Score\")\n",
    "ax.set_title(\"Fitness Score\",size=20)\n",
    "ax.set_xticks(range(NGEN))\n",
    "ax.set_xlabel(\"Iteration\")\n",
    "plt.tight_layout()\n",
    "plt.show()"
   ]
  },
  {
   "cell_type": "code",
   "execution_count": 26,
   "id": "873b93e0-4d0a-4342-8afe-9c845f860db2",
   "metadata": {},
   "outputs": [
    {
     "name": "stdout",
     "output_type": "stream",
     "text": [
      "0.608187134502924\n"
     ]
    }
   ],
   "source": [
    "tuned_pipe = clone(pipe).set_params(**params)\n",
    "\n",
    "# Fit the pipeline on train data \n",
    "tuned_pipe.fit(X_train_full,y_train)\n",
    "\n",
    "# Evaluate on the test data \n",
    "y_pred = tuned_pipe.predict(X_test_full)\n",
    "print(f1_score(y_test, y_pred))"
   ]
  },
  {
   "cell_type": "markdown",
   "id": "ff22197c-156d-4049-9a1f-02afe3caf037",
   "metadata": {},
   "source": [
    "## Particle Swarm Optimization"
   ]
  },
  {
   "cell_type": "code",
   "execution_count": 27,
   "id": "0e8f77f4-61a8-47ba-90c3-8518bc8a672c",
   "metadata": {},
   "outputs": [
    {
     "name": "stdout",
     "output_type": "stream",
     "text": [
      "<class 'pandas.core.frame.DataFrame'>\n",
      "RangeIndex: 45211 entries, 0 to 45210\n",
      "Data columns (total 17 columns):\n",
      " #   Column     Non-Null Count  Dtype \n",
      "---  ------     --------------  ----- \n",
      " 0   age        45211 non-null  int64 \n",
      " 1   job        45211 non-null  object\n",
      " 2   marital    45211 non-null  object\n",
      " 3   education  45211 non-null  object\n",
      " 4   default    45211 non-null  object\n",
      " 5   balance    45211 non-null  int64 \n",
      " 6   housing    45211 non-null  object\n",
      " 7   loan       45211 non-null  object\n",
      " 8   contact    45211 non-null  object\n",
      " 9   day        45211 non-null  int64 \n",
      " 10  month      45211 non-null  object\n",
      " 11  duration   45211 non-null  int64 \n",
      " 12  campaign   45211 non-null  int64 \n",
      " 13  pdays      45211 non-null  int64 \n",
      " 14  previous   45211 non-null  int64 \n",
      " 15  poutcome   45211 non-null  object\n",
      " 16  y          45211 non-null  object\n",
      "dtypes: int64(7), object(10)\n",
      "memory usage: 5.9+ MB\n"
     ]
    }
   ],
   "source": [
    "df = pd.read_csv(\"train.csv\",sep=\";\")\n",
    "df.info()"
   ]
  },
  {
   "cell_type": "markdown",
   "id": "92f92b51-f8fe-4a47-a630-87fa6cf4b0f5",
   "metadata": {},
   "source": [
    "Convert the target variable to integer"
   ]
  },
  {
   "cell_type": "code",
   "execution_count": 28,
   "id": "c16ea4fb-ae39-414b-b9e0-828ef5b9b152",
   "metadata": {},
   "outputs": [],
   "source": [
    "df['y'] = df['y'].map({'yes':1,'no':0})"
   ]
  },
  {
   "cell_type": "markdown",
   "id": "9a9f3d09-e401-4be3-a934-b6d162251208",
   "metadata": {},
   "source": [
    "Split full data into train and test data"
   ]
  },
  {
   "cell_type": "code",
   "execution_count": 29,
   "id": "4b8ec4cd-091d-4088-83a0-fa498c58a4e8",
   "metadata": {},
   "outputs": [],
   "source": [
    "df_train, df_test = train_test_split(df, test_size=0.1, random_state=0) "
   ]
  },
  {
   "cell_type": "markdown",
   "id": "796c602a-6e8d-4e70-9a8b-ee3081ba4915",
   "metadata": {},
   "source": [
    "Get list of numerical features"
   ]
  },
  {
   "cell_type": "code",
   "execution_count": 30,
   "id": "b7d2db2f-217e-4ea3-a228-3bba99ad5412",
   "metadata": {},
   "outputs": [],
   "source": [
    "numerical_feats = list(df_train.drop(columns='y').select_dtypes(include=np.number).columns)"
   ]
  },
  {
   "cell_type": "markdown",
   "id": "125ca0e6-2a63-49f5-879e-268ae7357952",
   "metadata": {},
   "source": [
    "Get list of categorical features"
   ]
  },
  {
   "cell_type": "code",
   "execution_count": 31,
   "id": "76f5c6d3-634d-44b7-90a0-c8e253898cb1",
   "metadata": {},
   "outputs": [],
   "source": [
    "categorical_feats = list(df_train.drop(columns='y').select_dtypes(exclude=np.number).columns)"
   ]
  },
  {
   "cell_type": "markdown",
   "id": "34eccb55-4c39-4e2f-b01f-4196da64c614",
   "metadata": {},
   "source": [
    "Initiate the preprocessors"
   ]
  },
  {
   "cell_type": "code",
   "execution_count": 32,
   "id": "a2c500d3-a15d-40b3-8b8d-f5497d9babca",
   "metadata": {},
   "outputs": [],
   "source": [
    "# Initiate the Normalization Pre-processing for Numerical Features\n",
    "numeric_preprocessor = StandardScaler()\n",
    "\n",
    "# Initiate the One-Hot-Encoding Pre-processing for Categorical Features\n",
    "categorical_preprocessor = OneHotEncoder(handle_unknown=\"ignore\")"
   ]
  },
  {
   "cell_type": "markdown",
   "id": "e52ed2b3-dc5c-4b34-a20e-8af48f3ff1af",
   "metadata": {},
   "source": [
    "Create the ColumnTransformer Class to delegate each preprocessor to the corresponding features"
   ]
  },
  {
   "cell_type": "code",
   "execution_count": 33,
   "id": "56df6cf6-d412-4762-b2c1-bc9409b8ab82",
   "metadata": {},
   "outputs": [],
   "source": [
    "preprocessor = ColumnTransformer(\n",
    "    transformers=[\n",
    "        (\"num\", numeric_preprocessor, numerical_feats),\n",
    "        (\"cat\", categorical_preprocessor, categorical_feats),\n",
    "    ]\n",
    ")"
   ]
  },
  {
   "cell_type": "markdown",
   "id": "465c6ec7-48fd-4435-8433-ff1278484d7b",
   "metadata": {},
   "source": [
    "Create a Pipeline of preprocessor and model"
   ]
  },
  {
   "cell_type": "code",
   "execution_count": 34,
   "id": "fe867050-031d-46c0-837a-3ce8e1f78fbe",
   "metadata": {},
   "outputs": [],
   "source": [
    "pipe = Pipeline(\n",
    "    steps=[(\"preprocessor\", preprocessor), \n",
    "           (\"model\", RandomForestClassifier(random_state=0))]\n",
    ")"
   ]
  },
  {
   "cell_type": "markdown",
   "id": "48854815-d989-4fef-9eed-aa3c7deb10bc",
   "metadata": {},
   "source": [
    "Get all features from the train data"
   ]
  },
  {
   "cell_type": "code",
   "execution_count": 35,
   "id": "42c485e3-222c-4c36-afe9-c4ed7593cc81",
   "metadata": {},
   "outputs": [
    {
     "name": "stdout",
     "output_type": "stream",
     "text": [
      "<class 'pandas.core.frame.DataFrame'>\n",
      "Int64Index: 40689 entries, 17974 to 2732\n",
      "Data columns (total 16 columns):\n",
      " #   Column     Non-Null Count  Dtype \n",
      "---  ------     --------------  ----- \n",
      " 0   age        40689 non-null  int64 \n",
      " 1   job        40689 non-null  object\n",
      " 2   marital    40689 non-null  object\n",
      " 3   education  40689 non-null  object\n",
      " 4   default    40689 non-null  object\n",
      " 5   balance    40689 non-null  int64 \n",
      " 6   housing    40689 non-null  object\n",
      " 7   loan       40689 non-null  object\n",
      " 8   contact    40689 non-null  object\n",
      " 9   day        40689 non-null  int64 \n",
      " 10  month      40689 non-null  object\n",
      " 11  duration   40689 non-null  int64 \n",
      " 12  campaign   40689 non-null  int64 \n",
      " 13  pdays      40689 non-null  int64 \n",
      " 14  previous   40689 non-null  int64 \n",
      " 15  poutcome   40689 non-null  object\n",
      "dtypes: int64(7), object(9)\n",
      "memory usage: 5.3+ MB\n"
     ]
    }
   ],
   "source": [
    "X_train_full = df_train.drop(columns=['y'])\n",
    "y_train = df_train['y']\n",
    "\n",
    "X_train_full.info()"
   ]
  },
  {
   "cell_type": "markdown",
   "id": "3b05d22a-b24a-4757-87fa-4e2094a18316",
   "metadata": {},
   "source": [
    "Get all features from the test data"
   ]
  },
  {
   "cell_type": "code",
   "execution_count": 36,
   "id": "bd59807f-101c-429b-9c9a-b5f7053249f9",
   "metadata": {},
   "outputs": [
    {
     "name": "stdout",
     "output_type": "stream",
     "text": [
      "<class 'pandas.core.frame.DataFrame'>\n",
      "Int64Index: 4522 entries, 14001 to 25978\n",
      "Data columns (total 16 columns):\n",
      " #   Column     Non-Null Count  Dtype \n",
      "---  ------     --------------  ----- \n",
      " 0   age        4522 non-null   int64 \n",
      " 1   job        4522 non-null   object\n",
      " 2   marital    4522 non-null   object\n",
      " 3   education  4522 non-null   object\n",
      " 4   default    4522 non-null   object\n",
      " 5   balance    4522 non-null   int64 \n",
      " 6   housing    4522 non-null   object\n",
      " 7   loan       4522 non-null   object\n",
      " 8   contact    4522 non-null   object\n",
      " 9   day        4522 non-null   int64 \n",
      " 10  month      4522 non-null   object\n",
      " 11  duration   4522 non-null   int64 \n",
      " 12  campaign   4522 non-null   int64 \n",
      " 13  pdays      4522 non-null   int64 \n",
      " 14  previous   4522 non-null   int64 \n",
      " 15  poutcome   4522 non-null   object\n",
      "dtypes: int64(7), object(9)\n",
      "memory usage: 600.6+ KB\n"
     ]
    }
   ],
   "source": [
    "X_test_full = df_test.drop(columns=['y'])\n",
    "y_test = df_test['y']\n",
    "\n",
    "X_test_full.info()"
   ]
  },
  {
   "cell_type": "markdown",
   "id": "0cffffae-5942-413e-8724-3bd243eda96b",
   "metadata": {},
   "source": [
    "Calculate F1-Score on Test Data without Hyperparameter Tuning"
   ]
  },
  {
   "cell_type": "code",
   "execution_count": 37,
   "id": "6ddbf20f-31b9-43ce-99fb-348785701321",
   "metadata": {
    "tags": []
   },
   "outputs": [
    {
     "name": "stdout",
     "output_type": "stream",
     "text": [
      "0.5164319248826291\n"
     ]
    }
   ],
   "source": [
    "# Fit the pipeline on train data \n",
    "pipe.fit(X_train_full,y_train)\n",
    "\n",
    "# Evaluate on the test data \n",
    "y_pred = pipe.predict(X_test_full)\n",
    "print(f1_score(y_test, y_pred))"
   ]
  },
  {
   "cell_type": "code",
   "execution_count": 38,
   "id": "df3af0f8-881b-4a08-9fd6-657d873d41aa",
   "metadata": {},
   "outputs": [],
   "source": [
    "# PSO Parameters\n",
    "N = 50\n",
    "w = 0.5\n",
    "c1 = 0.3\n",
    "c2 = 0.5\n",
    "num_trials = 15"
   ]
  },
  {
   "cell_type": "code",
   "execution_count": 39,
   "id": "0da2e128-48c8-4ad3-8764-aa11503e133f",
   "metadata": {},
   "outputs": [
    {
     "name": "stderr",
     "output_type": "stream",
     "text": [
      "/home/louisowen6/miniconda3/lib/python3.7/site-packages/deap/creator.py:141: RuntimeWarning: A class named 'FitnessMax' has already been created and it will be overwritten. Consider deleting previous creation of that class or rename it.\n",
      "  RuntimeWarning)\n"
     ]
    }
   ],
   "source": [
    "# fix the seed for reproducibility\n",
    "# feel free to change it or comment out the line\n",
    "random.seed(1)\n",
    "\n",
    "# our fitness score is supposed to be maximised and there is only 1 objective\n",
    "creator.create(\"FitnessMax\", base.Fitness, weights=(1.0,))\n",
    "\n",
    "# our individual is a list of genes, with the fitness score the higher the better\n",
    "creator.create(\"Particle\", list, fitness=creator.FitnessMax,\n",
    "               speed=list, smin=list, smax=list, best=None)"
   ]
  },
  {
   "cell_type": "code",
   "execution_count": 40,
   "id": "bf3f6a04-9a9a-4104-89f7-e8e4227277bd",
   "metadata": {},
   "outputs": [],
   "source": [
    "# Intialize toolbox\n",
    "toolbox = base.Toolbox()"
   ]
  },
  {
   "cell_type": "code",
   "execution_count": 41,
   "id": "9968105b-b11e-4e48-9def-7dd68e16d557",
   "metadata": {},
   "outputs": [],
   "source": [
    "# Hyperparameters Definition\n",
    "PARAM_NAMES = [\"model__n_estimators\",\"model__criterion\",\n",
    "               \"model__class_weight\",\"model__min_samples_split\"]\n",
    "\n",
    "# definition of an individual & a population\n",
    "toolbox.register(\"model__n_estimators\", randint.rvs, 5, 200)\n",
    "toolbox.register(\"model__criterion\", random.choice, [0,1])\n",
    "toolbox.register(\"model__class_weight\", random.choice, [0,1])\n",
    "toolbox.register(\"model__min_samples_split\", truncnorm.rvs, 0, 0.5, 0.005, 0.01)"
   ]
  },
  {
   "cell_type": "code",
   "execution_count": 42,
   "id": "8048f115-2d65-4476-a29d-8f312b085f65",
   "metadata": {},
   "outputs": [],
   "source": [
    "def generate(speed_bound):\n",
    "    part = tools.initCycle(creator.Particle,\n",
    "                           [toolbox.model__n_estimators,\n",
    "                            toolbox.model__criterion,\n",
    "                            toolbox.model__class_weight,\n",
    "                            toolbox.model__min_samples_split,\n",
    "                           ]\n",
    "                          )\n",
    "    part.speed = [random.uniform(speed_bound[i]['smin'], speed_bound[i]['smax']) for i in range(len(part))]\n",
    "    part.smin = [speed_bound[i]['smin'] for i in range(len(part))]\n",
    "    part.smax = [speed_bound[i]['smax'] for i in range(len(part))]\n",
    "    return part\n",
    "\n",
    "\n",
    "# Define genes of particles\n",
    "toolbox.register(\"particle\", generate, \n",
    "                 speed_bound=[{'smin': -2.5,'smax': 2.5},\n",
    "                              {'smin': -1,'smax': 1},\n",
    "                              {'smin': -1,'smax': 1},\n",
    "                              {'smin': -0.001,'smax': 0.001}])\n",
    "toolbox.register(\"population\", tools.initRepeat, list, toolbox.particle)"
   ]
  },
  {
   "cell_type": "code",
   "execution_count": 43,
   "id": "d8146cd9-72c1-4148-8c98-e882efabd419",
   "metadata": {},
   "outputs": [],
   "source": [
    "def updateParticle(part, best, c1, c2, w, is_int):\n",
    "    w = [w for _ in range(len(part))]\n",
    "    u1 = (random.uniform(0, 1)*c1 for _ in range(len(part)))\n",
    "    u2 = (random.uniform(0, 1)*c2 for _ in range(len(part)))\n",
    "    v_u1 = map(operator.mul, u1, map(operator.sub, part.best, part))\n",
    "    v_u2 = map(operator.mul, u2, map(operator.sub, best, part))\n",
    "    part.speed = list(map(operator.add, map(operator.mul, w, part.speed), map(operator.add, v_u1, v_u2)))\n",
    "    for i, speed in enumerate(part.speed):\n",
    "        if abs(speed) < part.smin[i]:\n",
    "            part.speed[i] = math.copysign(part.smin[i], speed)\n",
    "        elif abs(speed) > part.smax[i]:\n",
    "            part.speed[i] = math.copysign(part.smax[i], speed)\n",
    "    part[:] = list(map(operator.add, part, part.speed))\n",
    "    \n",
    "    for i, pos in enumerate(part):\n",
    "        if is_int[i]:\n",
    "            part[i] = int(pos)\n",
    "\n",
    "# Update strategy\n",
    "toolbox.register(\"update\", updateParticle, c1=c1, c2=c2, w=w,\n",
    "                is_int=[True,True,True,False]\n",
    "                )"
   ]
  },
  {
   "cell_type": "code",
   "execution_count": 44,
   "id": "06ecdaaa-27f0-4833-8d0b-89d688be23ce",
   "metadata": {},
   "outputs": [],
   "source": [
    "def evaluate(particle):\n",
    "    # convert list of parameter values into dictionary of kwargs\n",
    "    strategy_params = {k: v for k, v in zip(PARAM_NAMES, particle)}\n",
    "    strategy_params[\"model__criterion\"] = \"gini\" if strategy_params[\"model__criterion\"]==0 else \"entropy\"\n",
    "    strategy_params[\"model__class_weight\"] = \"balanced\" if strategy_params[\"model__class_weight\"]==0 else \"balanced_subsample\"\n",
    "    \n",
    "    if strategy_params['model__min_samples_split'] > 1 or strategy_params['model__min_samples_split'] <= 0:\n",
    "        return [-np.inf]\n",
    "    \n",
    "    tuned_pipe = clone(pipe).set_params(**strategy_params)\n",
    "\n",
    "    return [np.mean(cross_val_score(tuned_pipe,X_train_full, y_train, \n",
    "                                  cv=5, scoring='f1',\n",
    "                                  # n_jobs=-1,\n",
    "                                  )\n",
    "                     )]\n",
    "\n",
    "# fitness function\n",
    "toolbox.register(\"evaluate\", evaluate)"
   ]
  },
  {
   "cell_type": "code",
   "execution_count": 45,
   "id": "bf564e10-abba-4638-9c5f-d08dfeb23a16",
   "metadata": {
    "tags": []
   },
   "outputs": [],
   "source": [
    "# use parallel processing\n",
    "pool = multiprocessing.Pool(16)\n",
    "toolbox.register(\"map\", pool.map)"
   ]
  },
  {
   "cell_type": "code",
   "execution_count": 46,
   "id": "03fc8098-ed63-4fd0-8255-fea9bca2cc7c",
   "metadata": {},
   "outputs": [
    {
     "name": "stdout",
     "output_type": "stream",
     "text": [
      "HALL OF FAME:\n",
      "    0: [121, 1, 0, 0.005619500683203336], Fitness: 0.5628845621159831\n",
      "    1: [186, 1, 0, 0.00533012918107986], Fitness: 0.5619211920868749\n",
      "    2: [82, 0, 0, 0.005079700005193703], Fitness: 0.5613394162122021\n",
      "HALL OF FAME:\n",
      "    0: [127, 1, 0, 0.0045968790714956504], Fitness: 0.5661543056256575\n",
      "    1: [121, 1, 0, 0.005619500683203336], Fitness: 0.5628845621159831\n",
      "    2: [84, 0, 0, 0.004810306588745517], Fitness: 0.5626400244792442\n",
      "HALL OF FAME:\n",
      "    0: [127, 1, 0, 0.0045968790714956504], Fitness: 0.5661543056256575\n",
      "    1: [127, 1, 0, 0.004542621873018485], Fitness: 0.5638111660936532\n",
      "    2: [186, 0, 0, 0.004652821867083171], Fitness: 0.5629747808615247\n",
      "HALL OF FAME:\n",
      "    0: [127, 1, 0, 0.0045968790714956504], Fitness: 0.5661543056256575\n",
      "    1: [110, 1, 0, 0.004456056879951871], Fitness: 0.5651443878072117\n",
      "    2: [127, 1, 0, 0.004761936269970986], Fitness: 0.565037760531258\n",
      "HALL OF FAME:\n",
      "    0: [111, 1, 0, 0.004318643882560094], Fitness: 0.5677512797974636\n",
      "    1: [127, 1, 0, 0.0045968790714956504], Fitness: 0.5661543056256575\n",
      "    2: [125, 1, 0, 0.004610356921797236], Fitness: 0.5656200072039307\n",
      "HALL OF FAME:\n",
      "    0: [111, 1, 0, 0.004318643882560094], Fitness: 0.5677512797974636\n",
      "    1: [81, 1, 0, 0.004130410754572497], Fitness: 0.5674043113145799\n",
      "    2: [111, 1, 0, 0.0042694815495949836], Fitness: 0.5669402479758971\n",
      "HALL OF FAME:\n",
      "    0: [82, 1, 0, 0.004054492835708263], Fitness: 0.5687305289787401\n",
      "    1: [111, 1, 0, 0.004318643882560094], Fitness: 0.5677512797974636\n",
      "    2: [81, 1, 0, 0.004130410754572497], Fitness: 0.5674043113145799\n",
      "HALL OF FAME:\n",
      "    0: [82, 1, 0, 0.0040165338762761455], Fitness: 0.5701819087453284\n",
      "    1: [98, 1, 0, 0.0038500943349885994], Fitness: 0.5689581460182109\n",
      "    2: [82, 1, 0, 0.004054492835708263], Fitness: 0.5687305289787401\n",
      "HALL OF FAME:\n",
      "    0: [104, 1, 0, 0.0040881905364245335], Fitness: 0.5702687583000379\n",
      "    1: [82, 1, 0, 0.0040165338762761455], Fitness: 0.5701819087453284\n",
      "    2: [115, 1, 0, 0.004045189706241983], Fitness: 0.5701008810347092\n",
      "HALL OF FAME:\n",
      "    0: [76, 1, 0, 0.0037535770800886164], Fitness: 0.5709419882048397\n",
      "    1: [169, 1, 0, 0.003991035521946968], Fitness: 0.5705532689654159\n",
      "    2: [104, 1, 0, 0.0040881905364245335], Fitness: 0.5702687583000379\n",
      "HALL OF FAME:\n",
      "    0: [76, 1, 0, 0.0037535770800886164], Fitness: 0.5709419882048397\n",
      "    1: [88, 1, 0, 0.003787425611327761], Fitness: 0.5706599262796029\n",
      "    2: [169, 1, 0, 0.003991035521946968], Fitness: 0.5705532689654159\n",
      "HALL OF FAME:\n",
      "    0: [76, 1, 0, 0.0037535770800886164], Fitness: 0.5709419882048397\n",
      "    1: [88, 1, 0, 0.003787425611327761], Fitness: 0.5706599262796029\n",
      "    2: [85, 1, 0, 0.00376656707003631], Fitness: 0.5705937664456733\n",
      "HALL OF FAME:\n",
      "    0: [105, 1, 0, 0.0037026011965357163], Fitness: 0.5712005184672713\n",
      "    1: [76, 1, 0, 0.0037535770800886164], Fitness: 0.5709419882048397\n",
      "    2: [74, 1, 0, 0.0037474502802982276], Fitness: 0.570760328330683\n",
      "HALL OF FAME:\n",
      "    0: [75, 1, 0, 0.0037318859802602422], Fitness: 0.5715198942309154\n",
      "    1: [105, 1, 0, 0.0037026011965357163], Fitness: 0.5712005184672713\n",
      "    2: [91, 1, 0, 0.003819584571759388], Fitness: 0.5710239949299474\n",
      "HALL OF FAME:\n",
      "    0: [75, 1, 0, 0.0037241038302412493], Fitness: 0.5717520183512379\n",
      "    1: [75, 1, 0, 0.0037318859802602422], Fitness: 0.5715198942309154\n",
      "    2: [105, 1, 0, 0.0037026011965357163], Fitness: 0.5712005184672713\n"
     ]
    }
   ],
   "source": [
    "pop = toolbox.population(n=N)\n",
    "mean_arr = np.zeros(num_trials)\n",
    "best_arr = np.zeros(num_trials)\n",
    "hall_of_fame = tools.HallOfFame(maxsize=3)\n",
    "\n",
    "best = None\n",
    "for g in range(num_trials):\n",
    "    fitnesses = toolbox.map(toolbox.evaluate, pop)\n",
    "    for part, fit in zip(pop, fitnesses):\n",
    "        part.fitness.values = fit\n",
    "        \n",
    "        if not part.best or part.fitness.values > part.best.fitness.values:\n",
    "            part.best = creator.Particle(part)\n",
    "            part.best.fitness.values = part.fitness.values\n",
    "        if not best or part.fitness.values > best.fitness.values:\n",
    "            best = creator.Particle(part)\n",
    "            best.fitness.values = part.fitness.values\n",
    "    for part in pop:\n",
    "        toolbox.update(part, best)\n",
    "        \n",
    "    hall_of_fame.update(pop)\n",
    "    print(\n",
    "        \"HALL OF FAME:\\n\"\n",
    "        + \"\\n\".join(\n",
    "            [\n",
    "                f\"    {_}: {ind}, Fitness: {ind.fitness.values[0]}\"\n",
    "                for _, ind in enumerate(hall_of_fame)\n",
    "            ]\n",
    "        )\n",
    "    )\n",
    "    \n",
    "    fitnesses = [\n",
    "        ind.fitness.values[0] for ind in pop if not np.isinf(ind.fitness.values[0])\n",
    "    ]\n",
    "    mean_arr[g] = np.mean(fitnesses)\n",
    "    best_arr[g] = np.max(fitnesses)"
   ]
  },
  {
   "cell_type": "code",
   "execution_count": 47,
   "id": "841e1cad-7a0a-4f51-b688-9c6ca9c03d1e",
   "metadata": {},
   "outputs": [
    {
     "data": {
      "text/plain": [
       "{'model__n_estimators': 75,\n",
       " 'model__criterion': 'entropy',\n",
       " 'model__class_weight': 'balanced',\n",
       " 'model__min_samples_split': 0.0037241038302412493}"
      ]
     },
     "execution_count": 47,
     "metadata": {},
     "output_type": "execute_result"
    }
   ],
   "source": [
    "params = {}\n",
    "for idx_hof, param_name in enumerate(PARAM_NAMES):\n",
    "    if param_name == \"model__criterion\":\n",
    "        params[param_name] = \"gini\" if hall_of_fame[0][idx_hof]==0 else \"entropy\"\n",
    "    elif param_name == \"model__class_weight\":\n",
    "        params[param_name] = \"balanced\" if hall_of_fame[0][idx_hof]==0 else \"balanced_subsample\"\n",
    "    else:\n",
    "        params[param_name] = hall_of_fame[0][idx_hof]\n",
    "    \n",
    "params"
   ]
  },
  {
   "cell_type": "code",
   "execution_count": 48,
   "id": "9d6c2c3c-895b-4f3d-b70e-a619685eaf42",
   "metadata": {},
   "outputs": [
    {
     "data": {
      "image/png": "[encoded data removed]",
      "text/plain": [
       "<Figure size 576x432 with 1 Axes>"
      ]
     },
     "metadata": {},
     "output_type": "display_data"
    }
   ],
   "source": [
    "fig, ax = plt.subplots(sharex=True, figsize=(8, 6))\n",
    "\n",
    "sns.lineplot(x=range(num_trials), y=mean_arr, ax=ax, label=\"Average Fitness Score\")\n",
    "sns.lineplot(x=range(num_trials), y=best_arr, ax=ax, label=\"Best Fitness Score\")\n",
    "ax.set_title(\"Fitness Score\",size=20)\n",
    "ax.set_xticks(range(num_trials))\n",
    "ax.set_xlabel(\"Iteration\")\n",
    "plt.tight_layout()\n",
    "plt.show()"
   ]
  },
  {
   "cell_type": "code",
   "execution_count": 49,
   "id": "f06ade70-4159-402f-9223-da7c0fe2c9bf",
   "metadata": {},
   "outputs": [
    {
     "name": "stdout",
     "output_type": "stream",
     "text": [
      "0.5691747572815534\n"
     ]
    }
   ],
   "source": [
    "tuned_pipe = clone(pipe).set_params(**params)\n",
    "\n",
    "# Fit the pipeline on train data \n",
    "tuned_pipe.fit(X_train_full,y_train)\n",
    "\n",
    "# Evaluate on the test data \n",
    "y_pred = tuned_pipe.predict(X_test_full)\n",
    "print(f1_score(y_test, y_pred))"
   ]
  },
  {
   "cell_type": "markdown",
   "id": "bd9d8b5c-443c-4389-9fae-4a0a873bc8eb",
   "metadata": {},
   "source": [
    "# NNI"
   ]
  },
  {
   "cell_type": "code",
   "execution_count": 1,
   "id": "4587a6dc-8588-4b66-b785-3452d24dcfbe",
   "metadata": {},
   "outputs": [],
   "source": [
    "import pandas as pd\n",
    "import numpy as np\n",
    "from sklearn.compose import ColumnTransformer\n",
    "from sklearn.preprocessing import StandardScaler, OneHotEncoder\n",
    "from sklearn.pipeline import Pipeline\n",
    "from sklearn.model_selection import train_test_split\n",
    "from sklearn.metrics import f1_score\n",
    "from sklearn.base import clone\n",
    "from sklearn.ensemble import RandomForestClassifier\n",
    "\n",
    "from nni.experiment import Experiment"
   ]
  },
  {
   "cell_type": "code",
   "execution_count": 2,
   "id": "115aff77-8109-4bf2-aefc-428cd2ffadee",
   "metadata": {},
   "outputs": [
    {
     "name": "stdout",
     "output_type": "stream",
     "text": [
      "<class 'pandas.core.frame.DataFrame'>\n",
      "RangeIndex: 45211 entries, 0 to 45210\n",
      "Data columns (total 17 columns):\n",
      " #   Column     Non-Null Count  Dtype \n",
      "---  ------     --------------  ----- \n",
      " 0   age        45211 non-null  int64 \n",
      " 1   job        45211 non-null  object\n",
      " 2   marital    45211 non-null  object\n",
      " 3   education  45211 non-null  object\n",
      " 4   default    45211 non-null  object\n",
      " 5   balance    45211 non-null  int64 \n",
      " 6   housing    45211 non-null  object\n",
      " 7   loan       45211 non-null  object\n",
      " 8   contact    45211 non-null  object\n",
      " 9   day        45211 non-null  int64 \n",
      " 10  month      45211 non-null  object\n",
      " 11  duration   45211 non-null  int64 \n",
      " 12  campaign   45211 non-null  int64 \n",
      " 13  pdays      45211 non-null  int64 \n",
      " 14  previous   45211 non-null  int64 \n",
      " 15  poutcome   45211 non-null  object\n",
      " 16  y          45211 non-null  object\n",
      "dtypes: int64(7), object(10)\n",
      "memory usage: 5.9+ MB\n"
     ]
    }
   ],
   "source": [
    "df = pd.read_csv(\"train.csv\",sep=\";\")\n",
    "df.info()"
   ]
  },
  {
   "cell_type": "markdown",
   "id": "71eb34b2-ad88-4207-bb9a-bec72c1dfef0",
   "metadata": {},
   "source": [
    "Convert the target variable to integer"
   ]
  },
  {
   "cell_type": "code",
   "execution_count": 3,
   "id": "a514a271-5180-4a0c-827e-a63e7fcb8957",
   "metadata": {},
   "outputs": [],
   "source": [
    "df['y'] = df['y'].map({'yes':1,'no':0})"
   ]
  },
  {
   "cell_type": "markdown",
   "id": "908069e6-a44a-464d-bfbb-da7ec4fd5b87",
   "metadata": {},
   "source": [
    "Split full data into train and test data"
   ]
  },
  {
   "cell_type": "code",
   "execution_count": 4,
   "id": "1bec34e5-a003-4a96-8834-b9608c65d7ca",
   "metadata": {},
   "outputs": [],
   "source": [
    "df_train, df_test = train_test_split(df, test_size=0.1, random_state=0) "
   ]
  },
  {
   "cell_type": "markdown",
   "id": "77c4ec88-4e8c-4d00-bfda-901ac56e1128",
   "metadata": {},
   "source": [
    "Get list of numerical features"
   ]
  },
  {
   "cell_type": "code",
   "execution_count": 5,
   "id": "0a79fcfa-bc17-4068-b154-5ce0ce632db6",
   "metadata": {},
   "outputs": [],
   "source": [
    "numerical_feats = list(df_train.drop(columns='y').select_dtypes(include=np.number).columns)"
   ]
  },
  {
   "cell_type": "markdown",
   "id": "6aa415df-e15b-4a85-89d9-3758d2f9a2b0",
   "metadata": {},
   "source": [
    "Get list of categorical features"
   ]
  },
  {
   "cell_type": "code",
   "execution_count": 6,
   "id": "26f96cab-bc51-481e-a27b-4f52e6015a50",
   "metadata": {},
   "outputs": [],
   "source": [
    "categorical_feats = list(df_train.drop(columns='y').select_dtypes(exclude=np.number).columns)"
   ]
  },
  {
   "cell_type": "markdown",
   "id": "eab06ae2-d491-43dd-915a-2dfc36410e00",
   "metadata": {},
   "source": [
    "Initiate the preprocessors"
   ]
  },
  {
   "cell_type": "code",
   "execution_count": 7,
   "id": "aec262dc-013f-46dd-a0e8-7e9062919d3c",
   "metadata": {},
   "outputs": [],
   "source": [
    "# Initiate the Normalization Pre-processing for Numerical Features\n",
    "numeric_preprocessor = StandardScaler()\n",
    "\n",
    "# Initiate the One-Hot-Encoding Pre-processing for Categorical Features\n",
    "categorical_preprocessor = OneHotEncoder(handle_unknown=\"ignore\")"
   ]
  },
  {
   "cell_type": "markdown",
   "id": "af23efce-463d-481b-9c4e-6784a2aa40e9",
   "metadata": {},
   "source": [
    "Create the ColumnTransformer Class to delegate each preprocessor to the corresponding features"
   ]
  },
  {
   "cell_type": "code",
   "execution_count": 8,
   "id": "0caf18f2-f927-4fcc-8df6-e3fd6ed3ef6e",
   "metadata": {},
   "outputs": [],
   "source": [
    "preprocessor = ColumnTransformer(\n",
    "    transformers=[\n",
    "        (\"num\", numeric_preprocessor, numerical_feats),\n",
    "        (\"cat\", categorical_preprocessor, categorical_feats),\n",
    "    ]\n",
    ")"
   ]
  },
  {
   "cell_type": "markdown",
   "id": "3cf0fa9b-565a-4df7-8932-1b21a07639d2",
   "metadata": {},
   "source": [
    "Create a Pipeline of preprocessor and model"
   ]
  },
  {
   "cell_type": "code",
   "execution_count": 9,
   "id": "529a8c55-b647-4c63-86fe-90fc94ef31c6",
   "metadata": {},
   "outputs": [],
   "source": [
    "pipe = Pipeline(\n",
    "    steps=[(\"preprocessor\", preprocessor), \n",
    "           (\"model\", RandomForestClassifier(random_state=0))]\n",
    ")"
   ]
  },
  {
   "cell_type": "markdown",
   "id": "2d42143a-2188-4def-89ea-1c389976d03d",
   "metadata": {},
   "source": [
    "Get all features from the train data"
   ]
  },
  {
   "cell_type": "code",
   "execution_count": 10,
   "id": "5c2a40ae-2eb0-4de1-b98d-4c0878850e20",
   "metadata": {},
   "outputs": [
    {
     "name": "stdout",
     "output_type": "stream",
     "text": [
      "<class 'pandas.core.frame.DataFrame'>\n",
      "Int64Index: 40689 entries, 17974 to 2732\n",
      "Data columns (total 16 columns):\n",
      " #   Column     Non-Null Count  Dtype \n",
      "---  ------     --------------  ----- \n",
      " 0   age        40689 non-null  int64 \n",
      " 1   job        40689 non-null  object\n",
      " 2   marital    40689 non-null  object\n",
      " 3   education  40689 non-null  object\n",
      " 4   default    40689 non-null  object\n",
      " 5   balance    40689 non-null  int64 \n",
      " 6   housing    40689 non-null  object\n",
      " 7   loan       40689 non-null  object\n",
      " 8   contact    40689 non-null  object\n",
      " 9   day        40689 non-null  int64 \n",
      " 10  month      40689 non-null  object\n",
      " 11  duration   40689 non-null  int64 \n",
      " 12  campaign   40689 non-null  int64 \n",
      " 13  pdays      40689 non-null  int64 \n",
      " 14  previous   40689 non-null  int64 \n",
      " 15  poutcome   40689 non-null  object\n",
      "dtypes: int64(7), object(9)\n",
      "memory usage: 5.3+ MB\n"
     ]
    }
   ],
   "source": [
    "X_train_full = df_train.drop(columns=['y'])\n",
    "y_train = df_train['y']\n",
    "\n",
    "X_train_full.info()"
   ]
  },
  {
   "cell_type": "markdown",
   "id": "77cc5229-e11b-4d9d-a047-874b387b2ebc",
   "metadata": {},
   "source": [
    "Get all features from the test data"
   ]
  },
  {
   "cell_type": "code",
   "execution_count": 11,
   "id": "31563cb2-2b8d-41a4-aaf8-34b80c53daf1",
   "metadata": {},
   "outputs": [
    {
     "name": "stdout",
     "output_type": "stream",
     "text": [
      "<class 'pandas.core.frame.DataFrame'>\n",
      "Int64Index: 4522 entries, 14001 to 25978\n",
      "Data columns (total 16 columns):\n",
      " #   Column     Non-Null Count  Dtype \n",
      "---  ------     --------------  ----- \n",
      " 0   age        4522 non-null   int64 \n",
      " 1   job        4522 non-null   object\n",
      " 2   marital    4522 non-null   object\n",
      " 3   education  4522 non-null   object\n",
      " 4   default    4522 non-null   object\n",
      " 5   balance    4522 non-null   int64 \n",
      " 6   housing    4522 non-null   object\n",
      " 7   loan       4522 non-null   object\n",
      " 8   contact    4522 non-null   object\n",
      " 9   day        4522 non-null   int64 \n",
      " 10  month      4522 non-null   object\n",
      " 11  duration   4522 non-null   int64 \n",
      " 12  campaign   4522 non-null   int64 \n",
      " 13  pdays      4522 non-null   int64 \n",
      " 14  previous   4522 non-null   int64 \n",
      " 15  poutcome   4522 non-null   object\n",
      "dtypes: int64(7), object(9)\n",
      "memory usage: 600.6+ KB\n"
     ]
    }
   ],
   "source": [
    "X_test_full = df_test.drop(columns=['y'])\n",
    "y_test = df_test['y']\n",
    "\n",
    "X_test_full.info()"
   ]
  },
  {
   "cell_type": "markdown",
   "id": "c7ed6c98-d42e-402e-9d64-8401b019b52c",
   "metadata": {},
   "source": [
    "Define hyperparameter space"
   ]
  },
  {
   "cell_type": "code",
   "execution_count": 12,
   "id": "75d5c5fc-c617-4de4-8285-6cb18b0b589d",
   "metadata": {},
   "outputs": [],
   "source": [
    "hyperparameter_space = { \n",
    "    'model__n_estimators': {'_type': 'randint', '_value': [5, 200]}, \n",
    "    'model__criterion': {'_type': 'choice', '_value': ['gini', 'entropy']}, \n",
    "    'model__class_weight': {'_type': 'choice', '_value': [\"balanced\",\"balanced_subsample\"]}, \n",
    "    'model__min_samples_split': {'_type': 'uniform', '_value': [0, 0.1]}, \n",
    "}  "
   ]
  },
  {
   "cell_type": "code",
   "execution_count": 13,
   "id": "9af82b50-fceb-465b-9832-b983b8b02928",
   "metadata": {},
   "outputs": [],
   "source": [
    "hyperparameter_space_numeric = { \n",
    "    'model__n_estimators': {'_type': 'randint', '_value': [5, 200]}, \n",
    "    'model__criterion': {'_type': 'choice', '_value': [0, 1]}, \n",
    "    'model__class_weight': {'_type': 'choice', '_value': [0, 1]}, \n",
    "    'model__min_samples_split': {'_type': 'uniform', '_value': [0, 0.1]}, \n",
    "}  "
   ]
  },
  {
   "cell_type": "code",
   "execution_count": 14,
   "id": "92b9da55-63e6-431d-9275-95c18327c67a",
   "metadata": {},
   "outputs": [],
   "source": [
    "hyperparameter_space_advisor = { \n",
    "    'model__criterion': {'_type': 'choice', '_value': ['gini', 'entropy']}, \n",
    "    'model__class_weight': {'_type': 'choice', '_value': [\"balanced\",\"balanced_subsample\"]}, \n",
    "    'model__min_samples_split': {'_type': 'uniform', '_value': [0, 0.1]}, \n",
    "}  "
   ]
  },
  {
   "cell_type": "markdown",
   "id": "99bd0506-bf6a-47fd-8728-b6a4aa9ea5a9",
   "metadata": {
    "tags": []
   },
   "source": [
    "## Grid Search"
   ]
  },
  {
   "cell_type": "code",
   "execution_count": 15,
   "id": "e0d39856-3a31-404a-a6d3-05ac1b8451c2",
   "metadata": {},
   "outputs": [],
   "source": [
    "best_parameters = {\n",
    "    \"model__n_estimators\": 27,\n",
    "    \"model__criterion\": \"entropy\",\n",
    "    \"model__class_weight\": \"balanced_subsample\",\n",
    "    \"model__min_samples_split\": 0.05\n",
    "}"
   ]
  },
  {
   "cell_type": "code",
   "execution_count": 16,
   "id": "78f66538-3216-4a1a-9437-bba871ebf471",
   "metadata": {},
   "outputs": [
    {
     "name": "stdout",
     "output_type": "stream",
     "text": [
      "0.5167674546454096\n"
     ]
    }
   ],
   "source": [
    "tuned_pipe = clone(pipe).set_params(**best_parameters)\n",
    "\n",
    "# Fit the pipeline on train data \n",
    "tuned_pipe.fit(X_train_full,y_train)\n",
    "\n",
    "# Evaluate on the test data \n",
    "y_pred = tuned_pipe.predict(X_test_full)\n",
    "print(f1_score(y_test, y_pred))"
   ]
  },
  {
   "cell_type": "markdown",
   "id": "7fcf48f5-83ff-45a9-93ef-7a5beb616c95",
   "metadata": {},
   "source": [
    "## Random Search"
   ]
  },
  {
   "cell_type": "code",
   "execution_count": 17,
   "id": "3d1a4aeb-d8f1-444d-91ad-48eac60eca64",
   "metadata": {},
   "outputs": [],
   "source": [
    "experiment = Experiment('local')\n",
    "\n",
    "experiment.config.experiment_name = 'nni_sklearn_random_search'\n",
    "experiment.config.tuner.name = 'Random'\n",
    "experiment.config.tuner.class_args['seed'] = 0\n",
    "\n",
    "# Boilerplate code\n",
    "experiment.config.trial_command = \"python '/mnt/c/Users/Louis\\ Owen/Desktop/Packt/Hyperparameter-Tuning-with-Python/nni/model.py'\" #please change this to your own local path\n",
    "experiment.config.trial_code_directory = '.'\n",
    "experiment.config.search_space = hyperparameter_space\n",
    "experiment.config.max_trial_number = 100\n",
    "experiment.config.trial_concurrency = 10\n",
    "experiment.config.max_experiment_duration = '1h'"
   ]
  },
  {
   "cell_type": "code",
   "execution_count": 18,
   "id": "17c6773a-3400-4091-bff8-0b51d56309f3",
   "metadata": {},
   "outputs": [
    {
     "name": "stdout",
     "output_type": "stream",
     "text": [
      "[2022-05-30 09:24:35] Creating experiment, Experiment ID: 01ovlyth\n",
      "[2022-05-30 09:24:35] Starting web server...\n",
      "[2022-05-30 09:24:36] Setting up...\n",
      "[2022-05-30 09:24:36] Web portal URLs: http://127.0.0.1:8080 http://172.19.71.163:8080\n"
     ]
    },
    {
     "data": {
      "text/plain": [
       "True"
      ]
     },
     "execution_count": 18,
     "metadata": {},
     "output_type": "execute_result"
    }
   ],
   "source": [
    "experiment.run(8080, wait_completion = True, debug = False)"
   ]
  },
  {
   "cell_type": "code",
   "execution_count": 19,
   "id": "9ed12f99-150f-4f28-a266-1f7d0aaa72a3",
   "metadata": {},
   "outputs": [
    {
     "name": "stdout",
     "output_type": "stream",
     "text": [
      "0.599735399016607 {'model__n_estimators': 194, 'model__criterion': 'entropy', 'model__class_weight': 'balanced_subsample', 'model__min_samples_split': 0.0014706304965369289}\n"
     ]
    }
   ],
   "source": [
    "best_trial = sorted(experiment.export_data(),key = lambda x: x.value, reverse = True)[0]\n",
    "print(best_trial.value, best_trial.parameter)"
   ]
  },
  {
   "cell_type": "code",
   "execution_count": 20,
   "id": "861ba160-c4cf-4aba-aa60-c699f266ea73",
   "metadata": {},
   "outputs": [
    {
     "name": "stdout",
     "output_type": "stream",
     "text": [
      "0.5973333333333333\n"
     ]
    }
   ],
   "source": [
    "tuned_pipe = clone(pipe).set_params(**best_trial.parameter)\n",
    "\n",
    "# Fit the pipeline on train data \n",
    "tuned_pipe.fit(X_train_full,y_train)\n",
    "\n",
    "# Evaluate on the test data \n",
    "y_pred = tuned_pipe.predict(X_test_full)\n",
    "print(f1_score(y_test, y_pred))"
   ]
  },
  {
   "cell_type": "code",
   "execution_count": 21,
   "id": "44c4c5e6-a69d-4348-866a-97c26ecff19f",
   "metadata": {},
   "outputs": [
    {
     "name": "stdout",
     "output_type": "stream",
     "text": [
      "[2022-05-30 09:29:50] Stopping experiment, please wait...\n",
      "[2022-05-30 09:29:52] Experiment stopped\n"
     ]
    }
   ],
   "source": [
    "experiment.stop()"
   ]
  },
  {
   "cell_type": "markdown",
   "id": "53e45c7b-8904-41fa-bcd1-1675ef41e762",
   "metadata": {},
   "source": [
    "## TPE"
   ]
  },
  {
   "cell_type": "code",
   "execution_count": 22,
   "id": "e26cfe00-7e86-4dcd-98b7-68896cc3abc5",
   "metadata": {},
   "outputs": [],
   "source": [
    "experiment = Experiment('local')\n",
    "\n",
    "experiment.config.experiment_name = 'nni_sklearn_tpe'\n",
    "experiment.config.tuner.name = 'TPE'\n",
    "experiment.config.tuner.class_args = {\n",
    "                                    'optimize_mode': 'maximize',\n",
    "                                    'seed': 0\n",
    "                                    }\n",
    "\n",
    "# Boilerplate code\n",
    "experiment.config.trial_command = \"python '/mnt/c/Users/Louis\\ Owen/Desktop/Packt/Hyperparameter-Tuning-with-Python/nni/model.py'\"  #please change this to your own local path\n",
    "experiment.config.trial_code_directory = '.'\n",
    "experiment.config.search_space = hyperparameter_space\n",
    "experiment.config.max_trial_number = 100\n",
    "experiment.config.trial_concurrency = 10\n",
    "experiment.config.max_experiment_duration = '1h'"
   ]
  },
  {
   "cell_type": "code",
   "execution_count": 23,
   "id": "aa10dc35-a903-4064-9858-eea0e85141b4",
   "metadata": {},
   "outputs": [
    {
     "name": "stdout",
     "output_type": "stream",
     "text": [
      "[2022-05-30 09:29:56] Creating experiment, Experiment ID: qg5knida\n",
      "[2022-05-30 09:29:56] Starting web server...\n",
      "[2022-05-30 09:29:56] (urllib3.connectionpool) Starting new HTTP connection (1): localhost:8080\n",
      "[2022-05-30 09:29:57] (urllib3.connectionpool) Starting new HTTP connection (1): localhost:8080\n",
      "[2022-05-30 09:29:57] (urllib3.connectionpool) http://localhost:8080 \"GET /api/v1/nni/check-status HTTP/1.1\" 200 36\n",
      "[2022-05-30 09:29:57] Setting up...\n",
      "[2022-05-30 09:29:57] (urllib3.connectionpool) Starting new HTTP connection (1): localhost:8080\n",
      "[2022-05-30 09:29:57] (urllib3.connectionpool) http://localhost:8080 \"POST /api/v1/nni/experiment HTTP/1.1\" 200 28\n",
      "[2022-05-30 09:29:57] Web portal URLs: http://127.0.0.1:8080 http://172.19.71.163:8080\n",
      "[2022-05-30 09:30:07] (urllib3.connectionpool) Starting new HTTP connection (1): localhost:8080\n",
      "[2022-05-30 09:30:07] (urllib3.connectionpool) http://localhost:8080 \"GET /api/v1/nni/check-status HTTP/1.1\" 200 32\n",
      "[2022-05-30 09:30:17] (urllib3.connectionpool) Starting new HTTP connection (1): localhost:8080\n",
      "[2022-05-30 09:30:17] (urllib3.connectionpool) http://localhost:8080 \"GET /api/v1/nni/check-status HTTP/1.1\" 200 32\n",
      "[2022-05-30 09:30:27] (urllib3.connectionpool) Starting new HTTP connection (1): localhost:8080\n",
      "[2022-05-30 09:30:27] (urllib3.connectionpool) http://localhost:8080 \"GET /api/v1/nni/check-status HTTP/1.1\" 200 32\n",
      "[2022-05-30 09:30:37] (urllib3.connectionpool) Starting new HTTP connection (1): localhost:8080\n",
      "[2022-05-30 09:30:37] (urllib3.connectionpool) http://localhost:8080 \"GET /api/v1/nni/check-status HTTP/1.1\" 200 32\n",
      "[2022-05-30 09:30:47] (urllib3.connectionpool) Starting new HTTP connection (1): localhost:8080\n",
      "[2022-05-30 09:30:47] (urllib3.connectionpool) http://localhost:8080 \"GET /api/v1/nni/check-status HTTP/1.1\" 200 32\n",
      "[2022-05-30 09:30:57] (urllib3.connectionpool) Starting new HTTP connection (1): localhost:8080\n",
      "[2022-05-30 09:30:57] (urllib3.connectionpool) http://localhost:8080 \"GET /api/v1/nni/check-status HTTP/1.1\" 200 32\n",
      "[2022-05-30 09:31:07] (urllib3.connectionpool) Starting new HTTP connection (1): localhost:8080\n",
      "[2022-05-30 09:31:08] (urllib3.connectionpool) http://localhost:8080 \"GET /api/v1/nni/check-status HTTP/1.1\" 200 32\n",
      "[2022-05-30 09:31:18] (urllib3.connectionpool) Starting new HTTP connection (1): localhost:8080\n",
      "[2022-05-30 09:31:18] (urllib3.connectionpool) http://localhost:8080 \"GET /api/v1/nni/check-status HTTP/1.1\" 200 32\n",
      "[2022-05-30 09:31:28] (urllib3.connectionpool) Starting new HTTP connection (1): localhost:8080\n",
      "[2022-05-30 09:31:28] (urllib3.connectionpool) http://localhost:8080 \"GET /api/v1/nni/check-status HTTP/1.1\" 200 32\n",
      "[2022-05-30 09:31:38] (urllib3.connectionpool) Starting new HTTP connection (1): localhost:8080\n",
      "[2022-05-30 09:31:38] (urllib3.connectionpool) http://localhost:8080 \"GET /api/v1/nni/check-status HTTP/1.1\" 200 32\n",
      "[2022-05-30 09:31:48] (urllib3.connectionpool) Starting new HTTP connection (1): localhost:8080\n",
      "[2022-05-30 09:31:48] (urllib3.connectionpool) http://localhost:8080 \"GET /api/v1/nni/check-status HTTP/1.1\" 200 32\n",
      "[2022-05-30 09:31:58] (urllib3.connectionpool) Starting new HTTP connection (1): localhost:8080\n",
      "[2022-05-30 09:31:58] (urllib3.connectionpool) http://localhost:8080 \"GET /api/v1/nni/check-status HTTP/1.1\" 200 32\n",
      "[2022-05-30 09:32:08] (urllib3.connectionpool) Starting new HTTP connection (1): localhost:8080\n",
      "[2022-05-30 09:32:08] (urllib3.connectionpool) http://localhost:8080 \"GET /api/v1/nni/check-status HTTP/1.1\" 200 32\n",
      "[2022-05-30 09:32:18] (urllib3.connectionpool) Starting new HTTP connection (1): localhost:8080\n",
      "[2022-05-30 09:32:18] (urllib3.connectionpool) http://localhost:8080 \"GET /api/v1/nni/check-status HTTP/1.1\" 200 32\n",
      "[2022-05-30 09:32:28] (urllib3.connectionpool) Starting new HTTP connection (1): localhost:8080\n",
      "[2022-05-30 09:32:28] (urllib3.connectionpool) http://localhost:8080 \"GET /api/v1/nni/check-status HTTP/1.1\" 200 32\n",
      "[2022-05-30 09:32:38] (urllib3.connectionpool) Starting new HTTP connection (1): localhost:8080\n",
      "[2022-05-30 09:32:38] (urllib3.connectionpool) http://localhost:8080 \"GET /api/v1/nni/check-status HTTP/1.1\" 200 32\n",
      "[2022-05-30 09:32:48] (urllib3.connectionpool) Starting new HTTP connection (1): localhost:8080\n",
      "[2022-05-30 09:32:48] (urllib3.connectionpool) http://localhost:8080 \"GET /api/v1/nni/check-status HTTP/1.1\" 200 32\n",
      "[2022-05-30 09:32:58] (urllib3.connectionpool) Starting new HTTP connection (1): localhost:8080\n",
      "[2022-05-30 09:32:58] (urllib3.connectionpool) http://localhost:8080 \"GET /api/v1/nni/check-status HTTP/1.1\" 200 32\n",
      "[2022-05-30 09:33:08] (urllib3.connectionpool) Starting new HTTP connection (1): localhost:8080\n",
      "[2022-05-30 09:33:08] (urllib3.connectionpool) http://localhost:8080 \"GET /api/v1/nni/check-status HTTP/1.1\" 200 32\n",
      "[2022-05-30 09:33:18] (urllib3.connectionpool) Starting new HTTP connection (1): localhost:8080\n",
      "[2022-05-30 09:33:18] (urllib3.connectionpool) http://localhost:8080 \"GET /api/v1/nni/check-status HTTP/1.1\" 200 32\n",
      "[2022-05-30 09:33:28] (urllib3.connectionpool) Starting new HTTP connection (1): localhost:8080\n",
      "[2022-05-30 09:33:28] (urllib3.connectionpool) http://localhost:8080 \"GET /api/v1/nni/check-status HTTP/1.1\" 200 32\n",
      "[2022-05-30 09:33:38] (urllib3.connectionpool) Starting new HTTP connection (1): localhost:8080\n",
      "[2022-05-30 09:33:38] (urllib3.connectionpool) http://localhost:8080 \"GET /api/v1/nni/check-status HTTP/1.1\" 200 32\n",
      "[2022-05-30 09:33:48] (urllib3.connectionpool) Starting new HTTP connection (1): localhost:8080\n",
      "[2022-05-30 09:33:48] (urllib3.connectionpool) http://localhost:8080 \"GET /api/v1/nni/check-status HTTP/1.1\" 200 32\n",
      "[2022-05-30 09:33:58] (urllib3.connectionpool) Starting new HTTP connection (1): localhost:8080\n",
      "[2022-05-30 09:33:58] (urllib3.connectionpool) http://localhost:8080 \"GET /api/v1/nni/check-status HTTP/1.1\" 200 32\n",
      "[2022-05-30 09:34:08] (urllib3.connectionpool) Starting new HTTP connection (1): localhost:8080\n",
      "[2022-05-30 09:34:08] (urllib3.connectionpool) http://localhost:8080 \"GET /api/v1/nni/check-status HTTP/1.1\" 200 32\n",
      "[2022-05-30 09:34:18] (urllib3.connectionpool) Starting new HTTP connection (1): localhost:8080\n",
      "[2022-05-30 09:34:18] (urllib3.connectionpool) http://localhost:8080 \"GET /api/v1/nni/check-status HTTP/1.1\" 200 32\n",
      "[2022-05-30 09:34:28] (urllib3.connectionpool) Starting new HTTP connection (1): localhost:8080\n",
      "[2022-05-30 09:34:28] (urllib3.connectionpool) http://localhost:8080 \"GET /api/v1/nni/check-status HTTP/1.1\" 200 32\n",
      "[2022-05-30 09:34:38] (urllib3.connectionpool) Starting new HTTP connection (1): localhost:8080\n",
      "[2022-05-30 09:34:38] (urllib3.connectionpool) http://localhost:8080 \"GET /api/v1/nni/check-status HTTP/1.1\" 200 38\n",
      "[2022-05-30 09:34:48] (urllib3.connectionpool) Starting new HTTP connection (1): localhost:8080\n",
      "[2022-05-30 09:34:48] (urllib3.connectionpool) http://localhost:8080 \"GET /api/v1/nni/check-status HTTP/1.1\" 200 38\n",
      "[2022-05-30 09:34:58] (urllib3.connectionpool) Starting new HTTP connection (1): localhost:8080\n",
      "[2022-05-30 09:34:58] (urllib3.connectionpool) http://localhost:8080 \"GET /api/v1/nni/check-status HTTP/1.1\" 200 29\n"
     ]
    },
    {
     "data": {
      "text/plain": [
       "True"
      ]
     },
     "execution_count": 23,
     "metadata": {},
     "output_type": "execute_result"
    }
   ],
   "source": [
    "experiment.run(8080, wait_completion = True, debug = True)"
   ]
  },
  {
   "cell_type": "code",
   "execution_count": 24,
   "id": "8781e754-3fe5-43ed-b44c-b6de326c2a60",
   "metadata": {},
   "outputs": [
    {
     "name": "stdout",
     "output_type": "stream",
     "text": [
      "[2022-05-30 09:35:00] (urllib3.connectionpool) Starting new HTTP connection (1): localhost:8080\n",
      "[2022-05-30 09:35:00] (urllib3.connectionpool) http://localhost:8080 \"GET /api/v1/nni/export-data HTTP/1.1\" 200 20881\n",
      "0.6181739315974903 {'model__n_estimators': 195, 'model__criterion': 'entropy', 'model__class_weight': 'balanced_subsample', 'model__min_samples_split': 0.0006636374717157983}\n"
     ]
    }
   ],
   "source": [
    "best_trial = sorted(experiment.export_data(),key = lambda x: x.value, reverse = True)[0]\n",
    "print(best_trial.value, best_trial.parameter)"
   ]
  },
  {
   "cell_type": "code",
   "execution_count": 25,
   "id": "5a1a1e17-5495-4199-8e7a-74183f4c4042",
   "metadata": {},
   "outputs": [
    {
     "name": "stdout",
     "output_type": "stream",
     "text": [
      "0.6181015452538632\n"
     ]
    }
   ],
   "source": [
    "tuned_pipe = clone(pipe).set_params(**best_trial.parameter)\n",
    "\n",
    "# Fit the pipeline on train data \n",
    "tuned_pipe.fit(X_train_full,y_train)\n",
    "\n",
    "# Evaluate on the test data \n",
    "y_pred = tuned_pipe.predict(X_test_full)\n",
    "print(f1_score(y_test, y_pred))"
   ]
  },
  {
   "cell_type": "code",
   "execution_count": 26,
   "id": "e3fba6a1-99f5-4090-8da1-c0d3d3ec7766",
   "metadata": {},
   "outputs": [
    {
     "name": "stdout",
     "output_type": "stream",
     "text": [
      "[2022-05-30 09:35:09] Stopping experiment, please wait...\n",
      "[2022-05-30 09:35:09] (urllib3.connectionpool) Starting new HTTP connection (1): localhost:8080\n",
      "[2022-05-30 09:35:11] (urllib3.connectionpool) http://localhost:8080 \"DELETE /api/v1/nni/experiment HTTP/1.1\" 200 0\n",
      "[2022-05-30 09:35:11] Experiment stopped\n"
     ]
    }
   ],
   "source": [
    "experiment.stop()"
   ]
  },
  {
   "cell_type": "markdown",
   "id": "1298d5af-f609-4cbb-aa71-b92f84616f3e",
   "metadata": {
    "tags": []
   },
   "source": [
    "## SMAC"
   ]
  },
  {
   "cell_type": "code",
   "execution_count": 27,
   "id": "12f669ea-f54a-4c54-a5b3-d370ef5e60df",
   "metadata": {},
   "outputs": [],
   "source": [
    "experiment = Experiment('local')\n",
    "\n",
    "experiment.config.experiment_name = 'nni_sklearn_smac'\n",
    "experiment.config.tuner.name = 'SMAC'\n",
    "experiment.config.tuner.class_args['optimize_mode'] = 'maximize'\n",
    "\n",
    "# Boilerplate code\n",
    "experiment.config.trial_command = \"python '/mnt/c/Users/Louis\\ Owen/Desktop/Packt/Hyperparameter-Tuning-with-Python/nni/model.py'\"  #please change this to your own local path\n",
    "experiment.config.trial_code_directory = '.'\n",
    "experiment.config.search_space = hyperparameter_space\n",
    "experiment.config.max_trial_number = 100\n",
    "experiment.config.trial_concurrency = 10\n",
    "experiment.config.max_experiment_duration = '1h'"
   ]
  },
  {
   "cell_type": "code",
   "execution_count": 28,
   "id": "cd843bed-2ae9-4dba-84e2-3de76444dee0",
   "metadata": {},
   "outputs": [
    {
     "name": "stdout",
     "output_type": "stream",
     "text": [
      "[2022-05-30 09:35:16] Creating experiment, Experiment ID: e62t13qn\n",
      "[2022-05-30 09:35:16] Starting web server...\n",
      "[2022-05-30 09:35:17] Setting up...\n",
      "[2022-05-30 09:35:17] Web portal URLs: http://127.0.0.1:8080 http://172.19.71.163:8080\n"
     ]
    },
    {
     "data": {
      "text/plain": [
       "True"
      ]
     },
     "execution_count": 28,
     "metadata": {},
     "output_type": "execute_result"
    }
   ],
   "source": [
    "experiment.run(8080, wait_completion = True, debug = False)"
   ]
  },
  {
   "cell_type": "code",
   "execution_count": 29,
   "id": "07667002-d871-4e5b-995a-81cd89ead2ac",
   "metadata": {},
   "outputs": [
    {
     "name": "stdout",
     "output_type": "stream",
     "text": [
      "0.6192037487561184 {'model__class_weight': 'balanced', 'model__criterion': 'entropy', 'model__min_samples_split': 0.0005502416428725066, 'model__n_estimators': 199}\n"
     ]
    }
   ],
   "source": [
    "best_trial = sorted(experiment.export_data(),key = lambda x: x.value, reverse = True)[0]\n",
    "print(best_trial.value, best_trial.parameter)"
   ]
  },
  {
   "cell_type": "code",
   "execution_count": 30,
   "id": "f3ead9c3-2a86-4e13-976a-94d40987ed68",
   "metadata": {},
   "outputs": [
    {
     "name": "stdout",
     "output_type": "stream",
     "text": [
      "0.6193353474320242\n"
     ]
    }
   ],
   "source": [
    "tuned_pipe = clone(pipe).set_params(**best_trial.parameter)\n",
    "\n",
    "# Fit the pipeline on train data \n",
    "tuned_pipe.fit(X_train_full,y_train)\n",
    "\n",
    "# Evaluate on the test data \n",
    "y_pred = tuned_pipe.predict(X_test_full)\n",
    "print(f1_score(y_test, y_pred))"
   ]
  },
  {
   "cell_type": "code",
   "execution_count": 31,
   "id": "e74990cb-e456-457f-a5e5-b8e90ac5c66e",
   "metadata": {},
   "outputs": [
    {
     "name": "stdout",
     "output_type": "stream",
     "text": [
      "[2022-05-30 09:40:52] Stopping experiment, please wait...\n",
      "[2022-05-30 09:40:56] Experiment stopped\n"
     ]
    }
   ],
   "source": [
    "experiment.stop()"
   ]
  },
  {
   "cell_type": "markdown",
   "id": "0253021f-665a-40c0-8c34-94e2b048fc1d",
   "metadata": {
    "tags": []
   },
   "source": [
    "## BOGP"
   ]
  },
  {
   "cell_type": "code",
   "execution_count": 32,
   "id": "91e9af1d-6acd-42f8-9a1e-0ac62c2ac5a8",
   "metadata": {},
   "outputs": [],
   "source": [
    "experiment = Experiment('local')\n",
    "\n",
    "experiment.config.experiment_name = 'nni_sklearn_bogp'\n",
    "experiment.config.tuner.name = 'GPTuner'\n",
    "experiment.config.tuner.class_args['optimize_mode'] = 'maximize'\n",
    "experiment.config.tuner.class_args['utility'] = 'ei'\n",
    "experiment.config.tuner.class_args['xi'] = 0.01\n",
    "\n",
    "# Boilerplate code\n",
    "experiment.config.trial_command = \"python '/mnt/c/Users/Louis\\ Owen/Desktop/Packt/Hyperparameter-Tuning-with-Python/nni/model_numeric.py'\"  #please change this to your own local path\n",
    "experiment.config.trial_code_directory = '.'\n",
    "experiment.config.search_space = hyperparameter_space_numeric\n",
    "experiment.config.max_trial_number = 100\n",
    "experiment.config.trial_concurrency = 10\n",
    "experiment.config.max_experiment_duration = '1h'"
   ]
  },
  {
   "cell_type": "code",
   "execution_count": 33,
   "id": "018dc8b8-1193-4bdb-b53e-9f6bb081a881",
   "metadata": {},
   "outputs": [
    {
     "name": "stdout",
     "output_type": "stream",
     "text": [
      "[2022-05-30 09:40:59] Creating experiment, Experiment ID: 2ki731hl\n",
      "[2022-05-30 09:40:59] Starting web server...\n",
      "[2022-05-30 09:41:00] Setting up...\n",
      "[2022-05-30 09:41:00] Web portal URLs: http://127.0.0.1:8080 http://172.19.71.163:8080\n"
     ]
    },
    {
     "data": {
      "text/plain": [
       "True"
      ]
     },
     "execution_count": 33,
     "metadata": {},
     "output_type": "execute_result"
    }
   ],
   "source": [
    "experiment.run(8080, wait_completion = True, debug = False)"
   ]
  },
  {
   "cell_type": "code",
   "execution_count": 34,
   "id": "2965d4ae-bed5-440c-8b55-74d80461ed99",
   "metadata": {},
   "outputs": [
    {
     "name": "stdout",
     "output_type": "stream",
     "text": [
      "0.6196713736297277 {'model__class_weight': 'balanced_subsample', 'model__criterion': 'entropy', 'model__min_samples_split': 0.00055461211818435, 'model__n_estimators': 159}\n"
     ]
    }
   ],
   "source": [
    "non_numeric_mapping = params = {\n",
    "        'model__criterion': ['gini','entropy'],\n",
    "        'model__class_weight': ['balanced','balanced_subsample'],\n",
    "    }\n",
    "\n",
    "best_trial = sorted(experiment.export_data(),key = lambda x: x.value, reverse = True)[0]\n",
    "for key in non_numeric_mapping:\n",
    "    best_trial.parameter[key] = non_numeric_mapping[key][best_trial.parameter[key]]\n",
    "print(best_trial.value, best_trial.parameter)"
   ]
  },
  {
   "cell_type": "code",
   "execution_count": 35,
   "id": "ab815d5d-1ab9-4386-802a-5805cafab880",
   "metadata": {},
   "outputs": [
    {
     "name": "stdout",
     "output_type": "stream",
     "text": [
      "0.6191198786039454\n"
     ]
    }
   ],
   "source": [
    "tuned_pipe = clone(pipe).set_params(**best_trial.parameter)\n",
    "\n",
    "# Fit the pipeline on train data \n",
    "tuned_pipe.fit(X_train_full,y_train)\n",
    "\n",
    "# Evaluate on the test data \n",
    "y_pred = tuned_pipe.predict(X_test_full)\n",
    "print(f1_score(y_test, y_pred))"
   ]
  },
  {
   "cell_type": "code",
   "execution_count": 36,
   "id": "143f1b1c-9119-4f21-85c3-ccbac9ab1d08",
   "metadata": {},
   "outputs": [
    {
     "name": "stdout",
     "output_type": "stream",
     "text": [
      "[2022-05-30 09:49:42] Stopping experiment, please wait...\n",
      "[2022-05-30 09:49:45] Experiment stopped\n"
     ]
    }
   ],
   "source": [
    "experiment.stop()"
   ]
  },
  {
   "cell_type": "markdown",
   "id": "ce036525-db54-4f2e-900f-ad212fde3b69",
   "metadata": {
    "tags": []
   },
   "source": [
    "## Metis"
   ]
  },
  {
   "cell_type": "code",
   "execution_count": 37,
   "id": "3a9e389b-0a4b-4c5c-8b2a-d89d58baa099",
   "metadata": {},
   "outputs": [],
   "source": [
    "experiment = Experiment('local')\n",
    "\n",
    "experiment.config.experiment_name = 'nni_sklearn_metis'\n",
    "experiment.config.tuner.name = 'MetisTuner'\n",
    "experiment.config.tuner.class_args['optimize_mode'] = 'maximize'\n",
    "\n",
    "# Boilerplate code\n",
    "experiment.config.trial_command = \"python '/mnt/c/Users/Louis\\ Owen/Desktop/Packt/Hyperparameter-Tuning-with-Python/nni/model_numeric.py'\"  #please change this to your own local path\n",
    "experiment.config.trial_code_directory = '.'\n",
    "experiment.config.search_space = hyperparameter_space_numeric\n",
    "experiment.config.max_trial_number = 100\n",
    "experiment.config.trial_concurrency = 10\n",
    "experiment.config.max_experiment_duration = '1h'"
   ]
  },
  {
   "cell_type": "code",
   "execution_count": 38,
   "id": "5d66a68a-2d5a-4b2b-a042-1b15418e02a7",
   "metadata": {},
   "outputs": [
    {
     "name": "stdout",
     "output_type": "stream",
     "text": [
      "[2022-05-30 09:49:48] Creating experiment, Experiment ID: gn8q5uow\n",
      "[2022-05-30 09:49:48] Starting web server...\n",
      "[2022-05-30 09:49:49] Setting up...\n",
      "[2022-05-30 09:49:49] Web portal URLs: http://127.0.0.1:8080 http://172.19.71.163:8080\n"
     ]
    },
    {
     "data": {
      "text/plain": [
       "True"
      ]
     },
     "execution_count": 38,
     "metadata": {},
     "output_type": "execute_result"
    }
   ],
   "source": [
    "experiment.run(8080, wait_completion = True, debug = False)"
   ]
  },
  {
   "cell_type": "code",
   "execution_count": 39,
   "id": "b611ea0b-7a84-400d-a1e1-45484725c058",
   "metadata": {},
   "outputs": [
    {
     "name": "stdout",
     "output_type": "stream",
     "text": [
      "0.5908728486859774 {'model__n_estimators': 122, 'model__criterion': 'gini', 'model__class_weight': 'balanced', 'model__min_samples_split': 0.00173059072806428}\n"
     ]
    }
   ],
   "source": [
    "non_numeric_mapping = params = {\n",
    "        'model__criterion': ['gini','entropy'],\n",
    "        'model__class_weight': ['balanced','balanced_subsample'],\n",
    "    }\n",
    "\n",
    "best_trial = sorted(experiment.export_data(),key = lambda x: x.value, reverse = True)[0]\n",
    "for key in non_numeric_mapping:\n",
    "    best_trial.parameter[key] = non_numeric_mapping[key][best_trial.parameter[key]]\n",
    "print(best_trial.value, best_trial.parameter)"
   ]
  },
  {
   "cell_type": "code",
   "execution_count": 40,
   "id": "c22c2ebd-7443-481f-99cf-7b946c0a1fd6",
   "metadata": {},
   "outputs": [
    {
     "name": "stdout",
     "output_type": "stream",
     "text": [
      "[2022-05-30 11:04:23] Stopping experiment, please wait...\n",
      "[2022-05-30 11:04:26] Experiment stopped\n"
     ]
    }
   ],
   "source": [
    "experiment.stop()"
   ]
  },
  {
   "cell_type": "markdown",
   "id": "a53c99de-3e12-41f0-9184-1f5c4ece73be",
   "metadata": {
    "tags": []
   },
   "source": [
    "## Simulated Annealing"
   ]
  },
  {
   "cell_type": "code",
   "execution_count": 41,
   "id": "6ae34a01-bd45-4553-bfb7-c2bbbb9791c6",
   "metadata": {},
   "outputs": [],
   "source": [
    "experiment = Experiment('local')\n",
    "\n",
    "experiment.config.experiment_name = 'nni_sklearn_anneal'\n",
    "experiment.config.tuner.name = 'Anneal'\n",
    "experiment.config.tuner.class_args['optimize_mode'] = 'maximize'\n",
    "\n",
    "# Boilerplate code\n",
    "experiment.config.trial_command = \"python '/mnt/c/Users/Louis\\ Owen/Desktop/Packt/Hyperparameter-Tuning-with-Python/nni/model.py'\"  #please change this to your own local path\n",
    "experiment.config.trial_code_directory = '.'\n",
    "experiment.config.search_space = hyperparameter_space\n",
    "experiment.config.max_trial_number = 100\n",
    "experiment.config.trial_concurrency = 10\n",
    "experiment.config.max_experiment_duration = '1h'"
   ]
  },
  {
   "cell_type": "code",
   "execution_count": 42,
   "id": "7ec39645-d35f-4a65-ab42-52c5d606cbae",
   "metadata": {},
   "outputs": [
    {
     "name": "stdout",
     "output_type": "stream",
     "text": [
      "[2022-05-30 11:04:28] Creating experiment, Experiment ID: 4i56hn1s\n",
      "[2022-05-30 11:04:28] Starting web server...\n",
      "[2022-05-30 11:04:29] Setting up...\n",
      "[2022-05-30 11:04:29] Web portal URLs: http://127.0.0.1:8080 http://172.19.71.163:8080\n"
     ]
    },
    {
     "data": {
      "text/plain": [
       "True"
      ]
     },
     "execution_count": 42,
     "metadata": {},
     "output_type": "execute_result"
    }
   ],
   "source": [
    "experiment.run(8080, wait_completion = True, debug = False)"
   ]
  },
  {
   "cell_type": "code",
   "execution_count": 43,
   "id": "4a0c2b56-2e91-4071-b220-d7fcacd50c00",
   "metadata": {},
   "outputs": [
    {
     "name": "stdout",
     "output_type": "stream",
     "text": [
      "0.6024803485704895 {'model__n_estimators': 103, 'model__criterion': 'gini', 'model__class_weight': 'balanced_subsample', 'model__min_samples_split': 0.0010101249953063539}\n"
     ]
    }
   ],
   "source": [
    "best_trial = sorted(experiment.export_data(),key = lambda x: x.value, reverse = True)[0]\n",
    "print(best_trial.value, best_trial.parameter)"
   ]
  },
  {
   "cell_type": "code",
   "execution_count": 44,
   "id": "c5f89f48-f990-492c-9a1b-48ffe27b4f6a",
   "metadata": {},
   "outputs": [
    {
     "name": "stdout",
     "output_type": "stream",
     "text": [
      "0.5997229916897507\n"
     ]
    }
   ],
   "source": [
    "tuned_pipe = clone(pipe).set_params(**best_trial.parameter)\n",
    "\n",
    "# Fit the pipeline on train data \n",
    "tuned_pipe.fit(X_train_full,y_train)\n",
    "\n",
    "# Evaluate on the test data \n",
    "y_pred = tuned_pipe.predict(X_test_full)\n",
    "print(f1_score(y_test, y_pred))"
   ]
  },
  {
   "cell_type": "code",
   "execution_count": 45,
   "id": "55a2e1cc-c623-427d-bbfe-b945f931f771",
   "metadata": {},
   "outputs": [
    {
     "name": "stdout",
     "output_type": "stream",
     "text": [
      "[2022-05-30 11:09:15] Stopping experiment, please wait...\n",
      "[2022-05-30 11:09:18] Experiment stopped\n"
     ]
    }
   ],
   "source": [
    "experiment.stop()"
   ]
  },
  {
   "cell_type": "markdown",
   "id": "05e392c5-916a-4256-bab6-d8584a9eb632",
   "metadata": {
    "tags": []
   },
   "source": [
    "## Hyper Band"
   ]
  },
  {
   "cell_type": "code",
   "execution_count": 46,
   "id": "fb2edf95-38cf-4d99-94c6-4ef674fc707d",
   "metadata": {},
   "outputs": [],
   "source": [
    "experiment = Experiment('local')\n",
    "\n",
    "experiment.config.experiment_name = 'nni_sklearn_hyper_band'\n",
    "experiment.config.advisor.name = 'Hyperband'\n",
    "experiment.config.advisor.class_args['optimize_mode'] = 'maximize'\n",
    "experiment.config.advisor.class_args['R'] = 200\n",
    "experiment.config.advisor.class_args['eta'] = 3\n",
    "experiment.config.advisor.class_args['exec_mode'] = 'parallelism'\n",
    "\n",
    "# Boilerplate code\n",
    "experiment.config.trial_command = \"python '/mnt/c/Users/Louis\\ Owen/Desktop/Packt/Hyperparameter-Tuning-with-Python/nni/model_advisor.py'\"  #please change this to your own local path\n",
    "experiment.config.trial_code_directory = '.'\n",
    "experiment.config.search_space = hyperparameter_space_advisor\n",
    "experiment.config.max_trial_number = 100\n",
    "experiment.config.trial_concurrency = 10\n",
    "experiment.config.max_experiment_duration = '1h'"
   ]
  },
  {
   "cell_type": "code",
   "execution_count": 47,
   "id": "b48605b8-8608-431e-b6bc-1b6818ed88b0",
   "metadata": {},
   "outputs": [
    {
     "name": "stdout",
     "output_type": "stream",
     "text": [
      "[2022-05-30 11:09:21] Creating experiment, Experiment ID: blv1f3tc\n",
      "[2022-05-30 11:09:21] Starting web server...\n",
      "[2022-05-30 11:09:22] Setting up...\n",
      "[2022-05-30 11:09:22] Web portal URLs: http://127.0.0.1:8080 http://172.19.71.163:8080\n"
     ]
    },
    {
     "data": {
      "text/plain": [
       "True"
      ]
     },
     "execution_count": 47,
     "metadata": {},
     "output_type": "execute_result"
    }
   ],
   "source": [
    "experiment.run(8080, wait_completion = True, debug = False)"
   ]
  },
  {
   "cell_type": "code",
   "execution_count": 48,
   "id": "c2a26a22-c7d3-4577-8f49-d9b8ae31e10f",
   "metadata": {},
   "outputs": [
    {
     "name": "stdout",
     "output_type": "stream",
     "text": [
      "0.591493989049198 {'model__criterion': 'gini', 'model__class_weight': 'balanced_subsample', 'model__min_samples_split': 0.001676130360763284, 'model__n_estimators': 100}\n"
     ]
    }
   ],
   "source": [
    "best_trial = sorted(experiment.export_data(),key = lambda x: x.value, reverse = True)[0]\n",
    "\n",
    "best_trial.parameter['model__n_estimators'] = best_trial.parameter['TRIAL_BUDGET'] * 50\n",
    "del best_trial.parameter['TRIAL_BUDGET']\n",
    "\n",
    "print(best_trial.value, best_trial.parameter)"
   ]
  },
  {
   "cell_type": "code",
   "execution_count": 49,
   "id": "33dc6105-86d5-43ce-b6e2-42528304e887",
   "metadata": {},
   "outputs": [
    {
     "name": "stdout",
     "output_type": "stream",
     "text": [
      "0.5931758530183727\n"
     ]
    }
   ],
   "source": [
    "tuned_pipe = clone(pipe).set_params(**best_trial.parameter)\n",
    "\n",
    "# Fit the pipeline on train data \n",
    "tuned_pipe.fit(X_train_full,y_train)\n",
    "\n",
    "# Evaluate on the test data \n",
    "y_pred = tuned_pipe.predict(X_test_full)\n",
    "print(f1_score(y_test, y_pred))"
   ]
  },
  {
   "cell_type": "code",
   "execution_count": 50,
   "id": "8b3e5df7-8982-43ec-9b46-4d225d1b3d4d",
   "metadata": {},
   "outputs": [
    {
     "name": "stdout",
     "output_type": "stream",
     "text": [
      "[2022-05-30 11:16:13] Stopping experiment, please wait...\n",
      "[2022-05-30 11:16:17] Experiment stopped\n"
     ]
    }
   ],
   "source": [
    "experiment.stop()"
   ]
  },
  {
   "cell_type": "markdown",
   "id": "ac9e4d98-fb64-48a2-b03d-15dd174818a1",
   "metadata": {
    "tags": []
   },
   "source": [
    "## BOHB"
   ]
  },
  {
   "cell_type": "code",
   "execution_count": 51,
   "id": "380cd06a-00dd-45cd-bee9-198c64589065",
   "metadata": {},
   "outputs": [],
   "source": [
    "experiment = Experiment('local')\n",
    "\n",
    "experiment.config.experiment_name = 'nni_sklearn_bohb'\n",
    "experiment.config.advisor.name = 'BOHB'\n",
    "experiment.config.advisor.class_args['optimize_mode'] = 'maximize'\n",
    "experiment.config.advisor.class_args['max_budget'] = 200\n",
    "experiment.config.advisor.class_args['min_budget'] = 5\n",
    "experiment.config.advisor.class_args['eta'] = 3\n",
    "\n",
    "# Boilerplate code\n",
    "experiment.config.trial_command = \"python '/mnt/c/Users/Louis\\ Owen/Desktop/Packt/Hyperparameter-Tuning-with-Python/nni/model_advisor.py'\"  #please change this to your own local path\n",
    "experiment.config.trial_code_directory = '.'\n",
    "experiment.config.search_space = hyperparameter_space_advisor\n",
    "experiment.config.max_trial_number = 100\n",
    "experiment.config.trial_concurrency = 10\n",
    "experiment.config.max_experiment_duration = '1h'"
   ]
  },
  {
   "cell_type": "code",
   "execution_count": 52,
   "id": "ae04fc5f-cdd8-4e37-8ca9-cdd1fb12c50d",
   "metadata": {},
   "outputs": [
    {
     "name": "stdout",
     "output_type": "stream",
     "text": [
      "[2022-05-30 11:16:19] Creating experiment, Experiment ID: 4yjndxc2\n",
      "[2022-05-30 11:16:19] Starting web server...\n",
      "[2022-05-30 11:16:20] Setting up...\n",
      "[2022-05-30 11:16:20] Web portal URLs: http://127.0.0.1:8080 http://172.19.71.163:8080\n"
     ]
    },
    {
     "data": {
      "text/plain": [
       "True"
      ]
     },
     "execution_count": 52,
     "metadata": {},
     "output_type": "execute_result"
    }
   ],
   "source": [
    "experiment.run(8080, wait_completion = True, debug = False)"
   ]
  },
  {
   "cell_type": "code",
   "execution_count": 53,
   "id": "7caad834-6025-4900-b9f1-7c101af8bcc8",
   "metadata": {},
   "outputs": [
    {
     "name": "stdout",
     "output_type": "stream",
     "text": [
      "0.6166438293663608 {'model__class_weight': 'balanced', 'model__criterion': 'gini', 'model__min_samples_split': 0.000396569883631686, 'model__n_estimators': 1100}\n"
     ]
    }
   ],
   "source": [
    "best_trial = sorted(experiment.export_data(),key = lambda x: x.value, reverse = True)[0]\n",
    "\n",
    "best_trial.parameter['model__n_estimators'] = best_trial.parameter['TRIAL_BUDGET'] * 50\n",
    "del best_trial.parameter['TRIAL_BUDGET']\n",
    "\n",
    "print(best_trial.value, best_trial.parameter)"
   ]
  },
  {
   "cell_type": "code",
   "execution_count": 54,
   "id": "75d765f7-2e98-4824-ae7f-76c6e20b93b2",
   "metadata": {},
   "outputs": [
    {
     "name": "stdout",
     "output_type": "stream",
     "text": [
      "0.6173228346456693\n"
     ]
    }
   ],
   "source": [
    "tuned_pipe = clone(pipe).set_params(**best_trial.parameter)\n",
    "\n",
    "# Fit the pipeline on train data \n",
    "tuned_pipe.fit(X_train_full,y_train)\n",
    "\n",
    "# Evaluate on the test data \n",
    "y_pred = tuned_pipe.predict(X_test_full)\n",
    "print(f1_score(y_test, y_pred))"
   ]
  },
  {
   "cell_type": "code",
   "execution_count": 55,
   "id": "e7a60e0d-b561-4554-9a60-96715560688e",
   "metadata": {},
   "outputs": [
    {
     "name": "stdout",
     "output_type": "stream",
     "text": [
      "[2022-05-30 12:30:42] Stopping experiment, please wait...\n",
      "[2022-05-30 12:30:46] Experiment stopped\n"
     ]
    }
   ],
   "source": [
    "experiment.stop()"
   ]
  },
  {
   "cell_type": "code",
   "execution_count": null,
   "id": "bc781f47-b69c-46ef-9cd1-486d90bbcebb",
   "metadata": {},
   "outputs": [],
   "source": []
  }
 ],
 "metadata": {
  "kernelspec": {
   "display_name": "Python 3",
   "language": "python",
   "name": "python3"
  },
  "language_info": {
   "codemirror_mode": {
    "name": "ipython",
    "version": 3
   },
   "file_extension": ".py",
   "mimetype": "text/x-python",
   "name": "python",
   "nbconvert_exporter": "python",
   "pygments_lexer": "ipython3",
   "version": "3.7.10"
  }
 },
 "nbformat": 4,
 "nbformat_minor": 5
}
