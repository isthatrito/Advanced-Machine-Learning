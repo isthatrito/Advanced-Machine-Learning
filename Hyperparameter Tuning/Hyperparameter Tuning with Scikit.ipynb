{
 "cells": [
  {
   "cell_type": "code",
   "execution_count": null,
   "id": "a2a2da93-8d85-48e4-97c6-a10acafbd6c2",
   "metadata": {},
   "outputs": [],
   "source": [
    "# !pip install pandas==1.3.4\n",
    "# !pip install numpy==1.21.2\n",
    "# !pip install scipy==1.7.3\n",
    "# !pip install matplotlib==3.5.0\n",
    "# !pip install scikit-learn==1.0.1\n",
    "# !pip install scikit-optimize==0.9.0"
   ]
  },
  {
   "cell_type": "markdown",
   "id": "3f7908cd-b600-4f14-9ecd-3763dd529d3e",
   "metadata": {},
   "source": [
    "# Grid Search"
   ]
  },
  {
   "cell_type": "code",
   "execution_count": 1,
   "id": "9e5f5bb0-ad20-4925-b469-c8f92b36f126",
   "metadata": {},
   "outputs": [],
   "source": [
    "import pandas as pd\n",
    "import numpy as np\n",
    "from sklearn.compose import ColumnTransformer\n",
    "from sklearn.preprocessing import StandardScaler, OneHotEncoder\n",
    "from sklearn.pipeline import Pipeline\n",
    "from sklearn.model_selection import train_test_split\n",
    "from sklearn.metrics import f1_score\n",
    "from sklearn.ensemble import RandomForestClassifier\n",
    "\n",
    "from sklearn.model_selection import GridSearchCV"
   ]
  },
  {
   "cell_type": "code",
   "execution_count": 2,
   "id": "7afc552e-a89e-40bd-b723-2130b3c98b2e",
   "metadata": {},
   "outputs": [
    {
     "name": "stdout",
     "output_type": "stream",
     "text": [
      "<class 'pandas.core.frame.DataFrame'>\n",
      "RangeIndex: 45211 entries, 0 to 45210\n",
      "Data columns (total 17 columns):\n",
      " #   Column     Non-Null Count  Dtype \n",
      "---  ------     --------------  ----- \n",
      " 0   age        45211 non-null  int64 \n",
      " 1   job        45211 non-null  object\n",
      " 2   marital    45211 non-null  object\n",
      " 3   education  45211 non-null  object\n",
      " 4   default    45211 non-null  object\n",
      " 5   balance    45211 non-null  int64 \n",
      " 6   housing    45211 non-null  object\n",
      " 7   loan       45211 non-null  object\n",
      " 8   contact    45211 non-null  object\n",
      " 9   day        45211 non-null  int64 \n",
      " 10  month      45211 non-null  object\n",
      " 11  duration   45211 non-null  int64 \n",
      " 12  campaign   45211 non-null  int64 \n",
      " 13  pdays      45211 non-null  int64 \n",
      " 14  previous   45211 non-null  int64 \n",
      " 15  poutcome   45211 non-null  object\n",
      " 16  y          45211 non-null  object\n",
      "dtypes: int64(7), object(10)\n",
      "memory usage: 5.9+ MB\n"
     ]
    }
   ],
   "source": [
    "df = pd.read_csv(\"train.csv\",sep=\";\")\n",
    "df.info()"
   ]
  },
  {
   "cell_type": "markdown",
   "id": "a1aeec8b-0a87-4cf2-9707-d7c39632d4a5",
   "metadata": {},
   "source": [
    "Convert the target variable to integer"
   ]
  },
  {
   "cell_type": "code",
   "execution_count": 3,
   "id": "8ecb3174-dfc6-4103-aece-7aef0ace9566",
   "metadata": {},
   "outputs": [],
   "source": [
    "df['y'] = df['y'].map({'yes':1,'no':0})"
   ]
  },
  {
   "cell_type": "markdown",
   "id": "2a838595-45c0-4e24-9835-6dd6763c1768",
   "metadata": {},
   "source": [
    "Split full data into train and test data"
   ]
  },
  {
   "cell_type": "code",
   "execution_count": 4,
   "id": "ea45002c-a869-44fd-b4fc-41acd733c58c",
   "metadata": {},
   "outputs": [],
   "source": [
    "df_train, df_test = train_test_split(df, test_size=0.1, random_state=0) "
   ]
  },
  {
   "cell_type": "markdown",
   "id": "8b42e9c5-e6d9-4abc-b540-69e6b0ddd07d",
   "metadata": {},
   "source": [
    "Get distribution of the target variable"
   ]
  },
  {
   "cell_type": "code",
   "execution_count": 5,
   "id": "79195a6e-46de-40e4-9355-6fa307a37884",
   "metadata": {},
   "outputs": [
    {
     "data": {
      "text/plain": [
       "0    0.882843\n",
       "1    0.117157\n",
       "Name: y, dtype: float64"
      ]
     },
     "execution_count": 5,
     "metadata": {},
     "output_type": "execute_result"
    }
   ],
   "source": [
    "df_train['y'].value_counts(True)"
   ]
  },
  {
   "cell_type": "code",
   "execution_count": 6,
   "id": "d8cfa8ac-fda2-4189-ba0c-a35b9620cf58",
   "metadata": {},
   "outputs": [
    {
     "data": {
      "text/plain": [
       "0    0.884564\n",
       "1    0.115436\n",
       "Name: y, dtype: float64"
      ]
     },
     "execution_count": 6,
     "metadata": {},
     "output_type": "execute_result"
    }
   ],
   "source": [
    "df_test['y'].value_counts(True)"
   ]
  },
  {
   "cell_type": "markdown",
   "id": "1a112be5-aa90-448f-a3af-52aa1ef302cf",
   "metadata": {},
   "source": [
    "Get only numerical features from the train data"
   ]
  },
  {
   "cell_type": "code",
   "execution_count": 7,
   "id": "16b56e62-0a8b-4070-bf59-e4c4c7a6f1ba",
   "metadata": {},
   "outputs": [
    {
     "name": "stdout",
     "output_type": "stream",
     "text": [
      "<class 'pandas.core.frame.DataFrame'>\n",
      "Int64Index: 40689 entries, 17974 to 2732\n",
      "Data columns (total 7 columns):\n",
      " #   Column    Non-Null Count  Dtype\n",
      "---  ------    --------------  -----\n",
      " 0   age       40689 non-null  int64\n",
      " 1   balance   40689 non-null  int64\n",
      " 2   day       40689 non-null  int64\n",
      " 3   duration  40689 non-null  int64\n",
      " 4   campaign  40689 non-null  int64\n",
      " 5   pdays     40689 non-null  int64\n",
      " 6   previous  40689 non-null  int64\n",
      "dtypes: int64(7)\n",
      "memory usage: 2.5 MB\n"
     ]
    }
   ],
   "source": [
    "X_train_numerical = df_train.select_dtypes(include=np.number).drop(columns=['y'])\n",
    "y_train = df_train['y']\n",
    "\n",
    "X_train_numerical.info()"
   ]
  },
  {
   "cell_type": "markdown",
   "id": "01f83790-8dd0-4cd5-ac72-e51eec7dac17",
   "metadata": {},
   "source": [
    "Get only numerical features from the test data"
   ]
  },
  {
   "cell_type": "code",
   "execution_count": 8,
   "id": "3a0f0cab-7cff-411a-b95d-6a3f72742e21",
   "metadata": {},
   "outputs": [
    {
     "name": "stdout",
     "output_type": "stream",
     "text": [
      "<class 'pandas.core.frame.DataFrame'>\n",
      "Int64Index: 4522 entries, 14001 to 25978\n",
      "Data columns (total 7 columns):\n",
      " #   Column    Non-Null Count  Dtype\n",
      "---  ------    --------------  -----\n",
      " 0   age       4522 non-null   int64\n",
      " 1   balance   4522 non-null   int64\n",
      " 2   day       4522 non-null   int64\n",
      " 3   duration  4522 non-null   int64\n",
      " 4   campaign  4522 non-null   int64\n",
      " 5   pdays     4522 non-null   int64\n",
      " 6   previous  4522 non-null   int64\n",
      "dtypes: int64(7)\n",
      "memory usage: 282.6 KB\n"
     ]
    }
   ],
   "source": [
    "X_test_numerical = df_test.select_dtypes(include=np.number).drop(columns=['y'])\n",
    "y_test = df_test['y']\n",
    "\n",
    "X_test_numerical.info()"
   ]
  },
  {
   "cell_type": "markdown",
   "id": "707acd23-86ce-446c-aa18-ab15bb5641c6",
   "metadata": {},
   "source": [
    "Calculate F1-Score on Test Data without Hyperparameter Tuning"
   ]
  },
  {
   "cell_type": "code",
   "execution_count": 9,
   "id": "0fc1f2a8-215c-47fa-a335-a8a9c96307fc",
   "metadata": {},
   "outputs": [
    {
     "name": "stdout",
     "output_type": "stream",
     "text": [
      "0.43667068757539196\n"
     ]
    }
   ],
   "source": [
    "# Fit the model on train data \n",
    "model = RandomForestClassifier(random_state=0)\n",
    "model.fit(X_train_numerical,y_train)\n",
    "\n",
    "# Evaluate the model on the test data \n",
    "y_pred = model.predict(X_test_numerical)\n",
    "print(f1_score(y_test, y_pred))"
   ]
  },
  {
   "cell_type": "markdown",
   "id": "160437a4-c037-4df7-b2c1-c91f6f4225bd",
   "metadata": {},
   "source": [
    "Defining the Hyperparameter Space for experiment using numerical features only "
   ]
  },
  {
   "cell_type": "code",
   "execution_count": 10,
   "id": "7dea2fdd-1e68-4f33-85c0-959a45c034e0",
   "metadata": {},
   "outputs": [],
   "source": [
    "hyperparameter_space = { \n",
    "\"n_estimators\": [25,50,100,150,200], \n",
    "\"criterion\": [\"gini\", \"entropy\"], \n",
    "\"class_weight\": [\"balanced\",\"balanced_subsample\"],\n",
    "\"min_samples_split\": [0.01,0.1,0.25,0.5,0.75,1.0],\n",
    "} "
   ]
  },
  {
   "cell_type": "markdown",
   "id": "e6a2ad7b-d34d-4c81-8331-77589994d0d7",
   "metadata": {},
   "source": [
    "Perform Grid Search on numerical features only"
   ]
  },
  {
   "cell_type": "code",
   "execution_count": 11,
   "id": "4d4fd9a4-f7aa-4bf3-84bd-999086862f88",
   "metadata": {
    "tags": []
   },
   "outputs": [
    {
     "name": "stdout",
     "output_type": "stream",
     "text": [
      "Fitting 5 folds for each of 120 candidates, totalling 600 fits\n"
     ]
    },
    {
     "data": {
      "text/plain": [
       "GridSearchCV(cv=5, estimator=RandomForestClassifier(random_state=0), n_jobs=-1,\n",
       "             param_grid={'class_weight': ['balanced', 'balanced_subsample'],\n",
       "                         'criterion': ['gini', 'entropy'],\n",
       "                         'min_samples_split': [0.01, 0.1, 0.25, 0.5, 0.75, 1.0],\n",
       "                         'n_estimators': [25, 50, 100, 150, 200]},\n",
       "             scoring='f1', verbose=2)"
      ]
     },
     "execution_count": 11,
     "metadata": {},
     "output_type": "execute_result"
    }
   ],
   "source": [
    "# Initiate the model\n",
    "model = RandomForestClassifier(random_state=0)\n",
    "\n",
    "# Initiate the Grid Search Class\n",
    "clf = GridSearchCV(model, hyperparameter_space, \n",
    "                   scoring = 'f1', cv=5, \n",
    "                   n_jobs=-1, refit = True,\n",
    "                   verbose=2)\n",
    "\n",
    "# Run the Grid Search CV\n",
    "clf.fit(X_train_numerical, y_train)"
   ]
  },
  {
   "cell_type": "markdown",
   "id": "fe76998f-70ad-4b3c-8ba6-21a19ead3220",
   "metadata": {},
   "source": [
    "Get the best set of hyperparameters along with the average F1-Score from the 5-folds CV"
   ]
  },
  {
   "cell_type": "code",
   "execution_count": 12,
   "id": "8bd7402b-5c08-4685-afe4-dc170b3c08e1",
   "metadata": {},
   "outputs": [
    {
     "data": {
      "text/plain": [
       "({'class_weight': 'balanced',\n",
       "  'criterion': 'entropy',\n",
       "  'min_samples_split': 0.01,\n",
       "  'n_estimators': 150},\n",
       " 0.4933329227505155)"
      ]
     },
     "execution_count": 12,
     "metadata": {},
     "output_type": "execute_result"
    }
   ],
   "source": [
    "clf.best_params_,clf.best_score_"
   ]
  },
  {
   "cell_type": "markdown",
   "id": "67e4679a-d4b9-4f75-bd7e-e3ee8316f51c",
   "metadata": {},
   "source": [
    "Calculate the F1-Score on Test Data after fitting the model on the full train data using the best set of hyperparameters"
   ]
  },
  {
   "cell_type": "code",
   "execution_count": 13,
   "id": "0e1b938f-1b0c-430a-9a5b-bf25ef88d8d9",
   "metadata": {},
   "outputs": [
    {
     "data": {
      "text/plain": [
       "0.4949793266391022"
      ]
     },
     "execution_count": 13,
     "metadata": {},
     "output_type": "execute_result"
    }
   ],
   "source": [
    "clf.score(X_test_numerical,y_test)"
   ]
  },
  {
   "cell_type": "markdown",
   "id": "baec1640-b305-4912-86c5-c65ffd80443a",
   "metadata": {},
   "source": [
    "Start of the experiment with all features"
   ]
  },
  {
   "cell_type": "code",
   "execution_count": 14,
   "id": "0bd49dfe-3b6a-4e6b-9064-d588e89e7e2b",
   "metadata": {},
   "outputs": [],
   "source": [
    "# Get list of numerical features\n",
    "numerical_feats = list(df_train.drop(columns='y').select_dtypes(include=np.number).columns)\n",
    "\n",
    "# Get list of categorical features\n",
    "categorical_feats = list(df_train.drop(columns='y').select_dtypes(exclude=np.number).columns)"
   ]
  },
  {
   "cell_type": "markdown",
   "id": "95453b82-3e7a-4afd-b5c5-65ab83b1a99c",
   "metadata": {},
   "source": [
    "Initiate the preprocessors"
   ]
  },
  {
   "cell_type": "code",
   "execution_count": 15,
   "id": "0ca82f26-be00-4410-9630-0cca5687d88c",
   "metadata": {},
   "outputs": [],
   "source": [
    "# Initiate the Normalization Pre-processing for Numerical Features\n",
    "numeric_preprocessor = StandardScaler()\n",
    "\n",
    "# Initiate the One-Hot-Encoding Pre-processing for Categorical Features\n",
    "categorical_preprocessor = OneHotEncoder(handle_unknown=\"ignore\")"
   ]
  },
  {
   "cell_type": "markdown",
   "id": "146837de-9fa1-4446-8404-522c2afe7a04",
   "metadata": {},
   "source": [
    "Create the ColumnTransformer Class to delegate each preprocessor to the corresponding features"
   ]
  },
  {
   "cell_type": "code",
   "execution_count": 16,
   "id": "be9088e1-b45b-486a-b265-a5bf2a0a3966",
   "metadata": {},
   "outputs": [],
   "source": [
    "preprocessor = ColumnTransformer(\n",
    "    transformers=[\n",
    "        (\"num\", numeric_preprocessor, numerical_feats),\n",
    "        (\"cat\", categorical_preprocessor, categorical_feats),\n",
    "    ]\n",
    ")"
   ]
  },
  {
   "cell_type": "markdown",
   "id": "33e65a67-654a-4a31-afb4-e95059f71b1b",
   "metadata": {},
   "source": [
    "Create a Pipeline of preprocessor and model"
   ]
  },
  {
   "cell_type": "code",
   "execution_count": 17,
   "id": "44089acc-bd34-4684-a0d5-e8affa195a7d",
   "metadata": {},
   "outputs": [],
   "source": [
    "pipe = Pipeline(\n",
    "    steps=[(\"preprocessor\", preprocessor), \n",
    "           (\"model\", RandomForestClassifier(random_state=0))]\n",
    ")"
   ]
  },
  {
   "cell_type": "markdown",
   "id": "31dfa6e6-cafc-43c8-aafb-de8275cacb1a",
   "metadata": {},
   "source": [
    "Get all features from the train data"
   ]
  },
  {
   "cell_type": "code",
   "execution_count": 18,
   "id": "3bbeba12-b6c1-4ec0-ba8b-b60e5f96608c",
   "metadata": {},
   "outputs": [
    {
     "name": "stdout",
     "output_type": "stream",
     "text": [
      "<class 'pandas.core.frame.DataFrame'>\n",
      "Int64Index: 40689 entries, 17974 to 2732\n",
      "Data columns (total 16 columns):\n",
      " #   Column     Non-Null Count  Dtype \n",
      "---  ------     --------------  ----- \n",
      " 0   age        40689 non-null  int64 \n",
      " 1   job        40689 non-null  object\n",
      " 2   marital    40689 non-null  object\n",
      " 3   education  40689 non-null  object\n",
      " 4   default    40689 non-null  object\n",
      " 5   balance    40689 non-null  int64 \n",
      " 6   housing    40689 non-null  object\n",
      " 7   loan       40689 non-null  object\n",
      " 8   contact    40689 non-null  object\n",
      " 9   day        40689 non-null  int64 \n",
      " 10  month      40689 non-null  object\n",
      " 11  duration   40689 non-null  int64 \n",
      " 12  campaign   40689 non-null  int64 \n",
      " 13  pdays      40689 non-null  int64 \n",
      " 14  previous   40689 non-null  int64 \n",
      " 15  poutcome   40689 non-null  object\n",
      "dtypes: int64(7), object(9)\n",
      "memory usage: 5.3+ MB\n"
     ]
    }
   ],
   "source": [
    "X_train_full = df_train.drop(columns=['y'])\n",
    "y_train = df_train['y']\n",
    "\n",
    "X_train_full.info()"
   ]
  },
  {
   "cell_type": "markdown",
   "id": "3fa8c354-3725-447d-8732-b19b8010b709",
   "metadata": {},
   "source": [
    "Get all features from the test data"
   ]
  },
  {
   "cell_type": "code",
   "execution_count": 19,
   "id": "6bb680a5-7dcd-440c-af01-fafec4a25dec",
   "metadata": {},
   "outputs": [
    {
     "name": "stdout",
     "output_type": "stream",
     "text": [
      "<class 'pandas.core.frame.DataFrame'>\n",
      "Int64Index: 4522 entries, 14001 to 25978\n",
      "Data columns (total 16 columns):\n",
      " #   Column     Non-Null Count  Dtype \n",
      "---  ------     --------------  ----- \n",
      " 0   age        4522 non-null   int64 \n",
      " 1   job        4522 non-null   object\n",
      " 2   marital    4522 non-null   object\n",
      " 3   education  4522 non-null   object\n",
      " 4   default    4522 non-null   object\n",
      " 5   balance    4522 non-null   int64 \n",
      " 6   housing    4522 non-null   object\n",
      " 7   loan       4522 non-null   object\n",
      " 8   contact    4522 non-null   object\n",
      " 9   day        4522 non-null   int64 \n",
      " 10  month      4522 non-null   object\n",
      " 11  duration   4522 non-null   int64 \n",
      " 12  campaign   4522 non-null   int64 \n",
      " 13  pdays      4522 non-null   int64 \n",
      " 14  previous   4522 non-null   int64 \n",
      " 15  poutcome   4522 non-null   object\n",
      "dtypes: int64(7), object(9)\n",
      "memory usage: 600.6+ KB\n"
     ]
    }
   ],
   "source": [
    "X_test_full = df_test.drop(columns=['y'])\n",
    "y_test = df_test['y']\n",
    "\n",
    "X_test_full.info()"
   ]
  },
  {
   "cell_type": "markdown",
   "id": "4d11a275-96d7-48a1-bfde-5355524096d1",
   "metadata": {},
   "source": [
    "Calculate F1-Score on Test Data without Hyperparameter Tuning"
   ]
  },
  {
   "cell_type": "code",
   "execution_count": 20,
   "id": "a2aac65c-0d77-4ae7-8c8d-849259d3d700",
   "metadata": {},
   "outputs": [
    {
     "name": "stdout",
     "output_type": "stream",
     "text": [
      "0.5164319248826291\n"
     ]
    }
   ],
   "source": [
    "# Fit the pipeline on train data \n",
    "pipe.fit(X_train_full,y_train)\n",
    "\n",
    "# Evaluate on the test data \n",
    "y_pred = pipe.predict(X_test_full)\n",
    "print(f1_score(y_test, y_pred))"
   ]
  },
  {
   "cell_type": "markdown",
   "id": "4c2ba991-ece0-4741-92e3-e5b12b661539",
   "metadata": {},
   "source": [
    "Re-define the Hyperparameter Space to match the expected input of the `Pipeline` object."
   ]
  },
  {
   "cell_type": "code",
   "execution_count": 21,
   "id": "3cbd4336-e17e-4c4a-8471-855be16e6b10",
   "metadata": {},
   "outputs": [],
   "source": [
    "hyperparameter_space = { \n",
    "\"model__n_estimators\": [25,50,100,150,200], \n",
    "\"model__criterion\": [\"gini\", \"entropy\"], \n",
    "\"model__class_weight\": [\"balanced\",\"balanced_subsample\"],\n",
    "\"model__min_samples_split\": [0.01,0.1,0.25,0.5,0.75,1.0],\n",
    "} "
   ]
  },
  {
   "cell_type": "markdown",
   "id": "1f666646-a286-4d79-9877-d5e7992165ad",
   "metadata": {},
   "source": [
    "Perform Grid Search on all features"
   ]
  },
  {
   "cell_type": "code",
   "execution_count": 22,
   "id": "0a193f4f-8049-436c-b709-4f89ebc4bff8",
   "metadata": {},
   "outputs": [
    {
     "name": "stdout",
     "output_type": "stream",
     "text": [
      "Fitting 5 folds for each of 120 candidates, totalling 600 fits\n"
     ]
    },
    {
     "data": {
      "text/plain": [
       "GridSearchCV(cv=5,\n",
       "             estimator=Pipeline(steps=[('preprocessor',\n",
       "                                        ColumnTransformer(transformers=[('num',\n",
       "                                                                         StandardScaler(),\n",
       "                                                                         ['age',\n",
       "                                                                          'balance',\n",
       "                                                                          'day',\n",
       "                                                                          'duration',\n",
       "                                                                          'campaign',\n",
       "                                                                          'pdays',\n",
       "                                                                          'previous']),\n",
       "                                                                        ('cat',\n",
       "                                                                         OneHotEncoder(handle_unknown='ignore'),\n",
       "                                                                         ['job',\n",
       "                                                                          'marital',\n",
       "                                                                          'education',\n",
       "                                                                          'default',\n",
       "                                                                          'housing',\n",
       "                                                                          'loan',\n",
       "                                                                          'contact',\n",
       "                                                                          'month',\n",
       "                                                                          'poutcome'])])),\n",
       "                                       ('model',\n",
       "                                        RandomForestClassifier(random_state=0))]),\n",
       "             n_jobs=-1,\n",
       "             param_grid={'model__class_weight': ['balanced',\n",
       "                                                 'balanced_subsample'],\n",
       "                         'model__criterion': ['gini', 'entropy'],\n",
       "                         'model__min_samples_split': [0.01, 0.1, 0.25, 0.5,\n",
       "                                                      0.75, 1.0],\n",
       "                         'model__n_estimators': [25, 50, 100, 150, 200]},\n",
       "             scoring='f1', verbose=2)"
      ]
     },
     "execution_count": 22,
     "metadata": {},
     "output_type": "execute_result"
    }
   ],
   "source": [
    "# Initiate the Grid Search Class\n",
    "clf = GridSearchCV(pipe, hyperparameter_space, \n",
    "                   scoring = 'f1', cv=5, \n",
    "                   n_jobs=-1, refit = True,\n",
    "                   verbose=2)\n",
    "\n",
    "# Run the Grid Search CV\n",
    "clf.fit(X_train_full, y_train)"
   ]
  },
  {
   "cell_type": "markdown",
   "id": "473156d8-2812-4cc0-a42f-2681774259d1",
   "metadata": {},
   "source": [
    "Get the best set of hyperparameters along with the average F1-Score from the 5-folds CV"
   ]
  },
  {
   "cell_type": "code",
   "execution_count": 23,
   "id": "7926a57b-c658-4dd1-aceb-574b261e30ed",
   "metadata": {},
   "outputs": [
    {
     "data": {
      "text/plain": [
       "({'model__class_weight': 'balanced_subsample',\n",
       "  'model__criterion': 'gini',\n",
       "  'model__min_samples_split': 0.01,\n",
       "  'model__n_estimators': 100},\n",
       " 0.54949186142684)"
      ]
     },
     "execution_count": 23,
     "metadata": {},
     "output_type": "execute_result"
    }
   ],
   "source": [
    "clf.best_params_,clf.best_score_"
   ]
  },
  {
   "cell_type": "markdown",
   "id": "a0455c5c-a162-4daa-86ec-df9e4bfaa4f1",
   "metadata": {},
   "source": [
    "Get the f1-Score on Test Data after fitting the model on the full train data using the best set of hyperparameters"
   ]
  },
  {
   "cell_type": "code",
   "execution_count": 24,
   "id": "56c583ad-56f3-436c-9fff-1cd3c503fafd",
   "metadata": {},
   "outputs": [
    {
     "data": {
      "text/plain": [
       "0.5497685185185185"
      ]
     },
     "execution_count": 24,
     "metadata": {},
     "output_type": "execute_result"
    }
   ],
   "source": [
    "clf.score(X_test_full,y_test)"
   ]
  },
  {
   "cell_type": "markdown",
   "id": "4caf4076-b816-4bd2-9db3-55c1fa49fe99",
   "metadata": {},
   "source": [
    "# Random Search"
   ]
  },
  {
   "cell_type": "code",
   "execution_count": 25,
   "id": "f828077a-dd50-4031-8a68-4454dfb42be6",
   "metadata": {},
   "outputs": [],
   "source": [
    "import pandas as pd\n",
    "import numpy as np\n",
    "from sklearn.compose import ColumnTransformer\n",
    "from sklearn.preprocessing import StandardScaler, OneHotEncoder\n",
    "from sklearn.pipeline import Pipeline\n",
    "from sklearn.model_selection import train_test_split\n",
    "from sklearn.metrics import f1_score\n",
    "from sklearn.ensemble import RandomForestClassifier\n",
    "\n",
    "from scipy.stats import randint,truncnorm\n",
    "from sklearn.model_selection import RandomizedSearchCV"
   ]
  },
  {
   "cell_type": "code",
   "execution_count": 26,
   "id": "943cb796-4d28-4d9c-89c0-cb86713f4e57",
   "metadata": {},
   "outputs": [
    {
     "name": "stdout",
     "output_type": "stream",
     "text": [
      "<class 'pandas.core.frame.DataFrame'>\n",
      "RangeIndex: 45211 entries, 0 to 45210\n",
      "Data columns (total 17 columns):\n",
      " #   Column     Non-Null Count  Dtype \n",
      "---  ------     --------------  ----- \n",
      " 0   age        45211 non-null  int64 \n",
      " 1   job        45211 non-null  object\n",
      " 2   marital    45211 non-null  object\n",
      " 3   education  45211 non-null  object\n",
      " 4   default    45211 non-null  object\n",
      " 5   balance    45211 non-null  int64 \n",
      " 6   housing    45211 non-null  object\n",
      " 7   loan       45211 non-null  object\n",
      " 8   contact    45211 non-null  object\n",
      " 9   day        45211 non-null  int64 \n",
      " 10  month      45211 non-null  object\n",
      " 11  duration   45211 non-null  int64 \n",
      " 12  campaign   45211 non-null  int64 \n",
      " 13  pdays      45211 non-null  int64 \n",
      " 14  previous   45211 non-null  int64 \n",
      " 15  poutcome   45211 non-null  object\n",
      " 16  y          45211 non-null  object\n",
      "dtypes: int64(7), object(10)\n",
      "memory usage: 5.9+ MB\n"
     ]
    }
   ],
   "source": [
    "df = pd.read_csv(\"train.csv\",sep=\";\")\n",
    "df.info()"
   ]
  },
  {
   "cell_type": "markdown",
   "id": "6a0502d9-feda-4324-9b60-f950019b159f",
   "metadata": {},
   "source": [
    "Convert the target variable to integer"
   ]
  },
  {
   "cell_type": "code",
   "execution_count": 27,
   "id": "d51d20be-33b3-461c-bdae-7f26b7666745",
   "metadata": {},
   "outputs": [],
   "source": [
    "df['y'] = df['y'].map({'yes':1,'no':0})"
   ]
  },
  {
   "cell_type": "markdown",
   "id": "82795b40-55d5-4f08-b66d-692fa35ba861",
   "metadata": {},
   "source": [
    "Split full data into train and test data"
   ]
  },
  {
   "cell_type": "code",
   "execution_count": 28,
   "id": "685dafde-2ac3-49cb-b39b-34a88281445d",
   "metadata": {},
   "outputs": [],
   "source": [
    "df_train, df_test = train_test_split(df, test_size=0.1, random_state=0) "
   ]
  },
  {
   "cell_type": "markdown",
   "id": "6ed9fd2c-44a9-4bbc-9947-5bb24a5e57ce",
   "metadata": {},
   "source": [
    "Get list of numerical features"
   ]
  },
  {
   "cell_type": "code",
   "execution_count": 29,
   "id": "732d2361-7141-4acd-bfde-048e315e84af",
   "metadata": {},
   "outputs": [],
   "source": [
    "numerical_feats = list(df_train.drop(columns='y').select_dtypes(include=np.number).columns)"
   ]
  },
  {
   "cell_type": "markdown",
   "id": "6fb0b9f2-fb9d-426a-ab0b-77a77b4d76a1",
   "metadata": {},
   "source": [
    "Get list of categorical features"
   ]
  },
  {
   "cell_type": "code",
   "execution_count": 30,
   "id": "898f2911-3575-4f70-b18f-1bd230854abf",
   "metadata": {},
   "outputs": [],
   "source": [
    "categorical_feats = list(df_train.drop(columns='y').select_dtypes(exclude=np.number).columns)"
   ]
  },
  {
   "cell_type": "markdown",
   "id": "e631f507-d36e-4e7d-8401-f0cf623a80c3",
   "metadata": {},
   "source": [
    "Initiate the preprocessors"
   ]
  },
  {
   "cell_type": "code",
   "execution_count": 31,
   "id": "aa7d306e-4910-4344-8ec5-0ba8bc9614bf",
   "metadata": {},
   "outputs": [],
   "source": [
    "# Initiate the Normalization Pre-processing for Numerical Features\n",
    "numeric_preprocessor = StandardScaler()\n",
    "\n",
    "# Initiate the One-Hot-Encoding Pre-processing for Categorical Features\n",
    "categorical_preprocessor = OneHotEncoder(handle_unknown=\"ignore\")"
   ]
  },
  {
   "cell_type": "markdown",
   "id": "9024afec-6f81-429c-ac55-f41cb9c43aa1",
   "metadata": {},
   "source": [
    "Create the ColumnTransformer Class to delegate each preprocessor to the corresponding features"
   ]
  },
  {
   "cell_type": "code",
   "execution_count": 32,
   "id": "cca8ce63-040c-437f-a2f0-8b54e6af8a60",
   "metadata": {},
   "outputs": [],
   "source": [
    "preprocessor = ColumnTransformer(\n",
    "    transformers=[\n",
    "        (\"num\", numeric_preprocessor, numerical_feats),\n",
    "        (\"cat\", categorical_preprocessor, categorical_feats),\n",
    "    ]\n",
    ")"
   ]
  },
  {
   "cell_type": "markdown",
   "id": "fc902f4e-0020-4257-af39-9a9e6afce0f7",
   "metadata": {},
   "source": [
    "Create a Pipeline of preprocessor and model"
   ]
  },
  {
   "cell_type": "code",
   "execution_count": 33,
   "id": "618f6438-ffc8-4252-9b2e-aa1824ecc5f0",
   "metadata": {},
   "outputs": [],
   "source": [
    "pipe = Pipeline(\n",
    "    steps=[(\"preprocessor\", preprocessor), \n",
    "           (\"model\", RandomForestClassifier(random_state=0))]\n",
    ")"
   ]
  },
  {
   "cell_type": "markdown",
   "id": "bbb842d9-c0bb-4f69-b5c8-9f0d1dae2870",
   "metadata": {},
   "source": [
    "Get all features from the train data"
   ]
  },
  {
   "cell_type": "code",
   "execution_count": 34,
   "id": "09db2e84-0763-491d-80ba-9abf18e67933",
   "metadata": {},
   "outputs": [
    {
     "name": "stdout",
     "output_type": "stream",
     "text": [
      "<class 'pandas.core.frame.DataFrame'>\n",
      "Int64Index: 40689 entries, 17974 to 2732\n",
      "Data columns (total 16 columns):\n",
      " #   Column     Non-Null Count  Dtype \n",
      "---  ------     --------------  ----- \n",
      " 0   age        40689 non-null  int64 \n",
      " 1   job        40689 non-null  object\n",
      " 2   marital    40689 non-null  object\n",
      " 3   education  40689 non-null  object\n",
      " 4   default    40689 non-null  object\n",
      " 5   balance    40689 non-null  int64 \n",
      " 6   housing    40689 non-null  object\n",
      " 7   loan       40689 non-null  object\n",
      " 8   contact    40689 non-null  object\n",
      " 9   day        40689 non-null  int64 \n",
      " 10  month      40689 non-null  object\n",
      " 11  duration   40689 non-null  int64 \n",
      " 12  campaign   40689 non-null  int64 \n",
      " 13  pdays      40689 non-null  int64 \n",
      " 14  previous   40689 non-null  int64 \n",
      " 15  poutcome   40689 non-null  object\n",
      "dtypes: int64(7), object(9)\n",
      "memory usage: 5.3+ MB\n"
     ]
    }
   ],
   "source": [
    "X_train_full = df_train.drop(columns=['y'])\n",
    "y_train = df_train['y']\n",
    "\n",
    "X_train_full.info()"
   ]
  },
  {
   "cell_type": "markdown",
   "id": "484116df-f0af-4cb1-85ec-549d3cf20adc",
   "metadata": {},
   "source": [
    "Get all features from the test data"
   ]
  },
  {
   "cell_type": "code",
   "execution_count": 35,
   "id": "f037201e-725b-4269-8089-d7a099dcee84",
   "metadata": {},
   "outputs": [
    {
     "name": "stdout",
     "output_type": "stream",
     "text": [
      "<class 'pandas.core.frame.DataFrame'>\n",
      "Int64Index: 4522 entries, 14001 to 25978\n",
      "Data columns (total 16 columns):\n",
      " #   Column     Non-Null Count  Dtype \n",
      "---  ------     --------------  ----- \n",
      " 0   age        4522 non-null   int64 \n",
      " 1   job        4522 non-null   object\n",
      " 2   marital    4522 non-null   object\n",
      " 3   education  4522 non-null   object\n",
      " 4   default    4522 non-null   object\n",
      " 5   balance    4522 non-null   int64 \n",
      " 6   housing    4522 non-null   object\n",
      " 7   loan       4522 non-null   object\n",
      " 8   contact    4522 non-null   object\n",
      " 9   day        4522 non-null   int64 \n",
      " 10  month      4522 non-null   object\n",
      " 11  duration   4522 non-null   int64 \n",
      " 12  campaign   4522 non-null   int64 \n",
      " 13  pdays      4522 non-null   int64 \n",
      " 14  previous   4522 non-null   int64 \n",
      " 15  poutcome   4522 non-null   object\n",
      "dtypes: int64(7), object(9)\n",
      "memory usage: 600.6+ KB\n"
     ]
    }
   ],
   "source": [
    "X_test_full = df_test.drop(columns=['y'])\n",
    "y_test = df_test['y']\n",
    "\n",
    "X_test_full.info()"
   ]
  },
  {
   "cell_type": "markdown",
   "id": "c5009e0a-31c2-44e7-b8e2-6a29ae0507d5",
   "metadata": {},
   "source": [
    "Calculate F1-Score on Test Data without Hyperparameter Tuning"
   ]
  },
  {
   "cell_type": "code",
   "execution_count": 36,
   "id": "598f08e3-73cd-4149-b1da-996c67a5b027",
   "metadata": {
    "tags": []
   },
   "outputs": [
    {
     "name": "stdout",
     "output_type": "stream",
     "text": [
      "0.5164319248826291\n"
     ]
    }
   ],
   "source": [
    "# Fit the pipeline on train data \n",
    "pipe.fit(X_train_full,y_train)\n",
    "\n",
    "# Evaluate on the test data \n",
    "y_pred = pipe.predict(X_test_full)\n",
    "print(f1_score(y_test, y_pred))"
   ]
  },
  {
   "cell_type": "markdown",
   "id": "94478376-da58-4981-98a2-828d738765b5",
   "metadata": {},
   "source": [
    "Define the hyperparameter space"
   ]
  },
  {
   "cell_type": "code",
   "execution_count": 37,
   "id": "1a0540b9-fafe-466f-83f6-37482c596512",
   "metadata": {},
   "outputs": [],
   "source": [
    "hyperparameter_space = { \n",
    "\"model__n_estimators\": randint(5, 200), \n",
    "\"model__criterion\": [\"gini\", \"entropy\"],\n",
    "\"model__class_weight\": [\"balanced\",\"balanced_subsample\"],\n",
    "\"model__min_samples_split\": truncnorm(a=0,b=0.5,loc=0.005, scale=0.01),\n",
    "} "
   ]
  },
  {
   "cell_type": "markdown",
   "id": "4b3323cc-3fc1-4007-ada1-0bccf0d60717",
   "metadata": {},
   "source": [
    "Perform Random Search"
   ]
  },
  {
   "cell_type": "code",
   "execution_count": 38,
   "id": "bd94b0d5-00f1-4411-9460-cd963a87bea6",
   "metadata": {},
   "outputs": [
    {
     "name": "stdout",
     "output_type": "stream",
     "text": [
      "Fitting 5 folds for each of 200 candidates, totalling 1000 fits\n"
     ]
    },
    {
     "data": {
      "text/plain": [
       "RandomizedSearchCV(cv=5,\n",
       "                   estimator=Pipeline(steps=[('preprocessor',\n",
       "                                              ColumnTransformer(transformers=[('num',\n",
       "                                                                               StandardScaler(),\n",
       "                                                                               ['age',\n",
       "                                                                                'balance',\n",
       "                                                                                'day',\n",
       "                                                                                'duration',\n",
       "                                                                                'campaign',\n",
       "                                                                                'pdays',\n",
       "                                                                                'previous']),\n",
       "                                                                              ('cat',\n",
       "                                                                               OneHotEncoder(handle_unknown='ignore'),\n",
       "                                                                               ['job',\n",
       "                                                                                'marital',\n",
       "                                                                                'education',\n",
       "                                                                                'default',\n",
       "                                                                                'housing',\n",
       "                                                                                'loan',\n",
       "                                                                                'contact',\n",
       "                                                                                'month',\n",
       "                                                                                'poutcome'])])),\n",
       "                                             ('model',\n",
       "                                              RandomForestClass...\n",
       "                   n_iter=200, n_jobs=-1,\n",
       "                   param_distributions={'model__class_weight': ['balanced',\n",
       "                                                                'balanced_subsample'],\n",
       "                                        'model__criterion': ['gini', 'entropy'],\n",
       "                                        'model__min_samples_split': <scipy.stats._distn_infrastructure.rv_frozen object at 0x7f31b8179850>,\n",
       "                                        'model__n_estimators': <scipy.stats._distn_infrastructure.rv_frozen object at 0x7f31b8179d10>},\n",
       "                   random_state=0, scoring='f1', verbose=2)"
      ]
     },
     "execution_count": 38,
     "metadata": {},
     "output_type": "execute_result"
    }
   ],
   "source": [
    "# Initiate the Random Search Class\n",
    "clf = RandomizedSearchCV(pipe, hyperparameter_space, \n",
    "                         n_iter = 200, random_state = 0,\n",
    "                         scoring = 'f1', cv=5, \n",
    "                         n_jobs=-1, refit = True,\n",
    "                         verbose=2)\n",
    "\n",
    "# Run the Random Search CV\n",
    "clf.fit(X_train_full, y_train)"
   ]
  },
  {
   "cell_type": "markdown",
   "id": "a39163e0-aa09-4c8d-919b-e4b1c38323b8",
   "metadata": {},
   "source": [
    "Get the best set of hyperparameters along with the average F1-Score from the 5-folds CV"
   ]
  },
  {
   "cell_type": "code",
   "execution_count": 39,
   "id": "3735a6c3-7277-4284-be9f-595859834073",
   "metadata": {},
   "outputs": [
    {
     "data": {
      "text/plain": [
       "({'model__class_weight': 'balanced_subsample',\n",
       "  'model__criterion': 'entropy',\n",
       "  'model__min_samples_split': 0.005155815445940717,\n",
       "  'model__n_estimators': 187},\n",
       " 0.5624773971858765)"
      ]
     },
     "execution_count": 39,
     "metadata": {},
     "output_type": "execute_result"
    }
   ],
   "source": [
    "clf.best_params_,clf.best_score_"
   ]
  },
  {
   "cell_type": "markdown",
   "id": "3108698d-a403-41da-85d0-d8730edb5dff",
   "metadata": {},
   "source": [
    "Get the f1-Score on Test Data after fitting the model on the full train data using the best set of hyperparameters"
   ]
  },
  {
   "cell_type": "code",
   "execution_count": 40,
   "id": "ce4601d2-e279-41dc-bf6d-d4e4883e0127",
   "metadata": {},
   "outputs": [
    {
     "data": {
      "text/plain": [
       "0.5638872225554888"
      ]
     },
     "execution_count": 40,
     "metadata": {},
     "output_type": "execute_result"
    }
   ],
   "source": [
    "clf.score(X_test_full,y_test)"
   ]
  },
  {
   "cell_type": "markdown",
   "id": "52b89c9a-008f-4aa3-9f35-404b45041ec5",
   "metadata": {},
   "source": [
    "# Coarse-to-Fine Search"
   ]
  },
  {
   "cell_type": "code",
   "execution_count": 41,
   "id": "dff4f4d5-d1dc-412c-919f-2d800b58f3ab",
   "metadata": {},
   "outputs": [],
   "source": [
    "import pandas as pd\n",
    "import numpy as np\n",
    "from sklearn.compose import ColumnTransformer\n",
    "from sklearn.preprocessing import StandardScaler, OneHotEncoder\n",
    "from sklearn.pipeline import Pipeline\n",
    "from sklearn.model_selection import train_test_split\n",
    "from sklearn.metrics import f1_score\n",
    "from sklearn.ensemble import RandomForestClassifier\n",
    "\n",
    "import scipy\n",
    "from scipy.stats import randint,truncnorm\n",
    "from sklearn.base import clone\n",
    "from sklearn.model_selection import ParameterSampler, cross_val_score"
   ]
  },
  {
   "cell_type": "code",
   "execution_count": 42,
   "id": "90df15ec-abc3-4c71-9c21-1c409c639137",
   "metadata": {},
   "outputs": [],
   "source": [
    "class CoarseToFineSearchCV:\n",
    "    def __init__(self,\n",
    "                 estimator,\n",
    "                 param_distributions,\n",
    "                 random_iters,\n",
    "                 top_n_percentile,\n",
    "                 continuous_hyperparams=[],\n",
    "                 worse_score = 0,\n",
    "                 n_iter=10,\n",
    "                 scoring=None,\n",
    "                 n_jobs=None,\n",
    "                 refit=True,\n",
    "                 cv=None,\n",
    "                 random_state=0,\n",
    "                 verbose=0\n",
    "                ):\n",
    "\n",
    "        self.estimator = estimator\n",
    "        self.param_distributions = param_distributions\n",
    "        self.random_iters = random_iters\n",
    "        self.top_n_percentile = top_n_percentile\n",
    "        self.continuous_hyperparams = continuous_hyperparams\n",
    "        self.worse_score = worse_score\n",
    "        self.n_iter = n_iter\n",
    "        self.scoring = scoring\n",
    "        self.n_jobs = n_jobs\n",
    "        self.refit = refit\n",
    "        self.cv = cv\n",
    "        self.random_state = random_state\n",
    "        self.verbose = verbose\n",
    "\n",
    "        self.best_params_ = {}\n",
    "        self.best_score_ = None\n",
    "    \n",
    "\n",
    "    def fit(self,X,y):\n",
    "        new_param_distributions = self.param_distributions.copy()\n",
    "        best_params_dict = {'score':self.worse_score,'params':[]}\n",
    "\n",
    "        for epoch in range(self.n_iter):\n",
    "            if self.verbose >= 2:\n",
    "                print(\"Hyperparameter space\")\n",
    "                print(new_param_distributions)\n",
    "\n",
    "\n",
    "            # List of sampled hyperparameter combinations will be used for random search\n",
    "            param_list = list(ParameterSampler(new_param_distributions, \n",
    "                                               n_iter=self.random_iters,\n",
    "                                               random_state=self.random_state))\n",
    "\n",
    "            # Searching the Best Parameters with Random Search\n",
    "            rs_results_dict = {}\n",
    "            for random_iter in range(min(self.random_iters,len(param_list))):\n",
    "                # Get the set of parameter for this iteration\n",
    "                strategy_params = param_list[random_iter]\n",
    "                \n",
    "                estimator = clone(self.estimator).set_params(**strategy_params)\n",
    "\n",
    "                results = np.mean(cross_val_score(estimator,X, y, \n",
    "                                                  cv=self.cv, scoring=self.scoring,\n",
    "                                                  n_jobs=self.n_jobs\n",
    "                                                  )\n",
    "                                 )\n",
    "\n",
    "                rs_results_dict[tuple(strategy_params.values())] = {'score':results}\n",
    "\n",
    "                if results >= best_params_dict['score']:\n",
    "                    best_params_dict['score'] = results\n",
    "                    best_params_dict['params'] = list(strategy_params.values())\n",
    "\n",
    "            # Save the results in dataframe and sort it based on score\n",
    "            param_names = list(strategy_params.keys())\n",
    "            df_rs_results = pd.DataFrame(rs_results_dict).T.reset_index()\n",
    "            df_rs_results.columns = param_names + ['score']\n",
    "            df_rs_results = df_rs_results.sort_values(['score'],ascending=False).head(self.n_iter-epoch)\n",
    "\n",
    "            # If the best score from this epoch is worse than the best score, \n",
    "            # then append the best hyperaparameters combination to this epoch dataframe\n",
    "            if df_rs_results['score'].iloc[0] < best_params_dict['score'] and best_params_dict['params']:\n",
    "                new_row_dict = {}\n",
    "                new_row_dict['score'] = best_params_dict['score']\n",
    "                for idx, key in enumerate(param_names):\n",
    "                    new_row_dict[key] = best_params_dict['params'][idx]\n",
    "\n",
    "                df_rs_results = pd.concat([df_rs_results,pd.DataFrame({0:new_row_dict}).T]).reset_index(drop=True)\n",
    "                df_rs_results = df_rs_results.sort_values(['score'],ascending=False).head(self.n_iter-epoch)\n",
    "\n",
    "            if self.verbose >= 1:\n",
    "                display(df_rs_results)\n",
    "                print(df_rs_results.head(1).T.to_dict())\n",
    "\n",
    "            # Get the worse and best hyperparameter combinations\n",
    "            percentile_threshold = df_rs_results['score'].quantile(self.top_n_percentile/100)\n",
    "            promising_subspace = df_rs_results[df_rs_results['score']>=percentile_threshold]\n",
    "            df_rs_results_min = promising_subspace.min(axis=0)\n",
    "            df_rs_results_max = promising_subspace.max(axis=0)\n",
    "\n",
    "            # Generate new hyperparameter space based on current worse and best hyperparameter combinations\n",
    "            for key in new_param_distributions:\n",
    "                if isinstance(new_param_distributions[key],scipy.stats._distn_infrastructure.rv_frozen):\n",
    "                    # Currently only support truncnorm and randint distribution\n",
    "                    # You can add your own distribution here\n",
    "                    if key in self.continuous_hyperparams:\n",
    "                        new_param_distributions[key] = truncnorm(a=df_rs_results_min[key],b=df_rs_results_max[key]+1e-6,\n",
    "                                                                 loc=(0.8*df_rs_results_min[key]+0.2*df_rs_results_max[key]), \n",
    "                                                                 scale=(0.8*df_rs_results_min[key]+0.2*df_rs_results_max[key])*2)\n",
    "                    else:\n",
    "                        new_param_distributions[key] = randint(int(df_rs_results_min[key]), int(df_rs_results_max[key])+1)\n",
    "                elif isinstance(new_param_distributions[key][0],str) or isinstance(new_param_distributions[key][0],bool):\n",
    "                    new_param_distributions[key] = tuple(promising_subspace[key].unique())\n",
    "                elif isinstance(new_param_distributions[key][0],int):\n",
    "                    new_param_distributions[key] = [i for i in range(int(df_rs_results_min[key]), int(df_rs_results_max[key])+1)]\n",
    "                elif isinstance(new_param_distributions[key][0],float):\n",
    "                    new_param_distributions[key] = list(np.linspace(df_rs_results_min[key], df_rs_results_max[key], \n",
    "                                                                    len(param_distributions[key])))\n",
    "                else:\n",
    "                    new_param_distributions[key] = self.param_distributions[key]\n",
    "            \n",
    "            if self.verbose >= 1:\n",
    "                print(\"=\"*100)\n",
    "        \n",
    "        for i, key in enumerate(param_names):\n",
    "            self.best_params_[key] = best_params_dict['params'][i]\n",
    "        self.best_score_ = best_params_dict['score']\n",
    "        \n",
    "        if self.refit:\n",
    "            self.estimator = self.estimator.set_params(**self.best_params_)\n",
    "            self.estimator.fit(X,y)\n",
    "            \n",
    "    def predict(self, X):\n",
    "        if self.refit:\n",
    "            return self.estimator.predict(X)\n",
    "        else:\n",
    "            print(\"Estimator is not refitted.\")"
   ]
  },
  {
   "cell_type": "code",
   "execution_count": 43,
   "id": "2c43fa62-8421-4c9b-a150-5ebd8c647852",
   "metadata": {},
   "outputs": [
    {
     "name": "stdout",
     "output_type": "stream",
     "text": [
      "<class 'pandas.core.frame.DataFrame'>\n",
      "RangeIndex: 45211 entries, 0 to 45210\n",
      "Data columns (total 17 columns):\n",
      " #   Column     Non-Null Count  Dtype \n",
      "---  ------     --------------  ----- \n",
      " 0   age        45211 non-null  int64 \n",
      " 1   job        45211 non-null  object\n",
      " 2   marital    45211 non-null  object\n",
      " 3   education  45211 non-null  object\n",
      " 4   default    45211 non-null  object\n",
      " 5   balance    45211 non-null  int64 \n",
      " 6   housing    45211 non-null  object\n",
      " 7   loan       45211 non-null  object\n",
      " 8   contact    45211 non-null  object\n",
      " 9   day        45211 non-null  int64 \n",
      " 10  month      45211 non-null  object\n",
      " 11  duration   45211 non-null  int64 \n",
      " 12  campaign   45211 non-null  int64 \n",
      " 13  pdays      45211 non-null  int64 \n",
      " 14  previous   45211 non-null  int64 \n",
      " 15  poutcome   45211 non-null  object\n",
      " 16  y          45211 non-null  object\n",
      "dtypes: int64(7), object(10)\n",
      "memory usage: 5.9+ MB\n"
     ]
    }
   ],
   "source": [
    "df = pd.read_csv(\"train.csv\",sep=\";\")\n",
    "df.info()"
   ]
  },
  {
   "cell_type": "markdown",
   "id": "7fdbe3f1-312f-42e9-965b-717268c12607",
   "metadata": {},
   "source": [
    "Convert the target variable to integer"
   ]
  },
  {
   "cell_type": "code",
   "execution_count": 44,
   "id": "0afdeeef-f4b3-4bc5-80fd-2d11add858fa",
   "metadata": {},
   "outputs": [],
   "source": [
    "df['y'] = df['y'].map({'yes':1,'no':0})"
   ]
  },
  {
   "cell_type": "markdown",
   "id": "e0b66366-96e6-43ae-84c3-ea525e0af6a7",
   "metadata": {},
   "source": [
    "Split full data into train and test data"
   ]
  },
  {
   "cell_type": "code",
   "execution_count": 45,
   "id": "b21818ae-759d-40ee-915d-3c724ab0393b",
   "metadata": {},
   "outputs": [],
   "source": [
    "df_train, df_test = train_test_split(df, test_size=0.1, random_state=0) "
   ]
  },
  {
   "cell_type": "markdown",
   "id": "90bab76a-5637-44dd-b660-ce840a4f501d",
   "metadata": {},
   "source": [
    "Get list of numerical features"
   ]
  },
  {
   "cell_type": "code",
   "execution_count": 46,
   "id": "63feddc8-246e-42d2-9109-2e46218e449a",
   "metadata": {},
   "outputs": [],
   "source": [
    "numerical_feats = list(df_train.drop(columns='y').select_dtypes(include=np.number).columns)"
   ]
  },
  {
   "cell_type": "markdown",
   "id": "d366a760-fd73-436f-a444-ff59d6ecefe6",
   "metadata": {},
   "source": [
    "Get list of categorical features"
   ]
  },
  {
   "cell_type": "code",
   "execution_count": 47,
   "id": "7826635f-6339-477b-a818-635879e1a71b",
   "metadata": {},
   "outputs": [],
   "source": [
    "categorical_feats = list(df_train.drop(columns='y').select_dtypes(exclude=np.number).columns)"
   ]
  },
  {
   "cell_type": "markdown",
   "id": "cb4fedf4-e863-4b73-8332-44ed8852568b",
   "metadata": {},
   "source": [
    "Initiate the preprocessors"
   ]
  },
  {
   "cell_type": "code",
   "execution_count": 48,
   "id": "32e942a0-4fa7-44a8-9cef-b371b8bf501e",
   "metadata": {},
   "outputs": [],
   "source": [
    "# Initiate the Normalization Pre-processing for Numerical Features\n",
    "numeric_preprocessor = StandardScaler()\n",
    "\n",
    "# Initiate the One-Hot-Encoding Pre-processing for Categorical Features\n",
    "categorical_preprocessor = OneHotEncoder(handle_unknown=\"ignore\")"
   ]
  },
  {
   "cell_type": "markdown",
   "id": "d5ab6431-e402-4270-ac37-046cd9cc4f31",
   "metadata": {},
   "source": [
    "Create the ColumnTransformer Class to delegate each preprocessor to the corresponding features"
   ]
  },
  {
   "cell_type": "code",
   "execution_count": 49,
   "id": "d15dc6ea-2ae9-475c-b5ea-56b143ba4926",
   "metadata": {},
   "outputs": [],
   "source": [
    "preprocessor = ColumnTransformer(\n",
    "    transformers=[\n",
    "        (\"num\", numeric_preprocessor, numerical_feats),\n",
    "        (\"cat\", categorical_preprocessor, categorical_feats),\n",
    "    ]\n",
    ")"
   ]
  },
  {
   "cell_type": "markdown",
   "id": "005b01af-b705-4b9d-ac8f-97c989152040",
   "metadata": {},
   "source": [
    "Create a Pipeline of preprocessor and model"
   ]
  },
  {
   "cell_type": "code",
   "execution_count": 50,
   "id": "5e405123-4e8f-4802-8d84-22339f16e0dc",
   "metadata": {},
   "outputs": [],
   "source": [
    "pipe = Pipeline(\n",
    "    steps=[(\"preprocessor\", preprocessor), \n",
    "           (\"model\", RandomForestClassifier(random_state=0))]\n",
    ")"
   ]
  },
  {
   "cell_type": "markdown",
   "id": "a0720ad8-a528-4009-883e-0febd9cf8738",
   "metadata": {},
   "source": [
    "Get all features from the train data"
   ]
  },
  {
   "cell_type": "code",
   "execution_count": 51,
   "id": "c043edca-f233-480c-af56-f0b7a07c21e0",
   "metadata": {},
   "outputs": [
    {
     "name": "stdout",
     "output_type": "stream",
     "text": [
      "<class 'pandas.core.frame.DataFrame'>\n",
      "Int64Index: 40689 entries, 17974 to 2732\n",
      "Data columns (total 16 columns):\n",
      " #   Column     Non-Null Count  Dtype \n",
      "---  ------     --------------  ----- \n",
      " 0   age        40689 non-null  int64 \n",
      " 1   job        40689 non-null  object\n",
      " 2   marital    40689 non-null  object\n",
      " 3   education  40689 non-null  object\n",
      " 4   default    40689 non-null  object\n",
      " 5   balance    40689 non-null  int64 \n",
      " 6   housing    40689 non-null  object\n",
      " 7   loan       40689 non-null  object\n",
      " 8   contact    40689 non-null  object\n",
      " 9   day        40689 non-null  int64 \n",
      " 10  month      40689 non-null  object\n",
      " 11  duration   40689 non-null  int64 \n",
      " 12  campaign   40689 non-null  int64 \n",
      " 13  pdays      40689 non-null  int64 \n",
      " 14  previous   40689 non-null  int64 \n",
      " 15  poutcome   40689 non-null  object\n",
      "dtypes: int64(7), object(9)\n",
      "memory usage: 5.3+ MB\n"
     ]
    }
   ],
   "source": [
    "X_train_full = df_train.drop(columns=['y'])\n",
    "y_train = df_train['y']\n",
    "\n",
    "X_train_full.info()"
   ]
  },
  {
   "cell_type": "markdown",
   "id": "426efd83-fbe9-463a-9219-bd372b573473",
   "metadata": {},
   "source": [
    "Get all features from the test data"
   ]
  },
  {
   "cell_type": "code",
   "execution_count": 52,
   "id": "6dd49cb6-db85-46ec-98d7-1107b86d3c79",
   "metadata": {},
   "outputs": [
    {
     "name": "stdout",
     "output_type": "stream",
     "text": [
      "<class 'pandas.core.frame.DataFrame'>\n",
      "Int64Index: 4522 entries, 14001 to 25978\n",
      "Data columns (total 16 columns):\n",
      " #   Column     Non-Null Count  Dtype \n",
      "---  ------     --------------  ----- \n",
      " 0   age        4522 non-null   int64 \n",
      " 1   job        4522 non-null   object\n",
      " 2   marital    4522 non-null   object\n",
      " 3   education  4522 non-null   object\n",
      " 4   default    4522 non-null   object\n",
      " 5   balance    4522 non-null   int64 \n",
      " 6   housing    4522 non-null   object\n",
      " 7   loan       4522 non-null   object\n",
      " 8   contact    4522 non-null   object\n",
      " 9   day        4522 non-null   int64 \n",
      " 10  month      4522 non-null   object\n",
      " 11  duration   4522 non-null   int64 \n",
      " 12  campaign   4522 non-null   int64 \n",
      " 13  pdays      4522 non-null   int64 \n",
      " 14  previous   4522 non-null   int64 \n",
      " 15  poutcome   4522 non-null   object\n",
      "dtypes: int64(7), object(9)\n",
      "memory usage: 600.6+ KB\n"
     ]
    }
   ],
   "source": [
    "X_test_full = df_test.drop(columns=['y'])\n",
    "y_test = df_test['y']\n",
    "\n",
    "X_test_full.info()"
   ]
  },
  {
   "cell_type": "markdown",
   "id": "7d5af028-f80e-404d-9dd7-e058a18e6345",
   "metadata": {},
   "source": [
    "Calculate F1-Score on Test Data without Hyperparameter Tuning"
   ]
  },
  {
   "cell_type": "code",
   "execution_count": 53,
   "id": "b87a1857-cbd6-46f1-a2f2-2c8e321d8d75",
   "metadata": {
    "tags": []
   },
   "outputs": [
    {
     "name": "stdout",
     "output_type": "stream",
     "text": [
      "0.5164319248826291\n"
     ]
    }
   ],
   "source": [
    "# Fit the pipeline on train data \n",
    "pipe.fit(X_train_full,y_train)\n",
    "\n",
    "# Evaluate on the test data \n",
    "y_pred = pipe.predict(X_test_full)\n",
    "print(f1_score(y_test, y_pred))"
   ]
  },
  {
   "cell_type": "markdown",
   "id": "bef33c48-9df5-41b8-8e2c-93813b101ab9",
   "metadata": {},
   "source": [
    "Define the hyperparameter space"
   ]
  },
  {
   "cell_type": "code",
   "execution_count": 54,
   "id": "dd2ec58b-efed-408d-89d8-955d806c480d",
   "metadata": {},
   "outputs": [],
   "source": [
    "hyperparameter_space = { \n",
    "\"model__n_estimators\": randint(5, 200), \n",
    "\"model__criterion\": [\"gini\", \"entropy\"],\n",
    "\"model__class_weight\": [\"balanced\",\"balanced_subsample\"],\n",
    "\"model__min_samples_split\": truncnorm(a=0,b=0.5,loc=0.005, scale=0.01),\n",
    "} "
   ]
  },
  {
   "cell_type": "code",
   "execution_count": 55,
   "id": "3e8bbd72-a065-4c9c-b48f-9f0edf97b4c1",
   "metadata": {},
   "outputs": [
    {
     "name": "stdout",
     "output_type": "stream",
     "text": [
      "Hyperparameter space\n",
      "{'model__n_estimators': <scipy.stats._distn_infrastructure.rv_frozen object at 0x7f31b80bd290>, 'model__criterion': ['gini', 'entropy'], 'model__class_weight': ['balanced', 'balanced_subsample'], 'model__min_samples_split': <scipy.stats._distn_infrastructure.rv_frozen object at 0x7f31b8223050>}\n"
     ]
    },
    {
     "data": {
      "text/html": [
       "<div>\n",
       "<style scoped>\n",
       "    .dataframe tbody tr th:only-of-type {\n",
       "        vertical-align: middle;\n",
       "    }\n",
       "\n",
       "    .dataframe tbody tr th {\n",
       "        vertical-align: top;\n",
       "    }\n",
       "\n",
       "    .dataframe thead th {\n",
       "        text-align: right;\n",
       "    }\n",
       "</style>\n",
       "<table border=\"1\" class=\"dataframe\">\n",
       "  <thead>\n",
       "    <tr style=\"text-align: right;\">\n",
       "      <th></th>\n",
       "      <th>model__class_weight</th>\n",
       "      <th>model__criterion</th>\n",
       "      <th>model__min_samples_split</th>\n",
       "      <th>model__n_estimators</th>\n",
       "      <th>score</th>\n",
       "    </tr>\n",
       "  </thead>\n",
       "  <tbody>\n",
       "    <tr>\n",
       "      <th>17</th>\n",
       "      <td>balanced</td>\n",
       "      <td>gini</td>\n",
       "      <td>0.005619</td>\n",
       "      <td>147</td>\n",
       "      <td>0.558581</td>\n",
       "    </tr>\n",
       "    <tr>\n",
       "      <th>22</th>\n",
       "      <td>balanced_subsample</td>\n",
       "      <td>gini</td>\n",
       "      <td>0.005764</td>\n",
       "      <td>146</td>\n",
       "      <td>0.558541</td>\n",
       "    </tr>\n",
       "    <tr>\n",
       "      <th>12</th>\n",
       "      <td>balanced</td>\n",
       "      <td>gini</td>\n",
       "      <td>0.005649</td>\n",
       "      <td>169</td>\n",
       "      <td>0.557894</td>\n",
       "    </tr>\n",
       "    <tr>\n",
       "      <th>20</th>\n",
       "      <td>balanced_subsample</td>\n",
       "      <td>gini</td>\n",
       "      <td>0.005775</td>\n",
       "      <td>105</td>\n",
       "      <td>0.557406</td>\n",
       "    </tr>\n",
       "    <tr>\n",
       "      <th>23</th>\n",
       "      <td>balanced_subsample</td>\n",
       "      <td>entropy</td>\n",
       "      <td>0.006528</td>\n",
       "      <td>74</td>\n",
       "      <td>0.557248</td>\n",
       "    </tr>\n",
       "    <tr>\n",
       "      <th>2</th>\n",
       "      <td>balanced</td>\n",
       "      <td>gini</td>\n",
       "      <td>0.006433</td>\n",
       "      <td>93</td>\n",
       "      <td>0.556588</td>\n",
       "    </tr>\n",
       "    <tr>\n",
       "      <th>18</th>\n",
       "      <td>balanced_subsample</td>\n",
       "      <td>entropy</td>\n",
       "      <td>0.006566</td>\n",
       "      <td>175</td>\n",
       "      <td>0.555983</td>\n",
       "    </tr>\n",
       "    <tr>\n",
       "      <th>5</th>\n",
       "      <td>balanced_subsample</td>\n",
       "      <td>entropy</td>\n",
       "      <td>0.006626</td>\n",
       "      <td>153</td>\n",
       "      <td>0.555200</td>\n",
       "    </tr>\n",
       "    <tr>\n",
       "      <th>24</th>\n",
       "      <td>balanced_subsample</td>\n",
       "      <td>entropy</td>\n",
       "      <td>0.006779</td>\n",
       "      <td>99</td>\n",
       "      <td>0.555021</td>\n",
       "    </tr>\n",
       "    <tr>\n",
       "      <th>21</th>\n",
       "      <td>balanced</td>\n",
       "      <td>gini</td>\n",
       "      <td>0.007002</td>\n",
       "      <td>153</td>\n",
       "      <td>0.553631</td>\n",
       "    </tr>\n",
       "  </tbody>\n",
       "</table>\n",
       "</div>"
      ],
      "text/plain": [
       "   model__class_weight model__criterion  model__min_samples_split  \\\n",
       "17            balanced             gini                  0.005619   \n",
       "22  balanced_subsample             gini                  0.005764   \n",
       "12            balanced             gini                  0.005649   \n",
       "20  balanced_subsample             gini                  0.005775   \n",
       "23  balanced_subsample          entropy                  0.006528   \n",
       "2             balanced             gini                  0.006433   \n",
       "18  balanced_subsample          entropy                  0.006566   \n",
       "5   balanced_subsample          entropy                  0.006626   \n",
       "24  balanced_subsample          entropy                  0.006779   \n",
       "21            balanced             gini                  0.007002   \n",
       "\n",
       "    model__n_estimators     score  \n",
       "17                  147  0.558581  \n",
       "22                  146  0.558541  \n",
       "12                  169  0.557894  \n",
       "20                  105  0.557406  \n",
       "23                   74  0.557248  \n",
       "2                    93  0.556588  \n",
       "18                  175  0.555983  \n",
       "5                   153  0.555200  \n",
       "24                   99  0.555021  \n",
       "21                  153  0.553631  "
      ]
     },
     "metadata": {},
     "output_type": "display_data"
    },
    {
     "name": "stdout",
     "output_type": "stream",
     "text": [
      "{17: {'model__class_weight': 'balanced', 'model__criterion': 'gini', 'model__min_samples_split': 0.0056191451615601904, 'model__n_estimators': 147, 'score': 0.5585806490283123}}\n",
      "====================================================================================================\n",
      "Hyperparameter space\n",
      "{'model__n_estimators': <scipy.stats._distn_infrastructure.rv_frozen object at 0x7f31b821c250>, 'model__criterion': ('gini', 'entropy'), 'model__class_weight': ('balanced', 'balanced_subsample'), 'model__min_samples_split': <scipy.stats._distn_infrastructure.rv_frozen object at 0x7f31b81358d0>}\n"
     ]
    },
    {
     "data": {
      "text/html": [
       "<div>\n",
       "<style scoped>\n",
       "    .dataframe tbody tr th:only-of-type {\n",
       "        vertical-align: middle;\n",
       "    }\n",
       "\n",
       "    .dataframe tbody tr th {\n",
       "        vertical-align: top;\n",
       "    }\n",
       "\n",
       "    .dataframe thead th {\n",
       "        text-align: right;\n",
       "    }\n",
       "</style>\n",
       "<table border=\"1\" class=\"dataframe\">\n",
       "  <thead>\n",
       "    <tr style=\"text-align: right;\">\n",
       "      <th></th>\n",
       "      <th>model__class_weight</th>\n",
       "      <th>model__criterion</th>\n",
       "      <th>model__min_samples_split</th>\n",
       "      <th>model__n_estimators</th>\n",
       "      <th>score</th>\n",
       "    </tr>\n",
       "  </thead>\n",
       "  <tbody>\n",
       "    <tr>\n",
       "      <th>9</th>\n",
       "      <td>balanced_subsample</td>\n",
       "      <td>entropy</td>\n",
       "      <td>0.005867</td>\n",
       "      <td>106</td>\n",
       "      <td>0.559649</td>\n",
       "    </tr>\n",
       "    <tr>\n",
       "      <th>17</th>\n",
       "      <td>balanced_subsample</td>\n",
       "      <td>entropy</td>\n",
       "      <td>0.005873</td>\n",
       "      <td>85</td>\n",
       "      <td>0.559407</td>\n",
       "    </tr>\n",
       "    <tr>\n",
       "      <th>5</th>\n",
       "      <td>balanced_subsample</td>\n",
       "      <td>entropy</td>\n",
       "      <td>0.005875</td>\n",
       "      <td>146</td>\n",
       "      <td>0.559317</td>\n",
       "    </tr>\n",
       "    <tr>\n",
       "      <th>21</th>\n",
       "      <td>balanced_subsample</td>\n",
       "      <td>entropy</td>\n",
       "      <td>0.005873</td>\n",
       "      <td>150</td>\n",
       "      <td>0.559154</td>\n",
       "    </tr>\n",
       "    <tr>\n",
       "      <th>19</th>\n",
       "      <td>balanced_subsample</td>\n",
       "      <td>entropy</td>\n",
       "      <td>0.005870</td>\n",
       "      <td>116</td>\n",
       "      <td>0.559081</td>\n",
       "    </tr>\n",
       "    <tr>\n",
       "      <th>12</th>\n",
       "      <td>balanced</td>\n",
       "      <td>entropy</td>\n",
       "      <td>0.005874</td>\n",
       "      <td>102</td>\n",
       "      <td>0.558940</td>\n",
       "    </tr>\n",
       "    <tr>\n",
       "      <th>1</th>\n",
       "      <td>balanced_subsample</td>\n",
       "      <td>entropy</td>\n",
       "      <td>0.005875</td>\n",
       "      <td>157</td>\n",
       "      <td>0.558881</td>\n",
       "    </tr>\n",
       "    <tr>\n",
       "      <th>0</th>\n",
       "      <td>balanced</td>\n",
       "      <td>entropy</td>\n",
       "      <td>0.005874</td>\n",
       "      <td>141</td>\n",
       "      <td>0.558855</td>\n",
       "    </tr>\n",
       "    <tr>\n",
       "      <th>7</th>\n",
       "      <td>balanced</td>\n",
       "      <td>entropy</td>\n",
       "      <td>0.005875</td>\n",
       "      <td>156</td>\n",
       "      <td>0.558707</td>\n",
       "    </tr>\n",
       "  </tbody>\n",
       "</table>\n",
       "</div>"
      ],
      "text/plain": [
       "   model__class_weight model__criterion  model__min_samples_split  \\\n",
       "9   balanced_subsample          entropy                  0.005867   \n",
       "17  balanced_subsample          entropy                  0.005873   \n",
       "5   balanced_subsample          entropy                  0.005875   \n",
       "21  balanced_subsample          entropy                  0.005873   \n",
       "19  balanced_subsample          entropy                  0.005870   \n",
       "12            balanced          entropy                  0.005874   \n",
       "1   balanced_subsample          entropy                  0.005875   \n",
       "0             balanced          entropy                  0.005874   \n",
       "7             balanced          entropy                  0.005875   \n",
       "\n",
       "    model__n_estimators     score  \n",
       "9                   106  0.559649  \n",
       "17                   85  0.559407  \n",
       "5                   146  0.559317  \n",
       "21                  150  0.559154  \n",
       "19                  116  0.559081  \n",
       "12                  102  0.558940  \n",
       "1                   157  0.558881  \n",
       "0                   141  0.558855  \n",
       "7                   156  0.558707  "
      ]
     },
     "metadata": {},
     "output_type": "display_data"
    },
    {
     "name": "stdout",
     "output_type": "stream",
     "text": [
      "{9: {'model__class_weight': 'balanced_subsample', 'model__criterion': 'entropy', 'model__min_samples_split': 0.005867409821769845, 'model__n_estimators': 106, 'score': 0.5596488968814786}}\n",
      "====================================================================================================\n",
      "Hyperparameter space\n",
      "{'model__n_estimators': <scipy.stats._distn_infrastructure.rv_frozen object at 0x7f31b8135bd0>, 'model__criterion': ('entropy',), 'model__class_weight': ('balanced_subsample',), 'model__min_samples_split': <scipy.stats._distn_infrastructure.rv_frozen object at 0x7f31b81ca490>}\n"
     ]
    },
    {
     "data": {
      "text/html": [
       "<div>\n",
       "<style scoped>\n",
       "    .dataframe tbody tr th:only-of-type {\n",
       "        vertical-align: middle;\n",
       "    }\n",
       "\n",
       "    .dataframe tbody tr th {\n",
       "        vertical-align: top;\n",
       "    }\n",
       "\n",
       "    .dataframe thead th {\n",
       "        text-align: right;\n",
       "    }\n",
       "</style>\n",
       "<table border=\"1\" class=\"dataframe\">\n",
       "  <thead>\n",
       "    <tr style=\"text-align: right;\">\n",
       "      <th></th>\n",
       "      <th>model__class_weight</th>\n",
       "      <th>model__criterion</th>\n",
       "      <th>model__min_samples_split</th>\n",
       "      <th>model__n_estimators</th>\n",
       "      <th>score</th>\n",
       "    </tr>\n",
       "  </thead>\n",
       "  <tbody>\n",
       "    <tr>\n",
       "      <th>8</th>\n",
       "      <td>balanced_subsample</td>\n",
       "      <td>entropy</td>\n",
       "      <td>0.005867</td>\n",
       "      <td>106</td>\n",
       "      <td>0.559649</td>\n",
       "    </tr>\n",
       "    <tr>\n",
       "      <th>0</th>\n",
       "      <td>balanced_subsample</td>\n",
       "      <td>entropy</td>\n",
       "      <td>0.005938</td>\n",
       "      <td>127</td>\n",
       "      <td>0.558869</td>\n",
       "    </tr>\n",
       "    <tr>\n",
       "      <th>1</th>\n",
       "      <td>balanced_subsample</td>\n",
       "      <td>entropy</td>\n",
       "      <td>0.005938</td>\n",
       "      <td>127</td>\n",
       "      <td>0.558869</td>\n",
       "    </tr>\n",
       "    <tr>\n",
       "      <th>2</th>\n",
       "      <td>balanced_subsample</td>\n",
       "      <td>entropy</td>\n",
       "      <td>0.005938</td>\n",
       "      <td>149</td>\n",
       "      <td>0.558709</td>\n",
       "    </tr>\n",
       "    <tr>\n",
       "      <th>3</th>\n",
       "      <td>balanced_subsample</td>\n",
       "      <td>entropy</td>\n",
       "      <td>0.005938</td>\n",
       "      <td>124</td>\n",
       "      <td>0.558705</td>\n",
       "    </tr>\n",
       "    <tr>\n",
       "      <th>4</th>\n",
       "      <td>balanced_subsample</td>\n",
       "      <td>entropy</td>\n",
       "      <td>0.005938</td>\n",
       "      <td>124</td>\n",
       "      <td>0.558705</td>\n",
       "    </tr>\n",
       "    <tr>\n",
       "      <th>5</th>\n",
       "      <td>balanced_subsample</td>\n",
       "      <td>entropy</td>\n",
       "      <td>0.005938</td>\n",
       "      <td>132</td>\n",
       "      <td>0.558694</td>\n",
       "    </tr>\n",
       "    <tr>\n",
       "      <th>6</th>\n",
       "      <td>balanced_subsample</td>\n",
       "      <td>entropy</td>\n",
       "      <td>0.005938</td>\n",
       "      <td>121</td>\n",
       "      <td>0.558687</td>\n",
       "    </tr>\n",
       "  </tbody>\n",
       "</table>\n",
       "</div>"
      ],
      "text/plain": [
       "  model__class_weight model__criterion model__min_samples_split  \\\n",
       "8  balanced_subsample          entropy                 0.005867   \n",
       "0  balanced_subsample          entropy                 0.005938   \n",
       "1  balanced_subsample          entropy                 0.005938   \n",
       "2  balanced_subsample          entropy                 0.005938   \n",
       "3  balanced_subsample          entropy                 0.005938   \n",
       "4  balanced_subsample          entropy                 0.005938   \n",
       "5  balanced_subsample          entropy                 0.005938   \n",
       "6  balanced_subsample          entropy                 0.005938   \n",
       "\n",
       "  model__n_estimators     score  \n",
       "8                 106  0.559649  \n",
       "0                 127  0.558869  \n",
       "1                 127  0.558869  \n",
       "2                 149  0.558709  \n",
       "3                 124  0.558705  \n",
       "4                 124  0.558705  \n",
       "5                 132  0.558694  \n",
       "6                 121  0.558687  "
      ]
     },
     "metadata": {},
     "output_type": "display_data"
    },
    {
     "name": "stdout",
     "output_type": "stream",
     "text": [
      "{8: {'model__class_weight': 'balanced_subsample', 'model__criterion': 'entropy', 'model__min_samples_split': 0.005867409821769845, 'model__n_estimators': 106, 'score': 0.5596488968814786}}\n",
      "====================================================================================================\n",
      "Hyperparameter space\n",
      "{'model__n_estimators': <scipy.stats._distn_infrastructure.rv_frozen object at 0x7f31b81ee690>, 'model__criterion': ('entropy',), 'model__class_weight': ('balanced_subsample',), 'model__min_samples_split': <scipy.stats._distn_infrastructure.rv_frozen object at 0x7f31b7fe7590>}\n"
     ]
    },
    {
     "data": {
      "text/html": [
       "<div>\n",
       "<style scoped>\n",
       "    .dataframe tbody tr th:only-of-type {\n",
       "        vertical-align: middle;\n",
       "    }\n",
       "\n",
       "    .dataframe tbody tr th {\n",
       "        vertical-align: top;\n",
       "    }\n",
       "\n",
       "    .dataframe thead th {\n",
       "        text-align: right;\n",
       "    }\n",
       "</style>\n",
       "<table border=\"1\" class=\"dataframe\">\n",
       "  <thead>\n",
       "    <tr style=\"text-align: right;\">\n",
       "      <th></th>\n",
       "      <th>model__class_weight</th>\n",
       "      <th>model__criterion</th>\n",
       "      <th>model__min_samples_split</th>\n",
       "      <th>model__n_estimators</th>\n",
       "      <th>score</th>\n",
       "    </tr>\n",
       "  </thead>\n",
       "  <tbody>\n",
       "    <tr>\n",
       "      <th>7</th>\n",
       "      <td>balanced_subsample</td>\n",
       "      <td>entropy</td>\n",
       "      <td>0.005867</td>\n",
       "      <td>106</td>\n",
       "      <td>0.559649</td>\n",
       "    </tr>\n",
       "    <tr>\n",
       "      <th>0</th>\n",
       "      <td>balanced_subsample</td>\n",
       "      <td>entropy</td>\n",
       "      <td>0.005951</td>\n",
       "      <td>120</td>\n",
       "      <td>0.559159</td>\n",
       "    </tr>\n",
       "    <tr>\n",
       "      <th>1</th>\n",
       "      <td>balanced_subsample</td>\n",
       "      <td>entropy</td>\n",
       "      <td>0.005951</td>\n",
       "      <td>129</td>\n",
       "      <td>0.559094</td>\n",
       "    </tr>\n",
       "    <tr>\n",
       "      <th>2</th>\n",
       "      <td>balanced_subsample</td>\n",
       "      <td>entropy</td>\n",
       "      <td>0.005951</td>\n",
       "      <td>129</td>\n",
       "      <td>0.559094</td>\n",
       "    </tr>\n",
       "    <tr>\n",
       "      <th>3</th>\n",
       "      <td>balanced_subsample</td>\n",
       "      <td>entropy</td>\n",
       "      <td>0.005951</td>\n",
       "      <td>137</td>\n",
       "      <td>0.558934</td>\n",
       "    </tr>\n",
       "    <tr>\n",
       "      <th>4</th>\n",
       "      <td>balanced_subsample</td>\n",
       "      <td>entropy</td>\n",
       "      <td>0.005951</td>\n",
       "      <td>123</td>\n",
       "      <td>0.558824</td>\n",
       "    </tr>\n",
       "    <tr>\n",
       "      <th>5</th>\n",
       "      <td>balanced_subsample</td>\n",
       "      <td>entropy</td>\n",
       "      <td>0.005951</td>\n",
       "      <td>123</td>\n",
       "      <td>0.558824</td>\n",
       "    </tr>\n",
       "  </tbody>\n",
       "</table>\n",
       "</div>"
      ],
      "text/plain": [
       "  model__class_weight model__criterion model__min_samples_split  \\\n",
       "7  balanced_subsample          entropy                 0.005867   \n",
       "0  balanced_subsample          entropy                 0.005951   \n",
       "1  balanced_subsample          entropy                 0.005951   \n",
       "2  balanced_subsample          entropy                 0.005951   \n",
       "3  balanced_subsample          entropy                 0.005951   \n",
       "4  balanced_subsample          entropy                 0.005951   \n",
       "5  balanced_subsample          entropy                 0.005951   \n",
       "\n",
       "  model__n_estimators     score  \n",
       "7                 106  0.559649  \n",
       "0                 120  0.559159  \n",
       "1                 129  0.559094  \n",
       "2                 129  0.559094  \n",
       "3                 137  0.558934  \n",
       "4                 123  0.558824  \n",
       "5                 123  0.558824  "
      ]
     },
     "metadata": {},
     "output_type": "display_data"
    },
    {
     "name": "stdout",
     "output_type": "stream",
     "text": [
      "{7: {'model__class_weight': 'balanced_subsample', 'model__criterion': 'entropy', 'model__min_samples_split': 0.005867409821769845, 'model__n_estimators': 106, 'score': 0.5596488968814786}}\n",
      "====================================================================================================\n",
      "Hyperparameter space\n",
      "{'model__n_estimators': <scipy.stats._distn_infrastructure.rv_frozen object at 0x7f31b81c6bd0>, 'model__criterion': ('entropy',), 'model__class_weight': ('balanced_subsample',), 'model__min_samples_split': <scipy.stats._distn_infrastructure.rv_frozen object at 0x7f31b81c0910>}\n"
     ]
    },
    {
     "data": {
      "text/html": [
       "<div>\n",
       "<style scoped>\n",
       "    .dataframe tbody tr th:only-of-type {\n",
       "        vertical-align: middle;\n",
       "    }\n",
       "\n",
       "    .dataframe tbody tr th {\n",
       "        vertical-align: top;\n",
       "    }\n",
       "\n",
       "    .dataframe thead th {\n",
       "        text-align: right;\n",
       "    }\n",
       "</style>\n",
       "<table border=\"1\" class=\"dataframe\">\n",
       "  <thead>\n",
       "    <tr style=\"text-align: right;\">\n",
       "      <th></th>\n",
       "      <th>model__class_weight</th>\n",
       "      <th>model__criterion</th>\n",
       "      <th>model__min_samples_split</th>\n",
       "      <th>model__n_estimators</th>\n",
       "      <th>score</th>\n",
       "    </tr>\n",
       "  </thead>\n",
       "  <tbody>\n",
       "    <tr>\n",
       "      <th>6</th>\n",
       "      <td>balanced_subsample</td>\n",
       "      <td>entropy</td>\n",
       "      <td>0.005867</td>\n",
       "      <td>106</td>\n",
       "      <td>0.559649</td>\n",
       "    </tr>\n",
       "    <tr>\n",
       "      <th>0</th>\n",
       "      <td>balanced_subsample</td>\n",
       "      <td>entropy</td>\n",
       "      <td>0.005954</td>\n",
       "      <td>120</td>\n",
       "      <td>0.559159</td>\n",
       "    </tr>\n",
       "    <tr>\n",
       "      <th>1</th>\n",
       "      <td>balanced_subsample</td>\n",
       "      <td>entropy</td>\n",
       "      <td>0.005954</td>\n",
       "      <td>127</td>\n",
       "      <td>0.558869</td>\n",
       "    </tr>\n",
       "    <tr>\n",
       "      <th>2</th>\n",
       "      <td>balanced_subsample</td>\n",
       "      <td>entropy</td>\n",
       "      <td>0.005953</td>\n",
       "      <td>123</td>\n",
       "      <td>0.558824</td>\n",
       "    </tr>\n",
       "    <tr>\n",
       "      <th>3</th>\n",
       "      <td>balanced_subsample</td>\n",
       "      <td>entropy</td>\n",
       "      <td>0.005954</td>\n",
       "      <td>125</td>\n",
       "      <td>0.558765</td>\n",
       "    </tr>\n",
       "    <tr>\n",
       "      <th>4</th>\n",
       "      <td>balanced_subsample</td>\n",
       "      <td>entropy</td>\n",
       "      <td>0.005954</td>\n",
       "      <td>125</td>\n",
       "      <td>0.558765</td>\n",
       "    </tr>\n",
       "  </tbody>\n",
       "</table>\n",
       "</div>"
      ],
      "text/plain": [
       "  model__class_weight model__criterion model__min_samples_split  \\\n",
       "6  balanced_subsample          entropy                 0.005867   \n",
       "0  balanced_subsample          entropy                 0.005954   \n",
       "1  balanced_subsample          entropy                 0.005954   \n",
       "2  balanced_subsample          entropy                 0.005953   \n",
       "3  balanced_subsample          entropy                 0.005954   \n",
       "4  balanced_subsample          entropy                 0.005954   \n",
       "\n",
       "  model__n_estimators     score  \n",
       "6                 106  0.559649  \n",
       "0                 120  0.559159  \n",
       "1                 127  0.558869  \n",
       "2                 123  0.558824  \n",
       "3                 125  0.558765  \n",
       "4                 125  0.558765  "
      ]
     },
     "metadata": {},
     "output_type": "display_data"
    },
    {
     "name": "stdout",
     "output_type": "stream",
     "text": [
      "{6: {'model__class_weight': 'balanced_subsample', 'model__criterion': 'entropy', 'model__min_samples_split': 0.005867409821769845, 'model__n_estimators': 106, 'score': 0.5596488968814786}}\n",
      "====================================================================================================\n",
      "Hyperparameter space\n",
      "{'model__n_estimators': <scipy.stats._distn_infrastructure.rv_frozen object at 0x7f31b80c8350>, 'model__criterion': ('entropy',), 'model__class_weight': ('balanced_subsample',), 'model__min_samples_split': <scipy.stats._distn_infrastructure.rv_frozen object at 0x7f31b81c0510>}\n"
     ]
    },
    {
     "data": {
      "text/html": [
       "<div>\n",
       "<style scoped>\n",
       "    .dataframe tbody tr th:only-of-type {\n",
       "        vertical-align: middle;\n",
       "    }\n",
       "\n",
       "    .dataframe tbody tr th {\n",
       "        vertical-align: top;\n",
       "    }\n",
       "\n",
       "    .dataframe thead th {\n",
       "        text-align: right;\n",
       "    }\n",
       "</style>\n",
       "<table border=\"1\" class=\"dataframe\">\n",
       "  <thead>\n",
       "    <tr style=\"text-align: right;\">\n",
       "      <th></th>\n",
       "      <th>model__class_weight</th>\n",
       "      <th>model__criterion</th>\n",
       "      <th>model__min_samples_split</th>\n",
       "      <th>model__n_estimators</th>\n",
       "      <th>score</th>\n",
       "    </tr>\n",
       "  </thead>\n",
       "  <tbody>\n",
       "    <tr>\n",
       "      <th>5</th>\n",
       "      <td>balanced_subsample</td>\n",
       "      <td>entropy</td>\n",
       "      <td>0.005867</td>\n",
       "      <td>106</td>\n",
       "      <td>0.559649</td>\n",
       "    </tr>\n",
       "    <tr>\n",
       "      <th>0</th>\n",
       "      <td>balanced_subsample</td>\n",
       "      <td>entropy</td>\n",
       "      <td>0.005955</td>\n",
       "      <td>120</td>\n",
       "      <td>0.559159</td>\n",
       "    </tr>\n",
       "    <tr>\n",
       "      <th>1</th>\n",
       "      <td>balanced_subsample</td>\n",
       "      <td>entropy</td>\n",
       "      <td>0.005954</td>\n",
       "      <td>127</td>\n",
       "      <td>0.558869</td>\n",
       "    </tr>\n",
       "    <tr>\n",
       "      <th>2</th>\n",
       "      <td>balanced_subsample</td>\n",
       "      <td>entropy</td>\n",
       "      <td>0.005954</td>\n",
       "      <td>123</td>\n",
       "      <td>0.558824</td>\n",
       "    </tr>\n",
       "    <tr>\n",
       "      <th>3</th>\n",
       "      <td>balanced_subsample</td>\n",
       "      <td>entropy</td>\n",
       "      <td>0.005954</td>\n",
       "      <td>125</td>\n",
       "      <td>0.558765</td>\n",
       "    </tr>\n",
       "  </tbody>\n",
       "</table>\n",
       "</div>"
      ],
      "text/plain": [
       "  model__class_weight model__criterion model__min_samples_split  \\\n",
       "5  balanced_subsample          entropy                 0.005867   \n",
       "0  balanced_subsample          entropy                 0.005955   \n",
       "1  balanced_subsample          entropy                 0.005954   \n",
       "2  balanced_subsample          entropy                 0.005954   \n",
       "3  balanced_subsample          entropy                 0.005954   \n",
       "\n",
       "  model__n_estimators     score  \n",
       "5                 106  0.559649  \n",
       "0                 120  0.559159  \n",
       "1                 127  0.558869  \n",
       "2                 123  0.558824  \n",
       "3                 125  0.558765  "
      ]
     },
     "metadata": {},
     "output_type": "display_data"
    },
    {
     "name": "stdout",
     "output_type": "stream",
     "text": [
      "{5: {'model__class_weight': 'balanced_subsample', 'model__criterion': 'entropy', 'model__min_samples_split': 0.005867409821769845, 'model__n_estimators': 106, 'score': 0.5596488968814786}}\n",
      "====================================================================================================\n",
      "Hyperparameter space\n",
      "{'model__n_estimators': <scipy.stats._distn_infrastructure.rv_frozen object at 0x7f31b827b290>, 'model__criterion': ('entropy',), 'model__class_weight': ('balanced_subsample',), 'model__min_samples_split': <scipy.stats._distn_infrastructure.rv_frozen object at 0x7f31b81c0d50>}\n"
     ]
    },
    {
     "data": {
      "text/html": [
       "<div>\n",
       "<style scoped>\n",
       "    .dataframe tbody tr th:only-of-type {\n",
       "        vertical-align: middle;\n",
       "    }\n",
       "\n",
       "    .dataframe tbody tr th {\n",
       "        vertical-align: top;\n",
       "    }\n",
       "\n",
       "    .dataframe thead th {\n",
       "        text-align: right;\n",
       "    }\n",
       "</style>\n",
       "<table border=\"1\" class=\"dataframe\">\n",
       "  <thead>\n",
       "    <tr style=\"text-align: right;\">\n",
       "      <th></th>\n",
       "      <th>model__class_weight</th>\n",
       "      <th>model__criterion</th>\n",
       "      <th>model__min_samples_split</th>\n",
       "      <th>model__n_estimators</th>\n",
       "      <th>score</th>\n",
       "    </tr>\n",
       "  </thead>\n",
       "  <tbody>\n",
       "    <tr>\n",
       "      <th>4</th>\n",
       "      <td>balanced_subsample</td>\n",
       "      <td>entropy</td>\n",
       "      <td>0.005867</td>\n",
       "      <td>106</td>\n",
       "      <td>0.559649</td>\n",
       "    </tr>\n",
       "    <tr>\n",
       "      <th>0</th>\n",
       "      <td>balanced_subsample</td>\n",
       "      <td>entropy</td>\n",
       "      <td>0.005955</td>\n",
       "      <td>120</td>\n",
       "      <td>0.559159</td>\n",
       "    </tr>\n",
       "    <tr>\n",
       "      <th>1</th>\n",
       "      <td>balanced_subsample</td>\n",
       "      <td>entropy</td>\n",
       "      <td>0.005954</td>\n",
       "      <td>127</td>\n",
       "      <td>0.558869</td>\n",
       "    </tr>\n",
       "    <tr>\n",
       "      <th>2</th>\n",
       "      <td>balanced_subsample</td>\n",
       "      <td>entropy</td>\n",
       "      <td>0.005954</td>\n",
       "      <td>123</td>\n",
       "      <td>0.558824</td>\n",
       "    </tr>\n",
       "  </tbody>\n",
       "</table>\n",
       "</div>"
      ],
      "text/plain": [
       "  model__class_weight model__criterion model__min_samples_split  \\\n",
       "4  balanced_subsample          entropy                 0.005867   \n",
       "0  balanced_subsample          entropy                 0.005955   \n",
       "1  balanced_subsample          entropy                 0.005954   \n",
       "2  balanced_subsample          entropy                 0.005954   \n",
       "\n",
       "  model__n_estimators     score  \n",
       "4                 106  0.559649  \n",
       "0                 120  0.559159  \n",
       "1                 127  0.558869  \n",
       "2                 123  0.558824  "
      ]
     },
     "metadata": {},
     "output_type": "display_data"
    },
    {
     "name": "stdout",
     "output_type": "stream",
     "text": [
      "{4: {'model__class_weight': 'balanced_subsample', 'model__criterion': 'entropy', 'model__min_samples_split': 0.005867409821769845, 'model__n_estimators': 106, 'score': 0.5596488968814786}}\n",
      "====================================================================================================\n",
      "Hyperparameter space\n",
      "{'model__n_estimators': <scipy.stats._distn_infrastructure.rv_frozen object at 0x7f31b81ca790>, 'model__criterion': ('entropy',), 'model__class_weight': ('balanced_subsample',), 'model__min_samples_split': <scipy.stats._distn_infrastructure.rv_frozen object at 0x7f31b804d550>}\n"
     ]
    },
    {
     "data": {
      "text/html": [
       "<div>\n",
       "<style scoped>\n",
       "    .dataframe tbody tr th:only-of-type {\n",
       "        vertical-align: middle;\n",
       "    }\n",
       "\n",
       "    .dataframe tbody tr th {\n",
       "        vertical-align: top;\n",
       "    }\n",
       "\n",
       "    .dataframe thead th {\n",
       "        text-align: right;\n",
       "    }\n",
       "</style>\n",
       "<table border=\"1\" class=\"dataframe\">\n",
       "  <thead>\n",
       "    <tr style=\"text-align: right;\">\n",
       "      <th></th>\n",
       "      <th>model__class_weight</th>\n",
       "      <th>model__criterion</th>\n",
       "      <th>model__min_samples_split</th>\n",
       "      <th>model__n_estimators</th>\n",
       "      <th>score</th>\n",
       "    </tr>\n",
       "  </thead>\n",
       "  <tbody>\n",
       "    <tr>\n",
       "      <th>3</th>\n",
       "      <td>balanced_subsample</td>\n",
       "      <td>entropy</td>\n",
       "      <td>0.005867</td>\n",
       "      <td>106</td>\n",
       "      <td>0.559649</td>\n",
       "    </tr>\n",
       "    <tr>\n",
       "      <th>0</th>\n",
       "      <td>balanced_subsample</td>\n",
       "      <td>entropy</td>\n",
       "      <td>0.005955</td>\n",
       "      <td>120</td>\n",
       "      <td>0.559159</td>\n",
       "    </tr>\n",
       "    <tr>\n",
       "      <th>1</th>\n",
       "      <td>balanced_subsample</td>\n",
       "      <td>entropy</td>\n",
       "      <td>0.005954</td>\n",
       "      <td>120</td>\n",
       "      <td>0.559159</td>\n",
       "    </tr>\n",
       "  </tbody>\n",
       "</table>\n",
       "</div>"
      ],
      "text/plain": [
       "  model__class_weight model__criterion model__min_samples_split  \\\n",
       "3  balanced_subsample          entropy                 0.005867   \n",
       "0  balanced_subsample          entropy                 0.005955   \n",
       "1  balanced_subsample          entropy                 0.005954   \n",
       "\n",
       "  model__n_estimators     score  \n",
       "3                 106  0.559649  \n",
       "0                 120  0.559159  \n",
       "1                 120  0.559159  "
      ]
     },
     "metadata": {},
     "output_type": "display_data"
    },
    {
     "name": "stdout",
     "output_type": "stream",
     "text": [
      "{3: {'model__class_weight': 'balanced_subsample', 'model__criterion': 'entropy', 'model__min_samples_split': 0.005867409821769845, 'model__n_estimators': 106, 'score': 0.5596488968814786}}\n",
      "====================================================================================================\n",
      "Hyperparameter space\n",
      "{'model__n_estimators': <scipy.stats._distn_infrastructure.rv_frozen object at 0x7f31b9967d10>, 'model__criterion': ('entropy',), 'model__class_weight': ('balanced_subsample',), 'model__min_samples_split': <scipy.stats._distn_infrastructure.rv_frozen object at 0x7f31b81488d0>}\n"
     ]
    },
    {
     "data": {
      "text/html": [
       "<div>\n",
       "<style scoped>\n",
       "    .dataframe tbody tr th:only-of-type {\n",
       "        vertical-align: middle;\n",
       "    }\n",
       "\n",
       "    .dataframe tbody tr th {\n",
       "        vertical-align: top;\n",
       "    }\n",
       "\n",
       "    .dataframe thead th {\n",
       "        text-align: right;\n",
       "    }\n",
       "</style>\n",
       "<table border=\"1\" class=\"dataframe\">\n",
       "  <thead>\n",
       "    <tr style=\"text-align: right;\">\n",
       "      <th></th>\n",
       "      <th>model__class_weight</th>\n",
       "      <th>model__criterion</th>\n",
       "      <th>model__min_samples_split</th>\n",
       "      <th>model__n_estimators</th>\n",
       "      <th>score</th>\n",
       "    </tr>\n",
       "  </thead>\n",
       "  <tbody>\n",
       "    <tr>\n",
       "      <th>2</th>\n",
       "      <td>balanced_subsample</td>\n",
       "      <td>entropy</td>\n",
       "      <td>0.005867</td>\n",
       "      <td>106</td>\n",
       "      <td>0.559649</td>\n",
       "    </tr>\n",
       "    <tr>\n",
       "      <th>0</th>\n",
       "      <td>balanced_subsample</td>\n",
       "      <td>entropy</td>\n",
       "      <td>0.005955</td>\n",
       "      <td>120</td>\n",
       "      <td>0.559159</td>\n",
       "    </tr>\n",
       "  </tbody>\n",
       "</table>\n",
       "</div>"
      ],
      "text/plain": [
       "  model__class_weight model__criterion model__min_samples_split  \\\n",
       "2  balanced_subsample          entropy                 0.005867   \n",
       "0  balanced_subsample          entropy                 0.005955   \n",
       "\n",
       "  model__n_estimators     score  \n",
       "2                 106  0.559649  \n",
       "0                 120  0.559159  "
      ]
     },
     "metadata": {},
     "output_type": "display_data"
    },
    {
     "name": "stdout",
     "output_type": "stream",
     "text": [
      "{2: {'model__class_weight': 'balanced_subsample', 'model__criterion': 'entropy', 'model__min_samples_split': 0.005867409821769845, 'model__n_estimators': 106, 'score': 0.5596488968814786}}\n",
      "====================================================================================================\n",
      "Hyperparameter space\n",
      "{'model__n_estimators': <scipy.stats._distn_infrastructure.rv_frozen object at 0x7f31b81db910>, 'model__criterion': ('entropy',), 'model__class_weight': ('balanced_subsample',), 'model__min_samples_split': <scipy.stats._distn_infrastructure.rv_frozen object at 0x7f31b8159090>}\n"
     ]
    },
    {
     "data": {
      "text/html": [
       "<div>\n",
       "<style scoped>\n",
       "    .dataframe tbody tr th:only-of-type {\n",
       "        vertical-align: middle;\n",
       "    }\n",
       "\n",
       "    .dataframe tbody tr th {\n",
       "        vertical-align: top;\n",
       "    }\n",
       "\n",
       "    .dataframe thead th {\n",
       "        text-align: right;\n",
       "    }\n",
       "</style>\n",
       "<table border=\"1\" class=\"dataframe\">\n",
       "  <thead>\n",
       "    <tr style=\"text-align: right;\">\n",
       "      <th></th>\n",
       "      <th>model__class_weight</th>\n",
       "      <th>model__criterion</th>\n",
       "      <th>model__min_samples_split</th>\n",
       "      <th>model__n_estimators</th>\n",
       "      <th>score</th>\n",
       "    </tr>\n",
       "  </thead>\n",
       "  <tbody>\n",
       "    <tr>\n",
       "      <th>1</th>\n",
       "      <td>balanced_subsample</td>\n",
       "      <td>entropy</td>\n",
       "      <td>0.005867</td>\n",
       "      <td>106</td>\n",
       "      <td>0.559649</td>\n",
       "    </tr>\n",
       "  </tbody>\n",
       "</table>\n",
       "</div>"
      ],
      "text/plain": [
       "  model__class_weight model__criterion model__min_samples_split  \\\n",
       "1  balanced_subsample          entropy                 0.005867   \n",
       "\n",
       "  model__n_estimators     score  \n",
       "1                 106  0.559649  "
      ]
     },
     "metadata": {},
     "output_type": "display_data"
    },
    {
     "name": "stdout",
     "output_type": "stream",
     "text": [
      "{1: {'model__class_weight': 'balanced_subsample', 'model__criterion': 'entropy', 'model__min_samples_split': 0.005867409821769845, 'model__n_estimators': 106, 'score': 0.5596488968814786}}\n",
      "====================================================================================================\n"
     ]
    }
   ],
   "source": [
    "# Initiate the CFS Class\n",
    "clf = CoarseToFineSearchCV(pipe, hyperparameter_space,\n",
    "                           random_iters=25, top_n_percentile=50, n_iter=10, \n",
    "                           continuous_hyperparams=['model__min_samples_split'],\n",
    "                           random_state=0, scoring='f1', cv=5, \n",
    "                           n_jobs=-1, refit=True,\n",
    "                           verbose=2\n",
    "                          )\n",
    "\n",
    "# Run the CFS CV\n",
    "clf.fit(X_train_full, y_train)"
   ]
  },
  {
   "cell_type": "markdown",
   "id": "bc3817da-0dba-49db-bc34-a1b98081a635",
   "metadata": {},
   "source": [
    "Get the best set of hyperparameters along with the average F1-Score from the 5-folds CV"
   ]
  },
  {
   "cell_type": "code",
   "execution_count": 56,
   "id": "d5bfef60-44c7-4a34-ba08-6e4e6dac7d5a",
   "metadata": {},
   "outputs": [
    {
     "data": {
      "text/plain": [
       "({'model__class_weight': 'balanced_subsample',\n",
       "  'model__criterion': 'entropy',\n",
       "  'model__min_samples_split': 0.005867409821769845,\n",
       "  'model__n_estimators': 106},\n",
       " 0.5596488968814786)"
      ]
     },
     "execution_count": 56,
     "metadata": {},
     "output_type": "execute_result"
    }
   ],
   "source": [
    "clf.best_params_,clf.best_score_"
   ]
  },
  {
   "cell_type": "markdown",
   "id": "17b450e4-a30b-46b5-bf95-fbe02090e626",
   "metadata": {},
   "source": [
    "Get the f1-Score on Test Data after fitting the model on the full train data using the best set of hyperparameters\n",
    "clf.best_params_,clf.best_score_"
   ]
  },
  {
   "cell_type": "code",
   "execution_count": 57,
   "id": "5cff258f-dfae-4424-821a-617bc04a1210",
   "metadata": {},
   "outputs": [
    {
     "name": "stdout",
     "output_type": "stream",
     "text": [
      "0.5612366230677764\n"
     ]
    }
   ],
   "source": [
    "# Evaluate on the test data \n",
    "y_pred = clf.predict(X_test_full)\n",
    "print(f1_score(y_test, y_pred))"
   ]
  },
  {
   "cell_type": "markdown",
   "id": "7b570eef-4df5-4163-b32a-aaa6ff447bd5",
   "metadata": {},
   "source": [
    "# Succesive Halving"
   ]
  },
  {
   "cell_type": "code",
   "execution_count": 58,
   "id": "68465c28-302d-4a38-93f8-a914806236b1",
   "metadata": {},
   "outputs": [],
   "source": [
    "import pandas as pd\n",
    "import numpy as np\n",
    "from sklearn.compose import ColumnTransformer\n",
    "from sklearn.preprocessing import StandardScaler, OneHotEncoder\n",
    "from sklearn.pipeline import Pipeline\n",
    "from sklearn.model_selection import train_test_split\n",
    "from sklearn.metrics import f1_score\n",
    "from sklearn.ensemble import RandomForestClassifier\n",
    "\n",
    "import matplotlib.pyplot as plt\n",
    "from scipy.stats import randint,truncnorm\n",
    "from sklearn.experimental import enable_halving_search_cv\n",
    "from sklearn.model_selection import HalvingRandomSearchCV"
   ]
  },
  {
   "cell_type": "code",
   "execution_count": 59,
   "id": "dda5f303-21d4-4c67-8f51-7ecb0eaa5d6a",
   "metadata": {},
   "outputs": [
    {
     "name": "stdout",
     "output_type": "stream",
     "text": [
      "<class 'pandas.core.frame.DataFrame'>\n",
      "RangeIndex: 45211 entries, 0 to 45210\n",
      "Data columns (total 17 columns):\n",
      " #   Column     Non-Null Count  Dtype \n",
      "---  ------     --------------  ----- \n",
      " 0   age        45211 non-null  int64 \n",
      " 1   job        45211 non-null  object\n",
      " 2   marital    45211 non-null  object\n",
      " 3   education  45211 non-null  object\n",
      " 4   default    45211 non-null  object\n",
      " 5   balance    45211 non-null  int64 \n",
      " 6   housing    45211 non-null  object\n",
      " 7   loan       45211 non-null  object\n",
      " 8   contact    45211 non-null  object\n",
      " 9   day        45211 non-null  int64 \n",
      " 10  month      45211 non-null  object\n",
      " 11  duration   45211 non-null  int64 \n",
      " 12  campaign   45211 non-null  int64 \n",
      " 13  pdays      45211 non-null  int64 \n",
      " 14  previous   45211 non-null  int64 \n",
      " 15  poutcome   45211 non-null  object\n",
      " 16  y          45211 non-null  object\n",
      "dtypes: int64(7), object(10)\n",
      "memory usage: 5.9+ MB\n"
     ]
    }
   ],
   "source": [
    "df = pd.read_csv(\"train.csv\",sep=\";\")\n",
    "df.info()"
   ]
  },
  {
   "cell_type": "markdown",
   "id": "1256053e-b16d-42dd-9ef7-095134987449",
   "metadata": {},
   "source": [
    "Convert the target variable to integer"
   ]
  },
  {
   "cell_type": "code",
   "execution_count": 60,
   "id": "1a342679-f508-4974-b709-6edb57f40f35",
   "metadata": {},
   "outputs": [],
   "source": [
    "df['y'] = df['y'].map({'yes':1,'no':0})"
   ]
  },
  {
   "cell_type": "markdown",
   "id": "3f6e9737-7b4b-4ed6-9b41-a384cfb6c9fa",
   "metadata": {},
   "source": [
    "Split full data into train and test data"
   ]
  },
  {
   "cell_type": "code",
   "execution_count": 61,
   "id": "bdd59535-46e3-4fbf-b6a2-e9f86da6da98",
   "metadata": {},
   "outputs": [],
   "source": [
    "df_train, df_test = train_test_split(df, test_size=0.1, random_state=0) "
   ]
  },
  {
   "cell_type": "markdown",
   "id": "06e26b50-0512-4d75-b816-ca316b8a3155",
   "metadata": {},
   "source": [
    "Get list of numerical features"
   ]
  },
  {
   "cell_type": "code",
   "execution_count": 62,
   "id": "ef916568-734b-4804-9b81-d8c77364fc01",
   "metadata": {},
   "outputs": [],
   "source": [
    "numerical_feats = list(df_train.drop(columns='y').select_dtypes(include=np.number).columns)"
   ]
  },
  {
   "cell_type": "markdown",
   "id": "6d7f5246-9f83-4ea2-90e4-55391e25c34b",
   "metadata": {},
   "source": [
    "Get list of categorical features"
   ]
  },
  {
   "cell_type": "code",
   "execution_count": 63,
   "id": "ca123f7c-1eca-4209-960a-4ee13c624eae",
   "metadata": {},
   "outputs": [],
   "source": [
    "categorical_feats = list(df_train.drop(columns='y').select_dtypes(exclude=np.number).columns)"
   ]
  },
  {
   "cell_type": "markdown",
   "id": "cf4c2c9e-1193-47ac-bd35-bba6ed0b9a26",
   "metadata": {},
   "source": [
    "Initiate the preprocessors"
   ]
  },
  {
   "cell_type": "code",
   "execution_count": 64,
   "id": "e195ce2a-9eca-4932-9677-fd297b5a0bb6",
   "metadata": {},
   "outputs": [],
   "source": [
    "# Initiate the Normalization Pre-processing for Numerical Features\n",
    "numeric_preprocessor = StandardScaler()\n",
    "\n",
    "# Initiate the One-Hot-Encoding Pre-processing for Categorical Features\n",
    "categorical_preprocessor = OneHotEncoder(handle_unknown=\"ignore\")"
   ]
  },
  {
   "cell_type": "markdown",
   "id": "559b3940-7b52-40de-9396-b67cff7fe924",
   "metadata": {},
   "source": [
    "Create the ColumnTransformer Class to delegate each preprocessor to the corresponding features"
   ]
  },
  {
   "cell_type": "code",
   "execution_count": 65,
   "id": "5c5219a6-c966-4a57-a034-724ce49ff7ee",
   "metadata": {},
   "outputs": [],
   "source": [
    "preprocessor = ColumnTransformer(\n",
    "    transformers=[\n",
    "        (\"num\", numeric_preprocessor, numerical_feats),\n",
    "        (\"cat\", categorical_preprocessor, categorical_feats),\n",
    "    ]\n",
    ")"
   ]
  },
  {
   "cell_type": "markdown",
   "id": "629ab166-ab5d-4056-a39e-d4d1dddd6779",
   "metadata": {},
   "source": [
    "Create a Pipeline of preprocessor and model"
   ]
  },
  {
   "cell_type": "code",
   "execution_count": 66,
   "id": "4bd1128d-f6a4-41ce-8a55-ff0c4b496a86",
   "metadata": {},
   "outputs": [],
   "source": [
    "pipe = Pipeline(\n",
    "    steps=[(\"preprocessor\", preprocessor), \n",
    "           (\"model\", RandomForestClassifier(random_state=0))]\n",
    ")"
   ]
  },
  {
   "cell_type": "markdown",
   "id": "1561b716-f995-484a-bdb8-2ccf5a3aa641",
   "metadata": {},
   "source": [
    "Get all features from the train data"
   ]
  },
  {
   "cell_type": "code",
   "execution_count": 67,
   "id": "982ccfa9-0d9e-418d-bf63-8924b9937c10",
   "metadata": {},
   "outputs": [
    {
     "name": "stdout",
     "output_type": "stream",
     "text": [
      "<class 'pandas.core.frame.DataFrame'>\n",
      "Int64Index: 40689 entries, 17974 to 2732\n",
      "Data columns (total 16 columns):\n",
      " #   Column     Non-Null Count  Dtype \n",
      "---  ------     --------------  ----- \n",
      " 0   age        40689 non-null  int64 \n",
      " 1   job        40689 non-null  object\n",
      " 2   marital    40689 non-null  object\n",
      " 3   education  40689 non-null  object\n",
      " 4   default    40689 non-null  object\n",
      " 5   balance    40689 non-null  int64 \n",
      " 6   housing    40689 non-null  object\n",
      " 7   loan       40689 non-null  object\n",
      " 8   contact    40689 non-null  object\n",
      " 9   day        40689 non-null  int64 \n",
      " 10  month      40689 non-null  object\n",
      " 11  duration   40689 non-null  int64 \n",
      " 12  campaign   40689 non-null  int64 \n",
      " 13  pdays      40689 non-null  int64 \n",
      " 14  previous   40689 non-null  int64 \n",
      " 15  poutcome   40689 non-null  object\n",
      "dtypes: int64(7), object(9)\n",
      "memory usage: 5.3+ MB\n"
     ]
    }
   ],
   "source": [
    "X_train_full = df_train.drop(columns=['y'])\n",
    "y_train = df_train['y']\n",
    "\n",
    "X_train_full.info()"
   ]
  },
  {
   "cell_type": "markdown",
   "id": "74eeece3-e80e-4726-92ea-12c1defcd971",
   "metadata": {},
   "source": [
    "Get all features from the test data"
   ]
  },
  {
   "cell_type": "code",
   "execution_count": 68,
   "id": "c75d67ca-2420-4b17-9916-303be365f1be",
   "metadata": {},
   "outputs": [
    {
     "name": "stdout",
     "output_type": "stream",
     "text": [
      "<class 'pandas.core.frame.DataFrame'>\n",
      "Int64Index: 4522 entries, 14001 to 25978\n",
      "Data columns (total 16 columns):\n",
      " #   Column     Non-Null Count  Dtype \n",
      "---  ------     --------------  ----- \n",
      " 0   age        4522 non-null   int64 \n",
      " 1   job        4522 non-null   object\n",
      " 2   marital    4522 non-null   object\n",
      " 3   education  4522 non-null   object\n",
      " 4   default    4522 non-null   object\n",
      " 5   balance    4522 non-null   int64 \n",
      " 6   housing    4522 non-null   object\n",
      " 7   loan       4522 non-null   object\n",
      " 8   contact    4522 non-null   object\n",
      " 9   day        4522 non-null   int64 \n",
      " 10  month      4522 non-null   object\n",
      " 11  duration   4522 non-null   int64 \n",
      " 12  campaign   4522 non-null   int64 \n",
      " 13  pdays      4522 non-null   int64 \n",
      " 14  previous   4522 non-null   int64 \n",
      " 15  poutcome   4522 non-null   object\n",
      "dtypes: int64(7), object(9)\n",
      "memory usage: 600.6+ KB\n"
     ]
    }
   ],
   "source": [
    "X_test_full = df_test.drop(columns=['y'])\n",
    "y_test = df_test['y']\n",
    "\n",
    "X_test_full.info()"
   ]
  },
  {
   "cell_type": "markdown",
   "id": "52dae294-e70d-47a2-8a8e-0dd26fda4939",
   "metadata": {},
   "source": [
    "Calculate F1-Score on Test Data without Hyperparameter Tuning"
   ]
  },
  {
   "cell_type": "markdown",
   "id": "7739d4d8-2276-495d-a56a-43f7743d1801",
   "metadata": {},
   "source": [
    "Define the hyperparameter space"
   ]
  },
  {
   "cell_type": "code",
   "execution_count": 69,
   "id": "ec892679-ffd2-44bb-bfd7-f1cf9b96d940",
   "metadata": {},
   "outputs": [],
   "source": [
    "hyperparameter_space = { \n",
    "\"model__n_estimators\": randint(5, 200), \n",
    "\"model__criterion\": [\"gini\", \"entropy\"],\n",
    "\"model__class_weight\": [\"balanced\",\"balanced_subsample\"],\n",
    "\"model__min_samples_split\": truncnorm(a=0,b=0.5,loc=0.005, scale=0.01),\n",
    "} "
   ]
  },
  {
   "cell_type": "markdown",
   "id": "6afec91d-78fa-47a1-a20a-29b1b155503b",
   "metadata": {},
   "source": [
    "Perform Succesive Halving with Random Search"
   ]
  },
  {
   "cell_type": "code",
   "execution_count": 70,
   "id": "2d6c56a4-cca9-4e5d-aa2e-3426ffe487f9",
   "metadata": {},
   "outputs": [
    {
     "name": "stdout",
     "output_type": "stream",
     "text": [
      "n_iterations: 7\n",
      "n_required_iterations: 7\n",
      "n_possible_iterations: 7\n",
      "min_resources_: 20\n",
      "max_resources_: 40689\n",
      "aggressive_elimination: False\n",
      "factor: 3\n",
      "----------\n",
      "iter: 0\n",
      "n_candidates: 2034\n",
      "n_resources: 20\n",
      "Fitting 5 folds for each of 2034 candidates, totalling 10170 fits\n",
      "----------\n",
      "iter: 1\n",
      "n_candidates: 678\n",
      "n_resources: 60\n",
      "Fitting 5 folds for each of 678 candidates, totalling 3390 fits\n",
      "----------\n",
      "iter: 2\n",
      "n_candidates: 226\n",
      "n_resources: 180\n",
      "Fitting 5 folds for each of 226 candidates, totalling 1130 fits\n",
      "----------\n",
      "iter: 3\n",
      "n_candidates: 76\n",
      "n_resources: 540\n",
      "Fitting 5 folds for each of 76 candidates, totalling 380 fits\n",
      "----------\n",
      "iter: 4\n",
      "n_candidates: 26\n",
      "n_resources: 1620\n",
      "Fitting 5 folds for each of 26 candidates, totalling 130 fits\n",
      "----------\n",
      "iter: 5\n",
      "n_candidates: 9\n",
      "n_resources: 4860\n",
      "Fitting 5 folds for each of 9 candidates, totalling 45 fits\n",
      "----------\n",
      "iter: 6\n",
      "n_candidates: 3\n",
      "n_resources: 14580\n",
      "Fitting 5 folds for each of 3 candidates, totalling 15 fits\n"
     ]
    },
    {
     "data": {
      "text/plain": [
       "HalvingRandomSearchCV(estimator=Pipeline(steps=[('preprocessor',\n",
       "                                                 ColumnTransformer(transformers=[('num',\n",
       "                                                                                  StandardScaler(),\n",
       "                                                                                  ['age',\n",
       "                                                                                   'balance',\n",
       "                                                                                   'day',\n",
       "                                                                                   'duration',\n",
       "                                                                                   'campaign',\n",
       "                                                                                   'pdays',\n",
       "                                                                                   'previous']),\n",
       "                                                                                 ('cat',\n",
       "                                                                                  OneHotEncoder(handle_unknown='ignore'),\n",
       "                                                                                  ['job',\n",
       "                                                                                   'marital',\n",
       "                                                                                   'education',\n",
       "                                                                                   'default',\n",
       "                                                                                   'housing',\n",
       "                                                                                   'loan',\n",
       "                                                                                   'contact',\n",
       "                                                                                   'month',\n",
       "                                                                                   'poutcome'])])),\n",
       "                                                ('model',\n",
       "                                                 RandomForestClassif...,\n",
       "                      n_jobs=-1,\n",
       "                      param_distributions={'model__class_weight': ['balanced',\n",
       "                                                                   'balanced_subsample'],\n",
       "                                           'model__criterion': ['gini',\n",
       "                                                                'entropy'],\n",
       "                                           'model__min_samples_split': <scipy.stats._distn_infrastructure.rv_frozen object at 0x7f31b80bd710>,\n",
       "                                           'model__n_estimators': <scipy.stats._distn_infrastructure.rv_frozen object at 0x7f31b80bd250>},\n",
       "                      random_state=0, scoring='f1', verbose=2)"
      ]
     },
     "execution_count": 70,
     "metadata": {},
     "output_type": "execute_result"
    }
   ],
   "source": [
    "# Initiate the SH Class\n",
    "clf = HalvingRandomSearchCV(pipe, hyperparameter_space, \n",
    "                            factor=3,aggressive_elimination=False,\n",
    "                            random_state = 0,\n",
    "                            scoring = 'f1', cv=5, \n",
    "                            n_jobs=-1, refit = True,\n",
    "                            verbose=2)\n",
    "\n",
    "# Run the SH CV\n",
    "clf.fit(X_train_full, y_train)"
   ]
  },
  {
   "cell_type": "markdown",
   "id": "da41fc20-d166-4fe7-879f-11ae06d0df7f",
   "metadata": {},
   "source": [
    "Get the best set of hyperparameters along with the average F1-Score from the 5-folds CV"
   ]
  },
  {
   "cell_type": "code",
   "execution_count": 71,
   "id": "2c2a5c74-4970-43a6-9b18-e22ae66e57a6",
   "metadata": {},
   "outputs": [
    {
     "data": {
      "text/plain": [
       "({'model__class_weight': 'balanced_subsample',\n",
       "  'model__criterion': 'entropy',\n",
       "  'model__min_samples_split': 0.007286406330027324,\n",
       "  'model__n_estimators': 42},\n",
       " 0.5653930731310032)"
      ]
     },
     "execution_count": 71,
     "metadata": {},
     "output_type": "execute_result"
    }
   ],
   "source": [
    "clf.best_params_,clf.best_score_"
   ]
  },
  {
   "cell_type": "markdown",
   "id": "98e6f43e-d714-45fe-afcb-bb8685ec804d",
   "metadata": {},
   "source": [
    "Get the f1-Score on Test Data after fitting the model on the full train data using the best set of hyperparameters"
   ]
  },
  {
   "cell_type": "code",
   "execution_count": 72,
   "id": "0268e6b6-0c2b-4ae9-89ab-648b4e747258",
   "metadata": {},
   "outputs": [
    {
     "data": {
      "text/plain": [
       "0.5558194774346794"
      ]
     },
     "execution_count": 72,
     "metadata": {},
     "output_type": "execute_result"
    }
   ],
   "source": [
    "clf.score(X_test_full,y_test)"
   ]
  },
  {
   "cell_type": "code",
   "execution_count": 73,
   "id": "a2e14442-5344-4015-b777-af989f4927fe",
   "metadata": {},
   "outputs": [
    {
     "data": {
      "image/png": "[encoded data removed]",
      "text/plain": [
       "<Figure size 1152x1152 with 1 Axes>"
      ]
     },
     "metadata": {
      "needs_background": "light"
     },
     "output_type": "display_data"
    }
   ],
   "source": [
    "results = pd.DataFrame(clf.cv_results_)\n",
    "results[\"params_str\"] = results.params.apply(str)\n",
    "results.drop_duplicates(subset=(\"params_str\", \"iter\"), inplace=True)\n",
    "mean_scores = results.pivot(\n",
    "    index=\"iter\", columns=\"params_str\", values=\"mean_test_score\"\n",
    ")\n",
    "\n",
    "fig, ax = plt.subplots(figsize=(16,16))\n",
    "\n",
    "ax = mean_scores.plot(legend=False, alpha=0.6, ax=ax)\n",
    "\n",
    "labels = [\n",
    "    f\"Iteration {i+1}\\nn_samples={clf.n_resources_[i]}\\nn_candidates={clf.n_candidates_[i]}\"\n",
    "    for i in range(clf.n_iterations_)\n",
    "]\n",
    "\n",
    "ax.set_xticks(range(clf.n_iterations_))\n",
    "ax.set_xticklabels(labels, rotation=0, multialignment=\"left\",size=16)\n",
    "ax.set_title(\"F1-Score of Candidates over Iterations\",size=20)\n",
    "ax.set_ylabel(\"5-Folds Cross Validation F1-Score\", fontsize=18)\n",
    "ax.set_xlabel(\"\")\n",
    "plt.tight_layout()\n",
    "plt.show()"
   ]
  },
  {
   "cell_type": "code",
   "execution_count": 74,
   "id": "2af3cce9-79b0-443a-a617-ca3ae9a80990",
   "metadata": {},
   "outputs": [
    {
     "data": {
      "text/html": [
       "<div>\n",
       "<style scoped>\n",
       "    .dataframe tbody tr th:only-of-type {\n",
       "        vertical-align: middle;\n",
       "    }\n",
       "\n",
       "    .dataframe tbody tr th {\n",
       "        vertical-align: top;\n",
       "    }\n",
       "\n",
       "    .dataframe thead th {\n",
       "        text-align: right;\n",
       "    }\n",
       "</style>\n",
       "<table border=\"1\" class=\"dataframe\">\n",
       "  <thead>\n",
       "    <tr style=\"text-align: right;\">\n",
       "      <th></th>\n",
       "      <th>iter</th>\n",
       "      <th>n_resources</th>\n",
       "      <th>mean_fit_time</th>\n",
       "      <th>std_fit_time</th>\n",
       "      <th>mean_score_time</th>\n",
       "      <th>std_score_time</th>\n",
       "      <th>param_model__class_weight</th>\n",
       "      <th>param_model__criterion</th>\n",
       "      <th>param_model__min_samples_split</th>\n",
       "      <th>param_model__n_estimators</th>\n",
       "      <th>...</th>\n",
       "      <th>std_test_score</th>\n",
       "      <th>rank_test_score</th>\n",
       "      <th>split0_train_score</th>\n",
       "      <th>split1_train_score</th>\n",
       "      <th>split2_train_score</th>\n",
       "      <th>split3_train_score</th>\n",
       "      <th>split4_train_score</th>\n",
       "      <th>mean_train_score</th>\n",
       "      <th>std_train_score</th>\n",
       "      <th>params_str</th>\n",
       "    </tr>\n",
       "  </thead>\n",
       "  <tbody>\n",
       "    <tr>\n",
       "      <th>0</th>\n",
       "      <td>0</td>\n",
       "      <td>20</td>\n",
       "      <td>0.065693</td>\n",
       "      <td>0.006872</td>\n",
       "      <td>0.014911</td>\n",
       "      <td>0.004732</td>\n",
       "      <td>balanced</td>\n",
       "      <td>entropy</td>\n",
       "      <td>0.008503</td>\n",
       "      <td>72</td>\n",
       "      <td>...</td>\n",
       "      <td>0.000000</td>\n",
       "      <td>237</td>\n",
       "      <td>1.000000</td>\n",
       "      <td>1.000000</td>\n",
       "      <td>1.000000</td>\n",
       "      <td>1.000000</td>\n",
       "      <td>0.000000</td>\n",
       "      <td>0.800000</td>\n",
       "      <td>0.400000</td>\n",
       "      <td>{'model__class_weight': 'balanced', 'model__cr...</td>\n",
       "    </tr>\n",
       "    <tr>\n",
       "      <th>1</th>\n",
       "      <td>0</td>\n",
       "      <td>20</td>\n",
       "      <td>0.036844</td>\n",
       "      <td>0.004748</td>\n",
       "      <td>0.007425</td>\n",
       "      <td>0.001356</td>\n",
       "      <td>balanced_subsample</td>\n",
       "      <td>entropy</td>\n",
       "      <td>0.009185</td>\n",
       "      <td>26</td>\n",
       "      <td>...</td>\n",
       "      <td>0.000000</td>\n",
       "      <td>237</td>\n",
       "      <td>1.000000</td>\n",
       "      <td>1.000000</td>\n",
       "      <td>1.000000</td>\n",
       "      <td>1.000000</td>\n",
       "      <td>0.000000</td>\n",
       "      <td>0.800000</td>\n",
       "      <td>0.400000</td>\n",
       "      <td>{'model__class_weight': 'balanced_subsample', ...</td>\n",
       "    </tr>\n",
       "    <tr>\n",
       "      <th>2</th>\n",
       "      <td>0</td>\n",
       "      <td>20</td>\n",
       "      <td>0.090623</td>\n",
       "      <td>0.010807</td>\n",
       "      <td>0.013557</td>\n",
       "      <td>0.002544</td>\n",
       "      <td>balanced</td>\n",
       "      <td>gini</td>\n",
       "      <td>0.006433</td>\n",
       "      <td>93</td>\n",
       "      <td>...</td>\n",
       "      <td>0.000000</td>\n",
       "      <td>237</td>\n",
       "      <td>1.000000</td>\n",
       "      <td>1.000000</td>\n",
       "      <td>1.000000</td>\n",
       "      <td>1.000000</td>\n",
       "      <td>0.000000</td>\n",
       "      <td>0.800000</td>\n",
       "      <td>0.400000</td>\n",
       "      <td>{'model__class_weight': 'balanced', 'model__cr...</td>\n",
       "    </tr>\n",
       "    <tr>\n",
       "      <th>3</th>\n",
       "      <td>0</td>\n",
       "      <td>20</td>\n",
       "      <td>0.054271</td>\n",
       "      <td>0.007123</td>\n",
       "      <td>0.007954</td>\n",
       "      <td>0.001588</td>\n",
       "      <td>balanced</td>\n",
       "      <td>gini</td>\n",
       "      <td>0.007313</td>\n",
       "      <td>44</td>\n",
       "      <td>...</td>\n",
       "      <td>0.000000</td>\n",
       "      <td>237</td>\n",
       "      <td>1.000000</td>\n",
       "      <td>1.000000</td>\n",
       "      <td>1.000000</td>\n",
       "      <td>1.000000</td>\n",
       "      <td>0.000000</td>\n",
       "      <td>0.800000</td>\n",
       "      <td>0.400000</td>\n",
       "      <td>{'model__class_weight': 'balanced', 'model__cr...</td>\n",
       "    </tr>\n",
       "    <tr>\n",
       "      <th>4</th>\n",
       "      <td>0</td>\n",
       "      <td>20</td>\n",
       "      <td>0.259566</td>\n",
       "      <td>0.041253</td>\n",
       "      <td>0.031525</td>\n",
       "      <td>0.003493</td>\n",
       "      <td>balanced_subsample</td>\n",
       "      <td>gini</td>\n",
       "      <td>0.007761</td>\n",
       "      <td>170</td>\n",
       "      <td>...</td>\n",
       "      <td>0.000000</td>\n",
       "      <td>237</td>\n",
       "      <td>1.000000</td>\n",
       "      <td>1.000000</td>\n",
       "      <td>1.000000</td>\n",
       "      <td>1.000000</td>\n",
       "      <td>0.000000</td>\n",
       "      <td>0.800000</td>\n",
       "      <td>0.400000</td>\n",
       "      <td>{'model__class_weight': 'balanced_subsample', ...</td>\n",
       "    </tr>\n",
       "    <tr>\n",
       "      <th>...</th>\n",
       "      <td>...</td>\n",
       "      <td>...</td>\n",
       "      <td>...</td>\n",
       "      <td>...</td>\n",
       "      <td>...</td>\n",
       "      <td>...</td>\n",
       "      <td>...</td>\n",
       "      <td>...</td>\n",
       "      <td>...</td>\n",
       "      <td>...</td>\n",
       "      <td>...</td>\n",
       "      <td>...</td>\n",
       "      <td>...</td>\n",
       "      <td>...</td>\n",
       "      <td>...</td>\n",
       "      <td>...</td>\n",
       "      <td>...</td>\n",
       "      <td>...</td>\n",
       "      <td>...</td>\n",
       "      <td>...</td>\n",
       "      <td>...</td>\n",
       "    </tr>\n",
       "    <tr>\n",
       "      <th>3047</th>\n",
       "      <td>5</td>\n",
       "      <td>4860</td>\n",
       "      <td>0.346703</td>\n",
       "      <td>0.007141</td>\n",
       "      <td>0.019800</td>\n",
       "      <td>0.003148</td>\n",
       "      <td>balanced</td>\n",
       "      <td>entropy</td>\n",
       "      <td>0.009828</td>\n",
       "      <td>61</td>\n",
       "      <td>...</td>\n",
       "      <td>0.029331</td>\n",
       "      <td>5</td>\n",
       "      <td>0.729570</td>\n",
       "      <td>0.749568</td>\n",
       "      <td>0.748709</td>\n",
       "      <td>0.728843</td>\n",
       "      <td>0.735197</td>\n",
       "      <td>0.738378</td>\n",
       "      <td>0.009062</td>\n",
       "      <td>{'model__class_weight': 'balanced', 'model__cr...</td>\n",
       "    </tr>\n",
       "    <tr>\n",
       "      <th>3048</th>\n",
       "      <td>5</td>\n",
       "      <td>4860</td>\n",
       "      <td>0.314916</td>\n",
       "      <td>0.024769</td>\n",
       "      <td>0.016704</td>\n",
       "      <td>0.002905</td>\n",
       "      <td>balanced</td>\n",
       "      <td>entropy</td>\n",
       "      <td>0.009937</td>\n",
       "      <td>63</td>\n",
       "      <td>...</td>\n",
       "      <td>0.035162</td>\n",
       "      <td>4</td>\n",
       "      <td>0.727273</td>\n",
       "      <td>0.746552</td>\n",
       "      <td>0.748288</td>\n",
       "      <td>0.726960</td>\n",
       "      <td>0.732187</td>\n",
       "      <td>0.736252</td>\n",
       "      <td>0.009321</td>\n",
       "      <td>{'model__class_weight': 'balanced', 'model__cr...</td>\n",
       "    </tr>\n",
       "    <tr>\n",
       "      <th>3049</th>\n",
       "      <td>6</td>\n",
       "      <td>14580</td>\n",
       "      <td>1.604237</td>\n",
       "      <td>0.018108</td>\n",
       "      <td>0.060968</td>\n",
       "      <td>0.007089</td>\n",
       "      <td>balanced</td>\n",
       "      <td>gini</td>\n",
       "      <td>0.008659</td>\n",
       "      <td>140</td>\n",
       "      <td>...</td>\n",
       "      <td>0.021563</td>\n",
       "      <td>8</td>\n",
       "      <td>0.613458</td>\n",
       "      <td>0.617230</td>\n",
       "      <td>0.624326</td>\n",
       "      <td>0.618208</td>\n",
       "      <td>0.617801</td>\n",
       "      <td>0.618204</td>\n",
       "      <td>0.003496</td>\n",
       "      <td>{'model__class_weight': 'balanced', 'model__cr...</td>\n",
       "    </tr>\n",
       "    <tr>\n",
       "      <th>3050</th>\n",
       "      <td>6</td>\n",
       "      <td>14580</td>\n",
       "      <td>0.854209</td>\n",
       "      <td>0.026041</td>\n",
       "      <td>0.057337</td>\n",
       "      <td>0.003102</td>\n",
       "      <td>balanced</td>\n",
       "      <td>entropy</td>\n",
       "      <td>0.00959</td>\n",
       "      <td>55</td>\n",
       "      <td>...</td>\n",
       "      <td>0.014385</td>\n",
       "      <td>11</td>\n",
       "      <td>0.623710</td>\n",
       "      <td>0.621762</td>\n",
       "      <td>0.622047</td>\n",
       "      <td>0.611998</td>\n",
       "      <td>0.614737</td>\n",
       "      <td>0.618851</td>\n",
       "      <td>0.004608</td>\n",
       "      <td>{'model__class_weight': 'balanced', 'model__cr...</td>\n",
       "    </tr>\n",
       "    <tr>\n",
       "      <th>3051</th>\n",
       "      <td>6</td>\n",
       "      <td>14580</td>\n",
       "      <td>0.890912</td>\n",
       "      <td>0.004301</td>\n",
       "      <td>0.050349</td>\n",
       "      <td>0.004610</td>\n",
       "      <td>balanced_subsample</td>\n",
       "      <td>entropy</td>\n",
       "      <td>0.007286</td>\n",
       "      <td>42</td>\n",
       "      <td>...</td>\n",
       "      <td>0.018493</td>\n",
       "      <td>7</td>\n",
       "      <td>0.635782</td>\n",
       "      <td>0.642347</td>\n",
       "      <td>0.635821</td>\n",
       "      <td>0.636067</td>\n",
       "      <td>0.620788</td>\n",
       "      <td>0.634161</td>\n",
       "      <td>0.007140</td>\n",
       "      <td>{'model__class_weight': 'balanced_subsample', ...</td>\n",
       "    </tr>\n",
       "  </tbody>\n",
       "</table>\n",
       "<p>3052 rows × 27 columns</p>\n",
       "</div>"
      ],
      "text/plain": [
       "      iter  n_resources  mean_fit_time  std_fit_time  mean_score_time  \\\n",
       "0        0           20       0.065693      0.006872         0.014911   \n",
       "1        0           20       0.036844      0.004748         0.007425   \n",
       "2        0           20       0.090623      0.010807         0.013557   \n",
       "3        0           20       0.054271      0.007123         0.007954   \n",
       "4        0           20       0.259566      0.041253         0.031525   \n",
       "...    ...          ...            ...           ...              ...   \n",
       "3047     5         4860       0.346703      0.007141         0.019800   \n",
       "3048     5         4860       0.314916      0.024769         0.016704   \n",
       "3049     6        14580       1.604237      0.018108         0.060968   \n",
       "3050     6        14580       0.854209      0.026041         0.057337   \n",
       "3051     6        14580       0.890912      0.004301         0.050349   \n",
       "\n",
       "      std_score_time param_model__class_weight param_model__criterion  \\\n",
       "0           0.004732                  balanced                entropy   \n",
       "1           0.001356        balanced_subsample                entropy   \n",
       "2           0.002544                  balanced                   gini   \n",
       "3           0.001588                  balanced                   gini   \n",
       "4           0.003493        balanced_subsample                   gini   \n",
       "...              ...                       ...                    ...   \n",
       "3047        0.003148                  balanced                entropy   \n",
       "3048        0.002905                  balanced                entropy   \n",
       "3049        0.007089                  balanced                   gini   \n",
       "3050        0.003102                  balanced                entropy   \n",
       "3051        0.004610        balanced_subsample                entropy   \n",
       "\n",
       "     param_model__min_samples_split param_model__n_estimators  ...  \\\n",
       "0                          0.008503                        72  ...   \n",
       "1                          0.009185                        26  ...   \n",
       "2                          0.006433                        93  ...   \n",
       "3                          0.007313                        44  ...   \n",
       "4                          0.007761                       170  ...   \n",
       "...                             ...                       ...  ...   \n",
       "3047                       0.009828                        61  ...   \n",
       "3048                       0.009937                        63  ...   \n",
       "3049                       0.008659                       140  ...   \n",
       "3050                        0.00959                        55  ...   \n",
       "3051                       0.007286                        42  ...   \n",
       "\n",
       "     std_test_score  rank_test_score  split0_train_score  split1_train_score  \\\n",
       "0          0.000000              237            1.000000            1.000000   \n",
       "1          0.000000              237            1.000000            1.000000   \n",
       "2          0.000000              237            1.000000            1.000000   \n",
       "3          0.000000              237            1.000000            1.000000   \n",
       "4          0.000000              237            1.000000            1.000000   \n",
       "...             ...              ...                 ...                 ...   \n",
       "3047       0.029331                5            0.729570            0.749568   \n",
       "3048       0.035162                4            0.727273            0.746552   \n",
       "3049       0.021563                8            0.613458            0.617230   \n",
       "3050       0.014385               11            0.623710            0.621762   \n",
       "3051       0.018493                7            0.635782            0.642347   \n",
       "\n",
       "      split2_train_score  split3_train_score  split4_train_score  \\\n",
       "0               1.000000            1.000000            0.000000   \n",
       "1               1.000000            1.000000            0.000000   \n",
       "2               1.000000            1.000000            0.000000   \n",
       "3               1.000000            1.000000            0.000000   \n",
       "4               1.000000            1.000000            0.000000   \n",
       "...                  ...                 ...                 ...   \n",
       "3047            0.748709            0.728843            0.735197   \n",
       "3048            0.748288            0.726960            0.732187   \n",
       "3049            0.624326            0.618208            0.617801   \n",
       "3050            0.622047            0.611998            0.614737   \n",
       "3051            0.635821            0.636067            0.620788   \n",
       "\n",
       "      mean_train_score  std_train_score  \\\n",
       "0             0.800000         0.400000   \n",
       "1             0.800000         0.400000   \n",
       "2             0.800000         0.400000   \n",
       "3             0.800000         0.400000   \n",
       "4             0.800000         0.400000   \n",
       "...                ...              ...   \n",
       "3047          0.738378         0.009062   \n",
       "3048          0.736252         0.009321   \n",
       "3049          0.618204         0.003496   \n",
       "3050          0.618851         0.004608   \n",
       "3051          0.634161         0.007140   \n",
       "\n",
       "                                             params_str  \n",
       "0     {'model__class_weight': 'balanced', 'model__cr...  \n",
       "1     {'model__class_weight': 'balanced_subsample', ...  \n",
       "2     {'model__class_weight': 'balanced', 'model__cr...  \n",
       "3     {'model__class_weight': 'balanced', 'model__cr...  \n",
       "4     {'model__class_weight': 'balanced_subsample', ...  \n",
       "...                                                 ...  \n",
       "3047  {'model__class_weight': 'balanced', 'model__cr...  \n",
       "3048  {'model__class_weight': 'balanced', 'model__cr...  \n",
       "3049  {'model__class_weight': 'balanced', 'model__cr...  \n",
       "3050  {'model__class_weight': 'balanced', 'model__cr...  \n",
       "3051  {'model__class_weight': 'balanced_subsample', ...  \n",
       "\n",
       "[3052 rows x 27 columns]"
      ]
     },
     "execution_count": 74,
     "metadata": {},
     "output_type": "execute_result"
    }
   ],
   "source": [
    "results"
   ]
  },
  {
   "cell_type": "code",
   "execution_count": 75,
   "id": "de95086a-5b4f-4a0b-b861-cf0b20bfad2a",
   "metadata": {},
   "outputs": [
    {
     "data": {
      "text/html": [
       "<div>\n",
       "<style scoped>\n",
       "    .dataframe tbody tr th:only-of-type {\n",
       "        vertical-align: middle;\n",
       "    }\n",
       "\n",
       "    .dataframe tbody tr th {\n",
       "        vertical-align: top;\n",
       "    }\n",
       "\n",
       "    .dataframe thead th {\n",
       "        text-align: right;\n",
       "    }\n",
       "</style>\n",
       "<table border=\"1\" class=\"dataframe\">\n",
       "  <thead>\n",
       "    <tr style=\"text-align: right;\">\n",
       "      <th>params_str</th>\n",
       "      <th>{'model__class_weight': 'balanced', 'model__criterion': 'entropy', 'model__min_samples_split': 0.005003440869919403, 'model__n_estimators': 153}</th>\n",
       "      <th>{'model__class_weight': 'balanced', 'model__criterion': 'entropy', 'model__min_samples_split': 0.005010001061386167, 'model__n_estimators': 46}</th>\n",
       "      <th>{'model__class_weight': 'balanced', 'model__criterion': 'entropy', 'model__min_samples_split': 0.005098820507733019, 'model__n_estimators': 157}</th>\n",
       "      <th>{'model__class_weight': 'balanced', 'model__criterion': 'entropy', 'model__min_samples_split': 0.005147155414154571, 'model__n_estimators': 192}</th>\n",
       "      <th>{'model__class_weight': 'balanced', 'model__criterion': 'entropy', 'model__min_samples_split': 0.005167757905181406, 'model__n_estimators': 33}</th>\n",
       "      <th>{'model__class_weight': 'balanced', 'model__criterion': 'entropy', 'model__min_samples_split': 0.005169204034188057, 'model__n_estimators': 134}</th>\n",
       "      <th>{'model__class_weight': 'balanced', 'model__criterion': 'entropy', 'model__min_samples_split': 0.005178594641132805, 'model__n_estimators': 52}</th>\n",
       "      <th>{'model__class_weight': 'balanced', 'model__criterion': 'entropy', 'model__min_samples_split': 0.005180146554954901, 'model__n_estimators': 96}</th>\n",
       "      <th>{'model__class_weight': 'balanced', 'model__criterion': 'entropy', 'model__min_samples_split': 0.005180271215491458, 'model__n_estimators': 33}</th>\n",
       "      <th>{'model__class_weight': 'balanced', 'model__criterion': 'entropy', 'model__min_samples_split': 0.005194708911587962, 'model__n_estimators': 31}</th>\n",
       "      <th>...</th>\n",
       "      <th>{'model__class_weight': 'balanced_subsample', 'model__criterion': 'gini', 'model__min_samples_split': 0.009869072120690391, 'model__n_estimators': 66}</th>\n",
       "      <th>{'model__class_weight': 'balanced_subsample', 'model__criterion': 'gini', 'model__min_samples_split': 0.009872077553378301, 'model__n_estimators': 48}</th>\n",
       "      <th>{'model__class_weight': 'balanced_subsample', 'model__criterion': 'gini', 'model__min_samples_split': 0.009884054997182768, 'model__n_estimators': 182}</th>\n",
       "      <th>{'model__class_weight': 'balanced_subsample', 'model__criterion': 'gini', 'model__min_samples_split': 0.009897704203271946, 'model__n_estimators': 138}</th>\n",
       "      <th>{'model__class_weight': 'balanced_subsample', 'model__criterion': 'gini', 'model__min_samples_split': 0.009907707667072874, 'model__n_estimators': 11}</th>\n",
       "      <th>{'model__class_weight': 'balanced_subsample', 'model__criterion': 'gini', 'model__min_samples_split': 0.009929886744642541, 'model__n_estimators': 106}</th>\n",
       "      <th>{'model__class_weight': 'balanced_subsample', 'model__criterion': 'gini', 'model__min_samples_split': 0.009950637820544967, 'model__n_estimators': 148}</th>\n",
       "      <th>{'model__class_weight': 'balanced_subsample', 'model__criterion': 'gini', 'model__min_samples_split': 0.009969573118841207, 'model__n_estimators': 33}</th>\n",
       "      <th>{'model__class_weight': 'balanced_subsample', 'model__criterion': 'gini', 'model__min_samples_split': 0.009977335280360449, 'model__n_estimators': 35}</th>\n",
       "      <th>{'model__class_weight': 'balanced_subsample', 'model__criterion': 'gini', 'model__min_samples_split': 0.009980091168542479, 'model__n_estimators': 81}</th>\n",
       "    </tr>\n",
       "    <tr>\n",
       "      <th>iter</th>\n",
       "      <th></th>\n",
       "      <th></th>\n",
       "      <th></th>\n",
       "      <th></th>\n",
       "      <th></th>\n",
       "      <th></th>\n",
       "      <th></th>\n",
       "      <th></th>\n",
       "      <th></th>\n",
       "      <th></th>\n",
       "      <th></th>\n",
       "      <th></th>\n",
       "      <th></th>\n",
       "      <th></th>\n",
       "      <th></th>\n",
       "      <th></th>\n",
       "      <th></th>\n",
       "      <th></th>\n",
       "      <th></th>\n",
       "      <th></th>\n",
       "      <th></th>\n",
       "    </tr>\n",
       "  </thead>\n",
       "  <tbody>\n",
       "    <tr>\n",
       "      <th>0</th>\n",
       "      <td>0.0</td>\n",
       "      <td>0.0</td>\n",
       "      <td>0.0</td>\n",
       "      <td>0.0</td>\n",
       "      <td>0.0</td>\n",
       "      <td>0.0</td>\n",
       "      <td>0.0</td>\n",
       "      <td>0.0</td>\n",
       "      <td>0.0</td>\n",
       "      <td>0.0</td>\n",
       "      <td>...</td>\n",
       "      <td>0.0</td>\n",
       "      <td>0.0</td>\n",
       "      <td>0.0</td>\n",
       "      <td>0.0</td>\n",
       "      <td>0.0</td>\n",
       "      <td>0.0</td>\n",
       "      <td>0.0</td>\n",
       "      <td>0.0</td>\n",
       "      <td>0.0</td>\n",
       "      <td>0.0</td>\n",
       "    </tr>\n",
       "    <tr>\n",
       "      <th>1</th>\n",
       "      <td>0.0</td>\n",
       "      <td>NaN</td>\n",
       "      <td>NaN</td>\n",
       "      <td>NaN</td>\n",
       "      <td>NaN</td>\n",
       "      <td>NaN</td>\n",
       "      <td>NaN</td>\n",
       "      <td>NaN</td>\n",
       "      <td>NaN</td>\n",
       "      <td>NaN</td>\n",
       "      <td>...</td>\n",
       "      <td>NaN</td>\n",
       "      <td>0.0</td>\n",
       "      <td>0.0</td>\n",
       "      <td>0.0</td>\n",
       "      <td>NaN</td>\n",
       "      <td>NaN</td>\n",
       "      <td>NaN</td>\n",
       "      <td>0.0</td>\n",
       "      <td>0.0</td>\n",
       "      <td>NaN</td>\n",
       "    </tr>\n",
       "    <tr>\n",
       "      <th>2</th>\n",
       "      <td>0.0</td>\n",
       "      <td>NaN</td>\n",
       "      <td>NaN</td>\n",
       "      <td>NaN</td>\n",
       "      <td>NaN</td>\n",
       "      <td>NaN</td>\n",
       "      <td>NaN</td>\n",
       "      <td>NaN</td>\n",
       "      <td>NaN</td>\n",
       "      <td>NaN</td>\n",
       "      <td>...</td>\n",
       "      <td>NaN</td>\n",
       "      <td>NaN</td>\n",
       "      <td>NaN</td>\n",
       "      <td>NaN</td>\n",
       "      <td>NaN</td>\n",
       "      <td>NaN</td>\n",
       "      <td>NaN</td>\n",
       "      <td>NaN</td>\n",
       "      <td>NaN</td>\n",
       "      <td>NaN</td>\n",
       "    </tr>\n",
       "    <tr>\n",
       "      <th>3</th>\n",
       "      <td>NaN</td>\n",
       "      <td>NaN</td>\n",
       "      <td>NaN</td>\n",
       "      <td>NaN</td>\n",
       "      <td>NaN</td>\n",
       "      <td>NaN</td>\n",
       "      <td>NaN</td>\n",
       "      <td>NaN</td>\n",
       "      <td>NaN</td>\n",
       "      <td>NaN</td>\n",
       "      <td>...</td>\n",
       "      <td>NaN</td>\n",
       "      <td>NaN</td>\n",
       "      <td>NaN</td>\n",
       "      <td>NaN</td>\n",
       "      <td>NaN</td>\n",
       "      <td>NaN</td>\n",
       "      <td>NaN</td>\n",
       "      <td>NaN</td>\n",
       "      <td>NaN</td>\n",
       "      <td>NaN</td>\n",
       "    </tr>\n",
       "    <tr>\n",
       "      <th>4</th>\n",
       "      <td>NaN</td>\n",
       "      <td>NaN</td>\n",
       "      <td>NaN</td>\n",
       "      <td>NaN</td>\n",
       "      <td>NaN</td>\n",
       "      <td>NaN</td>\n",
       "      <td>NaN</td>\n",
       "      <td>NaN</td>\n",
       "      <td>NaN</td>\n",
       "      <td>NaN</td>\n",
       "      <td>...</td>\n",
       "      <td>NaN</td>\n",
       "      <td>NaN</td>\n",
       "      <td>NaN</td>\n",
       "      <td>NaN</td>\n",
       "      <td>NaN</td>\n",
       "      <td>NaN</td>\n",
       "      <td>NaN</td>\n",
       "      <td>NaN</td>\n",
       "      <td>NaN</td>\n",
       "      <td>NaN</td>\n",
       "    </tr>\n",
       "    <tr>\n",
       "      <th>5</th>\n",
       "      <td>NaN</td>\n",
       "      <td>NaN</td>\n",
       "      <td>NaN</td>\n",
       "      <td>NaN</td>\n",
       "      <td>NaN</td>\n",
       "      <td>NaN</td>\n",
       "      <td>NaN</td>\n",
       "      <td>NaN</td>\n",
       "      <td>NaN</td>\n",
       "      <td>NaN</td>\n",
       "      <td>...</td>\n",
       "      <td>NaN</td>\n",
       "      <td>NaN</td>\n",
       "      <td>NaN</td>\n",
       "      <td>NaN</td>\n",
       "      <td>NaN</td>\n",
       "      <td>NaN</td>\n",
       "      <td>NaN</td>\n",
       "      <td>NaN</td>\n",
       "      <td>NaN</td>\n",
       "      <td>NaN</td>\n",
       "    </tr>\n",
       "    <tr>\n",
       "      <th>6</th>\n",
       "      <td>NaN</td>\n",
       "      <td>NaN</td>\n",
       "      <td>NaN</td>\n",
       "      <td>NaN</td>\n",
       "      <td>NaN</td>\n",
       "      <td>NaN</td>\n",
       "      <td>NaN</td>\n",
       "      <td>NaN</td>\n",
       "      <td>NaN</td>\n",
       "      <td>NaN</td>\n",
       "      <td>...</td>\n",
       "      <td>NaN</td>\n",
       "      <td>NaN</td>\n",
       "      <td>NaN</td>\n",
       "      <td>NaN</td>\n",
       "      <td>NaN</td>\n",
       "      <td>NaN</td>\n",
       "      <td>NaN</td>\n",
       "      <td>NaN</td>\n",
       "      <td>NaN</td>\n",
       "      <td>NaN</td>\n",
       "    </tr>\n",
       "  </tbody>\n",
       "</table>\n",
       "<p>7 rows × 2034 columns</p>\n",
       "</div>"
      ],
      "text/plain": [
       "params_str  {'model__class_weight': 'balanced', 'model__criterion': 'entropy', 'model__min_samples_split': 0.005003440869919403, 'model__n_estimators': 153}  \\\n",
       "iter                                                                                                                                                           \n",
       "0                                                         0.0                                                                                                  \n",
       "1                                                         0.0                                                                                                  \n",
       "2                                                         0.0                                                                                                  \n",
       "3                                                         NaN                                                                                                  \n",
       "4                                                         NaN                                                                                                  \n",
       "5                                                         NaN                                                                                                  \n",
       "6                                                         NaN                                                                                                  \n",
       "\n",
       "params_str  {'model__class_weight': 'balanced', 'model__criterion': 'entropy', 'model__min_samples_split': 0.005010001061386167, 'model__n_estimators': 46}  \\\n",
       "iter                                                                                                                                                          \n",
       "0                                                         0.0                                                                                                 \n",
       "1                                                         NaN                                                                                                 \n",
       "2                                                         NaN                                                                                                 \n",
       "3                                                         NaN                                                                                                 \n",
       "4                                                         NaN                                                                                                 \n",
       "5                                                         NaN                                                                                                 \n",
       "6                                                         NaN                                                                                                 \n",
       "\n",
       "params_str  {'model__class_weight': 'balanced', 'model__criterion': 'entropy', 'model__min_samples_split': 0.005098820507733019, 'model__n_estimators': 157}  \\\n",
       "iter                                                                                                                                                           \n",
       "0                                                         0.0                                                                                                  \n",
       "1                                                         NaN                                                                                                  \n",
       "2                                                         NaN                                                                                                  \n",
       "3                                                         NaN                                                                                                  \n",
       "4                                                         NaN                                                                                                  \n",
       "5                                                         NaN                                                                                                  \n",
       "6                                                         NaN                                                                                                  \n",
       "\n",
       "params_str  {'model__class_weight': 'balanced', 'model__criterion': 'entropy', 'model__min_samples_split': 0.005147155414154571, 'model__n_estimators': 192}  \\\n",
       "iter                                                                                                                                                           \n",
       "0                                                         0.0                                                                                                  \n",
       "1                                                         NaN                                                                                                  \n",
       "2                                                         NaN                                                                                                  \n",
       "3                                                         NaN                                                                                                  \n",
       "4                                                         NaN                                                                                                  \n",
       "5                                                         NaN                                                                                                  \n",
       "6                                                         NaN                                                                                                  \n",
       "\n",
       "params_str  {'model__class_weight': 'balanced', 'model__criterion': 'entropy', 'model__min_samples_split': 0.005167757905181406, 'model__n_estimators': 33}  \\\n",
       "iter                                                                                                                                                          \n",
       "0                                                         0.0                                                                                                 \n",
       "1                                                         NaN                                                                                                 \n",
       "2                                                         NaN                                                                                                 \n",
       "3                                                         NaN                                                                                                 \n",
       "4                                                         NaN                                                                                                 \n",
       "5                                                         NaN                                                                                                 \n",
       "6                                                         NaN                                                                                                 \n",
       "\n",
       "params_str  {'model__class_weight': 'balanced', 'model__criterion': 'entropy', 'model__min_samples_split': 0.005169204034188057, 'model__n_estimators': 134}  \\\n",
       "iter                                                                                                                                                           \n",
       "0                                                         0.0                                                                                                  \n",
       "1                                                         NaN                                                                                                  \n",
       "2                                                         NaN                                                                                                  \n",
       "3                                                         NaN                                                                                                  \n",
       "4                                                         NaN                                                                                                  \n",
       "5                                                         NaN                                                                                                  \n",
       "6                                                         NaN                                                                                                  \n",
       "\n",
       "params_str  {'model__class_weight': 'balanced', 'model__criterion': 'entropy', 'model__min_samples_split': 0.005178594641132805, 'model__n_estimators': 52}  \\\n",
       "iter                                                                                                                                                          \n",
       "0                                                         0.0                                                                                                 \n",
       "1                                                         NaN                                                                                                 \n",
       "2                                                         NaN                                                                                                 \n",
       "3                                                         NaN                                                                                                 \n",
       "4                                                         NaN                                                                                                 \n",
       "5                                                         NaN                                                                                                 \n",
       "6                                                         NaN                                                                                                 \n",
       "\n",
       "params_str  {'model__class_weight': 'balanced', 'model__criterion': 'entropy', 'model__min_samples_split': 0.005180146554954901, 'model__n_estimators': 96}  \\\n",
       "iter                                                                                                                                                          \n",
       "0                                                         0.0                                                                                                 \n",
       "1                                                         NaN                                                                                                 \n",
       "2                                                         NaN                                                                                                 \n",
       "3                                                         NaN                                                                                                 \n",
       "4                                                         NaN                                                                                                 \n",
       "5                                                         NaN                                                                                                 \n",
       "6                                                         NaN                                                                                                 \n",
       "\n",
       "params_str  {'model__class_weight': 'balanced', 'model__criterion': 'entropy', 'model__min_samples_split': 0.005180271215491458, 'model__n_estimators': 33}  \\\n",
       "iter                                                                                                                                                          \n",
       "0                                                         0.0                                                                                                 \n",
       "1                                                         NaN                                                                                                 \n",
       "2                                                         NaN                                                                                                 \n",
       "3                                                         NaN                                                                                                 \n",
       "4                                                         NaN                                                                                                 \n",
       "5                                                         NaN                                                                                                 \n",
       "6                                                         NaN                                                                                                 \n",
       "\n",
       "params_str  {'model__class_weight': 'balanced', 'model__criterion': 'entropy', 'model__min_samples_split': 0.005194708911587962, 'model__n_estimators': 31}  \\\n",
       "iter                                                                                                                                                          \n",
       "0                                                         0.0                                                                                                 \n",
       "1                                                         NaN                                                                                                 \n",
       "2                                                         NaN                                                                                                 \n",
       "3                                                         NaN                                                                                                 \n",
       "4                                                         NaN                                                                                                 \n",
       "5                                                         NaN                                                                                                 \n",
       "6                                                         NaN                                                                                                 \n",
       "\n",
       "params_str  ...  \\\n",
       "iter        ...   \n",
       "0           ...   \n",
       "1           ...   \n",
       "2           ...   \n",
       "3           ...   \n",
       "4           ...   \n",
       "5           ...   \n",
       "6           ...   \n",
       "\n",
       "params_str  {'model__class_weight': 'balanced_subsample', 'model__criterion': 'gini', 'model__min_samples_split': 0.009869072120690391, 'model__n_estimators': 66}  \\\n",
       "iter                                                                                                                                                                 \n",
       "0                                                         0.0                                                                                                        \n",
       "1                                                         NaN                                                                                                        \n",
       "2                                                         NaN                                                                                                        \n",
       "3                                                         NaN                                                                                                        \n",
       "4                                                         NaN                                                                                                        \n",
       "5                                                         NaN                                                                                                        \n",
       "6                                                         NaN                                                                                                        \n",
       "\n",
       "params_str  {'model__class_weight': 'balanced_subsample', 'model__criterion': 'gini', 'model__min_samples_split': 0.009872077553378301, 'model__n_estimators': 48}  \\\n",
       "iter                                                                                                                                                                 \n",
       "0                                                         0.0                                                                                                        \n",
       "1                                                         0.0                                                                                                        \n",
       "2                                                         NaN                                                                                                        \n",
       "3                                                         NaN                                                                                                        \n",
       "4                                                         NaN                                                                                                        \n",
       "5                                                         NaN                                                                                                        \n",
       "6                                                         NaN                                                                                                        \n",
       "\n",
       "params_str  {'model__class_weight': 'balanced_subsample', 'model__criterion': 'gini', 'model__min_samples_split': 0.009884054997182768, 'model__n_estimators': 182}  \\\n",
       "iter                                                                                                                                                                  \n",
       "0                                                         0.0                                                                                                         \n",
       "1                                                         0.0                                                                                                         \n",
       "2                                                         NaN                                                                                                         \n",
       "3                                                         NaN                                                                                                         \n",
       "4                                                         NaN                                                                                                         \n",
       "5                                                         NaN                                                                                                         \n",
       "6                                                         NaN                                                                                                         \n",
       "\n",
       "params_str  {'model__class_weight': 'balanced_subsample', 'model__criterion': 'gini', 'model__min_samples_split': 0.009897704203271946, 'model__n_estimators': 138}  \\\n",
       "iter                                                                                                                                                                  \n",
       "0                                                         0.0                                                                                                         \n",
       "1                                                         0.0                                                                                                         \n",
       "2                                                         NaN                                                                                                         \n",
       "3                                                         NaN                                                                                                         \n",
       "4                                                         NaN                                                                                                         \n",
       "5                                                         NaN                                                                                                         \n",
       "6                                                         NaN                                                                                                         \n",
       "\n",
       "params_str  {'model__class_weight': 'balanced_subsample', 'model__criterion': 'gini', 'model__min_samples_split': 0.009907707667072874, 'model__n_estimators': 11}  \\\n",
       "iter                                                                                                                                                                 \n",
       "0                                                         0.0                                                                                                        \n",
       "1                                                         NaN                                                                                                        \n",
       "2                                                         NaN                                                                                                        \n",
       "3                                                         NaN                                                                                                        \n",
       "4                                                         NaN                                                                                                        \n",
       "5                                                         NaN                                                                                                        \n",
       "6                                                         NaN                                                                                                        \n",
       "\n",
       "params_str  {'model__class_weight': 'balanced_subsample', 'model__criterion': 'gini', 'model__min_samples_split': 0.009929886744642541, 'model__n_estimators': 106}  \\\n",
       "iter                                                                                                                                                                  \n",
       "0                                                         0.0                                                                                                         \n",
       "1                                                         NaN                                                                                                         \n",
       "2                                                         NaN                                                                                                         \n",
       "3                                                         NaN                                                                                                         \n",
       "4                                                         NaN                                                                                                         \n",
       "5                                                         NaN                                                                                                         \n",
       "6                                                         NaN                                                                                                         \n",
       "\n",
       "params_str  {'model__class_weight': 'balanced_subsample', 'model__criterion': 'gini', 'model__min_samples_split': 0.009950637820544967, 'model__n_estimators': 148}  \\\n",
       "iter                                                                                                                                                                  \n",
       "0                                                         0.0                                                                                                         \n",
       "1                                                         NaN                                                                                                         \n",
       "2                                                         NaN                                                                                                         \n",
       "3                                                         NaN                                                                                                         \n",
       "4                                                         NaN                                                                                                         \n",
       "5                                                         NaN                                                                                                         \n",
       "6                                                         NaN                                                                                                         \n",
       "\n",
       "params_str  {'model__class_weight': 'balanced_subsample', 'model__criterion': 'gini', 'model__min_samples_split': 0.009969573118841207, 'model__n_estimators': 33}  \\\n",
       "iter                                                                                                                                                                 \n",
       "0                                                         0.0                                                                                                        \n",
       "1                                                         0.0                                                                                                        \n",
       "2                                                         NaN                                                                                                        \n",
       "3                                                         NaN                                                                                                        \n",
       "4                                                         NaN                                                                                                        \n",
       "5                                                         NaN                                                                                                        \n",
       "6                                                         NaN                                                                                                        \n",
       "\n",
       "params_str  {'model__class_weight': 'balanced_subsample', 'model__criterion': 'gini', 'model__min_samples_split': 0.009977335280360449, 'model__n_estimators': 35}  \\\n",
       "iter                                                                                                                                                                 \n",
       "0                                                         0.0                                                                                                        \n",
       "1                                                         0.0                                                                                                        \n",
       "2                                                         NaN                                                                                                        \n",
       "3                                                         NaN                                                                                                        \n",
       "4                                                         NaN                                                                                                        \n",
       "5                                                         NaN                                                                                                        \n",
       "6                                                         NaN                                                                                                        \n",
       "\n",
       "params_str  {'model__class_weight': 'balanced_subsample', 'model__criterion': 'gini', 'model__min_samples_split': 0.009980091168542479, 'model__n_estimators': 81}  \n",
       "iter                                                                                                                                                                \n",
       "0                                                         0.0                                                                                                       \n",
       "1                                                         NaN                                                                                                       \n",
       "2                                                         NaN                                                                                                       \n",
       "3                                                         NaN                                                                                                       \n",
       "4                                                         NaN                                                                                                       \n",
       "5                                                         NaN                                                                                                       \n",
       "6                                                         NaN                                                                                                       \n",
       "\n",
       "[7 rows x 2034 columns]"
      ]
     },
     "execution_count": 75,
     "metadata": {},
     "output_type": "execute_result"
    }
   ],
   "source": [
    "mean_scores"
   ]
  },
  {
   "cell_type": "markdown",
   "id": "909d629d-6551-4570-9518-9d396479e2e7",
   "metadata": {},
   "source": [
    "# Hyper Band"
   ]
  },
  {
   "cell_type": "code",
   "execution_count": 76,
   "id": "b772e75e-d3fc-4918-80f6-203f55ae374e",
   "metadata": {},
   "outputs": [],
   "source": [
    "import pandas as pd\n",
    "import numpy as np\n",
    "from sklearn.compose import ColumnTransformer\n",
    "from sklearn.preprocessing import StandardScaler, OneHotEncoder\n",
    "from sklearn.pipeline import Pipeline\n",
    "from sklearn.model_selection import train_test_split\n",
    "from sklearn.metrics import f1_score\n",
    "from sklearn.ensemble import RandomForestClassifier\n",
    "\n",
    "import matplotlib.pyplot as plt\n",
    "from scipy.stats import randint,truncnorm\n",
    "from hyperband import HyperbandSearchCV"
   ]
  },
  {
   "cell_type": "code",
   "execution_count": 77,
   "id": "6013ebf0-d94e-4d56-a60c-72d5ab75c6ea",
   "metadata": {},
   "outputs": [
    {
     "name": "stdout",
     "output_type": "stream",
     "text": [
      "<class 'pandas.core.frame.DataFrame'>\n",
      "RangeIndex: 45211 entries, 0 to 45210\n",
      "Data columns (total 17 columns):\n",
      " #   Column     Non-Null Count  Dtype \n",
      "---  ------     --------------  ----- \n",
      " 0   age        45211 non-null  int64 \n",
      " 1   job        45211 non-null  object\n",
      " 2   marital    45211 non-null  object\n",
      " 3   education  45211 non-null  object\n",
      " 4   default    45211 non-null  object\n",
      " 5   balance    45211 non-null  int64 \n",
      " 6   housing    45211 non-null  object\n",
      " 7   loan       45211 non-null  object\n",
      " 8   contact    45211 non-null  object\n",
      " 9   day        45211 non-null  int64 \n",
      " 10  month      45211 non-null  object\n",
      " 11  duration   45211 non-null  int64 \n",
      " 12  campaign   45211 non-null  int64 \n",
      " 13  pdays      45211 non-null  int64 \n",
      " 14  previous   45211 non-null  int64 \n",
      " 15  poutcome   45211 non-null  object\n",
      " 16  y          45211 non-null  object\n",
      "dtypes: int64(7), object(10)\n",
      "memory usage: 5.9+ MB\n"
     ]
    }
   ],
   "source": [
    "df = pd.read_csv(\"train.csv\",sep=\";\")\n",
    "df.info()"
   ]
  },
  {
   "cell_type": "markdown",
   "id": "8679f32c-157f-412b-9d40-e00ff66287e8",
   "metadata": {},
   "source": [
    "Convert the target variable to integer"
   ]
  },
  {
   "cell_type": "code",
   "execution_count": 78,
   "id": "6b932ca4-a619-4ae7-9460-d92c774518f0",
   "metadata": {},
   "outputs": [],
   "source": [
    "df['y'] = df['y'].map({'yes':1,'no':0})"
   ]
  },
  {
   "cell_type": "markdown",
   "id": "6224399f-6016-4317-94fe-65ce2a5d42bd",
   "metadata": {},
   "source": [
    "Split full data into train and test data"
   ]
  },
  {
   "cell_type": "code",
   "execution_count": 79,
   "id": "b6b62e2a-3ea0-4c8f-bba3-7c4b4c9fcf70",
   "metadata": {},
   "outputs": [],
   "source": [
    "df_train, df_test = train_test_split(df, test_size=0.1, random_state=0) "
   ]
  },
  {
   "cell_type": "markdown",
   "id": "05535b5b-0c5e-4071-819e-c81c5c68a6e6",
   "metadata": {},
   "source": [
    "Get list of numerical features"
   ]
  },
  {
   "cell_type": "code",
   "execution_count": 80,
   "id": "ee00f0dd-7e05-42f6-99bd-11938b68dc07",
   "metadata": {},
   "outputs": [],
   "source": [
    "numerical_feats = list(df_train.drop(columns='y').select_dtypes(include=np.number).columns)"
   ]
  },
  {
   "cell_type": "markdown",
   "id": "c483a179-7a1a-4075-be90-d8447246af90",
   "metadata": {},
   "source": [
    "Get list of categorical features"
   ]
  },
  {
   "cell_type": "code",
   "execution_count": 81,
   "id": "d14bef3d-c22b-4674-9a40-bbaa0fd551df",
   "metadata": {},
   "outputs": [],
   "source": [
    "categorical_feats = list(df_train.drop(columns='y').select_dtypes(exclude=np.number).columns)"
   ]
  },
  {
   "cell_type": "markdown",
   "id": "47edaa26-2e41-49cb-a1a6-22d6d2503611",
   "metadata": {},
   "source": [
    "Initiate the preprocessors"
   ]
  },
  {
   "cell_type": "code",
   "execution_count": 82,
   "id": "e7ee614e-4c56-4ca9-a27c-313cc307239b",
   "metadata": {},
   "outputs": [],
   "source": [
    "# Initiate the Normalization Pre-processing for Numerical Features\n",
    "numeric_preprocessor = StandardScaler()\n",
    "\n",
    "# Initiate the One-Hot-Encoding Pre-processing for Categorical Features\n",
    "categorical_preprocessor = OneHotEncoder(handle_unknown=\"ignore\")"
   ]
  },
  {
   "cell_type": "markdown",
   "id": "be146981-f1c0-4060-ab7f-581560cbfee5",
   "metadata": {},
   "source": [
    "Create the ColumnTransformer Class to delegate each preprocessor to the corresponding features"
   ]
  },
  {
   "cell_type": "code",
   "execution_count": 83,
   "id": "1d5df31c-83fa-4c0b-b8b2-5f8f117e277d",
   "metadata": {},
   "outputs": [],
   "source": [
    "preprocessor = ColumnTransformer(\n",
    "    transformers=[\n",
    "        (\"num\", numeric_preprocessor, numerical_feats),\n",
    "        (\"cat\", categorical_preprocessor, categorical_feats),\n",
    "    ]\n",
    ")"
   ]
  },
  {
   "cell_type": "markdown",
   "id": "8ce52274-e4dc-44ad-9756-46e91ae9c8f9",
   "metadata": {},
   "source": [
    "Create a Pipeline of preprocessor and model"
   ]
  },
  {
   "cell_type": "code",
   "execution_count": 84,
   "id": "ee5a0772-8640-48db-b8e7-595d7db8cdce",
   "metadata": {},
   "outputs": [],
   "source": [
    "pipe = Pipeline(\n",
    "    steps=[(\"preprocessor\", preprocessor), \n",
    "           (\"model\", RandomForestClassifier(random_state=0))]\n",
    ")"
   ]
  },
  {
   "cell_type": "markdown",
   "id": "d4eff432-d4de-4410-92b1-a5963b6e1ed6",
   "metadata": {},
   "source": [
    "Get all features from the train data"
   ]
  },
  {
   "cell_type": "code",
   "execution_count": 85,
   "id": "b7daacaa-0e70-4d79-aced-e1742f0078e1",
   "metadata": {},
   "outputs": [
    {
     "name": "stdout",
     "output_type": "stream",
     "text": [
      "<class 'pandas.core.frame.DataFrame'>\n",
      "Int64Index: 40689 entries, 17974 to 2732\n",
      "Data columns (total 16 columns):\n",
      " #   Column     Non-Null Count  Dtype \n",
      "---  ------     --------------  ----- \n",
      " 0   age        40689 non-null  int64 \n",
      " 1   job        40689 non-null  object\n",
      " 2   marital    40689 non-null  object\n",
      " 3   education  40689 non-null  object\n",
      " 4   default    40689 non-null  object\n",
      " 5   balance    40689 non-null  int64 \n",
      " 6   housing    40689 non-null  object\n",
      " 7   loan       40689 non-null  object\n",
      " 8   contact    40689 non-null  object\n",
      " 9   day        40689 non-null  int64 \n",
      " 10  month      40689 non-null  object\n",
      " 11  duration   40689 non-null  int64 \n",
      " 12  campaign   40689 non-null  int64 \n",
      " 13  pdays      40689 non-null  int64 \n",
      " 14  previous   40689 non-null  int64 \n",
      " 15  poutcome   40689 non-null  object\n",
      "dtypes: int64(7), object(9)\n",
      "memory usage: 5.3+ MB\n"
     ]
    }
   ],
   "source": [
    "X_train_full = df_train.drop(columns=['y'])\n",
    "y_train = df_train['y']\n",
    "\n",
    "X_train_full.info()"
   ]
  },
  {
   "cell_type": "markdown",
   "id": "c9a55340-fd77-4c3b-9c28-da58e3852e96",
   "metadata": {},
   "source": [
    "Get all features from the test data"
   ]
  },
  {
   "cell_type": "code",
   "execution_count": 86,
   "id": "81977186-e4c7-48f4-8536-1be2ac7a54b0",
   "metadata": {},
   "outputs": [
    {
     "name": "stdout",
     "output_type": "stream",
     "text": [
      "<class 'pandas.core.frame.DataFrame'>\n",
      "Int64Index: 4522 entries, 14001 to 25978\n",
      "Data columns (total 16 columns):\n",
      " #   Column     Non-Null Count  Dtype \n",
      "---  ------     --------------  ----- \n",
      " 0   age        4522 non-null   int64 \n",
      " 1   job        4522 non-null   object\n",
      " 2   marital    4522 non-null   object\n",
      " 3   education  4522 non-null   object\n",
      " 4   default    4522 non-null   object\n",
      " 5   balance    4522 non-null   int64 \n",
      " 6   housing    4522 non-null   object\n",
      " 7   loan       4522 non-null   object\n",
      " 8   contact    4522 non-null   object\n",
      " 9   day        4522 non-null   int64 \n",
      " 10  month      4522 non-null   object\n",
      " 11  duration   4522 non-null   int64 \n",
      " 12  campaign   4522 non-null   int64 \n",
      " 13  pdays      4522 non-null   int64 \n",
      " 14  previous   4522 non-null   int64 \n",
      " 15  poutcome   4522 non-null   object\n",
      "dtypes: int64(7), object(9)\n",
      "memory usage: 600.6+ KB\n"
     ]
    }
   ],
   "source": [
    "X_test_full = df_test.drop(columns=['y'])\n",
    "y_test = df_test['y']\n",
    "\n",
    "X_test_full.info()"
   ]
  },
  {
   "cell_type": "markdown",
   "id": "9de64da0-6894-433b-a513-a7b9dd6791b3",
   "metadata": {},
   "source": [
    "Calculate F1-Score on Test Data without Hyperparameter Tuning"
   ]
  },
  {
   "cell_type": "code",
   "execution_count": 87,
   "id": "d710c21d-0628-45ee-9154-0e9aeba14569",
   "metadata": {
    "tags": []
   },
   "outputs": [
    {
     "name": "stdout",
     "output_type": "stream",
     "text": [
      "0.5164319248826291\n"
     ]
    }
   ],
   "source": [
    "# Fit the pipeline on train data \n",
    "pipe.fit(X_train_full,y_train)\n",
    "\n",
    "# Evaluate on the test data \n",
    "y_pred = pipe.predict(X_test_full)\n",
    "print(f1_score(y_test, y_pred))"
   ]
  },
  {
   "cell_type": "markdown",
   "id": "848e6e1b-88a3-4614-aa50-21fba16044cb",
   "metadata": {},
   "source": [
    "Define the hyperparameter space"
   ]
  },
  {
   "cell_type": "code",
   "execution_count": 88,
   "id": "66eb5129-c43c-4201-8da0-92f853df25c7",
   "metadata": {},
   "outputs": [],
   "source": [
    "hyperparameter_space = {\n",
    "\"model__criterion\": [\"gini\", \"entropy\"],\n",
    "\"model__class_weight\": [\"balanced\",\"balanced_subsample\"],\n",
    "\"model__min_samples_split\": truncnorm(a=0,b=0.5,loc=0.005, scale=0.01),\n",
    "} "
   ]
  },
  {
   "cell_type": "markdown",
   "id": "5ddc439f-cb16-4bcc-aec1-68a9fcc33940",
   "metadata": {},
   "source": [
    "Perform Hyper Band"
   ]
  },
  {
   "cell_type": "code",
   "execution_count": 89,
   "id": "19e87c8a-29fe-4d3f-9e37-5ea19c0d665a",
   "metadata": {},
   "outputs": [
    {
     "name": "stdout",
     "output_type": "stream",
     "text": [
      "Starting bracket 1 (out of 5) of hyperband\n",
      "Starting successive halving iteration 1 out of 5. Fitting 81 configurations, with resource_param model__n_estimators set to 1, and keeping the best 27 configurations.\n",
      "Fitting 5 folds for each of 81 candidates, totalling 405 fits\n",
      "Starting successive halving iteration 2 out of 5. Fitting 27 configurations, with resource_param model__n_estimators set to 3, and keeping the best 9 configurations.\n",
      "Fitting 5 folds for each of 27 candidates, totalling 135 fits\n",
      "Starting successive halving iteration 3 out of 5. Fitting 9 configurations, with resource_param model__n_estimators set to 11, and keeping the best 3 configurations.\n",
      "Fitting 5 folds for each of 9 candidates, totalling 45 fits\n",
      "Starting successive halving iteration 4 out of 5. Fitting 3 configurations, with resource_param model__n_estimators set to 33, and keeping the best 1 configurations.\n",
      "Fitting 5 folds for each of 3 candidates, totalling 15 fits\n",
      "Starting successive halving iteration 5 out of 5. Fitting 1 configurations, with resource_param model__n_estimators set to 100\n",
      "Fitting 5 folds for each of 1 candidates, totalling 5 fits\n",
      "Starting bracket 2 (out of 5) of hyperband\n",
      "Starting successive halving iteration 1 out of 4. Fitting 27 configurations, with resource_param model__n_estimators set to 3, and keeping the best 9 configurations.\n",
      "Fitting 5 folds for each of 27 candidates, totalling 135 fits\n",
      "Starting successive halving iteration 2 out of 4. Fitting 9 configurations, with resource_param model__n_estimators set to 11, and keeping the best 3 configurations.\n",
      "Fitting 5 folds for each of 9 candidates, totalling 45 fits\n",
      "Starting successive halving iteration 3 out of 4. Fitting 3 configurations, with resource_param model__n_estimators set to 33, and keeping the best 1 configurations.\n",
      "Fitting 5 folds for each of 3 candidates, totalling 15 fits\n",
      "Starting successive halving iteration 4 out of 4. Fitting 1 configurations, with resource_param model__n_estimators set to 100\n",
      "Fitting 5 folds for each of 1 candidates, totalling 5 fits\n",
      "Starting bracket 3 (out of 5) of hyperband\n",
      "Starting successive halving iteration 1 out of 3. Fitting 9 configurations, with resource_param model__n_estimators set to 11, and keeping the best 3 configurations.\n",
      "Fitting 5 folds for each of 9 candidates, totalling 45 fits\n",
      "Starting successive halving iteration 2 out of 3. Fitting 3 configurations, with resource_param model__n_estimators set to 33, and keeping the best 1 configurations.\n",
      "Fitting 5 folds for each of 3 candidates, totalling 15 fits\n",
      "Starting successive halving iteration 3 out of 3. Fitting 1 configurations, with resource_param model__n_estimators set to 100\n",
      "Fitting 5 folds for each of 1 candidates, totalling 5 fits\n",
      "Starting bracket 4 (out of 5) of hyperband\n",
      "Starting successive halving iteration 1 out of 2. Fitting 6 configurations, with resource_param model__n_estimators set to 33, and keeping the best 2 configurations.\n",
      "Fitting 5 folds for each of 6 candidates, totalling 30 fits\n",
      "Starting successive halving iteration 2 out of 2. Fitting 2 configurations, with resource_param model__n_estimators set to 100\n",
      "Fitting 5 folds for each of 2 candidates, totalling 10 fits\n",
      "Starting bracket 5 (out of 5) of hyperband\n",
      "Starting successive halving iteration 1 out of 1. Fitting 5 configurations, with resource_param model__n_estimators set to 100, and keeping the best 1 configurations.\n",
      "Fitting 5 folds for each of 5 candidates, totalling 25 fits\n"
     ]
    },
    {
     "data": {
      "text/plain": [
       "HyperbandSearchCV(cv=5,\n",
       "                  estimator=Pipeline(steps=[('preprocessor',\n",
       "                                             ColumnTransformer(transformers=[('num',\n",
       "                                                                              StandardScaler(),\n",
       "                                                                              ['age',\n",
       "                                                                               'balance',\n",
       "                                                                               'day',\n",
       "                                                                               'duration',\n",
       "                                                                               'campaign',\n",
       "                                                                               'pdays',\n",
       "                                                                               'previous']),\n",
       "                                                                             ('cat',\n",
       "                                                                              OneHotEncoder(handle_unknown='ignore'),\n",
       "                                                                              ['job',\n",
       "                                                                               'marital',\n",
       "                                                                               'education',\n",
       "                                                                               'default',\n",
       "                                                                               'housing',\n",
       "                                                                               'loan',\n",
       "                                                                               'contact',\n",
       "                                                                               'month',\n",
       "                                                                               'poutcome'])])),\n",
       "                                            ('model',\n",
       "                                             RandomForestClassifier(random_state=0))]),\n",
       "                  max_iter=100, n_jobs=-1,\n",
       "                  param_distributions={'model__class_weight': ['balanced',\n",
       "                                                               'balanced_subsample'],\n",
       "                                       'model__criterion': ['gini', 'entropy'],\n",
       "                                       'model__min_samples_split': <scipy.stats._distn_infrastructure.rv_frozen object at 0x7f31b818e550>},\n",
       "                  random_state=0, resource_param='model__n_estimators',\n",
       "                  scoring='f1', verbose=2)"
      ]
     },
     "execution_count": 89,
     "metadata": {},
     "output_type": "execute_result"
    }
   ],
   "source": [
    "# Initiate the HB Class\n",
    "clf = HyperbandSearchCV(pipe, hyperparameter_space,\n",
    "                        resource_param='model__n_estimators',\n",
    "                        eta=3,min_iter=1,max_iter=100,\n",
    "                        random_state = 0,\n",
    "                        scoring = 'f1', cv=5, \n",
    "                        n_jobs=-1, refit = True,\n",
    "                        verbose=2)\n",
    "\n",
    "# Run the HB CV\n",
    "clf.fit(X_train_full, y_train)"
   ]
  },
  {
   "cell_type": "code",
   "execution_count": 90,
   "id": "1092f661-7d6a-44c2-a90e-cb285117c7d8",
   "metadata": {},
   "outputs": [
    {
     "data": {
      "text/plain": [
       "({'model__class_weight': 'balanced',\n",
       "  'model__criterion': 'entropy',\n",
       "  'model__min_samples_split': 0.0055643644642829684,\n",
       "  'model__n_estimators': 33},\n",
       " 0.5601380695244504)"
      ]
     },
     "execution_count": 90,
     "metadata": {},
     "output_type": "execute_result"
    }
   ],
   "source": [
    "clf.best_params_,clf.best_score_"
   ]
  },
  {
   "cell_type": "code",
   "execution_count": 91,
   "id": "431310eb-dd6a-4d30-8025-53827e1623b8",
   "metadata": {},
   "outputs": [
    {
     "data": {
      "text/plain": [
       "0.5695284159613059"
      ]
     },
     "execution_count": 91,
     "metadata": {},
     "output_type": "execute_result"
    }
   ],
   "source": [
    "clf.score(X_test_full,y_test)"
   ]
  },
  {
   "cell_type": "code",
   "execution_count": 92,
   "id": "30455018-5953-4a6c-963f-fc67b4486a2f",
   "metadata": {},
   "outputs": [],
   "source": [
    "def del_key(dict_,key):\n",
    "    del dict_[key]\n",
    "    return dict_"
   ]
  },
  {
   "cell_type": "code",
   "execution_count": 93,
   "id": "f1171030-e2eb-4163-88c6-6d0aaa2eb8c6",
   "metadata": {},
   "outputs": [],
   "source": [
    "#delete model__n_estimators from params\n",
    "results = pd.DataFrame(clf.cv_results_)\n",
    "results['params'] = results['params'].apply(lambda x: del_key(x,'model__n_estimators'))"
   ]
  },
  {
   "cell_type": "code",
   "execution_count": 94,
   "id": "b565420f-95f5-4e2d-917e-08253cb29892",
   "metadata": {},
   "outputs": [
    {
     "data": {
      "text/html": [
       "<div>\n",
       "<style scoped>\n",
       "    .dataframe tbody tr th:only-of-type {\n",
       "        vertical-align: middle;\n",
       "    }\n",
       "\n",
       "    .dataframe tbody tr th {\n",
       "        vertical-align: top;\n",
       "    }\n",
       "\n",
       "    .dataframe thead th {\n",
       "        text-align: right;\n",
       "    }\n",
       "</style>\n",
       "<table border=\"1\" class=\"dataframe\">\n",
       "  <thead>\n",
       "    <tr style=\"text-align: right;\">\n",
       "      <th>params_str</th>\n",
       "      <th>{'model__class_weight': 'balanced', 'model__criterion': 'entropy', 'model__min_samples_split': 0.005022534793470857}</th>\n",
       "      <th>{'model__class_weight': 'balanced', 'model__criterion': 'entropy', 'model__min_samples_split': 0.005096502682891996}</th>\n",
       "      <th>{'model__class_weight': 'balanced', 'model__criterion': 'entropy', 'model__min_samples_split': 0.005577173905818139}</th>\n",
       "      <th>{'model__class_weight': 'balanced', 'model__criterion': 'entropy', 'model__min_samples_split': 0.006436456848526463}</th>\n",
       "      <th>{'model__class_weight': 'balanced', 'model__criterion': 'entropy', 'model__min_samples_split': 0.006754499672946753}</th>\n",
       "      <th>{'model__class_weight': 'balanced', 'model__criterion': 'entropy', 'model__min_samples_split': 0.007113046265838072}</th>\n",
       "      <th>{'model__class_weight': 'balanced', 'model__criterion': 'entropy', 'model__min_samples_split': 0.007429677252603323}</th>\n",
       "      <th>{'model__class_weight': 'balanced', 'model__criterion': 'entropy', 'model__min_samples_split': 0.0075661893831361834}</th>\n",
       "      <th>{'model__class_weight': 'balanced', 'model__criterion': 'entropy', 'model__min_samples_split': 0.007766131793967021}</th>\n",
       "      <th>{'model__class_weight': 'balanced', 'model__criterion': 'entropy', 'model__min_samples_split': 0.007998561260633821}</th>\n",
       "      <th>...</th>\n",
       "      <th>{'model__class_weight': 'balanced_subsample', 'model__criterion': 'gini', 'model__min_samples_split': 0.008188066613355166}</th>\n",
       "      <th>{'model__class_weight': 'balanced_subsample', 'model__criterion': 'gini', 'model__min_samples_split': 0.008259899856330119}</th>\n",
       "      <th>{'model__class_weight': 'balanced_subsample', 'model__criterion': 'gini', 'model__min_samples_split': 0.008276239041798021}</th>\n",
       "      <th>{'model__class_weight': 'balanced_subsample', 'model__criterion': 'gini', 'model__min_samples_split': 0.008332918182480022}</th>\n",
       "      <th>{'model__class_weight': 'balanced_subsample', 'model__criterion': 'gini', 'model__min_samples_split': 0.008387309876201078}</th>\n",
       "      <th>{'model__class_weight': 'balanced_subsample', 'model__criterion': 'gini', 'model__min_samples_split': 0.008508505640352257}</th>\n",
       "      <th>{'model__class_weight': 'balanced_subsample', 'model__criterion': 'gini', 'model__min_samples_split': 0.008805642344802703}</th>\n",
       "      <th>{'model__class_weight': 'balanced_subsample', 'model__criterion': 'gini', 'model__min_samples_split': 0.00910868297031522}</th>\n",
       "      <th>{'model__class_weight': 'balanced_subsample', 'model__criterion': 'gini', 'model__min_samples_split': 0.009294814415967953}</th>\n",
       "      <th>{'model__class_weight': 'balanced_subsample', 'model__criterion': 'gini', 'model__min_samples_split': 0.009619051711474445}</th>\n",
       "    </tr>\n",
       "    <tr>\n",
       "      <th>SH_iter</th>\n",
       "      <th></th>\n",
       "      <th></th>\n",
       "      <th></th>\n",
       "      <th></th>\n",
       "      <th></th>\n",
       "      <th></th>\n",
       "      <th></th>\n",
       "      <th></th>\n",
       "      <th></th>\n",
       "      <th></th>\n",
       "      <th></th>\n",
       "      <th></th>\n",
       "      <th></th>\n",
       "      <th></th>\n",
       "      <th></th>\n",
       "      <th></th>\n",
       "      <th></th>\n",
       "      <th></th>\n",
       "      <th></th>\n",
       "      <th></th>\n",
       "      <th></th>\n",
       "    </tr>\n",
       "  </thead>\n",
       "  <tbody>\n",
       "    <tr>\n",
       "      <th>0</th>\n",
       "      <td>0.475406</td>\n",
       "      <td>0.470009</td>\n",
       "      <td>0.472849</td>\n",
       "      <td>0.476851</td>\n",
       "      <td>0.465611</td>\n",
       "      <td>0.465694</td>\n",
       "      <td>0.459603</td>\n",
       "      <td>0.456367</td>\n",
       "      <td>0.462497</td>\n",
       "      <td>0.467737</td>\n",
       "      <td>...</td>\n",
       "      <td>0.473879</td>\n",
       "      <td>0.472255</td>\n",
       "      <td>0.47259</td>\n",
       "      <td>0.469706</td>\n",
       "      <td>0.468681</td>\n",
       "      <td>0.459842</td>\n",
       "      <td>0.476738</td>\n",
       "      <td>0.472393</td>\n",
       "      <td>0.467226</td>\n",
       "      <td>0.462654</td>\n",
       "    </tr>\n",
       "    <tr>\n",
       "      <th>1</th>\n",
       "      <td>0.525144</td>\n",
       "      <td>NaN</td>\n",
       "      <td>NaN</td>\n",
       "      <td>0.526648</td>\n",
       "      <td>NaN</td>\n",
       "      <td>NaN</td>\n",
       "      <td>NaN</td>\n",
       "      <td>NaN</td>\n",
       "      <td>NaN</td>\n",
       "      <td>NaN</td>\n",
       "      <td>...</td>\n",
       "      <td>NaN</td>\n",
       "      <td>NaN</td>\n",
       "      <td>NaN</td>\n",
       "      <td>NaN</td>\n",
       "      <td>NaN</td>\n",
       "      <td>NaN</td>\n",
       "      <td>0.522398</td>\n",
       "      <td>NaN</td>\n",
       "      <td>NaN</td>\n",
       "      <td>NaN</td>\n",
       "    </tr>\n",
       "    <tr>\n",
       "      <th>2</th>\n",
       "      <td>NaN</td>\n",
       "      <td>NaN</td>\n",
       "      <td>NaN</td>\n",
       "      <td>NaN</td>\n",
       "      <td>NaN</td>\n",
       "      <td>NaN</td>\n",
       "      <td>NaN</td>\n",
       "      <td>NaN</td>\n",
       "      <td>NaN</td>\n",
       "      <td>NaN</td>\n",
       "      <td>...</td>\n",
       "      <td>NaN</td>\n",
       "      <td>NaN</td>\n",
       "      <td>NaN</td>\n",
       "      <td>NaN</td>\n",
       "      <td>NaN</td>\n",
       "      <td>NaN</td>\n",
       "      <td>NaN</td>\n",
       "      <td>NaN</td>\n",
       "      <td>NaN</td>\n",
       "      <td>NaN</td>\n",
       "    </tr>\n",
       "    <tr>\n",
       "      <th>3</th>\n",
       "      <td>NaN</td>\n",
       "      <td>NaN</td>\n",
       "      <td>NaN</td>\n",
       "      <td>NaN</td>\n",
       "      <td>NaN</td>\n",
       "      <td>NaN</td>\n",
       "      <td>NaN</td>\n",
       "      <td>NaN</td>\n",
       "      <td>NaN</td>\n",
       "      <td>NaN</td>\n",
       "      <td>...</td>\n",
       "      <td>NaN</td>\n",
       "      <td>NaN</td>\n",
       "      <td>NaN</td>\n",
       "      <td>NaN</td>\n",
       "      <td>NaN</td>\n",
       "      <td>NaN</td>\n",
       "      <td>NaN</td>\n",
       "      <td>NaN</td>\n",
       "      <td>NaN</td>\n",
       "      <td>NaN</td>\n",
       "    </tr>\n",
       "    <tr>\n",
       "      <th>4</th>\n",
       "      <td>NaN</td>\n",
       "      <td>NaN</td>\n",
       "      <td>NaN</td>\n",
       "      <td>NaN</td>\n",
       "      <td>NaN</td>\n",
       "      <td>NaN</td>\n",
       "      <td>NaN</td>\n",
       "      <td>NaN</td>\n",
       "      <td>NaN</td>\n",
       "      <td>NaN</td>\n",
       "      <td>...</td>\n",
       "      <td>NaN</td>\n",
       "      <td>NaN</td>\n",
       "      <td>NaN</td>\n",
       "      <td>NaN</td>\n",
       "      <td>NaN</td>\n",
       "      <td>NaN</td>\n",
       "      <td>NaN</td>\n",
       "      <td>NaN</td>\n",
       "      <td>NaN</td>\n",
       "      <td>NaN</td>\n",
       "    </tr>\n",
       "  </tbody>\n",
       "</table>\n",
       "<p>5 rows × 81 columns</p>\n",
       "</div>"
      ],
      "text/plain": [
       "params_str  {'model__class_weight': 'balanced', 'model__criterion': 'entropy', 'model__min_samples_split': 0.005022534793470857}  \\\n",
       "SH_iter                                                                                                                            \n",
       "0                                                    0.475406                                                                      \n",
       "1                                                    0.525144                                                                      \n",
       "2                                                         NaN                                                                      \n",
       "3                                                         NaN                                                                      \n",
       "4                                                         NaN                                                                      \n",
       "\n",
       "params_str  {'model__class_weight': 'balanced', 'model__criterion': 'entropy', 'model__min_samples_split': 0.005096502682891996}  \\\n",
       "SH_iter                                                                                                                            \n",
       "0                                                    0.470009                                                                      \n",
       "1                                                         NaN                                                                      \n",
       "2                                                         NaN                                                                      \n",
       "3                                                         NaN                                                                      \n",
       "4                                                         NaN                                                                      \n",
       "\n",
       "params_str  {'model__class_weight': 'balanced', 'model__criterion': 'entropy', 'model__min_samples_split': 0.005577173905818139}  \\\n",
       "SH_iter                                                                                                                            \n",
       "0                                                    0.472849                                                                      \n",
       "1                                                         NaN                                                                      \n",
       "2                                                         NaN                                                                      \n",
       "3                                                         NaN                                                                      \n",
       "4                                                         NaN                                                                      \n",
       "\n",
       "params_str  {'model__class_weight': 'balanced', 'model__criterion': 'entropy', 'model__min_samples_split': 0.006436456848526463}  \\\n",
       "SH_iter                                                                                                                            \n",
       "0                                                    0.476851                                                                      \n",
       "1                                                    0.526648                                                                      \n",
       "2                                                         NaN                                                                      \n",
       "3                                                         NaN                                                                      \n",
       "4                                                         NaN                                                                      \n",
       "\n",
       "params_str  {'model__class_weight': 'balanced', 'model__criterion': 'entropy', 'model__min_samples_split': 0.006754499672946753}  \\\n",
       "SH_iter                                                                                                                            \n",
       "0                                                    0.465611                                                                      \n",
       "1                                                         NaN                                                                      \n",
       "2                                                         NaN                                                                      \n",
       "3                                                         NaN                                                                      \n",
       "4                                                         NaN                                                                      \n",
       "\n",
       "params_str  {'model__class_weight': 'balanced', 'model__criterion': 'entropy', 'model__min_samples_split': 0.007113046265838072}  \\\n",
       "SH_iter                                                                                                                            \n",
       "0                                                    0.465694                                                                      \n",
       "1                                                         NaN                                                                      \n",
       "2                                                         NaN                                                                      \n",
       "3                                                         NaN                                                                      \n",
       "4                                                         NaN                                                                      \n",
       "\n",
       "params_str  {'model__class_weight': 'balanced', 'model__criterion': 'entropy', 'model__min_samples_split': 0.007429677252603323}  \\\n",
       "SH_iter                                                                                                                            \n",
       "0                                                    0.459603                                                                      \n",
       "1                                                         NaN                                                                      \n",
       "2                                                         NaN                                                                      \n",
       "3                                                         NaN                                                                      \n",
       "4                                                         NaN                                                                      \n",
       "\n",
       "params_str  {'model__class_weight': 'balanced', 'model__criterion': 'entropy', 'model__min_samples_split': 0.0075661893831361834}  \\\n",
       "SH_iter                                                                                                                             \n",
       "0                                                    0.456367                                                                       \n",
       "1                                                         NaN                                                                       \n",
       "2                                                         NaN                                                                       \n",
       "3                                                         NaN                                                                       \n",
       "4                                                         NaN                                                                       \n",
       "\n",
       "params_str  {'model__class_weight': 'balanced', 'model__criterion': 'entropy', 'model__min_samples_split': 0.007766131793967021}  \\\n",
       "SH_iter                                                                                                                            \n",
       "0                                                    0.462497                                                                      \n",
       "1                                                         NaN                                                                      \n",
       "2                                                         NaN                                                                      \n",
       "3                                                         NaN                                                                      \n",
       "4                                                         NaN                                                                      \n",
       "\n",
       "params_str  {'model__class_weight': 'balanced', 'model__criterion': 'entropy', 'model__min_samples_split': 0.007998561260633821}  \\\n",
       "SH_iter                                                                                                                            \n",
       "0                                                    0.467737                                                                      \n",
       "1                                                         NaN                                                                      \n",
       "2                                                         NaN                                                                      \n",
       "3                                                         NaN                                                                      \n",
       "4                                                         NaN                                                                      \n",
       "\n",
       "params_str  ...  \\\n",
       "SH_iter     ...   \n",
       "0           ...   \n",
       "1           ...   \n",
       "2           ...   \n",
       "3           ...   \n",
       "4           ...   \n",
       "\n",
       "params_str  {'model__class_weight': 'balanced_subsample', 'model__criterion': 'gini', 'model__min_samples_split': 0.008188066613355166}  \\\n",
       "SH_iter                                                                                                                                   \n",
       "0                                                    0.473879                                                                             \n",
       "1                                                         NaN                                                                             \n",
       "2                                                         NaN                                                                             \n",
       "3                                                         NaN                                                                             \n",
       "4                                                         NaN                                                                             \n",
       "\n",
       "params_str  {'model__class_weight': 'balanced_subsample', 'model__criterion': 'gini', 'model__min_samples_split': 0.008259899856330119}  \\\n",
       "SH_iter                                                                                                                                   \n",
       "0                                                    0.472255                                                                             \n",
       "1                                                         NaN                                                                             \n",
       "2                                                         NaN                                                                             \n",
       "3                                                         NaN                                                                             \n",
       "4                                                         NaN                                                                             \n",
       "\n",
       "params_str  {'model__class_weight': 'balanced_subsample', 'model__criterion': 'gini', 'model__min_samples_split': 0.008276239041798021}  \\\n",
       "SH_iter                                                                                                                                   \n",
       "0                                                     0.47259                                                                             \n",
       "1                                                         NaN                                                                             \n",
       "2                                                         NaN                                                                             \n",
       "3                                                         NaN                                                                             \n",
       "4                                                         NaN                                                                             \n",
       "\n",
       "params_str  {'model__class_weight': 'balanced_subsample', 'model__criterion': 'gini', 'model__min_samples_split': 0.008332918182480022}  \\\n",
       "SH_iter                                                                                                                                   \n",
       "0                                                    0.469706                                                                             \n",
       "1                                                         NaN                                                                             \n",
       "2                                                         NaN                                                                             \n",
       "3                                                         NaN                                                                             \n",
       "4                                                         NaN                                                                             \n",
       "\n",
       "params_str  {'model__class_weight': 'balanced_subsample', 'model__criterion': 'gini', 'model__min_samples_split': 0.008387309876201078}  \\\n",
       "SH_iter                                                                                                                                   \n",
       "0                                                    0.468681                                                                             \n",
       "1                                                         NaN                                                                             \n",
       "2                                                         NaN                                                                             \n",
       "3                                                         NaN                                                                             \n",
       "4                                                         NaN                                                                             \n",
       "\n",
       "params_str  {'model__class_weight': 'balanced_subsample', 'model__criterion': 'gini', 'model__min_samples_split': 0.008508505640352257}  \\\n",
       "SH_iter                                                                                                                                   \n",
       "0                                                    0.459842                                                                             \n",
       "1                                                         NaN                                                                             \n",
       "2                                                         NaN                                                                             \n",
       "3                                                         NaN                                                                             \n",
       "4                                                         NaN                                                                             \n",
       "\n",
       "params_str  {'model__class_weight': 'balanced_subsample', 'model__criterion': 'gini', 'model__min_samples_split': 0.008805642344802703}  \\\n",
       "SH_iter                                                                                                                                   \n",
       "0                                                    0.476738                                                                             \n",
       "1                                                    0.522398                                                                             \n",
       "2                                                         NaN                                                                             \n",
       "3                                                         NaN                                                                             \n",
       "4                                                         NaN                                                                             \n",
       "\n",
       "params_str  {'model__class_weight': 'balanced_subsample', 'model__criterion': 'gini', 'model__min_samples_split': 0.00910868297031522}  \\\n",
       "SH_iter                                                                                                                                  \n",
       "0                                                    0.472393                                                                            \n",
       "1                                                         NaN                                                                            \n",
       "2                                                         NaN                                                                            \n",
       "3                                                         NaN                                                                            \n",
       "4                                                         NaN                                                                            \n",
       "\n",
       "params_str  {'model__class_weight': 'balanced_subsample', 'model__criterion': 'gini', 'model__min_samples_split': 0.009294814415967953}  \\\n",
       "SH_iter                                                                                                                                   \n",
       "0                                                    0.467226                                                                             \n",
       "1                                                         NaN                                                                             \n",
       "2                                                         NaN                                                                             \n",
       "3                                                         NaN                                                                             \n",
       "4                                                         NaN                                                                             \n",
       "\n",
       "params_str  {'model__class_weight': 'balanced_subsample', 'model__criterion': 'gini', 'model__min_samples_split': 0.009619051711474445}  \n",
       "SH_iter                                                                                                                                  \n",
       "0                                                    0.462654                                                                            \n",
       "1                                                         NaN                                                                            \n",
       "2                                                         NaN                                                                            \n",
       "3                                                         NaN                                                                            \n",
       "4                                                         NaN                                                                            \n",
       "\n",
       "[5 rows x 81 columns]"
      ]
     },
     "metadata": {},
     "output_type": "display_data"
    },
    {
     "data": {
      "image/png": "[encoded data removed]",
      "text/plain": [
       "<Figure size 1152x1152 with 1 Axes>"
      ]
     },
     "metadata": {
      "needs_background": "light"
     },
     "output_type": "display_data"
    },
    {
     "data": {
      "text/html": [
       "<div>\n",
       "<style scoped>\n",
       "    .dataframe tbody tr th:only-of-type {\n",
       "        vertical-align: middle;\n",
       "    }\n",
       "\n",
       "    .dataframe tbody tr th {\n",
       "        vertical-align: top;\n",
       "    }\n",
       "\n",
       "    .dataframe thead th {\n",
       "        text-align: right;\n",
       "    }\n",
       "</style>\n",
       "<table border=\"1\" class=\"dataframe\">\n",
       "  <thead>\n",
       "    <tr style=\"text-align: right;\">\n",
       "      <th>params_str</th>\n",
       "      <th>{'model__class_weight': 'balanced', 'model__criterion': 'entropy', 'model__min_samples_split': 0.005088891933280073}</th>\n",
       "      <th>{'model__class_weight': 'balanced', 'model__criterion': 'entropy', 'model__min_samples_split': 0.005152808999026509}</th>\n",
       "      <th>{'model__class_weight': 'balanced', 'model__criterion': 'entropy', 'model__min_samples_split': 0.008028286725485494}</th>\n",
       "      <th>{'model__class_weight': 'balanced', 'model__criterion': 'entropy', 'model__min_samples_split': 0.008406690731277089}</th>\n",
       "      <th>{'model__class_weight': 'balanced', 'model__criterion': 'gini', 'model__min_samples_split': 0.0052608112748995855}</th>\n",
       "      <th>{'model__class_weight': 'balanced', 'model__criterion': 'gini', 'model__min_samples_split': 0.006144199376846187}</th>\n",
       "      <th>{'model__class_weight': 'balanced', 'model__criterion': 'gini', 'model__min_samples_split': 0.008723961597705651}</th>\n",
       "      <th>{'model__class_weight': 'balanced', 'model__criterion': 'gini', 'model__min_samples_split': 0.00928563909211048}</th>\n",
       "      <th>{'model__class_weight': 'balanced_subsample', 'model__criterion': 'entropy', 'model__min_samples_split': 0.005529966114173286}</th>\n",
       "      <th>{'model__class_weight': 'balanced_subsample', 'model__criterion': 'entropy', 'model__min_samples_split': 0.005824627744984229}</th>\n",
       "      <th>...</th>\n",
       "      <th>{'model__class_weight': 'balanced_subsample', 'model__criterion': 'gini', 'model__min_samples_split': 0.0057749399858041065}</th>\n",
       "      <th>{'model__class_weight': 'balanced_subsample', 'model__criterion': 'gini', 'model__min_samples_split': 0.006008801525696762}</th>\n",
       "      <th>{'model__class_weight': 'balanced_subsample', 'model__criterion': 'gini', 'model__min_samples_split': 0.006042830369699549}</th>\n",
       "      <th>{'model__class_weight': 'balanced_subsample', 'model__criterion': 'gini', 'model__min_samples_split': 0.0060767480477817385}</th>\n",
       "      <th>{'model__class_weight': 'balanced_subsample', 'model__criterion': 'gini', 'model__min_samples_split': 0.006267133246803643}</th>\n",
       "      <th>{'model__class_weight': 'balanced_subsample', 'model__criterion': 'gini', 'model__min_samples_split': 0.00710021301875423}</th>\n",
       "      <th>{'model__class_weight': 'balanced_subsample', 'model__criterion': 'gini', 'model__min_samples_split': 0.007194902540337529}</th>\n",
       "      <th>{'model__class_weight': 'balanced_subsample', 'model__criterion': 'gini', 'model__min_samples_split': 0.007870046392599795}</th>\n",
       "      <th>{'model__class_weight': 'balanced_subsample', 'model__criterion': 'gini', 'model__min_samples_split': 0.009445538366843986}</th>\n",
       "      <th>{'model__class_weight': 'balanced_subsample', 'model__criterion': 'gini', 'model__min_samples_split': 0.00961256566140634}</th>\n",
       "    </tr>\n",
       "    <tr>\n",
       "      <th>SH_iter</th>\n",
       "      <th></th>\n",
       "      <th></th>\n",
       "      <th></th>\n",
       "      <th></th>\n",
       "      <th></th>\n",
       "      <th></th>\n",
       "      <th></th>\n",
       "      <th></th>\n",
       "      <th></th>\n",
       "      <th></th>\n",
       "      <th></th>\n",
       "      <th></th>\n",
       "      <th></th>\n",
       "      <th></th>\n",
       "      <th></th>\n",
       "      <th></th>\n",
       "      <th></th>\n",
       "      <th></th>\n",
       "      <th></th>\n",
       "      <th></th>\n",
       "      <th></th>\n",
       "    </tr>\n",
       "  </thead>\n",
       "  <tbody>\n",
       "    <tr>\n",
       "      <th>0</th>\n",
       "      <td>0.529942</td>\n",
       "      <td>0.529465</td>\n",
       "      <td>0.522498</td>\n",
       "      <td>0.51859</td>\n",
       "      <td>0.529064</td>\n",
       "      <td>0.529613</td>\n",
       "      <td>0.516202</td>\n",
       "      <td>0.516467</td>\n",
       "      <td>NaN</td>\n",
       "      <td>0.53064</td>\n",
       "      <td>...</td>\n",
       "      <td>NaN</td>\n",
       "      <td>0.528191</td>\n",
       "      <td>0.526791</td>\n",
       "      <td>0.524776</td>\n",
       "      <td>0.526279</td>\n",
       "      <td>0.518743</td>\n",
       "      <td>0.52285</td>\n",
       "      <td>0.520809</td>\n",
       "      <td>0.514134</td>\n",
       "      <td>0.515175</td>\n",
       "    </tr>\n",
       "    <tr>\n",
       "      <th>1</th>\n",
       "      <td>NaN</td>\n",
       "      <td>NaN</td>\n",
       "      <td>NaN</td>\n",
       "      <td>NaN</td>\n",
       "      <td>NaN</td>\n",
       "      <td>NaN</td>\n",
       "      <td>NaN</td>\n",
       "      <td>NaN</td>\n",
       "      <td>0.554695</td>\n",
       "      <td>NaN</td>\n",
       "      <td>...</td>\n",
       "      <td>0.554291</td>\n",
       "      <td>NaN</td>\n",
       "      <td>NaN</td>\n",
       "      <td>NaN</td>\n",
       "      <td>NaN</td>\n",
       "      <td>NaN</td>\n",
       "      <td>NaN</td>\n",
       "      <td>NaN</td>\n",
       "      <td>NaN</td>\n",
       "      <td>NaN</td>\n",
       "    </tr>\n",
       "    <tr>\n",
       "      <th>2</th>\n",
       "      <td>NaN</td>\n",
       "      <td>NaN</td>\n",
       "      <td>NaN</td>\n",
       "      <td>NaN</td>\n",
       "      <td>NaN</td>\n",
       "      <td>NaN</td>\n",
       "      <td>NaN</td>\n",
       "      <td>NaN</td>\n",
       "      <td>NaN</td>\n",
       "      <td>NaN</td>\n",
       "      <td>...</td>\n",
       "      <td>NaN</td>\n",
       "      <td>NaN</td>\n",
       "      <td>NaN</td>\n",
       "      <td>NaN</td>\n",
       "      <td>NaN</td>\n",
       "      <td>NaN</td>\n",
       "      <td>NaN</td>\n",
       "      <td>NaN</td>\n",
       "      <td>NaN</td>\n",
       "      <td>NaN</td>\n",
       "    </tr>\n",
       "    <tr>\n",
       "      <th>3</th>\n",
       "      <td>NaN</td>\n",
       "      <td>NaN</td>\n",
       "      <td>NaN</td>\n",
       "      <td>NaN</td>\n",
       "      <td>NaN</td>\n",
       "      <td>NaN</td>\n",
       "      <td>NaN</td>\n",
       "      <td>NaN</td>\n",
       "      <td>NaN</td>\n",
       "      <td>NaN</td>\n",
       "      <td>...</td>\n",
       "      <td>NaN</td>\n",
       "      <td>NaN</td>\n",
       "      <td>NaN</td>\n",
       "      <td>NaN</td>\n",
       "      <td>NaN</td>\n",
       "      <td>NaN</td>\n",
       "      <td>NaN</td>\n",
       "      <td>NaN</td>\n",
       "      <td>NaN</td>\n",
       "      <td>NaN</td>\n",
       "    </tr>\n",
       "  </tbody>\n",
       "</table>\n",
       "<p>4 rows × 32 columns</p>\n",
       "</div>"
      ],
      "text/plain": [
       "params_str  {'model__class_weight': 'balanced', 'model__criterion': 'entropy', 'model__min_samples_split': 0.005088891933280073}  \\\n",
       "SH_iter                                                                                                                            \n",
       "0                                                    0.529942                                                                      \n",
       "1                                                         NaN                                                                      \n",
       "2                                                         NaN                                                                      \n",
       "3                                                         NaN                                                                      \n",
       "\n",
       "params_str  {'model__class_weight': 'balanced', 'model__criterion': 'entropy', 'model__min_samples_split': 0.005152808999026509}  \\\n",
       "SH_iter                                                                                                                            \n",
       "0                                                    0.529465                                                                      \n",
       "1                                                         NaN                                                                      \n",
       "2                                                         NaN                                                                      \n",
       "3                                                         NaN                                                                      \n",
       "\n",
       "params_str  {'model__class_weight': 'balanced', 'model__criterion': 'entropy', 'model__min_samples_split': 0.008028286725485494}  \\\n",
       "SH_iter                                                                                                                            \n",
       "0                                                    0.522498                                                                      \n",
       "1                                                         NaN                                                                      \n",
       "2                                                         NaN                                                                      \n",
       "3                                                         NaN                                                                      \n",
       "\n",
       "params_str  {'model__class_weight': 'balanced', 'model__criterion': 'entropy', 'model__min_samples_split': 0.008406690731277089}  \\\n",
       "SH_iter                                                                                                                            \n",
       "0                                                     0.51859                                                                      \n",
       "1                                                         NaN                                                                      \n",
       "2                                                         NaN                                                                      \n",
       "3                                                         NaN                                                                      \n",
       "\n",
       "params_str  {'model__class_weight': 'balanced', 'model__criterion': 'gini', 'model__min_samples_split': 0.0052608112748995855}  \\\n",
       "SH_iter                                                                                                                          \n",
       "0                                                    0.529064                                                                    \n",
       "1                                                         NaN                                                                    \n",
       "2                                                         NaN                                                                    \n",
       "3                                                         NaN                                                                    \n",
       "\n",
       "params_str  {'model__class_weight': 'balanced', 'model__criterion': 'gini', 'model__min_samples_split': 0.006144199376846187}  \\\n",
       "SH_iter                                                                                                                         \n",
       "0                                                    0.529613                                                                   \n",
       "1                                                         NaN                                                                   \n",
       "2                                                         NaN                                                                   \n",
       "3                                                         NaN                                                                   \n",
       "\n",
       "params_str  {'model__class_weight': 'balanced', 'model__criterion': 'gini', 'model__min_samples_split': 0.008723961597705651}  \\\n",
       "SH_iter                                                                                                                         \n",
       "0                                                    0.516202                                                                   \n",
       "1                                                         NaN                                                                   \n",
       "2                                                         NaN                                                                   \n",
       "3                                                         NaN                                                                   \n",
       "\n",
       "params_str  {'model__class_weight': 'balanced', 'model__criterion': 'gini', 'model__min_samples_split': 0.00928563909211048}  \\\n",
       "SH_iter                                                                                                                        \n",
       "0                                                    0.516467                                                                  \n",
       "1                                                         NaN                                                                  \n",
       "2                                                         NaN                                                                  \n",
       "3                                                         NaN                                                                  \n",
       "\n",
       "params_str  {'model__class_weight': 'balanced_subsample', 'model__criterion': 'entropy', 'model__min_samples_split': 0.005529966114173286}  \\\n",
       "SH_iter                                                                                                                                      \n",
       "0                                                         NaN                                                                                \n",
       "1                                                    0.554695                                                                                \n",
       "2                                                         NaN                                                                                \n",
       "3                                                         NaN                                                                                \n",
       "\n",
       "params_str  {'model__class_weight': 'balanced_subsample', 'model__criterion': 'entropy', 'model__min_samples_split': 0.005824627744984229}  \\\n",
       "SH_iter                                                                                                                                      \n",
       "0                                                     0.53064                                                                                \n",
       "1                                                         NaN                                                                                \n",
       "2                                                         NaN                                                                                \n",
       "3                                                         NaN                                                                                \n",
       "\n",
       "params_str  ...  \\\n",
       "SH_iter     ...   \n",
       "0           ...   \n",
       "1           ...   \n",
       "2           ...   \n",
       "3           ...   \n",
       "\n",
       "params_str  {'model__class_weight': 'balanced_subsample', 'model__criterion': 'gini', 'model__min_samples_split': 0.0057749399858041065}  \\\n",
       "SH_iter                                                                                                                                    \n",
       "0                                                         NaN                                                                              \n",
       "1                                                    0.554291                                                                              \n",
       "2                                                         NaN                                                                              \n",
       "3                                                         NaN                                                                              \n",
       "\n",
       "params_str  {'model__class_weight': 'balanced_subsample', 'model__criterion': 'gini', 'model__min_samples_split': 0.006008801525696762}  \\\n",
       "SH_iter                                                                                                                                   \n",
       "0                                                    0.528191                                                                             \n",
       "1                                                         NaN                                                                             \n",
       "2                                                         NaN                                                                             \n",
       "3                                                         NaN                                                                             \n",
       "\n",
       "params_str  {'model__class_weight': 'balanced_subsample', 'model__criterion': 'gini', 'model__min_samples_split': 0.006042830369699549}  \\\n",
       "SH_iter                                                                                                                                   \n",
       "0                                                    0.526791                                                                             \n",
       "1                                                         NaN                                                                             \n",
       "2                                                         NaN                                                                             \n",
       "3                                                         NaN                                                                             \n",
       "\n",
       "params_str  {'model__class_weight': 'balanced_subsample', 'model__criterion': 'gini', 'model__min_samples_split': 0.0060767480477817385}  \\\n",
       "SH_iter                                                                                                                                    \n",
       "0                                                    0.524776                                                                              \n",
       "1                                                         NaN                                                                              \n",
       "2                                                         NaN                                                                              \n",
       "3                                                         NaN                                                                              \n",
       "\n",
       "params_str  {'model__class_weight': 'balanced_subsample', 'model__criterion': 'gini', 'model__min_samples_split': 0.006267133246803643}  \\\n",
       "SH_iter                                                                                                                                   \n",
       "0                                                    0.526279                                                                             \n",
       "1                                                         NaN                                                                             \n",
       "2                                                         NaN                                                                             \n",
       "3                                                         NaN                                                                             \n",
       "\n",
       "params_str  {'model__class_weight': 'balanced_subsample', 'model__criterion': 'gini', 'model__min_samples_split': 0.00710021301875423}  \\\n",
       "SH_iter                                                                                                                                  \n",
       "0                                                    0.518743                                                                            \n",
       "1                                                         NaN                                                                            \n",
       "2                                                         NaN                                                                            \n",
       "3                                                         NaN                                                                            \n",
       "\n",
       "params_str  {'model__class_weight': 'balanced_subsample', 'model__criterion': 'gini', 'model__min_samples_split': 0.007194902540337529}  \\\n",
       "SH_iter                                                                                                                                   \n",
       "0                                                     0.52285                                                                             \n",
       "1                                                         NaN                                                                             \n",
       "2                                                         NaN                                                                             \n",
       "3                                                         NaN                                                                             \n",
       "\n",
       "params_str  {'model__class_weight': 'balanced_subsample', 'model__criterion': 'gini', 'model__min_samples_split': 0.007870046392599795}  \\\n",
       "SH_iter                                                                                                                                   \n",
       "0                                                    0.520809                                                                             \n",
       "1                                                         NaN                                                                             \n",
       "2                                                         NaN                                                                             \n",
       "3                                                         NaN                                                                             \n",
       "\n",
       "params_str  {'model__class_weight': 'balanced_subsample', 'model__criterion': 'gini', 'model__min_samples_split': 0.009445538366843986}  \\\n",
       "SH_iter                                                                                                                                   \n",
       "0                                                    0.514134                                                                             \n",
       "1                                                         NaN                                                                             \n",
       "2                                                         NaN                                                                             \n",
       "3                                                         NaN                                                                             \n",
       "\n",
       "params_str  {'model__class_weight': 'balanced_subsample', 'model__criterion': 'gini', 'model__min_samples_split': 0.00961256566140634}  \n",
       "SH_iter                                                                                                                                 \n",
       "0                                                    0.515175                                                                           \n",
       "1                                                         NaN                                                                           \n",
       "2                                                         NaN                                                                           \n",
       "3                                                         NaN                                                                           \n",
       "\n",
       "[4 rows x 32 columns]"
      ]
     },
     "metadata": {},
     "output_type": "display_data"
    },
    {
     "data": {
      "image/png": "[encoded data removed]",
      "text/plain": [
       "<Figure size 1152x1152 with 1 Axes>"
      ]
     },
     "metadata": {
      "needs_background": "light"
     },
     "output_type": "display_data"
    },
    {
     "data": {
      "text/html": [
       "<div>\n",
       "<style scoped>\n",
       "    .dataframe tbody tr th:only-of-type {\n",
       "        vertical-align: middle;\n",
       "    }\n",
       "\n",
       "    .dataframe tbody tr th {\n",
       "        vertical-align: top;\n",
       "    }\n",
       "\n",
       "    .dataframe thead th {\n",
       "        text-align: right;\n",
       "    }\n",
       "</style>\n",
       "<table border=\"1\" class=\"dataframe\">\n",
       "  <thead>\n",
       "    <tr style=\"text-align: right;\">\n",
       "      <th>params_str</th>\n",
       "      <th>{'model__class_weight': 'balanced', 'model__criterion': 'entropy', 'model__min_samples_split': 0.006036126613642236}</th>\n",
       "      <th>{'model__class_weight': 'balanced', 'model__criterion': 'gini', 'model__min_samples_split': 0.005123164969684289}</th>\n",
       "      <th>{'model__class_weight': 'balanced', 'model__criterion': 'gini', 'model__min_samples_split': 0.006025532759934307}</th>\n",
       "      <th>{'model__class_weight': 'balanced_subsample', 'model__criterion': 'entropy', 'model__min_samples_split': 0.006850853169371979}</th>\n",
       "      <th>{'model__class_weight': 'balanced_subsample', 'model__criterion': 'entropy', 'model__min_samples_split': 0.008928801841646686}</th>\n",
       "      <th>{'model__class_weight': 'balanced_subsample', 'model__criterion': 'entropy', 'model__min_samples_split': 0.00910047866684437}</th>\n",
       "      <th>{'model__class_weight': 'balanced_subsample', 'model__criterion': 'gini', 'model__min_samples_split': 0.005466182311285859}</th>\n",
       "      <th>{'model__class_weight': 'balanced_subsample', 'model__criterion': 'gini', 'model__min_samples_split': 0.00858275572428024}</th>\n",
       "      <th>{'model__class_weight': 'balanced_subsample', 'model__criterion': 'gini', 'model__min_samples_split': 0.009318639251244093}</th>\n",
       "      <th>{'model__class_weight': 'balanced_subsample', 'model__criterion': 'gini', 'model__min_samples_split': 0.009744874735171025}</th>\n",
       "    </tr>\n",
       "    <tr>\n",
       "      <th>SH_iter</th>\n",
       "      <th></th>\n",
       "      <th></th>\n",
       "      <th></th>\n",
       "      <th></th>\n",
       "      <th></th>\n",
       "      <th></th>\n",
       "      <th></th>\n",
       "      <th></th>\n",
       "      <th></th>\n",
       "      <th></th>\n",
       "    </tr>\n",
       "  </thead>\n",
       "  <tbody>\n",
       "    <tr>\n",
       "      <th>0</th>\n",
       "      <td>0.554391</td>\n",
       "      <td>0.556474</td>\n",
       "      <td>0.553462</td>\n",
       "      <td>0.550811</td>\n",
       "      <td>0.545948</td>\n",
       "      <td>0.542135</td>\n",
       "      <td>NaN</td>\n",
       "      <td>0.542801</td>\n",
       "      <td>0.541499</td>\n",
       "      <td>0.539719</td>\n",
       "    </tr>\n",
       "    <tr>\n",
       "      <th>1</th>\n",
       "      <td>NaN</td>\n",
       "      <td>NaN</td>\n",
       "      <td>NaN</td>\n",
       "      <td>NaN</td>\n",
       "      <td>NaN</td>\n",
       "      <td>NaN</td>\n",
       "      <td>0.559508</td>\n",
       "      <td>NaN</td>\n",
       "      <td>NaN</td>\n",
       "      <td>NaN</td>\n",
       "    </tr>\n",
       "    <tr>\n",
       "      <th>2</th>\n",
       "      <td>NaN</td>\n",
       "      <td>NaN</td>\n",
       "      <td>NaN</td>\n",
       "      <td>NaN</td>\n",
       "      <td>NaN</td>\n",
       "      <td>NaN</td>\n",
       "      <td>0.559872</td>\n",
       "      <td>NaN</td>\n",
       "      <td>NaN</td>\n",
       "      <td>NaN</td>\n",
       "    </tr>\n",
       "  </tbody>\n",
       "</table>\n",
       "</div>"
      ],
      "text/plain": [
       "params_str  {'model__class_weight': 'balanced', 'model__criterion': 'entropy', 'model__min_samples_split': 0.006036126613642236}  \\\n",
       "SH_iter                                                                                                                            \n",
       "0                                                    0.554391                                                                      \n",
       "1                                                         NaN                                                                      \n",
       "2                                                         NaN                                                                      \n",
       "\n",
       "params_str  {'model__class_weight': 'balanced', 'model__criterion': 'gini', 'model__min_samples_split': 0.005123164969684289}  \\\n",
       "SH_iter                                                                                                                         \n",
       "0                                                    0.556474                                                                   \n",
       "1                                                         NaN                                                                   \n",
       "2                                                         NaN                                                                   \n",
       "\n",
       "params_str  {'model__class_weight': 'balanced', 'model__criterion': 'gini', 'model__min_samples_split': 0.006025532759934307}  \\\n",
       "SH_iter                                                                                                                         \n",
       "0                                                    0.553462                                                                   \n",
       "1                                                         NaN                                                                   \n",
       "2                                                         NaN                                                                   \n",
       "\n",
       "params_str  {'model__class_weight': 'balanced_subsample', 'model__criterion': 'entropy', 'model__min_samples_split': 0.006850853169371979}  \\\n",
       "SH_iter                                                                                                                                      \n",
       "0                                                    0.550811                                                                                \n",
       "1                                                         NaN                                                                                \n",
       "2                                                         NaN                                                                                \n",
       "\n",
       "params_str  {'model__class_weight': 'balanced_subsample', 'model__criterion': 'entropy', 'model__min_samples_split': 0.008928801841646686}  \\\n",
       "SH_iter                                                                                                                                      \n",
       "0                                                    0.545948                                                                                \n",
       "1                                                         NaN                                                                                \n",
       "2                                                         NaN                                                                                \n",
       "\n",
       "params_str  {'model__class_weight': 'balanced_subsample', 'model__criterion': 'entropy', 'model__min_samples_split': 0.00910047866684437}  \\\n",
       "SH_iter                                                                                                                                     \n",
       "0                                                    0.542135                                                                               \n",
       "1                                                         NaN                                                                               \n",
       "2                                                         NaN                                                                               \n",
       "\n",
       "params_str  {'model__class_weight': 'balanced_subsample', 'model__criterion': 'gini', 'model__min_samples_split': 0.005466182311285859}  \\\n",
       "SH_iter                                                                                                                                   \n",
       "0                                                         NaN                                                                             \n",
       "1                                                    0.559508                                                                             \n",
       "2                                                    0.559872                                                                             \n",
       "\n",
       "params_str  {'model__class_weight': 'balanced_subsample', 'model__criterion': 'gini', 'model__min_samples_split': 0.00858275572428024}  \\\n",
       "SH_iter                                                                                                                                  \n",
       "0                                                    0.542801                                                                            \n",
       "1                                                         NaN                                                                            \n",
       "2                                                         NaN                                                                            \n",
       "\n",
       "params_str  {'model__class_weight': 'balanced_subsample', 'model__criterion': 'gini', 'model__min_samples_split': 0.009318639251244093}  \\\n",
       "SH_iter                                                                                                                                   \n",
       "0                                                    0.541499                                                                             \n",
       "1                                                         NaN                                                                             \n",
       "2                                                         NaN                                                                             \n",
       "\n",
       "params_str  {'model__class_weight': 'balanced_subsample', 'model__criterion': 'gini', 'model__min_samples_split': 0.009744874735171025}  \n",
       "SH_iter                                                                                                                                  \n",
       "0                                                    0.539719                                                                            \n",
       "1                                                         NaN                                                                            \n",
       "2                                                         NaN                                                                            "
      ]
     },
     "metadata": {},
     "output_type": "display_data"
    },
    {
     "data": {
      "image/png": "[encoded data removed]",
      "text/plain": [
       "<Figure size 1152x1152 with 1 Axes>"
      ]
     },
     "metadata": {
      "needs_background": "light"
     },
     "output_type": "display_data"
    },
    {
     "data": {
      "text/html": [
       "<div>\n",
       "<style scoped>\n",
       "    .dataframe tbody tr th:only-of-type {\n",
       "        vertical-align: middle;\n",
       "    }\n",
       "\n",
       "    .dataframe tbody tr th {\n",
       "        vertical-align: top;\n",
       "    }\n",
       "\n",
       "    .dataframe thead th {\n",
       "        text-align: right;\n",
       "    }\n",
       "</style>\n",
       "<table border=\"1\" class=\"dataframe\">\n",
       "  <thead>\n",
       "    <tr style=\"text-align: right;\">\n",
       "      <th>params_str</th>\n",
       "      <th>{'model__class_weight': 'balanced', 'model__criterion': 'entropy', 'model__min_samples_split': 0.0055643644642829684}</th>\n",
       "      <th>{'model__class_weight': 'balanced', 'model__criterion': 'gini', 'model__min_samples_split': 0.005634253134532613}</th>\n",
       "      <th>{'model__class_weight': 'balanced_subsample', 'model__criterion': 'entropy', 'model__min_samples_split': 0.006912383373655413}</th>\n",
       "      <th>{'model__class_weight': 'balanced_subsample', 'model__criterion': 'entropy', 'model__min_samples_split': 0.0070524930468105484}</th>\n",
       "      <th>{'model__class_weight': 'balanced_subsample', 'model__criterion': 'entropy', 'model__min_samples_split': 0.007243494302458287}</th>\n",
       "      <th>{'model__class_weight': 'balanced_subsample', 'model__criterion': 'entropy', 'model__min_samples_split': 0.007854418490576887}</th>\n",
       "      <th>{'model__class_weight': 'balanced_subsample', 'model__criterion': 'gini', 'model__min_samples_split': 0.005466182311285859}</th>\n",
       "    </tr>\n",
       "    <tr>\n",
       "      <th>SH_iter</th>\n",
       "      <th></th>\n",
       "      <th></th>\n",
       "      <th></th>\n",
       "      <th></th>\n",
       "      <th></th>\n",
       "      <th></th>\n",
       "      <th></th>\n",
       "    </tr>\n",
       "  </thead>\n",
       "  <tbody>\n",
       "    <tr>\n",
       "      <th>0</th>\n",
       "      <td>0.560138</td>\n",
       "      <td>0.557068</td>\n",
       "      <td>0.55205</td>\n",
       "      <td>0.552663</td>\n",
       "      <td>0.553511</td>\n",
       "      <td>0.549344</td>\n",
       "      <td>NaN</td>\n",
       "    </tr>\n",
       "    <tr>\n",
       "      <th>1</th>\n",
       "      <td>0.558619</td>\n",
       "      <td>NaN</td>\n",
       "      <td>NaN</td>\n",
       "      <td>NaN</td>\n",
       "      <td>NaN</td>\n",
       "      <td>NaN</td>\n",
       "      <td>0.559872</td>\n",
       "    </tr>\n",
       "  </tbody>\n",
       "</table>\n",
       "</div>"
      ],
      "text/plain": [
       "params_str  {'model__class_weight': 'balanced', 'model__criterion': 'entropy', 'model__min_samples_split': 0.0055643644642829684}  \\\n",
       "SH_iter                                                                                                                             \n",
       "0                                                    0.560138                                                                       \n",
       "1                                                    0.558619                                                                       \n",
       "\n",
       "params_str  {'model__class_weight': 'balanced', 'model__criterion': 'gini', 'model__min_samples_split': 0.005634253134532613}  \\\n",
       "SH_iter                                                                                                                         \n",
       "0                                                    0.557068                                                                   \n",
       "1                                                         NaN                                                                   \n",
       "\n",
       "params_str  {'model__class_weight': 'balanced_subsample', 'model__criterion': 'entropy', 'model__min_samples_split': 0.006912383373655413}  \\\n",
       "SH_iter                                                                                                                                      \n",
       "0                                                     0.55205                                                                                \n",
       "1                                                         NaN                                                                                \n",
       "\n",
       "params_str  {'model__class_weight': 'balanced_subsample', 'model__criterion': 'entropy', 'model__min_samples_split': 0.0070524930468105484}  \\\n",
       "SH_iter                                                                                                                                       \n",
       "0                                                    0.552663                                                                                 \n",
       "1                                                         NaN                                                                                 \n",
       "\n",
       "params_str  {'model__class_weight': 'balanced_subsample', 'model__criterion': 'entropy', 'model__min_samples_split': 0.007243494302458287}  \\\n",
       "SH_iter                                                                                                                                      \n",
       "0                                                    0.553511                                                                                \n",
       "1                                                         NaN                                                                                \n",
       "\n",
       "params_str  {'model__class_weight': 'balanced_subsample', 'model__criterion': 'entropy', 'model__min_samples_split': 0.007854418490576887}  \\\n",
       "SH_iter                                                                                                                                      \n",
       "0                                                    0.549344                                                                                \n",
       "1                                                         NaN                                                                                \n",
       "\n",
       "params_str  {'model__class_weight': 'balanced_subsample', 'model__criterion': 'gini', 'model__min_samples_split': 0.005466182311285859}  \n",
       "SH_iter                                                                                                                                  \n",
       "0                                                         NaN                                                                            \n",
       "1                                                    0.559872                                                                            "
      ]
     },
     "metadata": {},
     "output_type": "display_data"
    },
    {
     "data": {
      "image/png": "[encoded data removed]",
      "text/plain": [
       "<Figure size 1152x1152 with 1 Axes>"
      ]
     },
     "metadata": {
      "needs_background": "light"
     },
     "output_type": "display_data"
    },
    {
     "data": {
      "text/html": [
       "<div>\n",
       "<style scoped>\n",
       "    .dataframe tbody tr th:only-of-type {\n",
       "        vertical-align: middle;\n",
       "    }\n",
       "\n",
       "    .dataframe tbody tr th {\n",
       "        vertical-align: top;\n",
       "    }\n",
       "\n",
       "    .dataframe thead th {\n",
       "        text-align: right;\n",
       "    }\n",
       "</style>\n",
       "<table border=\"1\" class=\"dataframe\">\n",
       "  <thead>\n",
       "    <tr style=\"text-align: right;\">\n",
       "      <th>params_str</th>\n",
       "      <th>{'model__class_weight': 'balanced', 'model__criterion': 'entropy', 'model__min_samples_split': 0.00867403526682592}</th>\n",
       "      <th>{'model__class_weight': 'balanced', 'model__criterion': 'gini', 'model__min_samples_split': 0.005400472325183361}</th>\n",
       "      <th>{'model__class_weight': 'balanced_subsample', 'model__criterion': 'entropy', 'model__min_samples_split': 0.009678593564320832}</th>\n",
       "      <th>{'model__class_weight': 'balanced_subsample', 'model__criterion': 'gini', 'model__min_samples_split': 0.005880743499499384}</th>\n",
       "      <th>{'model__class_weight': 'balanced_subsample', 'model__criterion': 'gini', 'model__min_samples_split': 0.007364144473535205}</th>\n",
       "    </tr>\n",
       "    <tr>\n",
       "      <th>SH_iter</th>\n",
       "      <th></th>\n",
       "      <th></th>\n",
       "      <th></th>\n",
       "      <th></th>\n",
       "      <th></th>\n",
       "    </tr>\n",
       "  </thead>\n",
       "  <tbody>\n",
       "    <tr>\n",
       "      <th>0</th>\n",
       "      <td>0.550262</td>\n",
       "      <td>0.557358</td>\n",
       "      <td>0.549462</td>\n",
       "      <td>0.556488</td>\n",
       "      <td>0.552869</td>\n",
       "    </tr>\n",
       "  </tbody>\n",
       "</table>\n",
       "</div>"
      ],
      "text/plain": [
       "params_str  {'model__class_weight': 'balanced', 'model__criterion': 'entropy', 'model__min_samples_split': 0.00867403526682592}  \\\n",
       "SH_iter                                                                                                                           \n",
       "0                                                    0.550262                                                                     \n",
       "\n",
       "params_str  {'model__class_weight': 'balanced', 'model__criterion': 'gini', 'model__min_samples_split': 0.005400472325183361}  \\\n",
       "SH_iter                                                                                                                         \n",
       "0                                                    0.557358                                                                   \n",
       "\n",
       "params_str  {'model__class_weight': 'balanced_subsample', 'model__criterion': 'entropy', 'model__min_samples_split': 0.009678593564320832}  \\\n",
       "SH_iter                                                                                                                                      \n",
       "0                                                    0.549462                                                                                \n",
       "\n",
       "params_str  {'model__class_weight': 'balanced_subsample', 'model__criterion': 'gini', 'model__min_samples_split': 0.005880743499499384}  \\\n",
       "SH_iter                                                                                                                                   \n",
       "0                                                    0.556488                                                                             \n",
       "\n",
       "params_str  {'model__class_weight': 'balanced_subsample', 'model__criterion': 'gini', 'model__min_samples_split': 0.007364144473535205}  \n",
       "SH_iter                                                                                                                                  \n",
       "0                                                    0.552869                                                                            "
      ]
     },
     "metadata": {},
     "output_type": "display_data"
    },
    {
     "data": {
      "image/png": "[encoded data removed]",
      "text/plain": [
       "<Figure size 1152x1152 with 1 Axes>"
      ]
     },
     "metadata": {
      "needs_background": "light"
     },
     "output_type": "display_data"
    }
   ],
   "source": [
    "import warnings\n",
    "warnings.filterwarnings('ignore')\n",
    "\n",
    "for bracket_i, bracket in enumerate(results['hyperband_bracket'].unique()):\n",
    "    results_SH = results[results['hyperband_bracket']==bracket]\n",
    "    results_SH[\"params_str\"] = results_SH.params.apply(str)\n",
    "    results_SH.drop_duplicates(subset=(\"params_str\", \"SH_iter\"), inplace=True)\n",
    "    mean_scores = results_SH.pivot(\n",
    "        index=\"SH_iter\", columns=\"params_str\", values=\"mean_test_score\"\n",
    "    )\n",
    "    \n",
    "    display(mean_scores)\n",
    "\n",
    "    fig, ax = plt.subplots(figsize=(16,16))\n",
    "\n",
    "    ax = mean_scores.plot(legend=False, alpha=0.6, marker=\"*\",ax=ax)\n",
    "\n",
    "    labels = [\n",
    "        f\"Iteration {i+1}\\nn_estimators={clf.n_resources_[bracket_i][i]}\\nn_candidates={int(clf.n_candidates_[bracket_i][i])}\"\n",
    "        for i in range(clf.n_trials_[bracket_i])\n",
    "    ]\n",
    "\n",
    "    ax.set_xticks(range(clf.n_trials_[bracket_i]))\n",
    "    ax.set_xticklabels(labels, rotation=0, multialignment=\"left\",size=16)\n",
    "    ax.set_title(f\"Bracket-{bracket_i+1}\\nF1-Score of Candidates over Iterations\",size=20)\n",
    "    ax.set_ylabel(\"5-Folds Cross Validation F1-Score\", fontsize=18)\n",
    "    ax.set_xlabel(\"\")\n",
    "    plt.tight_layout()\n",
    "    plt.show()"
   ]
  },
  {
   "cell_type": "markdown",
   "id": "b98d4407-d548-45c7-b51c-d61a60320aac",
   "metadata": {},
   "source": [
    "# Bayesian Optimization"
   ]
  },
  {
   "cell_type": "markdown",
   "id": "35738805-3540-42ef-8d78-7ac6d7939210",
   "metadata": {},
   "source": [
    "Custom `Real` Hyperparameter Space wrapper.\n",
    "\n",
    "`truncnorm` distribution is added here."
   ]
  },
  {
   "cell_type": "code",
   "execution_count": 95,
   "id": "cf9af681-2706-4992-93c7-abe09a8d19e0",
   "metadata": {},
   "outputs": [],
   "source": [
    "from skopt.space import *\n",
    "from scipy.stats import truncnorm"
   ]
  },
  {
   "cell_type": "code",
   "execution_count": 96,
   "id": "9263a56f-04c5-4688-bebd-ff15bc618cc1",
   "metadata": {},
   "outputs": [],
   "source": [
    "class Real(Dimension):\n",
    "    \"\"\"Search space dimension that can take on any real value.\n",
    "    Parameters\n",
    "    ----------\n",
    "    low : float\n",
    "        Lower bound (inclusive).\n",
    "    high : float\n",
    "        Upper bound (inclusive).\n",
    "    prior : \"uniform\",  \"log-uniform\", or \"truncnorm\", default=\"uniform\"\n",
    "        Distribution to use when sampling random points for this dimension.\n",
    "        - If `\"uniform\"`, points are sampled uniformly between the lower\n",
    "          and upper bounds.\n",
    "        - If `\"log-uniform\"`, points are sampled uniformly between\n",
    "          `log(lower, base)` and `log(upper, base)` where log\n",
    "          has base `base`.\n",
    "        - If \"truncnorm\", points are sample from the truncated normal\n",
    "          distribution between the lower and upper bounds, with mean and std\n",
    "          equal to loc and scale, respectively. The loc and scale needs to be\n",
    "          given through **kwargs.\n",
    "    base : int\n",
    "        The logarithmic base to use for a log-uniform prior.\n",
    "        - Default 10, otherwise commonly 2.\n",
    "    transform : \"identity\", \"normalize\", optional\n",
    "        The following transformations are supported.\n",
    "        - \"identity\", (default) the transformed space is the same as the\n",
    "          original space.\n",
    "        - \"normalize\", the transformed space is scaled to be between\n",
    "          0 and 1.\n",
    "    name : str or None\n",
    "        Name associated with the dimension, e.g., \"learning rate\".\n",
    "    dtype : str or dtype, default=np.float\n",
    "        float type which will be used in inverse_transform,\n",
    "        can be float.\n",
    "    \"\"\"\n",
    "    def __init__(self, low, high, prior=\"uniform\", base=10, transform=None,\n",
    "                 name=None, dtype=np.float, **kwargs):\n",
    "        if high <= low:\n",
    "            raise ValueError(\"the lower bound {} has to be less than the\"\n",
    "                             \" upper bound {}\".format(low, high))\n",
    "        self.low = low\n",
    "        self.high = high\n",
    "        self.prior = prior\n",
    "        self.base = base\n",
    "        self.log_base = np.log10(base)\n",
    "        self.name = name\n",
    "        self.dtype = dtype\n",
    "        self._rvs = None\n",
    "        self.transformer = None\n",
    "        self.transform_ = transform\n",
    "        self.kwargs = kwargs\n",
    "        if isinstance(self.dtype, str) and self.dtype\\\n",
    "                not in ['float', 'float16', 'float32', 'float64']:\n",
    "            raise ValueError(\"dtype must be 'float', 'float16', 'float32'\"\n",
    "                             \"or 'float64'\"\n",
    "                             \" got {}\".format(self.dtype))\n",
    "        elif isinstance(self.dtype, type) and self.dtype\\\n",
    "                not in [float, np.float, np.float16, np.float32, np.float64]:\n",
    "            raise ValueError(\"dtype must be float, np.float\"\n",
    "                             \" got {}\".format(self.dtype))\n",
    "\n",
    "        if transform is None:\n",
    "            transform = \"identity\"\n",
    "        self.set_transformer(transform)\n",
    "\n",
    "    def set_transformer(self, transform=\"identity\"):\n",
    "        \"\"\"Define rvs and transformer spaces.\n",
    "        Parameters\n",
    "        ----------\n",
    "        transform : str\n",
    "           Can be 'normalize' or 'identity'\n",
    "        \"\"\"\n",
    "        self.transform_ = transform\n",
    "\n",
    "        if self.transform_ not in [\"normalize\", \"identity\"]:\n",
    "            raise ValueError(\"transform should be 'normalize' or 'identity'\"\n",
    "                             \" got {}\".format(self.transform_))\n",
    "\n",
    "        # XXX: The _rvs is for sampling in the transformed space.\n",
    "        # The rvs on Dimension calls inverse_transform on the points sampled\n",
    "        # using _rvs\n",
    "        if self.transform_ == \"normalize\":\n",
    "            # set upper bound to next float after 1. to make the numbers\n",
    "            # inclusive of upper edge\n",
    "            self._rvs = _uniform_inclusive(0., 1.)\n",
    "            if self.prior == \"uniform\":\n",
    "                self.transformer = Pipeline(\n",
    "                    [Identity(), Normalize(self.low, self.high)])\n",
    "            elif self.prior == \"log-uniform\":\n",
    "                self.transformer = Pipeline(\n",
    "                    [LogN(self.base),\n",
    "                     Normalize(np.log10(self.low) / self.log_base,\n",
    "                               np.log10(self.high) / self.log_base)]\n",
    "                )\n",
    "            else: #self.prior == \"truncnorm\"\n",
    "                self.transformer = Pipeline(\n",
    "                    [Identity(), Normalize(self.low+1e-6, self.high)])\n",
    "                \n",
    "        else:\n",
    "            if self.prior == \"uniform\":\n",
    "                self._rvs = _uniform_inclusive(self.low, self.high - self.low)\n",
    "                self.transformer = Identity()\n",
    "            elif self.prior == \"log-uniform\":\n",
    "                self._rvs = _uniform_inclusive(\n",
    "                    np.log10(self.low) / self.log_base,\n",
    "                    np.log10(self.high) / self.log_base -\n",
    "                    np.log10(self.low) / self.log_base)\n",
    "                self.transformer = LogN(self.base)\n",
    "            else: #self.prior == \"truncnorm\"\n",
    "                self._rvs = truncnorm(a=self.low,b=self.high,\n",
    "                                      loc=self.kwargs.get(\"loc\",(self.low + self.high)/2), \n",
    "                                      scale=self.kwargs.get(\"scale\",(self.low + self.high)))\n",
    "                self.transformer = Identity()\n",
    "\n",
    "    def __eq__(self, other):\n",
    "        return (type(self) is type(other) and\n",
    "                np.allclose([self.low], [other.low]) and\n",
    "                np.allclose([self.high], [other.high]) and\n",
    "                self.prior == other.prior and\n",
    "                self.transform_ == other.transform_)\n",
    "\n",
    "    def __repr__(self):\n",
    "        return \"Real(low={}, high={}, prior='{}', transform='{}')\".format(\n",
    "            self.low, self.high, self.prior, self.transform_)\n",
    "\n",
    "    def inverse_transform(self, Xt):\n",
    "        \"\"\"Inverse transform samples from the warped space back into the\n",
    "           original space.\n",
    "        \"\"\"\n",
    "\n",
    "        inv_transform = super(Real, self).inverse_transform(Xt)\n",
    "        if isinstance(inv_transform, list):\n",
    "            inv_transform = np.array(inv_transform)\n",
    "        inv_transform = np.clip(inv_transform,\n",
    "                                self.low, self.high).astype(self.dtype)\n",
    "        if self.dtype == float or self.dtype == 'float':\n",
    "            # necessary, otherwise the type is converted to a numpy type\n",
    "            return getattr(inv_transform, \"tolist\", lambda: value)()\n",
    "        else:\n",
    "            return inv_transform\n",
    "\n",
    "    @property\n",
    "    def bounds(self):\n",
    "        return (self.low, self.high)\n",
    "\n",
    "    @property\n",
    "    def is_constant(self):\n",
    "        return self.low == self.high\n",
    "\n",
    "    def __contains__(self, point):\n",
    "        if isinstance(point, list):\n",
    "            point = np.array(point)\n",
    "        return self.low <= point <= self.high\n",
    "\n",
    "    @property\n",
    "    def transformed_bounds(self):\n",
    "        if self.transform_ == \"normalize\":\n",
    "            return 0.0, 1.0\n",
    "        else:\n",
    "            if self.prior in [\"uniform\",\"truncnorm\"]:\n",
    "                return self.low, self.high\n",
    "            else:\n",
    "                return np.log10(self.low), np.log10(self.high)\n",
    "\n",
    "    def distance(self, a, b):\n",
    "        \"\"\"Compute distance between point `a` and `b`.\n",
    "        Parameters\n",
    "        ----------\n",
    "        a : float\n",
    "            First point.\n",
    "        b : float\n",
    "            Second point.\n",
    "        \"\"\"\n",
    "        if not (a in self and b in self):\n",
    "            raise RuntimeError(\"Can only compute distance for values within \"\n",
    "                               \"the space, not %s and %s.\" % (a, b))\n",
    "        return abs(a - b)\n",
    "    \n",
    "\n",
    "def _uniform_inclusive(loc=0.0, scale=1.0):\n",
    "    # like scipy.stats.distributions but inclusive of `high`\n",
    "    # XXX scale + 1. might not actually be a float after scale if\n",
    "    # XXX scale is very large.\n",
    "    return uniform(loc=loc, scale=np.nextafter(scale, scale + 1.))"
   ]
  },
  {
   "cell_type": "code",
   "execution_count": 97,
   "id": "b815bd1b-0aba-42f5-bfb5-1cb42bd00b0d",
   "metadata": {},
   "outputs": [],
   "source": [
    "import pandas as pd\n",
    "import numpy as np\n",
    "from sklearn.compose import ColumnTransformer\n",
    "from sklearn.preprocessing import StandardScaler, OneHotEncoder\n",
    "from sklearn.pipeline import Pipeline as Sklearn_Pipeline\n",
    "from sklearn.model_selection import train_test_split\n",
    "from sklearn.metrics import f1_score\n",
    "from sklearn.ensemble import RandomForestClassifier\n",
    "\n",
    "import matplotlib.pyplot as plt\n",
    "from skopt import BayesSearchCV"
   ]
  },
  {
   "cell_type": "markdown",
   "id": "36ce4c88-8409-4d76-bc17-5895790b62e5",
   "metadata": {},
   "source": [
    "Load Data"
   ]
  },
  {
   "cell_type": "code",
   "execution_count": 98,
   "id": "d7da2973-8ada-41b5-8f12-a7054379b662",
   "metadata": {},
   "outputs": [
    {
     "name": "stdout",
     "output_type": "stream",
     "text": [
      "<class 'pandas.core.frame.DataFrame'>\n",
      "RangeIndex: 45211 entries, 0 to 45210\n",
      "Data columns (total 17 columns):\n",
      " #   Column     Non-Null Count  Dtype \n",
      "---  ------     --------------  ----- \n",
      " 0   age        45211 non-null  int64 \n",
      " 1   job        45211 non-null  object\n",
      " 2   marital    45211 non-null  object\n",
      " 3   education  45211 non-null  object\n",
      " 4   default    45211 non-null  object\n",
      " 5   balance    45211 non-null  int64 \n",
      " 6   housing    45211 non-null  object\n",
      " 7   loan       45211 non-null  object\n",
      " 8   contact    45211 non-null  object\n",
      " 9   day        45211 non-null  int64 \n",
      " 10  month      45211 non-null  object\n",
      " 11  duration   45211 non-null  int64 \n",
      " 12  campaign   45211 non-null  int64 \n",
      " 13  pdays      45211 non-null  int64 \n",
      " 14  previous   45211 non-null  int64 \n",
      " 15  poutcome   45211 non-null  object\n",
      " 16  y          45211 non-null  object\n",
      "dtypes: int64(7), object(10)\n",
      "memory usage: 5.9+ MB\n"
     ]
    }
   ],
   "source": [
    "df = pd.read_csv(\"train.csv\",sep=\";\")\n",
    "df.info()"
   ]
  },
  {
   "cell_type": "markdown",
   "id": "073ef14b-0898-45ae-a283-77894c118d94",
   "metadata": {},
   "source": [
    "Convert the target variable to integer"
   ]
  },
  {
   "cell_type": "code",
   "execution_count": 99,
   "id": "7b289396-b187-42a3-8401-9dcbe75fc520",
   "metadata": {},
   "outputs": [],
   "source": [
    "df['y'] = df['y'].map({'yes':1,'no':0})"
   ]
  },
  {
   "cell_type": "markdown",
   "id": "15738b62-21d5-4551-abc7-989698cafc5d",
   "metadata": {},
   "source": [
    "Split full data into train and test data"
   ]
  },
  {
   "cell_type": "code",
   "execution_count": 100,
   "id": "2a017149-cbdd-411e-85a0-490fdccde396",
   "metadata": {},
   "outputs": [],
   "source": [
    "df_train, df_test = train_test_split(df, test_size=0.1, random_state=0) "
   ]
  },
  {
   "cell_type": "markdown",
   "id": "6c9873a1-b473-44db-96bb-afec97aa5125",
   "metadata": {},
   "source": [
    "Get list of numerical features"
   ]
  },
  {
   "cell_type": "code",
   "execution_count": 101,
   "id": "779cfa87-18fa-4637-8cff-4d09ea02b751",
   "metadata": {},
   "outputs": [],
   "source": [
    "numerical_feats = list(df_train.drop(columns='y').select_dtypes(include=np.number).columns)"
   ]
  },
  {
   "cell_type": "markdown",
   "id": "d3eec6e5-7d86-4553-82c5-46277e665810",
   "metadata": {},
   "source": [
    "Get list of categorical features"
   ]
  },
  {
   "cell_type": "code",
   "execution_count": 102,
   "id": "9fb84d79-18b5-453d-ad4b-bd8122f60004",
   "metadata": {},
   "outputs": [],
   "source": [
    "categorical_feats = list(df_train.drop(columns='y').select_dtypes(exclude=np.number).columns)"
   ]
  },
  {
   "cell_type": "markdown",
   "id": "e7925d1c-fdc6-452e-a637-cf8997a8ba3b",
   "metadata": {},
   "source": [
    "Initiate the preprocessors"
   ]
  },
  {
   "cell_type": "code",
   "execution_count": 103,
   "id": "01df61ce-1675-4f2c-8a20-5afeec93e31a",
   "metadata": {},
   "outputs": [],
   "source": [
    "# Initiate the Normalization Pre-processing for Numerical Features\n",
    "numeric_preprocessor = StandardScaler()\n",
    "\n",
    "# Initiate the One-Hot-Encoding Pre-processing for Categorical Features\n",
    "categorical_preprocessor = OneHotEncoder(handle_unknown=\"ignore\")"
   ]
  },
  {
   "cell_type": "markdown",
   "id": "a11d2002-c564-4f3f-ad3d-17a68a121beb",
   "metadata": {},
   "source": [
    "Create the ColumnTransformer Class to delegate each preprocessor to the corresponding features"
   ]
  },
  {
   "cell_type": "code",
   "execution_count": 104,
   "id": "f0aad22c-d5d5-4e9a-a422-cf6c3b9beda8",
   "metadata": {},
   "outputs": [],
   "source": [
    "preprocessor = ColumnTransformer(\n",
    "    transformers=[\n",
    "        (\"num\", numeric_preprocessor, numerical_feats),\n",
    "        (\"cat\", categorical_preprocessor, categorical_feats),\n",
    "    ]\n",
    ")"
   ]
  },
  {
   "cell_type": "markdown",
   "id": "51b249e6-44d7-4413-af08-b009004efcbb",
   "metadata": {},
   "source": [
    "Create a Pipeline of preprocessor and model"
   ]
  },
  {
   "cell_type": "code",
   "execution_count": 105,
   "id": "4e7eba17-7e8e-4c41-9dd2-1d5cd9f913d9",
   "metadata": {},
   "outputs": [],
   "source": [
    "pipe = Sklearn_Pipeline(\n",
    "    steps=[(\"preprocessor\", preprocessor), \n",
    "           (\"model\", RandomForestClassifier(random_state=0))]\n",
    ")"
   ]
  },
  {
   "cell_type": "markdown",
   "id": "2aaa7443-1e18-44b4-bb7f-d1df3dd2571a",
   "metadata": {},
   "source": [
    "Get all features from the train data"
   ]
  },
  {
   "cell_type": "code",
   "execution_count": 106,
   "id": "52ff1fc4-4f0f-45a3-a3b8-22745fdabdd2",
   "metadata": {},
   "outputs": [
    {
     "name": "stdout",
     "output_type": "stream",
     "text": [
      "<class 'pandas.core.frame.DataFrame'>\n",
      "Int64Index: 40689 entries, 17974 to 2732\n",
      "Data columns (total 16 columns):\n",
      " #   Column     Non-Null Count  Dtype \n",
      "---  ------     --------------  ----- \n",
      " 0   age        40689 non-null  int64 \n",
      " 1   job        40689 non-null  object\n",
      " 2   marital    40689 non-null  object\n",
      " 3   education  40689 non-null  object\n",
      " 4   default    40689 non-null  object\n",
      " 5   balance    40689 non-null  int64 \n",
      " 6   housing    40689 non-null  object\n",
      " 7   loan       40689 non-null  object\n",
      " 8   contact    40689 non-null  object\n",
      " 9   day        40689 non-null  int64 \n",
      " 10  month      40689 non-null  object\n",
      " 11  duration   40689 non-null  int64 \n",
      " 12  campaign   40689 non-null  int64 \n",
      " 13  pdays      40689 non-null  int64 \n",
      " 14  previous   40689 non-null  int64 \n",
      " 15  poutcome   40689 non-null  object\n",
      "dtypes: int64(7), object(9)\n",
      "memory usage: 5.3+ MB\n"
     ]
    }
   ],
   "source": [
    "X_train_full = df_train.drop(columns=['y'])\n",
    "y_train = df_train['y']\n",
    "\n",
    "X_train_full.info()"
   ]
  },
  {
   "cell_type": "markdown",
   "id": "76b5c838-6867-4ab7-91e6-d4544a04d669",
   "metadata": {},
   "source": [
    "Get all features from the test data"
   ]
  },
  {
   "cell_type": "code",
   "execution_count": 107,
   "id": "ddd1a610-9d30-4ef6-b31a-da5d9612ef00",
   "metadata": {},
   "outputs": [
    {
     "name": "stdout",
     "output_type": "stream",
     "text": [
      "<class 'pandas.core.frame.DataFrame'>\n",
      "Int64Index: 4522 entries, 14001 to 25978\n",
      "Data columns (total 16 columns):\n",
      " #   Column     Non-Null Count  Dtype \n",
      "---  ------     --------------  ----- \n",
      " 0   age        4522 non-null   int64 \n",
      " 1   job        4522 non-null   object\n",
      " 2   marital    4522 non-null   object\n",
      " 3   education  4522 non-null   object\n",
      " 4   default    4522 non-null   object\n",
      " 5   balance    4522 non-null   int64 \n",
      " 6   housing    4522 non-null   object\n",
      " 7   loan       4522 non-null   object\n",
      " 8   contact    4522 non-null   object\n",
      " 9   day        4522 non-null   int64 \n",
      " 10  month      4522 non-null   object\n",
      " 11  duration   4522 non-null   int64 \n",
      " 12  campaign   4522 non-null   int64 \n",
      " 13  pdays      4522 non-null   int64 \n",
      " 14  previous   4522 non-null   int64 \n",
      " 15  poutcome   4522 non-null   object\n",
      "dtypes: int64(7), object(9)\n",
      "memory usage: 600.6+ KB\n"
     ]
    }
   ],
   "source": [
    "X_test_full = df_test.drop(columns=['y'])\n",
    "y_test = df_test['y']\n",
    "\n",
    "X_test_full.info()"
   ]
  },
  {
   "cell_type": "markdown",
   "id": "214336b4-7892-4fce-b511-4300623c7566",
   "metadata": {},
   "source": [
    "Calculate F1-Score on Test Data without Hyperparameter Tuning"
   ]
  },
  {
   "cell_type": "code",
   "execution_count": 108,
   "id": "8e7d96c1-5637-4b70-b0be-e662dab01cb7",
   "metadata": {
    "tags": []
   },
   "outputs": [
    {
     "name": "stdout",
     "output_type": "stream",
     "text": [
      "0.5164319248826291\n"
     ]
    }
   ],
   "source": [
    "# Fit the pipeline on train data \n",
    "pipe.fit(X_train_full,y_train)\n",
    "\n",
    "# Evaluate on the test data \n",
    "y_pred = pipe.predict(X_test_full)\n",
    "print(f1_score(y_test, y_pred))"
   ]
  },
  {
   "cell_type": "markdown",
   "id": "d2ba958c-cf6b-462f-9aff-7101463cc5c5",
   "metadata": {},
   "source": [
    "Define the hyperparameter space"
   ]
  },
  {
   "cell_type": "code",
   "execution_count": 109,
   "id": "7ae32f8c-87a5-42fe-b9ab-51c27eb4bcf7",
   "metadata": {},
   "outputs": [],
   "source": [
    "hyperparameter_space = {\n",
    "\"model__n_estimators\": Integer(low=5, high=200), \n",
    "\"model__criterion\": Categorical([\"gini\", \"entropy\"]),\n",
    "\"model__class_weight\": Categorical([\"balanced\",\"balanced_subsample\"]),\n",
    "\"model__min_samples_split\": Real(low=0,high=0.5,prior=\"truncnorm\",\n",
    "                                 **{\"loc\":0.005,\"scale\":0.01})\n",
    "} "
   ]
  },
  {
   "cell_type": "markdown",
   "id": "9cdec329-863d-454b-83d8-5b7d2880534f",
   "metadata": {
    "tags": []
   },
   "source": [
    "## BOGP"
   ]
  },
  {
   "cell_type": "markdown",
   "id": "e616ef8d-0e34-49bd-b768-b5ce770267b0",
   "metadata": {},
   "source": [
    "Perform Bayesian Optimization Gaussian Process"
   ]
  },
  {
   "cell_type": "code",
   "execution_count": 110,
   "id": "d09e59df-722a-4272-a6e1-90082030f105",
   "metadata": {},
   "outputs": [
    {
     "name": "stdout",
     "output_type": "stream",
     "text": [
      "Fitting 5 folds for each of 1 candidates, totalling 5 fits\n",
      "Fitting 5 folds for each of 1 candidates, totalling 5 fits\n",
      "Fitting 5 folds for each of 1 candidates, totalling 5 fits\n",
      "Fitting 5 folds for each of 1 candidates, totalling 5 fits\n",
      "Fitting 5 folds for each of 1 candidates, totalling 5 fits\n",
      "Fitting 5 folds for each of 1 candidates, totalling 5 fits\n",
      "Fitting 5 folds for each of 1 candidates, totalling 5 fits\n",
      "Fitting 5 folds for each of 1 candidates, totalling 5 fits\n",
      "Fitting 5 folds for each of 1 candidates, totalling 5 fits\n",
      "Fitting 5 folds for each of 1 candidates, totalling 5 fits\n",
      "Fitting 5 folds for each of 1 candidates, totalling 5 fits\n",
      "Fitting 5 folds for each of 1 candidates, totalling 5 fits\n",
      "Fitting 5 folds for each of 1 candidates, totalling 5 fits\n",
      "Fitting 5 folds for each of 1 candidates, totalling 5 fits\n",
      "Fitting 5 folds for each of 1 candidates, totalling 5 fits\n",
      "Fitting 5 folds for each of 1 candidates, totalling 5 fits\n",
      "Fitting 5 folds for each of 1 candidates, totalling 5 fits\n",
      "Fitting 5 folds for each of 1 candidates, totalling 5 fits\n",
      "Fitting 5 folds for each of 1 candidates, totalling 5 fits\n",
      "Fitting 5 folds for each of 1 candidates, totalling 5 fits\n",
      "Fitting 5 folds for each of 1 candidates, totalling 5 fits\n",
      "Fitting 5 folds for each of 1 candidates, totalling 5 fits\n",
      "Fitting 5 folds for each of 1 candidates, totalling 5 fits\n",
      "Fitting 5 folds for each of 1 candidates, totalling 5 fits\n",
      "Fitting 5 folds for each of 1 candidates, totalling 5 fits\n",
      "Fitting 5 folds for each of 1 candidates, totalling 5 fits\n",
      "Fitting 5 folds for each of 1 candidates, totalling 5 fits\n",
      "Fitting 5 folds for each of 1 candidates, totalling 5 fits\n",
      "Fitting 5 folds for each of 1 candidates, totalling 5 fits\n",
      "Fitting 5 folds for each of 1 candidates, totalling 5 fits\n",
      "Fitting 5 folds for each of 1 candidates, totalling 5 fits\n",
      "Fitting 5 folds for each of 1 candidates, totalling 5 fits\n",
      "Fitting 5 folds for each of 1 candidates, totalling 5 fits\n",
      "Fitting 5 folds for each of 1 candidates, totalling 5 fits\n",
      "Fitting 5 folds for each of 1 candidates, totalling 5 fits\n",
      "Fitting 5 folds for each of 1 candidates, totalling 5 fits\n",
      "Fitting 5 folds for each of 1 candidates, totalling 5 fits\n",
      "Fitting 5 folds for each of 1 candidates, totalling 5 fits\n",
      "Fitting 5 folds for each of 1 candidates, totalling 5 fits\n",
      "Fitting 5 folds for each of 1 candidates, totalling 5 fits\n",
      "Fitting 5 folds for each of 1 candidates, totalling 5 fits\n",
      "Fitting 5 folds for each of 1 candidates, totalling 5 fits\n",
      "Fitting 5 folds for each of 1 candidates, totalling 5 fits\n",
      "Fitting 5 folds for each of 1 candidates, totalling 5 fits\n",
      "Fitting 5 folds for each of 1 candidates, totalling 5 fits\n",
      "Fitting 5 folds for each of 1 candidates, totalling 5 fits\n",
      "Fitting 5 folds for each of 1 candidates, totalling 5 fits\n",
      "Fitting 5 folds for each of 1 candidates, totalling 5 fits\n",
      "Fitting 5 folds for each of 1 candidates, totalling 5 fits\n",
      "Fitting 5 folds for each of 1 candidates, totalling 5 fits\n"
     ]
    },
    {
     "data": {
      "text/plain": [
       "BayesSearchCV(cv=5,\n",
       "              estimator=Pipeline(steps=[('preprocessor',\n",
       "                                         ColumnTransformer(transformers=[('num',\n",
       "                                                                          StandardScaler(),\n",
       "                                                                          ['age',\n",
       "                                                                           'balance',\n",
       "                                                                           'day',\n",
       "                                                                           'duration',\n",
       "                                                                           'campaign',\n",
       "                                                                           'pdays',\n",
       "                                                                           'previous']),\n",
       "                                                                         ('cat',\n",
       "                                                                          OneHotEncoder(handle_unknown='ignore'),\n",
       "                                                                          ['job',\n",
       "                                                                           'marital',\n",
       "                                                                           'education',\n",
       "                                                                           'default',\n",
       "                                                                           'housing',\n",
       "                                                                           'loan',\n",
       "                                                                           'contact',\n",
       "                                                                           'month',\n",
       "                                                                           'poutcome'])])),\n",
       "                                        ('model',\n",
       "                                         RandomForestClassifier...\n",
       "              search_spaces={'model__class_weight': Categorical(categories=('balanced', 'balanced_subsample'), prior=None),\n",
       "                             'model__criterion': Categorical(categories=('gini', 'entropy'), prior=None),\n",
       "                             'model__min_samples_split': Real(low=0, high=0.5, prior='truncnorm', transform='normalize'),\n",
       "                             'model__n_estimators': Integer(low=5, high=200, prior='uniform', transform='normalize')},\n",
       "              verbose=2)"
      ]
     },
     "execution_count": 110,
     "metadata": {},
     "output_type": "execute_result"
    }
   ],
   "source": [
    "# Initiate the BOGP Class\n",
    "clf = BayesSearchCV(pipe, hyperparameter_space,\n",
    "                    n_iter=50,\n",
    "                    optimizer_kwargs={\"base_estimator\":\"GP\",\n",
    "                                      \"n_initial_points\":10,\n",
    "                                      \"initial_point_generator\":\"random\",\n",
    "                                      \"acq_func\":\"EI\",\n",
    "                                      \"acq_optimizer\":\"auto\",\n",
    "                                      \"n_jobs\":-1,\n",
    "                                      \"random_state\":0,\n",
    "                                      \"acq_func_kwargs\": {\"xi\":0.01}\n",
    "                                     },\n",
    "                    random_state = 0,\n",
    "                    scoring = 'f1', cv=5, \n",
    "                    n_jobs=-1, refit = True,\n",
    "                    verbose=2)\n",
    "\n",
    "# Run the BOGP CV\n",
    "clf.fit(X_train_full, y_train)"
   ]
  },
  {
   "cell_type": "code",
   "execution_count": 111,
   "id": "35e7e878-6bf2-4980-9423-8c659856560f",
   "metadata": {},
   "outputs": [
    {
     "data": {
      "text/plain": [
       "(OrderedDict([('model__class_weight', 'balanced'),\n",
       "              ('model__criterion', 'entropy'),\n",
       "              ('model__min_samples_split', 0.02363008892366518),\n",
       "              ('model__n_estimators', 94)]),\n",
       " 0.529918160187435)"
      ]
     },
     "execution_count": 111,
     "metadata": {},
     "output_type": "execute_result"
    }
   ],
   "source": [
    "clf.best_params_,clf.best_score_"
   ]
  },
  {
   "cell_type": "code",
   "execution_count": 112,
   "id": "eeeba11e-9ef3-4d95-96b0-4031185af2bf",
   "metadata": {},
   "outputs": [
    {
     "data": {
      "text/plain": [
       "0.5389830508474576"
      ]
     },
     "execution_count": 112,
     "metadata": {},
     "output_type": "execute_result"
    }
   ],
   "source": [
    "clf.score(X_test_full,y_test)"
   ]
  },
  {
   "cell_type": "markdown",
   "id": "936d16fd-7767-4cb5-81df-86c266af5a1f",
   "metadata": {
    "tags": []
   },
   "source": [
    "## BORF"
   ]
  },
  {
   "cell_type": "markdown",
   "id": "756a3b79-1462-49e0-b962-a1115f8c7292",
   "metadata": {},
   "source": [
    "Perform Bayesian Optimization Random Forest"
   ]
  },
  {
   "cell_type": "code",
   "execution_count": 113,
   "id": "40dd2a3b-bc61-4586-9800-31fad2981bce",
   "metadata": {},
   "outputs": [
    {
     "name": "stdout",
     "output_type": "stream",
     "text": [
      "Fitting 5 folds for each of 1 candidates, totalling 5 fits\n",
      "Fitting 5 folds for each of 1 candidates, totalling 5 fits\n",
      "Fitting 5 folds for each of 1 candidates, totalling 5 fits\n",
      "Fitting 5 folds for each of 1 candidates, totalling 5 fits\n",
      "Fitting 5 folds for each of 1 candidates, totalling 5 fits\n",
      "Fitting 5 folds for each of 1 candidates, totalling 5 fits\n",
      "Fitting 5 folds for each of 1 candidates, totalling 5 fits\n",
      "Fitting 5 folds for each of 1 candidates, totalling 5 fits\n",
      "Fitting 5 folds for each of 1 candidates, totalling 5 fits\n",
      "Fitting 5 folds for each of 1 candidates, totalling 5 fits\n",
      "Fitting 5 folds for each of 1 candidates, totalling 5 fits\n",
      "Fitting 5 folds for each of 1 candidates, totalling 5 fits\n",
      "Fitting 5 folds for each of 1 candidates, totalling 5 fits\n",
      "Fitting 5 folds for each of 1 candidates, totalling 5 fits\n",
      "Fitting 5 folds for each of 1 candidates, totalling 5 fits\n",
      "Fitting 5 folds for each of 1 candidates, totalling 5 fits\n",
      "Fitting 5 folds for each of 1 candidates, totalling 5 fits\n",
      "Fitting 5 folds for each of 1 candidates, totalling 5 fits\n",
      "Fitting 5 folds for each of 1 candidates, totalling 5 fits\n",
      "Fitting 5 folds for each of 1 candidates, totalling 5 fits\n",
      "Fitting 5 folds for each of 1 candidates, totalling 5 fits\n",
      "Fitting 5 folds for each of 1 candidates, totalling 5 fits\n",
      "Fitting 5 folds for each of 1 candidates, totalling 5 fits\n",
      "Fitting 5 folds for each of 1 candidates, totalling 5 fits\n",
      "Fitting 5 folds for each of 1 candidates, totalling 5 fits\n",
      "Fitting 5 folds for each of 1 candidates, totalling 5 fits\n",
      "Fitting 5 folds for each of 1 candidates, totalling 5 fits\n",
      "Fitting 5 folds for each of 1 candidates, totalling 5 fits\n",
      "Fitting 5 folds for each of 1 candidates, totalling 5 fits\n",
      "Fitting 5 folds for each of 1 candidates, totalling 5 fits\n",
      "Fitting 5 folds for each of 1 candidates, totalling 5 fits\n",
      "Fitting 5 folds for each of 1 candidates, totalling 5 fits\n",
      "Fitting 5 folds for each of 1 candidates, totalling 5 fits\n",
      "Fitting 5 folds for each of 1 candidates, totalling 5 fits\n",
      "Fitting 5 folds for each of 1 candidates, totalling 5 fits\n",
      "Fitting 5 folds for each of 1 candidates, totalling 5 fits\n",
      "Fitting 5 folds for each of 1 candidates, totalling 5 fits\n",
      "Fitting 5 folds for each of 1 candidates, totalling 5 fits\n",
      "Fitting 5 folds for each of 1 candidates, totalling 5 fits\n",
      "Fitting 5 folds for each of 1 candidates, totalling 5 fits\n",
      "Fitting 5 folds for each of 1 candidates, totalling 5 fits\n",
      "Fitting 5 folds for each of 1 candidates, totalling 5 fits\n",
      "Fitting 5 folds for each of 1 candidates, totalling 5 fits\n",
      "Fitting 5 folds for each of 1 candidates, totalling 5 fits\n",
      "Fitting 5 folds for each of 1 candidates, totalling 5 fits\n",
      "Fitting 5 folds for each of 1 candidates, totalling 5 fits\n",
      "Fitting 5 folds for each of 1 candidates, totalling 5 fits\n",
      "Fitting 5 folds for each of 1 candidates, totalling 5 fits\n",
      "Fitting 5 folds for each of 1 candidates, totalling 5 fits\n",
      "Fitting 5 folds for each of 1 candidates, totalling 5 fits\n"
     ]
    },
    {
     "data": {
      "text/plain": [
       "BayesSearchCV(cv=5,\n",
       "              estimator=Pipeline(steps=[('preprocessor',\n",
       "                                         ColumnTransformer(transformers=[('num',\n",
       "                                                                          StandardScaler(),\n",
       "                                                                          ['age',\n",
       "                                                                           'balance',\n",
       "                                                                           'day',\n",
       "                                                                           'duration',\n",
       "                                                                           'campaign',\n",
       "                                                                           'pdays',\n",
       "                                                                           'previous']),\n",
       "                                                                         ('cat',\n",
       "                                                                          OneHotEncoder(handle_unknown='ignore'),\n",
       "                                                                          ['job',\n",
       "                                                                           'marital',\n",
       "                                                                           'education',\n",
       "                                                                           'default',\n",
       "                                                                           'housing',\n",
       "                                                                           'loan',\n",
       "                                                                           'contact',\n",
       "                                                                           'month',\n",
       "                                                                           'poutcome'])])),\n",
       "                                        ('model',\n",
       "                                         RandomForestClassifier...\n",
       "              search_spaces={'model__class_weight': Categorical(categories=('balanced', 'balanced_subsample'), prior=None),\n",
       "                             'model__criterion': Categorical(categories=('gini', 'entropy'), prior=None),\n",
       "                             'model__min_samples_split': Real(low=0, high=0.5, prior='truncnorm', transform='normalize'),\n",
       "                             'model__n_estimators': Integer(low=5, high=200, prior='uniform', transform='normalize')},\n",
       "              verbose=2)"
      ]
     },
     "execution_count": 113,
     "metadata": {},
     "output_type": "execute_result"
    }
   ],
   "source": [
    "# Initiate the BORF Class\n",
    "clf = BayesSearchCV(pipe, hyperparameter_space,\n",
    "                    n_iter=50,\n",
    "                    optimizer_kwargs={\"base_estimator\":\"RF\",\n",
    "                                      \"n_initial_points\":10,\n",
    "                                      \"initial_point_generator\":\"random\",\n",
    "                                      \"acq_func\":\"LCB\",\n",
    "                                      \"acq_optimizer\":\"auto\",\n",
    "                                      \"n_jobs\":-1,\n",
    "                                      \"random_state\":0,\n",
    "                                      \"acq_func_kwargs\": {\"kappa\":1.96}\n",
    "                                     },\n",
    "                    random_state = 0,\n",
    "                    scoring = 'f1', cv=5, \n",
    "                    n_jobs=-1, refit = True,\n",
    "                    verbose=2)\n",
    "\n",
    "# Run the BORF CV\n",
    "clf.fit(X_train_full, y_train)"
   ]
  },
  {
   "cell_type": "code",
   "execution_count": 114,
   "id": "ecebd141-f158-4849-8adc-2d2d4b91df96",
   "metadata": {},
   "outputs": [
    {
     "data": {
      "text/plain": [
       "(OrderedDict([('model__class_weight', 'balanced_subsample'),\n",
       "              ('model__criterion', 'gini'),\n",
       "              ('model__min_samples_split', 0.00043534042560206855),\n",
       "              ('model__n_estimators', 85)]),\n",
       " 0.6159818376646041)"
      ]
     },
     "execution_count": 114,
     "metadata": {},
     "output_type": "execute_result"
    }
   ],
   "source": [
    "clf.best_params_,clf.best_score_"
   ]
  },
  {
   "cell_type": "code",
   "execution_count": 115,
   "id": "b7ecdc67-c372-4eba-990e-9ef6276de5ea",
   "metadata": {},
   "outputs": [
    {
     "data": {
      "text/plain": [
       "0.6171875"
      ]
     },
     "execution_count": 115,
     "metadata": {},
     "output_type": "execute_result"
    }
   ],
   "source": [
    "clf.score(X_test_full,y_test)"
   ]
  },
  {
   "cell_type": "markdown",
   "id": "0d4dd5ff-f318-4643-b5bc-eade2a441194",
   "metadata": {
    "tags": []
   },
   "source": [
    "## BOGBRT"
   ]
  },
  {
   "cell_type": "markdown",
   "id": "2a20ccce-1e7c-48a0-9811-17e7a5117b31",
   "metadata": {},
   "source": [
    "Perform Bayesian Optimization Gradient Boosted Trees"
   ]
  },
  {
   "cell_type": "code",
   "execution_count": 116,
   "id": "a261634c-7f30-40d4-bec9-96d962258d58",
   "metadata": {},
   "outputs": [
    {
     "name": "stdout",
     "output_type": "stream",
     "text": [
      "Fitting 5 folds for each of 1 candidates, totalling 5 fits\n",
      "Fitting 5 folds for each of 1 candidates, totalling 5 fits\n",
      "Fitting 5 folds for each of 1 candidates, totalling 5 fits\n",
      "Fitting 5 folds for each of 1 candidates, totalling 5 fits\n",
      "Fitting 5 folds for each of 1 candidates, totalling 5 fits\n",
      "Fitting 5 folds for each of 1 candidates, totalling 5 fits\n",
      "Fitting 5 folds for each of 1 candidates, totalling 5 fits\n",
      "Fitting 5 folds for each of 1 candidates, totalling 5 fits\n",
      "Fitting 5 folds for each of 1 candidates, totalling 5 fits\n",
      "Fitting 5 folds for each of 1 candidates, totalling 5 fits\n",
      "Fitting 5 folds for each of 1 candidates, totalling 5 fits\n",
      "Fitting 5 folds for each of 1 candidates, totalling 5 fits\n",
      "Fitting 5 folds for each of 1 candidates, totalling 5 fits\n",
      "Fitting 5 folds for each of 1 candidates, totalling 5 fits\n",
      "Fitting 5 folds for each of 1 candidates, totalling 5 fits\n",
      "Fitting 5 folds for each of 1 candidates, totalling 5 fits\n",
      "Fitting 5 folds for each of 1 candidates, totalling 5 fits\n",
      "Fitting 5 folds for each of 1 candidates, totalling 5 fits\n",
      "Fitting 5 folds for each of 1 candidates, totalling 5 fits\n",
      "Fitting 5 folds for each of 1 candidates, totalling 5 fits\n",
      "Fitting 5 folds for each of 1 candidates, totalling 5 fits\n",
      "Fitting 5 folds for each of 1 candidates, totalling 5 fits\n",
      "Fitting 5 folds for each of 1 candidates, totalling 5 fits\n",
      "Fitting 5 folds for each of 1 candidates, totalling 5 fits\n",
      "Fitting 5 folds for each of 1 candidates, totalling 5 fits\n",
      "Fitting 5 folds for each of 1 candidates, totalling 5 fits\n",
      "Fitting 5 folds for each of 1 candidates, totalling 5 fits\n",
      "Fitting 5 folds for each of 1 candidates, totalling 5 fits\n",
      "Fitting 5 folds for each of 1 candidates, totalling 5 fits\n",
      "Fitting 5 folds for each of 1 candidates, totalling 5 fits\n",
      "Fitting 5 folds for each of 1 candidates, totalling 5 fits\n",
      "Fitting 5 folds for each of 1 candidates, totalling 5 fits\n",
      "Fitting 5 folds for each of 1 candidates, totalling 5 fits\n",
      "Fitting 5 folds for each of 1 candidates, totalling 5 fits\n",
      "Fitting 5 folds for each of 1 candidates, totalling 5 fits\n",
      "Fitting 5 folds for each of 1 candidates, totalling 5 fits\n",
      "Fitting 5 folds for each of 1 candidates, totalling 5 fits\n",
      "Fitting 5 folds for each of 1 candidates, totalling 5 fits\n",
      "Fitting 5 folds for each of 1 candidates, totalling 5 fits\n",
      "Fitting 5 folds for each of 1 candidates, totalling 5 fits\n",
      "Fitting 5 folds for each of 1 candidates, totalling 5 fits\n",
      "Fitting 5 folds for each of 1 candidates, totalling 5 fits\n",
      "Fitting 5 folds for each of 1 candidates, totalling 5 fits\n",
      "Fitting 5 folds for each of 1 candidates, totalling 5 fits\n",
      "Fitting 5 folds for each of 1 candidates, totalling 5 fits\n",
      "Fitting 5 folds for each of 1 candidates, totalling 5 fits\n",
      "Fitting 5 folds for each of 1 candidates, totalling 5 fits\n",
      "Fitting 5 folds for each of 1 candidates, totalling 5 fits\n",
      "Fitting 5 folds for each of 1 candidates, totalling 5 fits\n",
      "Fitting 5 folds for each of 1 candidates, totalling 5 fits\n"
     ]
    },
    {
     "data": {
      "text/plain": [
       "BayesSearchCV(cv=5,\n",
       "              estimator=Pipeline(steps=[('preprocessor',\n",
       "                                         ColumnTransformer(transformers=[('num',\n",
       "                                                                          StandardScaler(),\n",
       "                                                                          ['age',\n",
       "                                                                           'balance',\n",
       "                                                                           'day',\n",
       "                                                                           'duration',\n",
       "                                                                           'campaign',\n",
       "                                                                           'pdays',\n",
       "                                                                           'previous']),\n",
       "                                                                         ('cat',\n",
       "                                                                          OneHotEncoder(handle_unknown='ignore'),\n",
       "                                                                          ['job',\n",
       "                                                                           'marital',\n",
       "                                                                           'education',\n",
       "                                                                           'default',\n",
       "                                                                           'housing',\n",
       "                                                                           'loan',\n",
       "                                                                           'contact',\n",
       "                                                                           'month',\n",
       "                                                                           'poutcome'])])),\n",
       "                                        ('model',\n",
       "                                         RandomForestClassifier...\n",
       "              search_spaces={'model__class_weight': Categorical(categories=('balanced', 'balanced_subsample'), prior=None),\n",
       "                             'model__criterion': Categorical(categories=('gini', 'entropy'), prior=None),\n",
       "                             'model__min_samples_split': Real(low=0, high=0.5, prior='truncnorm', transform='normalize'),\n",
       "                             'model__n_estimators': Integer(low=5, high=200, prior='uniform', transform='normalize')},\n",
       "              verbose=2)"
      ]
     },
     "execution_count": 116,
     "metadata": {},
     "output_type": "execute_result"
    }
   ],
   "source": [
    "# Initiate the BOGBRT Class\n",
    "clf = BayesSearchCV(pipe, hyperparameter_space,\n",
    "                    n_iter=50,\n",
    "                    optimizer_kwargs={\"base_estimator\":\"GBRT\",\n",
    "                                      \"n_initial_points\":10,\n",
    "                                      \"initial_point_generator\":\"random\",\n",
    "                                      \"acq_func\":\"LCB\",\n",
    "                                      \"acq_optimizer\":\"auto\",\n",
    "                                      \"n_jobs\":-1,\n",
    "                                      \"random_state\":0,\n",
    "                                      \"acq_func_kwargs\": {\"kappa\":1.96}\n",
    "                                     },\n",
    "                    random_state = 0,\n",
    "                    scoring = 'f1', cv=5, \n",
    "                    n_jobs=-1, refit = True,\n",
    "                    verbose=2)\n",
    "\n",
    "# Run the BOGBRT CV\n",
    "clf.fit(X_train_full, y_train)"
   ]
  },
  {
   "cell_type": "code",
   "execution_count": 117,
   "id": "75c90544-8d92-4ada-bd35-073526a5d63b",
   "metadata": {},
   "outputs": [
    {
     "data": {
      "text/plain": [
       "(OrderedDict([('model__class_weight', 'balanced_subsample'),\n",
       "              ('model__criterion', 'gini'),\n",
       "              ('model__min_samples_split', 0.0005745541104096049),\n",
       "              ('model__n_estimators', 143)]),\n",
       " 0.6175018084891714)"
      ]
     },
     "execution_count": 117,
     "metadata": {},
     "output_type": "execute_result"
    }
   ],
   "source": [
    "clf.best_params_,clf.best_score_"
   ]
  },
  {
   "cell_type": "code",
   "execution_count": 118,
   "id": "85206f47-6d3a-4850-8678-a8e6d4388c5a",
   "metadata": {},
   "outputs": [
    {
     "data": {
      "text/plain": [
       "0.6109467455621302"
      ]
     },
     "execution_count": 118,
     "metadata": {},
     "output_type": "execute_result"
    }
   ],
   "source": [
    "clf.score(X_test_full,y_test)"
   ]
  },
  {
   "cell_type": "code",
   "execution_count": null,
   "id": "9edef9fb-2c88-41a8-975e-d1c1ba7ff469",
   "metadata": {},
   "outputs": [],
   "source": []
  }
 ],
 "metadata": {
  "kernelspec": {
   "display_name": "Python 3",
   "language": "python",
   "name": "python3"
  },
  "language_info": {
   "codemirror_mode": {
    "name": "ipython",
    "version": 3
   },
   "file_extension": ".py",
   "mimetype": "text/x-python",
   "name": "python",
   "nbconvert_exporter": "python",
   "pygments_lexer": "ipython3",
   "version": "3.7.10"
  }
 },
 "nbformat": 4,
 "nbformat_minor": 5
}
