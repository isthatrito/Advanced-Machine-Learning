{
 "cells": [
  {
   "cell_type": "code",
   "execution_count": null,
   "id": "412d72c3-b51a-43aa-8259-45061e408ec0",
   "metadata": {},
   "outputs": [],
   "source": [
    "# !pip install pandas==1.3.4\n",
    "# !pip install numpy==1.21.2\n",
    "# !pip install matplotlib==3.5.0\n",
    "# !pip install scikit-learn==1.0.1\n",
    "# !pip install tensorflow==2.4.1\n",
    "# !pip install optuna==2.10.0"
   ]
  },
  {
   "cell_type": "markdown",
   "id": "fadd7d26-738c-446d-bb4e-db3108a886e4",
   "metadata": {},
   "source": [
    "# Init"
   ]
  },
  {
   "cell_type": "code",
   "execution_count": 1,
   "id": "45b0ec9d-29c9-4580-a03d-47acbd7c3b50",
   "metadata": {},
   "outputs": [],
   "source": [
    "import pandas as pd\n",
    "import numpy as np\n",
    "from sklearn.preprocessing import StandardScaler, OneHotEncoder\n",
    "from sklearn.model_selection import train_test_split\n",
    "from sklearn.metrics import f1_score\n",
    "\n",
    "import tensorflow as tf\n",
    "from tensorflow.keras.models import Sequential  \n",
    "from tensorflow.keras.layers import Dense, Dropout \n",
    "from tensorflow.keras import backend as K\n",
    "\n",
    "import optuna"
   ]
  },
  {
   "cell_type": "code",
   "execution_count": 2,
   "id": "f536431f-4976-4a6e-ace1-9e6f540fb815",
   "metadata": {},
   "outputs": [],
   "source": [
    "import warnings\n",
    "warnings.filterwarnings(\"ignore\")"
   ]
  },
  {
   "cell_type": "markdown",
   "id": "114a1302-8130-4fd0-961a-b2b020da10d3",
   "metadata": {},
   "source": [
    "# Function Definition"
   ]
  },
  {
   "cell_type": "markdown",
   "id": "3f1d9996-c465-4378-92e4-d3f30418b3bc",
   "metadata": {},
   "source": [
    "Create model architecture function"
   ]
  },
  {
   "cell_type": "code",
   "execution_count": 3,
   "id": "a380dd68-0067-4568-8613-67c19e60666c",
   "metadata": {},
   "outputs": [],
   "source": [
    "def create_model(trial: optuna.trial.Trial, input_size: int): \n",
    "    model = Sequential()\n",
    "    model.add(Dense(input_size,input_shape=(input_size,),activation='relu')) \n",
    "\n",
    "    num_layers = trial.suggest_int('num_layers',low=0,high=3)  \n",
    "    for layer_i in range(num_layers):  \n",
    "        n_units = trial.suggest_int(f'n_units_layer_{layer_i}',low=10,high=50,step=5)  \n",
    "        dropout_rate = trial.suggest_float(f'dropout_rate_layer_{layer_i}',low=0,high=0.5)  \n",
    "        actv_func = trial.suggest_categorical(f'actv_func_layer_{layer_i}',['relu','tanh','elu'])  \n",
    "\n",
    "        model.add(Dropout(dropout_rate))  \n",
    "        model.add(Dense(n_units,activation=actv_func)) \n",
    "\n",
    "    model.add(Dense(1,activation='sigmoid')) \n",
    "    return model "
   ]
  },
  {
   "cell_type": "markdown",
   "id": "b428ae1b-8939-4cb9-bdc9-74bf75022d27",
   "metadata": {},
   "source": [
    "Create optimizers function"
   ]
  },
  {
   "cell_type": "code",
   "execution_count": 4,
   "id": "bd94274e-87a8-43bd-8b2a-0df892b28b6d",
   "metadata": {},
   "outputs": [],
   "source": [
    "def create_optimizer(trial: optuna.trial.Trial): \n",
    "\topt_kwargs = {} \n",
    "\topt_selected = trial.suggest_categorical('optimizer', ['Adam','SGD']) \n",
    "\tif opt_selected == 'SGD': \n",
    "\t\topt_kwargs['lr'] = trial.suggest_float('sgd_lr',1e-5,1e-1,log=True) \n",
    "\t\topt_kwargs['momentum'] = trial.suggest_float('sgd_momentum',1e-5,1e-1,log=True) \n",
    "\telse: #’Adam’ \n",
    "\t\topt_kwargs['lr'] = trial.suggest_float('adam_lr',1e-5,1e-1,log=True) \n",
    "\n",
    "\toptimizer = getattr(tf.optimizers,opt_selected)(**opt_kwargs) \n",
    "\treturn optimizer"
   ]
  },
  {
   "cell_type": "markdown",
   "id": "bab96f18-3e34-4359-b803-916da6c4504a",
   "metadata": {},
   "source": [
    "Create custom metric"
   ]
  },
  {
   "cell_type": "code",
   "execution_count": 5,
   "id": "2cf4cad9-d46b-49cc-af30-f1992384735e",
   "metadata": {},
   "outputs": [],
   "source": [
    "def recall_m(y_true, y_pred):\n",
    "    true_positives = K.sum(K.round(K.clip(y_true * y_pred, 0, 1)))\n",
    "    possible_positives = K.sum(K.round(K.clip(y_true, 0, 1)))\n",
    "    recall = true_positives / (possible_positives + K.epsilon())\n",
    "    return recall\n",
    "\n",
    "def precision_m(y_true, y_pred):\n",
    "    true_positives = K.sum(K.round(K.clip(y_true * y_pred, 0, 1)))\n",
    "    predicted_positives = K.sum(K.round(K.clip(y_pred, 0, 1)))\n",
    "    precision = true_positives / (predicted_positives + K.epsilon())\n",
    "    return precision\n",
    "\n",
    "def f1_m(y_true, y_pred):\n",
    "    precision = precision_m(y_true, y_pred)\n",
    "    recall = recall_m(y_true, y_pred)\n",
    "    return 2*((precision*recall)/(precision+recall+K.epsilon()))"
   ]
  },
  {
   "cell_type": "markdown",
   "id": "efeef76c-3f78-4c5a-ad2b-3b1c75678b16",
   "metadata": {},
   "source": [
    "Create the preprocessing function"
   ]
  },
  {
   "cell_type": "code",
   "execution_count": 6,
   "id": "4c479865-395c-446f-b93d-370d1463c397",
   "metadata": {},
   "outputs": [],
   "source": [
    "def preprocessing(X: pd.DataFrame, \n",
    "                  numeric_preprocessor, categorical_preprocessor,\n",
    "                  is_train = True\n",
    "                 ):\n",
    "    if is_train:\n",
    "        X[numerical_feats] = numeric_preprocessor.fit_transform(X[numerical_feats])\n",
    "        X_cat = categorical_preprocessor.fit_transform(X[categorical_feats]).toarray()\n",
    "        X_cat = pd.DataFrame(X_cat,columns=categorical_preprocessor.get_feature_names_out())\n",
    "        X = X.drop(columns=categorical_feats).reset_index(drop=True)\n",
    "        X = pd.concat([X,X_cat],axis=1)\n",
    "    else:\n",
    "        X[numerical_feats] = numeric_preprocessor.transform(X[numerical_feats])\n",
    "        X_cat = categorical_preprocessor.transform(X[categorical_feats]).toarray()\n",
    "        X_cat = pd.DataFrame(X_cat,columns=categorical_preprocessor.get_feature_names_out())\n",
    "        X = X.drop(columns=categorical_feats).reset_index(drop=True)\n",
    "        X = pd.concat([X,X_cat],axis=1)\n",
    "    \n",
    "    return X, numeric_preprocessor, categorical_preprocessor"
   ]
  },
  {
   "cell_type": "markdown",
   "id": "ff1a6208-eaee-4a03-840d-614d9bbd2d19",
   "metadata": {},
   "source": [
    "Create the train function"
   ]
  },
  {
   "cell_type": "code",
   "execution_count": 7,
   "id": "05e42000-cc6b-434b-a7b3-cdc5a70e2909",
   "metadata": {},
   "outputs": [],
   "source": [
    "def train(trial, df_train: pd.DataFrame, df_val: pd.DataFrame = None, use_pruner: bool = False):\n",
    "    X_train,y_train = df_train.drop(columns=['y']), df_train['y']\n",
    "    \n",
    "    if df_val is not None:\n",
    "        X_val,y_val = df_val.drop(columns=['y']), df_val['y'] \n",
    "\n",
    "    #Preprocessing\n",
    "    numeric_preprocessor = StandardScaler()\n",
    "    categorical_preprocessor = OneHotEncoder(handle_unknown=\"ignore\")\n",
    "    \n",
    "    X_train,numeric_preprocessor,categorical_preprocessor = preprocessing(X_train,\n",
    "                                                                          numeric_preprocessor,\n",
    "                                                                          categorical_preprocessor,\n",
    "                                                                          is_train=True)\n",
    "    if df_val is not None:\n",
    "        X_val,_,_ = preprocessing(X_val,\n",
    "                                  numeric_preprocessor,categorical_preprocessor,\n",
    "                                  is_train=False)\n",
    "\n",
    "    #Build model & optimizer\n",
    "    model = create_model(trial,X_train.shape[1])\n",
    "    optimizer = create_optimizer(trial)\n",
    "    \n",
    "    callbacks = []\n",
    "    if use_pruner:\n",
    "        callbacks.append(optuna.integration.TFKerasPruningCallback(trial,'val_f1_m'))\n",
    "\n",
    "    model.compile(loss='binary_crossentropy',optimizer=optimizer,\n",
    "                  metrics=[f1_m],\n",
    "                 )\n",
    "    history = model.fit(X_train,y_train,\n",
    "                        epochs=trial.suggest_int('epoch',15,50),\n",
    "                        batch_size=64,\n",
    "                        validation_data=(X_val,y_val) if df_val is not None else None,\n",
    "                        callbacks=callbacks,\n",
    "                        verbose=False\n",
    "                       )\n",
    "    if df_val is not None:\n",
    "        return np.mean(history.history['val_f1_m'])\n",
    "    else:\n",
    "        return model"
   ]
  },
  {
   "cell_type": "markdown",
   "id": "91ba8700-cb14-4ade-8c27-b478591478dd",
   "metadata": {},
   "source": [
    "Create the objective function"
   ]
  },
  {
   "cell_type": "code",
   "execution_count": 8,
   "id": "05252482-0f1e-4123-b146-159865d50716",
   "metadata": {},
   "outputs": [],
   "source": [
    "def objective(trial: optuna.trial.Trial, df_train: pd.DataFrame, use_pruner: bool = False): \n",
    "    #Split into Train and Validation data\n",
    "    df_train_hp, df_val = train_test_split(df_train, test_size=0.1, random_state=0)\n",
    "    \n",
    "    # Train and Validate Model\n",
    "    val_f1_score = train(trial, df_train_hp, df_val, use_pruner)\n",
    "        \n",
    "    return val_f1_score"
   ]
  },
  {
   "cell_type": "markdown",
   "id": "dc4bce0d-06de-4651-9d30-2ecdee79b4e6",
   "metadata": {},
   "source": [
    "Create the final train and evaluation function to test the best set of hyperparmeters"
   ]
  },
  {
   "cell_type": "code",
   "execution_count": 9,
   "id": "7e5d4a27-c54c-4df2-933f-2088c4a5896e",
   "metadata": {},
   "outputs": [],
   "source": [
    "def train_and_evaluate_final(df_train: pd.DataFrame, df_test: pd.DataFrame, **kwargs):\n",
    "    X_train,y_train = df_train.drop(columns=['y']), df_train['y']\n",
    "    X_test,y_test = df_test.drop(columns=['y']), df_test['y'] \n",
    "    \n",
    "    # Preprocessing\n",
    "    numeric_preprocessor = StandardScaler()\n",
    "    categorical_preprocessor = OneHotEncoder(handle_unknown=\"ignore\")\n",
    "    X_train,numeric_preprocessor,categorical_preprocessor = preprocessing(X_train,\n",
    "                                                                          numeric_preprocessor,\n",
    "                                                                          categorical_preprocessor,\n",
    "                                                                          is_train=True)\n",
    "    X_test,_,_ = preprocessing(X_test,numeric_preprocessor,categorical_preprocessor,\n",
    "                              is_train=False)\n",
    "\n",
    "    #Build model\n",
    "    input_size = X_train.shape[1]\n",
    "    model = Sequential()\n",
    "    model.add(Dense(input_size,input_shape=(input_size,),activation='relu')) \n",
    "\n",
    "    num_layers = kwargs.get('num_layers',0)  \n",
    "    for layer_i in range(num_layers):  \n",
    "        n_units = kwargs.get(f'n_units_layer_{layer_i}',0)  \n",
    "        dropout_rate = kwargs.get(f'dropout_rate_layer_{layer_i}',0)  \n",
    "        actv_func = kwargs.get(f'actv_func_layer_{layer_i}','relu')  \n",
    "\n",
    "        model.add(Dropout(dropout_rate))  \n",
    "        model.add(Dense(n_units,activation=actv_func)) \n",
    "\n",
    "    model.add(Dense(1,activation='sigmoid'))\n",
    "    \n",
    "    #Build Optimizer\n",
    "    opt_kwargs = {} \n",
    "    opt_selected = kwargs.get('optimizer', 'Adam')\n",
    "    if opt_selected == 'SGD': \n",
    "        opt_kwargs['lr'] = kwargs.get('sgd_lr',1e-5) \n",
    "        opt_kwargs['momentum'] = kwargs.get('sgd_momentum',1e-5) \n",
    "    else: #’Adam’ \n",
    "        opt_kwargs['lr'] = kwargs.get('adam_lr',1e-5) \n",
    "\n",
    "    optimizer = getattr(tf.optimizers,opt_selected)(**opt_kwargs) \n",
    "    \n",
    "    #Training process\n",
    "    model.compile(loss='binary_crossentropy',optimizer=optimizer,\n",
    "                  metrics=[f1_m],\n",
    "                 )\n",
    "    print(model.summary())\n",
    "    history = model.fit(X_train,y_train,\n",
    "                        epochs=kwargs.get('epoch',15),\n",
    "                        batch_size=64,\n",
    "                        validation_data=None,\n",
    "                        verbose=True\n",
    "                       )\n",
    "    \n",
    "    # Evaluation Process\n",
    "    y_test_pred_probas = model.predict(X_test)\n",
    "    y_test_pred = [1 if x[0]>0.5 else 0 for x in y_test_pred_probas]\n",
    "    \n",
    "    print(\"=\"*100)\n",
    "    print(\"F1-Score on Test Data: \",f1_score(y_test, y_test_pred))"
   ]
  },
  {
   "cell_type": "markdown",
   "id": "0a2cd375-59c7-4e57-8373-01cc655d73e2",
   "metadata": {},
   "source": [
    "# TPE"
   ]
  },
  {
   "cell_type": "code",
   "execution_count": 10,
   "id": "2c43fa62-8421-4c9b-a150-5ebd8c647852",
   "metadata": {
    "tags": []
   },
   "outputs": [
    {
     "name": "stdout",
     "output_type": "stream",
     "text": [
      "<class 'pandas.core.frame.DataFrame'>\n",
      "RangeIndex: 45211 entries, 0 to 45210\n",
      "Data columns (total 17 columns):\n",
      " #   Column     Non-Null Count  Dtype \n",
      "---  ------     --------------  ----- \n",
      " 0   age        45211 non-null  int64 \n",
      " 1   job        45211 non-null  object\n",
      " 2   marital    45211 non-null  object\n",
      " 3   education  45211 non-null  object\n",
      " 4   default    45211 non-null  object\n",
      " 5   balance    45211 non-null  int64 \n",
      " 6   housing    45211 non-null  object\n",
      " 7   loan       45211 non-null  object\n",
      " 8   contact    45211 non-null  object\n",
      " 9   day        45211 non-null  int64 \n",
      " 10  month      45211 non-null  object\n",
      " 11  duration   45211 non-null  int64 \n",
      " 12  campaign   45211 non-null  int64 \n",
      " 13  pdays      45211 non-null  int64 \n",
      " 14  previous   45211 non-null  int64 \n",
      " 15  poutcome   45211 non-null  object\n",
      " 16  y          45211 non-null  object\n",
      "dtypes: int64(7), object(10)\n",
      "memory usage: 5.9+ MB\n"
     ]
    }
   ],
   "source": [
    "df = pd.read_csv(\"train.csv\",sep=\";\")\n",
    "df.info()"
   ]
  },
  {
   "cell_type": "markdown",
   "id": "83e415d6-c541-4f9e-b643-2e60d02657ac",
   "metadata": {},
   "source": [
    "Convert the target variable to integer"
   ]
  },
  {
   "cell_type": "code",
   "execution_count": 11,
   "id": "0afdeeef-f4b3-4bc5-80fd-2d11add858fa",
   "metadata": {},
   "outputs": [],
   "source": [
    "df['y'] = df['y'].map({'yes':1,'no':0})"
   ]
  },
  {
   "cell_type": "markdown",
   "id": "5f026f11-d8af-4f0c-8853-cceacf737833",
   "metadata": {},
   "source": [
    "Split full data into train and test data"
   ]
  },
  {
   "cell_type": "code",
   "execution_count": 12,
   "id": "97b9b4cd",
   "metadata": {},
   "outputs": [],
   "source": [
    "df_train, df_test = train_test_split(df, test_size=0.1, random_state=0) "
   ]
  },
  {
   "cell_type": "markdown",
   "id": "32776ecb-7b12-412b-ac33-26b9d3ab8ec6",
   "metadata": {},
   "source": [
    "Get list of numerical features"
   ]
  },
  {
   "cell_type": "code",
   "execution_count": 13,
   "id": "63feddc8-246e-42d2-9109-2e46218e449a",
   "metadata": {},
   "outputs": [],
   "source": [
    "numerical_feats = list(df_train.drop(columns='y').select_dtypes(include=np.number).columns)"
   ]
  },
  {
   "cell_type": "markdown",
   "id": "8cc75ced-1c4f-410f-958a-615ebf6338c8",
   "metadata": {},
   "source": [
    "Get list of categorical features"
   ]
  },
  {
   "cell_type": "code",
   "execution_count": 14,
   "id": "7826635f-6339-477b-a818-635879e1a71b",
   "metadata": {},
   "outputs": [],
   "source": [
    "categorical_feats = list(df_train.drop(columns='y').select_dtypes(exclude=np.number).columns)"
   ]
  },
  {
   "cell_type": "markdown",
   "id": "4455c6cc-b90d-4573-a8f7-307df49c1f0b",
   "metadata": {},
   "source": [
    "Perform Hyperparameter Tuning with TPE"
   ]
  },
  {
   "cell_type": "code",
   "execution_count": 15,
   "id": "8986572c-26e3-4728-a6ac-8fcb214bf970",
   "metadata": {},
   "outputs": [
    {
     "name": "stderr",
     "output_type": "stream",
     "text": [
      "\u001b[32m[I 2022-04-20 10:20:20,413]\u001b[0m A new study created in memory with name: no-name-aa8e5236-b2a3-42ef-ad82-cb510e4cefe0\u001b[0m\n",
      "\u001b[32m[I 2022-04-20 10:24:36,844]\u001b[0m Trial 12 finished with value: 0.04922506125534282 and parameters: {'num_layers': 2, 'n_units_layer_0': 20, 'dropout_rate_layer_0': 0.0772495838596658, 'actv_func_layer_0': 'tanh', 'n_units_layer_1': 50, 'dropout_rate_layer_1': 0.04434725249154464, 'actv_func_layer_1': 'relu', 'optimizer': 'SGD', 'sgd_lr': 1.6236443271599312e-05, 'sgd_momentum': 5.369509899402855e-05, 'epoch': 17}. Best is trial 12 with value: 0.04922506125534282.\u001b[0m\n",
      "\u001b[32m[I 2022-04-20 10:24:45,014]\u001b[0m Trial 15 finished with value: 0.06477986092472242 and parameters: {'num_layers': 1, 'n_units_layer_0': 10, 'dropout_rate_layer_0': 0.27879212624167066, 'actv_func_layer_0': 'tanh', 'optimizer': 'Adam', 'adam_lr': 1.0151548489720613e-05, 'epoch': 18}. Best is trial 15 with value: 0.06477986092472242.\u001b[0m\n",
      "\u001b[32m[I 2022-04-20 10:24:51,577]\u001b[0m Trial 8 finished with value: 0.4600588701665401 and parameters: {'num_layers': 0, 'optimizer': 'Adam', 'adam_lr': 0.0001630672258023443, 'epoch': 20}. Best is trial 8 with value: 0.4600588701665401.\u001b[0m\n",
      "\u001b[32m[I 2022-04-20 10:26:51,715]\u001b[0m Trial 1 finished with value: 0.10713110917380878 and parameters: {'num_layers': 0, 'optimizer': 'SGD', 'sgd_lr': 1.5639836817464464e-05, 'sgd_momentum': 0.0010630468477818699, 'epoch': 28}. Best is trial 8 with value: 0.4600588701665401.\u001b[0m\n",
      "\u001b[32m[I 2022-04-20 10:27:16,796]\u001b[0m Trial 13 finished with value: 0.4991346708050481 and parameters: {'num_layers': 3, 'n_units_layer_0': 15, 'dropout_rate_layer_0': 0.06552706912592304, 'actv_func_layer_0': 'relu', 'n_units_layer_1': 30, 'dropout_rate_layer_1': 0.25501770048312405, 'actv_func_layer_1': 'elu', 'n_units_layer_2': 50, 'dropout_rate_layer_2': 0.4063309347007505, 'actv_func_layer_2': 'elu', 'optimizer': 'Adam', 'adam_lr': 0.0015190652464218929, 'epoch': 27}. Best is trial 13 with value: 0.4991346708050481.\u001b[0m\n",
      "\u001b[32m[I 2022-04-20 10:27:18,414]\u001b[0m Trial 5 finished with value: 0.22912026879688105 and parameters: {'num_layers': 0, 'optimizer': 'Adam', 'adam_lr': 1.4301581690369718e-05, 'epoch': 30}. Best is trial 13 with value: 0.4991346708050481.\u001b[0m\n",
      "\u001b[32m[I 2022-04-20 10:27:20,449]\u001b[0m Trial 2 finished with value: 0.5388100496653853 and parameters: {'num_layers': 1, 'n_units_layer_0': 30, 'dropout_rate_layer_0': 0.017433423382149593, 'actv_func_layer_0': 'elu', 'optimizer': 'Adam', 'adam_lr': 0.0036419706167854053, 'epoch': 29}. Best is trial 2 with value: 0.5388100496653853.\u001b[0m\n",
      "\u001b[32m[I 2022-04-20 10:27:21,977]\u001b[0m Trial 4 finished with value: 0.3841035009206583 and parameters: {'num_layers': 0, 'optimizer': 'Adam', 'adam_lr': 5.3398482722041585e-05, 'epoch': 30}. Best is trial 2 with value: 0.5388100496653853.\u001b[0m\n",
      "\u001b[32m[I 2022-04-20 10:27:37,842]\u001b[0m Trial 0 finished with value: 0.16965388757144584 and parameters: {'num_layers': 2, 'n_units_layer_0': 25, 'dropout_rate_layer_0': 0.3956666593770445, 'actv_func_layer_0': 'elu', 'n_units_layer_1': 30, 'dropout_rate_layer_1': 0.021219866650622532, 'actv_func_layer_1': 'tanh', 'optimizer': 'SGD', 'sgd_lr': 0.001103334321817169, 'sgd_momentum': 6.276692049091633e-05, 'epoch': 29}. Best is trial 2 with value: 0.5388100496653853.\u001b[0m\n",
      "\u001b[32m[I 2022-04-20 10:28:18,753]\u001b[0m Trial 7 finished with value: 0.5142348112478372 and parameters: {'num_layers': 3, 'n_units_layer_0': 50, 'dropout_rate_layer_0': 0.24245762145874455, 'actv_func_layer_0': 'tanh', 'n_units_layer_1': 40, 'dropout_rate_layer_1': 0.45713854847930013, 'actv_func_layer_1': 'relu', 'n_units_layer_2': 25, 'dropout_rate_layer_2': 0.295898630529728, 'actv_func_layer_2': 'relu', 'optimizer': 'Adam', 'adam_lr': 0.00010648650657652978, 'epoch': 31}. Best is trial 2 with value: 0.5388100496653853.\u001b[0m\n",
      "\u001b[32m[I 2022-04-20 10:28:27,687]\u001b[0m Trial 6 finished with value: 0.09302179682452012 and parameters: {'num_layers': 1, 'n_units_layer_0': 35, 'dropout_rate_layer_0': 0.4048051503514339, 'actv_func_layer_0': 'elu', 'optimizer': 'SGD', 'sgd_lr': 2.7870868378229186e-05, 'sgd_momentum': 0.02814593729251272, 'epoch': 34}. Best is trial 2 with value: 0.5388100496653853.\u001b[0m\n",
      "\u001b[32m[I 2022-04-20 10:28:30,918]\u001b[0m Trial 3 finished with value: 0.5542156136397159 and parameters: {'num_layers': 2, 'n_units_layer_0': 50, 'dropout_rate_layer_0': 0.22063783381076107, 'actv_func_layer_0': 'relu', 'n_units_layer_1': 35, 'dropout_rate_layer_1': 0.41047539171978636, 'actv_func_layer_1': 'relu', 'optimizer': 'Adam', 'adam_lr': 0.0007889075093323541, 'epoch': 33}. Best is trial 3 with value: 0.5542156136397159.\u001b[0m\n",
      "\u001b[32m[I 2022-04-20 10:29:16,000]\u001b[0m Trial 11 finished with value: 0.4927626581568467 and parameters: {'num_layers': 1, 'n_units_layer_0': 50, 'dropout_rate_layer_0': 0.4455951560407942, 'actv_func_layer_0': 'elu', 'optimizer': 'Adam', 'adam_lr': 0.02330952251728493, 'epoch': 38}. Best is trial 3 with value: 0.5542156136397159.\u001b[0m\n",
      "\u001b[32m[I 2022-04-20 10:29:24,821]\u001b[0m Trial 10 finished with value: 0.32058098026224086 and parameters: {'num_layers': 2, 'n_units_layer_0': 45, 'dropout_rate_layer_0': 0.0695434519722195, 'actv_func_layer_0': 'relu', 'n_units_layer_1': 45, 'dropout_rate_layer_1': 0.49922885329671074, 'actv_func_layer_1': 'elu', 'optimizer': 'Adam', 'adam_lr': 0.029340030128139783, 'epoch': 37}. Best is trial 3 with value: 0.5542156136397159.\u001b[0m\n",
      "\u001b[32m[I 2022-04-20 10:29:45,311]\u001b[0m Trial 18 finished with value: 0.5074794590473175 and parameters: {'num_layers': 0, 'optimizer': 'Adam', 'adam_lr': 0.0006124868207224258, 'epoch': 22}. Best is trial 3 with value: 0.5542156136397159.\u001b[0m\n",
      "\u001b[32m[I 2022-04-20 10:29:52,902]\u001b[0m Trial 17 finished with value: 0.5272517035836759 and parameters: {'num_layers': 0, 'optimizer': 'Adam', 'adam_lr': 0.006579057812257843, 'epoch': 23}. Best is trial 3 with value: 0.5542156136397159.\u001b[0m\n",
      "\u001b[32m[I 2022-04-20 10:30:00,508]\u001b[0m Trial 14 finished with value: 0.5453705832362175 and parameters: {'num_layers': 2, 'n_units_layer_0': 10, 'dropout_rate_layer_0': 0.16734487048556806, 'actv_func_layer_0': 'elu', 'n_units_layer_1': 45, 'dropout_rate_layer_1': 0.3244355320480941, 'actv_func_layer_1': 'elu', 'optimizer': 'Adam', 'adam_lr': 0.0012405431942591164, 'epoch': 40}. Best is trial 3 with value: 0.5542156136397159.\u001b[0m\n",
      "\u001b[32m[I 2022-04-20 10:31:29,875]\u001b[0m Trial 9 finished with value: 0.3257946545372204 and parameters: {'num_layers': 0, 'optimizer': 'SGD', 'sgd_lr': 0.0019790278286299983, 'sgd_momentum': 0.04730270163187558, 'epoch': 49}. Best is trial 3 with value: 0.5542156136397159.\u001b[0m\n",
      "\u001b[32m[I 2022-04-20 10:31:30,474]\u001b[0m Trial 22 finished with value: 0.028150698635727167 and parameters: {'num_layers': 1, 'n_units_layer_0': 15, 'dropout_rate_layer_0': 0.27615665356666574, 'actv_func_layer_0': 'elu', 'optimizer': 'SGD', 'sgd_lr': 1.9639088197321255e-05, 'sgd_momentum': 0.0011139729355960166, 'epoch': 18}. Best is trial 3 with value: 0.5542156136397159.\u001b[0m\n",
      "\u001b[32m[I 2022-04-20 10:32:49,840]\u001b[0m Trial 16 finished with value: 0.4222734918196996 and parameters: {'num_layers': 0, 'optimizer': 'Adam', 'adam_lr': 0.08830493843379973, 'epoch': 36}. Best is trial 3 with value: 0.5542156136397159.\u001b[0m\n",
      "\u001b[32m[I 2022-04-20 10:33:04,511]\u001b[0m Trial 20 finished with value: 0.4912191307544708 and parameters: {'num_layers': 0, 'optimizer': 'SGD', 'sgd_lr': 0.038352155541451945, 'sgd_momentum': 2.4634692193360083e-05, 'epoch': 25}. Best is trial 3 with value: 0.5542156136397159.\u001b[0m\n",
      "\u001b[32m[I 2022-04-20 10:33:48,058]\u001b[0m Trial 24 finished with value: 0.12090888782404363 and parameters: {'num_layers': 3, 'n_units_layer_0': 30, 'dropout_rate_layer_0': 0.4893300063133881, 'actv_func_layer_0': 'elu', 'n_units_layer_1': 15, 'dropout_rate_layer_1': 0.031190678327321975, 'actv_func_layer_1': 'elu', 'n_units_layer_2': 15, 'dropout_rate_layer_2': 0.11803991938802527, 'actv_func_layer_2': 'elu', 'optimizer': 'Adam', 'adam_lr': 0.031106741153084348, 'epoch': 24}. Best is trial 3 with value: 0.5542156136397159.\u001b[0m\n",
      "\u001b[32m[I 2022-04-20 10:34:01,214]\u001b[0m Trial 23 finished with value: 0.0 and parameters: {'num_layers': 3, 'n_units_layer_0': 40, 'dropout_rate_layer_0': 0.19860313166360577, 'actv_func_layer_0': 'tanh', 'n_units_layer_1': 30, 'dropout_rate_layer_1': 0.47461669569070924, 'actv_func_layer_1': 'elu', 'n_units_layer_2': 30, 'dropout_rate_layer_2': 0.49809996015671165, 'actv_func_layer_2': 'relu', 'optimizer': 'SGD', 'sgd_lr': 7.553666742754325e-05, 'sgd_momentum': 7.171678748495474e-05, 'epoch': 26}. Best is trial 3 with value: 0.5542156136397159.\u001b[0m\n",
      "\u001b[32m[I 2022-04-20 10:34:25,535]\u001b[0m Trial 19 finished with value: 0.4446418235499051 and parameters: {'num_layers': 1, 'n_units_layer_0': 20, 'dropout_rate_layer_0': 0.23894905764683627, 'actv_func_layer_0': 'relu', 'optimizer': 'Adam', 'adam_lr': 5.353526349750868e-05, 'epoch': 31}. Best is trial 3 with value: 0.5542156136397159.\u001b[0m\n",
      "\u001b[32m[I 2022-04-20 10:35:26,278]\u001b[0m Trial 21 finished with value: 0.5045775511572438 and parameters: {'num_layers': 2, 'n_units_layer_0': 10, 'dropout_rate_layer_0': 0.37799565393822493, 'actv_func_layer_0': 'tanh', 'n_units_layer_1': 40, 'dropout_rate_layer_1': 0.054786328363290115, 'actv_func_layer_1': 'tanh', 'optimizer': 'SGD', 'sgd_lr': 0.06802579213706261, 'sgd_momentum': 2.864042316063502e-05, 'epoch': 31}. Best is trial 3 with value: 0.5542156136397159.\u001b[0m\n",
      "\u001b[32m[I 2022-04-20 10:40:58,845]\u001b[0m Trial 25 finished with value: 0.5197418914900885 and parameters: {'num_layers': 1, 'n_units_layer_0': 40, 'dropout_rate_layer_0': 0.00039859092339785546, 'actv_func_layer_0': 'elu', 'optimizer': 'SGD', 'sgd_lr': 0.088595710658605, 'sgd_momentum': 0.0323536308433752, 'epoch': 45}. Best is trial 3 with value: 0.5542156136397159.\u001b[0m\n",
      "\u001b[32m[I 2022-04-20 10:41:18,671]\u001b[0m Trial 26 finished with value: 0.1057788896006207 and parameters: {'num_layers': 3, 'n_units_layer_0': 50, 'dropout_rate_layer_0': 0.1832765419115224, 'actv_func_layer_0': 'elu', 'n_units_layer_1': 50, 'dropout_rate_layer_1': 0.48571220051540176, 'actv_func_layer_1': 'relu', 'n_units_layer_2': 15, 'dropout_rate_layer_2': 0.12435942833786115, 'actv_func_layer_2': 'relu', 'optimizer': 'Adam', 'adam_lr': 0.029422366986816245, 'epoch': 43}. Best is trial 3 with value: 0.5542156136397159.\u001b[0m\n",
      "\u001b[32m[I 2022-04-20 10:41:24,350]\u001b[0m Trial 27 finished with value: 0.05440988422681888 and parameters: {'num_layers': 2, 'n_units_layer_0': 40, 'dropout_rate_layer_0': 0.19914829595441264, 'actv_func_layer_0': 'relu', 'n_units_layer_1': 15, 'dropout_rate_layer_1': 0.49157095229380504, 'actv_func_layer_1': 'relu', 'optimizer': 'Adam', 'adam_lr': 0.04994301031078574, 'epoch': 45}. Best is trial 3 with value: 0.5542156136397159.\u001b[0m\n",
      "\u001b[32m[I 2022-04-20 10:42:53,053]\u001b[0m Trial 28 finished with value: 0.556776080901424 and parameters: {'num_layers': 2, 'n_units_layer_0': 35, 'dropout_rate_layer_0': 0.1721778024303739, 'actv_func_layer_0': 'relu', 'n_units_layer_1': 10, 'dropout_rate_layer_1': 0.4728796075440172, 'actv_func_layer_1': 'relu', 'optimizer': 'Adam', 'adam_lr': 0.0031356509449069216, 'epoch': 48}. Best is trial 28 with value: 0.556776080901424.\u001b[0m\n",
      "\u001b[32m[I 2022-04-20 10:43:03,058]\u001b[0m Trial 30 finished with value: 0.5557390451431274 and parameters: {'num_layers': 2, 'n_units_layer_0': 35, 'dropout_rate_layer_0': 0.19251925057298067, 'actv_func_layer_0': 'relu', 'n_units_layer_1': 10, 'dropout_rate_layer_1': 0.3137202789229382, 'actv_func_layer_1': 'relu', 'optimizer': 'Adam', 'adam_lr': 0.003738092420366246, 'epoch': 47}. Best is trial 28 with value: 0.556776080901424.\u001b[0m\n",
      "\u001b[32m[I 2022-04-20 10:43:08,320]\u001b[0m Trial 32 finished with value: 0.5499259155729542 and parameters: {'num_layers': 2, 'n_units_layer_0': 40, 'dropout_rate_layer_0': 0.19356811975238308, 'actv_func_layer_0': 'relu', 'n_units_layer_1': 10, 'dropout_rate_layer_1': 0.33289700264097194, 'actv_func_layer_1': 'elu', 'optimizer': 'Adam', 'adam_lr': 0.0005248564497083591, 'epoch': 46}. Best is trial 28 with value: 0.556776080901424.\u001b[0m\n",
      "\u001b[32m[I 2022-04-20 10:43:11,873]\u001b[0m Trial 29 finished with value: 0.5624667947389641 and parameters: {'num_layers': 2, 'n_units_layer_0': 35, 'dropout_rate_layer_0': 0.18922843861208657, 'actv_func_layer_0': 'relu', 'n_units_layer_1': 10, 'dropout_rate_layer_1': 0.3352320857910133, 'actv_func_layer_1': 'relu', 'optimizer': 'Adam', 'adam_lr': 0.0019289379099954348, 'epoch': 49}. Best is trial 29 with value: 0.5624667947389641.\u001b[0m\n",
      "\u001b[32m[I 2022-04-20 10:43:19,036]\u001b[0m Trial 31 finished with value: 0.561394731203715 and parameters: {'num_layers': 2, 'n_units_layer_0': 35, 'dropout_rate_layer_0': 0.18344368576144027, 'actv_func_layer_0': 'relu', 'n_units_layer_1': 15, 'dropout_rate_layer_1': 0.334041547035127, 'actv_func_layer_1': 'relu', 'optimizer': 'Adam', 'adam_lr': 0.002574913500406771, 'epoch': 48}. Best is trial 29 with value: 0.5624667947389641.\u001b[0m\n",
      "\u001b[32m[I 2022-04-20 10:43:58,681]\u001b[0m Trial 34 finished with value: 0.5540669844909147 and parameters: {'num_layers': 2, 'n_units_layer_0': 35, 'dropout_rate_layer_0': 0.17906817149278792, 'actv_func_layer_0': 'relu', 'n_units_layer_1': 20, 'dropout_rate_layer_1': 0.324121359825222, 'actv_func_layer_1': 'relu', 'optimizer': 'Adam', 'adam_lr': 0.0003390967751069387, 'epoch': 44}. Best is trial 29 with value: 0.5624667947389641.\u001b[0m\n",
      "\u001b[32m[I 2022-04-20 10:44:16,043]\u001b[0m Trial 33 finished with value: 0.5499023600764896 and parameters: {'num_layers': 2, 'n_units_layer_0': 40, 'dropout_rate_layer_0': 0.18791763245872772, 'actv_func_layer_0': 'relu', 'n_units_layer_1': 10, 'dropout_rate_layer_1': 0.3387138948195625, 'actv_func_layer_1': 'elu', 'optimizer': 'Adam', 'adam_lr': 0.0005927532862781286, 'epoch': 46}. Best is trial 29 with value: 0.5624667947389641.\u001b[0m\n",
      "\u001b[32m[I 2022-04-20 10:44:33,415]\u001b[0m Trial 36 finished with value: 0.5548028435025897 and parameters: {'num_layers': 2, 'n_units_layer_0': 35, 'dropout_rate_layer_0': 0.17644611898998866, 'actv_func_layer_0': 'relu', 'n_units_layer_1': 15, 'dropout_rate_layer_1': 0.3224464266401925, 'actv_func_layer_1': 'relu', 'optimizer': 'Adam', 'adam_lr': 0.0014919429073335017, 'epoch': 42}. Best is trial 29 with value: 0.5624667947389641.\u001b[0m\n",
      "\u001b[32m[I 2022-04-20 10:44:38,634]\u001b[0m Trial 35 finished with value: 0.5420021456341411 and parameters: {'num_layers': 2, 'n_units_layer_0': 40, 'dropout_rate_layer_0': 0.18529238913567825, 'actv_func_layer_0': 'relu', 'n_units_layer_1': 10, 'dropout_rate_layer_1': 0.3202431721249719, 'actv_func_layer_1': 'elu', 'optimizer': 'Adam', 'adam_lr': 0.0005503498766899321, 'epoch': 43}. Best is trial 29 with value: 0.5624667947389641.\u001b[0m\n",
      "\u001b[32m[I 2022-04-20 10:45:01,224]\u001b[0m Trial 38 finished with value: 0.5490884897185535 and parameters: {'num_layers': 2, 'n_units_layer_0': 30, 'dropout_rate_layer_0': 0.16689494261111176, 'actv_func_layer_0': 'relu', 'n_units_layer_1': 40, 'dropout_rate_layer_1': 0.31717638638352835, 'actv_func_layer_1': 'relu', 'optimizer': 'Adam', 'adam_lr': 0.0017631186522297799, 'epoch': 41}. Best is trial 29 with value: 0.5624667947389641.\u001b[0m\n",
      "\u001b[32m[I 2022-04-20 10:45:22,071]\u001b[0m Trial 37 finished with value: 0.558569230816581 and parameters: {'num_layers': 2, 'n_units_layer_0': 40, 'dropout_rate_layer_0': 0.16842415429301008, 'actv_func_layer_0': 'relu', 'n_units_layer_1': 35, 'dropout_rate_layer_1': 0.3414725212368122, 'actv_func_layer_1': 'relu', 'optimizer': 'Adam', 'adam_lr': 0.002072555756434678, 'epoch': 44}. Best is trial 29 with value: 0.5624667947389641.\u001b[0m\n",
      "\u001b[32m[I 2022-04-20 10:45:23,371]\u001b[0m Trial 39 finished with value: 0.5439685944999967 and parameters: {'num_layers': 2, 'n_units_layer_0': 35, 'dropout_rate_layer_0': 0.13561675385883354, 'actv_func_layer_0': 'relu', 'n_units_layer_1': 40, 'dropout_rate_layer_1': 0.33455003135138556, 'actv_func_layer_1': 'relu', 'optimizer': 'Adam', 'adam_lr': 0.0018550552309126384, 'epoch': 42}. Best is trial 29 with value: 0.5624667947389641.\u001b[0m\n",
      "\u001b[32m[I 2022-04-20 10:46:17,850]\u001b[0m Trial 40 finished with value: 0.5622926354408264 and parameters: {'num_layers': 2, 'n_units_layer_0': 35, 'dropout_rate_layer_0': 0.14750941433749595, 'actv_func_layer_0': 'relu', 'n_units_layer_1': 20, 'dropout_rate_layer_1': 0.34105033223666426, 'actv_func_layer_1': 'relu', 'optimizer': 'Adam', 'adam_lr': 0.0019530878012833034, 'epoch': 42}. Best is trial 29 with value: 0.5624667947389641.\u001b[0m\n",
      "\u001b[32m[I 2022-04-20 10:48:12,387]\u001b[0m Trial 41 finished with value: 0.5608013889619282 and parameters: {'num_layers': 2, 'n_units_layer_0': 30, 'dropout_rate_layer_0': 0.17922662285276506, 'actv_func_layer_0': 'relu', 'n_units_layer_1': 15, 'dropout_rate_layer_1': 0.3318053651234375, 'actv_func_layer_1': 'relu', 'optimizer': 'Adam', 'adam_lr': 0.0017766582491991344, 'epoch': 42}. Best is trial 29 with value: 0.5624667947389641.\u001b[0m\n",
      "\u001b[32m[I 2022-04-20 10:48:17,137]\u001b[0m Trial 43 finished with value: 0.5484900125643102 and parameters: {'num_layers': 2, 'n_units_layer_0': 30, 'dropout_rate_layer_0': 0.12523070676179546, 'actv_func_layer_0': 'relu', 'n_units_layer_1': 40, 'dropout_rate_layer_1': 0.3497902641019072, 'actv_func_layer_1': 'elu', 'optimizer': 'Adam', 'adam_lr': 0.002231561724685873, 'epoch': 41}. Best is trial 29 with value: 0.5624667947389641.\u001b[0m\n",
      "\u001b[32m[I 2022-04-20 10:48:17,534]\u001b[0m Trial 42 finished with value: 0.5627583599672085 and parameters: {'num_layers': 2, 'n_units_layer_0': 30, 'dropout_rate_layer_0': 0.14068484717257745, 'actv_func_layer_0': 'relu', 'n_units_layer_1': 20, 'dropout_rate_layer_1': 0.34708586671782293, 'actv_func_layer_1': 'relu', 'optimizer': 'Adam', 'adam_lr': 0.0018287924415952158, 'epoch': 41}. Best is trial 42 with value: 0.5627583599672085.\u001b[0m\n",
      "\u001b[32m[I 2022-04-20 10:48:43,032]\u001b[0m Trial 44 finished with value: 0.5377599440515042 and parameters: {'num_layers': 2, 'n_units_layer_0': 35, 'dropout_rate_layer_0': 0.13544920957630424, 'actv_func_layer_0': 'relu', 'n_units_layer_1': 10, 'dropout_rate_layer_1': 0.35525381102540315, 'actv_func_layer_1': 'relu', 'optimizer': 'Adam', 'adam_lr': 0.0006304342968426961, 'epoch': 40}. Best is trial 42 with value: 0.5627583599672085.\u001b[0m\n",
      "\u001b[32m[I 2022-04-20 10:49:05,189]\u001b[0m Trial 45 finished with value: 0.561499122692191 and parameters: {'num_layers': 2, 'n_units_layer_0': 35, 'dropout_rate_layer_0': 0.12683889445320562, 'actv_func_layer_0': 'relu', 'n_units_layer_1': 10, 'dropout_rate_layer_1': 0.3731517020628345, 'actv_func_layer_1': 'relu', 'optimizer': 'Adam', 'adam_lr': 0.005887211594069626, 'epoch': 46}. Best is trial 42 with value: 0.5627583599672085.\u001b[0m\n",
      "\u001b[32m[I 2022-04-20 10:49:11,581]\u001b[0m Trial 46 finished with value: 0.5604940547297398 and parameters: {'num_layers': 2, 'n_units_layer_0': 35, 'dropout_rate_layer_0': 0.1305978625772038, 'actv_func_layer_0': 'relu', 'n_units_layer_1': 10, 'dropout_rate_layer_1': 0.38282308810193505, 'actv_func_layer_1': 'relu', 'optimizer': 'Adam', 'adam_lr': 0.0003731413033355724, 'epoch': 48}. Best is trial 42 with value: 0.5627583599672085.\u001b[0m\n",
      "\u001b[32m[I 2022-04-20 10:49:15,751]\u001b[0m Trial 47 finished with value: 0.5404101145267487 and parameters: {'num_layers': 2, 'n_units_layer_0': 35, 'dropout_rate_layer_0': 0.12756048625363006, 'actv_func_layer_0': 'relu', 'n_units_layer_1': 10, 'dropout_rate_layer_1': 0.3814290959392951, 'actv_func_layer_1': 'relu', 'optimizer': 'Adam', 'adam_lr': 0.005244745393639297, 'epoch': 50}. Best is trial 42 with value: 0.5627583599672085.\u001b[0m\n",
      "\u001b[32m[I 2022-04-20 10:49:16,417]\u001b[0m Trial 48 finished with value: 0.5563989311456681 and parameters: {'num_layers': 2, 'n_units_layer_0': 35, 'dropout_rate_layer_0': 0.1280489070569079, 'actv_func_layer_0': 'relu', 'n_units_layer_1': 10, 'dropout_rate_layer_1': 0.34069019025147285, 'actv_func_layer_1': 'relu', 'optimizer': 'Adam', 'adam_lr': 0.00452124601223878, 'epoch': 50}. Best is trial 42 with value: 0.5627583599672085.\u001b[0m\n",
      "\u001b[32m[I 2022-04-20 10:49:20,937]\u001b[0m Trial 49 finished with value: 0.5427774846553802 and parameters: {'num_layers': 2, 'n_units_layer_0': 35, 'dropout_rate_layer_0': 0.12524492251656502, 'actv_func_layer_0': 'relu', 'n_units_layer_1': 10, 'dropout_rate_layer_1': 0.23635002532598898, 'actv_func_layer_1': 'relu', 'optimizer': 'Adam', 'adam_lr': 0.005157980033175939, 'epoch': 50}. Best is trial 42 with value: 0.5627583599672085.\u001b[0m\n"
     ]
    }
   ],
   "source": [
    "study = optuna.create_study(direction='maximize',\n",
    "                            sampler=optuna.samplers.TPESampler(seed=0),\n",
    "                           )\n",
    "study.optimize(lambda trial: objective(trial, df_train),\n",
    "               n_trials=50, n_jobs=-1,\n",
    "              )"
   ]
  },
  {
   "cell_type": "code",
   "execution_count": 16,
   "id": "d6bad7ec-e61e-4d53-b951-c5277400e7bf",
   "metadata": {},
   "outputs": [
    {
     "name": "stdout",
     "output_type": "stream",
     "text": [
      "Best Trial:\n",
      "    Value:  0.5627583599672085\n",
      "    Hyperparameters: \n",
      "        num_layers: 2\n",
      "        n_units_layer_0: 30\n",
      "        dropout_rate_layer_0: 0.14068484717257745\n",
      "        actv_func_layer_0: relu\n",
      "        n_units_layer_1: 20\n",
      "        dropout_rate_layer_1: 0.34708586671782293\n",
      "        actv_func_layer_1: relu\n",
      "        optimizer: Adam\n",
      "        adam_lr: 0.0018287924415952158\n",
      "        epoch: 41\n"
     ]
    }
   ],
   "source": [
    "print(\"Best Trial:\")\n",
    "best_trial = study.best_trial\n",
    "\n",
    "print(\"    Value: \", best_trial.value)\n",
    "\n",
    "print(\"    Hyperparameters: \")\n",
    "for key, value in best_trial.params.items():\n",
    "    print(f\"        {key}: {value}\")"
   ]
  },
  {
   "cell_type": "code",
   "execution_count": 17,
   "id": "b1996f3a-1331-4a5a-9838-8fb45b824a61",
   "metadata": {},
   "outputs": [
    {
     "data": {
      "text/plain": [
       "{'num_layers': 2,\n",
       " 'n_units_layer_0': 30,\n",
       " 'dropout_rate_layer_0': 0.14068484717257745,\n",
       " 'actv_func_layer_0': 'relu',\n",
       " 'n_units_layer_1': 20,\n",
       " 'dropout_rate_layer_1': 0.34708586671782293,\n",
       " 'actv_func_layer_1': 'relu',\n",
       " 'optimizer': 'Adam',\n",
       " 'adam_lr': 0.0018287924415952158,\n",
       " 'epoch': 41}"
      ]
     },
     "execution_count": 17,
     "metadata": {},
     "output_type": "execute_result"
    }
   ],
   "source": [
    "best_trial.params"
   ]
  },
  {
   "cell_type": "code",
   "execution_count": 18,
   "id": "e141f5e4-fff1-47d4-a5f2-309c61c4b984",
   "metadata": {},
   "outputs": [
    {
     "name": "stdout",
     "output_type": "stream",
     "text": [
      "Model: \"sequential\"\n",
      "_________________________________________________________________\n",
      "Layer (type)                 Output Shape              Param #   \n",
      "=================================================================\n",
      "dense (Dense)                (None, 51)                2652      \n",
      "_________________________________________________________________\n",
      "dropout (Dropout)            (None, 51)                0         \n",
      "_________________________________________________________________\n",
      "dense_1 (Dense)              (None, 30)                1560      \n",
      "_________________________________________________________________\n",
      "dropout_1 (Dropout)          (None, 30)                0         \n",
      "_________________________________________________________________\n",
      "dense_2 (Dense)              (None, 20)                620       \n",
      "_________________________________________________________________\n",
      "dense_3 (Dense)              (None, 1)                 21        \n",
      "=================================================================\n",
      "Total params: 4,853\n",
      "Trainable params: 4,853\n",
      "Non-trainable params: 0\n",
      "_________________________________________________________________\n",
      "None\n",
      "Epoch 1/41\n",
      "636/636 [==============================] - 7s 10ms/step - loss: 0.3137 - f1_m: 0.2418\n",
      "Epoch 2/41\n",
      "636/636 [==============================] - 6s 10ms/step - loss: 0.2258 - f1_m: 0.4819\n",
      "Epoch 3/41\n",
      "636/636 [==============================] - 7s 11ms/step - loss: 0.2172 - f1_m: 0.4989\n",
      "Epoch 4/41\n",
      "636/636 [==============================] - 7s 11ms/step - loss: 0.2094 - f1_m: 0.5004\n",
      "Epoch 5/41\n",
      "636/636 [==============================] - 7s 11ms/step - loss: 0.2068 - f1_m: 0.5421\n",
      "Epoch 6/41\n",
      "636/636 [==============================] - 6s 10ms/step - loss: 0.2020 - f1_m: 0.5438\n",
      "Epoch 7/41\n",
      "636/636 [==============================] - 6s 9ms/step - loss: 0.1961 - f1_m: 0.5614\n",
      "Epoch 8/41\n",
      "636/636 [==============================] - 4s 7ms/step - loss: 0.2001 - f1_m: 0.5774\n",
      "Epoch 9/41\n",
      "636/636 [==============================] - 5s 8ms/step - loss: 0.1955 - f1_m: 0.5782\n",
      "Epoch 10/41\n",
      "636/636 [==============================] - 4s 7ms/step - loss: 0.1929 - f1_m: 0.5821\n",
      "Epoch 11/41\n",
      "636/636 [==============================] - 4s 6ms/step - loss: 0.1963 - f1_m: 0.5747\n",
      "Epoch 12/41\n",
      "636/636 [==============================] - 5s 8ms/step - loss: 0.1939 - f1_m: 0.5759\n",
      "Epoch 13/41\n",
      "636/636 [==============================] - 5s 8ms/step - loss: 0.1913 - f1_m: 0.6099\n",
      "Epoch 14/41\n",
      "636/636 [==============================] - 6s 9ms/step - loss: 0.1905 - f1_m: 0.5902\n",
      "Epoch 15/41\n",
      "636/636 [==============================] - 6s 9ms/step - loss: 0.1901 - f1_m: 0.5886\n",
      "Epoch 16/41\n",
      "636/636 [==============================] - 4s 7ms/step - loss: 0.1918 - f1_m: 0.6165\n",
      "Epoch 17/41\n",
      "636/636 [==============================] - 4s 6ms/step - loss: 0.1873 - f1_m: 0.5954\n",
      "Epoch 18/41\n",
      "636/636 [==============================] - 4s 6ms/step - loss: 0.1838 - f1_m: 0.6002\n",
      "Epoch 19/41\n",
      "636/636 [==============================] - 6s 9ms/step - loss: 0.1854 - f1_m: 0.6114\n",
      "Epoch 20/41\n",
      "636/636 [==============================] - 4s 6ms/step - loss: 0.1871 - f1_m: 0.5947\n",
      "Epoch 21/41\n",
      "636/636 [==============================] - 6s 9ms/step - loss: 0.1843 - f1_m: 0.6033\n",
      "Epoch 22/41\n",
      "636/636 [==============================] - 7s 11ms/step - loss: 0.1895 - f1_m: 0.6026\n",
      "Epoch 23/41\n",
      "636/636 [==============================] - 6s 10ms/step - loss: 0.1839 - f1_m: 0.6068\n",
      "Epoch 24/41\n",
      "636/636 [==============================] - 6s 9ms/step - loss: 0.1799 - f1_m: 0.6234\n",
      "Epoch 25/41\n",
      "636/636 [==============================] - 7s 10ms/step - loss: 0.1812 - f1_m: 0.6163\n",
      "Epoch 26/41\n",
      "636/636 [==============================] - 4s 6ms/step - loss: 0.1853 - f1_m: 0.5938\n",
      "Epoch 27/41\n",
      "636/636 [==============================] - 5s 8ms/step - loss: 0.1816 - f1_m: 0.6139\n",
      "Epoch 28/41\n",
      "636/636 [==============================] - 4s 6ms/step - loss: 0.1824 - f1_m: 0.5959\n",
      "Epoch 29/41\n",
      "636/636 [==============================] - 4s 6ms/step - loss: 0.1789 - f1_m: 0.6277\n",
      "Epoch 30/41\n",
      "636/636 [==============================] - 6s 9ms/step - loss: 0.1801 - f1_m: 0.6214\n",
      "Epoch 31/41\n",
      "636/636 [==============================] - 5s 8ms/step - loss: 0.1828 - f1_m: 0.6245\n",
      "Epoch 32/41\n",
      "636/636 [==============================] - 4s 7ms/step - loss: 0.1791 - f1_m: 0.6236\n",
      "Epoch 33/41\n",
      "636/636 [==============================] - 7s 11ms/step - loss: 0.1779 - f1_m: 0.6411\n",
      "Epoch 34/41\n",
      "636/636 [==============================] - 5s 8ms/step - loss: 0.1795 - f1_m: 0.6314\n",
      "Epoch 35/41\n",
      "636/636 [==============================] - 7s 11ms/step - loss: 0.1787 - f1_m: 0.6237\n",
      "Epoch 36/41\n",
      "636/636 [==============================] - 5s 9ms/step - loss: 0.1793 - f1_m: 0.6283\n",
      "Epoch 37/41\n",
      "636/636 [==============================] - 6s 10ms/step - loss: 0.1776 - f1_m: 0.6244\n",
      "Epoch 38/41\n",
      "636/636 [==============================] - 6s 10ms/step - loss: 0.1752 - f1_m: 0.6337\n",
      "Epoch 39/41\n",
      "636/636 [==============================] - 6s 10ms/step - loss: 0.1773 - f1_m: 0.6261\n",
      "Epoch 40/41\n",
      "636/636 [==============================] - 5s 7ms/step - loss: 0.1730 - f1_m: 0.6506\n",
      "Epoch 41/41\n",
      "636/636 [==============================] - 6s 10ms/step - loss: 0.1794 - f1_m: 0.6220\n",
      "====================================================================================================\n",
      "F1-Score on Test Data:  0.6043737574552683\n"
     ]
    }
   ],
   "source": [
    "train_and_evaluate_final(df_train, df_test, **best_trial.params)"
   ]
  },
  {
   "cell_type": "markdown",
   "id": "67f00640-5ee9-4c93-a63d-f39716745fd8",
   "metadata": {},
   "source": [
    "# Random Search"
   ]
  },
  {
   "cell_type": "code",
   "execution_count": 19,
   "id": "8ac7943b-268d-48f2-a987-88b10a42eafa",
   "metadata": {
    "tags": []
   },
   "outputs": [
    {
     "name": "stdout",
     "output_type": "stream",
     "text": [
      "<class 'pandas.core.frame.DataFrame'>\n",
      "RangeIndex: 45211 entries, 0 to 45210\n",
      "Data columns (total 17 columns):\n",
      " #   Column     Non-Null Count  Dtype \n",
      "---  ------     --------------  ----- \n",
      " 0   age        45211 non-null  int64 \n",
      " 1   job        45211 non-null  object\n",
      " 2   marital    45211 non-null  object\n",
      " 3   education  45211 non-null  object\n",
      " 4   default    45211 non-null  object\n",
      " 5   balance    45211 non-null  int64 \n",
      " 6   housing    45211 non-null  object\n",
      " 7   loan       45211 non-null  object\n",
      " 8   contact    45211 non-null  object\n",
      " 9   day        45211 non-null  int64 \n",
      " 10  month      45211 non-null  object\n",
      " 11  duration   45211 non-null  int64 \n",
      " 12  campaign   45211 non-null  int64 \n",
      " 13  pdays      45211 non-null  int64 \n",
      " 14  previous   45211 non-null  int64 \n",
      " 15  poutcome   45211 non-null  object\n",
      " 16  y          45211 non-null  object\n",
      "dtypes: int64(7), object(10)\n",
      "memory usage: 5.9+ MB\n"
     ]
    }
   ],
   "source": [
    "df = pd.read_csv(\"train.csv\",sep=\";\")\n",
    "df.info()"
   ]
  },
  {
   "cell_type": "markdown",
   "id": "75b65035-1c93-4f69-bfa8-eb750f9395a6",
   "metadata": {},
   "source": [
    "Convert the target variable to integer"
   ]
  },
  {
   "cell_type": "code",
   "execution_count": 20,
   "id": "cf3ef08f-224c-423a-bb25-ac4366f2cf31",
   "metadata": {},
   "outputs": [],
   "source": [
    "df['y'] = df['y'].map({'yes':1,'no':0})"
   ]
  },
  {
   "cell_type": "markdown",
   "id": "92a189d2-73c3-41c1-a9b7-230855d9c964",
   "metadata": {},
   "source": [
    "Split full data into train and test data"
   ]
  },
  {
   "cell_type": "code",
   "execution_count": 21,
   "id": "ad4445f1-aa31-43a5-b046-214dadc782ba",
   "metadata": {},
   "outputs": [],
   "source": [
    "df_train, df_test = train_test_split(df, test_size=0.1, random_state=0) "
   ]
  },
  {
   "cell_type": "markdown",
   "id": "a7128187-462a-4325-a53f-421fd99592b0",
   "metadata": {},
   "source": [
    "Get list of numerical features"
   ]
  },
  {
   "cell_type": "code",
   "execution_count": 22,
   "id": "c6ddeb52-7703-43c6-847f-b2e84b35106e",
   "metadata": {},
   "outputs": [],
   "source": [
    "numerical_feats = list(df_train.drop(columns='y').select_dtypes(include=np.number).columns)"
   ]
  },
  {
   "cell_type": "markdown",
   "id": "f0f890fe-5053-4322-883c-188f236e39c9",
   "metadata": {},
   "source": [
    "Get list of categorical features"
   ]
  },
  {
   "cell_type": "code",
   "execution_count": 23,
   "id": "b04a2934-158e-4d25-b1bf-bcf650341a06",
   "metadata": {},
   "outputs": [],
   "source": [
    "categorical_feats = list(df_train.drop(columns='y').select_dtypes(exclude=np.number).columns)"
   ]
  },
  {
   "cell_type": "markdown",
   "id": "340a9550-cdc1-467b-80a8-b1fdc6596311",
   "metadata": {},
   "source": [
    "Perform Hyperparameter Tuning with Random Search"
   ]
  },
  {
   "cell_type": "code",
   "execution_count": 24,
   "id": "bfb0ec14-b456-4c1a-929a-77891f2d1476",
   "metadata": {},
   "outputs": [
    {
     "name": "stderr",
     "output_type": "stream",
     "text": [
      "\u001b[32m[I 2022-04-20 11:55:00,925]\u001b[0m A new study created in memory with name: no-name-f607aa08-015d-4b74-9305-0136b55ae733\u001b[0m\n"
     ]
    },
    {
     "name": "stdout",
     "output_type": "stream",
     "text": [
      "WARNING:tensorflow:5 out of the last 17 calls to <function Model.make_train_function.<locals>.train_function at 0x7f44f85ea830> triggered tf.function retracing. Tracing is expensive and the excessive number of tracings could be due to (1) creating @tf.function repeatedly in a loop, (2) passing tensors with different shapes, (3) passing Python objects instead of tensors. For (1), please define your @tf.function outside of the loop. For (2), @tf.function has experimental_relax_shapes=True option that relaxes argument shapes that can avoid unnecessary retracing. For (3), please refer to https://www.tensorflow.org/guide/function#controlling_retracing and https://www.tensorflow.org/api_docs/python/tf/function for  more details.\n",
      "WARNING:tensorflow:5 out of the last 64 calls to <function Model.make_test_function.<locals>.test_function at 0x7f4493684b00> triggered tf.function retracing. Tracing is expensive and the excessive number of tracings could be due to (1) creating @tf.function repeatedly in a loop, (2) passing tensors with different shapes, (3) passing Python objects instead of tensors. For (1), please define your @tf.function outside of the loop. For (2), @tf.function has experimental_relax_shapes=True option that relaxes argument shapes that can avoid unnecessary retracing. For (3), please refer to https://www.tensorflow.org/guide/function#controlling_retracing and https://www.tensorflow.org/api_docs/python/tf/function for  more details.\n",
      "WARNING:tensorflow:5 out of the last 12 calls to <function Model.make_test_function.<locals>.test_function at 0x7f448b2d9b90> triggered tf.function retracing. Tracing is expensive and the excessive number of tracings could be due to (1) creating @tf.function repeatedly in a loop, (2) passing tensors with different shapes, (3) passing Python objects instead of tensors. For (1), please define your @tf.function outside of the loop. For (2), @tf.function has experimental_relax_shapes=True option that relaxes argument shapes that can avoid unnecessary retracing. For (3), please refer to https://www.tensorflow.org/guide/function#controlling_retracing and https://www.tensorflow.org/api_docs/python/tf/function for  more details.\n"
     ]
    },
    {
     "name": "stderr",
     "output_type": "stream",
     "text": [
      "\u001b[32m[I 2022-04-20 11:58:39,086]\u001b[0m Trial 0 finished with value: 0.3546561966339747 and parameters: {'num_layers': 0, 'optimizer': 'SGD', 'sgd_lr': 0.007784659100631173, 'sgd_momentum': 0.005869930756080532, 'epoch': 15}. Best is trial 0 with value: 0.3546561966339747.\u001b[0m\n",
      "\u001b[32m[I 2022-04-20 12:00:20,006]\u001b[0m Trial 14 finished with value: 0.013436927814923581 and parameters: {'num_layers': 2, 'n_units_layer_0': 45, 'dropout_rate_layer_0': 0.1669875457623211, 'actv_func_layer_0': 'elu', 'n_units_layer_1': 30, 'dropout_rate_layer_1': 0.028360326323867258, 'actv_func_layer_1': 'relu', 'optimizer': 'SGD', 'sgd_lr': 2.7947921344554796e-05, 'sgd_momentum': 1.0250528538923333e-05, 'epoch': 21}. Best is trial 0 with value: 0.3546561966339747.\u001b[0m\n",
      "\u001b[32m[I 2022-04-20 12:00:35,224]\u001b[0m Trial 12 finished with value: 0.016200784255157818 and parameters: {'num_layers': 2, 'n_units_layer_0': 35, 'dropout_rate_layer_0': 0.0999912463651953, 'actv_func_layer_0': 'relu', 'n_units_layer_1': 30, 'dropout_rate_layer_1': 0.1555670291987548, 'actv_func_layer_1': 'elu', 'optimizer': 'SGD', 'sgd_lr': 2.0781310081188573e-05, 'sgd_momentum': 0.0033212409635318104, 'epoch': 22}. Best is trial 0 with value: 0.3546561966339747.\u001b[0m\n",
      "\u001b[32m[I 2022-04-20 12:00:59,005]\u001b[0m Trial 9 finished with value: 0.07572051463648677 and parameters: {'num_layers': 1, 'n_units_layer_0': 35, 'dropout_rate_layer_0': 0.2059140505812646, 'actv_func_layer_0': 'tanh', 'optimizer': 'SGD', 'sgd_lr': 1.6008780668419642e-05, 'sgd_momentum': 0.0515310708221139, 'epoch': 24}. Best is trial 0 with value: 0.3546561966339747.\u001b[0m\n",
      "\u001b[32m[I 2022-04-20 12:01:07,157]\u001b[0m Trial 8 finished with value: 0.024616827722638845 and parameters: {'num_layers': 2, 'n_units_layer_0': 45, 'dropout_rate_layer_0': 0.34171393406530837, 'actv_func_layer_0': 'tanh', 'n_units_layer_1': 15, 'dropout_rate_layer_1': 0.3802290450667279, 'actv_func_layer_1': 'tanh', 'optimizer': 'SGD', 'sgd_lr': 2.7576394415017456e-05, 'sgd_momentum': 3.796741320677786e-05, 'epoch': 24}. Best is trial 0 with value: 0.3546561966339747.\u001b[0m\n",
      "\u001b[32m[I 2022-04-20 12:01:55,214]\u001b[0m Trial 10 finished with value: 0.0009403263019131762 and parameters: {'num_layers': 2, 'n_units_layer_0': 20, 'dropout_rate_layer_0': 0.4508876712940533, 'actv_func_layer_0': 'elu', 'n_units_layer_1': 45, 'dropout_rate_layer_1': 0.1527397600683738, 'actv_func_layer_1': 'tanh', 'optimizer': 'SGD', 'sgd_lr': 0.000347548735812141, 'sgd_momentum': 2.748272411538337e-05, 'epoch': 28}. Best is trial 0 with value: 0.3546561966339747.\u001b[0m\n",
      "\u001b[32m[I 2022-04-20 12:02:02,803]\u001b[0m Trial 11 finished with value: 0.2776193926561504 and parameters: {'num_layers': 0, 'optimizer': 'SGD', 'sgd_lr': 0.0016550164050850795, 'sgd_momentum': 0.00021147895833321554, 'epoch': 31}. Best is trial 0 with value: 0.3546561966339747.\u001b[0m\n",
      "\u001b[32m[I 2022-04-20 12:02:42,197]\u001b[0m Trial 3 finished with value: 0.5146121196448803 and parameters: {'num_layers': 1, 'n_units_layer_0': 10, 'dropout_rate_layer_0': 0.422278392587122, 'actv_func_layer_0': 'relu', 'optimizer': 'Adam', 'adam_lr': 0.007548198746576018, 'epoch': 32}. Best is trial 3 with value: 0.5146121196448803.\u001b[0m\n",
      "\u001b[32m[I 2022-04-20 12:03:15,496]\u001b[0m Trial 16 finished with value: 0.006575748036127715 and parameters: {'num_layers': 0, 'optimizer': 'SGD', 'sgd_lr': 0.0003536740229479386, 'sgd_momentum': 0.0009025399506179116, 'epoch': 21}. Best is trial 3 with value: 0.5146121196448803.\u001b[0m\n",
      "\u001b[32m[I 2022-04-20 12:03:32,817]\u001b[0m Trial 2 finished with value: 0.03324319886536721 and parameters: {'num_layers': 3, 'n_units_layer_0': 50, 'dropout_rate_layer_0': 0.2596002249730077, 'actv_func_layer_0': 'elu', 'n_units_layer_1': 50, 'dropout_rate_layer_1': 0.026296778100049212, 'actv_func_layer_1': 'tanh', 'n_units_layer_2': 30, 'dropout_rate_layer_2': 0.36106727604767364, 'actv_func_layer_2': 'elu', 'optimizer': 'SGD', 'sgd_lr': 2.1454582567521592e-05, 'sgd_momentum': 0.006629908772823762, 'epoch': 34}. Best is trial 3 with value: 0.5146121196448803.\u001b[0m\n",
      "\u001b[32m[I 2022-04-20 12:03:46,003]\u001b[0m Trial 15 finished with value: 0.45009849303298527 and parameters: {'num_layers': 2, 'n_units_layer_0': 10, 'dropout_rate_layer_0': 0.308518946649108, 'actv_func_layer_0': 'relu', 'n_units_layer_1': 50, 'dropout_rate_layer_1': 0.3370455575274171, 'actv_func_layer_1': 'relu', 'optimizer': 'SGD', 'sgd_lr': 0.05596452614793049, 'sgd_momentum': 0.02087189084064753, 'epoch': 36}. Best is trial 3 with value: 0.5146121196448803.\u001b[0m\n",
      "\u001b[32m[I 2022-04-20 12:04:23,328]\u001b[0m Trial 5 finished with value: 0.5253641333431005 and parameters: {'num_layers': 1, 'n_units_layer_0': 45, 'dropout_rate_layer_0': 0.4163363149346874, 'actv_func_layer_0': 'relu', 'optimizer': 'Adam', 'adam_lr': 0.005975056210635311, 'epoch': 40}. Best is trial 5 with value: 0.5253641333431005.\u001b[0m\n",
      "\u001b[32m[I 2022-04-20 12:04:26,064]\u001b[0m Trial 13 finished with value: 0.4399191737174988 and parameters: {'num_layers': 3, 'n_units_layer_0': 20, 'dropout_rate_layer_0': 0.14780494983985748, 'actv_func_layer_0': 'relu', 'n_units_layer_1': 35, 'dropout_rate_layer_1': 0.20708200793606407, 'actv_func_layer_1': 'elu', 'n_units_layer_2': 35, 'dropout_rate_layer_2': 0.49347500122705695, 'actv_func_layer_2': 'elu', 'optimizer': 'SGD', 'sgd_lr': 0.018544814164854158, 'sgd_momentum': 1.6591576502147857e-05, 'epoch': 38}. Best is trial 5 with value: 0.5253641333431005.\u001b[0m\n",
      "\u001b[32m[I 2022-04-20 12:04:26,383]\u001b[0m Trial 1 finished with value: 0.5316828146576882 and parameters: {'num_layers': 1, 'n_units_layer_0': 15, 'dropout_rate_layer_0': 0.38161974260139087, 'actv_func_layer_0': 'relu', 'optimizer': 'Adam', 'adam_lr': 0.008522132371554764, 'epoch': 40}. Best is trial 1 with value: 0.5316828146576882.\u001b[0m\n",
      "\u001b[32m[I 2022-04-20 12:06:09,800]\u001b[0m Trial 4 finished with value: 0.05530145059785117 and parameters: {'num_layers': 2, 'n_units_layer_0': 40, 'dropout_rate_layer_0': 0.39324568584668945, 'actv_func_layer_0': 'elu', 'n_units_layer_1': 35, 'dropout_rate_layer_1': 0.24799012748669058, 'actv_func_layer_1': 'elu', 'optimizer': 'SGD', 'sgd_lr': 1.0787433813538178e-05, 'sgd_momentum': 1.4232100638146185e-05, 'epoch': 46}. Best is trial 1 with value: 0.5316828146576882.\u001b[0m\n",
      "\u001b[32m[I 2022-04-20 12:06:13,408]\u001b[0m Trial 7 finished with value: 0.4963117324643665 and parameters: {'num_layers': 3, 'n_units_layer_0': 15, 'dropout_rate_layer_0': 0.1308852570464933, 'actv_func_layer_0': 'tanh', 'n_units_layer_1': 10, 'dropout_rate_layer_1': 0.36891404408783424, 'actv_func_layer_1': 'tanh', 'n_units_layer_2': 35, 'dropout_rate_layer_2': 0.2686533280190966, 'actv_func_layer_2': 'tanh', 'optimizer': 'Adam', 'adam_lr': 0.01090896692484051, 'epoch': 45}. Best is trial 1 with value: 0.5316828146576882.\u001b[0m\n",
      "\u001b[32m[I 2022-04-20 12:06:18,255]\u001b[0m Trial 6 finished with value: 0.2131826314661238 and parameters: {'num_layers': 3, 'n_units_layer_0': 40, 'dropout_rate_layer_0': 0.3699812637006938, 'actv_func_layer_0': 'relu', 'n_units_layer_1': 20, 'dropout_rate_layer_1': 0.03928751858189283, 'actv_func_layer_1': 'relu', 'n_units_layer_2': 40, 'dropout_rate_layer_2': 0.4139025215861242, 'actv_func_layer_2': 'elu', 'optimizer': 'Adam', 'adam_lr': 2.1355705733534432e-05, 'epoch': 45}. Best is trial 1 with value: 0.5316828146576882.\u001b[0m\n",
      "\u001b[32m[I 2022-04-20 12:06:38,334]\u001b[0m Trial 21 finished with value: 0.1553232457023114 and parameters: {'num_layers': 2, 'n_units_layer_0': 50, 'dropout_rate_layer_0': 0.25079634409468177, 'actv_func_layer_0': 'tanh', 'n_units_layer_1': 50, 'dropout_rate_layer_1': 0.18129700533195642, 'actv_func_layer_1': 'relu', 'optimizer': 'SGD', 'sgd_lr': 2.2231019197413093e-05, 'sgd_momentum': 0.013543720236521782, 'epoch': 20}. Best is trial 1 with value: 0.5316828146576882.\u001b[0m\n",
      "\u001b[32m[I 2022-04-20 12:08:05,026]\u001b[0m Trial 28 finished with value: 0.1735782444696216 and parameters: {'num_layers': 1, 'n_units_layer_0': 35, 'dropout_rate_layer_0': 0.32648428853599004, 'actv_func_layer_0': 'relu', 'optimizer': 'SGD', 'sgd_lr': 0.0020840540213293117, 'sgd_momentum': 1.0046589555581771e-05, 'epoch': 17}. Best is trial 1 with value: 0.5316828146576882.\u001b[0m\n",
      "\u001b[32m[I 2022-04-20 12:08:23,868]\u001b[0m Trial 18 finished with value: 0.4917979563275973 and parameters: {'num_layers': 1, 'n_units_layer_0': 50, 'dropout_rate_layer_0': 0.06627843115172316, 'actv_func_layer_0': 'relu', 'optimizer': 'Adam', 'adam_lr': 0.03685441944436046, 'epoch': 36}. Best is trial 1 with value: 0.5316828146576882.\u001b[0m\n",
      "\u001b[32m[I 2022-04-20 12:09:24,254]\u001b[0m Trial 22 finished with value: 0.4926152790293974 and parameters: {'num_layers': 1, 'n_units_layer_0': 40, 'dropout_rate_layer_0': 0.41369223984861203, 'actv_func_layer_0': 'tanh', 'optimizer': 'SGD', 'sgd_lr': 0.05503736380867286, 'sgd_momentum': 1.65136173682969e-05, 'epoch': 34}. Best is trial 1 with value: 0.5316828146576882.\u001b[0m\n",
      "\u001b[32m[I 2022-04-20 12:09:28,310]\u001b[0m Trial 27 finished with value: 0.0 and parameters: {'num_layers': 3, 'n_units_layer_0': 40, 'dropout_rate_layer_0': 0.03193945551501104, 'actv_func_layer_0': 'tanh', 'n_units_layer_1': 10, 'dropout_rate_layer_1': 0.4231505370819187, 'actv_func_layer_1': 'tanh', 'n_units_layer_2': 50, 'dropout_rate_layer_2': 0.3487537254720033, 'actv_func_layer_2': 'elu', 'optimizer': 'SGD', 'sgd_lr': 0.0005333873423393552, 'sgd_momentum': 0.058621345377902895, 'epoch': 23}. Best is trial 1 with value: 0.5316828146576882.\u001b[0m\n",
      "\u001b[32m[I 2022-04-20 12:10:11,476]\u001b[0m Trial 20 finished with value: 0.2930677350271832 and parameters: {'num_layers': 0, 'optimizer': 'SGD', 'sgd_lr': 0.0014682145731899877, 'sgd_momentum': 0.0528700556453951, 'epoch': 44}. Best is trial 1 with value: 0.5316828146576882.\u001b[0m\n",
      "\u001b[32m[I 2022-04-20 12:10:29,260]\u001b[0m Trial 32 finished with value: 0.08887233724817634 and parameters: {'num_layers': 2, 'n_units_layer_0': 45, 'dropout_rate_layer_0': 0.04821616607216078, 'actv_func_layer_0': 'elu', 'n_units_layer_1': 25, 'dropout_rate_layer_1': 0.2690279783027898, 'actv_func_layer_1': 'relu', 'optimizer': 'SGD', 'sgd_lr': 0.0004975045303634342, 'sgd_momentum': 0.0017058758838469294, 'epoch': 20}. Best is trial 1 with value: 0.5316828146576882.\u001b[0m\n",
      "\u001b[32m[I 2022-04-20 12:10:35,052]\u001b[0m Trial 17 finished with value: 0.5478656393289566 and parameters: {'num_layers': 0, 'optimizer': 'Adam', 'adam_lr': 0.05075826567070766, 'epoch': 50}. Best is trial 17 with value: 0.5478656393289566.\u001b[0m\n",
      "\u001b[32m[I 2022-04-20 12:10:53,560]\u001b[0m Trial 24 finished with value: 0.413681599437385 and parameters: {'num_layers': 0, 'optimizer': 'Adam', 'adam_lr': 4.393897862063997e-05, 'epoch': 37}. Best is trial 17 with value: 0.5478656393289566.\u001b[0m\n",
      "\u001b[32m[I 2022-04-20 12:11:02,268]\u001b[0m Trial 26 finished with value: 0.49194177985191345 and parameters: {'num_layers': 3, 'n_units_layer_0': 15, 'dropout_rate_layer_0': 0.2906619196952654, 'actv_func_layer_0': 'tanh', 'n_units_layer_1': 45, 'dropout_rate_layer_1': 0.28809620959897947, 'actv_func_layer_1': 'tanh', 'n_units_layer_2': 45, 'dropout_rate_layer_2': 0.35170724675413145, 'actv_func_layer_2': 'tanh', 'optimizer': 'Adam', 'adam_lr': 0.0001257955802084512, 'epoch': 32}. Best is trial 17 with value: 0.5478656393289566.\u001b[0m\n",
      "\u001b[32m[I 2022-04-20 12:11:33,178]\u001b[0m Trial 19 finished with value: 0.4982071590423584 and parameters: {'num_layers': 1, 'n_units_layer_0': 40, 'dropout_rate_layer_0': 0.15194112439362867, 'actv_func_layer_0': 'elu', 'optimizer': 'Adam', 'adam_lr': 0.00012061888541796178, 'epoch': 50}. Best is trial 17 with value: 0.5478656393289566.\u001b[0m\n",
      "\u001b[32m[I 2022-04-20 12:12:14,019]\u001b[0m Trial 31 finished with value: 0.5179838384019917 and parameters: {'num_layers': 2, 'n_units_layer_0': 15, 'dropout_rate_layer_0': 0.11111320067439845, 'actv_func_layer_0': 'relu', 'n_units_layer_1': 25, 'dropout_rate_layer_1': 0.1457314445124714, 'actv_func_layer_1': 'tanh', 'optimizer': 'Adam', 'adam_lr': 0.0003076361830091954, 'epoch': 29}. Best is trial 17 with value: 0.5478656393289566.\u001b[0m\n",
      "\u001b[32m[I 2022-04-20 12:12:26,308]\u001b[0m Trial 25 finished with value: 0.5162553496138994 and parameters: {'num_layers': 1, 'n_units_layer_0': 15, 'dropout_rate_layer_0': 0.06404818371723986, 'actv_func_layer_0': 'relu', 'optimizer': 'SGD', 'sgd_lr': 0.01677427361213323, 'sgd_momentum': 0.09994398952373826, 'epoch': 43}. Best is trial 17 with value: 0.5478656393289566.\u001b[0m\n",
      "\u001b[32m[I 2022-04-20 12:12:39,329]\u001b[0m Trial 23 finished with value: 0.06157999679598273 and parameters: {'num_layers': 0, 'optimizer': 'SGD', 'sgd_lr': 1.9918521791985746e-05, 'sgd_momentum': 0.007723577187518572, 'epoch': 49}. Best is trial 17 with value: 0.5478656393289566.\u001b[0m\n",
      "\u001b[32m[I 2022-04-20 12:12:40,379]\u001b[0m Trial 29 finished with value: 0.38780676286954147 and parameters: {'num_layers': 2, 'n_units_layer_0': 15, 'dropout_rate_layer_0': 0.4779726246202399, 'actv_func_layer_0': 'relu', 'n_units_layer_1': 15, 'dropout_rate_layer_1': 0.40540434008218457, 'actv_func_layer_1': 'tanh', 'optimizer': 'Adam', 'adam_lr': 0.02222551797578947, 'epoch': 39}. Best is trial 17 with value: 0.5478656393289566.\u001b[0m\n",
      "\u001b[32m[I 2022-04-20 12:12:53,372]\u001b[0m Trial 33 finished with value: 0.5309288266933325 and parameters: {'num_layers': 0, 'optimizer': 'Adam', 'adam_lr': 0.007934843745884913, 'epoch': 33}. Best is trial 17 with value: 0.5478656393289566.\u001b[0m\n",
      "\u001b[32m[I 2022-04-20 12:12:53,441]\u001b[0m Trial 35 finished with value: 0.015509699511787167 and parameters: {'num_layers': 0, 'optimizer': 'SGD', 'sgd_lr': 0.0001966828934103094, 'sgd_momentum': 7.896739385095688e-05, 'epoch': 23}. Best is trial 17 with value: 0.5478656393289566.\u001b[0m\n",
      "\u001b[32m[I 2022-04-20 12:14:09,070]\u001b[0m Trial 40 finished with value: 0.06814444530755281 and parameters: {'num_layers': 1, 'n_units_layer_0': 40, 'dropout_rate_layer_0': 0.4107048447437195, 'actv_func_layer_0': 'tanh', 'optimizer': 'SGD', 'sgd_lr': 0.0010278285493350873, 'sgd_momentum': 0.017283563968623277, 'epoch': 18}. Best is trial 17 with value: 0.5478656393289566.\u001b[0m\n",
      "\u001b[32m[I 2022-04-20 12:14:17,871]\u001b[0m Trial 37 finished with value: 0.44513229963680107 and parameters: {'num_layers': 2, 'n_units_layer_0': 10, 'dropout_rate_layer_0': 0.07768439987280029, 'actv_func_layer_0': 'elu', 'n_units_layer_1': 15, 'dropout_rate_layer_1': 0.020832577725850787, 'actv_func_layer_1': 'tanh', 'optimizer': 'SGD', 'sgd_lr': 0.005847267489427865, 'sgd_momentum': 0.024968102174937192, 'epoch': 24}. Best is trial 17 with value: 0.5478656393289566.\u001b[0m\n",
      "\u001b[32m[I 2022-04-20 12:14:50,018]\u001b[0m Trial 43 finished with value: 0.3691292177228367 and parameters: {'num_layers': 2, 'n_units_layer_0': 10, 'dropout_rate_layer_0': 0.1314624599399271, 'actv_func_layer_0': 'elu', 'n_units_layer_1': 45, 'dropout_rate_layer_1': 0.06239199330918971, 'actv_func_layer_1': 'relu', 'optimizer': 'SGD', 'sgd_lr': 0.01005930421898498, 'sgd_momentum': 0.0007643707756026871, 'epoch': 17}. Best is trial 17 with value: 0.5478656393289566.\u001b[0m\n",
      "\u001b[32m[I 2022-04-20 12:14:56,873]\u001b[0m Trial 34 finished with value: 0.45548391673300004 and parameters: {'num_layers': 0, 'optimizer': 'SGD', 'sgd_lr': 0.010733665879988403, 'sgd_momentum': 2.89806376829816e-05, 'epoch': 36}. Best is trial 17 with value: 0.5478656393289566.\u001b[0m\n",
      "\u001b[32m[I 2022-04-20 12:15:17,838]\u001b[0m Trial 41 finished with value: 0.4792354324211677 and parameters: {'num_layers': 1, 'n_units_layer_0': 30, 'dropout_rate_layer_0': 0.10572174080410529, 'actv_func_layer_0': 'tanh', 'optimizer': 'Adam', 'adam_lr': 0.027877477412081516, 'epoch': 24}. Best is trial 17 with value: 0.5478656393289566.\u001b[0m\n",
      "\u001b[32m[I 2022-04-20 12:15:39,845]\u001b[0m Trial 30 finished with value: 0.008415387645363807 and parameters: {'num_layers': 1, 'n_units_layer_0': 15, 'dropout_rate_layer_0': 0.3062596073252505, 'actv_func_layer_0': 'elu', 'optimizer': 'SGD', 'sgd_lr': 2.595741627459216e-05, 'sgd_momentum': 9.288218475505476e-05, 'epoch': 50}. Best is trial 17 with value: 0.5478656393289566.\u001b[0m\n",
      "\u001b[32m[I 2022-04-20 12:15:58,881]\u001b[0m Trial 48 finished with value: 0.43599046932326424 and parameters: {'num_layers': 3, 'n_units_layer_0': 10, 'dropout_rate_layer_0': 0.36236235429603947, 'actv_func_layer_0': 'elu', 'n_units_layer_1': 20, 'dropout_rate_layer_1': 0.3769519415777074, 'actv_func_layer_1': 'relu', 'n_units_layer_2': 10, 'dropout_rate_layer_2': 0.03655688292369236, 'actv_func_layer_2': 'tanh', 'optimizer': 'SGD', 'sgd_lr': 0.04076638176479991, 'sgd_momentum': 4.0922065183328196e-05, 'epoch': 18}. Best is trial 17 with value: 0.5478656393289566.\u001b[0m\n",
      "\u001b[32m[I 2022-04-20 12:16:03,850]\u001b[0m Trial 38 finished with value: 0.13256569662498255 and parameters: {'num_layers': 1, 'n_units_layer_0': 50, 'dropout_rate_layer_0': 0.34178918310310213, 'actv_func_layer_0': 'elu', 'optimizer': 'SGD', 'sgd_lr': 0.0005065769401524773, 'sgd_momentum': 0.02441776880509554, 'epoch': 33}. Best is trial 17 with value: 0.5478656393289566.\u001b[0m\n",
      "\u001b[32m[I 2022-04-20 12:16:09,475]\u001b[0m Trial 46 finished with value: 0.23946441000416166 and parameters: {'num_layers': 1, 'n_units_layer_0': 50, 'dropout_rate_layer_0': 0.3856218601806192, 'actv_func_layer_0': 'elu', 'optimizer': 'Adam', 'adam_lr': 2.2893215221396053e-05, 'epoch': 21}. Best is trial 17 with value: 0.5478656393289566.\u001b[0m\n",
      "\u001b[32m[I 2022-04-20 12:16:45,962]\u001b[0m Trial 47 finished with value: 0.5285331187424837 and parameters: {'num_layers': 2, 'n_units_layer_0': 45, 'dropout_rate_layer_0': 0.45981019644890075, 'actv_func_layer_0': 'tanh', 'n_units_layer_1': 40, 'dropout_rate_layer_1': 0.42771048280722707, 'actv_func_layer_1': 'relu', 'optimizer': 'Adam', 'adam_lr': 0.010529806340973261, 'epoch': 27}. Best is trial 17 with value: 0.5478656393289566.\u001b[0m\n",
      "\u001b[32m[I 2022-04-20 12:17:10,185]\u001b[0m Trial 44 finished with value: 0.07084818702590252 and parameters: {'num_layers': 2, 'n_units_layer_0': 40, 'dropout_rate_layer_0': 0.06789365022206123, 'actv_func_layer_0': 'tanh', 'n_units_layer_1': 25, 'dropout_rate_layer_1': 0.29357993914912167, 'actv_func_layer_1': 'elu', 'optimizer': 'SGD', 'sgd_lr': 3.043482784237071e-05, 'sgd_momentum': 3.879987552648133e-05, 'epoch': 35}. Best is trial 17 with value: 0.5478656393289566.\u001b[0m\n",
      "\u001b[32m[I 2022-04-20 12:17:10,567]\u001b[0m Trial 36 finished with value: 0.5171075161872432 and parameters: {'num_layers': 1, 'n_units_layer_0': 10, 'dropout_rate_layer_0': 0.08897439350056363, 'actv_func_layer_0': 'relu', 'optimizer': 'Adam', 'adam_lr': 0.00010502860414991435, 'epoch': 50}. Best is trial 17 with value: 0.5478656393289566.\u001b[0m\n",
      "\u001b[32m[I 2022-04-20 12:17:16,199]\u001b[0m Trial 39 finished with value: 0.480088545959823 and parameters: {'num_layers': 0, 'optimizer': 'SGD', 'sgd_lr': 0.026567818706739542, 'sgd_momentum': 0.0017247316373144531, 'epoch': 49}. Best is trial 17 with value: 0.5478656393289566.\u001b[0m\n",
      "\u001b[32m[I 2022-04-20 12:17:17,165]\u001b[0m Trial 42 finished with value: 0.003441142351474873 and parameters: {'num_layers': 3, 'n_units_layer_0': 35, 'dropout_rate_layer_0': 0.0730491707271404, 'actv_func_layer_0': 'tanh', 'n_units_layer_1': 40, 'dropout_rate_layer_1': 0.46528527068316544, 'actv_func_layer_1': 'elu', 'n_units_layer_2': 35, 'dropout_rate_layer_2': 0.0402546993063973, 'actv_func_layer_2': 'elu', 'optimizer': 'SGD', 'sgd_lr': 0.00011461832125663937, 'sgd_momentum': 0.0006929548882706444, 'epoch': 43}. Best is trial 17 with value: 0.5478656393289566.\u001b[0m\n",
      "\u001b[32m[I 2022-04-20 12:17:31,009]\u001b[0m Trial 45 finished with value: 0.4381671600043774 and parameters: {'num_layers': 0, 'optimizer': 'Adam', 'adam_lr': 5.035042764606694e-05, 'epoch': 50}. Best is trial 17 with value: 0.5478656393289566.\u001b[0m\n",
      "\u001b[32m[I 2022-04-20 12:17:34,310]\u001b[0m Trial 49 finished with value: 0.18861477615225108 and parameters: {'num_layers': 3, 'n_units_layer_0': 50, 'dropout_rate_layer_0': 0.0073974650045735, 'actv_func_layer_0': 'elu', 'n_units_layer_1': 30, 'dropout_rate_layer_1': 0.2450800492517647, 'actv_func_layer_1': 'elu', 'n_units_layer_2': 50, 'dropout_rate_layer_2': 0.3760764112543145, 'actv_func_layer_2': 'relu', 'optimizer': 'SGD', 'sgd_lr': 0.00039960153231373885, 'sgd_momentum': 0.0016104681418506515, 'epoch': 43}. Best is trial 17 with value: 0.5478656393289566.\u001b[0m\n"
     ]
    }
   ],
   "source": [
    "study = optuna.create_study(direction='maximize',\n",
    "                            sampler=optuna.samplers.RandomSampler(seed=0),\n",
    "                           )\n",
    "study.optimize(lambda trial: objective(trial, df_train),\n",
    "               n_trials=50, n_jobs=-1,\n",
    "              )"
   ]
  },
  {
   "cell_type": "code",
   "execution_count": 25,
   "id": "691e8013-f89b-462c-a7cb-8247d8a770b0",
   "metadata": {},
   "outputs": [
    {
     "name": "stdout",
     "output_type": "stream",
     "text": [
      "Best Trial:\n",
      "    Value:  0.5478656393289566\n",
      "    Hyperparameters: \n",
      "        num_layers: 0\n",
      "        optimizer: Adam\n",
      "        adam_lr: 0.05075826567070766\n",
      "        epoch: 50\n"
     ]
    }
   ],
   "source": [
    "print(\"Best Trial:\")\n",
    "best_trial = study.best_trial\n",
    "\n",
    "print(\"    Value: \", best_trial.value)\n",
    "\n",
    "print(\"    Hyperparameters: \")\n",
    "for key, value in best_trial.params.items():\n",
    "    print(f\"        {key}: {value}\")"
   ]
  },
  {
   "cell_type": "code",
   "execution_count": 26,
   "id": "5cc22b46-eeae-495b-823b-f2f6133d5de1",
   "metadata": {},
   "outputs": [
    {
     "data": {
      "text/plain": [
       "{'num_layers': 0,\n",
       " 'optimizer': 'Adam',\n",
       " 'adam_lr': 0.05075826567070766,\n",
       " 'epoch': 50}"
      ]
     },
     "execution_count": 26,
     "metadata": {},
     "output_type": "execute_result"
    }
   ],
   "source": [
    "best_trial.params"
   ]
  },
  {
   "cell_type": "code",
   "execution_count": 27,
   "id": "83eae622-a615-48e7-8afb-f4e1ff349e0a",
   "metadata": {},
   "outputs": [
    {
     "name": "stdout",
     "output_type": "stream",
     "text": [
      "Model: \"sequential_1\"\n",
      "_________________________________________________________________\n",
      "Layer (type)                 Output Shape              Param #   \n",
      "=================================================================\n",
      "dense_4 (Dense)              (None, 51)                2652      \n",
      "_________________________________________________________________\n",
      "dense_5 (Dense)              (None, 1)                 52        \n",
      "=================================================================\n",
      "Total params: 2,704\n",
      "Trainable params: 2,704\n",
      "Non-trainable params: 0\n",
      "_________________________________________________________________\n",
      "None\n",
      "Epoch 1/50\n",
      "636/636 [==============================] - 7s 10ms/step - loss: 0.2516 - f1_m: 0.3853\n",
      "Epoch 2/50\n",
      "636/636 [==============================] - 2s 3ms/step - loss: 0.2248 - f1_m: 0.4861\n",
      "Epoch 3/50\n",
      "636/636 [==============================] - 2s 3ms/step - loss: 0.2209 - f1_m: 0.4516\n",
      "Epoch 4/50\n",
      "636/636 [==============================] - 4s 6ms/step - loss: 0.2166 - f1_m: 0.4939\n",
      "Epoch 5/50\n",
      "636/636 [==============================] - 2s 3ms/step - loss: 0.2108 - f1_m: 0.4565\n",
      "Epoch 6/50\n",
      "636/636 [==============================] - 2s 3ms/step - loss: 0.2189 - f1_m: 0.5379\n",
      "Epoch 7/50\n",
      "636/636 [==============================] - 3s 5ms/step - loss: 0.2128 - f1_m: 0.5281\n",
      "Epoch 8/50\n",
      "636/636 [==============================] - 2s 3ms/step - loss: 0.2091 - f1_m: 0.5317\n",
      "Epoch 9/50\n",
      "636/636 [==============================] - 2s 3ms/step - loss: 0.2137 - f1_m: 0.5569\n",
      "Epoch 10/50\n",
      "636/636 [==============================] - 2s 3ms/step - loss: 0.2062 - f1_m: 0.5716\n",
      "Epoch 11/50\n",
      "636/636 [==============================] - 2s 4ms/step - loss: 0.2080 - f1_m: 0.5761\n",
      "Epoch 12/50\n",
      "636/636 [==============================] - 2s 4ms/step - loss: 0.2127 - f1_m: 0.5632\n",
      "Epoch 13/50\n",
      "636/636 [==============================] - 2s 3ms/step - loss: 0.2114 - f1_m: 0.5678\n",
      "Epoch 14/50\n",
      "636/636 [==============================] - 3s 4ms/step - loss: 0.2104 - f1_m: 0.5727\n",
      "Epoch 15/50\n",
      "636/636 [==============================] - 2s 4ms/step - loss: 0.2112 - f1_m: 0.6009\n",
      "Epoch 16/50\n",
      "636/636 [==============================] - 2s 3ms/step - loss: 0.2110 - f1_m: 0.5886\n",
      "Epoch 17/50\n",
      "636/636 [==============================] - 2s 3ms/step - loss: 0.2141 - f1_m: 0.5732\n",
      "Epoch 18/50\n",
      "636/636 [==============================] - 2s 4ms/step - loss: 0.2121 - f1_m: 0.5758\n",
      "Epoch 19/50\n",
      "636/636 [==============================] - 2s 3ms/step - loss: 0.2124 - f1_m: 0.5808\n",
      "Epoch 20/50\n",
      "636/636 [==============================] - 2s 3ms/step - loss: 0.2100 - f1_m: 0.5982\n",
      "Epoch 21/50\n",
      "636/636 [==============================] - 2s 3ms/step - loss: 0.2067 - f1_m: 0.5843\n",
      "Epoch 22/50\n",
      "636/636 [==============================] - 2s 3ms/step - loss: 0.2089 - f1_m: 0.5862\n",
      "Epoch 23/50\n",
      "636/636 [==============================] - 2s 3ms/step - loss: 0.2083 - f1_m: 0.5770\n",
      "Epoch 24/50\n",
      "636/636 [==============================] - 2s 4ms/step - loss: 0.2080 - f1_m: 0.5448\n",
      "Epoch 25/50\n",
      "636/636 [==============================] - 2s 4ms/step - loss: 0.2087 - f1_m: 0.5897\n",
      "Epoch 26/50\n",
      "636/636 [==============================] - 2s 2ms/step - loss: 0.2132 - f1_m: 0.5928\n",
      "Epoch 27/50\n",
      "636/636 [==============================] - 2s 3ms/step - loss: 0.2077 - f1_m: 0.5942\n",
      "Epoch 28/50\n",
      "636/636 [==============================] - 1s 2ms/step - loss: 0.2103 - f1_m: 0.5895\n",
      "Epoch 29/50\n",
      "636/636 [==============================] - 2s 3ms/step - loss: 0.2123 - f1_m: 0.5879\n",
      "Epoch 30/50\n",
      "636/636 [==============================] - 2s 3ms/step - loss: 0.2133 - f1_m: 0.5936\n",
      "Epoch 31/50\n",
      "636/636 [==============================] - 1s 2ms/step - loss: 0.2085 - f1_m: 0.5969\n",
      "Epoch 32/50\n",
      "636/636 [==============================] - 1s 2ms/step - loss: 0.2095 - f1_m: 0.5845\n",
      "Epoch 33/50\n",
      "636/636 [==============================] - 1s 2ms/step - loss: 0.2101 - f1_m: 0.5830\n",
      "Epoch 34/50\n",
      "636/636 [==============================] - 2s 2ms/step - loss: 0.2076 - f1_m: 0.5892\n",
      "Epoch 35/50\n",
      "636/636 [==============================] - 2s 3ms/step - loss: 0.2087 - f1_m: 0.5913\n",
      "Epoch 36/50\n",
      "636/636 [==============================] - 1s 2ms/step - loss: 0.2097 - f1_m: 0.5354\n",
      "Epoch 37/50\n",
      "636/636 [==============================] - 2s 3ms/step - loss: 0.2104 - f1_m: 0.5920\n",
      "Epoch 38/50\n",
      "636/636 [==============================] - 2s 3ms/step - loss: 0.2146 - f1_m: 0.5834\n",
      "Epoch 39/50\n",
      "636/636 [==============================] - 2s 2ms/step - loss: 0.2079 - f1_m: 0.5902\n",
      "Epoch 40/50\n",
      "636/636 [==============================] - 2s 3ms/step - loss: 0.2060 - f1_m: 0.5970\n",
      "Epoch 41/50\n",
      "636/636 [==============================] - 2s 3ms/step - loss: 0.2158 - f1_m: 0.5756\n",
      "Epoch 42/50\n",
      "636/636 [==============================] - 2s 3ms/step - loss: 0.2106 - f1_m: 0.5916\n",
      "Epoch 43/50\n",
      "636/636 [==============================] - 2s 3ms/step - loss: 0.2095 - f1_m: 0.5982\n",
      "Epoch 44/50\n",
      "636/636 [==============================] - 1s 2ms/step - loss: 0.2112 - f1_m: 0.6084\n",
      "Epoch 45/50\n",
      "636/636 [==============================] - 2s 3ms/step - loss: 0.2134 - f1_m: 0.6080\n",
      "Epoch 46/50\n",
      "636/636 [==============================] - 1s 2ms/step - loss: 0.2071 - f1_m: 0.5961\n",
      "Epoch 47/50\n",
      "636/636 [==============================] - 1s 2ms/step - loss: 0.2060 - f1_m: 0.5958\n",
      "Epoch 48/50\n",
      "636/636 [==============================] - 2s 3ms/step - loss: 0.2105 - f1_m: 0.6043\n",
      "Epoch 49/50\n",
      "636/636 [==============================] - 1s 2ms/step - loss: 0.2090 - f1_m: 0.5944\n",
      "Epoch 50/50\n",
      "636/636 [==============================] - 1s 2ms/step - loss: 0.2151 - f1_m: 0.5927\n",
      "====================================================================================================\n",
      "F1-Score on Test Data:  0.5964912280701754\n"
     ]
    }
   ],
   "source": [
    "train_and_evaluate_final(df_train, df_test, **best_trial.params)"
   ]
  },
  {
   "cell_type": "markdown",
   "id": "580226e9-cc08-4dc7-846b-914876343071",
   "metadata": {},
   "source": [
    "# Grid Search"
   ]
  },
  {
   "cell_type": "code",
   "execution_count": 28,
   "id": "b5c27c0f-893a-4060-8d97-7a6790990f35",
   "metadata": {
    "tags": []
   },
   "outputs": [
    {
     "name": "stdout",
     "output_type": "stream",
     "text": [
      "<class 'pandas.core.frame.DataFrame'>\n",
      "RangeIndex: 45211 entries, 0 to 45210\n",
      "Data columns (total 17 columns):\n",
      " #   Column     Non-Null Count  Dtype \n",
      "---  ------     --------------  ----- \n",
      " 0   age        45211 non-null  int64 \n",
      " 1   job        45211 non-null  object\n",
      " 2   marital    45211 non-null  object\n",
      " 3   education  45211 non-null  object\n",
      " 4   default    45211 non-null  object\n",
      " 5   balance    45211 non-null  int64 \n",
      " 6   housing    45211 non-null  object\n",
      " 7   loan       45211 non-null  object\n",
      " 8   contact    45211 non-null  object\n",
      " 9   day        45211 non-null  int64 \n",
      " 10  month      45211 non-null  object\n",
      " 11  duration   45211 non-null  int64 \n",
      " 12  campaign   45211 non-null  int64 \n",
      " 13  pdays      45211 non-null  int64 \n",
      " 14  previous   45211 non-null  int64 \n",
      " 15  poutcome   45211 non-null  object\n",
      " 16  y          45211 non-null  object\n",
      "dtypes: int64(7), object(10)\n",
      "memory usage: 5.9+ MB\n"
     ]
    }
   ],
   "source": [
    "df = pd.read_csv(\"train.csv\",sep=\";\")\n",
    "df.info()"
   ]
  },
  {
   "cell_type": "markdown",
   "id": "d70d0dde-f44d-4880-8aa0-322ef4b6ff7d",
   "metadata": {},
   "source": [
    "Convert the target variable to integer"
   ]
  },
  {
   "cell_type": "code",
   "execution_count": 29,
   "id": "c027367e-5c87-41b1-bca4-2497f7878428",
   "metadata": {},
   "outputs": [],
   "source": [
    "df['y'] = df['y'].map({'yes':1,'no':0})"
   ]
  },
  {
   "cell_type": "markdown",
   "id": "71a4b6e3-072e-4a3a-802e-85e7af19e8ad",
   "metadata": {},
   "source": [
    "Split full data into train and test data"
   ]
  },
  {
   "cell_type": "code",
   "execution_count": 30,
   "id": "2efd7aa9-25d9-4170-b242-925ece5d76b3",
   "metadata": {},
   "outputs": [],
   "source": [
    "df_train, df_test = train_test_split(df, test_size=0.1, random_state=0) "
   ]
  },
  {
   "cell_type": "markdown",
   "id": "3d2914b5-18df-411d-a294-22502adfc18d",
   "metadata": {},
   "source": [
    "Get list of numerical features"
   ]
  },
  {
   "cell_type": "code",
   "execution_count": 31,
   "id": "f70d5e62-71c1-4fe2-aab3-b1d4d7385b8d",
   "metadata": {},
   "outputs": [],
   "source": [
    "numerical_feats = list(df_train.drop(columns='y').select_dtypes(include=np.number).columns)"
   ]
  },
  {
   "cell_type": "markdown",
   "id": "1eb048f3-39ce-4bf1-875f-ad331e6665e6",
   "metadata": {},
   "source": [
    "Get list of categorical features"
   ]
  },
  {
   "cell_type": "code",
   "execution_count": 32,
   "id": "4690f054-a312-4ce2-8af4-e253fedb869d",
   "metadata": {},
   "outputs": [],
   "source": [
    "categorical_feats = list(df_train.drop(columns='y').select_dtypes(exclude=np.number).columns)"
   ]
  },
  {
   "cell_type": "markdown",
   "id": "6d86c4e4-ed77-4e38-a1db-b59266e4a8fe",
   "metadata": {},
   "source": [
    "Define Search Space"
   ]
  },
  {
   "cell_type": "code",
   "execution_count": 33,
   "id": "7ec0271e-64df-48b4-825e-62681ab1c217",
   "metadata": {},
   "outputs": [],
   "source": [
    "search_space = {'num_layers': [0,1],\n",
    "                'n_units_layer_0': list(range(10,50,5)),\n",
    "                'dropout_rate_layer_0': np.linspace(0,0.5,5),\n",
    "                'actv_func_layer_0': ['relu','elu'],\n",
    "                'optimizer': ['Adam','SGD'],\n",
    "                'sgd_lr': np.linspace(1e-5,1e-1,5),\n",
    "                'sgd_momentum': np.linspace(1e-5,1e-1,5),\n",
    "                'adam_lr': np.linspace(1e-5,1e-1,5),\n",
    "                'epoch': list(range(15,50,5))\n",
    "               }"
   ]
  },
  {
   "cell_type": "markdown",
   "id": "767223f4-7a2f-4433-8e89-fe2a6f2cc802",
   "metadata": {},
   "source": [
    "Perform Hyperparameter Tuning with Grid Search"
   ]
  },
  {
   "cell_type": "code",
   "execution_count": 34,
   "id": "98b464cb-5926-4392-a832-f43ba8ab9d9d",
   "metadata": {},
   "outputs": [
    {
     "name": "stderr",
     "output_type": "stream",
     "text": [
      "\u001b[32m[I 2022-04-20 12:23:31,788]\u001b[0m A new study created in memory with name: no-name-1f7d17a9-eddf-497a-804b-eb75cb7a6948\u001b[0m\n"
     ]
    },
    {
     "name": "stdout",
     "output_type": "stream",
     "text": [
      "WARNING:tensorflow:5 out of the last 14 calls to <function Model.make_test_function.<locals>.test_function at 0x7f448b151950> triggered tf.function retracing. Tracing is expensive and the excessive number of tracings could be due to (1) creating @tf.function repeatedly in a loop, (2) passing tensors with different shapes, (3) passing Python objects instead of tensors. For (1), please define your @tf.function outside of the loop. For (2), @tf.function has experimental_relax_shapes=True option that relaxes argument shapes that can avoid unnecessary retracing. For (3), please refer to https://www.tensorflow.org/guide/function#controlling_retracing and https://www.tensorflow.org/api_docs/python/tf/function for  more details.\n",
      "WARNING:tensorflow:5 out of the last 17 calls to <function Model.make_test_function.<locals>.test_function at 0x7f44b830ab90> triggered tf.function retracing. Tracing is expensive and the excessive number of tracings could be due to (1) creating @tf.function repeatedly in a loop, (2) passing tensors with different shapes, (3) passing Python objects instead of tensors. For (1), please define your @tf.function outside of the loop. For (2), @tf.function has experimental_relax_shapes=True option that relaxes argument shapes that can avoid unnecessary retracing. For (3), please refer to https://www.tensorflow.org/guide/function#controlling_retracing and https://www.tensorflow.org/api_docs/python/tf/function for  more details.\n"
     ]
    },
    {
     "name": "stderr",
     "output_type": "stream",
     "text": [
      "\u001b[32m[I 2022-04-20 12:25:44,804]\u001b[0m Trial 2 finished with value: 0.2509408483902613 and parameters: {'num_layers': 0, 'optimizer': 'SGD', 'sgd_lr': 1e-05, 'sgd_momentum': 1e-05, 'epoch': 15}. Best is trial 2 with value: 0.2509408483902613.\u001b[0m\n",
      "\u001b[32m[I 2022-04-20 12:25:53,374]\u001b[0m Trial 6 finished with value: 0.45009910464286806 and parameters: {'num_layers': 1, 'n_units_layer_0': 10, 'dropout_rate_layer_0': 0.25, 'actv_func_layer_0': 'elu', 'optimizer': 'SGD', 'sgd_lr': 0.05000500000000001, 'sgd_momentum': 1e-05, 'epoch': 15}. Best is trial 6 with value: 0.45009910464286806.\u001b[0m\n",
      "\u001b[32m[I 2022-04-20 12:25:54,994]\u001b[0m Trial 8 finished with value: 0.3451046049594879 and parameters: {'num_layers': 1, 'n_units_layer_0': 35, 'dropout_rate_layer_0': 0.5, 'actv_func_layer_0': 'relu', 'optimizer': 'SGD', 'sgd_lr': 0.025007500000000002, 'sgd_momentum': 0.1, 'epoch': 15}. Best is trial 6 with value: 0.45009910464286806.\u001b[0m\n",
      "\u001b[32m[I 2022-04-20 12:26:35,864]\u001b[0m Trial 13 finished with value: 0.4755041912198067 and parameters: {'num_layers': 0, 'optimizer': 'SGD', 'sgd_lr': 0.1, 'sgd_momentum': 1e-05, 'epoch': 20}. Best is trial 13 with value: 0.4755041912198067.\u001b[0m\n",
      "\u001b[32m[I 2022-04-20 12:27:20,223]\u001b[0m Trial 15 finished with value: 0.5741229319572448 and parameters: {'num_layers': 0, 'optimizer': 'Adam', 'adam_lr': 0.05000500000000001, 'epoch': 25}. Best is trial 15 with value: 0.5741229319572448.\u001b[0m\n",
      "\u001b[32m[I 2022-04-20 12:27:28,669]\u001b[0m Trial 5 finished with value: 0.14560901135206222 and parameters: {'num_layers': 1, 'n_units_layer_0': 35, 'dropout_rate_layer_0': 0.375, 'actv_func_layer_0': 'relu', 'optimizer': 'SGD', 'sgd_lr': 1e-05, 'sgd_momentum': 0.0750025, 'epoch': 25}. Best is trial 15 with value: 0.5741229319572448.\u001b[0m\n",
      "\u001b[32m[I 2022-04-20 12:27:29,717]\u001b[0m Trial 4 finished with value: 0.1542285347171128 and parameters: {'num_layers': 1, 'n_units_layer_0': 25, 'dropout_rate_layer_0': 0.0, 'actv_func_layer_0': 'relu', 'optimizer': 'Adam', 'adam_lr': 1e-05, 'epoch': 25}. Best is trial 15 with value: 0.5741229319572448.\u001b[0m\n",
      "\u001b[32m[I 2022-04-20 12:27:30,841]\u001b[0m Trial 9 finished with value: 0.0025756218284368514 and parameters: {'num_layers': 1, 'n_units_layer_0': 25, 'dropout_rate_layer_0': 0.5, 'actv_func_layer_0': 'relu', 'optimizer': 'SGD', 'sgd_lr': 1e-05, 'sgd_momentum': 1e-05, 'epoch': 25}. Best is trial 15 with value: 0.5741229319572448.\u001b[0m\n",
      "\u001b[32m[I 2022-04-20 12:28:00,529]\u001b[0m Trial 12 finished with value: 0.5445259888966878 and parameters: {'num_layers': 0, 'optimizer': 'Adam', 'adam_lr': 0.025007500000000002, 'epoch': 30}. Best is trial 15 with value: 0.5741229319572448.\u001b[0m\n",
      "\u001b[32m[I 2022-04-20 12:28:04,734]\u001b[0m Trial 1 finished with value: 0.49505389233430225 and parameters: {'num_layers': 0, 'optimizer': 'SGD', 'sgd_lr': 0.025007500000000002, 'sgd_momentum': 0.1, 'epoch': 30}. Best is trial 15 with value: 0.5741229319572448.\u001b[0m\n",
      "\u001b[32m[I 2022-04-20 12:29:03,109]\u001b[0m Trial 3 finished with value: 0.4881203038351876 and parameters: {'num_layers': 1, 'n_units_layer_0': 40, 'dropout_rate_layer_0': 0.5, 'actv_func_layer_0': 'relu', 'optimizer': 'SGD', 'sgd_lr': 0.1, 'sgd_momentum': 0.1, 'epoch': 35}. Best is trial 15 with value: 0.5741229319572448.\u001b[0m\n",
      "\u001b[32m[I 2022-04-20 12:29:06,560]\u001b[0m Trial 14 finished with value: 0.5023265719413758 and parameters: {'num_layers': 1, 'n_units_layer_0': 25, 'dropout_rate_layer_0': 0.125, 'actv_func_layer_0': 'relu', 'optimizer': 'Adam', 'adam_lr': 0.0750025, 'epoch': 35}. Best is trial 15 with value: 0.5741229319572448.\u001b[0m\n",
      "\u001b[32m[I 2022-04-20 12:29:52,635]\u001b[0m Trial 21 finished with value: 0.333854561795791 and parameters: {'num_layers': 1, 'n_units_layer_0': 30, 'dropout_rate_layer_0': 0.5, 'actv_func_layer_0': 'elu', 'optimizer': 'Adam', 'adam_lr': 0.025007500000000002, 'epoch': 15}. Best is trial 15 with value: 0.5741229319572448.\u001b[0m\n",
      "\u001b[32m[I 2022-04-20 12:29:58,356]\u001b[0m Trial 18 finished with value: 0.1493276458978653 and parameters: {'num_layers': 1, 'n_units_layer_0': 25, 'dropout_rate_layer_0': 0.375, 'actv_func_layer_0': 'relu', 'optimizer': 'SGD', 'sgd_lr': 1e-05, 'sgd_momentum': 0.05000500000000001, 'epoch': 25}. Best is trial 15 with value: 0.5741229319572448.\u001b[0m\n",
      "\u001b[32m[I 2022-04-20 12:30:29,146]\u001b[0m Trial 24 finished with value: 0.049427603681882225 and parameters: {'num_layers': 1, 'n_units_layer_0': 30, 'dropout_rate_layer_0': 0.125, 'actv_func_layer_0': 'elu', 'optimizer': 'Adam', 'adam_lr': 1e-05, 'epoch': 15}. Best is trial 15 with value: 0.5741229319572448.\u001b[0m\n",
      "\u001b[32m[I 2022-04-20 12:30:41,772]\u001b[0m Trial 7 finished with value: 0.5222577472527822 and parameters: {'num_layers': 1, 'n_units_layer_0': 35, 'dropout_rate_layer_0': 0.375, 'actv_func_layer_0': 'elu', 'optimizer': 'SGD', 'sgd_lr': 0.0750025, 'sgd_momentum': 1e-05, 'epoch': 45}. Best is trial 15 with value: 0.5741229319572448.\u001b[0m\n",
      "\u001b[32m[I 2022-04-20 12:30:42,866]\u001b[0m Trial 11 finished with value: 0.16267019510269165 and parameters: {'num_layers': 1, 'n_units_layer_0': 30, 'dropout_rate_layer_0': 0.5, 'actv_func_layer_0': 'relu', 'optimizer': 'SGD', 'sgd_lr': 1e-05, 'sgd_momentum': 0.025007500000000002, 'epoch': 45}. Best is trial 15 with value: 0.5741229319572448.\u001b[0m\n",
      "\u001b[32m[I 2022-04-20 12:30:42,867]\u001b[0m Trial 10 finished with value: 0.5058913707733155 and parameters: {'num_layers': 1, 'n_units_layer_0': 30, 'dropout_rate_layer_0': 0.0, 'actv_func_layer_0': 'elu', 'optimizer': 'SGD', 'sgd_lr': 0.025007500000000002, 'sgd_momentum': 0.05000500000000001, 'epoch': 45}. Best is trial 15 with value: 0.5741229319572448.\u001b[0m\n",
      "\u001b[32m[I 2022-04-20 12:30:43,645]\u001b[0m Trial 0 finished with value: 0.538221440050337 and parameters: {'num_layers': 1, 'n_units_layer_0': 10, 'dropout_rate_layer_0': 0.125, 'actv_func_layer_0': 'elu', 'optimizer': 'SGD', 'sgd_lr': 0.1, 'sgd_momentum': 0.1, 'epoch': 45}. Best is trial 15 with value: 0.5741229319572448.\u001b[0m\n",
      "\u001b[32m[I 2022-04-20 12:32:08,696]\u001b[0m Trial 23 finished with value: 0.523298957447211 and parameters: {'num_layers': 0, 'optimizer': 'Adam', 'adam_lr': 0.05000500000000001, 'epoch': 30}. Best is trial 15 with value: 0.5741229319572448.\u001b[0m\n",
      "\u001b[32m[I 2022-04-20 12:32:16,968]\u001b[0m Trial 28 finished with value: 0.46707346439361574 and parameters: {'num_layers': 0, 'optimizer': 'SGD', 'sgd_lr': 0.05000500000000001, 'sgd_momentum': 0.05000500000000001, 'epoch': 15}. Best is trial 15 with value: 0.5741229319572448.\u001b[0m\n",
      "\u001b[32m[I 2022-04-20 12:32:18,299]\u001b[0m Trial 26 finished with value: 0.5460367575287819 and parameters: {'num_layers': 1, 'n_units_layer_0': 10, 'dropout_rate_layer_0': 0.0, 'actv_func_layer_0': 'relu', 'optimizer': 'Adam', 'adam_lr': 0.0750025, 'epoch': 20}. Best is trial 15 with value: 0.5741229319572448.\u001b[0m\n",
      "\u001b[32m[I 2022-04-20 12:32:56,792]\u001b[0m Trial 17 finished with value: 0.4940873106320699 and parameters: {'num_layers': 0, 'optimizer': 'SGD', 'sgd_lr': 0.025007500000000002, 'sgd_momentum': 0.025007500000000002, 'epoch': 45}. Best is trial 15 with value: 0.5741229319572448.\u001b[0m\n",
      "\u001b[32m[I 2022-04-20 12:32:59,762]\u001b[0m Trial 19 finished with value: 0.3274838060489856 and parameters: {'num_layers': 1, 'n_units_layer_0': 25, 'dropout_rate_layer_0': 0.125, 'actv_func_layer_0': 'elu', 'optimizer': 'Adam', 'adam_lr': 0.0750025, 'epoch': 40}. Best is trial 15 with value: 0.5741229319572448.\u001b[0m\n",
      "\u001b[32m[I 2022-04-20 12:33:01,227]\u001b[0m Trial 16 finished with value: 0.3445300022761027 and parameters: {'num_layers': 1, 'n_units_layer_0': 20, 'dropout_rate_layer_0': 0.25, 'actv_func_layer_0': 'relu', 'optimizer': 'Adam', 'adam_lr': 0.1, 'epoch': 45}. Best is trial 15 with value: 0.5741229319572448.\u001b[0m\n",
      "\u001b[32m[I 2022-04-20 12:33:26,450]\u001b[0m Trial 20 finished with value: 0.48173542618751525 and parameters: {'num_layers': 0, 'optimizer': 'Adam', 'adam_lr': 0.0750025, 'epoch': 40}. Best is trial 15 with value: 0.5741229319572448.\u001b[0m\n",
      "\u001b[32m[I 2022-04-20 12:33:42,300]\u001b[0m Trial 25 finished with value: 0.1228721290028521 and parameters: {'num_layers': 1, 'n_units_layer_0': 45, 'dropout_rate_layer_0': 0.125, 'actv_func_layer_0': 'elu', 'optimizer': 'Adam', 'adam_lr': 0.1, 'epoch': 35}. Best is trial 15 with value: 0.5741229319572448.\u001b[0m\n",
      "\u001b[32m[I 2022-04-20 12:33:46,473]\u001b[0m Trial 34 finished with value: 0.46813530176877977 and parameters: {'num_layers': 0, 'optimizer': 'SGD', 'sgd_lr': 0.025007500000000002, 'sgd_momentum': 0.05000500000000001, 'epoch': 20}. Best is trial 15 with value: 0.5741229319572448.\u001b[0m\n",
      "\u001b[32m[I 2022-04-20 12:33:47,612]\u001b[0m Trial 22 finished with value: 0.5208067387342453 and parameters: {'num_layers': 1, 'n_units_layer_0': 20, 'dropout_rate_layer_0': 0.5, 'actv_func_layer_0': 'relu', 'optimizer': 'SGD', 'sgd_lr': 0.1, 'sgd_momentum': 0.0750025, 'epoch': 40}. Best is trial 15 with value: 0.5741229319572448.\u001b[0m\n",
      "\u001b[32m[I 2022-04-20 12:33:49,781]\u001b[0m Trial 29 finished with value: 0.4701004159450531 and parameters: {'num_layers': 0, 'optimizer': 'SGD', 'sgd_lr': 0.025007500000000002, 'sgd_momentum': 0.025007500000000002, 'epoch': 25}. Best is trial 15 with value: 0.5741229319572448.\u001b[0m\n",
      "\u001b[32m[I 2022-04-20 12:33:51,747]\u001b[0m Trial 27 finished with value: 0.532694031794866 and parameters: {'num_layers': 1, 'n_units_layer_0': 40, 'dropout_rate_layer_0': 0.375, 'actv_func_layer_0': 'relu', 'optimizer': 'SGD', 'sgd_lr': 0.0750025, 'sgd_momentum': 0.0750025, 'epoch': 30}. Best is trial 15 with value: 0.5741229319572448.\u001b[0m\n",
      "\u001b[32m[I 2022-04-20 12:34:27,918]\u001b[0m Trial 35 finished with value: 0.0008333332215746243 and parameters: {'num_layers': 0, 'optimizer': 'SGD', 'sgd_lr': 1e-05, 'sgd_momentum': 0.025007500000000002, 'epoch': 15}. Best is trial 15 with value: 0.5741229319572448.\u001b[0m\n",
      "\u001b[32m[I 2022-04-20 12:34:33,684]\u001b[0m Trial 31 finished with value: 0.5335163474082947 and parameters: {'num_layers': 0, 'optimizer': 'Adam', 'adam_lr': 0.025007500000000002, 'epoch': 25}. Best is trial 15 with value: 0.5741229319572448.\u001b[0m\n",
      "\u001b[32m[I 2022-04-20 12:35:28,808]\u001b[0m Trial 36 finished with value: 0.5233492687344551 and parameters: {'num_layers': 1, 'n_units_layer_0': 10, 'dropout_rate_layer_0': 0.0, 'actv_func_layer_0': 'elu', 'optimizer': 'SGD', 'sgd_lr': 0.05000500000000001, 'sgd_momentum': 0.05000500000000001, 'epoch': 20}. Best is trial 15 with value: 0.5741229319572448.\u001b[0m\n",
      "\u001b[32m[I 2022-04-20 12:36:05,955]\u001b[0m Trial 40 finished with value: 0.5424918711185456 and parameters: {'num_layers': 0, 'optimizer': 'Adam', 'adam_lr': 0.025007500000000002, 'epoch': 20}. Best is trial 15 with value: 0.5741229319572448.\u001b[0m\n",
      "\u001b[32m[I 2022-04-20 12:36:19,403]\u001b[0m Trial 44 finished with value: 0.4443504293759664 and parameters: {'num_layers': 1, 'n_units_layer_0': 15, 'dropout_rate_layer_0': 0.5, 'actv_func_layer_0': 'elu', 'optimizer': 'SGD', 'sgd_lr': 0.05000500000000001, 'sgd_momentum': 1e-05, 'epoch': 15}. Best is trial 15 with value: 0.5741229319572448.\u001b[0m\n",
      "\u001b[32m[I 2022-04-20 12:36:29,069]\u001b[0m Trial 32 finished with value: 0.5069602906703949 and parameters: {'num_layers': 1, 'n_units_layer_0': 15, 'dropout_rate_layer_0': 0.5, 'actv_func_layer_0': 'elu', 'optimizer': 'SGD', 'sgd_lr': 0.1, 'sgd_momentum': 1e-05, 'epoch': 35}. Best is trial 15 with value: 0.5741229319572448.\u001b[0m\n",
      "\u001b[32m[I 2022-04-20 12:36:42,191]\u001b[0m Trial 41 finished with value: 0.5101421520113945 and parameters: {'num_layers': 1, 'n_units_layer_0': 35, 'dropout_rate_layer_0': 0.0, 'actv_func_layer_0': 'elu', 'optimizer': 'SGD', 'sgd_lr': 0.0750025, 'sgd_momentum': 0.05000500000000001, 'epoch': 20}. Best is trial 15 with value: 0.5741229319572448.\u001b[0m\n",
      "\u001b[32m[I 2022-04-20 12:36:55,462]\u001b[0m Trial 43 finished with value: 0.48890201598405836 and parameters: {'num_layers': 0, 'optimizer': 'SGD', 'sgd_lr': 0.05000500000000001, 'sgd_momentum': 0.05000500000000001, 'epoch': 20}. Best is trial 15 with value: 0.5741229319572448.\u001b[0m\n",
      "\u001b[32m[I 2022-04-20 12:36:57,304]\u001b[0m Trial 33 finished with value: 0.527767938375473 and parameters: {'num_layers': 1, 'n_units_layer_0': 30, 'dropout_rate_layer_0': 0.125, 'actv_func_layer_0': 'relu', 'optimizer': 'SGD', 'sgd_lr': 0.1, 'sgd_momentum': 0.1, 'epoch': 40}. Best is trial 15 with value: 0.5741229319572448.\u001b[0m\n",
      "\u001b[32m[I 2022-04-20 12:37:09,131]\u001b[0m Trial 30 finished with value: 0.44113912822471724 and parameters: {'num_layers': 0, 'optimizer': 'Adam', 'adam_lr': 0.1, 'epoch': 45}. Best is trial 15 with value: 0.5741229319572448.\u001b[0m\n",
      "\u001b[32m[I 2022-04-20 12:37:38,557]\u001b[0m Trial 38 finished with value: 0.29946845599583216 and parameters: {'num_layers': 0, 'optimizer': 'Adam', 'adam_lr': 0.1, 'epoch': 35}. Best is trial 15 with value: 0.5741229319572448.\u001b[0m\n",
      "\u001b[32m[I 2022-04-20 12:37:43,660]\u001b[0m Trial 47 finished with value: 0.4768640786409378 and parameters: {'num_layers': 1, 'n_units_layer_0': 20, 'dropout_rate_layer_0': 0.5, 'actv_func_layer_0': 'relu', 'optimizer': 'SGD', 'sgd_lr': 0.0750025, 'sgd_momentum': 0.05000500000000001, 'epoch': 25}. Best is trial 15 with value: 0.5741229319572448.\u001b[0m\n",
      "\u001b[32m[I 2022-04-20 12:37:45,606]\u001b[0m Trial 49 finished with value: 0.4888980954885483 and parameters: {'num_layers': 0, 'optimizer': 'SGD', 'sgd_lr': 0.1, 'sgd_momentum': 0.0750025, 'epoch': 20}. Best is trial 15 with value: 0.5741229319572448.\u001b[0m\n",
      "\u001b[32m[I 2022-04-20 12:37:47,857]\u001b[0m Trial 37 finished with value: 0.2555800236412324 and parameters: {'num_layers': 1, 'n_units_layer_0': 30, 'dropout_rate_layer_0': 0.0, 'actv_func_layer_0': 'relu', 'optimizer': 'Adam', 'adam_lr': 1e-05, 'epoch': 40}. Best is trial 15 with value: 0.5741229319572448.\u001b[0m\n",
      "\u001b[32m[I 2022-04-20 12:37:57,496]\u001b[0m Trial 48 finished with value: 0.5316509346167246 and parameters: {'num_layers': 0, 'optimizer': 'Adam', 'adam_lr': 0.05000500000000001, 'epoch': 30}. Best is trial 15 with value: 0.5741229319572448.\u001b[0m\n",
      "\u001b[32m[I 2022-04-20 12:37:59,937]\u001b[0m Trial 42 finished with value: 0.5594882232802255 and parameters: {'num_layers': 1, 'n_units_layer_0': 30, 'dropout_rate_layer_0': 0.0, 'actv_func_layer_0': 'relu', 'optimizer': 'Adam', 'adam_lr': 0.05000500000000001, 'epoch': 35}. Best is trial 15 with value: 0.5741229319572448.\u001b[0m\n",
      "\u001b[32m[I 2022-04-20 12:38:09,873]\u001b[0m Trial 39 finished with value: 0.16854286142107514 and parameters: {'num_layers': 1, 'n_units_layer_0': 20, 'dropout_rate_layer_0': 0.375, 'actv_func_layer_0': 'elu', 'optimizer': 'Adam', 'adam_lr': 0.0750025, 'epoch': 45}. Best is trial 15 with value: 0.5741229319572448.\u001b[0m\n",
      "\u001b[32m[I 2022-04-20 12:38:12,811]\u001b[0m Trial 46 finished with value: 0.4944339162773556 and parameters: {'num_layers': 0, 'optimizer': 'SGD', 'sgd_lr': 0.025007500000000002, 'sgd_momentum': 1e-05, 'epoch': 45}. Best is trial 15 with value: 0.5741229319572448.\u001b[0m\n",
      "\u001b[32m[I 2022-04-20 12:38:16,252]\u001b[0m Trial 45 finished with value: 0.16565466741513873 and parameters: {'num_layers': 1, 'n_units_layer_0': 10, 'dropout_rate_layer_0': 0.375, 'actv_func_layer_0': 'elu', 'optimizer': 'Adam', 'adam_lr': 0.1, 'epoch': 45}. Best is trial 15 with value: 0.5741229319572448.\u001b[0m\n"
     ]
    }
   ],
   "source": [
    "study = optuna.create_study(direction='maximize',\n",
    "                            sampler=optuna.samplers.GridSampler(search_space),\n",
    "                           )\n",
    "study.optimize(lambda trial: objective(trial, df_train),\n",
    "               n_trials=50, n_jobs=-1\n",
    "              )"
   ]
  },
  {
   "cell_type": "code",
   "execution_count": 35,
   "id": "4f4ff646-3d67-4802-b0ed-44dcf1e612b0",
   "metadata": {},
   "outputs": [
    {
     "name": "stdout",
     "output_type": "stream",
     "text": [
      "Best Trial:\n",
      "    Value:  0.5741229319572448\n",
      "    Hyperparameters: \n",
      "        num_layers: 0\n",
      "        optimizer: Adam\n",
      "        adam_lr: 0.05000500000000001\n",
      "        epoch: 25\n"
     ]
    }
   ],
   "source": [
    "print(\"Best Trial:\")\n",
    "best_trial = study.best_trial\n",
    "\n",
    "print(\"    Value: \", best_trial.value)\n",
    "\n",
    "print(\"    Hyperparameters: \")\n",
    "for key, value in best_trial.params.items():\n",
    "    print(f\"        {key}: {value}\")"
   ]
  },
  {
   "cell_type": "code",
   "execution_count": 36,
   "id": "df060d9f-e36c-4618-a684-a3f8e13d8e9d",
   "metadata": {},
   "outputs": [
    {
     "data": {
      "text/plain": [
       "{'num_layers': 0,\n",
       " 'optimizer': 'Adam',\n",
       " 'adam_lr': 0.05000500000000001,\n",
       " 'epoch': 25}"
      ]
     },
     "execution_count": 36,
     "metadata": {},
     "output_type": "execute_result"
    }
   ],
   "source": [
    "best_trial.params"
   ]
  },
  {
   "cell_type": "code",
   "execution_count": 37,
   "id": "edb4989c-1e91-442b-bb40-c02f8acfce2d",
   "metadata": {},
   "outputs": [
    {
     "name": "stdout",
     "output_type": "stream",
     "text": [
      "Model: \"sequential_2\"\n",
      "_________________________________________________________________\n",
      "Layer (type)                 Output Shape              Param #   \n",
      "=================================================================\n",
      "dense_6 (Dense)              (None, 51)                2652      \n",
      "_________________________________________________________________\n",
      "dense_7 (Dense)              (None, 1)                 52        \n",
      "=================================================================\n",
      "Total params: 2,704\n",
      "Trainable params: 2,704\n",
      "Non-trainable params: 0\n",
      "_________________________________________________________________\n",
      "None\n",
      "Epoch 1/25\n",
      "636/636 [==============================] - 3s 4ms/step - loss: 0.2559 - f1_m: 0.3402\n",
      "Epoch 2/25\n",
      "636/636 [==============================] - 2s 3ms/step - loss: 0.2214 - f1_m: 0.5118\n",
      "Epoch 3/25\n",
      "636/636 [==============================] - 2s 3ms/step - loss: 0.2224 - f1_m: 0.5190\n",
      "Epoch 4/25\n",
      "636/636 [==============================] - 2s 3ms/step - loss: 0.2134 - f1_m: 0.5327\n",
      "Epoch 5/25\n",
      "636/636 [==============================] - 2s 3ms/step - loss: 0.2136 - f1_m: 0.5672\n",
      "Epoch 6/25\n",
      "636/636 [==============================] - 2s 3ms/step - loss: 0.2119 - f1_m: 0.5680\n",
      "Epoch 7/25\n",
      "636/636 [==============================] - 2s 3ms/step - loss: 0.2158 - f1_m: 0.5626\n",
      "Epoch 8/25\n",
      "636/636 [==============================] - 2s 3ms/step - loss: 0.2113 - f1_m: 0.5716\n",
      "Epoch 9/25\n",
      "636/636 [==============================] - 2s 3ms/step - loss: 0.2080 - f1_m: 0.5848\n",
      "Epoch 10/25\n",
      "636/636 [==============================] - 2s 3ms/step - loss: 0.2066 - f1_m: 0.5956\n",
      "Epoch 11/25\n",
      "636/636 [==============================] - 2s 4ms/step - loss: 0.2078 - f1_m: 0.5714\n",
      "Epoch 12/25\n",
      "636/636 [==============================] - 2s 4ms/step - loss: 0.2055 - f1_m: 0.5513\n",
      "Epoch 13/25\n",
      "636/636 [==============================] - 2s 4ms/step - loss: 0.2092 - f1_m: 0.5791\n",
      "Epoch 14/25\n",
      "636/636 [==============================] - 2s 4ms/step - loss: 0.2089 - f1_m: 0.5762\n",
      "Epoch 15/25\n",
      "636/636 [==============================] - 3s 4ms/step - loss: 0.2069 - f1_m: 0.5909\n",
      "Epoch 16/25\n",
      "636/636 [==============================] - 2s 4ms/step - loss: 0.2112 - f1_m: 0.5640\n",
      "Epoch 17/25\n",
      "636/636 [==============================] - 2s 4ms/step - loss: 0.2080 - f1_m: 0.5404\n",
      "Epoch 18/25\n",
      "636/636 [==============================] - 2s 3ms/step - loss: 0.2029 - f1_m: 0.5976\n",
      "Epoch 19/25\n",
      "636/636 [==============================] - 2s 4ms/step - loss: 0.2028 - f1_m: 0.5823\n",
      "Epoch 20/25\n",
      "636/636 [==============================] - 3s 4ms/step - loss: 0.2058 - f1_m: 0.5291\n",
      "Epoch 21/25\n",
      "636/636 [==============================] - 2s 3ms/step - loss: 0.2053 - f1_m: 0.5782\n",
      "Epoch 22/25\n",
      "636/636 [==============================] - 2s 3ms/step - loss: 0.2032 - f1_m: 0.5611\n",
      "Epoch 23/25\n",
      "636/636 [==============================] - 2s 3ms/step - loss: 0.2035 - f1_m: 0.5411\n",
      "Epoch 24/25\n",
      "636/636 [==============================] - 2s 3ms/step - loss: 0.1982 - f1_m: 0.5640\n",
      "Epoch 25/25\n",
      "636/636 [==============================] - 2s 3ms/step - loss: 0.2050 - f1_m: 0.5537\n",
      "====================================================================================================\n",
      "F1-Score on Test Data:  0.6102941176470589\n"
     ]
    }
   ],
   "source": [
    "train_and_evaluate_final(df_train, df_test, **best_trial.params)"
   ]
  },
  {
   "cell_type": "markdown",
   "id": "04c8384f-3e14-408d-8d47-e2486e5543c2",
   "metadata": {},
   "source": [
    "# Simulated Annealing"
   ]
  },
  {
   "cell_type": "code",
   "execution_count": 38,
   "id": "839e22a4-477c-4e84-bffa-7d98a02e4ca8",
   "metadata": {
    "tags": []
   },
   "outputs": [
    {
     "name": "stdout",
     "output_type": "stream",
     "text": [
      "<class 'pandas.core.frame.DataFrame'>\n",
      "RangeIndex: 45211 entries, 0 to 45210\n",
      "Data columns (total 17 columns):\n",
      " #   Column     Non-Null Count  Dtype \n",
      "---  ------     --------------  ----- \n",
      " 0   age        45211 non-null  int64 \n",
      " 1   job        45211 non-null  object\n",
      " 2   marital    45211 non-null  object\n",
      " 3   education  45211 non-null  object\n",
      " 4   default    45211 non-null  object\n",
      " 5   balance    45211 non-null  int64 \n",
      " 6   housing    45211 non-null  object\n",
      " 7   loan       45211 non-null  object\n",
      " 8   contact    45211 non-null  object\n",
      " 9   day        45211 non-null  int64 \n",
      " 10  month      45211 non-null  object\n",
      " 11  duration   45211 non-null  int64 \n",
      " 12  campaign   45211 non-null  int64 \n",
      " 13  pdays      45211 non-null  int64 \n",
      " 14  previous   45211 non-null  int64 \n",
      " 15  poutcome   45211 non-null  object\n",
      " 16  y          45211 non-null  object\n",
      "dtypes: int64(7), object(10)\n",
      "memory usage: 5.9+ MB\n"
     ]
    }
   ],
   "source": [
    "df = pd.read_csv(\"train.csv\",sep=\";\")\n",
    "df.info()"
   ]
  },
  {
   "cell_type": "markdown",
   "id": "2f9262f3-57fb-45fa-a8b8-135ca7ba9d04",
   "metadata": {},
   "source": [
    "Convert the target variable to integer"
   ]
  },
  {
   "cell_type": "code",
   "execution_count": 39,
   "id": "f796361c-f4c4-445f-a76f-32fa148259eb",
   "metadata": {},
   "outputs": [],
   "source": [
    "df['y'] = df['y'].map({'yes':1,'no':0})"
   ]
  },
  {
   "cell_type": "markdown",
   "id": "cffe567e-a944-4519-9365-c659595ad0b0",
   "metadata": {},
   "source": [
    "Split full data into train and test data"
   ]
  },
  {
   "cell_type": "code",
   "execution_count": 40,
   "id": "900f7749-6528-4ced-ba9f-f9d2d6f370ba",
   "metadata": {},
   "outputs": [],
   "source": [
    "df_train, df_test = train_test_split(df, test_size=0.1, random_state=0) "
   ]
  },
  {
   "cell_type": "markdown",
   "id": "0ecc5ee1-86f7-4547-89c9-b71a9eba1da9",
   "metadata": {},
   "source": [
    "Get list of numerical features"
   ]
  },
  {
   "cell_type": "code",
   "execution_count": 41,
   "id": "e421e1c6-c3fa-4f24-9bf4-0c585fcaae4b",
   "metadata": {},
   "outputs": [],
   "source": [
    "numerical_feats = list(df_train.drop(columns='y').select_dtypes(include=np.number).columns)"
   ]
  },
  {
   "cell_type": "markdown",
   "id": "4a921585-9421-4f76-9823-940f18e55da9",
   "metadata": {},
   "source": [
    "Get list of categorical features"
   ]
  },
  {
   "cell_type": "code",
   "execution_count": 42,
   "id": "6ed6410e-cb90-4521-936d-b90baeabb13a",
   "metadata": {},
   "outputs": [],
   "source": [
    "categorical_feats = list(df_train.drop(columns='y').select_dtypes(exclude=np.number).columns)"
   ]
  },
  {
   "cell_type": "markdown",
   "id": "e7c9b3d0-fe15-4ee5-a4a8-a305e90233f9",
   "metadata": {},
   "source": [
    "Perform Hyperparameter Tuning with Simulated Annealing"
   ]
  },
  {
   "cell_type": "code",
   "execution_count": 43,
   "id": "93ae776b-6d14-4596-9d48-8fca079809fa",
   "metadata": {},
   "outputs": [],
   "source": [
    "class SimulatedAnnealingSampler(optuna.samplers.BaseSampler):\n",
    "    '''Reference: https://github.com/optuna/optuna-examples/blob/main/samplers/simulated_annealing_sampler.py\n",
    "    '''\n",
    "    def __init__(self, temperature=100, cooldown_factor=0.9, neighbor_range_factor=0.1, seed=None):\n",
    "        self._rng = np.random.RandomState(seed)\n",
    "        self._independent_sampler = optuna.samplers.RandomSampler(seed=seed)\n",
    "        self._temperature = temperature\n",
    "        self.cooldown_factor = cooldown_factor\n",
    "        self.neighbor_range_factor = neighbor_range_factor\n",
    "        self._current_trial = None\n",
    "\n",
    "    def infer_relative_search_space(self, study, trial):\n",
    "        return optuna.samplers.intersection_search_space(study)\n",
    "\n",
    "    def sample_relative(self, study, trial, search_space):\n",
    "        if search_space == {}:\n",
    "            # The relative search space is empty (it means this is the first trial of a study).\n",
    "            return {}\n",
    "\n",
    "        # The rest of this method is an implementation of Simulated Annealing (SA) algorithm.\n",
    "        prev_trial = self._get_last_complete_trial(study)\n",
    "\n",
    "        # Update the current state of SA if the transition is accepted.\n",
    "        if self._rng.uniform(0, 1) <= self._transition_probability(study, prev_trial):\n",
    "            self._current_trial = prev_trial\n",
    "\n",
    "        # Pick a new neighbor (i.e., parameters).\n",
    "        params = self._sample_neighbor_params(search_space)\n",
    "\n",
    "        # Decrease the temperature via geometric cooling annealing schedule.\n",
    "        self._temperature *= self.cooldown_factor\n",
    "\n",
    "        return params\n",
    "\n",
    "    def _sample_neighbor_params(self, search_space):\n",
    "        # Generate a sufficiently near neighbor (i.e., parameters).\n",
    "        #\n",
    "        # In this example, we define a sufficiently near neighbor as\n",
    "        # `self.neighbor_range_factor * 100` percent region of the entire\n",
    "        # search space centered on the current point.\n",
    "\n",
    "        params = {}\n",
    "        for param_name, param_distribution in search_space.items():\n",
    "            if isinstance(param_distribution, optuna.distributions.CategoricalDistribution):\n",
    "                params[param_name] = self._rng.choice(param_distribution.choices)\n",
    "            else:\n",
    "                current_value = self._current_trial.params[param_name]\n",
    "                width = (\n",
    "                    param_distribution.high - param_distribution.low\n",
    "                ) * self.neighbor_range_factor\n",
    "                neighbor_low = max(current_value - width, param_distribution.low)\n",
    "                neighbor_high = min(current_value + width, param_distribution.high)\n",
    "                \n",
    "                if isinstance(param_distribution, optuna.distributions.UniformDistribution):\n",
    "                    params[param_name] = self._rng.uniform(neighbor_low, neighbor_high)\n",
    "                elif isinstance(param_distribution, optuna.distributions.LogUniformDistribution):\n",
    "                    params[param_name] = self._rng.uniform(np.log(max(1e-6,neighbor_low)), np.log(neighbor_high))\n",
    "                elif isinstance(param_distribution, optuna.distributions.DiscreteUniformDistribution):\n",
    "                    params[param_name] = self._rng.choice(np.linspace(neighbor_low, neighbor_high, param_distribution.q))\n",
    "                elif isinstance(param_distribution, optuna.distributions.IntUniformDistribution):\n",
    "                    params[param_name] = self._rng.choice(range(max(int(neighbor_low)-1,param_distribution.low), \n",
    "                                                                min(int(neighbor_high)+1,param_distribution.high), \n",
    "                                                                param_distribution.step))\n",
    "                elif isinstance(param_distribution, optuna.distributions.IntLogUniformDistribution):\n",
    "                    params[param_name] = self._rng.choice(range(max(int(np.log(max(1e-6,neighbor_low)))-1,param_distribution.low), \n",
    "                                                                min(int(np.log(neighbor_high))+1,param_distribution.high), \n",
    "                                                                param_distribution.step))\n",
    "                else:\n",
    "                    raise NotImplementedError(\n",
    "                        \"Unsupported distribution {}.\".format(param_distribution)\n",
    "                    )\n",
    "\n",
    "        return params\n",
    "\n",
    "    def _transition_probability(self, study, prev_trial):\n",
    "        if self._current_trial is None:\n",
    "            return 1.0\n",
    "\n",
    "        prev_value = prev_trial.value\n",
    "        current_value = self._current_trial.value\n",
    "\n",
    "        # `prev_trial` is always accepted if it has a better value than the current trial.\n",
    "        if study.direction == optuna.study.StudyDirection.MINIMIZE and prev_value <= current_value:\n",
    "            return 1.0\n",
    "        elif study.direction == optuna.study.StudyDirection.MAXIMIZE and prev_value >= current_value:\n",
    "            return 1.0\n",
    "\n",
    "        # Calculate the probability of accepting `prev_trial` that has a worse value than\n",
    "        # the current trial.\n",
    "        return np.exp(-abs(current_value - prev_value) / self._temperature)\n",
    "\n",
    "    @staticmethod\n",
    "    def _get_last_complete_trial(study):\n",
    "        complete_trials = study.get_trials(deepcopy=False, states=[optuna.trial.TrialState.COMPLETE])\n",
    "        return complete_trials[-1]\n",
    "\n",
    "    def sample_independent(self, study, trial, param_name, param_distribution):\n",
    "        # In this example, this method is invoked only in the first trial of a study.\n",
    "        # The parameters of the trial are sampled by using `RandomSampler` as follows.\n",
    "        return self._independent_sampler.sample_independent(\n",
    "            study, trial, param_name, param_distribution\n",
    "        )"
   ]
  },
  {
   "cell_type": "code",
   "execution_count": 44,
   "id": "8b52d5d9-9372-4352-b4b7-1ff86c2690d6",
   "metadata": {
    "tags": []
   },
   "outputs": [
    {
     "name": "stderr",
     "output_type": "stream",
     "text": [
      "\u001b[32m[I 2022-04-20 12:50:25,703]\u001b[0m A new study created in memory with name: no-name-7c5345e3-0d4d-4897-9931-ed0e4736711b\u001b[0m\n"
     ]
    },
    {
     "name": "stdout",
     "output_type": "stream",
     "text": [
      "WARNING:tensorflow:5 out of the last 32 calls to <function Model.make_train_function.<locals>.train_function at 0x7f44b8cde5f0> triggered tf.function retracing. Tracing is expensive and the excessive number of tracings could be due to (1) creating @tf.function repeatedly in a loop, (2) passing tensors with different shapes, (3) passing Python objects instead of tensors. For (1), please define your @tf.function outside of the loop. For (2), @tf.function has experimental_relax_shapes=True option that relaxes argument shapes that can avoid unnecessary retracing. For (3), please refer to https://www.tensorflow.org/guide/function#controlling_retracing and https://www.tensorflow.org/api_docs/python/tf/function for  more details.\n",
      "WARNING:tensorflow:6 out of the last 34 calls to <function Model.make_train_function.<locals>.train_function at 0x7f44f80180e0> triggered tf.function retracing. Tracing is expensive and the excessive number of tracings could be due to (1) creating @tf.function repeatedly in a loop, (2) passing tensors with different shapes, (3) passing Python objects instead of tensors. For (1), please define your @tf.function outside of the loop. For (2), @tf.function has experimental_relax_shapes=True option that relaxes argument shapes that can avoid unnecessary retracing. For (3), please refer to https://www.tensorflow.org/guide/function#controlling_retracing and https://www.tensorflow.org/api_docs/python/tf/function for  more details.\n"
     ]
    },
    {
     "name": "stderr",
     "output_type": "stream",
     "text": [
      "\u001b[32m[I 2022-04-20 12:53:22,100]\u001b[0m Trial 4 finished with value: 0.21750324269135793 and parameters: {'num_layers': 2, 'n_units_layer_0': 40, 'dropout_rate_layer_0': 0.30138168803582194, 'actv_func_layer_0': 'elu', 'n_units_layer_1': 10, 'dropout_rate_layer_1': 0.3281647947326367, 'actv_func_layer_1': 'elu', 'optimizer': 'SGD', 'sgd_lr': 1.6494986078992885e-05, 'sgd_momentum': 6.30937149822963e-05, 'epoch': 15}. Best is trial 4 with value: 0.21750324269135793.\u001b[0m\n",
      "\u001b[32m[I 2022-04-20 12:53:42,698]\u001b[0m Trial 5 finished with value: 0.19734012045794064 and parameters: {'num_layers': 0, 'optimizer': 'SGD', 'sgd_lr': 6.94272949243014e-05, 'sgd_momentum': 3.2787264983352775e-05, 'epoch': 18}. Best is trial 4 with value: 0.21750324269135793.\u001b[0m\n",
      "\u001b[32m[I 2022-04-20 12:53:47,306]\u001b[0m Trial 14 finished with value: 0.07093937810072128 and parameters: {'num_layers': 2, 'n_units_layer_0': 35, 'dropout_rate_layer_0': 0.1326947454697227, 'actv_func_layer_0': 'relu', 'n_units_layer_1': 25, 'dropout_rate_layer_1': 0.4482732979255315, 'actv_func_layer_1': 'tanh', 'optimizer': 'Adam', 'adam_lr': 1.2552057312500426e-05, 'epoch': 17}. Best is trial 4 with value: 0.21750324269135793.\u001b[0m\n",
      "\u001b[32m[I 2022-04-20 12:54:35,609]\u001b[0m Trial 3 finished with value: 0.008815675707800048 and parameters: {'num_layers': 2, 'n_units_layer_0': 20, 'dropout_rate_layer_0': 0.30900771449942077, 'actv_func_layer_0': 'relu', 'n_units_layer_1': 45, 'dropout_rate_layer_1': 0.11196234403019006, 'actv_func_layer_1': 'tanh', 'optimizer': 'SGD', 'sgd_lr': 0.00012421331125082424, 'sgd_momentum': 0.015566369519236916, 'epoch': 21}. Best is trial 4 with value: 0.21750324269135793.\u001b[0m\n",
      "\u001b[32m[I 2022-04-20 12:54:50,566]\u001b[0m Trial 6 finished with value: 0.47838344221765344 and parameters: {'num_layers': 3, 'n_units_layer_0': 35, 'dropout_rate_layer_0': 0.36963178969915084, 'actv_func_layer_0': 'tanh', 'n_units_layer_1': 50, 'dropout_rate_layer_1': 0.07472415232899687, 'actv_func_layer_1': 'relu', 'n_units_layer_2': 50, 'dropout_rate_layer_2': 0.306982977982948, 'actv_func_layer_2': 'elu', 'optimizer': 'SGD', 'sgd_lr': 0.03860869942155797, 'sgd_momentum': 0.09148624225979633, 'epoch': 22}. Best is trial 6 with value: 0.47838344221765344.\u001b[0m\n",
      "\u001b[32m[I 2022-04-20 12:55:38,838]\u001b[0m Trial 11 finished with value: 0.43004727370812207 and parameters: {'num_layers': 0, 'optimizer': 'Adam', 'adam_lr': 7.804166575000091e-05, 'epoch': 29}. Best is trial 6 with value: 0.47838344221765344.\u001b[0m\n",
      "\u001b[32m[I 2022-04-20 12:56:06,262]\u001b[0m Trial 2 finished with value: 0.37202351855049876 and parameters: {'num_layers': 2, 'n_units_layer_0': 15, 'dropout_rate_layer_0': 0.47233445852479194, 'actv_func_layer_0': 'relu', 'n_units_layer_1': 20, 'dropout_rate_layer_1': 0.1818553854713113, 'actv_func_layer_1': 'elu', 'optimizer': 'SGD', 'sgd_lr': 0.01695414272670427, 'sgd_momentum': 0.0018897439101113152, 'epoch': 29}. Best is trial 6 with value: 0.47838344221765344.\u001b[0m\n",
      "\u001b[32m[I 2022-04-20 12:56:14,553]\u001b[0m Trial 16 finished with value: 0.3511540722412368 and parameters: {'num_layers': 1, 'n_units_layer_0': 35, 'dropout_rate_layer_0': 0.31165802564298634, 'actv_func_layer_0': 'tanh', 'optimizer': 'Adam', 'adam_lr': 0.06473909557586699, 'epoch': 15}. Best is trial 6 with value: 0.47838344221765344.\u001b[0m\n",
      "\u001b[32m[I 2022-04-20 12:56:37,877]\u001b[0m Trial 17 finished with value: 0.5398115143179893 and parameters: {'num_layers': 0, 'optimizer': 'Adam', 'adam_lr': 0.005622806077189909, 'epoch': 16}. Best is trial 17 with value: 0.5398115143179893.\u001b[0m\n",
      "\u001b[32m[I 2022-04-20 12:56:52,527]\u001b[0m Trial 18 finished with value: 0.5405996199697256 and parameters: {'num_layers': 1, 'n_units_layer_0': 15, 'dropout_rate_layer_0': 0.4736852952444621, 'actv_func_layer_0': 'relu', 'optimizer': 'Adam', 'adam_lr': 0.0011825046459693562, 'epoch': 16}. Best is trial 18 with value: 0.5405996199697256.\u001b[0m\n",
      "\u001b[32m[I 2022-04-20 12:57:00,050]\u001b[0m Trial 9 finished with value: 0.5212651416659355 and parameters: {'num_layers': 0, 'optimizer': 'Adam', 'adam_lr': 0.002012732142826834, 'epoch': 36}. Best is trial 18 with value: 0.5405996199697256.\u001b[0m\n",
      "\u001b[32m[I 2022-04-20 12:57:35,325]\u001b[0m Trial 15 finished with value: 0.2657801331952214 and parameters: {'num_layers': 3, 'n_units_layer_0': 35, 'dropout_rate_layer_0': 0.21192752427908984, 'actv_func_layer_0': 'relu', 'n_units_layer_1': 50, 'dropout_rate_layer_1': 0.4279016711963055, 'actv_func_layer_1': 'elu', 'n_units_layer_2': 40, 'dropout_rate_layer_2': 0.24522940430878354, 'actv_func_layer_2': 'tanh', 'optimizer': 'Adam', 'adam_lr': 1.20949477863958e-05, 'epoch': 36}. Best is trial 18 with value: 0.5405996199697256.\u001b[0m\n",
      "\u001b[32m[I 2022-04-20 12:57:58,105]\u001b[0m Trial 20 finished with value: 0.5058310098118253 and parameters: {'num_layers': 0, 'optimizer': 'Adam', 'adam_lr': 0.0004997374253723232, 'epoch': 18}. Best is trial 18 with value: 0.5405996199697256.\u001b[0m\n",
      "\u001b[32m[I 2022-04-20 12:58:04,634]\u001b[0m Trial 19 finished with value: 0.23795632943511008 and parameters: {'num_layers': 0, 'optimizer': 'SGD', 'sgd_lr': 1.2666332145532829e-05, 'sgd_momentum': 6.758966622072009e-05, 'epoch': 20}. Best is trial 18 with value: 0.5405996199697256.\u001b[0m\n",
      "\u001b[32m[I 2022-04-20 12:58:08,559]\u001b[0m Trial 12 finished with value: 0.5558179441170815 and parameters: {'num_layers': 3, 'n_units_layer_0': 30, 'dropout_rate_layer_0': 0.28421697443432425, 'actv_func_layer_0': 'tanh', 'n_units_layer_1': 20, 'dropout_rate_layer_1': 0.05936385947712203, 'actv_func_layer_1': 'tanh', 'n_units_layer_2': 25, 'dropout_rate_layer_2': 0.2179324626328134, 'actv_func_layer_2': 'relu', 'optimizer': 'Adam', 'adam_lr': 0.006100619734336806, 'epoch': 39}. Best is trial 12 with value: 0.5558179441170815.\u001b[0m\n",
      "\u001b[32m[I 2022-04-20 12:58:26,939]\u001b[0m Trial 0 finished with value: 0.021138830988837235 and parameters: {'num_layers': 1, 'n_units_layer_0': 50, 'dropout_rate_layer_0': 0.48183138025051464, 'actv_func_layer_0': 'tanh', 'optimizer': 'SGD', 'sgd_lr': 0.0001437554676473176, 'sgd_momentum': 5.404623534323798e-05, 'epoch': 44}. Best is trial 12 with value: 0.5558179441170815.\u001b[0m\n",
      "\u001b[32m[I 2022-04-20 12:58:45,686]\u001b[0m Trial 21 finished with value: 0.23821373946136898 and parameters: {'num_layers': 1, 'n_units_layer_0': 25, 'dropout_rate_layer_0': 0.23178771218240535, 'actv_func_layer_0': 'elu', 'optimizer': 'SGD', 'sgd_lr': 2.9520752510469826e-05, 'sgd_momentum': 0.0011735900765542573, 'epoch': 18}. Best is trial 12 with value: 0.5558179441170815.\u001b[0m\n",
      "\u001b[32m[I 2022-04-20 12:58:48,798]\u001b[0m Trial 22 finished with value: 0.22682751063257456 and parameters: {'num_layers': 0, 'optimizer': 'SGD', 'sgd_lr': 3.3749894949802686e-05, 'sgd_momentum': 0.007369511905048896, 'epoch': 16}. Best is trial 12 with value: 0.5558179441170815.\u001b[0m\n",
      "\u001b[32m[I 2022-04-20 12:58:52,201]\u001b[0m Trial 10 finished with value: 0.41760720328792283 and parameters: {'num_layers': 1, 'n_units_layer_0': 45, 'dropout_rate_layer_0': 0.26444745987645224, 'actv_func_layer_0': 'tanh', 'optimizer': 'SGD', 'sgd_lr': 0.006279384856082839, 'sgd_momentum': 0.00015479174758692088, 'epoch': 46}. Best is trial 12 with value: 0.5558179441170815.\u001b[0m\n",
      "\u001b[32m[I 2022-04-20 12:59:01,928]\u001b[0m Trial 7 finished with value: 0.19377555797362458 and parameters: {'num_layers': 2, 'n_units_layer_0': 50, 'dropout_rate_layer_0': 0.3409101495517417, 'actv_func_layer_0': 'elu', 'n_units_layer_1': 10, 'dropout_rate_layer_1': 0.41447001460868155, 'actv_func_layer_1': 'tanh', 'optimizer': 'SGD', 'sgd_lr': 0.0006518846138733343, 'sgd_momentum': 0.007730763684620935, 'epoch': 46}. Best is trial 12 with value: 0.5558179441170815.\u001b[0m\n",
      "\u001b[32m[I 2022-04-20 12:59:05,329]\u001b[0m Trial 23 finished with value: 0.040520830846884674 and parameters: {'num_layers': 0, 'optimizer': 'SGD', 'sgd_lr': 0.0003839182976729179, 'sgd_momentum': 0.0018267757904374515, 'epoch': 17}. Best is trial 12 with value: 0.5558179441170815.\u001b[0m\n",
      "\u001b[32m[I 2022-04-20 12:59:05,492]\u001b[0m Trial 13 finished with value: 0.012567944083438844 and parameters: {'num_layers': 0, 'optimizer': 'SGD', 'sgd_lr': 9.885817165390816e-05, 'sgd_momentum': 0.002016644460134975, 'epoch': 49}. Best is trial 12 with value: 0.5558179441170815.\u001b[0m\n",
      "\u001b[32m[I 2022-04-20 12:59:06,182]\u001b[0m Trial 1 finished with value: 0.5470416254617951 and parameters: {'num_layers': 3, 'n_units_layer_0': 10, 'dropout_rate_layer_0': 0.41897245374940195, 'actv_func_layer_0': 'tanh', 'n_units_layer_1': 35, 'dropout_rate_layer_1': 0.2954363806240866, 'actv_func_layer_1': 'tanh', 'n_units_layer_2': 10, 'dropout_rate_layer_2': 0.08234707824895637, 'actv_func_layer_2': 'relu', 'optimizer': 'Adam', 'adam_lr': 0.0003418657371948145, 'epoch': 44}. Best is trial 12 with value: 0.5558179441170815.\u001b[0m\n",
      "\u001b[32m[I 2022-04-20 12:59:19,221]\u001b[0m Trial 25 finished with value: 0.5008522033691406 and parameters: {'num_layers': 0, 'optimizer': 'Adam', 'adam_lr': 0.000895829010664704, 'epoch': 15}. Best is trial 12 with value: 0.5558179441170815.\u001b[0m\n",
      "\u001b[32m[I 2022-04-20 12:59:28,326]\u001b[0m Trial 26 finished with value: 0.10603041872382164 and parameters: {'num_layers': 1, 'n_units_layer_0': 25, 'dropout_rate_layer_0': 0.4702159726264065, 'actv_func_layer_0': 'elu', 'optimizer': 'SGD', 'sgd_lr': 2.156203475705173e-05, 'sgd_momentum': 0.0016172228900997636, 'epoch': 15}. Best is trial 12 with value: 0.5558179441170815.\u001b[0m\n",
      "\u001b[32m[I 2022-04-20 12:59:31,232]\u001b[0m Trial 8 finished with value: 0.006524942204123363 and parameters: {'num_layers': 3, 'n_units_layer_0': 50, 'dropout_rate_layer_0': 0.3995792821083618, 'actv_func_layer_0': 'tanh', 'n_units_layer_1': 15, 'dropout_rate_layer_1': 0.3265541627326992, 'actv_func_layer_1': 'tanh', 'n_units_layer_2': 35, 'dropout_rate_layer_2': 0.4408676809274264, 'actv_func_layer_2': 'tanh', 'optimizer': 'SGD', 'sgd_lr': 6.908360556635793e-05, 'sgd_momentum': 5.556125201132273e-05, 'epoch': 48}. Best is trial 12 with value: 0.5558179441170815.\u001b[0m\n",
      "\u001b[32m[I 2022-04-20 12:59:32,547]\u001b[0m Trial 24 finished with value: 0.05421161085056762 and parameters: {'num_layers': 0, 'optimizer': 'SGD', 'sgd_lr': 5.409029435654828e-05, 'sgd_momentum': 3.796566727868298e-05, 'epoch': 18}. Best is trial 12 with value: 0.5558179441170815.\u001b[0m\n",
      "\u001b[32m[I 2022-04-20 13:00:07,007]\u001b[0m Trial 27 finished with value: 0.021276178769767284 and parameters: {'num_layers': 1, 'n_units_layer_0': 35, 'dropout_rate_layer_0': 0.4809681892736145, 'actv_func_layer_0': 'relu', 'optimizer': 'Adam', 'adam_lr': 1.1633717625636607e-05, 'epoch': 16}. Best is trial 12 with value: 0.5558179441170815.\u001b[0m\n",
      "\u001b[32m[I 2022-04-20 13:00:15,879]\u001b[0m Trial 28 finished with value: 0.48792656461397804 and parameters: {'num_layers': 0, 'optimizer': 'SGD', 'sgd_lr': 0.05225372642279875, 'sgd_momentum': 0.004782623421660678, 'epoch': 15}. Best is trial 12 with value: 0.5558179441170815.\u001b[0m\n",
      "\u001b[32m[I 2022-04-20 13:00:33,217]\u001b[0m Trial 29 finished with value: 0.4143398702144623 and parameters: {'num_layers': 0, 'optimizer': 'SGD', 'sgd_lr': 0.013823297284934503, 'sgd_momentum': 0.00013394312372333944, 'epoch': 16}. Best is trial 12 with value: 0.5558179441170815.\u001b[0m\n",
      "\u001b[32m[I 2022-04-20 13:00:46,112]\u001b[0m Trial 31 finished with value: 0.2452800581852595 and parameters: {'num_layers': 0, 'optimizer': 'SGD', 'sgd_lr': 1.8022750248691577e-05, 'sgd_momentum': 0.000876012662356197, 'epoch': 15}. Best is trial 12 with value: 0.5558179441170815.\u001b[0m\n",
      "\u001b[32m[I 2022-04-20 13:00:52,041]\u001b[0m Trial 30 finished with value: 0.5125693480173746 and parameters: {'num_layers': 0, 'optimizer': 'Adam', 'adam_lr': 0.002216361843149627, 'epoch': 18}. Best is trial 12 with value: 0.5558179441170815.\u001b[0m\n",
      "\u001b[32m[I 2022-04-20 13:01:17,050]\u001b[0m Trial 32 finished with value: 0.3968001464381814 and parameters: {'num_layers': 1, 'n_units_layer_0': 50, 'dropout_rate_layer_0': 0.4382526226582954, 'actv_func_layer_0': 'tanh', 'optimizer': 'Adam', 'adam_lr': 0.06270111872501642, 'epoch': 16}. Best is trial 12 with value: 0.5558179441170815.\u001b[0m\n",
      "\u001b[32m[I 2022-04-20 13:01:27,857]\u001b[0m Trial 38 finished with value: 0.25724005021038465 and parameters: {'num_layers': 0, 'optimizer': 'Adam', 'adam_lr': 3.913482929614148e-05, 'epoch': 16}. Best is trial 12 with value: 0.5558179441170815.\u001b[0m\n",
      "\u001b[32m[I 2022-04-20 13:01:32,397]\u001b[0m Trial 39 finished with value: 0.47094258666038513 and parameters: {'num_layers': 0, 'optimizer': 'SGD', 'sgd_lr': 0.08458971452037944, 'sgd_momentum': 0.0008193722060680361, 'epoch': 15}. Best is trial 12 with value: 0.5558179441170815.\u001b[0m\n",
      "\u001b[32m[I 2022-04-20 13:01:40,529]\u001b[0m Trial 33 finished with value: 0.5081055807439905 and parameters: {'num_layers': 0, 'optimizer': 'SGD', 'sgd_lr': 0.05827882926105685, 'sgd_momentum': 0.015732956772590574, 'epoch': 19}. Best is trial 12 with value: 0.5558179441170815.\u001b[0m\n",
      "\u001b[32m[I 2022-04-20 13:01:43,546]\u001b[0m Trial 34 finished with value: 0.31646635657862615 and parameters: {'num_layers': 0, 'optimizer': 'SGD', 'sgd_lr': 0.003325000748980904, 'sgd_momentum': 0.03141607076383164, 'epoch': 19}. Best is trial 12 with value: 0.5558179441170815.\u001b[0m\n",
      "\u001b[32m[I 2022-04-20 13:01:44,801]\u001b[0m Trial 42 finished with value: 0.0430343427695334 and parameters: {'num_layers': 0, 'optimizer': 'SGD', 'sgd_lr': 0.00029808383466448915, 'sgd_momentum': 3.5285890879221215e-05, 'epoch': 15}. Best is trial 12 with value: 0.5558179441170815.\u001b[0m\n",
      "\u001b[32m[I 2022-04-20 13:01:48,147]\u001b[0m Trial 40 finished with value: 0.5123721640557051 and parameters: {'num_layers': 0, 'optimizer': 'Adam', 'adam_lr': 0.0009762599247688781, 'epoch': 16}. Best is trial 12 with value: 0.5558179441170815.\u001b[0m\n",
      "\u001b[32m[I 2022-04-20 13:01:48,392]\u001b[0m Trial 35 finished with value: 0.46111007191632924 and parameters: {'num_layers': 0, 'optimizer': 'Adam', 'adam_lr': 0.00014862132814482374, 'epoch': 19}. Best is trial 12 with value: 0.5558179441170815.\u001b[0m\n",
      "\u001b[32m[I 2022-04-20 13:01:48,636]\u001b[0m Trial 41 finished with value: 0.5194288734346628 and parameters: {'num_layers': 0, 'optimizer': 'Adam', 'adam_lr': 0.0036131838933829287, 'epoch': 16}. Best is trial 12 with value: 0.5558179441170815.\u001b[0m\n",
      "\u001b[32m[I 2022-04-20 13:01:49,855]\u001b[0m Trial 36 finished with value: 0.4718560748978665 and parameters: {'num_layers': 0, 'optimizer': 'SGD', 'sgd_lr': 0.024875637604042617, 'sgd_momentum': 0.0029614661139648222, 'epoch': 19}. Best is trial 12 with value: 0.5558179441170815.\u001b[0m\n",
      "\u001b[32m[I 2022-04-20 13:01:53,584]\u001b[0m Trial 37 finished with value: 0.35955686271190646 and parameters: {'num_layers': 0, 'optimizer': 'SGD', 'sgd_lr': 1.1296591673520513e-05, 'sgd_momentum': 0.00024486914889045025, 'epoch': 20}. Best is trial 12 with value: 0.5558179441170815.\u001b[0m\n",
      "\u001b[32m[I 2022-04-20 13:02:02,740]\u001b[0m Trial 43 finished with value: 0.4715807378292084 and parameters: {'num_layers': 1, 'n_units_layer_0': 45, 'dropout_rate_layer_0': 0.09492395595137898, 'actv_func_layer_0': 'relu', 'optimizer': 'SGD', 'sgd_lr': 0.02810386623462908, 'sgd_momentum': 0.07792520547218491, 'epoch': 15}. Best is trial 12 with value: 0.5558179441170815.\u001b[0m\n",
      "\u001b[32m[I 2022-04-20 13:02:09,850]\u001b[0m Trial 44 finished with value: 0.48472316300167756 and parameters: {'num_layers': 0, 'optimizer': 'SGD', 'sgd_lr': 0.06971699062287948, 'sgd_momentum': 0.04228847236229714, 'epoch': 17}. Best is trial 12 with value: 0.5558179441170815.\u001b[0m\n",
      "\u001b[32m[I 2022-04-20 13:02:14,427]\u001b[0m Trial 45 finished with value: 0.42105308175086975 and parameters: {'num_layers': 0, 'optimizer': 'SGD', 'sgd_lr': 0.012479274299682564, 'sgd_momentum': 0.0002150703828074555, 'epoch': 17}. Best is trial 12 with value: 0.5558179441170815.\u001b[0m\n",
      "\u001b[32m[I 2022-04-20 13:02:17,607]\u001b[0m Trial 47 finished with value: 0.024854614728075618 and parameters: {'num_layers': 0, 'optimizer': 'SGD', 'sgd_lr': 0.0004255638073105697, 'sgd_momentum': 8.490564561872215e-05, 'epoch': 17}. Best is trial 12 with value: 0.5558179441170815.\u001b[0m\n",
      "\u001b[32m[I 2022-04-20 13:02:18,567]\u001b[0m Trial 46 finished with value: 0.22619466524985102 and parameters: {'num_layers': 0, 'optimizer': 'Adam', 'adam_lr': 2.1105981831434933e-05, 'epoch': 18}. Best is trial 12 with value: 0.5558179441170815.\u001b[0m\n",
      "\u001b[32m[I 2022-04-20 13:02:21,157]\u001b[0m Trial 48 finished with value: 0.24063556422205531 and parameters: {'num_layers': 0, 'optimizer': 'SGD', 'sgd_lr': 3.388055680236167e-05, 'sgd_momentum': 1.6357191085058403e-05, 'epoch': 17}. Best is trial 12 with value: 0.5558179441170815.\u001b[0m\n",
      "\u001b[32m[I 2022-04-20 13:02:21,929]\u001b[0m Trial 49 finished with value: 0.37109727018019734 and parameters: {'num_layers': 0, 'optimizer': 'SGD', 'sgd_lr': 0.007986885470785311, 'sgd_momentum': 1.1109891932063717e-05, 'epoch': 17}. Best is trial 12 with value: 0.5558179441170815.\u001b[0m\n"
     ]
    }
   ],
   "source": [
    "study = optuna.create_study(direction='maximize',\n",
    "                            sampler=SimulatedAnnealingSampler(seed=0),\n",
    "                           )\n",
    "study.optimize(lambda trial: objective(trial, df_train),\n",
    "               n_trials=50, n_jobs=-1\n",
    "              )"
   ]
  },
  {
   "cell_type": "code",
   "execution_count": 45,
   "id": "5d64f258-119f-4e2a-863e-1db7ff7f8855",
   "metadata": {},
   "outputs": [
    {
     "name": "stdout",
     "output_type": "stream",
     "text": [
      "Best Trial:\n",
      "    Value:  0.5558179441170815\n",
      "    Hyperparameters: \n",
      "        num_layers: 3\n",
      "        n_units_layer_0: 30\n",
      "        dropout_rate_layer_0: 0.28421697443432425\n",
      "        actv_func_layer_0: tanh\n",
      "        n_units_layer_1: 20\n",
      "        dropout_rate_layer_1: 0.05936385947712203\n",
      "        actv_func_layer_1: tanh\n",
      "        n_units_layer_2: 25\n",
      "        dropout_rate_layer_2: 0.2179324626328134\n",
      "        actv_func_layer_2: relu\n",
      "        optimizer: Adam\n",
      "        adam_lr: 0.006100619734336806\n",
      "        epoch: 39\n"
     ]
    }
   ],
   "source": [
    "print(\"Best Trial:\")\n",
    "best_trial = study.best_trial\n",
    "\n",
    "print(\"    Value: \", best_trial.value)\n",
    "\n",
    "print(\"    Hyperparameters: \")\n",
    "for key, value in best_trial.params.items():\n",
    "    print(f\"        {key}: {value}\")"
   ]
  },
  {
   "cell_type": "code",
   "execution_count": 46,
   "id": "30014d8a-4168-4f36-9851-6b0925545ac7",
   "metadata": {},
   "outputs": [
    {
     "data": {
      "text/plain": [
       "{'num_layers': 3,\n",
       " 'n_units_layer_0': 30,\n",
       " 'dropout_rate_layer_0': 0.28421697443432425,\n",
       " 'actv_func_layer_0': 'tanh',\n",
       " 'n_units_layer_1': 20,\n",
       " 'dropout_rate_layer_1': 0.05936385947712203,\n",
       " 'actv_func_layer_1': 'tanh',\n",
       " 'n_units_layer_2': 25,\n",
       " 'dropout_rate_layer_2': 0.2179324626328134,\n",
       " 'actv_func_layer_2': 'relu',\n",
       " 'optimizer': 'Adam',\n",
       " 'adam_lr': 0.006100619734336806,\n",
       " 'epoch': 39}"
      ]
     },
     "execution_count": 46,
     "metadata": {},
     "output_type": "execute_result"
    }
   ],
   "source": [
    "best_trial.params"
   ]
  },
  {
   "cell_type": "code",
   "execution_count": 47,
   "id": "62bd59e3-e2ef-496e-b1ac-f1d298e0143e",
   "metadata": {},
   "outputs": [
    {
     "name": "stdout",
     "output_type": "stream",
     "text": [
      "Model: \"sequential_3\"\n",
      "_________________________________________________________________\n",
      "Layer (type)                 Output Shape              Param #   \n",
      "=================================================================\n",
      "dense_8 (Dense)              (None, 51)                2652      \n",
      "_________________________________________________________________\n",
      "dropout_2 (Dropout)          (None, 51)                0         \n",
      "_________________________________________________________________\n",
      "dense_9 (Dense)              (None, 30)                1560      \n",
      "_________________________________________________________________\n",
      "dropout_3 (Dropout)          (None, 30)                0         \n",
      "_________________________________________________________________\n",
      "dense_10 (Dense)             (None, 20)                620       \n",
      "_________________________________________________________________\n",
      "dropout_4 (Dropout)          (None, 20)                0         \n",
      "_________________________________________________________________\n",
      "dense_11 (Dense)             (None, 25)                525       \n",
      "_________________________________________________________________\n",
      "dense_12 (Dense)             (None, 1)                 26        \n",
      "=================================================================\n",
      "Total params: 5,383\n",
      "Trainable params: 5,383\n",
      "Non-trainable params: 0\n",
      "_________________________________________________________________\n",
      "None\n",
      "Epoch 1/39\n",
      "636/636 [==============================] - 7s 10ms/step - loss: 0.2669 - f1_m: 0.3495\n",
      "Epoch 2/39\n",
      "636/636 [==============================] - 6s 9ms/step - loss: 0.2237 - f1_m: 0.5038\n",
      "Epoch 3/39\n",
      "636/636 [==============================] - 7s 12ms/step - loss: 0.2171 - f1_m: 0.4873\n",
      "Epoch 4/39\n",
      "636/636 [==============================] - 5s 8ms/step - loss: 0.2153 - f1_m: 0.5119\n",
      "Epoch 5/39\n",
      "636/636 [==============================] - 9s 14ms/step - loss: 0.2160 - f1_m: 0.5192\n",
      "Epoch 6/39\n",
      "636/636 [==============================] - 5s 8ms/step - loss: 0.2103 - f1_m: 0.5324\n",
      "Epoch 7/39\n",
      "636/636 [==============================] - 5s 8ms/step - loss: 0.2060 - f1_m: 0.5470\n",
      "Epoch 8/39\n",
      "636/636 [==============================] - 5s 7ms/step - loss: 0.2087 - f1_m: 0.5181\n",
      "Epoch 9/39\n",
      "636/636 [==============================] - 4s 6ms/step - loss: 0.2004 - f1_m: 0.5445\n",
      "Epoch 10/39\n",
      "636/636 [==============================] - 5s 8ms/step - loss: 0.2003 - f1_m: 0.5700\n",
      "Epoch 11/39\n",
      "636/636 [==============================] - 4s 6ms/step - loss: 0.1997 - f1_m: 0.5488\n",
      "Epoch 12/39\n",
      "636/636 [==============================] - 3s 5ms/step - loss: 0.1949 - f1_m: 0.5311\n",
      "Epoch 13/39\n",
      "636/636 [==============================] - 3s 5ms/step - loss: 0.1976 - f1_m: 0.5443\n",
      "Epoch 14/39\n",
      "636/636 [==============================] - 3s 4ms/step - loss: 0.1927 - f1_m: 0.5330\n",
      "Epoch 15/39\n",
      "636/636 [==============================] - 3s 5ms/step - loss: 0.1977 - f1_m: 0.5468\n",
      "Epoch 16/39\n",
      "636/636 [==============================] - 3s 5ms/step - loss: 0.1981 - f1_m: 0.5464\n",
      "Epoch 17/39\n",
      "636/636 [==============================] - 3s 5ms/step - loss: 0.1994 - f1_m: 0.5375\n",
      "Epoch 18/39\n",
      "636/636 [==============================] - 3s 5ms/step - loss: 0.1994 - f1_m: 0.5508\n",
      "Epoch 19/39\n",
      "636/636 [==============================] - 3s 5ms/step - loss: 0.2016 - f1_m: 0.5553\n",
      "Epoch 20/39\n",
      "636/636 [==============================] - 3s 5ms/step - loss: 0.1994 - f1_m: 0.5688\n",
      "Epoch 21/39\n",
      "636/636 [==============================] - 3s 5ms/step - loss: 0.1931 - f1_m: 0.5417\n",
      "Epoch 22/39\n",
      "636/636 [==============================] - 3s 5ms/step - loss: 0.1975 - f1_m: 0.5478\n",
      "Epoch 23/39\n",
      "636/636 [==============================] - 3s 5ms/step - loss: 0.1934 - f1_m: 0.5573\n",
      "Epoch 24/39\n",
      "636/636 [==============================] - 3s 5ms/step - loss: 0.1946 - f1_m: 0.5685\n",
      "Epoch 25/39\n",
      "636/636 [==============================] - 3s 5ms/step - loss: 0.1926 - f1_m: 0.5632\n",
      "Epoch 26/39\n",
      "636/636 [==============================] - 4s 6ms/step - loss: 0.2001 - f1_m: 0.5468\n",
      "Epoch 27/39\n",
      "636/636 [==============================] - 4s 6ms/step - loss: 0.1937 - f1_m: 0.5639\n",
      "Epoch 28/39\n",
      "636/636 [==============================] - 4s 6ms/step - loss: 0.1940 - f1_m: 0.5767\n",
      "Epoch 29/39\n",
      "636/636 [==============================] - 4s 6ms/step - loss: 0.1948 - f1_m: 0.5876\n",
      "Epoch 30/39\n",
      "636/636 [==============================] - 4s 6ms/step - loss: 0.1917 - f1_m: 0.5715\n",
      "Epoch 31/39\n",
      "636/636 [==============================] - 4s 6ms/step - loss: 0.1916 - f1_m: 0.5658\n",
      "Epoch 32/39\n",
      "636/636 [==============================] - 4s 6ms/step - loss: 0.1938 - f1_m: 0.5758\n",
      "Epoch 33/39\n",
      "636/636 [==============================] - 6s 9ms/step - loss: 0.1931 - f1_m: 0.5526\n",
      "Epoch 34/39\n",
      "636/636 [==============================] - 4s 6ms/step - loss: 0.1965 - f1_m: 0.5710\n",
      "Epoch 35/39\n",
      "636/636 [==============================] - 3s 5ms/step - loss: 0.1914 - f1_m: 0.5792\n",
      "Epoch 36/39\n",
      "636/636 [==============================] - 4s 7ms/step - loss: 0.1926 - f1_m: 0.5783\n",
      "Epoch 37/39\n",
      "636/636 [==============================] - 4s 6ms/step - loss: 0.1916 - f1_m: 0.5618\n",
      "Epoch 38/39\n",
      "636/636 [==============================] - 4s 6ms/step - loss: 0.1992 - f1_m: 0.5426\n",
      "Epoch 39/39\n",
      "636/636 [==============================] - 4s 6ms/step - loss: 0.1965 - f1_m: 0.5577\n",
      "====================================================================================================\n",
      "F1-Score on Test Data:  0.5596620908130939\n"
     ]
    }
   ],
   "source": [
    "train_and_evaluate_final(df_train, df_test, **best_trial.params)"
   ]
  },
  {
   "cell_type": "markdown",
   "id": "4351b97c-dac3-4aed-936b-55d145c6140a",
   "metadata": {},
   "source": [
    "# Successive Halving + Random Search"
   ]
  },
  {
   "cell_type": "code",
   "execution_count": 48,
   "id": "1b74cdd2-bc4a-48ac-b5dd-cd4bfde11342",
   "metadata": {
    "tags": []
   },
   "outputs": [
    {
     "name": "stdout",
     "output_type": "stream",
     "text": [
      "<class 'pandas.core.frame.DataFrame'>\n",
      "RangeIndex: 45211 entries, 0 to 45210\n",
      "Data columns (total 17 columns):\n",
      " #   Column     Non-Null Count  Dtype \n",
      "---  ------     --------------  ----- \n",
      " 0   age        45211 non-null  int64 \n",
      " 1   job        45211 non-null  object\n",
      " 2   marital    45211 non-null  object\n",
      " 3   education  45211 non-null  object\n",
      " 4   default    45211 non-null  object\n",
      " 5   balance    45211 non-null  int64 \n",
      " 6   housing    45211 non-null  object\n",
      " 7   loan       45211 non-null  object\n",
      " 8   contact    45211 non-null  object\n",
      " 9   day        45211 non-null  int64 \n",
      " 10  month      45211 non-null  object\n",
      " 11  duration   45211 non-null  int64 \n",
      " 12  campaign   45211 non-null  int64 \n",
      " 13  pdays      45211 non-null  int64 \n",
      " 14  previous   45211 non-null  int64 \n",
      " 15  poutcome   45211 non-null  object\n",
      " 16  y          45211 non-null  object\n",
      "dtypes: int64(7), object(10)\n",
      "memory usage: 5.9+ MB\n"
     ]
    }
   ],
   "source": [
    "df = pd.read_csv(\"train.csv\",sep=\";\")\n",
    "df.info()"
   ]
  },
  {
   "cell_type": "markdown",
   "id": "d8c88c3a-7ca2-41af-a47d-25a4cd4c49b8",
   "metadata": {},
   "source": [
    "Convert the target variable to integer"
   ]
  },
  {
   "cell_type": "code",
   "execution_count": 49,
   "id": "78e0cde4-24cb-4817-87d2-e031d7631691",
   "metadata": {},
   "outputs": [],
   "source": [
    "df['y'] = df['y'].map({'yes':1,'no':0})"
   ]
  },
  {
   "cell_type": "markdown",
   "id": "6b8b90cb-7beb-4f43-a982-7f25eaf402ce",
   "metadata": {},
   "source": [
    "Split full data into train and test data"
   ]
  },
  {
   "cell_type": "code",
   "execution_count": 50,
   "id": "24023693-71da-44e3-ad4d-7a46ed773955",
   "metadata": {},
   "outputs": [],
   "source": [
    "df_train, df_test = train_test_split(df, test_size=0.1, random_state=0) "
   ]
  },
  {
   "cell_type": "markdown",
   "id": "8f16a175-7ea2-4714-9f5a-c608c8626d39",
   "metadata": {},
   "source": [
    "Get list of numerical features"
   ]
  },
  {
   "cell_type": "code",
   "execution_count": 51,
   "id": "de97e65b-dc26-44d1-9623-8304722078af",
   "metadata": {},
   "outputs": [],
   "source": [
    "numerical_feats = list(df_train.drop(columns='y').select_dtypes(include=np.number).columns)"
   ]
  },
  {
   "cell_type": "markdown",
   "id": "180f30b7-7634-435e-92ec-173cd154f40f",
   "metadata": {},
   "source": [
    "Get list of categorical features"
   ]
  },
  {
   "cell_type": "code",
   "execution_count": 52,
   "id": "38a2c584-db55-40b4-bce3-116338c9d093",
   "metadata": {},
   "outputs": [],
   "source": [
    "categorical_feats = list(df_train.drop(columns='y').select_dtypes(exclude=np.number).columns)"
   ]
  },
  {
   "cell_type": "markdown",
   "id": "82fbedcf-975d-486e-9df7-6536507b3f45",
   "metadata": {},
   "source": [
    "Perform Hyperparameter Tuning with Random Search + SH"
   ]
  },
  {
   "cell_type": "code",
   "execution_count": 53,
   "id": "c8287b02-e55a-422e-9e76-8f69ce3bddc7",
   "metadata": {},
   "outputs": [
    {
     "name": "stderr",
     "output_type": "stream",
     "text": [
      "\u001b[32m[I 2022-04-20 13:17:12,505]\u001b[0m A new study created in memory with name: no-name-34380eaf-1d10-432e-82fc-2656edf6dcce\u001b[0m\n"
     ]
    },
    {
     "name": "stdout",
     "output_type": "stream",
     "text": [
      "WARNING:tensorflow:5 out of the last 26 calls to <function Model.make_test_function.<locals>.test_function at 0x7f44b8e49830> triggered tf.function retracing. Tracing is expensive and the excessive number of tracings could be due to (1) creating @tf.function repeatedly in a loop, (2) passing tensors with different shapes, (3) passing Python objects instead of tensors. For (1), please define your @tf.function outside of the loop. For (2), @tf.function has experimental_relax_shapes=True option that relaxes argument shapes that can avoid unnecessary retracing. For (3), please refer to https://www.tensorflow.org/guide/function#controlling_retracing and https://www.tensorflow.org/api_docs/python/tf/function for  more details.\n",
      "WARNING:tensorflow:6 out of the last 27 calls to <function Model.make_test_function.<locals>.test_function at 0x7f4488c5b050> triggered tf.function retracing. Tracing is expensive and the excessive number of tracings could be due to (1) creating @tf.function repeatedly in a loop, (2) passing tensors with different shapes, (3) passing Python objects instead of tensors. For (1), please define your @tf.function outside of the loop. For (2), @tf.function has experimental_relax_shapes=True option that relaxes argument shapes that can avoid unnecessary retracing. For (3), please refer to https://www.tensorflow.org/guide/function#controlling_retracing and https://www.tensorflow.org/api_docs/python/tf/function for  more details.\n"
     ]
    },
    {
     "name": "stderr",
     "output_type": "stream",
     "text": [
      "\u001b[32m[I 2022-04-20 13:18:42,179]\u001b[0m Trial 14 pruned. Trial was pruned at epoch 5.\u001b[0m\n",
      "\u001b[32m[I 2022-04-20 13:18:44,613]\u001b[0m Trial 4 pruned. Trial was pruned at epoch 5.\u001b[0m\n",
      "\u001b[32m[I 2022-04-20 13:18:45,359]\u001b[0m Trial 12 pruned. Trial was pruned at epoch 5.\u001b[0m\n",
      "\u001b[32m[I 2022-04-20 13:18:45,951]\u001b[0m Trial 7 pruned. Trial was pruned at epoch 5.\u001b[0m\n",
      "\u001b[32m[I 2022-04-20 13:18:53,501]\u001b[0m Trial 5 pruned. Trial was pruned at epoch 5.\u001b[0m\n",
      "\u001b[32m[I 2022-04-20 13:19:03,659]\u001b[0m Trial 0 pruned. Trial was pruned at epoch 5.\u001b[0m\n",
      "\u001b[32m[I 2022-04-20 13:19:05,044]\u001b[0m Trial 13 pruned. Trial was pruned at epoch 5.\u001b[0m\n",
      "\u001b[32m[I 2022-04-20 13:19:06,968]\u001b[0m Trial 15 pruned. Trial was pruned at epoch 5.\u001b[0m\n",
      "\u001b[32m[I 2022-04-20 13:19:10,325]\u001b[0m Trial 11 pruned. Trial was pruned at epoch 5.\u001b[0m\n",
      "\u001b[32m[I 2022-04-20 13:20:22,768]\u001b[0m Trial 16 pruned. Trial was pruned at epoch 5.\u001b[0m\n",
      "\u001b[32m[I 2022-04-20 13:20:24,156]\u001b[0m Trial 18 pruned. Trial was pruned at epoch 5.\u001b[0m\n",
      "\u001b[32m[I 2022-04-20 13:20:27,816]\u001b[0m Trial 20 pruned. Trial was pruned at epoch 5.\u001b[0m\n",
      "\u001b[32m[I 2022-04-20 13:20:28,308]\u001b[0m Trial 17 pruned. Trial was pruned at epoch 5.\u001b[0m\n",
      "\u001b[32m[I 2022-04-20 13:20:28,899]\u001b[0m Trial 19 pruned. Trial was pruned at epoch 5.\u001b[0m\n",
      "\u001b[32m[I 2022-04-20 13:20:33,547]\u001b[0m Trial 22 pruned. Trial was pruned at epoch 5.\u001b[0m\n",
      "\u001b[32m[I 2022-04-20 13:20:42,292]\u001b[0m Trial 23 pruned. Trial was pruned at epoch 5.\u001b[0m\n",
      "\u001b[32m[I 2022-04-20 13:21:36,333]\u001b[0m Trial 9 pruned. Trial was pruned at epoch 15.\u001b[0m\n",
      "\u001b[32m[I 2022-04-20 13:21:44,638]\u001b[0m Trial 3 pruned. Trial was pruned at epoch 15.\u001b[0m\n",
      "\u001b[32m[I 2022-04-20 13:21:54,492]\u001b[0m Trial 10 pruned. Trial was pruned at epoch 15.\u001b[0m\n",
      "\u001b[32m[I 2022-04-20 13:22:05,676]\u001b[0m Trial 25 pruned. Trial was pruned at epoch 5.\u001b[0m\n",
      "\u001b[32m[I 2022-04-20 13:22:07,685]\u001b[0m Trial 26 pruned. Trial was pruned at epoch 5.\u001b[0m\n",
      "\u001b[32m[I 2022-04-20 13:22:14,285]\u001b[0m Trial 29 pruned. Trial was pruned at epoch 5.\u001b[0m\n",
      "\u001b[32m[I 2022-04-20 13:22:15,532]\u001b[0m Trial 30 pruned. Trial was pruned at epoch 5.\u001b[0m\n",
      "\u001b[32m[I 2022-04-20 13:22:17,871]\u001b[0m Trial 27 pruned. Trial was pruned at epoch 5.\u001b[0m\n",
      "\u001b[32m[I 2022-04-20 13:22:35,105]\u001b[0m Trial 31 pruned. Trial was pruned at epoch 5.\u001b[0m\n",
      "\u001b[32m[I 2022-04-20 13:23:07,196]\u001b[0m Trial 24 pruned. Trial was pruned at epoch 15.\u001b[0m\n",
      "\u001b[32m[I 2022-04-20 13:23:12,053]\u001b[0m Trial 32 pruned. Trial was pruned at epoch 5.\u001b[0m\n",
      "\u001b[32m[I 2022-04-20 13:23:30,508]\u001b[0m Trial 34 pruned. Trial was pruned at epoch 5.\u001b[0m\n",
      "\u001b[32m[I 2022-04-20 13:23:32,998]\u001b[0m Trial 21 pruned. Trial was pruned at epoch 15.\u001b[0m\n",
      "\u001b[32m[I 2022-04-20 13:23:45,418]\u001b[0m Trial 36 pruned. Trial was pruned at epoch 5.\u001b[0m\n",
      "\u001b[32m[I 2022-04-20 13:23:46,364]\u001b[0m Trial 35 pruned. Trial was pruned at epoch 5.\u001b[0m\n",
      "\u001b[32m[I 2022-04-20 13:23:55,145]\u001b[0m Trial 38 pruned. Trial was pruned at epoch 5.\u001b[0m\n",
      "\u001b[32m[I 2022-04-20 13:23:57,921]\u001b[0m Trial 39 pruned. Trial was pruned at epoch 5.\u001b[0m\n",
      "\u001b[32m[I 2022-04-20 13:24:10,433]\u001b[0m Trial 40 pruned. Trial was pruned at epoch 5.\u001b[0m\n",
      "\u001b[32m[I 2022-04-20 13:24:30,379]\u001b[0m Trial 28 pruned. Trial was pruned at epoch 15.\u001b[0m\n",
      "\u001b[32m[I 2022-04-20 13:24:38,571]\u001b[0m Trial 2 finished with value: 0.360594599549326 and parameters: {'num_layers': 1, 'n_units_layer_0': 25, 'dropout_rate_layer_0': 0.455055160380186, 'actv_func_layer_0': 'elu', 'optimizer': 'Adam', 'adam_lr': 0.03753552228843905, 'epoch': 28}. Best is trial 2 with value: 0.360594599549326.\u001b[0m\n",
      "\u001b[32m[I 2022-04-20 13:24:41,756]\u001b[0m Trial 42 pruned. Trial was pruned at epoch 5.\u001b[0m\n",
      "\u001b[32m[I 2022-04-20 13:25:00,766]\u001b[0m Trial 43 pruned. Trial was pruned at epoch 5.\u001b[0m\n",
      "\u001b[32m[I 2022-04-20 13:25:12,427]\u001b[0m Trial 8 finished with value: 0.5818294137716293 and parameters: {'num_layers': 3, 'n_units_layer_0': 10, 'dropout_rate_layer_0': 0.03540368984067649, 'actv_func_layer_0': 'elu', 'n_units_layer_1': 15, 'dropout_rate_layer_1': 0.008554081181978979, 'actv_func_layer_1': 'elu', 'n_units_layer_2': 15, 'dropout_rate_layer_2': 0.4887044768096681, 'actv_func_layer_2': 'relu', 'optimizer': 'Adam', 'adam_lr': 0.02763126523504823, 'epoch': 28}. Best is trial 8 with value: 0.5818294137716293.\u001b[0m\n",
      "\u001b[32m[I 2022-04-20 13:25:27,098]\u001b[0m Trial 46 pruned. Trial was pruned at epoch 5.\u001b[0m\n",
      "\u001b[32m[I 2022-04-20 13:25:34,620]\u001b[0m Trial 48 pruned. Trial was pruned at epoch 5.\u001b[0m\n",
      "\u001b[32m[I 2022-04-20 13:25:34,769]\u001b[0m Trial 6 finished with value: 0.5070480325005271 and parameters: {'num_layers': 0, 'optimizer': 'Adam', 'adam_lr': 0.0005099934451180158, 'epoch': 33}. Best is trial 8 with value: 0.5818294137716293.\u001b[0m\n",
      "\u001b[32m[I 2022-04-20 13:25:52,025]\u001b[0m Trial 49 pruned. Trial was pruned at epoch 5.\u001b[0m\n",
      "\u001b[32m[I 2022-04-20 13:26:02,739]\u001b[0m Trial 33 pruned. Trial was pruned at epoch 15.\u001b[0m\n",
      "\u001b[32m[I 2022-04-20 13:26:16,249]\u001b[0m Trial 51 pruned. Trial was pruned at epoch 5.\u001b[0m\n",
      "\u001b[32m[I 2022-04-20 13:26:17,025]\u001b[0m Trial 37 pruned. Trial was pruned at epoch 15.\u001b[0m\n",
      "\u001b[32m[I 2022-04-20 13:26:32,093]\u001b[0m Trial 53 pruned. Trial was pruned at epoch 5.\u001b[0m\n",
      "\u001b[32m[I 2022-04-20 13:26:42,280]\u001b[0m Trial 54 pruned. Trial was pruned at epoch 5.\u001b[0m\n",
      "\u001b[32m[I 2022-04-20 13:26:48,178]\u001b[0m Trial 55 pruned. Trial was pruned at epoch 5.\u001b[0m\n",
      "\u001b[32m[I 2022-04-20 13:26:49,504]\u001b[0m Trial 56 pruned. Trial was pruned at epoch 5.\u001b[0m\n",
      "\u001b[32m[I 2022-04-20 13:27:09,816]\u001b[0m Trial 44 finished with value: 0.5327567835648854 and parameters: {'num_layers': 2, 'n_units_layer_0': 20, 'dropout_rate_layer_0': 0.029142332274240623, 'actv_func_layer_0': 'elu', 'n_units_layer_1': 50, 'dropout_rate_layer_1': 0.21425217092205529, 'actv_func_layer_1': 'relu', 'optimizer': 'Adam', 'adam_lr': 0.0006371798069331645, 'epoch': 15}. Best is trial 8 with value: 0.5818294137716293.\u001b[0m\n",
      "\u001b[32m[I 2022-04-20 13:27:11,014]\u001b[0m Trial 58 pruned. Trial was pruned at epoch 5.\u001b[0m\n",
      "\u001b[32m[I 2022-04-20 13:27:33,796]\u001b[0m Trial 1 finished with value: 0.48076311625583573 and parameters: {'num_layers': 0, 'optimizer': 'Adam', 'adam_lr': 0.00012597040104616713, 'epoch': 43}. Best is trial 8 with value: 0.5818294137716293.\u001b[0m\n",
      "\u001b[32m[I 2022-04-20 13:27:40,411]\u001b[0m Trial 61 pruned. Trial was pruned at epoch 5.\u001b[0m\n",
      "\u001b[32m[I 2022-04-20 13:27:40,703]\u001b[0m Trial 60 pruned. Trial was pruned at epoch 5.\u001b[0m\n",
      "\u001b[32m[I 2022-04-20 13:27:55,008]\u001b[0m Trial 62 pruned. Trial was pruned at epoch 5.\u001b[0m\n",
      "\u001b[32m[I 2022-04-20 13:28:06,129]\u001b[0m Trial 50 pruned. Trial was pruned at epoch 15.\u001b[0m\n",
      "\u001b[32m[I 2022-04-20 13:28:09,918]\u001b[0m Trial 64 pruned. Trial was pruned at epoch 5.\u001b[0m\n",
      "\u001b[32m[I 2022-04-20 13:28:29,102]\u001b[0m Trial 67 pruned. Trial was pruned at epoch 5.\u001b[0m\n",
      "\u001b[32m[I 2022-04-20 13:28:33,688]\u001b[0m Trial 47 finished with value: 0.5037422435624259 and parameters: {'num_layers': 0, 'optimizer': 'Adam', 'adam_lr': 0.0005107138358622075, 'epoch': 21}. Best is trial 8 with value: 0.5818294137716293.\u001b[0m\n",
      "\u001b[32m[I 2022-04-20 13:28:34,364]\u001b[0m Trial 66 pruned. Trial was pruned at epoch 5.\u001b[0m\n",
      "\u001b[32m[I 2022-04-20 13:29:01,995]\u001b[0m Trial 70 pruned. Trial was pruned at epoch 5.\u001b[0m\n",
      "\u001b[32m[I 2022-04-20 13:29:20,806]\u001b[0m Trial 71 pruned. Trial was pruned at epoch 5.\u001b[0m\n",
      "\u001b[32m[I 2022-04-20 13:29:25,946]\u001b[0m Trial 72 pruned. Trial was pruned at epoch 5.\u001b[0m\n",
      "\u001b[32m[I 2022-04-20 13:29:30,344]\u001b[0m Trial 73 pruned. Trial was pruned at epoch 5.\u001b[0m\n",
      "\u001b[32m[I 2022-04-20 13:29:47,025]\u001b[0m Trial 74 pruned. Trial was pruned at epoch 5.\u001b[0m\n",
      "\u001b[32m[I 2022-04-20 13:29:50,237]\u001b[0m Trial 75 pruned. Trial was pruned at epoch 5.\u001b[0m\n",
      "\u001b[32m[I 2022-04-20 13:29:54,517]\u001b[0m Trial 76 pruned. Trial was pruned at epoch 5.\u001b[0m\n",
      "\u001b[32m[I 2022-04-20 13:29:57,052]\u001b[0m Trial 41 finished with value: 0.512283710702773 and parameters: {'num_layers': 0, 'optimizer': 'Adam', 'adam_lr': 0.0024326163941902623, 'epoch': 31}. Best is trial 8 with value: 0.5818294137716293.\u001b[0m\n",
      "\u001b[32m[I 2022-04-20 13:30:05,957]\u001b[0m Trial 65 pruned. Trial was pruned at epoch 15.\u001b[0m\n",
      "\u001b[32m[I 2022-04-20 13:30:06,543]\u001b[0m Trial 63 pruned. Trial was pruned at epoch 15.\u001b[0m\n",
      "\u001b[32m[I 2022-04-20 13:30:48,992]\u001b[0m Trial 79 pruned. Trial was pruned at epoch 5.\u001b[0m\n",
      "\u001b[32m[I 2022-04-20 13:30:51,507]\u001b[0m Trial 80 pruned. Trial was pruned at epoch 5.\u001b[0m\n",
      "\u001b[32m[I 2022-04-20 13:30:55,790]\u001b[0m Trial 69 pruned. Trial was pruned at epoch 15.\u001b[0m\n",
      "\u001b[32m[I 2022-04-20 13:31:04,177]\u001b[0m Trial 82 pruned. Trial was pruned at epoch 5.\u001b[0m\n",
      "\u001b[32m[I 2022-04-20 13:31:07,504]\u001b[0m Trial 68 pruned. Trial was pruned at epoch 15.\u001b[0m\n",
      "\u001b[32m[I 2022-04-20 13:31:09,820]\u001b[0m Trial 81 pruned. Trial was pruned at epoch 5.\u001b[0m\n",
      "\u001b[32m[I 2022-04-20 13:31:16,313]\u001b[0m Trial 83 pruned. Trial was pruned at epoch 5.\u001b[0m\n",
      "\u001b[32m[I 2022-04-20 13:31:27,742]\u001b[0m Trial 86 pruned. Trial was pruned at epoch 5.\u001b[0m\n",
      "\u001b[32m[I 2022-04-20 13:31:33,893]\u001b[0m Trial 85 pruned. Trial was pruned at epoch 5.\u001b[0m\n",
      "\u001b[32m[I 2022-04-20 13:32:16,460]\u001b[0m Trial 87 pruned. Trial was pruned at epoch 5.\u001b[0m\n",
      "\u001b[32m[I 2022-04-20 13:32:20,973]\u001b[0m Trial 88 pruned. Trial was pruned at epoch 5.\u001b[0m\n",
      "\u001b[32m[I 2022-04-20 13:32:24,092]\u001b[0m Trial 89 pruned. Trial was pruned at epoch 5.\u001b[0m\n",
      "\u001b[32m[I 2022-04-20 13:32:34,912]\u001b[0m Trial 90 pruned. Trial was pruned at epoch 5.\u001b[0m\n",
      "\u001b[32m[I 2022-04-20 13:32:43,968]\u001b[0m Trial 92 pruned. Trial was pruned at epoch 5.\u001b[0m\n",
      "\u001b[32m[I 2022-04-20 13:32:44,584]\u001b[0m Trial 78 pruned. Trial was pruned at epoch 15.\u001b[0m\n",
      "\u001b[32m[I 2022-04-20 13:32:45,902]\u001b[0m Trial 93 pruned. Trial was pruned at epoch 5.\u001b[0m\n",
      "\u001b[32m[I 2022-04-20 13:32:49,955]\u001b[0m Trial 45 finished with value: 0.544093961134935 and parameters: {'num_layers': 2, 'n_units_layer_0': 40, 'dropout_rate_layer_0': 0.023974597761493743, 'actv_func_layer_0': 'relu', 'n_units_layer_1': 50, 'dropout_rate_layer_1': 0.0473829310455644, 'actv_func_layer_1': 'relu', 'optimizer': 'Adam', 'adam_lr': 0.0008672981863123052, 'epoch': 39}. Best is trial 8 with value: 0.5818294137716293.\u001b[0m\n",
      "\u001b[32m[I 2022-04-20 13:32:54,969]\u001b[0m Trial 94 pruned. Trial was pruned at epoch 5.\u001b[0m\n",
      "\u001b[32m[I 2022-04-20 13:33:12,697]\u001b[0m Trial 84 pruned. Trial was pruned at epoch 15.\u001b[0m\n",
      "\u001b[32m[I 2022-04-20 13:33:27,306]\u001b[0m Trial 97 pruned. Trial was pruned at epoch 5.\u001b[0m\n",
      "\u001b[32m[I 2022-04-20 13:33:28,529]\u001b[0m Trial 99 pruned. Trial was pruned at epoch 5.\u001b[0m\n",
      "\u001b[32m[I 2022-04-20 13:33:46,126]\u001b[0m Trial 91 pruned. Trial was pruned at epoch 15.\u001b[0m\n",
      "\u001b[32m[I 2022-04-20 13:33:56,010]\u001b[0m Trial 77 finished with value: 0.5615870608733251 and parameters: {'num_layers': 2, 'n_units_layer_0': 15, 'dropout_rate_layer_0': 0.3913151525685267, 'actv_func_layer_0': 'elu', 'n_units_layer_1': 40, 'dropout_rate_layer_1': 0.4260733136191385, 'actv_func_layer_1': 'relu', 'optimizer': 'Adam', 'adam_lr': 0.002868518766268988, 'epoch': 26}. Best is trial 8 with value: 0.5818294137716293.\u001b[0m\n",
      "\u001b[32m[I 2022-04-20 13:33:58,867]\u001b[0m Trial 57 pruned. Trial was pruned at epoch 45.\u001b[0m\n",
      "\u001b[32m[I 2022-04-20 13:34:00,233]\u001b[0m Trial 52 finished with value: 0.5495908525586128 and parameters: {'num_layers': 0, 'optimizer': 'Adam', 'adam_lr': 0.06100282570407241, 'epoch': 50}. Best is trial 8 with value: 0.5818294137716293.\u001b[0m\n",
      "\u001b[32m[I 2022-04-20 13:34:04,717]\u001b[0m Trial 95 pruned. Trial was pruned at epoch 15.\u001b[0m\n",
      "\u001b[32m[I 2022-04-20 13:34:08,049]\u001b[0m Trial 98 finished with value: 0.5201906580477953 and parameters: {'num_layers': 1, 'n_units_layer_0': 35, 'dropout_rate_layer_0': 0.15087699251931858, 'actv_func_layer_0': 'elu', 'optimizer': 'Adam', 'adam_lr': 0.0008613805208081262, 'epoch': 16}. Best is trial 8 with value: 0.5818294137716293.\u001b[0m\n",
      "\u001b[32m[I 2022-04-20 13:34:10,663]\u001b[0m Trial 59 finished with value: 0.5599395948648452 and parameters: {'num_layers': 0, 'optimizer': 'Adam', 'adam_lr': 0.03556358147395139, 'epoch': 50}. Best is trial 8 with value: 0.5818294137716293.\u001b[0m\n",
      "\u001b[32m[I 2022-04-20 13:34:46,985]\u001b[0m Trial 96 finished with value: 0.5374627129451649 and parameters: {'num_layers': 1, 'n_units_layer_0': 50, 'dropout_rate_layer_0': 0.04680070482723597, 'actv_func_layer_0': 'relu', 'optimizer': 'Adam', 'adam_lr': 0.0017486185430630693, 'epoch': 37}. Best is trial 8 with value: 0.5818294137716293.\u001b[0m\n"
     ]
    }
   ],
   "source": [
    "study = optuna.create_study(direction='maximize',\n",
    "                            sampler=optuna.samplers.RandomSampler(seed=0),\n",
    "                            pruner=optuna.pruners.SuccessiveHalvingPruner(reduction_factor=3,\n",
    "                                                                          min_resource=5)\n",
    "                           )\n",
    "study.optimize(lambda trial: objective(trial, df_train, use_pruner=True),\n",
    "               n_trials=100, n_jobs=-1,\n",
    "              )"
   ]
  },
  {
   "cell_type": "code",
   "execution_count": 54,
   "id": "395dea7f-329f-4880-8f8c-9602e722a2d7",
   "metadata": {},
   "outputs": [
    {
     "name": "stdout",
     "output_type": "stream",
     "text": [
      "Study statistics: \n",
      "  Number of finished trials:  100\n",
      "  Number of pruned trials:  87\n",
      "  Number of complete trials:  13\n"
     ]
    }
   ],
   "source": [
    "pruned_trials = study.get_trials(deepcopy=False, states=[optuna.trial.TrialState.PRUNED])\n",
    "complete_trials = study.get_trials(deepcopy=False, states=[optuna.trial.TrialState.COMPLETE])\n",
    "print(\"Study statistics: \")\n",
    "print(\"  Number of finished trials: \", len(study.trials))\n",
    "print(\"  Number of pruned trials: \", len(pruned_trials))\n",
    "print(\"  Number of complete trials: \", len(complete_trials))"
   ]
  },
  {
   "cell_type": "code",
   "execution_count": 55,
   "id": "837fca63-40b4-43df-8377-0355a783795c",
   "metadata": {},
   "outputs": [
    {
     "name": "stdout",
     "output_type": "stream",
     "text": [
      "Best Trial:\n",
      "    Value:  0.5818294137716293\n",
      "    Hyperparameters: \n",
      "        num_layers: 3\n",
      "        n_units_layer_0: 10\n",
      "        dropout_rate_layer_0: 0.03540368984067649\n",
      "        actv_func_layer_0: elu\n",
      "        n_units_layer_1: 15\n",
      "        dropout_rate_layer_1: 0.008554081181978979\n",
      "        actv_func_layer_1: elu\n",
      "        n_units_layer_2: 15\n",
      "        dropout_rate_layer_2: 0.4887044768096681\n",
      "        actv_func_layer_2: relu\n",
      "        optimizer: Adam\n",
      "        adam_lr: 0.02763126523504823\n",
      "        epoch: 28\n"
     ]
    }
   ],
   "source": [
    "print(\"Best Trial:\")\n",
    "best_trial = study.best_trial\n",
    "\n",
    "print(\"    Value: \", best_trial.value)\n",
    "\n",
    "print(\"    Hyperparameters: \")\n",
    "for key, value in best_trial.params.items():\n",
    "    print(f\"        {key}: {value}\")"
   ]
  },
  {
   "cell_type": "code",
   "execution_count": 56,
   "id": "91a6f30e-5efd-4740-967d-aee2b762fff7",
   "metadata": {},
   "outputs": [
    {
     "data": {
      "text/plain": [
       "{'num_layers': 3,\n",
       " 'n_units_layer_0': 10,\n",
       " 'dropout_rate_layer_0': 0.03540368984067649,\n",
       " 'actv_func_layer_0': 'elu',\n",
       " 'n_units_layer_1': 15,\n",
       " 'dropout_rate_layer_1': 0.008554081181978979,\n",
       " 'actv_func_layer_1': 'elu',\n",
       " 'n_units_layer_2': 15,\n",
       " 'dropout_rate_layer_2': 0.4887044768096681,\n",
       " 'actv_func_layer_2': 'relu',\n",
       " 'optimizer': 'Adam',\n",
       " 'adam_lr': 0.02763126523504823,\n",
       " 'epoch': 28}"
      ]
     },
     "execution_count": 56,
     "metadata": {},
     "output_type": "execute_result"
    }
   ],
   "source": [
    "best_trial.params"
   ]
  },
  {
   "cell_type": "code",
   "execution_count": 57,
   "id": "527d1bdc-8823-42b7-a3b5-bdd2256637cf",
   "metadata": {},
   "outputs": [
    {
     "name": "stdout",
     "output_type": "stream",
     "text": [
      "Model: \"sequential_4\"\n",
      "_________________________________________________________________\n",
      "Layer (type)                 Output Shape              Param #   \n",
      "=================================================================\n",
      "dense_13 (Dense)             (None, 51)                2652      \n",
      "_________________________________________________________________\n",
      "dropout_5 (Dropout)          (None, 51)                0         \n",
      "_________________________________________________________________\n",
      "dense_14 (Dense)             (None, 10)                520       \n",
      "_________________________________________________________________\n",
      "dropout_6 (Dropout)          (None, 10)                0         \n",
      "_________________________________________________________________\n",
      "dense_15 (Dense)             (None, 15)                165       \n",
      "_________________________________________________________________\n",
      "dropout_7 (Dropout)          (None, 15)                0         \n",
      "_________________________________________________________________\n",
      "dense_16 (Dense)             (None, 15)                240       \n",
      "_________________________________________________________________\n",
      "dense_17 (Dense)             (None, 1)                 16        \n",
      "=================================================================\n",
      "Total params: 3,593\n",
      "Trainable params: 3,593\n",
      "Non-trainable params: 0\n",
      "_________________________________________________________________\n",
      "None\n",
      "Epoch 1/28\n",
      "636/636 [==============================] - 11s 16ms/step - loss: 0.2712 - f1_m: 0.2576\n",
      "Epoch 2/28\n",
      "636/636 [==============================] - 7s 12ms/step - loss: 0.2358 - f1_m: 0.3831\n",
      "Epoch 3/28\n",
      "636/636 [==============================] - 7s 11ms/step - loss: 0.2198 - f1_m: 0.3492\n",
      "Epoch 4/28\n",
      "636/636 [==============================] - 9s 14ms/step - loss: 0.2286 - f1_m: 0.3624\n",
      "Epoch 5/28\n",
      "636/636 [==============================] - 8s 13ms/step - loss: 0.2190 - f1_m: 0.5098\n",
      "Epoch 6/28\n",
      "636/636 [==============================] - 7s 11ms/step - loss: 0.2203 - f1_m: 0.5590\n",
      "Epoch 7/28\n",
      "636/636 [==============================] - 7s 11ms/step - loss: 0.2168 - f1_m: 0.5243\n",
      "Epoch 8/28\n",
      "636/636 [==============================] - 7s 10ms/step - loss: 0.2168 - f1_m: 0.5489\n",
      "Epoch 9/28\n",
      "636/636 [==============================] - 5s 8ms/step - loss: 0.2176 - f1_m: 0.5421\n",
      "Epoch 10/28\n",
      "636/636 [==============================] - 4s 6ms/step - loss: 0.2228 - f1_m: 0.5430\n",
      "Epoch 11/28\n",
      "636/636 [==============================] - 3s 5ms/step - loss: 0.2256 - f1_m: 0.5409\n",
      "Epoch 12/28\n",
      "636/636 [==============================] - 3s 5ms/step - loss: 0.2096 - f1_m: 0.5893\n",
      "Epoch 13/28\n",
      "636/636 [==============================] - 3s 5ms/step - loss: 0.2137 - f1_m: 0.5734\n",
      "Epoch 14/28\n",
      "636/636 [==============================] - 3s 4ms/step - loss: 0.2228 - f1_m: 0.5799\n",
      "Epoch 15/28\n",
      "636/636 [==============================] - 3s 5ms/step - loss: 0.2195 - f1_m: 0.5590\n",
      "Epoch 16/28\n",
      "636/636 [==============================] - 7s 10ms/step - loss: 0.2199 - f1_m: 0.5567\n",
      "Epoch 17/28\n",
      "636/636 [==============================] - 8s 13ms/step - loss: 0.2248 - f1_m: 0.5728\n",
      "Epoch 18/28\n",
      "636/636 [==============================] - 4s 6ms/step - loss: 0.2263 - f1_m: 0.5721\n",
      "Epoch 19/28\n",
      "636/636 [==============================] - 4s 6ms/step - loss: 0.2267 - f1_m: 0.5767\n",
      "Epoch 20/28\n",
      "636/636 [==============================] - 3s 5ms/step - loss: 0.2145 - f1_m: 0.5946\n",
      "Epoch 21/28\n",
      "636/636 [==============================] - 3s 5ms/step - loss: 0.2180 - f1_m: 0.4922\n",
      "Epoch 22/28\n",
      "636/636 [==============================] - 4s 7ms/step - loss: 0.2345 - f1_m: 0.5627\n",
      "Epoch 23/28\n",
      "636/636 [==============================] - 3s 5ms/step - loss: 0.3506 - f1_m: 0.5894\n",
      "Epoch 24/28\n",
      "636/636 [==============================] - 4s 6ms/step - loss: 0.2188 - f1_m: 0.5725\n",
      "Epoch 25/28\n",
      "636/636 [==============================] - 3s 5ms/step - loss: 0.2200 - f1_m: 0.5799\n",
      "Epoch 26/28\n",
      "636/636 [==============================] - 5s 7ms/step - loss: 0.2178 - f1_m: 0.5914\n",
      "Epoch 27/28\n",
      "636/636 [==============================] - 4s 7ms/step - loss: 0.2238 - f1_m: 0.5852\n",
      "Epoch 28/28\n",
      "636/636 [==============================] - 4s 6ms/step - loss: 0.2172 - f1_m: 0.5927\n",
      "====================================================================================================\n",
      "F1-Score on Test Data:  0.5973282442748091\n"
     ]
    }
   ],
   "source": [
    "train_and_evaluate_final(df_train, df_test, **best_trial.params)"
   ]
  },
  {
   "cell_type": "markdown",
   "id": "83f796bd-b453-4bae-886d-6dd8cb4a62ab",
   "metadata": {},
   "source": [
    "# Hyper Band + Random Search"
   ]
  },
  {
   "cell_type": "code",
   "execution_count": 10,
   "id": "cda6dea1-28bf-412d-b1af-64e76790e028",
   "metadata": {
    "tags": []
   },
   "outputs": [
    {
     "name": "stdout",
     "output_type": "stream",
     "text": [
      "<class 'pandas.core.frame.DataFrame'>\n",
      "RangeIndex: 45211 entries, 0 to 45210\n",
      "Data columns (total 17 columns):\n",
      " #   Column     Non-Null Count  Dtype \n",
      "---  ------     --------------  ----- \n",
      " 0   age        45211 non-null  int64 \n",
      " 1   job        45211 non-null  object\n",
      " 2   marital    45211 non-null  object\n",
      " 3   education  45211 non-null  object\n",
      " 4   default    45211 non-null  object\n",
      " 5   balance    45211 non-null  int64 \n",
      " 6   housing    45211 non-null  object\n",
      " 7   loan       45211 non-null  object\n",
      " 8   contact    45211 non-null  object\n",
      " 9   day        45211 non-null  int64 \n",
      " 10  month      45211 non-null  object\n",
      " 11  duration   45211 non-null  int64 \n",
      " 12  campaign   45211 non-null  int64 \n",
      " 13  pdays      45211 non-null  int64 \n",
      " 14  previous   45211 non-null  int64 \n",
      " 15  poutcome   45211 non-null  object\n",
      " 16  y          45211 non-null  object\n",
      "dtypes: int64(7), object(10)\n",
      "memory usage: 5.9+ MB\n"
     ]
    }
   ],
   "source": [
    "df = pd.read_csv(\"train.csv\",sep=\";\")\n",
    "df.info()"
   ]
  },
  {
   "cell_type": "markdown",
   "id": "2b9e30d0-0562-4650-bcbd-3ca30dd4d23f",
   "metadata": {},
   "source": [
    "Convert the target variable to integer"
   ]
  },
  {
   "cell_type": "code",
   "execution_count": 11,
   "id": "ce7eeb84-8c24-4195-8693-bbb4db52688b",
   "metadata": {},
   "outputs": [],
   "source": [
    "df['y'] = df['y'].map({'yes':1,'no':0})"
   ]
  },
  {
   "cell_type": "markdown",
   "id": "9b331dfd-eafc-4ed7-ada1-c20066b81939",
   "metadata": {},
   "source": [
    "Split full data into train and test data"
   ]
  },
  {
   "cell_type": "code",
   "execution_count": 12,
   "id": "9f324208-631f-4691-b138-86ce12e8e1c2",
   "metadata": {},
   "outputs": [],
   "source": [
    "df_train, df_test = train_test_split(df, test_size=0.1, random_state=0) "
   ]
  },
  {
   "cell_type": "markdown",
   "id": "41989837-4b15-43da-b5e8-6b15e2721f1a",
   "metadata": {},
   "source": [
    "Get list of numerical features"
   ]
  },
  {
   "cell_type": "code",
   "execution_count": 13,
   "id": "c7801524-fedd-4827-9d3c-d1edf7e06632",
   "metadata": {},
   "outputs": [],
   "source": [
    "numerical_feats = list(df_train.drop(columns='y').select_dtypes(include=np.number).columns)"
   ]
  },
  {
   "cell_type": "markdown",
   "id": "18df57ce-2a54-44b0-b533-ad07163e8d97",
   "metadata": {},
   "source": [
    "Get list of categorical features"
   ]
  },
  {
   "cell_type": "code",
   "execution_count": 14,
   "id": "348c3201-ea98-4790-8e57-6bae70b73c08",
   "metadata": {},
   "outputs": [],
   "source": [
    "categorical_feats = list(df_train.drop(columns='y').select_dtypes(exclude=np.number).columns)"
   ]
  },
  {
   "cell_type": "markdown",
   "id": "a49509ed-74dd-4726-89c0-e8cea52e7e2b",
   "metadata": {},
   "source": [
    "Perform Hyperparameter Tuning with Random Search + SH"
   ]
  },
  {
   "cell_type": "code",
   "execution_count": 15,
   "id": "2a41b5b7-a448-4b94-ae90-e71439c920e8",
   "metadata": {},
   "outputs": [
    {
     "name": "stderr",
     "output_type": "stream",
     "text": [
      "\u001b[32m[I 2022-04-20 15:49:25,285]\u001b[0m A new study created in memory with name: no-name-49cd4609-d60f-42de-b1bd-6a4e4f0cdfe5\u001b[0m\n",
      "\u001b[32m[I 2022-04-20 15:51:47,970]\u001b[0m Trial 13 finished with value: 0.0002876983645061652 and parameters: {'num_layers': 3, 'n_units_layer_0': 50, 'dropout_rate_layer_0': 0.07507687468347152, 'actv_func_layer_0': 'relu', 'n_units_layer_1': 40, 'dropout_rate_layer_1': 0.38640343196581817, 'actv_func_layer_1': 'relu', 'n_units_layer_2': 10, 'dropout_rate_layer_2': 0.05532443342711424, 'actv_func_layer_2': 'relu', 'optimizer': 'SGD', 'sgd_lr': 0.0005288384693846171, 'sgd_momentum': 6.91464937139131e-05, 'epoch': 15}. Best is trial 13 with value: 0.0002876983645061652.\u001b[0m\n",
      "\u001b[32m[I 2022-04-20 15:51:49,329]\u001b[0m Trial 8 pruned. Trial was pruned at epoch 15.\u001b[0m\n",
      "\u001b[32m[I 2022-04-20 15:51:52,474]\u001b[0m Trial 7 pruned. Trial was pruned at epoch 15.\u001b[0m\n",
      "\u001b[32m[I 2022-04-20 15:51:54,504]\u001b[0m Trial 10 pruned. Trial was pruned at epoch 15.\u001b[0m\n",
      "\u001b[32m[I 2022-04-20 15:51:55,230]\u001b[0m Trial 6 pruned. Trial was pruned at epoch 15.\u001b[0m\n",
      "\u001b[32m[I 2022-04-20 15:51:56,190]\u001b[0m Trial 5 pruned. Trial was pruned at epoch 15.\u001b[0m\n",
      "\u001b[32m[I 2022-04-20 15:51:56,833]\u001b[0m Trial 9 pruned. Trial was pruned at epoch 15.\u001b[0m\n",
      "\u001b[32m[I 2022-04-20 15:51:58,338]\u001b[0m Trial 15 pruned. Trial was pruned at epoch 16.\u001b[0m\n",
      "\u001b[32m[I 2022-04-20 15:51:58,627]\u001b[0m Trial 14 pruned. Trial was pruned at epoch 15.\u001b[0m\n",
      "\u001b[32m[I 2022-04-20 15:51:59,426]\u001b[0m Trial 4 pruned. Trial was pruned at epoch 16.\u001b[0m\n",
      "\u001b[32m[I 2022-04-20 15:52:04,137]\u001b[0m Trial 2 pruned. Trial was pruned at epoch 15.\u001b[0m\n",
      "\u001b[32m[I 2022-04-20 15:52:51,252]\u001b[0m Trial 16 pruned. Trial was pruned at epoch 5.\u001b[0m\n",
      "\u001b[32m[I 2022-04-20 15:52:53,752]\u001b[0m Trial 17 pruned. Trial was pruned at epoch 5.\u001b[0m\n",
      "\u001b[32m[I 2022-04-20 15:53:05,248]\u001b[0m Trial 20 pruned. Trial was pruned at epoch 5.\u001b[0m\n",
      "\u001b[32m[I 2022-04-20 15:53:07,447]\u001b[0m Trial 24 pruned. Trial was pruned at epoch 5.\u001b[0m\n",
      "\u001b[32m[I 2022-04-20 15:53:56,230]\u001b[0m Trial 28 pruned. Trial was pruned at epoch 5.\u001b[0m\n",
      "\u001b[32m[I 2022-04-20 15:54:43,704]\u001b[0m Trial 25 pruned. Trial was pruned at epoch 15.\u001b[0m\n",
      "\u001b[32m[I 2022-04-20 15:54:46,574]\u001b[0m Trial 18 pruned. Trial was pruned at epoch 15.\u001b[0m\n",
      "\u001b[32m[I 2022-04-20 15:54:48,340]\u001b[0m Trial 21 pruned. Trial was pruned at epoch 15.\u001b[0m\n",
      "\u001b[32m[I 2022-04-20 15:54:59,059]\u001b[0m Trial 22 pruned. Trial was pruned at epoch 15.\u001b[0m\n",
      "\u001b[32m[I 2022-04-20 15:54:59,570]\u001b[0m Trial 12 finished with value: 0.5318839134591998 and parameters: {'num_layers': 2, 'n_units_layer_0': 25, 'dropout_rate_layer_0': 0.08897502471239649, 'actv_func_layer_0': 'elu', 'n_units_layer_1': 25, 'dropout_rate_layer_1': 0.17422056932656826, 'actv_func_layer_1': 'elu', 'optimizer': 'Adam', 'adam_lr': 0.00018733074647851145, 'epoch': 33}. Best is trial 12 with value: 0.5318839134591998.\u001b[0m\n",
      "\u001b[32m[I 2022-04-20 15:55:14,335]\u001b[0m Trial 3 finished with value: 0.48149463643922524 and parameters: {'num_layers': 2, 'n_units_layer_0': 15, 'dropout_rate_layer_0': 0.36646044166357256, 'actv_func_layer_0': 'tanh', 'n_units_layer_1': 25, 'dropout_rate_layer_1': 0.13068922376779452, 'actv_func_layer_1': 'elu', 'optimizer': 'Adam', 'adam_lr': 0.01788818337939203, 'epoch': 34}. Best is trial 12 with value: 0.5318839134591998.\u001b[0m\n",
      "\u001b[32m[I 2022-04-20 15:55:53,196]\u001b[0m Trial 33 pruned. Trial was pruned at epoch 5.\u001b[0m\n",
      "\u001b[32m[I 2022-04-20 15:55:56,498]\u001b[0m Trial 27 pruned. Trial was pruned at epoch 15.\u001b[0m\n",
      "\u001b[32m[I 2022-04-20 15:56:01,352]\u001b[0m Trial 30 pruned. Trial was pruned at epoch 15.\u001b[0m\n",
      "\u001b[32m[I 2022-04-20 15:56:06,189]\u001b[0m Trial 11 finished with value: 0.5222041614171935 and parameters: {'num_layers': 0, 'optimizer': 'Adam', 'adam_lr': 0.00061781552196501, 'epoch': 41}. Best is trial 12 with value: 0.5318839134591998.\u001b[0m\n",
      "\u001b[32m[I 2022-04-20 15:56:07,132]\u001b[0m Trial 29 pruned. Trial was pruned at epoch 15.\u001b[0m\n",
      "\u001b[32m[I 2022-04-20 15:56:46,717]\u001b[0m Trial 19 finished with value: 0.4163092821657371 and parameters: {'num_layers': 3, 'n_units_layer_0': 20, 'dropout_rate_layer_0': 0.16818124959621578, 'actv_func_layer_0': 'tanh', 'n_units_layer_1': 40, 'dropout_rate_layer_1': 0.005350244872154908, 'actv_func_layer_1': 'elu', 'n_units_layer_2': 40, 'dropout_rate_layer_2': 0.020622662426539262, 'actv_func_layer_2': 'relu', 'optimizer': 'SGD', 'sgd_lr': 0.005470899450837012, 'sgd_momentum': 0.013467225203384142, 'epoch': 26}. Best is trial 12 with value: 0.5318839134591998.\u001b[0m\n",
      "\u001b[32m[I 2022-04-20 15:57:02,138]\u001b[0m Trial 26 finished with value: 0.554135118369703 and parameters: {'num_layers': 2, 'n_units_layer_0': 45, 'dropout_rate_layer_0': 0.0580486631733616, 'actv_func_layer_0': 'relu', 'n_units_layer_1': 50, 'dropout_rate_layer_1': 0.32034915718900564, 'actv_func_layer_1': 'elu', 'optimizer': 'Adam', 'adam_lr': 0.00889619818578874, 'epoch': 27}. Best is trial 26 with value: 0.554135118369703.\u001b[0m\n",
      "\u001b[32m[I 2022-04-20 15:57:04,011]\u001b[0m Trial 31 pruned. Trial was pruned at epoch 15.\u001b[0m\n",
      "\u001b[32m[I 2022-04-20 15:57:04,369]\u001b[0m Trial 38 pruned. Trial was pruned at epoch 5.\u001b[0m\n",
      "\u001b[32m[I 2022-04-20 15:57:09,564]\u001b[0m Trial 40 pruned. Trial was pruned at epoch 5.\u001b[0m\n",
      "\u001b[32m[I 2022-04-20 15:57:11,783]\u001b[0m Trial 23 finished with value: 0.21872200998477637 and parameters: {'num_layers': 0, 'optimizer': 'SGD', 'sgd_lr': 0.0013807331939573477, 'sgd_momentum': 3.943436013528445e-05, 'epoch': 30}. Best is trial 26 with value: 0.554135118369703.\u001b[0m\n",
      "\u001b[32m[I 2022-04-20 15:57:29,919]\u001b[0m Trial 1 finished with value: 0.3589760194323501 and parameters: {'num_layers': 0, 'optimizer': 'SGD', 'sgd_lr': 0.0025811030472801724, 'sgd_momentum': 0.05999717079630336, 'epoch': 49}. Best is trial 26 with value: 0.554135118369703.\u001b[0m\n",
      "\u001b[32m[I 2022-04-20 15:57:33,389]\u001b[0m Trial 34 pruned. Trial was pruned at epoch 15.\u001b[0m\n",
      "\u001b[32m[I 2022-04-20 15:57:42,030]\u001b[0m Trial 32 pruned. Trial was pruned at epoch 15.\u001b[0m\n",
      "\u001b[32m[I 2022-04-20 15:57:42,609]\u001b[0m Trial 0 finished with value: 0.49072564606155666 and parameters: {'num_layers': 1, 'n_units_layer_0': 10, 'dropout_rate_layer_0': 0.3118584168522092, 'actv_func_layer_0': 'elu', 'optimizer': 'Adam', 'adam_lr': 0.00026885464716805256, 'epoch': 49}. Best is trial 26 with value: 0.554135118369703.\u001b[0m\n",
      "\u001b[32m[I 2022-04-20 15:57:59,497]\u001b[0m Trial 36 pruned. Trial was pruned at epoch 15.\u001b[0m\n",
      "\u001b[32m[I 2022-04-20 15:58:09,065]\u001b[0m Trial 45 pruned. Trial was pruned at epoch 5.\u001b[0m\n",
      "\u001b[32m[I 2022-04-20 15:58:39,546]\u001b[0m Trial 49 pruned. Trial was pruned at epoch 5.\u001b[0m\n",
      "\u001b[32m[I 2022-04-20 15:58:45,110]\u001b[0m Trial 51 pruned. Trial was pruned at epoch 5.\u001b[0m\n",
      "\u001b[32m[I 2022-04-20 15:58:49,258]\u001b[0m Trial 52 pruned. Trial was pruned at epoch 5.\u001b[0m\n",
      "\u001b[32m[I 2022-04-20 15:58:51,206]\u001b[0m Trial 41 pruned. Trial was pruned at epoch 15.\u001b[0m\n",
      "\u001b[32m[I 2022-04-20 15:59:37,549]\u001b[0m Trial 43 pruned. Trial was pruned at epoch 15.\u001b[0m\n",
      "\u001b[32m[I 2022-04-20 15:59:47,571]\u001b[0m Trial 44 pruned. Trial was pruned at epoch 15.\u001b[0m\n",
      "\u001b[32m[I 2022-04-20 15:59:58,299]\u001b[0m Trial 57 pruned. Trial was pruned at epoch 5.\u001b[0m\n",
      "\u001b[32m[I 2022-04-20 16:00:04,133]\u001b[0m Trial 35 finished with value: 0.5330609657146312 and parameters: {'num_layers': 3, 'n_units_layer_0': 40, 'dropout_rate_layer_0': 0.46575375588824847, 'actv_func_layer_0': 'relu', 'n_units_layer_1': 10, 'dropout_rate_layer_1': 0.11915856231773048, 'actv_func_layer_1': 'tanh', 'n_units_layer_2': 15, 'dropout_rate_layer_2': 0.012319265204922103, 'actv_func_layer_2': 'tanh', 'optimizer': 'Adam', 'adam_lr': 0.0030389277073442312, 'epoch': 27}. Best is trial 26 with value: 0.554135118369703.\u001b[0m\n",
      "\u001b[32m[I 2022-04-20 16:00:05,405]\u001b[0m Trial 46 pruned. Trial was pruned at epoch 15.\u001b[0m\n",
      "\u001b[32m[I 2022-04-20 16:00:14,316]\u001b[0m Trial 48 pruned. Trial was pruned at epoch 15.\u001b[0m\n",
      "\u001b[32m[I 2022-04-20 16:00:30,881]\u001b[0m Trial 50 pruned. Trial was pruned at epoch 15.\u001b[0m\n",
      "\u001b[32m[I 2022-04-20 16:00:49,221]\u001b[0m Trial 59 pruned. Trial was pruned at epoch 5.\u001b[0m\n",
      "\u001b[32m[I 2022-04-20 16:01:09,120]\u001b[0m Trial 54 pruned. Trial was pruned at epoch 15.\u001b[0m\n",
      "\u001b[32m[I 2022-04-20 16:01:13,560]\u001b[0m Trial 63 pruned. Trial was pruned at epoch 5.\u001b[0m\n",
      "\u001b[32m[I 2022-04-20 16:01:33,100]\u001b[0m Trial 65 pruned. Trial was pruned at epoch 5.\u001b[0m\n",
      "\u001b[32m[I 2022-04-20 16:01:37,980]\u001b[0m Trial 55 pruned. Trial was pruned at epoch 15.\u001b[0m\n",
      "\u001b[32m[I 2022-04-20 16:01:41,281]\u001b[0m Trial 56 pruned. Trial was pruned at epoch 15.\u001b[0m\n",
      "\u001b[32m[I 2022-04-20 16:01:43,202]\u001b[0m Trial 58 pruned. Trial was pruned at epoch 15.\u001b[0m\n",
      "\u001b[32m[I 2022-04-20 16:01:58,978]\u001b[0m Trial 66 pruned. Trial was pruned at epoch 5.\u001b[0m\n",
      "\u001b[32m[I 2022-04-20 16:02:18,949]\u001b[0m Trial 68 pruned. Trial was pruned at epoch 5.\u001b[0m\n",
      "\u001b[32m[I 2022-04-20 16:02:36,046]\u001b[0m Trial 42 finished with value: 0.47595557229859486 and parameters: {'num_layers': 3, 'n_units_layer_0': 15, 'dropout_rate_layer_0': 0.12053930280042313, 'actv_func_layer_0': 'relu', 'n_units_layer_1': 50, 'dropout_rate_layer_1': 0.17949733123419392, 'actv_func_layer_1': 'elu', 'n_units_layer_2': 30, 'dropout_rate_layer_2': 0.1682341033866433, 'actv_func_layer_2': 'elu', 'optimizer': 'SGD', 'sgd_lr': 0.01988892876665244, 'sgd_momentum': 1.9803619411075647e-05, 'epoch': 35}. Best is trial 26 with value: 0.554135118369703.\u001b[0m\n",
      "\u001b[32m[I 2022-04-20 16:02:49,689]\u001b[0m Trial 71 pruned. Trial was pruned at epoch 5.\u001b[0m\n",
      "\u001b[32m[I 2022-04-20 16:02:52,771]\u001b[0m Trial 39 finished with value: 0.515895789116621 and parameters: {'num_layers': 0, 'optimizer': 'Adam', 'adam_lr': 0.007784091214573396, 'epoch': 40}. Best is trial 26 with value: 0.554135118369703.\u001b[0m\n",
      "\u001b[32m[I 2022-04-20 16:03:05,388]\u001b[0m Trial 61 pruned. Trial was pruned at epoch 15.\u001b[0m\n",
      "\u001b[32m[I 2022-04-20 16:03:06,113]\u001b[0m Trial 62 pruned. Trial was pruned at epoch 15.\u001b[0m\n",
      "\u001b[32m[I 2022-04-20 16:03:07,214]\u001b[0m Trial 47 finished with value: 0.5127475502029541 and parameters: {'num_layers': 3, 'n_units_layer_0': 15, 'dropout_rate_layer_0': 0.34640387725660127, 'actv_func_layer_0': 'relu', 'n_units_layer_1': 40, 'dropout_rate_layer_1': 0.04117104563317414, 'actv_func_layer_1': 'tanh', 'n_units_layer_2': 15, 'dropout_rate_layer_2': 0.25318469871149313, 'actv_func_layer_2': 'tanh', 'optimizer': 'Adam', 'adam_lr': 0.0005276848823612053, 'epoch': 31}. Best is trial 26 with value: 0.554135118369703.\u001b[0m\n",
      "\u001b[32m[I 2022-04-20 16:03:35,422]\u001b[0m Trial 74 pruned. Trial was pruned at epoch 5.\u001b[0m\n",
      "\u001b[32m[I 2022-04-20 16:03:38,327]\u001b[0m Trial 37 pruned. Trial was pruned at epoch 45.\u001b[0m\n",
      "\u001b[32m[I 2022-04-20 16:03:45,071]\u001b[0m Trial 75 pruned. Trial was pruned at epoch 5.\u001b[0m\n",
      "\u001b[32m[I 2022-04-20 16:04:01,915]\u001b[0m Trial 77 pruned. Trial was pruned at epoch 5.\u001b[0m\n",
      "\u001b[32m[I 2022-04-20 16:04:11,477]\u001b[0m Trial 80 pruned. Trial was pruned at epoch 5.\u001b[0m\n",
      "\u001b[32m[I 2022-04-20 16:04:13,065]\u001b[0m Trial 79 pruned. Trial was pruned at epoch 5.\u001b[0m\n",
      "\u001b[32m[I 2022-04-20 16:04:20,135]\u001b[0m Trial 53 finished with value: 0.5800432627265518 and parameters: {'num_layers': 0, 'optimizer': 'Adam', 'adam_lr': 0.05584201313189952, 'epoch': 37}. Best is trial 53 with value: 0.5800432627265518.\u001b[0m\n",
      "\u001b[32m[I 2022-04-20 16:04:46,636]\u001b[0m Trial 82 pruned. Trial was pruned at epoch 5.\u001b[0m\n",
      "\u001b[32m[I 2022-04-20 16:04:48,925]\u001b[0m Trial 72 pruned. Trial was pruned at epoch 15.\u001b[0m\n",
      "\u001b[32m[I 2022-04-20 16:04:56,601]\u001b[0m Trial 83 pruned. Trial was pruned at epoch 5.\u001b[0m\n",
      "\u001b[32m[I 2022-04-20 16:05:26,913]\u001b[0m Trial 69 finished with value: 0.5288192218258267 and parameters: {'num_layers': 1, 'n_units_layer_0': 25, 'dropout_rate_layer_0': 0.18877741101026452, 'actv_func_layer_0': 'tanh', 'optimizer': 'Adam', 'adam_lr': 0.0004894529333534061, 'epoch': 21}. Best is trial 53 with value: 0.5800432627265518.\u001b[0m\n",
      "\u001b[32m[I 2022-04-20 16:05:27,390]\u001b[0m Trial 85 pruned. Trial was pruned at epoch 5.\u001b[0m\n",
      "\u001b[32m[I 2022-04-20 16:05:29,368]\u001b[0m Trial 86 pruned. Trial was pruned at epoch 5.\u001b[0m\n",
      "\u001b[32m[I 2022-04-20 16:05:34,420]\u001b[0m Trial 87 pruned. Trial was pruned at epoch 5.\u001b[0m\n",
      "\u001b[32m[I 2022-04-20 16:05:45,874]\u001b[0m Trial 76 pruned. Trial was pruned at epoch 15.\u001b[0m\n",
      "\u001b[32m[I 2022-04-20 16:05:56,889]\u001b[0m Trial 78 pruned. Trial was pruned at epoch 15.\u001b[0m\n",
      "\u001b[32m[I 2022-04-20 16:06:03,129]\u001b[0m Trial 60 finished with value: 0.4601761130616069 and parameters: {'num_layers': 3, 'n_units_layer_0': 45, 'dropout_rate_layer_0': 0.25804748275193506, 'actv_func_layer_0': 'tanh', 'n_units_layer_1': 45, 'dropout_rate_layer_1': 0.4622015178614204, 'actv_func_layer_1': 'relu', 'n_units_layer_2': 35, 'dropout_rate_layer_2': 0.36220073269788594, 'actv_func_layer_2': 'tanh', 'optimizer': 'Adam', 'adam_lr': 5.4139482621847025e-05, 'epoch': 32}. Best is trial 53 with value: 0.5800432627265518.\u001b[0m\n",
      "\u001b[32m[I 2022-04-20 16:06:07,951]\u001b[0m Trial 73 finished with value: 0.54812319789614 and parameters: {'num_layers': 3, 'n_units_layer_0': 30, 'dropout_rate_layer_0': 0.12106750374786773, 'actv_func_layer_0': 'tanh', 'n_units_layer_1': 35, 'dropout_rate_layer_1': 0.1515118540539091, 'actv_func_layer_1': 'tanh', 'n_units_layer_2': 25, 'dropout_rate_layer_2': 0.17481686362652332, 'actv_func_layer_2': 'relu', 'optimizer': 'Adam', 'adam_lr': 0.0005829698445581292, 'epoch': 21}. Best is trial 53 with value: 0.5800432627265518.\u001b[0m\n",
      "\u001b[32m[I 2022-04-20 16:06:28,878]\u001b[0m Trial 81 pruned. Trial was pruned at epoch 15.\u001b[0m\n",
      "\u001b[32m[I 2022-04-20 16:06:31,679]\u001b[0m Trial 91 pruned. Trial was pruned at epoch 5.\u001b[0m\n",
      "\u001b[32m[I 2022-04-20 16:06:33,023]\u001b[0m Trial 92 pruned. Trial was pruned at epoch 5.\u001b[0m\n",
      "\u001b[32m[I 2022-04-20 16:06:36,664]\u001b[0m Trial 93 pruned. Trial was pruned at epoch 5.\u001b[0m\n",
      "\u001b[32m[I 2022-04-20 16:06:52,859]\u001b[0m Trial 84 pruned. Trial was pruned at epoch 15.\u001b[0m\n",
      "\u001b[32m[I 2022-04-20 16:07:00,181]\u001b[0m Trial 96 pruned. Trial was pruned at epoch 5.\u001b[0m\n",
      "\u001b[32m[I 2022-04-20 16:07:03,275]\u001b[0m Trial 98 pruned. Trial was pruned at epoch 5.\u001b[0m\n",
      "\u001b[32m[I 2022-04-20 16:07:03,452]\u001b[0m Trial 97 pruned. Trial was pruned at epoch 5.\u001b[0m\n",
      "\u001b[32m[I 2022-04-20 16:07:14,242]\u001b[0m Trial 99 pruned. Trial was pruned at epoch 5.\u001b[0m\n",
      "\u001b[32m[I 2022-04-20 16:07:23,974]\u001b[0m Trial 89 pruned. Trial was pruned at epoch 15.\u001b[0m\n",
      "\u001b[32m[I 2022-04-20 16:07:24,949]\u001b[0m Trial 90 pruned. Trial was pruned at epoch 15.\u001b[0m\n",
      "\u001b[32m[I 2022-04-20 16:07:34,141]\u001b[0m Trial 64 finished with value: 0.5319806622134314 and parameters: {'num_layers': 1, 'n_units_layer_0': 15, 'dropout_rate_layer_0': 0.22083289092390723, 'actv_func_layer_0': 'elu', 'optimizer': 'Adam', 'adam_lr': 0.0004988710645655408, 'epoch': 45}. Best is trial 53 with value: 0.5800432627265518.\u001b[0m\n",
      "\u001b[32m[I 2022-04-20 16:07:34,857]\u001b[0m Trial 94 pruned. Trial was pruned at epoch 15.\u001b[0m\n",
      "\u001b[32m[I 2022-04-20 16:07:36,005]\u001b[0m Trial 95 pruned. Trial was pruned at epoch 15.\u001b[0m\n",
      "\u001b[32m[I 2022-04-20 16:07:54,546]\u001b[0m Trial 70 finished with value: 0.5328150020705329 and parameters: {'num_layers': 2, 'n_units_layer_0': 40, 'dropout_rate_layer_0': 0.1235946772656702, 'actv_func_layer_0': 'elu', 'n_units_layer_1': 40, 'dropout_rate_layer_1': 0.017585949954016467, 'actv_func_layer_1': 'tanh', 'optimizer': 'Adam', 'adam_lr': 0.008872054412365262, 'epoch': 45}. Best is trial 53 with value: 0.5800432627265518.\u001b[0m\n",
      "\u001b[32m[I 2022-04-20 16:07:55,706]\u001b[0m Trial 67 finished with value: 0.42919095702793286 and parameters: {'num_layers': 3, 'n_units_layer_0': 45, 'dropout_rate_layer_0': 0.15341955773961113, 'actv_func_layer_0': 'relu', 'n_units_layer_1': 30, 'dropout_rate_layer_1': 0.28188859953349227, 'actv_func_layer_1': 'elu', 'n_units_layer_2': 40, 'dropout_rate_layer_2': 0.4745140581652657, 'actv_func_layer_2': 'elu', 'optimizer': 'Adam', 'adam_lr': 0.015261194618719656, 'epoch': 46}. Best is trial 53 with value: 0.5800432627265518.\u001b[0m\n",
      "\u001b[32m[I 2022-04-20 16:08:10,710]\u001b[0m Trial 88 finished with value: 0.5368074155770816 and parameters: {'num_layers': 3, 'n_units_layer_0': 10, 'dropout_rate_layer_0': 0.23002391003887596, 'actv_func_layer_0': 'tanh', 'n_units_layer_1': 40, 'dropout_rate_layer_1': 0.14390795881840784, 'actv_func_layer_1': 'elu', 'n_units_layer_2': 30, 'dropout_rate_layer_2': 0.44577585525874486, 'actv_func_layer_2': 'tanh', 'optimizer': 'Adam', 'adam_lr': 0.0012350336099109286, 'epoch': 39}. Best is trial 53 with value: 0.5800432627265518.\u001b[0m\n"
     ]
    }
   ],
   "source": [
    "study = optuna.create_study(direction='maximize',\n",
    "                            sampler=optuna.samplers.RandomSampler(seed=0),\n",
    "                            pruner=optuna.pruners.HyperbandPruner(reduction_factor=3,\n",
    "                                                                  min_resource=5\n",
    "                                                                 )\n",
    "                           )\n",
    "study.optimize(lambda trial: objective(trial, df_train, use_pruner=True),\n",
    "               n_trials=100, n_jobs=-1,\n",
    "              )"
   ]
  },
  {
   "cell_type": "code",
   "execution_count": 16,
   "id": "a6cbae11-8d75-4c17-9cf2-3b633e77eecc",
   "metadata": {},
   "outputs": [
    {
     "name": "stdout",
     "output_type": "stream",
     "text": [
      "Study statistics: \n",
      "  Number of finished trials:  100\n",
      "  Number of pruned trials:  79\n",
      "  Number of complete trials:  21\n"
     ]
    }
   ],
   "source": [
    "pruned_trials = study.get_trials(deepcopy=False, states=[optuna.trial.TrialState.PRUNED])\n",
    "complete_trials = study.get_trials(deepcopy=False, states=[optuna.trial.TrialState.COMPLETE])\n",
    "print(\"Study statistics: \")\n",
    "print(\"  Number of finished trials: \", len(study.trials))\n",
    "print(\"  Number of pruned trials: \", len(pruned_trials))\n",
    "print(\"  Number of complete trials: \", len(complete_trials))"
   ]
  },
  {
   "cell_type": "code",
   "execution_count": 17,
   "id": "9005568c-92cc-413e-acf5-7f854939b504",
   "metadata": {},
   "outputs": [
    {
     "name": "stdout",
     "output_type": "stream",
     "text": [
      "Best Trial:\n",
      "    Value:  0.5800432627265518\n",
      "    Hyperparameters: \n",
      "        num_layers: 0\n",
      "        optimizer: Adam\n",
      "        adam_lr: 0.05584201313189952\n",
      "        epoch: 37\n"
     ]
    }
   ],
   "source": [
    "print(\"Best Trial:\")\n",
    "best_trial = study.best_trial\n",
    "\n",
    "print(\"    Value: \", best_trial.value)\n",
    "\n",
    "print(\"    Hyperparameters: \")\n",
    "for key, value in best_trial.params.items():\n",
    "    print(f\"        {key}: {value}\")"
   ]
  },
  {
   "cell_type": "code",
   "execution_count": 18,
   "id": "2445f209-4b1f-411d-8d07-633f453cad8f",
   "metadata": {},
   "outputs": [
    {
     "data": {
      "text/plain": [
       "{'num_layers': 0,\n",
       " 'optimizer': 'Adam',\n",
       " 'adam_lr': 0.05584201313189952,\n",
       " 'epoch': 37}"
      ]
     },
     "execution_count": 18,
     "metadata": {},
     "output_type": "execute_result"
    }
   ],
   "source": [
    "best_trial.params"
   ]
  },
  {
   "cell_type": "code",
   "execution_count": 19,
   "id": "aa44372d-bc39-422c-8ac8-da5a70d08924",
   "metadata": {},
   "outputs": [
    {
     "name": "stdout",
     "output_type": "stream",
     "text": [
      "Model: \"sequential\"\n",
      "_________________________________________________________________\n",
      "Layer (type)                 Output Shape              Param #   \n",
      "=================================================================\n",
      "dense (Dense)                (None, 51)                2652      \n",
      "_________________________________________________________________\n",
      "dense_1 (Dense)              (None, 1)                 52        \n",
      "=================================================================\n",
      "Total params: 2,704\n",
      "Trainable params: 2,704\n",
      "Non-trainable params: 0\n",
      "_________________________________________________________________\n",
      "None\n",
      "Epoch 1/37\n",
      "636/636 [==============================] - 3s 4ms/step - loss: 0.2565 - f1_m: 0.3659\n",
      "Epoch 2/37\n",
      "636/636 [==============================] - 2s 3ms/step - loss: 0.2161 - f1_m: 0.4593\n",
      "Epoch 3/37\n",
      "636/636 [==============================] - 2s 3ms/step - loss: 0.2277 - f1_m: 0.4044\n",
      "Epoch 4/37\n",
      "636/636 [==============================] - 2s 3ms/step - loss: 0.2215 - f1_m: 0.5244\n",
      "Epoch 5/37\n",
      "636/636 [==============================] - 2s 3ms/step - loss: 0.2171 - f1_m: 0.5631\n",
      "Epoch 6/37\n",
      "636/636 [==============================] - 2s 3ms/step - loss: 0.2161 - f1_m: 0.5191\n",
      "Epoch 7/37\n",
      "636/636 [==============================] - 2s 3ms/step - loss: 0.2113 - f1_m: 0.5622\n",
      "Epoch 8/37\n",
      "636/636 [==============================] - 2s 3ms/step - loss: 0.2146 - f1_m: 0.5717\n",
      "Epoch 9/37\n",
      "636/636 [==============================] - 2s 3ms/step - loss: 0.2139 - f1_m: 0.5710\n",
      "Epoch 10/37\n",
      "636/636 [==============================] - 2s 3ms/step - loss: 0.2156 - f1_m: 0.5561\n",
      "Epoch 11/37\n",
      "636/636 [==============================] - 2s 3ms/step - loss: 0.2147 - f1_m: 0.5730\n",
      "Epoch 12/37\n",
      "636/636 [==============================] - 2s 3ms/step - loss: 0.2186 - f1_m: 0.5819\n",
      "Epoch 13/37\n",
      "636/636 [==============================] - 2s 3ms/step - loss: 0.2133 - f1_m: 0.5595\n",
      "Epoch 14/37\n",
      "636/636 [==============================] - 2s 3ms/step - loss: 0.2152 - f1_m: 0.5700\n",
      "Epoch 15/37\n",
      "636/636 [==============================] - 2s 3ms/step - loss: 0.2144 - f1_m: 0.5834\n",
      "Epoch 16/37\n",
      "636/636 [==============================] - 2s 3ms/step - loss: 0.2196 - f1_m: 0.5840\n",
      "Epoch 17/37\n",
      "636/636 [==============================] - 2s 3ms/step - loss: 0.2167 - f1_m: 0.5978\n",
      "Epoch 18/37\n",
      "636/636 [==============================] - 2s 3ms/step - loss: 0.2125 - f1_m: 0.5863\n",
      "Epoch 19/37\n",
      "636/636 [==============================] - 1s 2ms/step - loss: 0.2130 - f1_m: 0.4624\n",
      "Epoch 20/37\n",
      "636/636 [==============================] - 1s 2ms/step - loss: 0.2114 - f1_m: 0.5742\n",
      "Epoch 21/37\n",
      "636/636 [==============================] - 1s 2ms/step - loss: 0.2082 - f1_m: 0.5861\n",
      "Epoch 22/37\n",
      "636/636 [==============================] - 1s 2ms/step - loss: 0.2155 - f1_m: 0.5936\n",
      "Epoch 23/37\n",
      "636/636 [==============================] - 2s 3ms/step - loss: 0.2087 - f1_m: 0.5781\n",
      "Epoch 24/37\n",
      "636/636 [==============================] - 2s 4ms/step - loss: 0.2085 - f1_m: 0.5754\n",
      "Epoch 25/37\n",
      "636/636 [==============================] - 2s 3ms/step - loss: 0.2132 - f1_m: 0.5913\n",
      "Epoch 26/37\n",
      "636/636 [==============================] - 2s 2ms/step - loss: 0.2141 - f1_m: 0.5871\n",
      "Epoch 27/37\n",
      "636/636 [==============================] - 1s 2ms/step - loss: 0.2103 - f1_m: 0.5285\n",
      "Epoch 28/37\n",
      "636/636 [==============================] - 1s 2ms/step - loss: 0.2090 - f1_m: 0.5959\n",
      "Epoch 29/37\n",
      "636/636 [==============================] - 1s 2ms/step - loss: 0.2056 - f1_m: 0.5898\n",
      "Epoch 30/37\n",
      "636/636 [==============================] - 1s 2ms/step - loss: 0.2126 - f1_m: 0.5532\n",
      "Epoch 31/37\n",
      "636/636 [==============================] - 1s 2ms/step - loss: 0.2144 - f1_m: 0.5911\n",
      "Epoch 32/37\n",
      "636/636 [==============================] - 1s 2ms/step - loss: 0.2098 - f1_m: 0.5970\n",
      "Epoch 33/37\n",
      "636/636 [==============================] - 1s 2ms/step - loss: 0.2127 - f1_m: 0.5846\n",
      "Epoch 34/37\n",
      "636/636 [==============================] - 2s 3ms/step - loss: 0.2127 - f1_m: 0.5809\n",
      "Epoch 35/37\n",
      "636/636 [==============================] - 2s 2ms/step - loss: 0.2102 - f1_m: 0.5619\n",
      "Epoch 36/37\n",
      "636/636 [==============================] - 1s 2ms/step - loss: 0.2114 - f1_m: 0.5959\n",
      "Epoch 37/37\n",
      "636/636 [==============================] - 1s 2ms/step - loss: 0.2093 - f1_m: 0.5846\n",
      "====================================================================================================\n",
      "F1-Score on Test Data:  0.609841827768014\n"
     ]
    }
   ],
   "source": [
    "train_and_evaluate_final(df_train, df_test, **best_trial.params)"
   ]
  },
  {
   "cell_type": "code",
   "execution_count": null,
   "id": "10f9c089-67ff-43f9-a187-1a25177464e7",
   "metadata": {},
   "outputs": [],
   "source": []
  }
 ],
 "metadata": {
  "kernelspec": {
   "display_name": "Python 3",
   "language": "python",
   "name": "python3"
  },
  "language_info": {
   "codemirror_mode": {
    "name": "ipython",
    "version": 3
   },
   "file_extension": ".py",
   "mimetype": "text/x-python",
   "name": "python",
   "nbconvert_exporter": "python",
   "pygments_lexer": "ipython3",
   "version": "3.7.10"
  }
 },
 "nbformat": 4,
 "nbformat_minor": 5
}
